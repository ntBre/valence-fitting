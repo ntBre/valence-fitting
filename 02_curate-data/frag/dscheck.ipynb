{
 "cells": [
  {
   "cell_type": "code",
   "execution_count": 1,
   "id": "fb681b13-09c4-4757-bc6a-457608e78f3e",
   "metadata": {},
   "outputs": [],
   "source": [
    "!export OE_LICENSE=/home/brent/oe_license.txt"
   ]
  },
  {
   "cell_type": "code",
   "execution_count": 2,
   "id": "d104fac7-c5f2-42ee-9130-3678e80894a2",
   "metadata": {},
   "outputs": [],
   "source": [
    "from openff.toolkit import Molecule, ForceField\n",
    "ff = ForceField(\"/home/brent/omsf/projects/valence-fitting/01_generate-forcefield/output/initial-force-field-openff-2.1.0.offxml\")"
   ]
  },
  {
   "cell_type": "markdown",
   "id": "35e97869-cc9a-4e92-87da-87f6eeca6464",
   "metadata": {},
   "source": [
    "Interactively prompt for lines like `t158i [*:1]-[#16X3+1:2]-[#16X2:3]-[*:4] C[S+](C)S` and compare the SMILES\n",
    "in the third field against the matching parameter ID in ff defined above."
   ]
  },
  {
   "cell_type": "code",
   "execution_count": null,
   "id": "9845af20-7a55-47db-9cda-c253e2b78ec1",
   "metadata": {},
   "outputs": [
    {
     "name": "stdin",
     "output_type": "stream",
     "text": [
      " t131g [#1:1]-[#7X4:2]-[#7X4:3]-[#1:4] [NH3+][NH3+]\n"
     ]
    },
    {
     "name": "stdout",
     "output_type": "stream",
     "text": [
      "matched!\n"
     ]
    },
    {
     "data": {
      "application/vnd.jupyter.widget-view+json": {
       "model_id": "165c2d4e7b464f9aadb4338fd4c845ea",
       "version_major": 2,
       "version_minor": 0
      },
      "text/plain": []
     },
     "metadata": {},
     "output_type": "display_data"
    },
    {
     "data": {
      "image/svg+xml": [
       "<svg xmlns=\"http://www.w3.org/2000/svg\" xmlns:rdkit=\"http://www.rdkit.org/xml\" xmlns:xlink=\"http://www.w3.org/1999/xlink\" version=\"1.1\" baseProfile=\"full\" xml:space=\"preserve\" width=\"500px\" height=\"300px\" viewBox=\"0 0 500 300\">\n",
       "<!-- END OF HEADER -->\n",
       "<rect style=\"opacity:1.0;fill:#FFFFFF;stroke:none\" width=\"500.0\" height=\"300.0\" x=\"0.0\" y=\"0.0\"> </rect>\n",
       "<path class=\"bond-0 atom-0 atom-1\" d=\"M 280.1,167.5 L 219.9,132.5\" style=\"fill:none;fill-rule:evenodd;stroke:#0000FF;stroke-width:2.0px;stroke-linecap:butt;stroke-linejoin:miter;stroke-opacity:1\"/>\n",
       "<path class=\"bond-1 atom-0 atom-2\" d=\"M 284.0,193.3 L 268.4,220.0\" style=\"fill:none;fill-rule:evenodd;stroke:#0000FF;stroke-width:2.0px;stroke-linecap:butt;stroke-linejoin:miter;stroke-opacity:1\"/>\n",
       "<path class=\"bond-1 atom-0 atom-2\" d=\"M 268.4,220.0 L 252.9,246.6\" style=\"fill:none;fill-rule:evenodd;stroke:#000000;stroke-width:2.0px;stroke-linecap:butt;stroke-linejoin:miter;stroke-opacity:1\"/>\n",
       "<path class=\"bond-2 atom-0 atom-3\" d=\"M 304.2,193.3 L 319.6,220.2\" style=\"fill:none;fill-rule:evenodd;stroke:#0000FF;stroke-width:2.0px;stroke-linecap:butt;stroke-linejoin:miter;stroke-opacity:1\"/>\n",
       "<path class=\"bond-2 atom-0 atom-3\" d=\"M 319.6,220.2 L 334.9,247.1\" style=\"fill:none;fill-rule:evenodd;stroke:#000000;stroke-width:2.0px;stroke-linecap:butt;stroke-linejoin:miter;stroke-opacity:1\"/>\n",
       "<path class=\"bond-3 atom-0 atom-4\" d=\"M 325.2,158.1 L 346.9,145.7\" style=\"fill:none;fill-rule:evenodd;stroke:#0000FF;stroke-width:2.0px;stroke-linecap:butt;stroke-linejoin:miter;stroke-opacity:1\"/>\n",
       "<path class=\"bond-3 atom-0 atom-4\" d=\"M 346.9,145.7 L 368.6,133.3\" style=\"fill:none;fill-rule:evenodd;stroke:#000000;stroke-width:2.0px;stroke-linecap:butt;stroke-linejoin:miter;stroke-opacity:1\"/>\n",
       "<path class=\"bond-4 atom-1 atom-5\" d=\"M 216.0,106.7 L 231.6,80.0\" style=\"fill:none;fill-rule:evenodd;stroke:#0000FF;stroke-width:2.0px;stroke-linecap:butt;stroke-linejoin:miter;stroke-opacity:1\"/>\n",
       "<path class=\"bond-4 atom-1 atom-5\" d=\"M 231.6,80.0 L 247.1,53.4\" style=\"fill:none;fill-rule:evenodd;stroke:#000000;stroke-width:2.0px;stroke-linecap:butt;stroke-linejoin:miter;stroke-opacity:1\"/>\n",
       "<path class=\"bond-5 atom-1 atom-6\" d=\"M 195.8,106.7 L 180.4,79.8\" style=\"fill:none;fill-rule:evenodd;stroke:#0000FF;stroke-width:2.0px;stroke-linecap:butt;stroke-linejoin:miter;stroke-opacity:1\"/>\n",
       "<path class=\"bond-5 atom-1 atom-6\" d=\"M 180.4,79.8 L 165.1,52.9\" style=\"fill:none;fill-rule:evenodd;stroke:#000000;stroke-width:2.0px;stroke-linecap:butt;stroke-linejoin:miter;stroke-opacity:1\"/>\n",
       "<path class=\"bond-6 atom-1 atom-7\" d=\"M 191.7,132.3 L 161.5,149.5\" style=\"fill:none;fill-rule:evenodd;stroke:#0000FF;stroke-width:2.0px;stroke-linecap:butt;stroke-linejoin:miter;stroke-opacity:1\"/>\n",
       "<path class=\"bond-6 atom-1 atom-7\" d=\"M 161.5,149.5 L 131.4,166.7\" style=\"fill:none;fill-rule:evenodd;stroke:#000000;stroke-width:2.0px;stroke-linecap:butt;stroke-linejoin:miter;stroke-opacity:1\"/>\n",
       "<path class=\"atom-0\" d=\"M 287.9 161.6 L 297.2 176.6 Q 298.1 178.1, 299.6 180.8 Q 301.1 183.4, 301.2 183.6 L 301.2 161.6 L 304.9 161.6 L 304.9 189.9 L 301.1 189.9 L 291.1 173.5 Q 289.9 171.6, 288.7 169.4 Q 287.5 167.2, 287.1 166.5 L 287.1 189.9 L 283.5 189.9 L 283.5 161.6 L 287.9 161.6 \" fill=\"#0000FF\"/>\n",
       "<path class=\"atom-0\" d=\"M 310.3 166.7 L 315.3 166.7 L 315.3 161.5 L 317.5 161.5 L 317.5 166.7 L 322.6 166.7 L 322.6 168.6 L 317.5 168.6 L 317.5 173.9 L 315.3 173.9 L 315.3 168.6 L 310.3 168.6 L 310.3 166.7 \" fill=\"#0000FF\"/>\n",
       "<path class=\"atom-1\" d=\"M 199.5 110.1 L 208.8 125.1 Q 209.7 126.6, 211.2 129.2 Q 212.7 131.9, 212.8 132.1 L 212.8 110.1 L 216.5 110.1 L 216.5 138.4 L 212.7 138.4 L 202.7 122.0 Q 201.5 120.1, 200.3 117.9 Q 199.1 115.7, 198.7 115.0 L 198.7 138.4 L 195.1 138.4 L 195.1 110.1 L 199.5 110.1 \" fill=\"#0000FF\"/>\n",
       "<path class=\"atom-1\" d=\"M 221.9 115.2 L 226.9 115.2 L 226.9 109.9 L 229.1 109.9 L 229.1 115.2 L 234.2 115.2 L 234.2 117.1 L 229.1 117.1 L 229.1 122.4 L 226.9 122.4 L 226.9 117.1 L 221.9 117.1 L 221.9 115.2 \" fill=\"#0000FF\"/>\n",
       "<path class=\"atom-2\" d=\"M 231.6 250.0 L 235.4 250.0 L 235.4 262.0 L 249.9 262.0 L 249.9 250.0 L 253.7 250.0 L 253.7 278.3 L 249.9 278.3 L 249.9 265.2 L 235.4 265.2 L 235.4 278.3 L 231.6 278.3 L 231.6 250.0 \" fill=\"#000000\"/>\n",
       "<path class=\"atom-3\" d=\"M 333.9 250.5 L 337.7 250.5 L 337.7 262.5 L 352.2 262.5 L 352.2 250.5 L 356.0 250.5 L 356.0 278.8 L 352.2 278.8 L 352.2 265.7 L 337.7 265.7 L 337.7 278.8 L 333.9 278.8 L 333.9 250.5 \" fill=\"#000000\"/>\n",
       "<path class=\"atom-4\" d=\"M 372.0 110.9 L 375.8 110.9 L 375.8 122.9 L 390.3 122.9 L 390.3 110.9 L 394.1 110.9 L 394.1 139.2 L 390.3 139.2 L 390.3 126.1 L 375.8 126.1 L 375.8 139.2 L 372.0 139.2 L 372.0 110.9 \" fill=\"#000000\"/>\n",
       "<path class=\"atom-5\" d=\"M 246.3 21.7 L 250.1 21.7 L 250.1 33.7 L 264.6 33.7 L 264.6 21.7 L 268.4 21.7 L 268.4 50.0 L 264.6 50.0 L 264.6 36.9 L 250.1 36.9 L 250.1 50.0 L 246.3 50.0 L 246.3 21.7 \" fill=\"#000000\"/>\n",
       "<path class=\"atom-6\" d=\"M 144.0 21.2 L 147.8 21.2 L 147.8 33.3 L 162.3 33.3 L 162.3 21.2 L 166.1 21.2 L 166.1 49.5 L 162.3 49.5 L 162.3 36.5 L 147.8 36.5 L 147.8 49.5 L 144.0 49.5 L 144.0 21.2 \" fill=\"#000000\"/>\n",
       "<path class=\"atom-7\" d=\"M 105.9 160.8 L 109.7 160.8 L 109.7 172.9 L 124.2 172.9 L 124.2 160.8 L 128.0 160.8 L 128.0 189.1 L 124.2 189.1 L 124.2 176.1 L 109.7 176.1 L 109.7 189.1 L 105.9 189.1 L 105.9 160.8 \" fill=\"#000000\"/>\n",
       "</svg>"
      ],
      "text/plain": [
       "<IPython.core.display.SVG object>"
      ]
     },
     "metadata": {},
     "output_type": "display_data"
    },
    {
     "name": "stdin",
     "output_type": "stream",
     "text": [
      " t131g [#1:1]-[#7X4:2]-[#7X4:3]-[#1:4] C[NH+](C)(C)[NH+](C)(C)C\n"
     ]
    },
    {
     "name": "stdout",
     "output_type": "stream",
     "text": [
      "[]\n"
     ]
    },
    {
     "name": "stderr",
     "output_type": "stream",
     "text": [
      "[12:29:18] Explicit valence for atom # 1 N, 4, is greater than permitted\n"
     ]
    },
    {
     "data": {
      "image/png": "[encoded data removed]",
      "text/plain": [
       "<IPython.core.display.Image object>"
      ]
     },
     "metadata": {},
     "output_type": "display_data"
    },
    {
     "name": "stdin",
     "output_type": "stream",
     "text": [
      " t131g [#1:1]-[#7X4:2]-[#7X4:3]-[#1:4] C[NH+](C)[NH+](C)C\n"
     ]
    },
    {
     "name": "stdout",
     "output_type": "stream",
     "text": [
      "matched!\n"
     ]
    },
    {
     "data": {
      "image/svg+xml": [
       "<svg xmlns=\"http://www.w3.org/2000/svg\" xmlns:rdkit=\"http://www.rdkit.org/xml\" xmlns:xlink=\"http://www.w3.org/1999/xlink\" version=\"1.1\" baseProfile=\"full\" xml:space=\"preserve\" width=\"500px\" height=\"300px\" viewBox=\"0 0 500 300\">\n",
       "<!-- END OF HEADER -->\n",
       "<rect style=\"opacity:1.0;fill:#FFFFFF;stroke:none\" width=\"500.0\" height=\"300.0\" x=\"0.0\" y=\"0.0\"> </rect>\n",
       "<path class=\"bond-0 atom-0 atom-1\" d=\"M 187.8,220.8 L 202.9,205.6\" style=\"fill:none;fill-rule:evenodd;stroke:#000000;stroke-width:2.0px;stroke-linecap:butt;stroke-linejoin:miter;stroke-opacity:1\"/>\n",
       "<path class=\"bond-0 atom-0 atom-1\" d=\"M 202.9,205.6 L 218.1,190.4\" style=\"fill:none;fill-rule:evenodd;stroke:#0000FF;stroke-width:2.0px;stroke-linecap:butt;stroke-linejoin:miter;stroke-opacity:1\"/>\n",
       "<path class=\"bond-1 atom-1 atom-2\" d=\"M 240.3,188.9 L 258.5,204.8\" style=\"fill:none;fill-rule:evenodd;stroke:#0000FF;stroke-width:2.0px;stroke-linecap:butt;stroke-linejoin:miter;stroke-opacity:1\"/>\n",
       "<path class=\"bond-1 atom-1 atom-2\" d=\"M 258.5,204.8 L 276.7,220.6\" style=\"fill:none;fill-rule:evenodd;stroke:#000000;stroke-width:2.0px;stroke-linecap:butt;stroke-linejoin:miter;stroke-opacity:1\"/>\n",
       "<path class=\"bond-2 atom-1 atom-3\" d=\"M 240.3,166.0 L 264.1,137.6\" style=\"fill:none;fill-rule:evenodd;stroke:#0000FF;stroke-width:2.0px;stroke-linecap:butt;stroke-linejoin:miter;stroke-opacity:1\"/>\n",
       "<path class=\"bond-3 atom-3 atom-4\" d=\"M 288.7,110.2 L 301.1,97.3\" style=\"fill:none;fill-rule:evenodd;stroke:#0000FF;stroke-width:2.0px;stroke-linecap:butt;stroke-linejoin:miter;stroke-opacity:1\"/>\n",
       "<path class=\"bond-3 atom-3 atom-4\" d=\"M 301.1,97.3 L 313.4,84.5\" style=\"fill:none;fill-rule:evenodd;stroke:#000000;stroke-width:2.0px;stroke-linecap:butt;stroke-linejoin:miter;stroke-opacity:1\"/>\n",
       "<path class=\"bond-4 atom-3 atom-5\" d=\"M 264.1,111.7 L 250.0,95.6\" style=\"fill:none;fill-rule:evenodd;stroke:#0000FF;stroke-width:2.0px;stroke-linecap:butt;stroke-linejoin:miter;stroke-opacity:1\"/>\n",
       "<path class=\"bond-4 atom-3 atom-5\" d=\"M 250.0,95.6 L 236.0,79.5\" style=\"fill:none;fill-rule:evenodd;stroke:#000000;stroke-width:2.0px;stroke-linecap:butt;stroke-linejoin:miter;stroke-opacity:1\"/>\n",
       "<path class=\"bond-5 atom-0 atom-6\" d=\"M 187.8,220.8 L 158.7,191.1\" style=\"fill:none;fill-rule:evenodd;stroke:#000000;stroke-width:2.0px;stroke-linecap:butt;stroke-linejoin:miter;stroke-opacity:1\"/>\n",
       "<path class=\"bond-6 atom-0 atom-7\" d=\"M 187.8,220.8 L 143.5,231.4\" style=\"fill:none;fill-rule:evenodd;stroke:#000000;stroke-width:2.0px;stroke-linecap:butt;stroke-linejoin:miter;stroke-opacity:1\"/>\n",
       "<path class=\"bond-7 atom-0 atom-8\" d=\"M 187.8,220.8 L 196.5,259.7\" style=\"fill:none;fill-rule:evenodd;stroke:#000000;stroke-width:2.0px;stroke-linecap:butt;stroke-linejoin:miter;stroke-opacity:1\"/>\n",
       "<path class=\"bond-8 atom-1 atom-9\" d=\"M 218.1,171.2 L 207.4,163.6\" style=\"fill:none;fill-rule:evenodd;stroke:#0000FF;stroke-width:2.0px;stroke-linecap:butt;stroke-linejoin:miter;stroke-opacity:1\"/>\n",
       "<path class=\"bond-8 atom-1 atom-9\" d=\"M 207.4,163.6 L 196.7,155.9\" style=\"fill:none;fill-rule:evenodd;stroke:#000000;stroke-width:2.0px;stroke-linecap:butt;stroke-linejoin:miter;stroke-opacity:1\"/>\n",
       "<path class=\"bond-9 atom-2 atom-10\" d=\"M 276.7,220.6 L 254.9,248.8\" style=\"fill:none;fill-rule:evenodd;stroke:#000000;stroke-width:2.0px;stroke-linecap:butt;stroke-linejoin:miter;stroke-opacity:1\"/>\n",
       "<path class=\"bond-10 atom-2 atom-11\" d=\"M 276.7,220.6 L 290.9,260.1\" style=\"fill:none;fill-rule:evenodd;stroke:#000000;stroke-width:2.0px;stroke-linecap:butt;stroke-linejoin:miter;stroke-opacity:1\"/>\n",
       "<path class=\"bond-11 atom-2 atom-12\" d=\"M 276.7,220.6 L 317.9,207.6\" style=\"fill:none;fill-rule:evenodd;stroke:#000000;stroke-width:2.0px;stroke-linecap:butt;stroke-linejoin:miter;stroke-opacity:1\"/>\n",
       "<path class=\"bond-12 atom-3 atom-13\" d=\"M 286.3,133.7 L 296.2,142.0\" style=\"fill:none;fill-rule:evenodd;stroke:#0000FF;stroke-width:2.0px;stroke-linecap:butt;stroke-linejoin:miter;stroke-opacity:1\"/>\n",
       "<path class=\"bond-12 atom-3 atom-13\" d=\"M 296.2,142.0 L 306.1,150.3\" style=\"fill:none;fill-rule:evenodd;stroke:#000000;stroke-width:2.0px;stroke-linecap:butt;stroke-linejoin:miter;stroke-opacity:1\"/>\n",
       "<path class=\"bond-13 atom-4 atom-14\" d=\"M 313.4,84.5 L 343.1,113.3\" style=\"fill:none;fill-rule:evenodd;stroke:#000000;stroke-width:2.0px;stroke-linecap:butt;stroke-linejoin:miter;stroke-opacity:1\"/>\n",
       "<path class=\"bond-14 atom-4 atom-15\" d=\"M 313.4,84.5 L 356.5,71.8\" style=\"fill:none;fill-rule:evenodd;stroke:#000000;stroke-width:2.0px;stroke-linecap:butt;stroke-linejoin:miter;stroke-opacity:1\"/>\n",
       "<path class=\"bond-15 atom-4 atom-16\" d=\"M 313.4,84.5 L 301.0,43.9\" style=\"fill:none;fill-rule:evenodd;stroke:#000000;stroke-width:2.0px;stroke-linecap:butt;stroke-linejoin:miter;stroke-opacity:1\"/>\n",
       "<path class=\"bond-16 atom-5 atom-17\" d=\"M 236.0,79.5 L 219.1,96.4\" style=\"fill:none;fill-rule:evenodd;stroke:#000000;stroke-width:2.0px;stroke-linecap:butt;stroke-linejoin:miter;stroke-opacity:1\"/>\n",
       "<path class=\"bond-17 atom-5 atom-18\" d=\"M 236.0,79.5 L 192.1,70.3\" style=\"fill:none;fill-rule:evenodd;stroke:#000000;stroke-width:2.0px;stroke-linecap:butt;stroke-linejoin:miter;stroke-opacity:1\"/>\n",
       "<path class=\"bond-18 atom-5 atom-19\" d=\"M 236.0,79.5 L 246.7,39.9\" style=\"fill:none;fill-rule:evenodd;stroke:#000000;stroke-width:2.0px;stroke-linecap:butt;stroke-linejoin:miter;stroke-opacity:1\"/>\n",
       "<path class=\"atom-1\" d=\"M 223.8 167.1 L 231.8 180.0 Q 232.6 181.3, 233.9 183.6 Q 235.1 185.9, 235.2 186.0 L 235.2 167.1 L 238.4 167.1 L 238.4 191.4 L 235.1 191.4 L 226.5 177.3 Q 225.5 175.7, 224.5 173.8 Q 223.4 171.9, 223.1 171.3 L 223.1 191.4 L 220.0 191.4 L 220.0 167.1 L 223.8 167.1 \" fill=\"#0000FF\"/>\n",
       "<path class=\"atom-1\" d=\"M 243.0 171.5 L 247.3 171.5 L 247.3 166.9 L 249.2 166.9 L 249.2 171.5 L 253.6 171.5 L 253.6 173.1 L 249.2 173.1 L 249.2 177.6 L 247.3 177.6 L 247.3 173.1 L 243.0 173.1 L 243.0 171.5 \" fill=\"#0000FF\"/>\n",
       "<path class=\"atom-3\" d=\"M 269.8 112.2 L 277.8 125.1 Q 278.6 126.4, 279.8 128.7 Q 281.1 131.0, 281.2 131.1 L 281.2 112.2 L 284.4 112.2 L 284.4 136.6 L 281.1 136.6 L 272.5 122.5 Q 271.5 120.8, 270.4 118.9 Q 269.4 117.0, 269.1 116.4 L 269.1 136.6 L 265.9 136.6 L 265.9 112.2 L 269.8 112.2 \" fill=\"#0000FF\"/>\n",
       "<path class=\"atom-3\" d=\"M 289.0 116.6 L 293.3 116.6 L 293.3 112.1 L 295.2 112.1 L 295.2 116.6 L 299.6 116.6 L 299.6 118.2 L 295.2 118.2 L 295.2 122.8 L 293.3 122.8 L 293.3 118.2 L 289.0 118.2 L 289.0 116.6 \" fill=\"#0000FF\"/>\n",
       "<path class=\"atom-6\" d=\"M 137.8 167.3 L 141.1 167.3 L 141.1 177.6 L 153.5 177.6 L 153.5 167.3 L 156.8 167.3 L 156.8 191.6 L 153.5 191.6 L 153.5 180.4 L 141.1 180.4 L 141.1 191.6 L 137.8 191.6 L 137.8 167.3 \" fill=\"#000000\"/>\n",
       "<path class=\"atom-7\" d=\"M 122.6 222.0 L 125.9 222.0 L 125.9 232.3 L 138.4 232.3 L 138.4 222.0 L 141.7 222.0 L 141.7 246.3 L 138.4 246.3 L 138.4 235.1 L 125.9 235.1 L 125.9 246.3 L 122.6 246.3 L 122.6 222.0 \" fill=\"#000000\"/>\n",
       "<path class=\"atom-8\" d=\"M 190.1 261.6 L 193.4 261.6 L 193.4 272.0 L 205.8 272.0 L 205.8 261.6 L 209.1 261.6 L 209.1 286.0 L 205.8 286.0 L 205.8 274.7 L 193.4 274.7 L 193.4 286.0 L 190.1 286.0 L 190.1 261.6 \" fill=\"#000000\"/>\n",
       "<path class=\"atom-9\" d=\"M 175.8 135.5 L 179.1 135.5 L 179.1 145.8 L 191.6 145.8 L 191.6 135.5 L 194.9 135.5 L 194.9 159.8 L 191.6 159.8 L 191.6 148.6 L 179.1 148.6 L 179.1 159.8 L 175.8 159.8 L 175.8 135.5 \" fill=\"#000000\"/>\n",
       "<path class=\"atom-10\" d=\"M 234.5 250.7 L 237.8 250.7 L 237.8 261.0 L 250.3 261.0 L 250.3 250.7 L 253.6 250.7 L 253.6 275.0 L 250.3 275.0 L 250.3 263.8 L 237.8 263.8 L 237.8 275.0 L 234.5 275.0 L 234.5 250.7 \" fill=\"#000000\"/>\n",
       "<path class=\"atom-11\" d=\"M 286.5 262.0 L 289.8 262.0 L 289.8 272.4 L 302.2 272.4 L 302.2 262.0 L 305.5 262.0 L 305.5 286.4 L 302.2 286.4 L 302.2 275.1 L 289.8 275.1 L 289.8 286.4 L 286.5 286.4 L 286.5 262.0 \" fill=\"#000000\"/>\n",
       "<path class=\"atom-12\" d=\"M 319.8 191.9 L 323.1 191.9 L 323.1 202.2 L 335.5 202.2 L 335.5 191.9 L 338.8 191.9 L 338.8 216.2 L 335.5 216.2 L 335.5 205.0 L 323.1 205.0 L 323.1 216.2 L 319.8 216.2 L 319.8 191.9 \" fill=\"#000000\"/>\n",
       "<path class=\"atom-13\" d=\"M 307.9 147.6 L 311.2 147.6 L 311.2 158.0 L 323.7 158.0 L 323.7 147.6 L 327.0 147.6 L 327.0 172.0 L 323.7 172.0 L 323.7 160.8 L 311.2 160.8 L 311.2 172.0 L 307.9 172.0 L 307.9 147.6 \" fill=\"#000000\"/>\n",
       "<path class=\"atom-14\" d=\"M 345.0 112.2 L 348.3 112.2 L 348.3 122.5 L 360.8 122.5 L 360.8 112.2 L 364.1 112.2 L 364.1 136.5 L 360.8 136.5 L 360.8 125.3 L 348.3 125.3 L 348.3 136.5 L 345.0 136.5 L 345.0 112.2 \" fill=\"#000000\"/>\n",
       "<path class=\"atom-15\" d=\"M 358.3 56.3 L 361.6 56.3 L 361.6 66.7 L 374.1 66.7 L 374.1 56.3 L 377.4 56.3 L 377.4 80.7 L 374.1 80.7 L 374.1 69.4 L 361.6 69.4 L 361.6 80.7 L 358.3 80.7 L 358.3 56.3 \" fill=\"#000000\"/>\n",
       "<path class=\"atom-16\" d=\"M 287.2 17.7 L 290.5 17.7 L 290.5 28.0 L 303.0 28.0 L 303.0 17.7 L 306.3 17.7 L 306.3 42.0 L 303.0 42.0 L 303.0 30.8 L 290.5 30.8 L 290.5 42.0 L 287.2 42.0 L 287.2 17.7 \" fill=\"#000000\"/>\n",
       "<path class=\"atom-17\" d=\"M 198.2 95.6 L 201.5 95.6 L 201.5 105.9 L 213.9 105.9 L 213.9 95.6 L 217.2 95.6 L 217.2 119.9 L 213.9 119.9 L 213.9 108.7 L 201.5 108.7 L 201.5 119.9 L 198.2 119.9 L 198.2 95.6 \" fill=\"#000000\"/>\n",
       "<path class=\"atom-18\" d=\"M 171.2 55.8 L 174.5 55.8 L 174.5 66.1 L 186.9 66.1 L 186.9 55.8 L 190.2 55.8 L 190.2 80.1 L 186.9 80.1 L 186.9 68.9 L 174.5 68.9 L 174.5 80.1 L 171.2 80.1 L 171.2 55.8 \" fill=\"#000000\"/>\n",
       "<path class=\"atom-19\" d=\"M 241.0 13.6 L 244.3 13.6 L 244.3 24.0 L 256.7 24.0 L 256.7 13.6 L 260.0 13.6 L 260.0 38.0 L 256.7 38.0 L 256.7 26.7 L 244.3 26.7 L 244.3 38.0 L 241.0 38.0 L 241.0 13.6 \" fill=\"#000000\"/>\n",
       "</svg>"
      ],
      "text/plain": [
       "<IPython.core.display.SVG object>"
      ]
     },
     "metadata": {},
     "output_type": "display_data"
    },
    {
     "name": "stdin",
     "output_type": "stream",
     "text": [
      " t144g [#6X4:1]-[#16X4:2]-[#7X4:3]-[#1:4] CS(=O)(=O)[NH3+]\n"
     ]
    },
    {
     "name": "stdout",
     "output_type": "stream",
     "text": [
      "matched!\n"
     ]
    },
    {
     "data": {
      "image/svg+xml": [
       "<svg xmlns=\"http://www.w3.org/2000/svg\" xmlns:rdkit=\"http://www.rdkit.org/xml\" xmlns:xlink=\"http://www.w3.org/1999/xlink\" version=\"1.1\" baseProfile=\"full\" xml:space=\"preserve\" width=\"500px\" height=\"300px\" viewBox=\"0 0 500 300\">\n",
       "<!-- END OF HEADER -->\n",
       "<rect style=\"opacity:1.0;fill:#FFFFFF;stroke:none\" width=\"500.0\" height=\"300.0\" x=\"0.0\" y=\"0.0\"> </rect>\n",
       "<path class=\"bond-0 atom-0 atom-1\" d=\"M 138.2,150.0 L 187.7,149.9\" style=\"fill:none;fill-rule:evenodd;stroke:#000000;stroke-width:2.0px;stroke-linecap:butt;stroke-linejoin:miter;stroke-opacity:1\"/>\n",
       "<path class=\"bond-0 atom-0 atom-1\" d=\"M 187.7,149.9 L 237.2,149.8\" style=\"fill:none;fill-rule:evenodd;stroke:#CCCC00;stroke-width:2.0px;stroke-linecap:butt;stroke-linejoin:miter;stroke-opacity:1\"/>\n",
       "<path class=\"bond-1 atom-1 atom-2\" d=\"M 258.3,132.0 L 258.3,94.2\" style=\"fill:none;fill-rule:evenodd;stroke:#CCCC00;stroke-width:2.0px;stroke-linecap:butt;stroke-linejoin:miter;stroke-opacity:1\"/>\n",
       "<path class=\"bond-1 atom-1 atom-2\" d=\"M 258.3,94.2 L 258.2,56.4\" style=\"fill:none;fill-rule:evenodd;stroke:#FF0000;stroke-width:2.0px;stroke-linecap:butt;stroke-linejoin:miter;stroke-opacity:1\"/>\n",
       "<path class=\"bond-1 atom-1 atom-2\" d=\"M 241.6,132.0 L 241.5,94.2\" style=\"fill:none;fill-rule:evenodd;stroke:#CCCC00;stroke-width:2.0px;stroke-linecap:butt;stroke-linejoin:miter;stroke-opacity:1\"/>\n",
       "<path class=\"bond-1 atom-1 atom-2\" d=\"M 241.5,94.2 L 241.4,56.5\" style=\"fill:none;fill-rule:evenodd;stroke:#FF0000;stroke-width:2.0px;stroke-linecap:butt;stroke-linejoin:miter;stroke-opacity:1\"/>\n",
       "<path class=\"bond-2 atom-1 atom-3\" d=\"M 241.7,168.4 L 241.7,206.0\" style=\"fill:none;fill-rule:evenodd;stroke:#CCCC00;stroke-width:2.0px;stroke-linecap:butt;stroke-linejoin:miter;stroke-opacity:1\"/>\n",
       "<path class=\"bond-2 atom-1 atom-3\" d=\"M 241.7,206.0 L 241.8,243.6\" style=\"fill:none;fill-rule:evenodd;stroke:#FF0000;stroke-width:2.0px;stroke-linecap:butt;stroke-linejoin:miter;stroke-opacity:1\"/>\n",
       "<path class=\"bond-2 atom-1 atom-3\" d=\"M 258.4,168.3 L 258.5,205.9\" style=\"fill:none;fill-rule:evenodd;stroke:#CCCC00;stroke-width:2.0px;stroke-linecap:butt;stroke-linejoin:miter;stroke-opacity:1\"/>\n",
       "<path class=\"bond-2 atom-1 atom-3\" d=\"M 258.5,205.9 L 258.6,243.5\" style=\"fill:none;fill-rule:evenodd;stroke:#FF0000;stroke-width:2.0px;stroke-linecap:butt;stroke-linejoin:miter;stroke-opacity:1\"/>\n",
       "<path class=\"bond-3 atom-1 atom-4\" d=\"M 262.8,149.8 L 305.1,149.7\" style=\"fill:none;fill-rule:evenodd;stroke:#CCCC00;stroke-width:2.0px;stroke-linecap:butt;stroke-linejoin:miter;stroke-opacity:1\"/>\n",
       "<path class=\"bond-3 atom-1 atom-4\" d=\"M 305.1,149.7 L 347.4,149.6\" style=\"fill:none;fill-rule:evenodd;stroke:#0000FF;stroke-width:2.0px;stroke-linecap:butt;stroke-linejoin:miter;stroke-opacity:1\"/>\n",
       "<path class=\"bond-4 atom-0 atom-5\" d=\"M 138.2,150.0 L 138.0,56.1\" style=\"fill:none;fill-rule:evenodd;stroke:#000000;stroke-width:2.0px;stroke-linecap:butt;stroke-linejoin:miter;stroke-opacity:1\"/>\n",
       "<path class=\"bond-5 atom-0 atom-6\" d=\"M 138.2,150.0 L 56.1,102.8\" style=\"fill:none;fill-rule:evenodd;stroke:#000000;stroke-width:2.0px;stroke-linecap:butt;stroke-linejoin:miter;stroke-opacity:1\"/>\n",
       "<path class=\"bond-6 atom-0 atom-7\" d=\"M 138.2,150.0 L 92.8,229.1\" style=\"fill:none;fill-rule:evenodd;stroke:#000000;stroke-width:2.0px;stroke-linecap:butt;stroke-linejoin:miter;stroke-opacity:1\"/>\n",
       "<path class=\"bond-7 atom-4 atom-8\" d=\"M 361.8,167.4 L 361.9,205.4\" style=\"fill:none;fill-rule:evenodd;stroke:#0000FF;stroke-width:2.0px;stroke-linecap:butt;stroke-linejoin:miter;stroke-opacity:1\"/>\n",
       "<path class=\"bond-7 atom-4 atom-8\" d=\"M 361.9,205.4 L 362.0,243.5\" style=\"fill:none;fill-rule:evenodd;stroke:#000000;stroke-width:2.0px;stroke-linecap:butt;stroke-linejoin:miter;stroke-opacity:1\"/>\n",
       "<path class=\"bond-8 atom-4 atom-9\" d=\"M 376.2,157.8 L 410.1,177.3\" style=\"fill:none;fill-rule:evenodd;stroke:#0000FF;stroke-width:2.0px;stroke-linecap:butt;stroke-linejoin:miter;stroke-opacity:1\"/>\n",
       "<path class=\"bond-8 atom-4 atom-9\" d=\"M 410.1,177.3 L 443.9,196.8\" style=\"fill:none;fill-rule:evenodd;stroke:#000000;stroke-width:2.0px;stroke-linecap:butt;stroke-linejoin:miter;stroke-opacity:1\"/>\n",
       "<path class=\"bond-9 atom-4 atom-10\" d=\"M 372.0,131.7 L 389.6,101.1\" style=\"fill:none;fill-rule:evenodd;stroke:#0000FF;stroke-width:2.0px;stroke-linecap:butt;stroke-linejoin:miter;stroke-opacity:1\"/>\n",
       "<path class=\"bond-9 atom-4 atom-10\" d=\"M 389.6,101.1 L 407.2,70.5\" style=\"fill:none;fill-rule:evenodd;stroke:#000000;stroke-width:2.0px;stroke-linecap:butt;stroke-linejoin:miter;stroke-opacity:1\"/>\n",
       "<path class=\"atom-1\" d=\"M 242.0 159.5 Q 242.3 159.6, 243.6 160.2 Q 245.0 160.7, 246.4 161.1 Q 247.9 161.4, 249.3 161.4 Q 252.0 161.4, 253.6 160.1 Q 255.1 158.8, 255.1 156.5 Q 255.1 155.0, 254.3 154.0 Q 253.6 153.1, 252.4 152.5 Q 251.2 152.0, 249.2 151.4 Q 246.6 150.7, 245.1 149.9 Q 243.6 149.2, 242.6 147.7 Q 241.5 146.2, 241.5 143.6 Q 241.5 140.1, 243.9 137.9 Q 246.4 135.7, 251.2 135.7 Q 254.4 135.7, 258.2 137.2 L 257.2 140.3 Q 253.8 138.9, 251.3 138.9 Q 248.5 138.9, 247.0 140.1 Q 245.5 141.2, 245.5 143.1 Q 245.5 144.7, 246.3 145.6 Q 247.1 146.5, 248.2 147.0 Q 249.4 147.5, 251.3 148.1 Q 253.8 148.9, 255.4 149.7 Q 256.9 150.5, 258.0 152.2 Q 259.1 153.8, 259.1 156.5 Q 259.1 160.5, 256.4 162.6 Q 253.8 164.7, 249.5 164.7 Q 247.0 164.7, 245.0 164.1 Q 243.2 163.6, 240.9 162.7 L 242.0 159.5 \" fill=\"#CCCC00\"/>\n",
       "<path class=\"atom-2\" d=\"M 236.8 38.1 Q 236.8 31.3, 240.1 27.5 Q 243.5 23.7, 249.8 23.7 Q 256.1 23.7, 259.4 27.5 Q 262.8 31.3, 262.8 38.1 Q 262.8 45.0, 259.4 48.9 Q 256.0 52.8, 249.8 52.8 Q 243.5 52.8, 240.1 48.9 Q 236.8 45.0, 236.8 38.1 M 249.8 49.6 Q 254.1 49.6, 256.4 46.7 Q 258.8 43.8, 258.8 38.1 Q 258.8 32.5, 256.4 29.7 Q 254.1 26.9, 249.8 26.9 Q 245.5 26.9, 243.1 29.7 Q 240.8 32.5, 240.8 38.1 Q 240.8 43.8, 243.1 46.7 Q 245.5 49.6, 249.8 49.6 \" fill=\"#FF0000\"/>\n",
       "<path class=\"atom-3\" d=\"M 237.2 261.6 Q 237.2 254.8, 240.6 251.0 Q 243.9 247.2, 250.2 247.2 Q 256.5 247.2, 259.9 251.0 Q 263.2 254.8, 263.2 261.6 Q 263.2 268.5, 259.8 272.4 Q 256.4 276.3, 250.2 276.3 Q 244.0 276.3, 240.6 272.4 Q 237.2 268.6, 237.2 261.6 M 250.2 273.1 Q 254.5 273.1, 256.9 270.2 Q 259.2 267.3, 259.2 261.6 Q 259.2 256.1, 256.9 253.3 Q 254.5 250.4, 250.2 250.4 Q 245.9 250.4, 243.5 253.2 Q 241.2 256.0, 241.2 261.6 Q 241.2 267.4, 243.5 270.2 Q 245.9 273.1, 250.2 273.1 \" fill=\"#FF0000\"/>\n",
       "<path class=\"atom-4\" d=\"M 355.5 135.4 L 364.8 150.4 Q 365.7 151.9, 367.2 154.6 Q 368.7 157.2, 368.8 157.4 L 368.8 135.4 L 372.5 135.4 L 372.5 163.7 L 368.6 163.7 L 358.7 147.3 Q 357.5 145.4, 356.3 143.2 Q 355.1 141.0, 354.7 140.3 L 354.7 163.7 L 351.0 163.7 L 351.0 135.4 L 355.5 135.4 \" fill=\"#0000FF\"/>\n",
       "<path class=\"atom-4\" d=\"M 377.8 140.5 L 382.8 140.5 L 382.8 135.2 L 385.1 135.2 L 385.1 140.5 L 390.2 140.5 L 390.2 142.4 L 385.1 142.4 L 385.1 147.7 L 382.8 147.7 L 382.8 142.4 L 377.8 142.4 L 377.8 140.5 \" fill=\"#0000FF\"/>\n",
       "<path class=\"atom-5\" d=\"M 126.9 24.1 L 130.8 24.1 L 130.8 36.1 L 145.2 36.1 L 145.2 24.1 L 149.1 24.1 L 149.1 52.4 L 145.2 52.4 L 145.2 39.3 L 130.8 39.3 L 130.8 52.4 L 126.9 52.4 L 126.9 24.1 \" fill=\"#000000\"/>\n",
       "<path class=\"atom-6\" d=\"M 30.2 80.2 L 34.1 80.2 L 34.1 92.2 L 48.5 92.2 L 48.5 80.2 L 52.4 80.2 L 52.4 108.5 L 48.5 108.5 L 48.5 95.4 L 34.1 95.4 L 34.1 108.5 L 30.2 108.5 L 30.2 80.2 \" fill=\"#000000\"/>\n",
       "<path class=\"atom-7\" d=\"M 71.5 232.8 L 75.3 232.8 L 75.3 244.8 L 89.8 244.8 L 89.8 232.8 L 93.6 232.8 L 93.6 261.1 L 89.8 261.1 L 89.8 248.0 L 75.3 248.0 L 75.3 261.1 L 71.5 261.1 L 71.5 232.8 \" fill=\"#000000\"/>\n",
       "<path class=\"atom-8\" d=\"M 350.9 247.2 L 354.8 247.2 L 354.8 259.2 L 369.2 259.2 L 369.2 247.2 L 373.1 247.2 L 373.1 275.5 L 369.2 275.5 L 369.2 262.4 L 354.8 262.4 L 354.8 275.5 L 350.9 275.5 L 350.9 247.2 \" fill=\"#000000\"/>\n",
       "<path class=\"atom-9\" d=\"M 447.6 191.1 L 451.5 191.1 L 451.5 203.1 L 465.9 203.1 L 465.9 191.1 L 469.8 191.1 L 469.8 219.4 L 465.9 219.4 L 465.9 206.3 L 451.5 206.3 L 451.5 219.4 L 447.6 219.4 L 447.6 191.1 \" fill=\"#000000\"/>\n",
       "<path class=\"atom-10\" d=\"M 406.4 38.5 L 410.2 38.5 L 410.2 50.5 L 424.7 50.5 L 424.7 38.5 L 428.6 38.5 L 428.6 66.8 L 424.7 66.8 L 424.7 53.7 L 410.2 53.7 L 410.2 66.8 L 406.4 66.8 L 406.4 38.5 \" fill=\"#000000\"/>\n",
       "</svg>"
      ],
      "text/plain": [
       "<IPython.core.display.SVG object>"
      ]
     },
     "metadata": {},
     "output_type": "display_data"
    },
    {
     "name": "stdin",
     "output_type": "stream",
     "text": [
      " t144g [#6X4:1]-[#16X4:2]-[#7X4:3]-[#1:4] CCS(=O)(=O)[NH2+]C\n"
     ]
    },
    {
     "name": "stdout",
     "output_type": "stream",
     "text": [
      "matched!\n"
     ]
    },
    {
     "data": {
      "image/svg+xml": [
       "<svg xmlns=\"http://www.w3.org/2000/svg\" xmlns:rdkit=\"http://www.rdkit.org/xml\" xmlns:xlink=\"http://www.w3.org/1999/xlink\" version=\"1.1\" baseProfile=\"full\" xml:space=\"preserve\" width=\"500px\" height=\"300px\" viewBox=\"0 0 500 300\">\n",
       "<!-- END OF HEADER -->\n",
       "<rect style=\"opacity:1.0;fill:#FFFFFF;stroke:none\" width=\"500.0\" height=\"300.0\" x=\"0.0\" y=\"0.0\"> </rect>\n",
       "<path class=\"bond-0 atom-0 atom-1\" d=\"M 277.3,79.5 L 304.4,126.6\" style=\"fill:none;fill-rule:evenodd;stroke:#000000;stroke-width:2.0px;stroke-linecap:butt;stroke-linejoin:miter;stroke-opacity:1\"/>\n",
       "<path class=\"bond-1 atom-1 atom-2\" d=\"M 304.4,126.6 L 294.6,143.4\" style=\"fill:none;fill-rule:evenodd;stroke:#000000;stroke-width:2.0px;stroke-linecap:butt;stroke-linejoin:miter;stroke-opacity:1\"/>\n",
       "<path class=\"bond-1 atom-1 atom-2\" d=\"M 294.6,143.4 L 284.9,160.2\" style=\"fill:none;fill-rule:evenodd;stroke:#CCCC00;stroke-width:2.0px;stroke-linecap:butt;stroke-linejoin:miter;stroke-opacity:1\"/>\n",
       "<path class=\"bond-2 atom-2 atom-3\" d=\"M 270.0,164.7 L 257.3,157.3\" style=\"fill:none;fill-rule:evenodd;stroke:#CCCC00;stroke-width:2.0px;stroke-linecap:butt;stroke-linejoin:miter;stroke-opacity:1\"/>\n",
       "<path class=\"bond-2 atom-2 atom-3\" d=\"M 257.3,157.3 L 244.6,150.0\" style=\"fill:none;fill-rule:evenodd;stroke:#FF0000;stroke-width:2.0px;stroke-linecap:butt;stroke-linejoin:miter;stroke-opacity:1\"/>\n",
       "<path class=\"bond-2 atom-2 atom-3\" d=\"M 265.9,171.7 L 253.2,164.4\" style=\"fill:none;fill-rule:evenodd;stroke:#CCCC00;stroke-width:2.0px;stroke-linecap:butt;stroke-linejoin:miter;stroke-opacity:1\"/>\n",
       "<path class=\"bond-2 atom-2 atom-3\" d=\"M 253.2,164.4 L 240.5,157.0\" style=\"fill:none;fill-rule:evenodd;stroke:#FF0000;stroke-width:2.0px;stroke-linecap:butt;stroke-linejoin:miter;stroke-opacity:1\"/>\n",
       "<path class=\"bond-3 atom-2 atom-4\" d=\"M 284.3,182.4 L 297.0,189.8\" style=\"fill:none;fill-rule:evenodd;stroke:#CCCC00;stroke-width:2.0px;stroke-linecap:butt;stroke-linejoin:miter;stroke-opacity:1\"/>\n",
       "<path class=\"bond-3 atom-2 atom-4\" d=\"M 297.0,189.8 L 309.7,197.1\" style=\"fill:none;fill-rule:evenodd;stroke:#FF0000;stroke-width:2.0px;stroke-linecap:butt;stroke-linejoin:miter;stroke-opacity:1\"/>\n",
       "<path class=\"bond-3 atom-2 atom-4\" d=\"M 288.4,175.4 L 301.1,182.7\" style=\"fill:none;fill-rule:evenodd;stroke:#CCCC00;stroke-width:2.0px;stroke-linecap:butt;stroke-linejoin:miter;stroke-opacity:1\"/>\n",
       "<path class=\"bond-3 atom-2 atom-4\" d=\"M 301.1,182.7 L 313.8,190.1\" style=\"fill:none;fill-rule:evenodd;stroke:#FF0000;stroke-width:2.0px;stroke-linecap:butt;stroke-linejoin:miter;stroke-opacity:1\"/>\n",
       "<path class=\"bond-4 atom-2 atom-5\" d=\"M 269.1,187.5 L 263.4,197.3\" style=\"fill:none;fill-rule:evenodd;stroke:#CCCC00;stroke-width:2.0px;stroke-linecap:butt;stroke-linejoin:miter;stroke-opacity:1\"/>\n",
       "<path class=\"bond-4 atom-2 atom-5\" d=\"M 263.4,197.3 L 257.6,207.2\" style=\"fill:none;fill-rule:evenodd;stroke:#0000FF;stroke-width:2.0px;stroke-linecap:butt;stroke-linejoin:miter;stroke-opacity:1\"/>\n",
       "<path class=\"bond-5 atom-5 atom-6\" d=\"M 239.4,220.5 L 217.5,220.5\" style=\"fill:none;fill-rule:evenodd;stroke:#0000FF;stroke-width:2.0px;stroke-linecap:butt;stroke-linejoin:miter;stroke-opacity:1\"/>\n",
       "<path class=\"bond-5 atom-5 atom-6\" d=\"M 217.5,220.5 L 195.6,220.4\" style=\"fill:none;fill-rule:evenodd;stroke:#000000;stroke-width:2.0px;stroke-linecap:butt;stroke-linejoin:miter;stroke-opacity:1\"/>\n",
       "<path class=\"bond-6 atom-0 atom-7\" d=\"M 277.3,79.5 L 313.6,58.6\" style=\"fill:none;fill-rule:evenodd;stroke:#000000;stroke-width:2.0px;stroke-linecap:butt;stroke-linejoin:miter;stroke-opacity:1\"/>\n",
       "<path class=\"bond-7 atom-0 atom-8\" d=\"M 277.3,79.5 L 277.4,38.5\" style=\"fill:none;fill-rule:evenodd;stroke:#000000;stroke-width:2.0px;stroke-linecap:butt;stroke-linejoin:miter;stroke-opacity:1\"/>\n",
       "<path class=\"bond-8 atom-0 atom-9\" d=\"M 277.3,79.5 L 233.9,79.4\" style=\"fill:none;fill-rule:evenodd;stroke:#000000;stroke-width:2.0px;stroke-linecap:butt;stroke-linejoin:miter;stroke-opacity:1\"/>\n",
       "<path class=\"bond-9 atom-1 atom-10\" d=\"M 304.4,126.6 L 340.6,147.5\" style=\"fill:none;fill-rule:evenodd;stroke:#000000;stroke-width:2.0px;stroke-linecap:butt;stroke-linejoin:miter;stroke-opacity:1\"/>\n",
       "<path class=\"bond-10 atom-1 atom-11\" d=\"M 304.4,126.6 L 340.7,105.7\" style=\"fill:none;fill-rule:evenodd;stroke:#000000;stroke-width:2.0px;stroke-linecap:butt;stroke-linejoin:miter;stroke-opacity:1\"/>\n",
       "<path class=\"bond-11 atom-5 atom-12\" d=\"M 260.4,226.6 L 273.3,234.1\" style=\"fill:none;fill-rule:evenodd;stroke:#0000FF;stroke-width:2.0px;stroke-linecap:butt;stroke-linejoin:miter;stroke-opacity:1\"/>\n",
       "<path class=\"bond-11 atom-5 atom-12\" d=\"M 273.3,234.1 L 286.1,241.5\" style=\"fill:none;fill-rule:evenodd;stroke:#000000;stroke-width:2.0px;stroke-linecap:butt;stroke-linejoin:miter;stroke-opacity:1\"/>\n",
       "<path class=\"bond-12 atom-5 atom-13\" d=\"M 249.9,233.8 L 249.9,247.7\" style=\"fill:none;fill-rule:evenodd;stroke:#0000FF;stroke-width:2.0px;stroke-linecap:butt;stroke-linejoin:miter;stroke-opacity:1\"/>\n",
       "<path class=\"bond-12 atom-5 atom-13\" d=\"M 249.9,247.7 L 249.8,261.5\" style=\"fill:none;fill-rule:evenodd;stroke:#000000;stroke-width:2.0px;stroke-linecap:butt;stroke-linejoin:miter;stroke-opacity:1\"/>\n",
       "<path class=\"bond-13 atom-6 atom-14\" d=\"M 195.6,220.4 L 195.5,261.4\" style=\"fill:none;fill-rule:evenodd;stroke:#000000;stroke-width:2.0px;stroke-linecap:butt;stroke-linejoin:miter;stroke-opacity:1\"/>\n",
       "<path class=\"bond-14 atom-6 atom-15\" d=\"M 195.6,220.4 L 159.3,241.3\" style=\"fill:none;fill-rule:evenodd;stroke:#000000;stroke-width:2.0px;stroke-linecap:butt;stroke-linejoin:miter;stroke-opacity:1\"/>\n",
       "<path class=\"bond-15 atom-6 atom-16\" d=\"M 195.6,220.4 L 176.2,186.7\" style=\"fill:none;fill-rule:evenodd;stroke:#000000;stroke-width:2.0px;stroke-linecap:butt;stroke-linejoin:miter;stroke-opacity:1\"/>\n",
       "<path class=\"atom-2\" d=\"M 270.6 181.5 Q 270.9 181.6, 272.0 182.0 Q 273.0 182.5, 274.2 182.8 Q 275.4 183.0, 276.6 183.0 Q 278.8 183.0, 280.0 182.0 Q 281.3 180.9, 281.3 179.0 Q 281.3 177.8, 280.7 177.0 Q 280.0 176.2, 279.1 175.8 Q 278.1 175.4, 276.5 174.9 Q 274.4 174.3, 273.2 173.7 Q 272.0 173.1, 271.1 171.8 Q 270.2 170.6, 270.2 168.5 Q 270.2 165.6, 272.2 163.8 Q 274.2 162.0, 278.1 162.0 Q 280.8 162.0, 283.8 163.3 L 283.0 165.8 Q 280.3 164.7, 278.2 164.7 Q 275.9 164.7, 274.7 165.6 Q 273.5 166.5, 273.5 168.1 Q 273.5 169.4, 274.1 170.1 Q 274.8 170.9, 275.7 171.3 Q 276.6 171.7, 278.2 172.2 Q 280.3 172.9, 281.5 173.5 Q 282.8 174.2, 283.6 175.5 Q 284.5 176.8, 284.5 179.0 Q 284.5 182.2, 282.4 184.0 Q 280.3 185.7, 276.7 185.7 Q 274.7 185.7, 273.1 185.2 Q 271.6 184.8, 269.8 184.0 L 270.6 181.5 \" fill=\"#CCCC00\"/>\n",
       "<path class=\"atom-3\" d=\"M 219.6 146.4 Q 219.6 140.8, 222.3 137.7 Q 225.1 134.6, 230.2 134.6 Q 235.3 134.6, 238.0 137.7 Q 240.8 140.8, 240.8 146.4 Q 240.8 152.0, 238.0 155.2 Q 235.2 158.3, 230.2 158.3 Q 225.1 158.3, 222.3 155.2 Q 219.6 152.0, 219.6 146.4 M 230.2 155.7 Q 233.7 155.7, 235.6 153.4 Q 237.5 151.0, 237.5 146.4 Q 237.5 141.8, 235.6 139.6 Q 233.7 137.2, 230.2 137.2 Q 226.7 137.2, 224.7 139.5 Q 222.8 141.8, 222.8 146.4 Q 222.8 151.0, 224.7 153.4 Q 226.7 155.7, 230.2 155.7 \" fill=\"#FF0000\"/>\n",
       "<path class=\"atom-4\" d=\"M 313.5 200.9 Q 313.5 195.3, 316.3 192.2 Q 319.0 189.1, 324.1 189.1 Q 329.2 189.1, 332.0 192.2 Q 334.7 195.3, 334.7 200.9 Q 334.7 206.5, 331.9 209.7 Q 329.2 212.8, 324.1 212.8 Q 319.0 212.8, 316.3 209.7 Q 313.5 206.5, 313.5 200.9 M 324.1 210.2 Q 327.6 210.2, 329.5 207.9 Q 331.5 205.5, 331.5 200.9 Q 331.5 196.3, 329.5 194.0 Q 327.6 191.7, 324.1 191.7 Q 320.6 191.7, 318.7 194.0 Q 316.8 196.3, 316.8 200.9 Q 316.8 205.5, 318.7 207.9 Q 320.6 210.2, 324.1 210.2 \" fill=\"#FF0000\"/>\n",
       "<path class=\"atom-5\" d=\"M 244.8 209.0 L 252.4 221.2 Q 253.1 222.4, 254.3 224.6 Q 255.5 226.8, 255.6 226.9 L 255.6 209.0 L 258.7 209.0 L 258.7 232.1 L 255.5 232.1 L 247.4 218.7 Q 246.4 217.1, 245.4 215.3 Q 244.4 213.5, 244.2 213.0 L 244.2 232.1 L 241.2 232.1 L 241.2 209.0 L 244.8 209.0 \" fill=\"#0000FF\"/>\n",
       "<path class=\"atom-5\" d=\"M 263.0 213.1 L 267.1 213.1 L 267.1 208.9 L 268.9 208.9 L 268.9 213.1 L 273.0 213.1 L 273.0 214.7 L 268.9 214.7 L 268.9 219.0 L 267.1 219.0 L 267.1 214.7 L 263.0 214.7 L 263.0 213.1 \" fill=\"#0000FF\"/>\n",
       "<path class=\"atom-7\" d=\"M 315.4 40.9 L 318.5 40.9 L 318.5 50.7 L 330.3 50.7 L 330.3 40.9 L 333.5 40.9 L 333.5 64.0 L 330.3 64.0 L 330.3 53.3 L 318.5 53.3 L 318.5 64.0 L 315.4 64.0 L 315.4 40.9 \" fill=\"#000000\"/>\n",
       "<path class=\"atom-8\" d=\"M 268.4 13.6 L 271.6 13.6 L 271.6 23.4 L 283.4 23.4 L 283.4 13.6 L 286.5 13.6 L 286.5 36.7 L 283.4 36.7 L 283.4 26.1 L 271.6 26.1 L 271.6 36.7 L 268.4 36.7 L 268.4 13.6 \" fill=\"#000000\"/>\n",
       "<path class=\"atom-9\" d=\"M 214.0 67.8 L 217.1 67.8 L 217.1 77.6 L 228.9 77.6 L 228.9 67.8 L 232.1 67.8 L 232.1 90.9 L 228.9 90.9 L 228.9 80.3 L 217.1 80.3 L 217.1 90.9 L 214.0 90.9 L 214.0 67.8 \" fill=\"#000000\"/>\n",
       "<path class=\"atom-10\" d=\"M 342.4 142.3 L 345.5 142.3 L 345.5 152.1 L 357.3 152.1 L 357.3 142.3 L 360.4 142.3 L 360.4 165.4 L 357.3 165.4 L 357.3 154.7 L 345.5 154.7 L 345.5 165.4 L 342.4 165.4 L 342.4 142.3 \" fill=\"#000000\"/>\n",
       "<path class=\"atom-11\" d=\"M 342.5 88.0 L 345.6 88.0 L 345.6 97.8 L 357.4 97.8 L 357.4 88.0 L 360.5 88.0 L 360.5 111.0 L 357.4 111.0 L 357.4 100.4 L 345.6 100.4 L 345.6 111.0 L 342.5 111.0 L 342.5 88.0 \" fill=\"#000000\"/>\n",
       "<path class=\"atom-12\" d=\"M 287.9 236.2 L 291.0 236.2 L 291.0 246.0 L 302.8 246.0 L 302.8 236.2 L 305.9 236.2 L 305.9 259.3 L 302.8 259.3 L 302.8 248.7 L 291.0 248.7 L 291.0 259.3 L 287.9 259.3 L 287.9 236.2 \" fill=\"#000000\"/>\n",
       "<path class=\"atom-13\" d=\"M 240.8 263.3 L 243.9 263.3 L 243.9 273.1 L 255.7 273.1 L 255.7 263.3 L 258.8 263.3 L 258.8 286.4 L 255.7 286.4 L 255.7 275.7 L 243.9 275.7 L 243.9 286.4 L 240.8 286.4 L 240.8 263.3 \" fill=\"#000000\"/>\n",
       "<path class=\"atom-14\" d=\"M 186.5 263.2 L 189.6 263.2 L 189.6 273.0 L 201.4 273.0 L 201.4 263.2 L 204.5 263.2 L 204.5 286.3 L 201.4 286.3 L 201.4 275.6 L 189.6 275.6 L 189.6 286.3 L 186.5 286.3 L 186.5 263.2 \" fill=\"#000000\"/>\n",
       "<path class=\"atom-15\" d=\"M 139.5 235.9 L 142.6 235.9 L 142.6 245.7 L 154.4 245.7 L 154.4 235.9 L 157.5 235.9 L 157.5 259.0 L 154.4 259.0 L 154.4 248.3 L 142.6 248.3 L 142.6 259.0 L 139.5 259.0 L 139.5 235.9 \" fill=\"#000000\"/>\n",
       "<path class=\"atom-16\" d=\"M 159.5 161.8 L 162.6 161.8 L 162.6 171.6 L 174.4 171.6 L 174.4 161.8 L 177.6 161.8 L 177.6 184.9 L 174.4 184.9 L 174.4 174.2 L 162.6 174.2 L 162.6 184.9 L 159.5 184.9 L 159.5 161.8 \" fill=\"#000000\"/>\n",
       "</svg>"
      ],
      "text/plain": [
       "<IPython.core.display.SVG object>"
      ]
     },
     "metadata": {},
     "output_type": "display_data"
    },
    {
     "name": "stdin",
     "output_type": "stream",
     "text": [
      " t144g [#6X4:1]-[#16X4:2]-[#7X4:3]-[#1:4] CS(=O)(=O)[NH3+]\n"
     ]
    },
    {
     "name": "stdout",
     "output_type": "stream",
     "text": [
      "matched!\n"
     ]
    },
    {
     "data": {
      "image/svg+xml": [
       "<svg xmlns=\"http://www.w3.org/2000/svg\" xmlns:rdkit=\"http://www.rdkit.org/xml\" xmlns:xlink=\"http://www.w3.org/1999/xlink\" version=\"1.1\" baseProfile=\"full\" xml:space=\"preserve\" width=\"500px\" height=\"300px\" viewBox=\"0 0 500 300\">\n",
       "<!-- END OF HEADER -->\n",
       "<rect style=\"opacity:1.0;fill:#FFFFFF;stroke:none\" width=\"500.0\" height=\"300.0\" x=\"0.0\" y=\"0.0\"> </rect>\n",
       "<path class=\"bond-0 atom-0 atom-1\" d=\"M 138.2,150.0 L 187.7,149.9\" style=\"fill:none;fill-rule:evenodd;stroke:#000000;stroke-width:2.0px;stroke-linecap:butt;stroke-linejoin:miter;stroke-opacity:1\"/>\n",
       "<path class=\"bond-0 atom-0 atom-1\" d=\"M 187.7,149.9 L 237.2,149.8\" style=\"fill:none;fill-rule:evenodd;stroke:#CCCC00;stroke-width:2.0px;stroke-linecap:butt;stroke-linejoin:miter;stroke-opacity:1\"/>\n",
       "<path class=\"bond-1 atom-1 atom-2\" d=\"M 258.3,132.0 L 258.3,94.2\" style=\"fill:none;fill-rule:evenodd;stroke:#CCCC00;stroke-width:2.0px;stroke-linecap:butt;stroke-linejoin:miter;stroke-opacity:1\"/>\n",
       "<path class=\"bond-1 atom-1 atom-2\" d=\"M 258.3,94.2 L 258.2,56.4\" style=\"fill:none;fill-rule:evenodd;stroke:#FF0000;stroke-width:2.0px;stroke-linecap:butt;stroke-linejoin:miter;stroke-opacity:1\"/>\n",
       "<path class=\"bond-1 atom-1 atom-2\" d=\"M 241.6,132.0 L 241.5,94.2\" style=\"fill:none;fill-rule:evenodd;stroke:#CCCC00;stroke-width:2.0px;stroke-linecap:butt;stroke-linejoin:miter;stroke-opacity:1\"/>\n",
       "<path class=\"bond-1 atom-1 atom-2\" d=\"M 241.5,94.2 L 241.4,56.5\" style=\"fill:none;fill-rule:evenodd;stroke:#FF0000;stroke-width:2.0px;stroke-linecap:butt;stroke-linejoin:miter;stroke-opacity:1\"/>\n",
       "<path class=\"bond-2 atom-1 atom-3\" d=\"M 241.7,168.4 L 241.7,206.0\" style=\"fill:none;fill-rule:evenodd;stroke:#CCCC00;stroke-width:2.0px;stroke-linecap:butt;stroke-linejoin:miter;stroke-opacity:1\"/>\n",
       "<path class=\"bond-2 atom-1 atom-3\" d=\"M 241.7,206.0 L 241.8,243.6\" style=\"fill:none;fill-rule:evenodd;stroke:#FF0000;stroke-width:2.0px;stroke-linecap:butt;stroke-linejoin:miter;stroke-opacity:1\"/>\n",
       "<path class=\"bond-2 atom-1 atom-3\" d=\"M 258.4,168.3 L 258.5,205.9\" style=\"fill:none;fill-rule:evenodd;stroke:#CCCC00;stroke-width:2.0px;stroke-linecap:butt;stroke-linejoin:miter;stroke-opacity:1\"/>\n",
       "<path class=\"bond-2 atom-1 atom-3\" d=\"M 258.5,205.9 L 258.6,243.5\" style=\"fill:none;fill-rule:evenodd;stroke:#FF0000;stroke-width:2.0px;stroke-linecap:butt;stroke-linejoin:miter;stroke-opacity:1\"/>\n",
       "<path class=\"bond-3 atom-1 atom-4\" d=\"M 262.8,149.8 L 305.1,149.7\" style=\"fill:none;fill-rule:evenodd;stroke:#CCCC00;stroke-width:2.0px;stroke-linecap:butt;stroke-linejoin:miter;stroke-opacity:1\"/>\n",
       "<path class=\"bond-3 atom-1 atom-4\" d=\"M 305.1,149.7 L 347.4,149.6\" style=\"fill:none;fill-rule:evenodd;stroke:#0000FF;stroke-width:2.0px;stroke-linecap:butt;stroke-linejoin:miter;stroke-opacity:1\"/>\n",
       "<path class=\"bond-4 atom-0 atom-5\" d=\"M 138.2,150.0 L 138.0,56.1\" style=\"fill:none;fill-rule:evenodd;stroke:#000000;stroke-width:2.0px;stroke-linecap:butt;stroke-linejoin:miter;stroke-opacity:1\"/>\n",
       "<path class=\"bond-5 atom-0 atom-6\" d=\"M 138.2,150.0 L 56.1,102.8\" style=\"fill:none;fill-rule:evenodd;stroke:#000000;stroke-width:2.0px;stroke-linecap:butt;stroke-linejoin:miter;stroke-opacity:1\"/>\n",
       "<path class=\"bond-6 atom-0 atom-7\" d=\"M 138.2,150.0 L 92.8,229.1\" style=\"fill:none;fill-rule:evenodd;stroke:#000000;stroke-width:2.0px;stroke-linecap:butt;stroke-linejoin:miter;stroke-opacity:1\"/>\n",
       "<path class=\"bond-7 atom-4 atom-8\" d=\"M 361.8,167.4 L 361.9,205.4\" style=\"fill:none;fill-rule:evenodd;stroke:#0000FF;stroke-width:2.0px;stroke-linecap:butt;stroke-linejoin:miter;stroke-opacity:1\"/>\n",
       "<path class=\"bond-7 atom-4 atom-8\" d=\"M 361.9,205.4 L 362.0,243.5\" style=\"fill:none;fill-rule:evenodd;stroke:#000000;stroke-width:2.0px;stroke-linecap:butt;stroke-linejoin:miter;stroke-opacity:1\"/>\n",
       "<path class=\"bond-8 atom-4 atom-9\" d=\"M 376.2,157.8 L 410.1,177.3\" style=\"fill:none;fill-rule:evenodd;stroke:#0000FF;stroke-width:2.0px;stroke-linecap:butt;stroke-linejoin:miter;stroke-opacity:1\"/>\n",
       "<path class=\"bond-8 atom-4 atom-9\" d=\"M 410.1,177.3 L 443.9,196.8\" style=\"fill:none;fill-rule:evenodd;stroke:#000000;stroke-width:2.0px;stroke-linecap:butt;stroke-linejoin:miter;stroke-opacity:1\"/>\n",
       "<path class=\"bond-9 atom-4 atom-10\" d=\"M 372.0,131.7 L 389.6,101.1\" style=\"fill:none;fill-rule:evenodd;stroke:#0000FF;stroke-width:2.0px;stroke-linecap:butt;stroke-linejoin:miter;stroke-opacity:1\"/>\n",
       "<path class=\"bond-9 atom-4 atom-10\" d=\"M 389.6,101.1 L 407.2,70.5\" style=\"fill:none;fill-rule:evenodd;stroke:#000000;stroke-width:2.0px;stroke-linecap:butt;stroke-linejoin:miter;stroke-opacity:1\"/>\n",
       "<path class=\"atom-1\" d=\"M 242.0 159.5 Q 242.3 159.6, 243.6 160.2 Q 245.0 160.7, 246.4 161.1 Q 247.9 161.4, 249.3 161.4 Q 252.0 161.4, 253.6 160.1 Q 255.1 158.8, 255.1 156.5 Q 255.1 155.0, 254.3 154.0 Q 253.6 153.1, 252.4 152.5 Q 251.2 152.0, 249.2 151.4 Q 246.6 150.7, 245.1 149.9 Q 243.6 149.2, 242.6 147.7 Q 241.5 146.2, 241.5 143.6 Q 241.5 140.1, 243.9 137.9 Q 246.4 135.7, 251.2 135.7 Q 254.4 135.7, 258.2 137.2 L 257.2 140.3 Q 253.8 138.9, 251.3 138.9 Q 248.5 138.9, 247.0 140.1 Q 245.5 141.2, 245.5 143.1 Q 245.5 144.7, 246.3 145.6 Q 247.1 146.5, 248.2 147.0 Q 249.4 147.5, 251.3 148.1 Q 253.8 148.9, 255.4 149.7 Q 256.9 150.5, 258.0 152.2 Q 259.1 153.8, 259.1 156.5 Q 259.1 160.5, 256.4 162.6 Q 253.8 164.7, 249.5 164.7 Q 247.0 164.7, 245.0 164.1 Q 243.2 163.6, 240.9 162.7 L 242.0 159.5 \" fill=\"#CCCC00\"/>\n",
       "<path class=\"atom-2\" d=\"M 236.8 38.1 Q 236.8 31.3, 240.1 27.5 Q 243.5 23.7, 249.8 23.7 Q 256.1 23.7, 259.4 27.5 Q 262.8 31.3, 262.8 38.1 Q 262.8 45.0, 259.4 48.9 Q 256.0 52.8, 249.8 52.8 Q 243.5 52.8, 240.1 48.9 Q 236.8 45.0, 236.8 38.1 M 249.8 49.6 Q 254.1 49.6, 256.4 46.7 Q 258.8 43.8, 258.8 38.1 Q 258.8 32.5, 256.4 29.7 Q 254.1 26.9, 249.8 26.9 Q 245.5 26.9, 243.1 29.7 Q 240.8 32.5, 240.8 38.1 Q 240.8 43.8, 243.1 46.7 Q 245.5 49.6, 249.8 49.6 \" fill=\"#FF0000\"/>\n",
       "<path class=\"atom-3\" d=\"M 237.2 261.6 Q 237.2 254.8, 240.6 251.0 Q 243.9 247.2, 250.2 247.2 Q 256.5 247.2, 259.9 251.0 Q 263.2 254.8, 263.2 261.6 Q 263.2 268.5, 259.8 272.4 Q 256.4 276.3, 250.2 276.3 Q 244.0 276.3, 240.6 272.4 Q 237.2 268.6, 237.2 261.6 M 250.2 273.1 Q 254.5 273.1, 256.9 270.2 Q 259.2 267.3, 259.2 261.6 Q 259.2 256.1, 256.9 253.3 Q 254.5 250.4, 250.2 250.4 Q 245.9 250.4, 243.5 253.2 Q 241.2 256.0, 241.2 261.6 Q 241.2 267.4, 243.5 270.2 Q 245.9 273.1, 250.2 273.1 \" fill=\"#FF0000\"/>\n",
       "<path class=\"atom-4\" d=\"M 355.5 135.4 L 364.8 150.4 Q 365.7 151.9, 367.2 154.6 Q 368.7 157.2, 368.8 157.4 L 368.8 135.4 L 372.5 135.4 L 372.5 163.7 L 368.6 163.7 L 358.7 147.3 Q 357.5 145.4, 356.3 143.2 Q 355.1 141.0, 354.7 140.3 L 354.7 163.7 L 351.0 163.7 L 351.0 135.4 L 355.5 135.4 \" fill=\"#0000FF\"/>\n",
       "<path class=\"atom-4\" d=\"M 377.8 140.5 L 382.8 140.5 L 382.8 135.2 L 385.1 135.2 L 385.1 140.5 L 390.2 140.5 L 390.2 142.4 L 385.1 142.4 L 385.1 147.7 L 382.8 147.7 L 382.8 142.4 L 377.8 142.4 L 377.8 140.5 \" fill=\"#0000FF\"/>\n",
       "<path class=\"atom-5\" d=\"M 126.9 24.1 L 130.8 24.1 L 130.8 36.1 L 145.2 36.1 L 145.2 24.1 L 149.1 24.1 L 149.1 52.4 L 145.2 52.4 L 145.2 39.3 L 130.8 39.3 L 130.8 52.4 L 126.9 52.4 L 126.9 24.1 \" fill=\"#000000\"/>\n",
       "<path class=\"atom-6\" d=\"M 30.2 80.2 L 34.1 80.2 L 34.1 92.2 L 48.5 92.2 L 48.5 80.2 L 52.4 80.2 L 52.4 108.5 L 48.5 108.5 L 48.5 95.4 L 34.1 95.4 L 34.1 108.5 L 30.2 108.5 L 30.2 80.2 \" fill=\"#000000\"/>\n",
       "<path class=\"atom-7\" d=\"M 71.5 232.8 L 75.3 232.8 L 75.3 244.8 L 89.8 244.8 L 89.8 232.8 L 93.6 232.8 L 93.6 261.1 L 89.8 261.1 L 89.8 248.0 L 75.3 248.0 L 75.3 261.1 L 71.5 261.1 L 71.5 232.8 \" fill=\"#000000\"/>\n",
       "<path class=\"atom-8\" d=\"M 350.9 247.2 L 354.8 247.2 L 354.8 259.2 L 369.2 259.2 L 369.2 247.2 L 373.1 247.2 L 373.1 275.5 L 369.2 275.5 L 369.2 262.4 L 354.8 262.4 L 354.8 275.5 L 350.9 275.5 L 350.9 247.2 \" fill=\"#000000\"/>\n",
       "<path class=\"atom-9\" d=\"M 447.6 191.1 L 451.5 191.1 L 451.5 203.1 L 465.9 203.1 L 465.9 191.1 L 469.8 191.1 L 469.8 219.4 L 465.9 219.4 L 465.9 206.3 L 451.5 206.3 L 451.5 219.4 L 447.6 219.4 L 447.6 191.1 \" fill=\"#000000\"/>\n",
       "<path class=\"atom-10\" d=\"M 406.4 38.5 L 410.2 38.5 L 410.2 50.5 L 424.7 50.5 L 424.7 38.5 L 428.6 38.5 L 428.6 66.8 L 424.7 66.8 L 424.7 53.7 L 410.2 53.7 L 410.2 66.8 L 406.4 66.8 L 406.4 38.5 \" fill=\"#000000\"/>\n",
       "</svg>"
      ],
      "text/plain": [
       "<IPython.core.display.SVG object>"
      ]
     },
     "metadata": {},
     "output_type": "display_data"
    },
    {
     "name": "stdin",
     "output_type": "stream",
     "text": [
      " t144g [#6X4:1]-[#16X4:2]-[#7X4:3]-[#1:4] CCS(=O)(=O)[NH2+]C\n"
     ]
    },
    {
     "name": "stdout",
     "output_type": "stream",
     "text": [
      "matched!\n"
     ]
    },
    {
     "data": {
      "image/svg+xml": [
       "<svg xmlns=\"http://www.w3.org/2000/svg\" xmlns:rdkit=\"http://www.rdkit.org/xml\" xmlns:xlink=\"http://www.w3.org/1999/xlink\" version=\"1.1\" baseProfile=\"full\" xml:space=\"preserve\" width=\"500px\" height=\"300px\" viewBox=\"0 0 500 300\">\n",
       "<!-- END OF HEADER -->\n",
       "<rect style=\"opacity:1.0;fill:#FFFFFF;stroke:none\" width=\"500.0\" height=\"300.0\" x=\"0.0\" y=\"0.0\"> </rect>\n",
       "<path class=\"bond-0 atom-0 atom-1\" d=\"M 277.3,79.5 L 304.4,126.6\" style=\"fill:none;fill-rule:evenodd;stroke:#000000;stroke-width:2.0px;stroke-linecap:butt;stroke-linejoin:miter;stroke-opacity:1\"/>\n",
       "<path class=\"bond-1 atom-1 atom-2\" d=\"M 304.4,126.6 L 294.6,143.4\" style=\"fill:none;fill-rule:evenodd;stroke:#000000;stroke-width:2.0px;stroke-linecap:butt;stroke-linejoin:miter;stroke-opacity:1\"/>\n",
       "<path class=\"bond-1 atom-1 atom-2\" d=\"M 294.6,143.4 L 284.9,160.2\" style=\"fill:none;fill-rule:evenodd;stroke:#CCCC00;stroke-width:2.0px;stroke-linecap:butt;stroke-linejoin:miter;stroke-opacity:1\"/>\n",
       "<path class=\"bond-2 atom-2 atom-3\" d=\"M 270.0,164.7 L 257.3,157.3\" style=\"fill:none;fill-rule:evenodd;stroke:#CCCC00;stroke-width:2.0px;stroke-linecap:butt;stroke-linejoin:miter;stroke-opacity:1\"/>\n",
       "<path class=\"bond-2 atom-2 atom-3\" d=\"M 257.3,157.3 L 244.6,150.0\" style=\"fill:none;fill-rule:evenodd;stroke:#FF0000;stroke-width:2.0px;stroke-linecap:butt;stroke-linejoin:miter;stroke-opacity:1\"/>\n",
       "<path class=\"bond-2 atom-2 atom-3\" d=\"M 265.9,171.7 L 253.2,164.4\" style=\"fill:none;fill-rule:evenodd;stroke:#CCCC00;stroke-width:2.0px;stroke-linecap:butt;stroke-linejoin:miter;stroke-opacity:1\"/>\n",
       "<path class=\"bond-2 atom-2 atom-3\" d=\"M 253.2,164.4 L 240.5,157.0\" style=\"fill:none;fill-rule:evenodd;stroke:#FF0000;stroke-width:2.0px;stroke-linecap:butt;stroke-linejoin:miter;stroke-opacity:1\"/>\n",
       "<path class=\"bond-3 atom-2 atom-4\" d=\"M 284.3,182.4 L 297.0,189.8\" style=\"fill:none;fill-rule:evenodd;stroke:#CCCC00;stroke-width:2.0px;stroke-linecap:butt;stroke-linejoin:miter;stroke-opacity:1\"/>\n",
       "<path class=\"bond-3 atom-2 atom-4\" d=\"M 297.0,189.8 L 309.7,197.1\" style=\"fill:none;fill-rule:evenodd;stroke:#FF0000;stroke-width:2.0px;stroke-linecap:butt;stroke-linejoin:miter;stroke-opacity:1\"/>\n",
       "<path class=\"bond-3 atom-2 atom-4\" d=\"M 288.4,175.4 L 301.1,182.7\" style=\"fill:none;fill-rule:evenodd;stroke:#CCCC00;stroke-width:2.0px;stroke-linecap:butt;stroke-linejoin:miter;stroke-opacity:1\"/>\n",
       "<path class=\"bond-3 atom-2 atom-4\" d=\"M 301.1,182.7 L 313.8,190.1\" style=\"fill:none;fill-rule:evenodd;stroke:#FF0000;stroke-width:2.0px;stroke-linecap:butt;stroke-linejoin:miter;stroke-opacity:1\"/>\n",
       "<path class=\"bond-4 atom-2 atom-5\" d=\"M 269.1,187.5 L 263.4,197.3\" style=\"fill:none;fill-rule:evenodd;stroke:#CCCC00;stroke-width:2.0px;stroke-linecap:butt;stroke-linejoin:miter;stroke-opacity:1\"/>\n",
       "<path class=\"bond-4 atom-2 atom-5\" d=\"M 263.4,197.3 L 257.6,207.2\" style=\"fill:none;fill-rule:evenodd;stroke:#0000FF;stroke-width:2.0px;stroke-linecap:butt;stroke-linejoin:miter;stroke-opacity:1\"/>\n",
       "<path class=\"bond-5 atom-5 atom-6\" d=\"M 239.4,220.5 L 217.5,220.5\" style=\"fill:none;fill-rule:evenodd;stroke:#0000FF;stroke-width:2.0px;stroke-linecap:butt;stroke-linejoin:miter;stroke-opacity:1\"/>\n",
       "<path class=\"bond-5 atom-5 atom-6\" d=\"M 217.5,220.5 L 195.6,220.4\" style=\"fill:none;fill-rule:evenodd;stroke:#000000;stroke-width:2.0px;stroke-linecap:butt;stroke-linejoin:miter;stroke-opacity:1\"/>\n",
       "<path class=\"bond-6 atom-0 atom-7\" d=\"M 277.3,79.5 L 313.6,58.6\" style=\"fill:none;fill-rule:evenodd;stroke:#000000;stroke-width:2.0px;stroke-linecap:butt;stroke-linejoin:miter;stroke-opacity:1\"/>\n",
       "<path class=\"bond-7 atom-0 atom-8\" d=\"M 277.3,79.5 L 277.4,38.5\" style=\"fill:none;fill-rule:evenodd;stroke:#000000;stroke-width:2.0px;stroke-linecap:butt;stroke-linejoin:miter;stroke-opacity:1\"/>\n",
       "<path class=\"bond-8 atom-0 atom-9\" d=\"M 277.3,79.5 L 233.9,79.4\" style=\"fill:none;fill-rule:evenodd;stroke:#000000;stroke-width:2.0px;stroke-linecap:butt;stroke-linejoin:miter;stroke-opacity:1\"/>\n",
       "<path class=\"bond-9 atom-1 atom-10\" d=\"M 304.4,126.6 L 340.6,147.5\" style=\"fill:none;fill-rule:evenodd;stroke:#000000;stroke-width:2.0px;stroke-linecap:butt;stroke-linejoin:miter;stroke-opacity:1\"/>\n",
       "<path class=\"bond-10 atom-1 atom-11\" d=\"M 304.4,126.6 L 340.7,105.7\" style=\"fill:none;fill-rule:evenodd;stroke:#000000;stroke-width:2.0px;stroke-linecap:butt;stroke-linejoin:miter;stroke-opacity:1\"/>\n",
       "<path class=\"bond-11 atom-5 atom-12\" d=\"M 260.4,226.6 L 273.3,234.1\" style=\"fill:none;fill-rule:evenodd;stroke:#0000FF;stroke-width:2.0px;stroke-linecap:butt;stroke-linejoin:miter;stroke-opacity:1\"/>\n",
       "<path class=\"bond-11 atom-5 atom-12\" d=\"M 273.3,234.1 L 286.1,241.5\" style=\"fill:none;fill-rule:evenodd;stroke:#000000;stroke-width:2.0px;stroke-linecap:butt;stroke-linejoin:miter;stroke-opacity:1\"/>\n",
       "<path class=\"bond-12 atom-5 atom-13\" d=\"M 249.9,233.8 L 249.9,247.7\" style=\"fill:none;fill-rule:evenodd;stroke:#0000FF;stroke-width:2.0px;stroke-linecap:butt;stroke-linejoin:miter;stroke-opacity:1\"/>\n",
       "<path class=\"bond-12 atom-5 atom-13\" d=\"M 249.9,247.7 L 249.8,261.5\" style=\"fill:none;fill-rule:evenodd;stroke:#000000;stroke-width:2.0px;stroke-linecap:butt;stroke-linejoin:miter;stroke-opacity:1\"/>\n",
       "<path class=\"bond-13 atom-6 atom-14\" d=\"M 195.6,220.4 L 195.5,261.4\" style=\"fill:none;fill-rule:evenodd;stroke:#000000;stroke-width:2.0px;stroke-linecap:butt;stroke-linejoin:miter;stroke-opacity:1\"/>\n",
       "<path class=\"bond-14 atom-6 atom-15\" d=\"M 195.6,220.4 L 159.3,241.3\" style=\"fill:none;fill-rule:evenodd;stroke:#000000;stroke-width:2.0px;stroke-linecap:butt;stroke-linejoin:miter;stroke-opacity:1\"/>\n",
       "<path class=\"bond-15 atom-6 atom-16\" d=\"M 195.6,220.4 L 176.2,186.7\" style=\"fill:none;fill-rule:evenodd;stroke:#000000;stroke-width:2.0px;stroke-linecap:butt;stroke-linejoin:miter;stroke-opacity:1\"/>\n",
       "<path class=\"atom-2\" d=\"M 270.6 181.5 Q 270.9 181.6, 272.0 182.0 Q 273.0 182.5, 274.2 182.8 Q 275.4 183.0, 276.6 183.0 Q 278.8 183.0, 280.0 182.0 Q 281.3 180.9, 281.3 179.0 Q 281.3 177.8, 280.7 177.0 Q 280.0 176.2, 279.1 175.8 Q 278.1 175.4, 276.5 174.9 Q 274.4 174.3, 273.2 173.7 Q 272.0 173.1, 271.1 171.8 Q 270.2 170.6, 270.2 168.5 Q 270.2 165.6, 272.2 163.8 Q 274.2 162.0, 278.1 162.0 Q 280.8 162.0, 283.8 163.3 L 283.0 165.8 Q 280.3 164.7, 278.2 164.7 Q 275.9 164.7, 274.7 165.6 Q 273.5 166.5, 273.5 168.1 Q 273.5 169.4, 274.1 170.1 Q 274.8 170.9, 275.7 171.3 Q 276.6 171.7, 278.2 172.2 Q 280.3 172.9, 281.5 173.5 Q 282.8 174.2, 283.6 175.5 Q 284.5 176.8, 284.5 179.0 Q 284.5 182.2, 282.4 184.0 Q 280.3 185.7, 276.7 185.7 Q 274.7 185.7, 273.1 185.2 Q 271.6 184.8, 269.8 184.0 L 270.6 181.5 \" fill=\"#CCCC00\"/>\n",
       "<path class=\"atom-3\" d=\"M 219.6 146.4 Q 219.6 140.8, 222.3 137.7 Q 225.1 134.6, 230.2 134.6 Q 235.3 134.6, 238.0 137.7 Q 240.8 140.8, 240.8 146.4 Q 240.8 152.0, 238.0 155.2 Q 235.2 158.3, 230.2 158.3 Q 225.1 158.3, 222.3 155.2 Q 219.6 152.0, 219.6 146.4 M 230.2 155.7 Q 233.7 155.7, 235.6 153.4 Q 237.5 151.0, 237.5 146.4 Q 237.5 141.8, 235.6 139.6 Q 233.7 137.2, 230.2 137.2 Q 226.7 137.2, 224.7 139.5 Q 222.8 141.8, 222.8 146.4 Q 222.8 151.0, 224.7 153.4 Q 226.7 155.7, 230.2 155.7 \" fill=\"#FF0000\"/>\n",
       "<path class=\"atom-4\" d=\"M 313.5 200.9 Q 313.5 195.3, 316.3 192.2 Q 319.0 189.1, 324.1 189.1 Q 329.2 189.1, 332.0 192.2 Q 334.7 195.3, 334.7 200.9 Q 334.7 206.5, 331.9 209.7 Q 329.2 212.8, 324.1 212.8 Q 319.0 212.8, 316.3 209.7 Q 313.5 206.5, 313.5 200.9 M 324.1 210.2 Q 327.6 210.2, 329.5 207.9 Q 331.5 205.5, 331.5 200.9 Q 331.5 196.3, 329.5 194.0 Q 327.6 191.7, 324.1 191.7 Q 320.6 191.7, 318.7 194.0 Q 316.8 196.3, 316.8 200.9 Q 316.8 205.5, 318.7 207.9 Q 320.6 210.2, 324.1 210.2 \" fill=\"#FF0000\"/>\n",
       "<path class=\"atom-5\" d=\"M 244.8 209.0 L 252.4 221.2 Q 253.1 222.4, 254.3 224.6 Q 255.5 226.8, 255.6 226.9 L 255.6 209.0 L 258.7 209.0 L 258.7 232.1 L 255.5 232.1 L 247.4 218.7 Q 246.4 217.1, 245.4 215.3 Q 244.4 213.5, 244.2 213.0 L 244.2 232.1 L 241.2 232.1 L 241.2 209.0 L 244.8 209.0 \" fill=\"#0000FF\"/>\n",
       "<path class=\"atom-5\" d=\"M 263.0 213.1 L 267.1 213.1 L 267.1 208.9 L 268.9 208.9 L 268.9 213.1 L 273.0 213.1 L 273.0 214.7 L 268.9 214.7 L 268.9 219.0 L 267.1 219.0 L 267.1 214.7 L 263.0 214.7 L 263.0 213.1 \" fill=\"#0000FF\"/>\n",
       "<path class=\"atom-7\" d=\"M 315.4 40.9 L 318.5 40.9 L 318.5 50.7 L 330.3 50.7 L 330.3 40.9 L 333.5 40.9 L 333.5 64.0 L 330.3 64.0 L 330.3 53.3 L 318.5 53.3 L 318.5 64.0 L 315.4 64.0 L 315.4 40.9 \" fill=\"#000000\"/>\n",
       "<path class=\"atom-8\" d=\"M 268.4 13.6 L 271.6 13.6 L 271.6 23.4 L 283.4 23.4 L 283.4 13.6 L 286.5 13.6 L 286.5 36.7 L 283.4 36.7 L 283.4 26.1 L 271.6 26.1 L 271.6 36.7 L 268.4 36.7 L 268.4 13.6 \" fill=\"#000000\"/>\n",
       "<path class=\"atom-9\" d=\"M 214.0 67.8 L 217.1 67.8 L 217.1 77.6 L 228.9 77.6 L 228.9 67.8 L 232.1 67.8 L 232.1 90.9 L 228.9 90.9 L 228.9 80.3 L 217.1 80.3 L 217.1 90.9 L 214.0 90.9 L 214.0 67.8 \" fill=\"#000000\"/>\n",
       "<path class=\"atom-10\" d=\"M 342.4 142.3 L 345.5 142.3 L 345.5 152.1 L 357.3 152.1 L 357.3 142.3 L 360.4 142.3 L 360.4 165.4 L 357.3 165.4 L 357.3 154.7 L 345.5 154.7 L 345.5 165.4 L 342.4 165.4 L 342.4 142.3 \" fill=\"#000000\"/>\n",
       "<path class=\"atom-11\" d=\"M 342.5 88.0 L 345.6 88.0 L 345.6 97.8 L 357.4 97.8 L 357.4 88.0 L 360.5 88.0 L 360.5 111.0 L 357.4 111.0 L 357.4 100.4 L 345.6 100.4 L 345.6 111.0 L 342.5 111.0 L 342.5 88.0 \" fill=\"#000000\"/>\n",
       "<path class=\"atom-12\" d=\"M 287.9 236.2 L 291.0 236.2 L 291.0 246.0 L 302.8 246.0 L 302.8 236.2 L 305.9 236.2 L 305.9 259.3 L 302.8 259.3 L 302.8 248.7 L 291.0 248.7 L 291.0 259.3 L 287.9 259.3 L 287.9 236.2 \" fill=\"#000000\"/>\n",
       "<path class=\"atom-13\" d=\"M 240.8 263.3 L 243.9 263.3 L 243.9 273.1 L 255.7 273.1 L 255.7 263.3 L 258.8 263.3 L 258.8 286.4 L 255.7 286.4 L 255.7 275.7 L 243.9 275.7 L 243.9 286.4 L 240.8 286.4 L 240.8 263.3 \" fill=\"#000000\"/>\n",
       "<path class=\"atom-14\" d=\"M 186.5 263.2 L 189.6 263.2 L 189.6 273.0 L 201.4 273.0 L 201.4 263.2 L 204.5 263.2 L 204.5 286.3 L 201.4 286.3 L 201.4 275.6 L 189.6 275.6 L 189.6 286.3 L 186.5 286.3 L 186.5 263.2 \" fill=\"#000000\"/>\n",
       "<path class=\"atom-15\" d=\"M 139.5 235.9 L 142.6 235.9 L 142.6 245.7 L 154.4 245.7 L 154.4 235.9 L 157.5 235.9 L 157.5 259.0 L 154.4 259.0 L 154.4 248.3 L 142.6 248.3 L 142.6 259.0 L 139.5 259.0 L 139.5 235.9 \" fill=\"#000000\"/>\n",
       "<path class=\"atom-16\" d=\"M 159.5 161.8 L 162.6 161.8 L 162.6 171.6 L 174.4 171.6 L 174.4 161.8 L 177.6 161.8 L 177.6 184.9 L 174.4 184.9 L 174.4 174.2 L 162.6 174.2 L 162.6 184.9 L 159.5 184.9 L 159.5 161.8 \" fill=\"#000000\"/>\n",
       "</svg>"
      ],
      "text/plain": [
       "<IPython.core.display.SVG object>"
      ]
     },
     "metadata": {},
     "output_type": "display_data"
    },
    {
     "name": "stdin",
     "output_type": "stream",
     "text": [
      " t144g [#6X4:1]-[#16X4:2]-[#7X4:3]-[#1:4] CCS(=O)(=O)[NH2+]C\n"
     ]
    },
    {
     "name": "stdout",
     "output_type": "stream",
     "text": [
      "matched!\n"
     ]
    },
    {
     "data": {
      "image/svg+xml": [
       "<svg xmlns=\"http://www.w3.org/2000/svg\" xmlns:rdkit=\"http://www.rdkit.org/xml\" xmlns:xlink=\"http://www.w3.org/1999/xlink\" version=\"1.1\" baseProfile=\"full\" xml:space=\"preserve\" width=\"500px\" height=\"300px\" viewBox=\"0 0 500 300\">\n",
       "<!-- END OF HEADER -->\n",
       "<rect style=\"opacity:1.0;fill:#FFFFFF;stroke:none\" width=\"500.0\" height=\"300.0\" x=\"0.0\" y=\"0.0\"> </rect>\n",
       "<path class=\"bond-0 atom-0 atom-1\" d=\"M 277.3,79.5 L 304.4,126.6\" style=\"fill:none;fill-rule:evenodd;stroke:#000000;stroke-width:2.0px;stroke-linecap:butt;stroke-linejoin:miter;stroke-opacity:1\"/>\n",
       "<path class=\"bond-1 atom-1 atom-2\" d=\"M 304.4,126.6 L 294.6,143.4\" style=\"fill:none;fill-rule:evenodd;stroke:#000000;stroke-width:2.0px;stroke-linecap:butt;stroke-linejoin:miter;stroke-opacity:1\"/>\n",
       "<path class=\"bond-1 atom-1 atom-2\" d=\"M 294.6,143.4 L 284.9,160.2\" style=\"fill:none;fill-rule:evenodd;stroke:#CCCC00;stroke-width:2.0px;stroke-linecap:butt;stroke-linejoin:miter;stroke-opacity:1\"/>\n",
       "<path class=\"bond-2 atom-2 atom-3\" d=\"M 270.0,164.7 L 257.3,157.3\" style=\"fill:none;fill-rule:evenodd;stroke:#CCCC00;stroke-width:2.0px;stroke-linecap:butt;stroke-linejoin:miter;stroke-opacity:1\"/>\n",
       "<path class=\"bond-2 atom-2 atom-3\" d=\"M 257.3,157.3 L 244.6,150.0\" style=\"fill:none;fill-rule:evenodd;stroke:#FF0000;stroke-width:2.0px;stroke-linecap:butt;stroke-linejoin:miter;stroke-opacity:1\"/>\n",
       "<path class=\"bond-2 atom-2 atom-3\" d=\"M 265.9,171.7 L 253.2,164.4\" style=\"fill:none;fill-rule:evenodd;stroke:#CCCC00;stroke-width:2.0px;stroke-linecap:butt;stroke-linejoin:miter;stroke-opacity:1\"/>\n",
       "<path class=\"bond-2 atom-2 atom-3\" d=\"M 253.2,164.4 L 240.5,157.0\" style=\"fill:none;fill-rule:evenodd;stroke:#FF0000;stroke-width:2.0px;stroke-linecap:butt;stroke-linejoin:miter;stroke-opacity:1\"/>\n",
       "<path class=\"bond-3 atom-2 atom-4\" d=\"M 284.3,182.4 L 297.0,189.8\" style=\"fill:none;fill-rule:evenodd;stroke:#CCCC00;stroke-width:2.0px;stroke-linecap:butt;stroke-linejoin:miter;stroke-opacity:1\"/>\n",
       "<path class=\"bond-3 atom-2 atom-4\" d=\"M 297.0,189.8 L 309.7,197.1\" style=\"fill:none;fill-rule:evenodd;stroke:#FF0000;stroke-width:2.0px;stroke-linecap:butt;stroke-linejoin:miter;stroke-opacity:1\"/>\n",
       "<path class=\"bond-3 atom-2 atom-4\" d=\"M 288.4,175.4 L 301.1,182.7\" style=\"fill:none;fill-rule:evenodd;stroke:#CCCC00;stroke-width:2.0px;stroke-linecap:butt;stroke-linejoin:miter;stroke-opacity:1\"/>\n",
       "<path class=\"bond-3 atom-2 atom-4\" d=\"M 301.1,182.7 L 313.8,190.1\" style=\"fill:none;fill-rule:evenodd;stroke:#FF0000;stroke-width:2.0px;stroke-linecap:butt;stroke-linejoin:miter;stroke-opacity:1\"/>\n",
       "<path class=\"bond-4 atom-2 atom-5\" d=\"M 269.1,187.5 L 263.4,197.3\" style=\"fill:none;fill-rule:evenodd;stroke:#CCCC00;stroke-width:2.0px;stroke-linecap:butt;stroke-linejoin:miter;stroke-opacity:1\"/>\n",
       "<path class=\"bond-4 atom-2 atom-5\" d=\"M 263.4,197.3 L 257.6,207.2\" style=\"fill:none;fill-rule:evenodd;stroke:#0000FF;stroke-width:2.0px;stroke-linecap:butt;stroke-linejoin:miter;stroke-opacity:1\"/>\n",
       "<path class=\"bond-5 atom-5 atom-6\" d=\"M 239.4,220.5 L 217.5,220.5\" style=\"fill:none;fill-rule:evenodd;stroke:#0000FF;stroke-width:2.0px;stroke-linecap:butt;stroke-linejoin:miter;stroke-opacity:1\"/>\n",
       "<path class=\"bond-5 atom-5 atom-6\" d=\"M 217.5,220.5 L 195.6,220.4\" style=\"fill:none;fill-rule:evenodd;stroke:#000000;stroke-width:2.0px;stroke-linecap:butt;stroke-linejoin:miter;stroke-opacity:1\"/>\n",
       "<path class=\"bond-6 atom-0 atom-7\" d=\"M 277.3,79.5 L 313.6,58.6\" style=\"fill:none;fill-rule:evenodd;stroke:#000000;stroke-width:2.0px;stroke-linecap:butt;stroke-linejoin:miter;stroke-opacity:1\"/>\n",
       "<path class=\"bond-7 atom-0 atom-8\" d=\"M 277.3,79.5 L 277.4,38.5\" style=\"fill:none;fill-rule:evenodd;stroke:#000000;stroke-width:2.0px;stroke-linecap:butt;stroke-linejoin:miter;stroke-opacity:1\"/>\n",
       "<path class=\"bond-8 atom-0 atom-9\" d=\"M 277.3,79.5 L 233.9,79.4\" style=\"fill:none;fill-rule:evenodd;stroke:#000000;stroke-width:2.0px;stroke-linecap:butt;stroke-linejoin:miter;stroke-opacity:1\"/>\n",
       "<path class=\"bond-9 atom-1 atom-10\" d=\"M 304.4,126.6 L 340.6,147.5\" style=\"fill:none;fill-rule:evenodd;stroke:#000000;stroke-width:2.0px;stroke-linecap:butt;stroke-linejoin:miter;stroke-opacity:1\"/>\n",
       "<path class=\"bond-10 atom-1 atom-11\" d=\"M 304.4,126.6 L 340.7,105.7\" style=\"fill:none;fill-rule:evenodd;stroke:#000000;stroke-width:2.0px;stroke-linecap:butt;stroke-linejoin:miter;stroke-opacity:1\"/>\n",
       "<path class=\"bond-11 atom-5 atom-12\" d=\"M 260.4,226.6 L 273.3,234.1\" style=\"fill:none;fill-rule:evenodd;stroke:#0000FF;stroke-width:2.0px;stroke-linecap:butt;stroke-linejoin:miter;stroke-opacity:1\"/>\n",
       "<path class=\"bond-11 atom-5 atom-12\" d=\"M 273.3,234.1 L 286.1,241.5\" style=\"fill:none;fill-rule:evenodd;stroke:#000000;stroke-width:2.0px;stroke-linecap:butt;stroke-linejoin:miter;stroke-opacity:1\"/>\n",
       "<path class=\"bond-12 atom-5 atom-13\" d=\"M 249.9,233.8 L 249.9,247.7\" style=\"fill:none;fill-rule:evenodd;stroke:#0000FF;stroke-width:2.0px;stroke-linecap:butt;stroke-linejoin:miter;stroke-opacity:1\"/>\n",
       "<path class=\"bond-12 atom-5 atom-13\" d=\"M 249.9,247.7 L 249.8,261.5\" style=\"fill:none;fill-rule:evenodd;stroke:#000000;stroke-width:2.0px;stroke-linecap:butt;stroke-linejoin:miter;stroke-opacity:1\"/>\n",
       "<path class=\"bond-13 atom-6 atom-14\" d=\"M 195.6,220.4 L 195.5,261.4\" style=\"fill:none;fill-rule:evenodd;stroke:#000000;stroke-width:2.0px;stroke-linecap:butt;stroke-linejoin:miter;stroke-opacity:1\"/>\n",
       "<path class=\"bond-14 atom-6 atom-15\" d=\"M 195.6,220.4 L 159.3,241.3\" style=\"fill:none;fill-rule:evenodd;stroke:#000000;stroke-width:2.0px;stroke-linecap:butt;stroke-linejoin:miter;stroke-opacity:1\"/>\n",
       "<path class=\"bond-15 atom-6 atom-16\" d=\"M 195.6,220.4 L 176.2,186.7\" style=\"fill:none;fill-rule:evenodd;stroke:#000000;stroke-width:2.0px;stroke-linecap:butt;stroke-linejoin:miter;stroke-opacity:1\"/>\n",
       "<path class=\"atom-2\" d=\"M 270.6 181.5 Q 270.9 181.6, 272.0 182.0 Q 273.0 182.5, 274.2 182.8 Q 275.4 183.0, 276.6 183.0 Q 278.8 183.0, 280.0 182.0 Q 281.3 180.9, 281.3 179.0 Q 281.3 177.8, 280.7 177.0 Q 280.0 176.2, 279.1 175.8 Q 278.1 175.4, 276.5 174.9 Q 274.4 174.3, 273.2 173.7 Q 272.0 173.1, 271.1 171.8 Q 270.2 170.6, 270.2 168.5 Q 270.2 165.6, 272.2 163.8 Q 274.2 162.0, 278.1 162.0 Q 280.8 162.0, 283.8 163.3 L 283.0 165.8 Q 280.3 164.7, 278.2 164.7 Q 275.9 164.7, 274.7 165.6 Q 273.5 166.5, 273.5 168.1 Q 273.5 169.4, 274.1 170.1 Q 274.8 170.9, 275.7 171.3 Q 276.6 171.7, 278.2 172.2 Q 280.3 172.9, 281.5 173.5 Q 282.8 174.2, 283.6 175.5 Q 284.5 176.8, 284.5 179.0 Q 284.5 182.2, 282.4 184.0 Q 280.3 185.7, 276.7 185.7 Q 274.7 185.7, 273.1 185.2 Q 271.6 184.8, 269.8 184.0 L 270.6 181.5 \" fill=\"#CCCC00\"/>\n",
       "<path class=\"atom-3\" d=\"M 219.6 146.4 Q 219.6 140.8, 222.3 137.7 Q 225.1 134.6, 230.2 134.6 Q 235.3 134.6, 238.0 137.7 Q 240.8 140.8, 240.8 146.4 Q 240.8 152.0, 238.0 155.2 Q 235.2 158.3, 230.2 158.3 Q 225.1 158.3, 222.3 155.2 Q 219.6 152.0, 219.6 146.4 M 230.2 155.7 Q 233.7 155.7, 235.6 153.4 Q 237.5 151.0, 237.5 146.4 Q 237.5 141.8, 235.6 139.6 Q 233.7 137.2, 230.2 137.2 Q 226.7 137.2, 224.7 139.5 Q 222.8 141.8, 222.8 146.4 Q 222.8 151.0, 224.7 153.4 Q 226.7 155.7, 230.2 155.7 \" fill=\"#FF0000\"/>\n",
       "<path class=\"atom-4\" d=\"M 313.5 200.9 Q 313.5 195.3, 316.3 192.2 Q 319.0 189.1, 324.1 189.1 Q 329.2 189.1, 332.0 192.2 Q 334.7 195.3, 334.7 200.9 Q 334.7 206.5, 331.9 209.7 Q 329.2 212.8, 324.1 212.8 Q 319.0 212.8, 316.3 209.7 Q 313.5 206.5, 313.5 200.9 M 324.1 210.2 Q 327.6 210.2, 329.5 207.9 Q 331.5 205.5, 331.5 200.9 Q 331.5 196.3, 329.5 194.0 Q 327.6 191.7, 324.1 191.7 Q 320.6 191.7, 318.7 194.0 Q 316.8 196.3, 316.8 200.9 Q 316.8 205.5, 318.7 207.9 Q 320.6 210.2, 324.1 210.2 \" fill=\"#FF0000\"/>\n",
       "<path class=\"atom-5\" d=\"M 244.8 209.0 L 252.4 221.2 Q 253.1 222.4, 254.3 224.6 Q 255.5 226.8, 255.6 226.9 L 255.6 209.0 L 258.7 209.0 L 258.7 232.1 L 255.5 232.1 L 247.4 218.7 Q 246.4 217.1, 245.4 215.3 Q 244.4 213.5, 244.2 213.0 L 244.2 232.1 L 241.2 232.1 L 241.2 209.0 L 244.8 209.0 \" fill=\"#0000FF\"/>\n",
       "<path class=\"atom-5\" d=\"M 263.0 213.1 L 267.1 213.1 L 267.1 208.9 L 268.9 208.9 L 268.9 213.1 L 273.0 213.1 L 273.0 214.7 L 268.9 214.7 L 268.9 219.0 L 267.1 219.0 L 267.1 214.7 L 263.0 214.7 L 263.0 213.1 \" fill=\"#0000FF\"/>\n",
       "<path class=\"atom-7\" d=\"M 315.4 40.9 L 318.5 40.9 L 318.5 50.7 L 330.3 50.7 L 330.3 40.9 L 333.5 40.9 L 333.5 64.0 L 330.3 64.0 L 330.3 53.3 L 318.5 53.3 L 318.5 64.0 L 315.4 64.0 L 315.4 40.9 \" fill=\"#000000\"/>\n",
       "<path class=\"atom-8\" d=\"M 268.4 13.6 L 271.6 13.6 L 271.6 23.4 L 283.4 23.4 L 283.4 13.6 L 286.5 13.6 L 286.5 36.7 L 283.4 36.7 L 283.4 26.1 L 271.6 26.1 L 271.6 36.7 L 268.4 36.7 L 268.4 13.6 \" fill=\"#000000\"/>\n",
       "<path class=\"atom-9\" d=\"M 214.0 67.8 L 217.1 67.8 L 217.1 77.6 L 228.9 77.6 L 228.9 67.8 L 232.1 67.8 L 232.1 90.9 L 228.9 90.9 L 228.9 80.3 L 217.1 80.3 L 217.1 90.9 L 214.0 90.9 L 214.0 67.8 \" fill=\"#000000\"/>\n",
       "<path class=\"atom-10\" d=\"M 342.4 142.3 L 345.5 142.3 L 345.5 152.1 L 357.3 152.1 L 357.3 142.3 L 360.4 142.3 L 360.4 165.4 L 357.3 165.4 L 357.3 154.7 L 345.5 154.7 L 345.5 165.4 L 342.4 165.4 L 342.4 142.3 \" fill=\"#000000\"/>\n",
       "<path class=\"atom-11\" d=\"M 342.5 88.0 L 345.6 88.0 L 345.6 97.8 L 357.4 97.8 L 357.4 88.0 L 360.5 88.0 L 360.5 111.0 L 357.4 111.0 L 357.4 100.4 L 345.6 100.4 L 345.6 111.0 L 342.5 111.0 L 342.5 88.0 \" fill=\"#000000\"/>\n",
       "<path class=\"atom-12\" d=\"M 287.9 236.2 L 291.0 236.2 L 291.0 246.0 L 302.8 246.0 L 302.8 236.2 L 305.9 236.2 L 305.9 259.3 L 302.8 259.3 L 302.8 248.7 L 291.0 248.7 L 291.0 259.3 L 287.9 259.3 L 287.9 236.2 \" fill=\"#000000\"/>\n",
       "<path class=\"atom-13\" d=\"M 240.8 263.3 L 243.9 263.3 L 243.9 273.1 L 255.7 273.1 L 255.7 263.3 L 258.8 263.3 L 258.8 286.4 L 255.7 286.4 L 255.7 275.7 L 243.9 275.7 L 243.9 286.4 L 240.8 286.4 L 240.8 263.3 \" fill=\"#000000\"/>\n",
       "<path class=\"atom-14\" d=\"M 186.5 263.2 L 189.6 263.2 L 189.6 273.0 L 201.4 273.0 L 201.4 263.2 L 204.5 263.2 L 204.5 286.3 L 201.4 286.3 L 201.4 275.6 L 189.6 275.6 L 189.6 286.3 L 186.5 286.3 L 186.5 263.2 \" fill=\"#000000\"/>\n",
       "<path class=\"atom-15\" d=\"M 139.5 235.9 L 142.6 235.9 L 142.6 245.7 L 154.4 245.7 L 154.4 235.9 L 157.5 235.9 L 157.5 259.0 L 154.4 259.0 L 154.4 248.3 L 142.6 248.3 L 142.6 259.0 L 139.5 259.0 L 139.5 235.9 \" fill=\"#000000\"/>\n",
       "<path class=\"atom-16\" d=\"M 159.5 161.8 L 162.6 161.8 L 162.6 171.6 L 174.4 171.6 L 174.4 161.8 L 177.6 161.8 L 177.6 184.9 L 174.4 184.9 L 174.4 174.2 L 162.6 174.2 L 162.6 184.9 L 159.5 184.9 L 159.5 161.8 \" fill=\"#000000\"/>\n",
       "</svg>"
      ],
      "text/plain": [
       "<IPython.core.display.SVG object>"
      ]
     },
     "metadata": {},
     "output_type": "display_data"
    },
    {
     "name": "stdin",
     "output_type": "stream",
     "text": [
      " t144i [#6X4:1]-[#16X3+0:2]-[#7X4:3]-[#1:4] CCS(=O)[NH2+]C\n"
     ]
    },
    {
     "name": "stdout",
     "output_type": "stream",
     "text": [
      "matched!\n"
     ]
    },
    {
     "data": {
      "image/svg+xml": [
       "<svg xmlns=\"http://www.w3.org/2000/svg\" xmlns:rdkit=\"http://www.rdkit.org/xml\" xmlns:xlink=\"http://www.w3.org/1999/xlink\" version=\"1.1\" baseProfile=\"full\" xml:space=\"preserve\" width=\"500px\" height=\"300px\" viewBox=\"0 0 500 300\">\n",
       "<!-- END OF HEADER -->\n",
       "<rect style=\"opacity:1.0;fill:#FFFFFF;stroke:none\" width=\"500.0\" height=\"300.0\" x=\"0.0\" y=\"0.0\"> </rect>\n",
       "<path class=\"bond-0 atom-0 atom-1\" d=\"M 333.3,209.2 L 278.6,177.1\" style=\"fill:none;fill-rule:evenodd;stroke:#000000;stroke-width:2.0px;stroke-linecap:butt;stroke-linejoin:miter;stroke-opacity:1\"/>\n",
       "<path class=\"bond-1 atom-1 atom-2\" d=\"M 278.6,177.1 L 278.5,153.8\" style=\"fill:none;fill-rule:evenodd;stroke:#000000;stroke-width:2.0px;stroke-linecap:butt;stroke-linejoin:miter;stroke-opacity:1\"/>\n",
       "<path class=\"bond-1 atom-1 atom-2\" d=\"M 278.5,153.8 L 278.4,130.4\" style=\"fill:none;fill-rule:evenodd;stroke:#CCCC00;stroke-width:2.0px;stroke-linecap:butt;stroke-linejoin:miter;stroke-opacity:1\"/>\n",
       "<path class=\"bond-2 atom-2 atom-3\" d=\"M 291.5,112.0 L 306.3,103.4\" style=\"fill:none;fill-rule:evenodd;stroke:#CCCC00;stroke-width:2.0px;stroke-linecap:butt;stroke-linejoin:miter;stroke-opacity:1\"/>\n",
       "<path class=\"bond-2 atom-2 atom-3\" d=\"M 306.3,103.4 L 321.1,94.8\" style=\"fill:none;fill-rule:evenodd;stroke:#FF0000;stroke-width:2.0px;stroke-linecap:butt;stroke-linejoin:miter;stroke-opacity:1\"/>\n",
       "<path class=\"bond-2 atom-2 atom-3\" d=\"M 286.7,103.7 L 301.5,95.1\" style=\"fill:none;fill-rule:evenodd;stroke:#CCCC00;stroke-width:2.0px;stroke-linecap:butt;stroke-linejoin:miter;stroke-opacity:1\"/>\n",
       "<path class=\"bond-2 atom-2 atom-3\" d=\"M 301.5,95.1 L 316.3,86.5\" style=\"fill:none;fill-rule:evenodd;stroke:#FF0000;stroke-width:2.0px;stroke-linecap:butt;stroke-linejoin:miter;stroke-opacity:1\"/>\n",
       "<path class=\"bond-3 atom-2 atom-4\" d=\"M 267.6,108.0 L 251.4,98.7\" style=\"fill:none;fill-rule:evenodd;stroke:#CCCC00;stroke-width:2.0px;stroke-linecap:butt;stroke-linejoin:miter;stroke-opacity:1\"/>\n",
       "<path class=\"bond-3 atom-2 atom-4\" d=\"M 251.4,98.7 L 235.2,89.5\" style=\"fill:none;fill-rule:evenodd;stroke:#0000FF;stroke-width:2.0px;stroke-linecap:butt;stroke-linejoin:miter;stroke-opacity:1\"/>\n",
       "<path class=\"bond-4 atom-4 atom-5\" d=\"M 210.5,89.5 L 188.6,102.0\" style=\"fill:none;fill-rule:evenodd;stroke:#0000FF;stroke-width:2.0px;stroke-linecap:butt;stroke-linejoin:miter;stroke-opacity:1\"/>\n",
       "<path class=\"bond-4 atom-4 atom-5\" d=\"M 188.6,102.0 L 166.6,114.5\" style=\"fill:none;fill-rule:evenodd;stroke:#000000;stroke-width:2.0px;stroke-linecap:butt;stroke-linejoin:miter;stroke-opacity:1\"/>\n",
       "<path class=\"bond-5 atom-0 atom-6\" d=\"M 333.3,209.2 L 356.3,170.1\" style=\"fill:none;fill-rule:evenodd;stroke:#000000;stroke-width:2.0px;stroke-linecap:butt;stroke-linejoin:miter;stroke-opacity:1\"/>\n",
       "<path class=\"bond-6 atom-0 atom-7\" d=\"M 333.3,209.2 L 384.1,209.6\" style=\"fill:none;fill-rule:evenodd;stroke:#000000;stroke-width:2.0px;stroke-linecap:butt;stroke-linejoin:miter;stroke-opacity:1\"/>\n",
       "<path class=\"bond-7 atom-0 atom-8\" d=\"M 333.3,209.2 L 332.8,257.3\" style=\"fill:none;fill-rule:evenodd;stroke:#000000;stroke-width:2.0px;stroke-linecap:butt;stroke-linejoin:miter;stroke-opacity:1\"/>\n",
       "<path class=\"bond-8 atom-1 atom-9\" d=\"M 278.6,177.1 L 229.2,176.8\" style=\"fill:none;fill-rule:evenodd;stroke:#000000;stroke-width:2.0px;stroke-linecap:butt;stroke-linejoin:miter;stroke-opacity:1\"/>\n",
       "<path class=\"bond-9 atom-1 atom-10\" d=\"M 278.6,177.1 L 255.5,216.3\" style=\"fill:none;fill-rule:evenodd;stroke:#000000;stroke-width:2.0px;stroke-linecap:butt;stroke-linejoin:miter;stroke-opacity:1\"/>\n",
       "<path class=\"bond-10 atom-4 atom-11\" d=\"M 231.9,66.8 L 238.8,54.9\" style=\"fill:none;fill-rule:evenodd;stroke:#0000FF;stroke-width:2.0px;stroke-linecap:butt;stroke-linejoin:miter;stroke-opacity:1\"/>\n",
       "<path class=\"bond-10 atom-4 atom-11\" d=\"M 238.8,54.9 L 245.7,43.0\" style=\"fill:none;fill-rule:evenodd;stroke:#000000;stroke-width:2.0px;stroke-linecap:butt;stroke-linejoin:miter;stroke-opacity:1\"/>\n",
       "<path class=\"bond-11 atom-4 atom-12\" d=\"M 213.9,66.8 L 207.1,54.8\" style=\"fill:none;fill-rule:evenodd;stroke:#0000FF;stroke-width:2.0px;stroke-linecap:butt;stroke-linejoin:miter;stroke-opacity:1\"/>\n",
       "<path class=\"bond-11 atom-4 atom-12\" d=\"M 207.1,54.8 L 200.3,42.7\" style=\"fill:none;fill-rule:evenodd;stroke:#000000;stroke-width:2.0px;stroke-linecap:butt;stroke-linejoin:miter;stroke-opacity:1\"/>\n",
       "<path class=\"bond-12 atom-5 atom-13\" d=\"M 166.6,114.5 L 144.1,74.7\" style=\"fill:none;fill-rule:evenodd;stroke:#000000;stroke-width:2.0px;stroke-linecap:butt;stroke-linejoin:miter;stroke-opacity:1\"/>\n",
       "<path class=\"bond-13 atom-5 atom-14\" d=\"M 166.6,114.5 L 115.9,113.9\" style=\"fill:none;fill-rule:evenodd;stroke:#000000;stroke-width:2.0px;stroke-linecap:butt;stroke-linejoin:miter;stroke-opacity:1\"/>\n",
       "<path class=\"bond-14 atom-5 atom-15\" d=\"M 166.6,114.5 L 165.9,163.1\" style=\"fill:none;fill-rule:evenodd;stroke:#000000;stroke-width:2.0px;stroke-linecap:butt;stroke-linejoin:miter;stroke-opacity:1\"/>\n",
       "<path class=\"atom-2\" d=\"M 270.7 123.4 Q 271.0 123.5, 272.3 124.0 Q 273.5 124.6, 274.9 124.9 Q 276.3 125.2, 277.7 125.2 Q 280.3 125.2, 281.7 124.0 Q 283.2 122.7, 283.2 120.6 Q 283.2 119.1, 282.5 118.2 Q 281.7 117.2, 280.6 116.7 Q 279.5 116.2, 277.5 115.7 Q 275.1 114.9, 273.7 114.3 Q 272.3 113.6, 271.3 112.1 Q 270.3 110.7, 270.3 108.2 Q 270.3 104.8, 272.5 102.7 Q 274.9 100.6, 279.5 100.6 Q 282.6 100.6, 286.1 102.1 L 285.3 105.1 Q 282.0 103.7, 279.6 103.7 Q 276.9 103.7, 275.5 104.8 Q 274.0 105.9, 274.1 107.8 Q 274.1 109.2, 274.8 110.1 Q 275.6 111.0, 276.6 111.5 Q 277.7 112.0, 279.6 112.5 Q 282.0 113.3, 283.5 114.1 Q 284.9 114.8, 285.9 116.4 Q 287.0 117.9, 287.0 120.6 Q 287.0 124.3, 284.5 126.3 Q 282.0 128.3, 277.9 128.3 Q 275.4 128.3, 273.6 127.8 Q 271.8 127.3, 269.7 126.4 L 270.7 123.4 \" fill=\"#CCCC00\"/>\n",
       "<path class=\"atom-3\" d=\"M 320.8 82.3 Q 320.8 75.8, 324.0 72.2 Q 327.2 68.6, 333.2 68.6 Q 339.2 68.6, 342.4 72.2 Q 345.6 75.8, 345.6 82.3 Q 345.6 88.9, 342.4 92.6 Q 339.1 96.3, 333.2 96.3 Q 327.2 96.3, 324.0 92.6 Q 320.8 88.9, 320.8 82.3 M 333.2 93.2 Q 337.3 93.2, 339.5 90.5 Q 341.8 87.7, 341.8 82.3 Q 341.8 77.0, 339.5 74.3 Q 337.3 71.6, 333.2 71.6 Q 329.1 71.6, 326.8 74.3 Q 324.6 77.0, 324.6 82.3 Q 324.6 87.7, 326.8 90.5 Q 329.1 93.2, 333.2 93.2 \" fill=\"#FF0000\"/>\n",
       "<path class=\"atom-4\" d=\"M 216.9 68.9 L 225.7 83.2 Q 226.6 84.6, 228.0 87.2 Q 229.4 89.7, 229.5 89.9 L 229.5 68.9 L 233.1 68.9 L 233.1 95.9 L 229.4 95.9 L 219.9 80.3 Q 218.8 78.5, 217.6 76.4 Q 216.4 74.3, 216.1 73.6 L 216.1 95.9 L 212.6 95.9 L 212.6 68.9 L 216.9 68.9 \" fill=\"#0000FF\"/>\n",
       "<path class=\"atom-4\" d=\"M 238.1 73.8 L 242.9 73.8 L 242.9 68.8 L 245.0 68.8 L 245.0 73.8 L 249.9 73.8 L 249.9 75.6 L 245.0 75.6 L 245.0 80.6 L 242.9 80.6 L 242.9 75.6 L 238.1 75.6 L 238.1 73.8 \" fill=\"#0000FF\"/>\n",
       "<path class=\"atom-6\" d=\"M 354.9 141.0 L 358.6 141.0 L 358.6 152.5 L 372.4 152.5 L 372.4 141.0 L 376.0 141.0 L 376.0 168.0 L 372.4 168.0 L 372.4 155.5 L 358.6 155.5 L 358.6 168.0 L 354.9 168.0 L 354.9 141.0 \" fill=\"#000000\"/>\n",
       "<path class=\"atom-7\" d=\"M 386.2 196.2 L 389.9 196.2 L 389.9 207.7 L 403.7 207.7 L 403.7 196.2 L 407.4 196.2 L 407.4 223.2 L 403.7 223.2 L 403.7 210.8 L 389.9 210.8 L 389.9 223.2 L 386.2 223.2 L 386.2 196.2 \" fill=\"#000000\"/>\n",
       "<path class=\"atom-8\" d=\"M 322.1 259.4 L 325.8 259.4 L 325.8 270.8 L 339.6 270.8 L 339.6 259.4 L 343.3 259.4 L 343.3 286.4 L 339.6 286.4 L 339.6 273.9 L 325.8 273.9 L 325.8 286.4 L 322.1 286.4 L 322.1 259.4 \" fill=\"#000000\"/>\n",
       "<path class=\"atom-9\" d=\"M 206.0 163.2 L 209.7 163.2 L 209.7 174.7 L 223.5 174.7 L 223.5 163.2 L 227.1 163.2 L 227.1 190.2 L 223.5 190.2 L 223.5 177.8 L 209.7 177.8 L 209.7 190.2 L 206.0 190.2 L 206.0 163.2 \" fill=\"#000000\"/>\n",
       "<path class=\"atom-10\" d=\"M 235.8 218.4 L 239.4 218.4 L 239.4 229.9 L 253.2 229.9 L 253.2 218.4 L 256.9 218.4 L 256.9 245.4 L 253.2 245.4 L 253.2 233.0 L 239.4 233.0 L 239.4 245.4 L 235.8 245.4 L 235.8 218.4 \" fill=\"#000000\"/>\n",
       "<path class=\"atom-11\" d=\"M 244.2 13.9 L 247.9 13.9 L 247.9 25.3 L 261.7 25.3 L 261.7 13.9 L 265.4 13.9 L 265.4 40.9 L 261.7 40.9 L 261.7 28.4 L 247.9 28.4 L 247.9 40.9 L 244.2 40.9 L 244.2 13.9 \" fill=\"#000000\"/>\n",
       "<path class=\"atom-12\" d=\"M 180.8 13.6 L 184.5 13.6 L 184.5 25.1 L 198.3 25.1 L 198.3 13.6 L 201.9 13.6 L 201.9 40.6 L 198.3 40.6 L 198.3 28.2 L 184.5 28.2 L 184.5 40.6 L 180.8 40.6 L 180.8 13.6 \" fill=\"#000000\"/>\n",
       "<path class=\"atom-13\" d=\"M 124.7 45.6 L 128.4 45.6 L 128.4 57.1 L 142.2 57.1 L 142.2 45.6 L 145.9 45.6 L 145.9 72.6 L 142.2 72.6 L 142.2 60.1 L 128.4 60.1 L 128.4 72.6 L 124.7 72.6 L 124.7 45.6 \" fill=\"#000000\"/>\n",
       "<path class=\"atom-14\" d=\"M 92.6 100.3 L 96.3 100.3 L 96.3 111.8 L 110.1 111.8 L 110.1 100.3 L 113.8 100.3 L 113.8 127.3 L 110.1 127.3 L 110.1 114.8 L 96.3 114.8 L 96.3 127.3 L 92.6 127.3 L 92.6 100.3 \" fill=\"#000000\"/>\n",
       "<path class=\"atom-15\" d=\"M 155.1 165.2 L 158.8 165.2 L 158.8 176.7 L 172.6 176.7 L 172.6 165.2 L 176.3 165.2 L 176.3 192.2 L 172.6 192.2 L 172.6 179.8 L 158.8 179.8 L 158.8 192.2 L 155.1 192.2 L 155.1 165.2 \" fill=\"#000000\"/>\n",
       "</svg>"
      ],
      "text/plain": [
       "<IPython.core.display.SVG object>"
      ]
     },
     "metadata": {},
     "output_type": "display_data"
    },
    {
     "name": "stdin",
     "output_type": "stream",
     "text": [
      " t145g [#6X3:1]-[#16X4:2]-[#7X4:3]-[#1:4] C=CS(=O)(=O)[NH3+]\n"
     ]
    },
    {
     "name": "stdout",
     "output_type": "stream",
     "text": [
      "matched!\n"
     ]
    },
    {
     "data": {
      "image/svg+xml": [
       "<svg xmlns=\"http://www.w3.org/2000/svg\" xmlns:rdkit=\"http://www.rdkit.org/xml\" xmlns:xlink=\"http://www.w3.org/1999/xlink\" version=\"1.1\" baseProfile=\"full\" xml:space=\"preserve\" width=\"500px\" height=\"300px\" viewBox=\"0 0 500 300\">\n",
       "<!-- END OF HEADER -->\n",
       "<rect style=\"opacity:1.0;fill:#FFFFFF;stroke:none\" width=\"500.0\" height=\"300.0\" x=\"0.0\" y=\"0.0\"> </rect>\n",
       "<path class=\"bond-0 atom-0 atom-1\" d=\"M 142.4,155.4 L 214.2,114.1\" style=\"fill:none;fill-rule:evenodd;stroke:#000000;stroke-width:2.0px;stroke-linecap:butt;stroke-linejoin:miter;stroke-opacity:1\"/>\n",
       "<path class=\"bond-0 atom-0 atom-1\" d=\"M 154.8,162.6 L 214.1,128.4\" style=\"fill:none;fill-rule:evenodd;stroke:#000000;stroke-width:2.0px;stroke-linecap:butt;stroke-linejoin:miter;stroke-opacity:1\"/>\n",
       "<path class=\"bond-1 atom-1 atom-2\" d=\"M 214.2,114.1 L 244.1,131.4\" style=\"fill:none;fill-rule:evenodd;stroke:#000000;stroke-width:2.0px;stroke-linecap:butt;stroke-linejoin:miter;stroke-opacity:1\"/>\n",
       "<path class=\"bond-1 atom-1 atom-2\" d=\"M 244.1,131.4 L 274.0,148.7\" style=\"fill:none;fill-rule:evenodd;stroke:#CCCC00;stroke-width:2.0px;stroke-linecap:butt;stroke-linejoin:miter;stroke-opacity:1\"/>\n",
       "<path class=\"bond-2 atom-2 atom-3\" d=\"M 270.3,170.0 L 259.6,188.5\" style=\"fill:none;fill-rule:evenodd;stroke:#CCCC00;stroke-width:2.0px;stroke-linecap:butt;stroke-linejoin:miter;stroke-opacity:1\"/>\n",
       "<path class=\"bond-2 atom-2 atom-3\" d=\"M 259.6,188.5 L 248.9,207.1\" style=\"fill:none;fill-rule:evenodd;stroke:#FF0000;stroke-width:2.0px;stroke-linecap:butt;stroke-linejoin:miter;stroke-opacity:1\"/>\n",
       "<path class=\"bond-2 atom-2 atom-3\" d=\"M 281.0,176.2 L 270.3,194.8\" style=\"fill:none;fill-rule:evenodd;stroke:#CCCC00;stroke-width:2.0px;stroke-linecap:butt;stroke-linejoin:miter;stroke-opacity:1\"/>\n",
       "<path class=\"bond-2 atom-2 atom-3\" d=\"M 270.3,194.8 L 259.6,213.3\" style=\"fill:none;fill-rule:evenodd;stroke:#FF0000;stroke-width:2.0px;stroke-linecap:butt;stroke-linejoin:miter;stroke-opacity:1\"/>\n",
       "<path class=\"bond-3 atom-2 atom-4\" d=\"M 301.0,141.8 L 311.8,123.1\" style=\"fill:none;fill-rule:evenodd;stroke:#CCCC00;stroke-width:2.0px;stroke-linecap:butt;stroke-linejoin:miter;stroke-opacity:1\"/>\n",
       "<path class=\"bond-3 atom-2 atom-4\" d=\"M 311.8,123.1 L 322.6,104.4\" style=\"fill:none;fill-rule:evenodd;stroke:#FF0000;stroke-width:2.0px;stroke-linecap:butt;stroke-linejoin:miter;stroke-opacity:1\"/>\n",
       "<path class=\"bond-3 atom-2 atom-4\" d=\"M 290.2,135.6 L 301.0,116.9\" style=\"fill:none;fill-rule:evenodd;stroke:#CCCC00;stroke-width:2.0px;stroke-linecap:butt;stroke-linejoin:miter;stroke-opacity:1\"/>\n",
       "<path class=\"bond-3 atom-2 atom-4\" d=\"M 301.0,116.9 L 311.8,98.2\" style=\"fill:none;fill-rule:evenodd;stroke:#FF0000;stroke-width:2.0px;stroke-linecap:butt;stroke-linejoin:miter;stroke-opacity:1\"/>\n",
       "<path class=\"bond-4 atom-2 atom-5\" d=\"M 297.7,162.4 L 320.9,175.8\" style=\"fill:none;fill-rule:evenodd;stroke:#CCCC00;stroke-width:2.0px;stroke-linecap:butt;stroke-linejoin:miter;stroke-opacity:1\"/>\n",
       "<path class=\"bond-4 atom-2 atom-5\" d=\"M 320.9,175.8 L 344.1,189.2\" style=\"fill:none;fill-rule:evenodd;stroke:#0000FF;stroke-width:2.0px;stroke-linecap:butt;stroke-linejoin:miter;stroke-opacity:1\"/>\n",
       "<path class=\"bond-5 atom-0 atom-6\" d=\"M 142.4,155.4 L 142.3,221.3\" style=\"fill:none;fill-rule:evenodd;stroke:#000000;stroke-width:2.0px;stroke-linecap:butt;stroke-linejoin:miter;stroke-opacity:1\"/>\n",
       "<path class=\"bond-6 atom-0 atom-7\" d=\"M 142.4,155.4 L 84.5,121.9\" style=\"fill:none;fill-rule:evenodd;stroke:#000000;stroke-width:2.0px;stroke-linecap:butt;stroke-linejoin:miter;stroke-opacity:1\"/>\n",
       "<path class=\"bond-7 atom-1 atom-8\" d=\"M 214.2,114.1 L 214.2,48.1\" style=\"fill:none;fill-rule:evenodd;stroke:#000000;stroke-width:2.0px;stroke-linecap:butt;stroke-linejoin:miter;stroke-opacity:1\"/>\n",
       "<path class=\"bond-8 atom-5 atom-9\" d=\"M 347.8,213.9 L 336.8,232.9\" style=\"fill:none;fill-rule:evenodd;stroke:#0000FF;stroke-width:2.0px;stroke-linecap:butt;stroke-linejoin:miter;stroke-opacity:1\"/>\n",
       "<path class=\"bond-8 atom-5 atom-9\" d=\"M 336.8,232.9 L 325.9,251.8\" style=\"fill:none;fill-rule:evenodd;stroke:#000000;stroke-width:2.0px;stroke-linecap:butt;stroke-linejoin:miter;stroke-opacity:1\"/>\n",
       "<path class=\"bond-9 atom-5 atom-10\" d=\"M 367.3,213.9 L 378.2,232.9\" style=\"fill:none;fill-rule:evenodd;stroke:#0000FF;stroke-width:2.0px;stroke-linecap:butt;stroke-linejoin:miter;stroke-opacity:1\"/>\n",
       "<path class=\"bond-9 atom-5 atom-10\" d=\"M 378.2,232.9 L 389.2,251.9\" style=\"fill:none;fill-rule:evenodd;stroke:#000000;stroke-width:2.0px;stroke-linecap:butt;stroke-linejoin:miter;stroke-opacity:1\"/>\n",
       "<path class=\"bond-10 atom-5 atom-11\" d=\"M 387.1,180.0 L 401.3,171.8\" style=\"fill:none;fill-rule:evenodd;stroke:#0000FF;stroke-width:2.0px;stroke-linecap:butt;stroke-linejoin:miter;stroke-opacity:1\"/>\n",
       "<path class=\"bond-10 atom-5 atom-11\" d=\"M 401.3,171.8 L 415.5,163.6\" style=\"fill:none;fill-rule:evenodd;stroke:#000000;stroke-width:2.0px;stroke-linecap:butt;stroke-linejoin:miter;stroke-opacity:1\"/>\n",
       "<path class=\"atom-2\" d=\"M 277.8 165.2 Q 278.2 165.4, 279.5 165.9 Q 280.8 166.5, 282.2 166.8 Q 283.7 167.2, 285.2 167.2 Q 287.8 167.2, 289.4 165.9 Q 291.0 164.6, 291.0 162.3 Q 291.0 160.7, 290.2 159.8 Q 289.4 158.8, 288.2 158.3 Q 287.0 157.8, 285.0 157.2 Q 282.5 156.4, 281.0 155.7 Q 279.5 155.0, 278.4 153.4 Q 277.4 151.9, 277.4 149.4 Q 277.4 145.8, 279.8 143.6 Q 282.2 141.4, 287.0 141.4 Q 290.3 141.4, 294.0 143.0 L 293.1 146.0 Q 289.7 144.6, 287.1 144.6 Q 284.4 144.6, 282.8 145.8 Q 281.3 146.9, 281.4 148.9 Q 281.4 150.4, 282.1 151.3 Q 282.9 152.2, 284.0 152.8 Q 285.2 153.3, 287.1 153.9 Q 289.7 154.7, 291.2 155.5 Q 292.7 156.3, 293.8 157.9 Q 294.9 159.5, 294.9 162.3 Q 294.9 166.2, 292.3 168.3 Q 289.7 170.4, 285.3 170.4 Q 282.8 170.4, 280.9 169.8 Q 279.0 169.3, 276.8 168.4 L 277.8 165.2 \" fill=\"#CCCC00\"/>\n",
       "<path class=\"atom-3\" d=\"M 231.4 227.3 Q 231.4 220.5, 234.7 216.7 Q 238.1 212.9, 244.4 212.9 Q 250.7 212.9, 254.0 216.7 Q 257.4 220.5, 257.4 227.3 Q 257.4 234.2, 254.0 238.1 Q 250.6 242.0, 244.4 242.0 Q 238.1 242.0, 234.7 238.1 Q 231.4 234.2, 231.4 227.3 M 244.4 238.8 Q 248.7 238.8, 251.0 235.9 Q 253.4 233.0, 253.4 227.3 Q 253.4 221.7, 251.0 218.9 Q 248.7 216.1, 244.4 216.1 Q 240.1 216.1, 237.7 218.9 Q 235.4 221.7, 235.4 227.3 Q 235.4 233.0, 237.7 235.9 Q 240.1 238.8, 244.4 238.8 \" fill=\"#FF0000\"/>\n",
       "<path class=\"atom-4\" d=\"M 314.3 83.9 Q 314.3 77.1, 317.7 73.3 Q 321.1 69.5, 327.3 69.5 Q 333.6 69.5, 337.0 73.3 Q 340.3 77.1, 340.3 83.9 Q 340.3 90.8, 336.9 94.7 Q 333.5 98.6, 327.3 98.6 Q 321.1 98.6, 317.7 94.7 Q 314.3 90.8, 314.3 83.9 M 327.3 95.4 Q 331.7 95.4, 334.0 92.5 Q 336.3 89.6, 336.3 83.9 Q 336.3 78.3, 334.0 75.5 Q 331.7 72.7, 327.3 72.7 Q 323.0 72.7, 320.7 75.5 Q 318.3 78.3, 318.3 83.9 Q 318.3 89.6, 320.7 92.5 Q 323.0 95.4, 327.3 95.4 \" fill=\"#FF0000\"/>\n",
       "<path class=\"atom-5\" d=\"M 351.3 182.8 L 360.6 197.8 Q 361.5 199.3, 363.0 202.0 Q 364.4 204.7, 364.5 204.8 L 364.5 182.8 L 368.3 182.8 L 368.3 211.2 L 364.4 211.2 L 354.4 194.8 Q 353.3 192.8, 352.0 190.6 Q 350.8 188.4, 350.5 187.8 L 350.5 211.2 L 346.8 211.2 L 346.8 182.8 L 351.3 182.8 \" fill=\"#0000FF\"/>\n",
       "<path class=\"atom-5\" d=\"M 373.6 188.0 L 378.6 188.0 L 378.6 182.7 L 380.8 182.7 L 380.8 188.0 L 385.9 188.0 L 385.9 189.9 L 380.8 189.9 L 380.8 195.1 L 378.6 195.1 L 378.6 189.9 L 373.6 189.9 L 373.6 188.0 \" fill=\"#0000FF\"/>\n",
       "<path class=\"atom-6\" d=\"M 131.2 224.1 L 135.1 224.1 L 135.1 236.1 L 149.6 236.1 L 149.6 224.1 L 153.4 224.1 L 153.4 252.4 L 149.6 252.4 L 149.6 239.3 L 135.1 239.3 L 135.1 252.4 L 131.2 252.4 L 131.2 224.1 \" fill=\"#000000\"/>\n",
       "<path class=\"atom-7\" d=\"M 59.6 99.8 L 63.4 99.8 L 63.4 111.8 L 77.9 111.8 L 77.9 99.8 L 81.8 99.8 L 81.8 128.1 L 77.9 128.1 L 77.9 115.0 L 63.4 115.0 L 63.4 128.1 L 59.6 128.1 L 59.6 99.8 \" fill=\"#000000\"/>\n",
       "<path class=\"atom-8\" d=\"M 203.1 17.1 L 207.0 17.1 L 207.0 29.1 L 221.5 29.1 L 221.5 17.1 L 225.3 17.1 L 225.3 45.4 L 221.5 45.4 L 221.5 32.3 L 207.0 32.3 L 207.0 45.4 L 203.1 45.4 L 203.1 17.1 \" fill=\"#000000\"/>\n",
       "<path class=\"atom-9\" d=\"M 305.0 254.5 L 308.8 254.5 L 308.8 266.6 L 323.3 266.6 L 323.3 254.5 L 327.2 254.5 L 327.2 282.9 L 323.3 282.9 L 323.3 269.8 L 308.8 269.8 L 308.8 282.9 L 305.0 282.9 L 305.0 254.5 \" fill=\"#000000\"/>\n",
       "<path class=\"atom-10\" d=\"M 387.8 254.6 L 391.7 254.6 L 391.7 266.7 L 406.2 266.7 L 406.2 254.6 L 410.0 254.6 L 410.0 282.9 L 406.2 282.9 L 406.2 269.9 L 391.7 269.9 L 391.7 282.9 L 387.8 282.9 L 387.8 254.6 \" fill=\"#000000\"/>\n",
       "<path class=\"atom-11\" d=\"M 418.2 141.5 L 422.1 141.5 L 422.1 153.5 L 436.6 153.5 L 436.6 141.5 L 440.4 141.5 L 440.4 169.8 L 436.6 169.8 L 436.6 156.7 L 422.1 156.7 L 422.1 169.8 L 418.2 169.8 L 418.2 141.5 \" fill=\"#000000\"/>\n",
       "</svg>"
      ],
      "text/plain": [
       "<IPython.core.display.SVG object>"
      ]
     },
     "metadata": {},
     "output_type": "display_data"
    },
    {
     "name": "stdin",
     "output_type": "stream",
     "text": [
      " t145g [#6X3:1]-[#16X4:2]-[#7X4:3]-[#1:4] C=CS(=O)(=O)[NH2+]C\n"
     ]
    },
    {
     "name": "stdout",
     "output_type": "stream",
     "text": [
      "matched!\n"
     ]
    },
    {
     "data": {
      "image/svg+xml": [
       "<svg xmlns=\"http://www.w3.org/2000/svg\" xmlns:rdkit=\"http://www.rdkit.org/xml\" xmlns:xlink=\"http://www.w3.org/1999/xlink\" version=\"1.1\" baseProfile=\"full\" xml:space=\"preserve\" width=\"500px\" height=\"300px\" viewBox=\"0 0 500 300\">\n",
       "<!-- END OF HEADER -->\n",
       "<rect style=\"opacity:1.0;fill:#FFFFFF;stroke:none\" width=\"500.0\" height=\"300.0\" x=\"0.0\" y=\"0.0\"> </rect>\n",
       "<path class=\"bond-0 atom-0 atom-1\" d=\"M 347.9,64.9 L 348.0,136.8\" style=\"fill:none;fill-rule:evenodd;stroke:#000000;stroke-width:2.0px;stroke-linecap:butt;stroke-linejoin:miter;stroke-opacity:1\"/>\n",
       "<path class=\"bond-0 atom-0 atom-1\" d=\"M 337.1,71.2 L 337.3,130.6\" style=\"fill:none;fill-rule:evenodd;stroke:#000000;stroke-width:2.0px;stroke-linecap:butt;stroke-linejoin:miter;stroke-opacity:1\"/>\n",
       "<path class=\"bond-1 atom-1 atom-2\" d=\"M 348.0,136.8 L 322.7,151.5\" style=\"fill:none;fill-rule:evenodd;stroke:#000000;stroke-width:2.0px;stroke-linecap:butt;stroke-linejoin:miter;stroke-opacity:1\"/>\n",
       "<path class=\"bond-1 atom-1 atom-2\" d=\"M 322.7,151.5 L 297.4,166.2\" style=\"fill:none;fill-rule:evenodd;stroke:#CCCC00;stroke-width:2.0px;stroke-linecap:butt;stroke-linejoin:miter;stroke-opacity:1\"/>\n",
       "<path class=\"bond-2 atom-2 atom-3\" d=\"M 281.0,153.6 L 272.7,139.3\" style=\"fill:none;fill-rule:evenodd;stroke:#CCCC00;stroke-width:2.0px;stroke-linecap:butt;stroke-linejoin:miter;stroke-opacity:1\"/>\n",
       "<path class=\"bond-2 atom-2 atom-3\" d=\"M 272.7,139.3 L 264.5,125.1\" style=\"fill:none;fill-rule:evenodd;stroke:#FF0000;stroke-width:2.0px;stroke-linecap:butt;stroke-linejoin:miter;stroke-opacity:1\"/>\n",
       "<path class=\"bond-2 atom-2 atom-3\" d=\"M 271.7,159.0 L 263.4,144.7\" style=\"fill:none;fill-rule:evenodd;stroke:#CCCC00;stroke-width:2.0px;stroke-linecap:butt;stroke-linejoin:miter;stroke-opacity:1\"/>\n",
       "<path class=\"bond-2 atom-2 atom-3\" d=\"M 263.4,144.7 L 255.1,130.5\" style=\"fill:none;fill-rule:evenodd;stroke:#FF0000;stroke-width:2.0px;stroke-linecap:butt;stroke-linejoin:miter;stroke-opacity:1\"/>\n",
       "<path class=\"bond-3 atom-2 atom-4\" d=\"M 291.3,192.7 L 299.4,206.8\" style=\"fill:none;fill-rule:evenodd;stroke:#CCCC00;stroke-width:2.0px;stroke-linecap:butt;stroke-linejoin:miter;stroke-opacity:1\"/>\n",
       "<path class=\"bond-3 atom-2 atom-4\" d=\"M 299.4,206.8 L 307.6,220.9\" style=\"fill:none;fill-rule:evenodd;stroke:#FF0000;stroke-width:2.0px;stroke-linecap:butt;stroke-linejoin:miter;stroke-opacity:1\"/>\n",
       "<path class=\"bond-3 atom-2 atom-4\" d=\"M 300.6,187.3 L 308.8,201.4\" style=\"fill:none;fill-rule:evenodd;stroke:#CCCC00;stroke-width:2.0px;stroke-linecap:butt;stroke-linejoin:miter;stroke-opacity:1\"/>\n",
       "<path class=\"bond-3 atom-2 atom-4\" d=\"M 308.8,201.4 L 316.9,215.5\" style=\"fill:none;fill-rule:evenodd;stroke:#FF0000;stroke-width:2.0px;stroke-linecap:butt;stroke-linejoin:miter;stroke-opacity:1\"/>\n",
       "<path class=\"bond-4 atom-2 atom-5\" d=\"M 274.5,179.4 L 263.5,185.8\" style=\"fill:none;fill-rule:evenodd;stroke:#CCCC00;stroke-width:2.0px;stroke-linecap:butt;stroke-linejoin:miter;stroke-opacity:1\"/>\n",
       "<path class=\"bond-4 atom-2 atom-5\" d=\"M 263.5,185.8 L 252.5,192.2\" style=\"fill:none;fill-rule:evenodd;stroke:#0000FF;stroke-width:2.0px;stroke-linecap:butt;stroke-linejoin:miter;stroke-opacity:1\"/>\n",
       "<path class=\"bond-5 atom-5 atom-6\" d=\"M 210.7,201.3 L 186.1,187.2\" style=\"fill:none;fill-rule:evenodd;stroke:#0000FF;stroke-width:2.0px;stroke-linecap:butt;stroke-linejoin:miter;stroke-opacity:1\"/>\n",
       "<path class=\"bond-5 atom-5 atom-6\" d=\"M 186.1,187.2 L 161.5,173.0\" style=\"fill:none;fill-rule:evenodd;stroke:#000000;stroke-width:2.0px;stroke-linecap:butt;stroke-linejoin:miter;stroke-opacity:1\"/>\n",
       "<path class=\"bond-6 atom-0 atom-7\" d=\"M 347.9,64.9 L 299.1,36.9\" style=\"fill:none;fill-rule:evenodd;stroke:#000000;stroke-width:2.0px;stroke-linecap:butt;stroke-linejoin:miter;stroke-opacity:1\"/>\n",
       "<path class=\"bond-7 atom-0 atom-8\" d=\"M 347.9,64.9 L 396.6,36.7\" style=\"fill:none;fill-rule:evenodd;stroke:#000000;stroke-width:2.0px;stroke-linecap:butt;stroke-linejoin:miter;stroke-opacity:1\"/>\n",
       "<path class=\"bond-8 atom-1 atom-9\" d=\"M 348.0,136.8 L 396.9,164.8\" style=\"fill:none;fill-rule:evenodd;stroke:#000000;stroke-width:2.0px;stroke-linecap:butt;stroke-linejoin:miter;stroke-opacity:1\"/>\n",
       "<path class=\"bond-9 atom-5 atom-10\" d=\"M 233.4,225.4 L 241.8,239.9\" style=\"fill:none;fill-rule:evenodd;stroke:#0000FF;stroke-width:2.0px;stroke-linecap:butt;stroke-linejoin:miter;stroke-opacity:1\"/>\n",
       "<path class=\"bond-9 atom-5 atom-10\" d=\"M 241.8,239.9 L 250.2,254.4\" style=\"fill:none;fill-rule:evenodd;stroke:#000000;stroke-width:2.0px;stroke-linecap:butt;stroke-linejoin:miter;stroke-opacity:1\"/>\n",
       "<path class=\"bond-10 atom-5 atom-11\" d=\"M 214.3,225.4 L 205.9,240.0\" style=\"fill:none;fill-rule:evenodd;stroke:#0000FF;stroke-width:2.0px;stroke-linecap:butt;stroke-linejoin:miter;stroke-opacity:1\"/>\n",
       "<path class=\"bond-10 atom-5 atom-11\" d=\"M 205.9,240.0 L 197.5,254.6\" style=\"fill:none;fill-rule:evenodd;stroke:#000000;stroke-width:2.0px;stroke-linecap:butt;stroke-linejoin:miter;stroke-opacity:1\"/>\n",
       "<path class=\"bond-11 atom-6 atom-12\" d=\"M 161.5,173.0 L 135.2,218.8\" style=\"fill:none;fill-rule:evenodd;stroke:#000000;stroke-width:2.0px;stroke-linecap:butt;stroke-linejoin:miter;stroke-opacity:1\"/>\n",
       "<path class=\"bond-12 atom-6 atom-13\" d=\"M 161.5,173.0 L 103.1,173.2\" style=\"fill:none;fill-rule:evenodd;stroke:#000000;stroke-width:2.0px;stroke-linecap:butt;stroke-linejoin:miter;stroke-opacity:1\"/>\n",
       "<path class=\"bond-13 atom-6 atom-14\" d=\"M 161.5,173.0 L 161.4,117.8\" style=\"fill:none;fill-rule:evenodd;stroke:#000000;stroke-width:2.0px;stroke-linecap:butt;stroke-linejoin:miter;stroke-opacity:1\"/>\n",
       "<path class=\"atom-2\" d=\"M 277.9 182.5 Q 278.2 182.6, 279.6 183.2 Q 280.9 183.8, 282.3 184.1 Q 283.8 184.4, 285.2 184.4 Q 287.9 184.4, 289.5 183.2 Q 291.0 181.8, 291.0 179.6 Q 291.0 178.0, 290.2 177.0 Q 289.5 176.1, 288.3 175.6 Q 287.1 175.0, 285.1 174.4 Q 282.6 173.7, 281.0 173.0 Q 279.6 172.2, 278.5 170.7 Q 277.4 169.2, 277.4 166.6 Q 277.4 163.1, 279.8 160.9 Q 282.3 158.7, 287.1 158.7 Q 290.4 158.7, 294.1 160.2 L 293.2 163.3 Q 289.8 161.9, 287.2 161.9 Q 284.4 161.9, 282.9 163.1 Q 281.4 164.2, 281.4 166.2 Q 281.4 167.7, 282.2 168.6 Q 283.0 169.5, 284.1 170.0 Q 285.3 170.6, 287.2 171.2 Q 289.8 172.0, 291.3 172.8 Q 292.8 173.6, 293.9 175.2 Q 295.0 176.8, 295.0 179.6 Q 295.0 183.5, 292.4 185.6 Q 289.8 187.7, 285.4 187.7 Q 282.9 187.7, 281.0 187.1 Q 279.1 186.6, 276.8 185.7 L 277.9 182.5 \" fill=\"#CCCC00\"/>\n",
       "<path class=\"atom-3\" d=\"M 236.9 110.7 Q 236.9 103.9, 240.2 100.1 Q 243.6 96.3, 249.9 96.3 Q 256.2 96.3, 259.5 100.1 Q 262.9 103.9, 262.9 110.7 Q 262.9 117.6, 259.5 121.5 Q 256.1 125.4, 249.9 125.4 Q 243.6 125.4, 240.2 121.5 Q 236.9 117.7, 236.9 110.7 M 249.9 122.2 Q 254.2 122.2, 256.5 119.3 Q 258.9 116.4, 258.9 110.7 Q 258.9 105.2, 256.5 102.4 Q 254.2 99.5, 249.9 99.5 Q 245.6 99.5, 243.2 102.3 Q 240.9 105.1, 240.9 110.7 Q 240.9 116.5, 243.2 119.3 Q 245.6 122.2, 249.9 122.2 \" fill=\"#FF0000\"/>\n",
       "<path class=\"atom-4\" d=\"M 309.0 235.0 Q 309.0 228.2, 312.3 224.4 Q 315.7 220.6, 322.0 220.6 Q 328.2 220.6, 331.6 224.4 Q 335.0 228.2, 335.0 235.0 Q 335.0 241.9, 331.6 245.8 Q 328.2 249.7, 322.0 249.7 Q 315.7 249.7, 312.3 245.8 Q 309.0 241.9, 309.0 235.0 M 322.0 246.5 Q 326.3 246.5, 328.6 243.6 Q 331.0 240.7, 331.0 235.0 Q 331.0 229.4, 328.6 226.6 Q 326.3 223.8, 322.0 223.8 Q 317.6 223.8, 315.3 226.6 Q 313.0 229.4, 313.0 235.0 Q 313.0 240.7, 315.3 243.6 Q 317.6 246.5, 322.0 246.5 \" fill=\"#FF0000\"/>\n",
       "<path class=\"atom-5\" d=\"M 217.5 194.7 L 226.8 209.7 Q 227.7 211.2, 229.2 213.8 Q 230.7 216.5, 230.8 216.7 L 230.8 194.7 L 234.5 194.7 L 234.5 223.0 L 230.6 223.0 L 220.7 206.6 Q 219.5 204.7, 218.3 202.5 Q 217.1 200.3, 216.7 199.6 L 216.7 223.0 L 213.0 223.0 L 213.0 194.7 L 217.5 194.7 \" fill=\"#0000FF\"/>\n",
       "<path class=\"atom-5\" d=\"M 239.9 199.8 L 244.8 199.8 L 244.8 194.5 L 247.1 194.5 L 247.1 199.8 L 252.2 199.8 L 252.2 201.7 L 247.1 201.7 L 247.1 207.0 L 244.8 207.0 L 244.8 201.7 L 239.9 201.7 L 239.9 199.8 \" fill=\"#0000FF\"/>\n",
       "<path class=\"atom-7\" d=\"M 274.5 15.0 L 278.4 15.0 L 278.4 27.0 L 292.9 27.0 L 292.9 15.0 L 296.7 15.0 L 296.7 43.3 L 292.9 43.3 L 292.9 30.2 L 278.4 30.2 L 278.4 43.3 L 274.5 43.3 L 274.5 15.0 \" fill=\"#000000\"/>\n",
       "<path class=\"atom-8\" d=\"M 399.0 14.7 L 402.8 14.7 L 402.8 26.8 L 417.3 26.8 L 417.3 14.7 L 421.1 14.7 L 421.1 43.1 L 417.3 43.1 L 417.3 30.0 L 402.8 30.0 L 402.8 43.1 L 399.0 43.1 L 399.0 14.7 \" fill=\"#000000\"/>\n",
       "<path class=\"atom-9\" d=\"M 399.2 158.4 L 403.1 158.4 L 403.1 170.4 L 417.6 170.4 L 417.6 158.4 L 421.4 158.4 L 421.4 186.7 L 417.6 186.7 L 417.6 173.6 L 403.1 173.6 L 403.1 186.7 L 399.2 186.7 L 399.2 158.4 \" fill=\"#000000\"/>\n",
       "<path class=\"atom-10\" d=\"M 248.7 256.8 L 252.6 256.8 L 252.6 268.8 L 267.1 268.8 L 267.1 256.8 L 270.9 256.8 L 270.9 285.1 L 267.1 285.1 L 267.1 272.0 L 252.6 272.0 L 252.6 285.1 L 248.7 285.1 L 248.7 256.8 \" fill=\"#000000\"/>\n",
       "<path class=\"atom-11\" d=\"M 176.9 256.9 L 180.8 256.9 L 180.8 269.0 L 195.2 269.0 L 195.2 256.9 L 199.1 256.9 L 199.1 285.3 L 195.2 285.3 L 195.2 272.2 L 180.8 272.2 L 180.8 285.3 L 176.9 285.3 L 176.9 256.9 \" fill=\"#000000\"/>\n",
       "<path class=\"atom-12\" d=\"M 114.6 221.2 L 118.5 221.2 L 118.5 233.2 L 133.0 233.2 L 133.0 221.2 L 136.8 221.2 L 136.8 249.5 L 133.0 249.5 L 133.0 236.4 L 118.5 236.4 L 118.5 249.5 L 114.6 249.5 L 114.6 221.2 \" fill=\"#000000\"/>\n",
       "<path class=\"atom-13\" d=\"M 78.6 159.0 L 82.4 159.0 L 82.4 171.1 L 96.9 171.1 L 96.9 159.0 L 100.8 159.0 L 100.8 187.4 L 96.9 187.4 L 96.9 174.3 L 82.4 174.3 L 82.4 187.4 L 78.6 187.4 L 78.6 159.0 \" fill=\"#000000\"/>\n",
       "<path class=\"atom-14\" d=\"M 150.3 87.1 L 154.1 87.1 L 154.1 99.1 L 168.6 99.1 L 168.6 87.1 L 172.4 87.1 L 172.4 115.4 L 168.6 115.4 L 168.6 102.3 L 154.1 102.3 L 154.1 115.4 L 150.3 115.4 L 150.3 87.1 \" fill=\"#000000\"/>\n",
       "</svg>"
      ],
      "text/plain": [
       "<IPython.core.display.SVG object>"
      ]
     },
     "metadata": {},
     "output_type": "display_data"
    },
    {
     "name": "stdin",
     "output_type": "stream",
     "text": [
      " t145i [#6X3:1]-[#16X3+0:2]-[#7X4:3]-[#1:4] C=CS(=O)[NH2+]C\n"
     ]
    },
    {
     "name": "stdout",
     "output_type": "stream",
     "text": [
      "matched!\n"
     ]
    },
    {
     "data": {
      "image/svg+xml": [
       "<svg xmlns=\"http://www.w3.org/2000/svg\" xmlns:rdkit=\"http://www.rdkit.org/xml\" xmlns:xlink=\"http://www.w3.org/1999/xlink\" version=\"1.1\" baseProfile=\"full\" xml:space=\"preserve\" width=\"500px\" height=\"300px\" viewBox=\"0 0 500 300\">\n",
       "<!-- END OF HEADER -->\n",
       "<rect style=\"opacity:1.0;fill:#FFFFFF;stroke:none\" width=\"500.0\" height=\"300.0\" x=\"0.0\" y=\"0.0\"> </rect>\n",
       "<path class=\"bond-0 atom-0 atom-1\" d=\"M 107.6,129.6 L 178.8,170.7\" style=\"fill:none;fill-rule:evenodd;stroke:#000000;stroke-width:2.0px;stroke-linecap:butt;stroke-linejoin:miter;stroke-opacity:1\"/>\n",
       "<path class=\"bond-0 atom-0 atom-1\" d=\"M 119.9,122.5 L 178.8,156.4\" style=\"fill:none;fill-rule:evenodd;stroke:#000000;stroke-width:2.0px;stroke-linecap:butt;stroke-linejoin:miter;stroke-opacity:1\"/>\n",
       "<path class=\"bond-1 atom-1 atom-2\" d=\"M 178.8,170.7 L 208.5,153.5\" style=\"fill:none;fill-rule:evenodd;stroke:#000000;stroke-width:2.0px;stroke-linecap:butt;stroke-linejoin:miter;stroke-opacity:1\"/>\n",
       "<path class=\"bond-1 atom-1 atom-2\" d=\"M 208.5,153.5 L 238.2,136.3\" style=\"fill:none;fill-rule:evenodd;stroke:#CCCC00;stroke-width:2.0px;stroke-linecap:butt;stroke-linejoin:miter;stroke-opacity:1\"/>\n",
       "<path class=\"bond-2 atom-2 atom-3\" d=\"M 256.1,112.7 L 256.1,88.7\" style=\"fill:none;fill-rule:evenodd;stroke:#CCCC00;stroke-width:2.0px;stroke-linecap:butt;stroke-linejoin:miter;stroke-opacity:1\"/>\n",
       "<path class=\"bond-2 atom-2 atom-3\" d=\"M 256.1,88.7 L 256.1,64.7\" style=\"fill:none;fill-rule:evenodd;stroke:#FF0000;stroke-width:2.0px;stroke-linecap:butt;stroke-linejoin:miter;stroke-opacity:1\"/>\n",
       "<path class=\"bond-2 atom-2 atom-3\" d=\"M 243.8,112.7 L 243.8,88.7\" style=\"fill:none;fill-rule:evenodd;stroke:#CCCC00;stroke-width:2.0px;stroke-linecap:butt;stroke-linejoin:miter;stroke-opacity:1\"/>\n",
       "<path class=\"bond-2 atom-2 atom-3\" d=\"M 243.8,88.7 L 243.7,64.8\" style=\"fill:none;fill-rule:evenodd;stroke:#FF0000;stroke-width:2.0px;stroke-linecap:butt;stroke-linejoin:miter;stroke-opacity:1\"/>\n",
       "<path class=\"bond-3 atom-2 atom-4\" d=\"M 261.8,136.3 L 284.8,149.5\" style=\"fill:none;fill-rule:evenodd;stroke:#CCCC00;stroke-width:2.0px;stroke-linecap:butt;stroke-linejoin:miter;stroke-opacity:1\"/>\n",
       "<path class=\"bond-3 atom-2 atom-4\" d=\"M 284.8,149.5 L 307.7,162.8\" style=\"fill:none;fill-rule:evenodd;stroke:#0000FF;stroke-width:2.0px;stroke-linecap:butt;stroke-linejoin:miter;stroke-opacity:1\"/>\n",
       "<path class=\"bond-4 atom-4 atom-5\" d=\"M 350.6,153.5 L 371.5,141.5\" style=\"fill:none;fill-rule:evenodd;stroke:#0000FF;stroke-width:2.0px;stroke-linecap:butt;stroke-linejoin:miter;stroke-opacity:1\"/>\n",
       "<path class=\"bond-4 atom-4 atom-5\" d=\"M 371.5,141.5 L 392.4,129.4\" style=\"fill:none;fill-rule:evenodd;stroke:#000000;stroke-width:2.0px;stroke-linecap:butt;stroke-linejoin:miter;stroke-opacity:1\"/>\n",
       "<path class=\"bond-5 atom-0 atom-6\" d=\"M 107.6,129.6 L 107.5,64.3\" style=\"fill:none;fill-rule:evenodd;stroke:#000000;stroke-width:2.0px;stroke-linecap:butt;stroke-linejoin:miter;stroke-opacity:1\"/>\n",
       "<path class=\"bond-6 atom-0 atom-7\" d=\"M 107.6,129.6 L 50.2,162.8\" style=\"fill:none;fill-rule:evenodd;stroke:#000000;stroke-width:2.0px;stroke-linecap:butt;stroke-linejoin:miter;stroke-opacity:1\"/>\n",
       "<path class=\"bond-7 atom-1 atom-8\" d=\"M 178.8,170.7 L 178.8,236.0\" style=\"fill:none;fill-rule:evenodd;stroke:#000000;stroke-width:2.0px;stroke-linecap:butt;stroke-linejoin:miter;stroke-opacity:1\"/>\n",
       "<path class=\"bond-8 atom-4 atom-9\" d=\"M 331.0,187.4 L 341.8,206.1\" style=\"fill:none;fill-rule:evenodd;stroke:#0000FF;stroke-width:2.0px;stroke-linecap:butt;stroke-linejoin:miter;stroke-opacity:1\"/>\n",
       "<path class=\"bond-8 atom-4 atom-9\" d=\"M 341.8,206.1 L 352.6,224.8\" style=\"fill:none;fill-rule:evenodd;stroke:#000000;stroke-width:2.0px;stroke-linecap:butt;stroke-linejoin:miter;stroke-opacity:1\"/>\n",
       "<path class=\"bond-9 atom-4 atom-10\" d=\"M 311.5,187.4 L 300.7,206.2\" style=\"fill:none;fill-rule:evenodd;stroke:#0000FF;stroke-width:2.0px;stroke-linecap:butt;stroke-linejoin:miter;stroke-opacity:1\"/>\n",
       "<path class=\"bond-9 atom-4 atom-10\" d=\"M 300.7,206.2 L 289.9,224.9\" style=\"fill:none;fill-rule:evenodd;stroke:#000000;stroke-width:2.0px;stroke-linecap:butt;stroke-linejoin:miter;stroke-opacity:1\"/>\n",
       "<path class=\"bond-10 atom-5 atom-11\" d=\"M 392.4,129.4 L 361.0,75.1\" style=\"fill:none;fill-rule:evenodd;stroke:#000000;stroke-width:2.0px;stroke-linecap:butt;stroke-linejoin:miter;stroke-opacity:1\"/>\n",
       "<path class=\"bond-11 atom-5 atom-12\" d=\"M 392.4,129.4 L 423.7,75.0\" style=\"fill:none;fill-rule:evenodd;stroke:#000000;stroke-width:2.0px;stroke-linecap:butt;stroke-linejoin:miter;stroke-opacity:1\"/>\n",
       "<path class=\"bond-12 atom-5 atom-13\" d=\"M 392.4,129.4 L 449.8,162.5\" style=\"fill:none;fill-rule:evenodd;stroke:#000000;stroke-width:2.0px;stroke-linecap:butt;stroke-linejoin:miter;stroke-opacity:1\"/>\n",
       "<path class=\"atom-2\" d=\"M 242.0 139.2 Q 242.3 139.3, 243.6 139.9 Q 244.9 140.5, 246.4 140.8 Q 247.8 141.1, 249.3 141.1 Q 252.0 141.1, 253.5 139.9 Q 255.1 138.5, 255.1 136.3 Q 255.1 134.7, 254.3 133.7 Q 253.5 132.8, 252.3 132.3 Q 251.1 131.7, 249.1 131.1 Q 246.6 130.4, 245.1 129.7 Q 243.6 128.9, 242.5 127.4 Q 241.5 125.9, 241.5 123.3 Q 241.5 119.8, 243.9 117.6 Q 246.3 115.4, 251.1 115.4 Q 254.4 115.4, 258.1 116.9 L 257.2 120.0 Q 253.8 118.6, 251.2 118.6 Q 248.5 118.6, 247.0 119.8 Q 245.4 120.9, 245.5 122.9 Q 245.5 124.4, 246.2 125.3 Q 247.0 126.2, 248.2 126.7 Q 249.3 127.3, 251.2 127.9 Q 253.8 128.7, 255.3 129.5 Q 256.8 130.3, 257.9 131.9 Q 259.0 133.5, 259.0 136.3 Q 259.0 140.2, 256.4 142.3 Q 253.8 144.4, 249.4 144.4 Q 246.9 144.4, 245.0 143.8 Q 243.1 143.3, 240.9 142.4 L 242.0 139.2 \" fill=\"#CCCC00\"/>\n",
       "<path class=\"atom-3\" d=\"M 236.9 47.4 Q 236.9 40.6, 240.3 36.8 Q 243.6 33.0, 249.9 33.0 Q 256.2 33.0, 259.5 36.8 Q 262.9 40.6, 262.9 47.4 Q 262.9 54.2, 259.5 58.2 Q 256.1 62.0, 249.9 62.0 Q 243.7 62.0, 240.3 58.2 Q 236.9 54.3, 236.9 47.4 M 249.9 58.8 Q 254.2 58.8, 256.5 56.0 Q 258.9 53.0, 258.9 47.4 Q 258.9 41.8, 256.5 39.0 Q 254.2 36.2, 249.9 36.2 Q 245.6 36.2, 243.2 39.0 Q 240.9 41.8, 240.9 47.4 Q 240.9 53.1, 243.2 56.0 Q 245.6 58.8, 249.9 58.8 \" fill=\"#FF0000\"/>\n",
       "<path class=\"atom-4\" d=\"M 314.9 156.4 L 324.2 171.4 Q 325.1 172.9, 326.6 175.5 Q 328.1 178.2, 328.2 178.4 L 328.2 156.4 L 331.9 156.4 L 331.9 184.7 L 328.1 184.7 L 318.1 168.3 Q 316.9 166.4, 315.7 164.2 Q 314.5 162.0, 314.1 161.3 L 314.1 184.7 L 310.5 184.7 L 310.5 156.4 L 314.9 156.4 \" fill=\"#0000FF\"/>\n",
       "<path class=\"atom-4\" d=\"M 337.3 161.5 L 342.3 161.5 L 342.3 156.2 L 344.5 156.2 L 344.5 161.5 L 349.6 161.5 L 349.6 163.4 L 344.5 163.4 L 344.5 168.7 L 342.3 168.7 L 342.3 163.4 L 337.3 163.4 L 337.3 161.5 \" fill=\"#0000FF\"/>\n",
       "<path class=\"atom-6\" d=\"M 96.4 33.2 L 100.3 33.2 L 100.3 45.3 L 114.7 45.3 L 114.7 33.2 L 118.6 33.2 L 118.6 61.6 L 114.7 61.6 L 114.7 48.5 L 100.3 48.5 L 100.3 61.6 L 96.4 61.6 L 96.4 33.2 \" fill=\"#000000\"/>\n",
       "<path class=\"atom-7\" d=\"M 25.3 156.6 L 29.2 156.6 L 29.2 168.7 L 43.6 168.7 L 43.6 156.6 L 47.5 156.6 L 47.5 184.9 L 43.6 184.9 L 43.6 171.9 L 29.2 171.9 L 29.2 184.9 L 25.3 184.9 L 25.3 156.6 \" fill=\"#000000\"/>\n",
       "<path class=\"atom-8\" d=\"M 167.8 238.7 L 171.6 238.7 L 171.6 250.8 L 186.1 250.8 L 186.1 238.7 L 189.9 238.7 L 189.9 267.0 L 186.1 267.0 L 186.1 254.0 L 171.6 254.0 L 171.6 267.0 L 167.8 267.0 L 167.8 238.7 \" fill=\"#000000\"/>\n",
       "<path class=\"atom-9\" d=\"M 351.3 227.6 L 355.1 227.6 L 355.1 239.6 L 369.6 239.6 L 369.6 227.6 L 373.4 227.6 L 373.4 255.9 L 369.6 255.9 L 369.6 242.8 L 355.1 242.8 L 355.1 255.9 L 351.3 255.9 L 351.3 227.6 \" fill=\"#000000\"/>\n",
       "<path class=\"atom-10\" d=\"M 269.1 227.6 L 272.9 227.6 L 272.9 239.7 L 287.4 239.7 L 287.4 227.6 L 291.2 227.6 L 291.2 255.9 L 287.4 255.9 L 287.4 242.9 L 272.9 242.9 L 272.9 255.9 L 269.1 255.9 L 269.1 227.6 \" fill=\"#000000\"/>\n",
       "<path class=\"atom-11\" d=\"M 340.1 44.1 L 344.0 44.1 L 344.0 56.1 L 358.4 56.1 L 358.4 44.1 L 362.3 44.1 L 362.3 72.4 L 358.4 72.4 L 358.4 59.3 L 344.0 59.3 L 344.0 72.4 L 340.1 72.4 L 340.1 44.1 \" fill=\"#000000\"/>\n",
       "<path class=\"atom-12\" d=\"M 422.3 44.0 L 426.2 44.0 L 426.2 56.0 L 440.7 56.0 L 440.7 44.0 L 444.5 44.0 L 444.5 72.3 L 440.7 72.3 L 440.7 59.2 L 426.2 59.2 L 426.2 72.3 L 422.3 72.3 L 422.3 44.0 \" fill=\"#000000\"/>\n",
       "<path class=\"atom-13\" d=\"M 452.5 156.3 L 456.4 156.3 L 456.4 168.3 L 470.8 168.3 L 470.8 156.3 L 474.7 156.3 L 474.7 184.6 L 470.8 184.6 L 470.8 171.5 L 456.4 171.5 L 456.4 184.6 L 452.5 184.6 L 452.5 156.3 \" fill=\"#000000\"/>\n",
       "</svg>"
      ],
      "text/plain": [
       "<IPython.core.display.SVG object>"
      ]
     },
     "metadata": {},
     "output_type": "display_data"
    },
    {
     "name": "stdin",
     "output_type": "stream",
     "text": [
      " t146g [#6X4:1]-[#16X4:2]-[#7X4:3]-[#6X4:4] CCS(=O)(=O)[NH+](C)C\n"
     ]
    },
    {
     "name": "stdout",
     "output_type": "stream",
     "text": [
      "matched!\n"
     ]
    },
    {
     "data": {
      "image/svg+xml": [
       "<svg xmlns=\"http://www.w3.org/2000/svg\" xmlns:rdkit=\"http://www.rdkit.org/xml\" xmlns:xlink=\"http://www.w3.org/1999/xlink\" version=\"1.1\" baseProfile=\"full\" xml:space=\"preserve\" width=\"500px\" height=\"300px\" viewBox=\"0 0 500 300\">\n",
       "<!-- END OF HEADER -->\n",
       "<rect style=\"opacity:1.0;fill:#FFFFFF;stroke:none\" width=\"500.0\" height=\"300.0\" x=\"0.0\" y=\"0.0\"> </rect>\n",
       "<path class=\"bond-0 atom-0 atom-1\" d=\"M 127.1,173.6 L 187.8,209.0\" style=\"fill:none;fill-rule:evenodd;stroke:#000000;stroke-width:2.0px;stroke-linecap:butt;stroke-linejoin:miter;stroke-opacity:1\"/>\n",
       "<path class=\"bond-1 atom-1 atom-2\" d=\"M 187.8,209.0 L 212.8,194.8\" style=\"fill:none;fill-rule:evenodd;stroke:#000000;stroke-width:2.0px;stroke-linecap:butt;stroke-linejoin:miter;stroke-opacity:1\"/>\n",
       "<path class=\"bond-1 atom-1 atom-2\" d=\"M 212.8,194.8 L 237.8,180.5\" style=\"fill:none;fill-rule:evenodd;stroke:#CCCC00;stroke-width:2.0px;stroke-linecap:butt;stroke-linejoin:miter;stroke-opacity:1\"/>\n",
       "<path class=\"bond-2 atom-2 atom-3\" d=\"M 252.8,193.6 L 259.2,206.6\" style=\"fill:none;fill-rule:evenodd;stroke:#CCCC00;stroke-width:2.0px;stroke-linecap:butt;stroke-linejoin:miter;stroke-opacity:1\"/>\n",
       "<path class=\"bond-2 atom-2 atom-3\" d=\"M 259.2,206.6 L 265.6,219.6\" style=\"fill:none;fill-rule:evenodd;stroke:#FF0000;stroke-width:2.0px;stroke-linecap:butt;stroke-linejoin:miter;stroke-opacity:1\"/>\n",
       "<path class=\"bond-2 atom-2 atom-3\" d=\"M 262.5,188.8 L 268.9,201.9\" style=\"fill:none;fill-rule:evenodd;stroke:#CCCC00;stroke-width:2.0px;stroke-linecap:butt;stroke-linejoin:miter;stroke-opacity:1\"/>\n",
       "<path class=\"bond-2 atom-2 atom-3\" d=\"M 268.9,201.9 L 275.3,214.9\" style=\"fill:none;fill-rule:evenodd;stroke:#FF0000;stroke-width:2.0px;stroke-linecap:butt;stroke-linejoin:miter;stroke-opacity:1\"/>\n",
       "<path class=\"bond-3 atom-2 atom-4\" d=\"M 244.3,154.8 L 236.1,140.7\" style=\"fill:none;fill-rule:evenodd;stroke:#CCCC00;stroke-width:2.0px;stroke-linecap:butt;stroke-linejoin:miter;stroke-opacity:1\"/>\n",
       "<path class=\"bond-3 atom-2 atom-4\" d=\"M 236.1,140.7 L 227.9,126.6\" style=\"fill:none;fill-rule:evenodd;stroke:#FF0000;stroke-width:2.0px;stroke-linecap:butt;stroke-linejoin:miter;stroke-opacity:1\"/>\n",
       "<path class=\"bond-3 atom-2 atom-4\" d=\"M 235.0,160.2 L 226.8,146.1\" style=\"fill:none;fill-rule:evenodd;stroke:#CCCC00;stroke-width:2.0px;stroke-linecap:butt;stroke-linejoin:miter;stroke-opacity:1\"/>\n",
       "<path class=\"bond-3 atom-2 atom-4\" d=\"M 226.8,146.1 L 218.6,132.0\" style=\"fill:none;fill-rule:evenodd;stroke:#FF0000;stroke-width:2.0px;stroke-linecap:butt;stroke-linejoin:miter;stroke-opacity:1\"/>\n",
       "<path class=\"bond-4 atom-2 atom-5\" d=\"M 260.7,167.7 L 282.0,155.9\" style=\"fill:none;fill-rule:evenodd;stroke:#CCCC00;stroke-width:2.0px;stroke-linecap:butt;stroke-linejoin:miter;stroke-opacity:1\"/>\n",
       "<path class=\"bond-4 atom-2 atom-5\" d=\"M 282.0,155.9 L 303.3,144.2\" style=\"fill:none;fill-rule:evenodd;stroke:#0000FF;stroke-width:2.0px;stroke-linecap:butt;stroke-linejoin:miter;stroke-opacity:1\"/>\n",
       "<path class=\"bond-5 atom-5 atom-6\" d=\"M 340.8,120.3 L 360.3,106.9\" style=\"fill:none;fill-rule:evenodd;stroke:#0000FF;stroke-width:2.0px;stroke-linecap:butt;stroke-linejoin:miter;stroke-opacity:1\"/>\n",
       "<path class=\"bond-5 atom-5 atom-6\" d=\"M 360.3,106.9 L 379.9,93.5\" style=\"fill:none;fill-rule:evenodd;stroke:#000000;stroke-width:2.0px;stroke-linecap:butt;stroke-linejoin:miter;stroke-opacity:1\"/>\n",
       "<path class=\"bond-6 atom-5 atom-7\" d=\"M 326.5,153.5 L 342.0,179.0\" style=\"fill:none;fill-rule:evenodd;stroke:#0000FF;stroke-width:2.0px;stroke-linecap:butt;stroke-linejoin:miter;stroke-opacity:1\"/>\n",
       "<path class=\"bond-6 atom-5 atom-7\" d=\"M 342.0,179.0 L 357.4,204.5\" style=\"fill:none;fill-rule:evenodd;stroke:#000000;stroke-width:2.0px;stroke-linecap:butt;stroke-linejoin:miter;stroke-opacity:1\"/>\n",
       "<path class=\"bond-7 atom-0 atom-8\" d=\"M 127.1,173.6 L 100.8,218.9\" style=\"fill:none;fill-rule:evenodd;stroke:#000000;stroke-width:2.0px;stroke-linecap:butt;stroke-linejoin:miter;stroke-opacity:1\"/>\n",
       "<path class=\"bond-8 atom-0 atom-9\" d=\"M 127.1,173.6 L 69.3,173.2\" style=\"fill:none;fill-rule:evenodd;stroke:#000000;stroke-width:2.0px;stroke-linecap:butt;stroke-linejoin:miter;stroke-opacity:1\"/>\n",
       "<path class=\"bond-9 atom-0 atom-10\" d=\"M 127.1,173.6 L 127.7,118.8\" style=\"fill:none;fill-rule:evenodd;stroke:#000000;stroke-width:2.0px;stroke-linecap:butt;stroke-linejoin:miter;stroke-opacity:1\"/>\n",
       "<path class=\"bond-10 atom-1 atom-11\" d=\"M 187.8,209.0 L 214.2,254.6\" style=\"fill:none;fill-rule:evenodd;stroke:#000000;stroke-width:2.0px;stroke-linecap:butt;stroke-linejoin:miter;stroke-opacity:1\"/>\n",
       "<path class=\"bond-11 atom-1 atom-12\" d=\"M 187.8,209.0 L 161.6,254.6\" style=\"fill:none;fill-rule:evenodd;stroke:#000000;stroke-width:2.0px;stroke-linecap:butt;stroke-linejoin:miter;stroke-opacity:1\"/>\n",
       "<path class=\"bond-12 atom-5 atom-13\" d=\"M 306.2,120.4 L 297.5,106.4\" style=\"fill:none;fill-rule:evenodd;stroke:#0000FF;stroke-width:2.0px;stroke-linecap:butt;stroke-linejoin:miter;stroke-opacity:1\"/>\n",
       "<path class=\"bond-12 atom-5 atom-13\" d=\"M 297.5,106.4 L 288.8,92.3\" style=\"fill:none;fill-rule:evenodd;stroke:#000000;stroke-width:2.0px;stroke-linecap:butt;stroke-linejoin:miter;stroke-opacity:1\"/>\n",
       "<path class=\"bond-13 atom-6 atom-14\" d=\"M 379.9,93.5 L 351.2,50.3\" style=\"fill:none;fill-rule:evenodd;stroke:#000000;stroke-width:2.0px;stroke-linecap:butt;stroke-linejoin:miter;stroke-opacity:1\"/>\n",
       "<path class=\"bond-14 atom-6 atom-15\" d=\"M 379.9,93.5 L 403.2,45.4\" style=\"fill:none;fill-rule:evenodd;stroke:#000000;stroke-width:2.0px;stroke-linecap:butt;stroke-linejoin:miter;stroke-opacity:1\"/>\n",
       "<path class=\"bond-15 atom-6 atom-16\" d=\"M 379.9,93.5 L 430.7,116.1\" style=\"fill:none;fill-rule:evenodd;stroke:#000000;stroke-width:2.0px;stroke-linecap:butt;stroke-linejoin:miter;stroke-opacity:1\"/>\n",
       "<path class=\"bond-16 atom-7 atom-17\" d=\"M 357.4,204.5 L 403.0,179.6\" style=\"fill:none;fill-rule:evenodd;stroke:#000000;stroke-width:2.0px;stroke-linecap:butt;stroke-linejoin:miter;stroke-opacity:1\"/>\n",
       "<path class=\"bond-17 atom-7 atom-18\" d=\"M 357.4,204.5 L 406.5,231.7\" style=\"fill:none;fill-rule:evenodd;stroke:#000000;stroke-width:2.0px;stroke-linecap:butt;stroke-linejoin:miter;stroke-opacity:1\"/>\n",
       "<path class=\"bond-18 atom-7 atom-19\" d=\"M 357.4,204.5 L 334.1,250.7\" style=\"fill:none;fill-rule:evenodd;stroke:#000000;stroke-width:2.0px;stroke-linecap:butt;stroke-linejoin:miter;stroke-opacity:1\"/>\n",
       "<path class=\"atom-2\" d=\"M 241.2 183.7 Q 241.5 183.8, 242.9 184.4 Q 244.2 184.9, 245.6 185.3 Q 247.1 185.6, 248.5 185.6 Q 251.2 185.6, 252.8 184.3 Q 254.3 183.0, 254.3 180.7 Q 254.3 179.2, 253.5 178.2 Q 252.8 177.2, 251.6 176.7 Q 250.4 176.2, 248.4 175.6 Q 245.9 174.8, 244.3 174.1 Q 242.9 173.4, 241.8 171.9 Q 240.7 170.4, 240.7 167.8 Q 240.7 164.2, 243.1 162.0 Q 245.6 159.8, 250.4 159.8 Q 253.7 159.8, 257.4 161.4 L 256.5 164.5 Q 253.1 163.1, 250.5 163.1 Q 247.7 163.1, 246.2 164.2 Q 244.7 165.4, 244.7 167.3 Q 244.7 168.8, 245.5 169.8 Q 246.3 170.7, 247.4 171.2 Q 248.6 171.7, 250.5 172.3 Q 253.1 173.1, 254.6 173.9 Q 256.1 174.7, 257.2 176.4 Q 258.3 178.0, 258.3 180.7 Q 258.3 184.6, 255.7 186.8 Q 253.1 188.8, 248.7 188.8 Q 246.2 188.8, 244.3 188.3 Q 242.4 187.8, 240.1 186.8 L 241.2 183.7 \" fill=\"#CCCC00\"/>\n",
       "<path class=\"atom-3\" d=\"M 265.7 234.0 Q 265.7 227.2, 269.0 223.4 Q 272.4 219.6, 278.7 219.6 Q 285.0 219.6, 288.3 223.4 Q 291.7 227.2, 291.7 234.0 Q 291.7 240.9, 288.3 244.8 Q 284.9 248.7, 278.7 248.7 Q 272.4 248.7, 269.0 244.8 Q 265.7 241.0, 265.7 234.0 M 278.7 245.5 Q 283.0 245.5, 285.3 242.6 Q 287.7 239.7, 287.7 234.0 Q 287.7 228.5, 285.3 225.7 Q 283.0 222.8, 278.7 222.8 Q 274.4 222.8, 272.0 225.6 Q 269.7 228.4, 269.7 234.0 Q 269.7 239.8, 272.0 242.6 Q 274.4 245.5, 278.7 245.5 \" fill=\"#FF0000\"/>\n",
       "<path class=\"atom-4\" d=\"M 200.3 112.2 Q 200.3 105.4, 203.7 101.6 Q 207.1 97.8, 213.3 97.8 Q 219.6 97.8, 223.0 101.6 Q 226.3 105.4, 226.3 112.2 Q 226.3 119.1, 222.9 123.0 Q 219.5 126.9, 213.3 126.9 Q 207.1 126.9, 203.7 123.0 Q 200.3 119.2, 200.3 112.2 M 213.3 123.7 Q 217.7 123.7, 220.0 120.8 Q 222.3 117.9, 222.3 112.2 Q 222.3 106.7, 220.0 103.9 Q 217.7 101.0, 213.3 101.0 Q 209.0 101.0, 206.7 103.8 Q 204.3 106.6, 204.3 112.2 Q 204.3 118.0, 206.7 120.8 Q 209.0 123.7, 213.3 123.7 \" fill=\"#FF0000\"/>\n",
       "<path class=\"atom-5\" d=\"M 310.2 122.8 L 319.4 137.8 Q 320.4 139.3, 321.8 141.9 Q 323.3 144.6, 323.4 144.8 L 323.4 122.8 L 327.2 122.8 L 327.2 151.1 L 323.3 151.1 L 313.3 134.7 Q 312.2 132.8, 310.9 130.6 Q 309.7 128.4, 309.4 127.7 L 309.4 151.1 L 305.7 151.1 L 305.7 122.8 L 310.2 122.8 \" fill=\"#0000FF\"/>\n",
       "<path class=\"atom-5\" d=\"M 332.5 127.9 L 337.5 127.9 L 337.5 122.6 L 339.7 122.6 L 339.7 127.9 L 344.8 127.9 L 344.8 129.8 L 339.7 129.8 L 339.7 135.1 L 337.5 135.1 L 337.5 129.8 L 332.5 129.8 L 332.5 127.9 \" fill=\"#0000FF\"/>\n",
       "<path class=\"atom-8\" d=\"M 80.1 221.3 L 83.9 221.3 L 83.9 233.3 L 98.4 233.3 L 98.4 221.3 L 102.2 221.3 L 102.2 249.6 L 98.4 249.6 L 98.4 236.5 L 83.9 236.5 L 83.9 249.6 L 80.1 249.6 L 80.1 221.3 \" fill=\"#000000\"/>\n",
       "<path class=\"atom-9\" d=\"M 44.8 159.0 L 48.7 159.0 L 48.7 171.0 L 63.1 171.0 L 63.1 159.0 L 67.0 159.0 L 67.0 187.3 L 63.1 187.3 L 63.1 174.2 L 48.7 174.2 L 48.7 187.3 L 44.8 187.3 L 44.8 159.0 \" fill=\"#000000\"/>\n",
       "<path class=\"atom-10\" d=\"M 116.8 88.2 L 120.6 88.2 L 120.6 100.2 L 135.1 100.2 L 135.1 88.2 L 139.0 88.2 L 139.0 116.5 L 135.1 116.5 L 135.1 103.4 L 120.6 103.4 L 120.6 116.5 L 116.8 116.5 L 116.8 88.2 \" fill=\"#000000\"/>\n",
       "<path class=\"atom-11\" d=\"M 212.7 257.0 L 216.5 257.0 L 216.5 269.0 L 231.0 269.0 L 231.0 257.0 L 234.8 257.0 L 234.8 285.3 L 231.0 285.3 L 231.0 272.2 L 216.5 272.2 L 216.5 285.3 L 212.7 285.3 L 212.7 257.0 \" fill=\"#000000\"/>\n",
       "<path class=\"atom-12\" d=\"M 141.0 257.0 L 144.9 257.0 L 144.9 269.1 L 159.3 269.1 L 159.3 257.0 L 163.2 257.0 L 163.2 285.3 L 159.3 285.3 L 159.3 272.3 L 144.9 272.3 L 144.9 285.3 L 141.0 285.3 L 141.0 257.0 \" fill=\"#000000\"/>\n",
       "<path class=\"atom-13\" d=\"M 267.5 61.7 L 271.4 61.7 L 271.4 73.7 L 285.9 73.7 L 285.9 61.7 L 289.7 61.7 L 289.7 90.0 L 285.9 90.0 L 285.9 76.9 L 271.4 76.9 L 271.4 90.0 L 267.5 90.0 L 267.5 61.7 \" fill=\"#000000\"/>\n",
       "<path class=\"atom-14\" d=\"M 329.1 19.6 L 333.0 19.6 L 333.0 31.7 L 347.4 31.7 L 347.4 19.6 L 351.3 19.6 L 351.3 47.9 L 347.4 47.9 L 347.4 34.9 L 333.0 34.9 L 333.0 47.9 L 329.1 47.9 L 329.1 19.6 \" fill=\"#000000\"/>\n",
       "<path class=\"atom-15\" d=\"M 400.1 14.7 L 403.9 14.7 L 403.9 26.7 L 418.4 26.7 L 418.4 14.7 L 422.2 14.7 L 422.2 43.0 L 418.4 43.0 L 418.4 29.9 L 403.9 29.9 L 403.9 43.0 L 400.1 43.0 L 400.1 14.7 \" fill=\"#000000\"/>\n",
       "<path class=\"atom-16\" d=\"M 433.0 107.9 L 436.9 107.9 L 436.9 120.0 L 451.3 120.0 L 451.3 107.9 L 455.2 107.9 L 455.2 136.3 L 451.3 136.3 L 451.3 123.2 L 436.9 123.2 L 436.9 136.3 L 433.0 136.3 L 433.0 107.9 \" fill=\"#000000\"/>\n",
       "<path class=\"atom-17\" d=\"M 405.4 158.1 L 409.2 158.1 L 409.2 170.1 L 423.7 170.1 L 423.7 158.1 L 427.5 158.1 L 427.5 186.4 L 423.7 186.4 L 423.7 173.3 L 409.2 173.3 L 409.2 186.4 L 405.4 186.4 L 405.4 158.1 \" fill=\"#000000\"/>\n",
       "<path class=\"atom-18\" d=\"M 408.9 225.1 L 412.7 225.1 L 412.7 237.1 L 427.2 237.1 L 427.2 225.1 L 431.0 225.1 L 431.0 253.4 L 427.2 253.4 L 427.2 240.3 L 412.7 240.3 L 412.7 253.4 L 408.9 253.4 L 408.9 225.1 \" fill=\"#000000\"/>\n",
       "<path class=\"atom-19\" d=\"M 314.7 253.1 L 318.6 253.1 L 318.6 265.1 L 333.0 265.1 L 333.0 253.1 L 336.9 253.1 L 336.9 281.4 L 333.0 281.4 L 333.0 268.3 L 318.6 268.3 L 318.6 281.4 L 314.7 281.4 L 314.7 253.1 \" fill=\"#000000\"/>\n",
       "</svg>"
      ],
      "text/plain": [
       "<IPython.core.display.SVG object>"
      ]
     },
     "metadata": {},
     "output_type": "display_data"
    },
    {
     "name": "stdin",
     "output_type": "stream",
     "text": [
      " t146i [#6X4:1]-[#16X3+0:2]-[#7X4:3]-[#6X4:4] CCS(=O)[NH+](C)C\n"
     ]
    },
    {
     "name": "stdout",
     "output_type": "stream",
     "text": [
      "matched!\n"
     ]
    },
    {
     "data": {
      "image/svg+xml": [
       "<svg xmlns=\"http://www.w3.org/2000/svg\" xmlns:rdkit=\"http://www.rdkit.org/xml\" xmlns:xlink=\"http://www.w3.org/1999/xlink\" version=\"1.1\" baseProfile=\"full\" xml:space=\"preserve\" width=\"500px\" height=\"300px\" viewBox=\"0 0 500 300\">\n",
       "<!-- END OF HEADER -->\n",
       "<rect style=\"opacity:1.0;fill:#FFFFFF;stroke:none\" width=\"500.0\" height=\"300.0\" x=\"0.0\" y=\"0.0\"> </rect>\n",
       "<path class=\"bond-0 atom-0 atom-1\" d=\"M 251.3,229.9 L 297.0,203.9\" style=\"fill:none;fill-rule:evenodd;stroke:#000000;stroke-width:2.0px;stroke-linecap:butt;stroke-linejoin:miter;stroke-opacity:1\"/>\n",
       "<path class=\"bond-1 atom-1 atom-2\" d=\"M 297.0,203.9 L 297.4,184.2\" style=\"fill:none;fill-rule:evenodd;stroke:#000000;stroke-width:2.0px;stroke-linecap:butt;stroke-linejoin:miter;stroke-opacity:1\"/>\n",
       "<path class=\"bond-1 atom-1 atom-2\" d=\"M 297.4,184.2 L 297.8,164.5\" style=\"fill:none;fill-rule:evenodd;stroke:#CCCC00;stroke-width:2.0px;stroke-linecap:butt;stroke-linejoin:miter;stroke-opacity:1\"/>\n",
       "<path class=\"bond-2 atom-2 atom-3\" d=\"M 308.8,149.8 L 321.4,143.0\" style=\"fill:none;fill-rule:evenodd;stroke:#CCCC00;stroke-width:2.0px;stroke-linecap:butt;stroke-linejoin:miter;stroke-opacity:1\"/>\n",
       "<path class=\"bond-2 atom-2 atom-3\" d=\"M 321.4,143.0 L 334.0,136.2\" style=\"fill:none;fill-rule:evenodd;stroke:#FF0000;stroke-width:2.0px;stroke-linecap:butt;stroke-linejoin:miter;stroke-opacity:1\"/>\n",
       "<path class=\"bond-2 atom-2 atom-3\" d=\"M 305.0,142.8 L 317.7,136.0\" style=\"fill:none;fill-rule:evenodd;stroke:#CCCC00;stroke-width:2.0px;stroke-linecap:butt;stroke-linejoin:miter;stroke-opacity:1\"/>\n",
       "<path class=\"bond-2 atom-2 atom-3\" d=\"M 317.7,136.0 L 330.3,129.2\" style=\"fill:none;fill-rule:evenodd;stroke:#FF0000;stroke-width:2.0px;stroke-linecap:butt;stroke-linejoin:miter;stroke-opacity:1\"/>\n",
       "<path class=\"bond-3 atom-2 atom-4\" d=\"M 289.2,145.6 L 276.3,137.5\" style=\"fill:none;fill-rule:evenodd;stroke:#CCCC00;stroke-width:2.0px;stroke-linecap:butt;stroke-linejoin:miter;stroke-opacity:1\"/>\n",
       "<path class=\"bond-3 atom-2 atom-4\" d=\"M 276.3,137.5 L 263.3,129.4\" style=\"fill:none;fill-rule:evenodd;stroke:#0000FF;stroke-width:2.0px;stroke-linecap:butt;stroke-linejoin:miter;stroke-opacity:1\"/>\n",
       "<path class=\"bond-4 atom-4 atom-5\" d=\"M 243.0,123.2 L 220.1,123.6\" style=\"fill:none;fill-rule:evenodd;stroke:#0000FF;stroke-width:2.0px;stroke-linecap:butt;stroke-linejoin:miter;stroke-opacity:1\"/>\n",
       "<path class=\"bond-4 atom-4 atom-5\" d=\"M 220.1,123.6 L 197.2,124.0\" style=\"fill:none;fill-rule:evenodd;stroke:#000000;stroke-width:2.0px;stroke-linecap:butt;stroke-linejoin:miter;stroke-opacity:1\"/>\n",
       "<path class=\"bond-5 atom-4 atom-6\" d=\"M 254.0,110.2 L 255.4,89.1\" style=\"fill:none;fill-rule:evenodd;stroke:#0000FF;stroke-width:2.0px;stroke-linecap:butt;stroke-linejoin:miter;stroke-opacity:1\"/>\n",
       "<path class=\"bond-5 atom-4 atom-6\" d=\"M 255.4,89.1 L 256.8,68.0\" style=\"fill:none;fill-rule:evenodd;stroke:#000000;stroke-width:2.0px;stroke-linecap:butt;stroke-linejoin:miter;stroke-opacity:1\"/>\n",
       "<path class=\"bond-6 atom-0 atom-7\" d=\"M 251.3,229.9 L 270.0,262.5\" style=\"fill:none;fill-rule:evenodd;stroke:#000000;stroke-width:2.0px;stroke-linecap:butt;stroke-linejoin:miter;stroke-opacity:1\"/>\n",
       "<path class=\"bond-7 atom-0 atom-8\" d=\"M 251.3,229.9 L 232.6,262.4\" style=\"fill:none;fill-rule:evenodd;stroke:#000000;stroke-width:2.0px;stroke-linecap:butt;stroke-linejoin:miter;stroke-opacity:1\"/>\n",
       "<path class=\"bond-8 atom-0 atom-9\" d=\"M 251.3,229.9 L 216.3,209.8\" style=\"fill:none;fill-rule:evenodd;stroke:#000000;stroke-width:2.0px;stroke-linecap:butt;stroke-linejoin:miter;stroke-opacity:1\"/>\n",
       "<path class=\"bond-9 atom-1 atom-10\" d=\"M 297.0,203.9 L 338.9,204.5\" style=\"fill:none;fill-rule:evenodd;stroke:#000000;stroke-width:2.0px;stroke-linecap:butt;stroke-linejoin:miter;stroke-opacity:1\"/>\n",
       "<path class=\"bond-10 atom-1 atom-11\" d=\"M 297.0,203.9 L 315.5,236.6\" style=\"fill:none;fill-rule:evenodd;stroke:#000000;stroke-width:2.0px;stroke-linecap:butt;stroke-linejoin:miter;stroke-opacity:1\"/>\n",
       "<path class=\"bond-11 atom-4 atom-12\" d=\"M 245.7,135.9 L 240.2,145.5\" style=\"fill:none;fill-rule:evenodd;stroke:#0000FF;stroke-width:2.0px;stroke-linecap:butt;stroke-linejoin:miter;stroke-opacity:1\"/>\n",
       "<path class=\"bond-11 atom-4 atom-12\" d=\"M 240.2,145.5 L 234.6,155.0\" style=\"fill:none;fill-rule:evenodd;stroke:#000000;stroke-width:2.0px;stroke-linecap:butt;stroke-linejoin:miter;stroke-opacity:1\"/>\n",
       "<path class=\"bond-12 atom-5 atom-13\" d=\"M 197.2,124.0 L 194.9,87.2\" style=\"fill:none;fill-rule:evenodd;stroke:#000000;stroke-width:2.0px;stroke-linecap:butt;stroke-linejoin:miter;stroke-opacity:1\"/>\n",
       "<path class=\"bond-13 atom-5 atom-14\" d=\"M 197.2,124.0 L 161.1,104.8\" style=\"fill:none;fill-rule:evenodd;stroke:#000000;stroke-width:2.0px;stroke-linecap:butt;stroke-linejoin:miter;stroke-opacity:1\"/>\n",
       "<path class=\"bond-14 atom-5 atom-15\" d=\"M 197.2,124.0 L 178.6,156.9\" style=\"fill:none;fill-rule:evenodd;stroke:#000000;stroke-width:2.0px;stroke-linecap:butt;stroke-linejoin:miter;stroke-opacity:1\"/>\n",
       "<path class=\"bond-15 atom-6 atom-16\" d=\"M 256.8,68.0 L 298.7,70.7\" style=\"fill:none;fill-rule:evenodd;stroke:#000000;stroke-width:2.0px;stroke-linecap:butt;stroke-linejoin:miter;stroke-opacity:1\"/>\n",
       "<path class=\"bond-16 atom-6 atom-17\" d=\"M 256.8,68.0 L 277.6,37.5\" style=\"fill:none;fill-rule:evenodd;stroke:#000000;stroke-width:2.0px;stroke-linecap:butt;stroke-linejoin:miter;stroke-opacity:1\"/>\n",
       "<path class=\"bond-17 atom-6 atom-18\" d=\"M 256.8,68.0 L 225.4,45.5\" style=\"fill:none;fill-rule:evenodd;stroke:#000000;stroke-width:2.0px;stroke-linecap:butt;stroke-linejoin:miter;stroke-opacity:1\"/>\n",
       "<path class=\"atom-2\" d=\"M 291.8 158.7 Q 292.1 158.8, 293.1 159.2 Q 294.1 159.7, 295.2 159.9 Q 296.4 160.2, 297.5 160.2 Q 299.6 160.2, 300.9 159.2 Q 302.1 158.2, 302.1 156.4 Q 302.1 155.1, 301.4 154.4 Q 300.9 153.6, 299.9 153.2 Q 299.0 152.8, 297.4 152.4 Q 295.4 151.8, 294.2 151.2 Q 293.1 150.6, 292.2 149.4 Q 291.4 148.3, 291.4 146.3 Q 291.4 143.5, 293.3 141.7 Q 295.2 140.0, 299.0 140.0 Q 301.5 140.0, 304.5 141.2 L 303.7 143.7 Q 301.1 142.6, 299.1 142.6 Q 296.9 142.6, 295.7 143.5 Q 294.5 144.3, 294.6 145.9 Q 294.6 147.1, 295.2 147.8 Q 295.8 148.5, 296.7 148.9 Q 297.6 149.3, 299.1 149.8 Q 301.1 150.4, 302.3 151.0 Q 303.5 151.7, 304.3 153.0 Q 305.2 154.2, 305.2 156.4 Q 305.2 159.4, 303.1 161.1 Q 301.1 162.7, 297.7 162.7 Q 295.7 162.7, 294.2 162.3 Q 292.7 161.9, 291.0 161.2 L 291.8 158.7 \" fill=\"#CCCC00\"/>\n",
       "<path class=\"atom-3\" d=\"M 333.9 126.4 Q 333.9 121.0, 336.5 118.1 Q 339.1 115.1, 344.0 115.1 Q 349.0 115.1, 351.6 118.1 Q 354.2 121.0, 354.2 126.4 Q 354.2 131.7, 351.6 134.8 Q 348.9 137.9, 344.0 137.9 Q 339.2 137.9, 336.5 134.8 Q 333.9 131.8, 333.9 126.4 M 344.0 135.3 Q 347.4 135.3, 349.2 133.1 Q 351.1 130.8, 351.1 126.4 Q 351.1 122.0, 349.2 119.8 Q 347.4 117.6, 344.0 117.6 Q 340.7 117.6, 338.8 119.8 Q 337.0 122.0, 337.0 126.4 Q 337.0 130.8, 338.8 133.1 Q 340.7 135.3, 344.0 135.3 \" fill=\"#FF0000\"/>\n",
       "<path class=\"atom-4\" d=\"M 248.3 112.0 L 255.5 123.7 Q 256.3 124.9, 257.4 127.0 Q 258.6 129.1, 258.6 129.2 L 258.6 112.0 L 261.6 112.0 L 261.6 134.2 L 258.6 134.2 L 250.8 121.3 Q 249.8 119.8, 248.9 118.1 Q 247.9 116.4, 247.7 115.8 L 247.7 134.2 L 244.8 134.2 L 244.8 112.0 L 248.3 112.0 \" fill=\"#0000FF\"/>\n",
       "<path class=\"atom-4\" d=\"M 265.8 116.0 L 269.7 116.0 L 269.7 111.9 L 271.4 111.9 L 271.4 116.0 L 275.4 116.0 L 275.4 117.5 L 271.4 117.5 L 271.4 121.6 L 269.7 121.6 L 269.7 117.5 L 265.8 117.5 L 265.8 116.0 \" fill=\"#0000FF\"/>\n",
       "<path class=\"atom-7\" d=\"M 268.7 264.2 L 271.7 264.2 L 271.7 273.6 L 283.0 273.6 L 283.0 264.2 L 286.0 264.2 L 286.0 286.4 L 283.0 286.4 L 283.0 276.1 L 271.7 276.1 L 271.7 286.4 L 268.7 286.4 L 268.7 264.2 \" fill=\"#000000\"/>\n",
       "<path class=\"atom-8\" d=\"M 216.6 264.1 L 219.6 264.1 L 219.6 273.5 L 230.9 273.5 L 230.9 264.1 L 233.9 264.1 L 233.9 286.3 L 230.9 286.3 L 230.9 276.0 L 219.6 276.0 L 219.6 286.3 L 216.6 286.3 L 216.6 264.1 \" fill=\"#000000\"/>\n",
       "<path class=\"atom-9\" d=\"M 197.2 192.7 L 200.2 192.7 L 200.2 202.1 L 211.5 202.1 L 211.5 192.7 L 214.6 192.7 L 214.6 214.9 L 211.5 214.9 L 211.5 204.6 L 200.2 204.6 L 200.2 214.9 L 197.2 214.9 L 197.2 192.7 \" fill=\"#000000\"/>\n",
       "<path class=\"atom-10\" d=\"M 340.6 193.6 L 343.7 193.6 L 343.7 203.0 L 355.0 203.0 L 355.0 193.6 L 358.0 193.6 L 358.0 215.7 L 355.0 215.7 L 355.0 205.5 L 343.7 205.5 L 343.7 215.7 L 340.6 215.7 L 340.6 193.6 \" fill=\"#000000\"/>\n",
       "<path class=\"atom-11\" d=\"M 314.1 238.3 L 317.1 238.3 L 317.1 247.7 L 328.4 247.7 L 328.4 238.3 L 331.4 238.3 L 331.4 260.5 L 328.4 260.5 L 328.4 250.2 L 317.1 250.2 L 317.1 260.5 L 314.1 260.5 L 314.1 238.3 \" fill=\"#000000\"/>\n",
       "<path class=\"atom-12\" d=\"M 218.5 156.8 L 221.5 156.8 L 221.5 166.2 L 232.8 166.2 L 232.8 156.8 L 235.8 156.8 L 235.8 178.9 L 232.8 178.9 L 232.8 168.7 L 221.5 168.7 L 221.5 178.9 L 218.5 178.9 L 218.5 156.8 \" fill=\"#000000\"/>\n",
       "<path class=\"atom-13\" d=\"M 185.4 63.3 L 188.4 63.3 L 188.4 72.7 L 199.7 72.7 L 199.7 63.3 L 202.7 63.3 L 202.7 85.4 L 199.7 85.4 L 199.7 75.2 L 188.4 75.2 L 188.4 85.4 L 185.4 85.4 L 185.4 63.3 \" fill=\"#000000\"/>\n",
       "<path class=\"atom-14\" d=\"M 142.0 88.1 L 145.0 88.1 L 145.0 97.6 L 156.3 97.6 L 156.3 88.1 L 159.4 88.1 L 159.4 110.3 L 156.3 110.3 L 156.3 100.1 L 145.0 100.1 L 145.0 110.3 L 142.0 110.3 L 142.0 88.1 \" fill=\"#000000\"/>\n",
       "<path class=\"atom-15\" d=\"M 162.7 158.7 L 165.8 158.7 L 165.8 168.1 L 177.1 168.1 L 177.1 158.7 L 180.1 158.7 L 180.1 180.8 L 177.1 180.8 L 177.1 170.6 L 165.8 170.6 L 165.8 180.8 L 162.7 180.8 L 162.7 158.7 \" fill=\"#000000\"/>\n",
       "<path class=\"atom-16\" d=\"M 300.4 60.2 L 303.5 60.2 L 303.5 69.7 L 314.8 69.7 L 314.8 60.2 L 317.8 60.2 L 317.8 82.4 L 314.8 82.4 L 314.8 72.2 L 303.5 72.2 L 303.5 82.4 L 300.4 82.4 L 300.4 60.2 \" fill=\"#000000\"/>\n",
       "<path class=\"atom-17\" d=\"M 277.6 13.6 L 280.6 13.6 L 280.6 23.1 L 292.0 23.1 L 292.0 13.6 L 295.0 13.6 L 295.0 35.8 L 292.0 35.8 L 292.0 25.6 L 280.6 25.6 L 280.6 35.8 L 277.6 35.8 L 277.6 13.6 \" fill=\"#000000\"/>\n",
       "<path class=\"atom-18\" d=\"M 206.3 27.0 L 209.3 27.0 L 209.3 36.4 L 220.6 36.4 L 220.6 27.0 L 223.6 27.0 L 223.6 49.2 L 220.6 49.2 L 220.6 38.9 L 209.3 38.9 L 209.3 49.2 L 206.3 49.2 L 206.3 27.0 \" fill=\"#000000\"/>\n",
       "</svg>"
      ],
      "text/plain": [
       "<IPython.core.display.SVG object>"
      ]
     },
     "metadata": {},
     "output_type": "display_data"
    },
    {
     "name": "stdin",
     "output_type": "stream",
     "text": [
      " t147g [#6X3:1]-[#16X4:2]-[#7X4:3]-[#6X4:4] C=CS(=O)(=O)[NH2+]C\n"
     ]
    },
    {
     "name": "stdout",
     "output_type": "stream",
     "text": [
      "matched!\n"
     ]
    },
    {
     "data": {
      "image/svg+xml": [
       "<svg xmlns=\"http://www.w3.org/2000/svg\" xmlns:rdkit=\"http://www.rdkit.org/xml\" xmlns:xlink=\"http://www.w3.org/1999/xlink\" version=\"1.1\" baseProfile=\"full\" xml:space=\"preserve\" width=\"500px\" height=\"300px\" viewBox=\"0 0 500 300\">\n",
       "<!-- END OF HEADER -->\n",
       "<rect style=\"opacity:1.0;fill:#FFFFFF;stroke:none\" width=\"500.0\" height=\"300.0\" x=\"0.0\" y=\"0.0\"> </rect>\n",
       "<path class=\"bond-0 atom-0 atom-1\" d=\"M 347.9,64.9 L 348.0,136.8\" style=\"fill:none;fill-rule:evenodd;stroke:#000000;stroke-width:2.0px;stroke-linecap:butt;stroke-linejoin:miter;stroke-opacity:1\"/>\n",
       "<path class=\"bond-0 atom-0 atom-1\" d=\"M 337.1,71.2 L 337.3,130.6\" style=\"fill:none;fill-rule:evenodd;stroke:#000000;stroke-width:2.0px;stroke-linecap:butt;stroke-linejoin:miter;stroke-opacity:1\"/>\n",
       "<path class=\"bond-1 atom-1 atom-2\" d=\"M 348.0,136.8 L 322.7,151.5\" style=\"fill:none;fill-rule:evenodd;stroke:#000000;stroke-width:2.0px;stroke-linecap:butt;stroke-linejoin:miter;stroke-opacity:1\"/>\n",
       "<path class=\"bond-1 atom-1 atom-2\" d=\"M 322.7,151.5 L 297.4,166.2\" style=\"fill:none;fill-rule:evenodd;stroke:#CCCC00;stroke-width:2.0px;stroke-linecap:butt;stroke-linejoin:miter;stroke-opacity:1\"/>\n",
       "<path class=\"bond-2 atom-2 atom-3\" d=\"M 281.0,153.6 L 272.7,139.3\" style=\"fill:none;fill-rule:evenodd;stroke:#CCCC00;stroke-width:2.0px;stroke-linecap:butt;stroke-linejoin:miter;stroke-opacity:1\"/>\n",
       "<path class=\"bond-2 atom-2 atom-3\" d=\"M 272.7,139.3 L 264.5,125.1\" style=\"fill:none;fill-rule:evenodd;stroke:#FF0000;stroke-width:2.0px;stroke-linecap:butt;stroke-linejoin:miter;stroke-opacity:1\"/>\n",
       "<path class=\"bond-2 atom-2 atom-3\" d=\"M 271.7,159.0 L 263.4,144.7\" style=\"fill:none;fill-rule:evenodd;stroke:#CCCC00;stroke-width:2.0px;stroke-linecap:butt;stroke-linejoin:miter;stroke-opacity:1\"/>\n",
       "<path class=\"bond-2 atom-2 atom-3\" d=\"M 263.4,144.7 L 255.1,130.5\" style=\"fill:none;fill-rule:evenodd;stroke:#FF0000;stroke-width:2.0px;stroke-linecap:butt;stroke-linejoin:miter;stroke-opacity:1\"/>\n",
       "<path class=\"bond-3 atom-2 atom-4\" d=\"M 291.3,192.7 L 299.4,206.8\" style=\"fill:none;fill-rule:evenodd;stroke:#CCCC00;stroke-width:2.0px;stroke-linecap:butt;stroke-linejoin:miter;stroke-opacity:1\"/>\n",
       "<path class=\"bond-3 atom-2 atom-4\" d=\"M 299.4,206.8 L 307.6,220.9\" style=\"fill:none;fill-rule:evenodd;stroke:#FF0000;stroke-width:2.0px;stroke-linecap:butt;stroke-linejoin:miter;stroke-opacity:1\"/>\n",
       "<path class=\"bond-3 atom-2 atom-4\" d=\"M 300.6,187.3 L 308.8,201.4\" style=\"fill:none;fill-rule:evenodd;stroke:#CCCC00;stroke-width:2.0px;stroke-linecap:butt;stroke-linejoin:miter;stroke-opacity:1\"/>\n",
       "<path class=\"bond-3 atom-2 atom-4\" d=\"M 308.8,201.4 L 316.9,215.5\" style=\"fill:none;fill-rule:evenodd;stroke:#FF0000;stroke-width:2.0px;stroke-linecap:butt;stroke-linejoin:miter;stroke-opacity:1\"/>\n",
       "<path class=\"bond-4 atom-2 atom-5\" d=\"M 274.5,179.4 L 263.5,185.8\" style=\"fill:none;fill-rule:evenodd;stroke:#CCCC00;stroke-width:2.0px;stroke-linecap:butt;stroke-linejoin:miter;stroke-opacity:1\"/>\n",
       "<path class=\"bond-4 atom-2 atom-5\" d=\"M 263.5,185.8 L 252.5,192.2\" style=\"fill:none;fill-rule:evenodd;stroke:#0000FF;stroke-width:2.0px;stroke-linecap:butt;stroke-linejoin:miter;stroke-opacity:1\"/>\n",
       "<path class=\"bond-5 atom-5 atom-6\" d=\"M 210.7,201.3 L 186.1,187.2\" style=\"fill:none;fill-rule:evenodd;stroke:#0000FF;stroke-width:2.0px;stroke-linecap:butt;stroke-linejoin:miter;stroke-opacity:1\"/>\n",
       "<path class=\"bond-5 atom-5 atom-6\" d=\"M 186.1,187.2 L 161.5,173.0\" style=\"fill:none;fill-rule:evenodd;stroke:#000000;stroke-width:2.0px;stroke-linecap:butt;stroke-linejoin:miter;stroke-opacity:1\"/>\n",
       "<path class=\"bond-6 atom-0 atom-7\" d=\"M 347.9,64.9 L 299.1,36.9\" style=\"fill:none;fill-rule:evenodd;stroke:#000000;stroke-width:2.0px;stroke-linecap:butt;stroke-linejoin:miter;stroke-opacity:1\"/>\n",
       "<path class=\"bond-7 atom-0 atom-8\" d=\"M 347.9,64.9 L 396.6,36.7\" style=\"fill:none;fill-rule:evenodd;stroke:#000000;stroke-width:2.0px;stroke-linecap:butt;stroke-linejoin:miter;stroke-opacity:1\"/>\n",
       "<path class=\"bond-8 atom-1 atom-9\" d=\"M 348.0,136.8 L 396.9,164.8\" style=\"fill:none;fill-rule:evenodd;stroke:#000000;stroke-width:2.0px;stroke-linecap:butt;stroke-linejoin:miter;stroke-opacity:1\"/>\n",
       "<path class=\"bond-9 atom-5 atom-10\" d=\"M 233.4,225.4 L 241.8,239.9\" style=\"fill:none;fill-rule:evenodd;stroke:#0000FF;stroke-width:2.0px;stroke-linecap:butt;stroke-linejoin:miter;stroke-opacity:1\"/>\n",
       "<path class=\"bond-9 atom-5 atom-10\" d=\"M 241.8,239.9 L 250.2,254.4\" style=\"fill:none;fill-rule:evenodd;stroke:#000000;stroke-width:2.0px;stroke-linecap:butt;stroke-linejoin:miter;stroke-opacity:1\"/>\n",
       "<path class=\"bond-10 atom-5 atom-11\" d=\"M 214.3,225.4 L 205.9,240.0\" style=\"fill:none;fill-rule:evenodd;stroke:#0000FF;stroke-width:2.0px;stroke-linecap:butt;stroke-linejoin:miter;stroke-opacity:1\"/>\n",
       "<path class=\"bond-10 atom-5 atom-11\" d=\"M 205.9,240.0 L 197.5,254.6\" style=\"fill:none;fill-rule:evenodd;stroke:#000000;stroke-width:2.0px;stroke-linecap:butt;stroke-linejoin:miter;stroke-opacity:1\"/>\n",
       "<path class=\"bond-11 atom-6 atom-12\" d=\"M 161.5,173.0 L 135.2,218.8\" style=\"fill:none;fill-rule:evenodd;stroke:#000000;stroke-width:2.0px;stroke-linecap:butt;stroke-linejoin:miter;stroke-opacity:1\"/>\n",
       "<path class=\"bond-12 atom-6 atom-13\" d=\"M 161.5,173.0 L 103.1,173.2\" style=\"fill:none;fill-rule:evenodd;stroke:#000000;stroke-width:2.0px;stroke-linecap:butt;stroke-linejoin:miter;stroke-opacity:1\"/>\n",
       "<path class=\"bond-13 atom-6 atom-14\" d=\"M 161.5,173.0 L 161.4,117.8\" style=\"fill:none;fill-rule:evenodd;stroke:#000000;stroke-width:2.0px;stroke-linecap:butt;stroke-linejoin:miter;stroke-opacity:1\"/>\n",
       "<path class=\"atom-2\" d=\"M 277.9 182.5 Q 278.2 182.6, 279.6 183.2 Q 280.9 183.8, 282.3 184.1 Q 283.8 184.4, 285.2 184.4 Q 287.9 184.4, 289.5 183.2 Q 291.0 181.8, 291.0 179.6 Q 291.0 178.0, 290.2 177.0 Q 289.5 176.1, 288.3 175.6 Q 287.1 175.0, 285.1 174.4 Q 282.6 173.7, 281.0 173.0 Q 279.6 172.2, 278.5 170.7 Q 277.4 169.2, 277.4 166.6 Q 277.4 163.1, 279.8 160.9 Q 282.3 158.7, 287.1 158.7 Q 290.4 158.7, 294.1 160.2 L 293.2 163.3 Q 289.8 161.9, 287.2 161.9 Q 284.4 161.9, 282.9 163.1 Q 281.4 164.2, 281.4 166.2 Q 281.4 167.7, 282.2 168.6 Q 283.0 169.5, 284.1 170.0 Q 285.3 170.6, 287.2 171.2 Q 289.8 172.0, 291.3 172.8 Q 292.8 173.6, 293.9 175.2 Q 295.0 176.8, 295.0 179.6 Q 295.0 183.5, 292.4 185.6 Q 289.8 187.7, 285.4 187.7 Q 282.9 187.7, 281.0 187.1 Q 279.1 186.6, 276.8 185.7 L 277.9 182.5 \" fill=\"#CCCC00\"/>\n",
       "<path class=\"atom-3\" d=\"M 236.9 110.7 Q 236.9 103.9, 240.2 100.1 Q 243.6 96.3, 249.9 96.3 Q 256.2 96.3, 259.5 100.1 Q 262.9 103.9, 262.9 110.7 Q 262.9 117.6, 259.5 121.5 Q 256.1 125.4, 249.9 125.4 Q 243.6 125.4, 240.2 121.5 Q 236.9 117.7, 236.9 110.7 M 249.9 122.2 Q 254.2 122.2, 256.5 119.3 Q 258.9 116.4, 258.9 110.7 Q 258.9 105.2, 256.5 102.4 Q 254.2 99.5, 249.9 99.5 Q 245.6 99.5, 243.2 102.3 Q 240.9 105.1, 240.9 110.7 Q 240.9 116.5, 243.2 119.3 Q 245.6 122.2, 249.9 122.2 \" fill=\"#FF0000\"/>\n",
       "<path class=\"atom-4\" d=\"M 309.0 235.0 Q 309.0 228.2, 312.3 224.4 Q 315.7 220.6, 322.0 220.6 Q 328.2 220.6, 331.6 224.4 Q 335.0 228.2, 335.0 235.0 Q 335.0 241.9, 331.6 245.8 Q 328.2 249.7, 322.0 249.7 Q 315.7 249.7, 312.3 245.8 Q 309.0 241.9, 309.0 235.0 M 322.0 246.5 Q 326.3 246.5, 328.6 243.6 Q 331.0 240.7, 331.0 235.0 Q 331.0 229.4, 328.6 226.6 Q 326.3 223.8, 322.0 223.8 Q 317.6 223.8, 315.3 226.6 Q 313.0 229.4, 313.0 235.0 Q 313.0 240.7, 315.3 243.6 Q 317.6 246.5, 322.0 246.5 \" fill=\"#FF0000\"/>\n",
       "<path class=\"atom-5\" d=\"M 217.5 194.7 L 226.8 209.7 Q 227.7 211.2, 229.2 213.8 Q 230.7 216.5, 230.8 216.7 L 230.8 194.7 L 234.5 194.7 L 234.5 223.0 L 230.6 223.0 L 220.7 206.6 Q 219.5 204.7, 218.3 202.5 Q 217.1 200.3, 216.7 199.6 L 216.7 223.0 L 213.0 223.0 L 213.0 194.7 L 217.5 194.7 \" fill=\"#0000FF\"/>\n",
       "<path class=\"atom-5\" d=\"M 239.9 199.8 L 244.8 199.8 L 244.8 194.5 L 247.1 194.5 L 247.1 199.8 L 252.2 199.8 L 252.2 201.7 L 247.1 201.7 L 247.1 207.0 L 244.8 207.0 L 244.8 201.7 L 239.9 201.7 L 239.9 199.8 \" fill=\"#0000FF\"/>\n",
       "<path class=\"atom-7\" d=\"M 274.5 15.0 L 278.4 15.0 L 278.4 27.0 L 292.9 27.0 L 292.9 15.0 L 296.7 15.0 L 296.7 43.3 L 292.9 43.3 L 292.9 30.2 L 278.4 30.2 L 278.4 43.3 L 274.5 43.3 L 274.5 15.0 \" fill=\"#000000\"/>\n",
       "<path class=\"atom-8\" d=\"M 399.0 14.7 L 402.8 14.7 L 402.8 26.8 L 417.3 26.8 L 417.3 14.7 L 421.1 14.7 L 421.1 43.1 L 417.3 43.1 L 417.3 30.0 L 402.8 30.0 L 402.8 43.1 L 399.0 43.1 L 399.0 14.7 \" fill=\"#000000\"/>\n",
       "<path class=\"atom-9\" d=\"M 399.2 158.4 L 403.1 158.4 L 403.1 170.4 L 417.6 170.4 L 417.6 158.4 L 421.4 158.4 L 421.4 186.7 L 417.6 186.7 L 417.6 173.6 L 403.1 173.6 L 403.1 186.7 L 399.2 186.7 L 399.2 158.4 \" fill=\"#000000\"/>\n",
       "<path class=\"atom-10\" d=\"M 248.7 256.8 L 252.6 256.8 L 252.6 268.8 L 267.1 268.8 L 267.1 256.8 L 270.9 256.8 L 270.9 285.1 L 267.1 285.1 L 267.1 272.0 L 252.6 272.0 L 252.6 285.1 L 248.7 285.1 L 248.7 256.8 \" fill=\"#000000\"/>\n",
       "<path class=\"atom-11\" d=\"M 176.9 256.9 L 180.8 256.9 L 180.8 269.0 L 195.2 269.0 L 195.2 256.9 L 199.1 256.9 L 199.1 285.3 L 195.2 285.3 L 195.2 272.2 L 180.8 272.2 L 180.8 285.3 L 176.9 285.3 L 176.9 256.9 \" fill=\"#000000\"/>\n",
       "<path class=\"atom-12\" d=\"M 114.6 221.2 L 118.5 221.2 L 118.5 233.2 L 133.0 233.2 L 133.0 221.2 L 136.8 221.2 L 136.8 249.5 L 133.0 249.5 L 133.0 236.4 L 118.5 236.4 L 118.5 249.5 L 114.6 249.5 L 114.6 221.2 \" fill=\"#000000\"/>\n",
       "<path class=\"atom-13\" d=\"M 78.6 159.0 L 82.4 159.0 L 82.4 171.1 L 96.9 171.1 L 96.9 159.0 L 100.8 159.0 L 100.8 187.4 L 96.9 187.4 L 96.9 174.3 L 82.4 174.3 L 82.4 187.4 L 78.6 187.4 L 78.6 159.0 \" fill=\"#000000\"/>\n",
       "<path class=\"atom-14\" d=\"M 150.3 87.1 L 154.1 87.1 L 154.1 99.1 L 168.6 99.1 L 168.6 87.1 L 172.4 87.1 L 172.4 115.4 L 168.6 115.4 L 168.6 102.3 L 154.1 102.3 L 154.1 115.4 L 150.3 115.4 L 150.3 87.1 \" fill=\"#000000\"/>\n",
       "</svg>"
      ],
      "text/plain": [
       "<IPython.core.display.SVG object>"
      ]
     },
     "metadata": {},
     "output_type": "display_data"
    },
    {
     "name": "stdin",
     "output_type": "stream",
     "text": [
      " t147g [#6X3:1]-[#16X4:2]-[#7X4:3]-[#6X4:4] C=CS(=O)(=O)[NH+](C)C\n"
     ]
    },
    {
     "name": "stdout",
     "output_type": "stream",
     "text": [
      "matched!\n"
     ]
    },
    {
     "data": {
      "image/svg+xml": [
       "<svg xmlns=\"http://www.w3.org/2000/svg\" xmlns:rdkit=\"http://www.rdkit.org/xml\" xmlns:xlink=\"http://www.w3.org/1999/xlink\" version=\"1.1\" baseProfile=\"full\" xml:space=\"preserve\" width=\"500px\" height=\"300px\" viewBox=\"0 0 500 300\">\n",
       "<!-- END OF HEADER -->\n",
       "<rect style=\"opacity:1.0;fill:#FFFFFF;stroke:none\" width=\"500.0\" height=\"300.0\" x=\"0.0\" y=\"0.0\"> </rect>\n",
       "<path class=\"bond-0 atom-0 atom-1\" d=\"M 132.6,210.0 L 171.3,157.5\" style=\"fill:none;fill-rule:evenodd;stroke:#000000;stroke-width:2.0px;stroke-linecap:butt;stroke-linejoin:miter;stroke-opacity:1\"/>\n",
       "<path class=\"bond-0 atom-0 atom-1\" d=\"M 144.3,211.2 L 176.0,168.1\" style=\"fill:none;fill-rule:evenodd;stroke:#000000;stroke-width:2.0px;stroke-linecap:butt;stroke-linejoin:miter;stroke-opacity:1\"/>\n",
       "<path class=\"bond-1 atom-1 atom-2\" d=\"M 171.3,157.5 L 198.5,160.0\" style=\"fill:none;fill-rule:evenodd;stroke:#000000;stroke-width:2.0px;stroke-linecap:butt;stroke-linejoin:miter;stroke-opacity:1\"/>\n",
       "<path class=\"bond-1 atom-1 atom-2\" d=\"M 198.5,160.0 L 225.8,162.6\" style=\"fill:none;fill-rule:evenodd;stroke:#CCCC00;stroke-width:2.0px;stroke-linecap:butt;stroke-linejoin:miter;stroke-opacity:1\"/>\n",
       "<path class=\"bond-2 atom-2 atom-3\" d=\"M 231.6,180.6 L 231.1,197.9\" style=\"fill:none;fill-rule:evenodd;stroke:#CCCC00;stroke-width:2.0px;stroke-linecap:butt;stroke-linejoin:miter;stroke-opacity:1\"/>\n",
       "<path class=\"bond-2 atom-2 atom-3\" d=\"M 231.1,197.9 L 230.6,215.2\" style=\"fill:none;fill-rule:evenodd;stroke:#FF0000;stroke-width:2.0px;stroke-linecap:butt;stroke-linejoin:miter;stroke-opacity:1\"/>\n",
       "<path class=\"bond-2 atom-2 atom-3\" d=\"M 241.7,180.9 L 241.2,198.2\" style=\"fill:none;fill-rule:evenodd;stroke:#CCCC00;stroke-width:2.0px;stroke-linecap:butt;stroke-linejoin:miter;stroke-opacity:1\"/>\n",
       "<path class=\"bond-2 atom-2 atom-3\" d=\"M 241.2,198.2 L 240.8,215.5\" style=\"fill:none;fill-rule:evenodd;stroke:#FF0000;stroke-width:2.0px;stroke-linecap:butt;stroke-linejoin:miter;stroke-opacity:1\"/>\n",
       "<path class=\"bond-3 atom-2 atom-4\" d=\"M 242.0,147.3 L 241.9,135.0\" style=\"fill:none;fill-rule:evenodd;stroke:#CCCC00;stroke-width:2.0px;stroke-linecap:butt;stroke-linejoin:miter;stroke-opacity:1\"/>\n",
       "<path class=\"bond-3 atom-2 atom-4\" d=\"M 241.9,135.0 L 241.8,122.8\" style=\"fill:none;fill-rule:evenodd;stroke:#FF0000;stroke-width:2.0px;stroke-linecap:butt;stroke-linejoin:miter;stroke-opacity:1\"/>\n",
       "<path class=\"bond-3 atom-2 atom-4\" d=\"M 231.9,147.4 L 231.8,135.1\" style=\"fill:none;fill-rule:evenodd;stroke:#CCCC00;stroke-width:2.0px;stroke-linecap:butt;stroke-linejoin:miter;stroke-opacity:1\"/>\n",
       "<path class=\"bond-3 atom-2 atom-4\" d=\"M 231.8,135.1 L 231.7,122.9\" style=\"fill:none;fill-rule:evenodd;stroke:#FF0000;stroke-width:2.0px;stroke-linecap:butt;stroke-linejoin:miter;stroke-opacity:1\"/>\n",
       "<path class=\"bond-4 atom-2 atom-5\" d=\"M 248.4,163.3 L 270.3,162.5\" style=\"fill:none;fill-rule:evenodd;stroke:#CCCC00;stroke-width:2.0px;stroke-linecap:butt;stroke-linejoin:miter;stroke-opacity:1\"/>\n",
       "<path class=\"bond-4 atom-2 atom-5\" d=\"M 270.3,162.5 L 292.2,161.7\" style=\"fill:none;fill-rule:evenodd;stroke:#0000FF;stroke-width:2.0px;stroke-linecap:butt;stroke-linejoin:miter;stroke-opacity:1\"/>\n",
       "<path class=\"bond-5 atom-5 atom-6\" d=\"M 318.1,161.6 L 347.8,162.3\" style=\"fill:none;fill-rule:evenodd;stroke:#0000FF;stroke-width:2.0px;stroke-linecap:butt;stroke-linejoin:miter;stroke-opacity:1\"/>\n",
       "<path class=\"bond-5 atom-5 atom-6\" d=\"M 347.8,162.3 L 377.5,163.1\" style=\"fill:none;fill-rule:evenodd;stroke:#000000;stroke-width:2.0px;stroke-linecap:butt;stroke-linejoin:miter;stroke-opacity:1\"/>\n",
       "<path class=\"bond-6 atom-5 atom-7\" d=\"M 304.9,144.8 L 304.5,115.2\" style=\"fill:none;fill-rule:evenodd;stroke:#0000FF;stroke-width:2.0px;stroke-linecap:butt;stroke-linejoin:miter;stroke-opacity:1\"/>\n",
       "<path class=\"bond-6 atom-5 atom-7\" d=\"M 304.5,115.2 L 304.1,85.6\" style=\"fill:none;fill-rule:evenodd;stroke:#000000;stroke-width:2.0px;stroke-linecap:butt;stroke-linejoin:miter;stroke-opacity:1\"/>\n",
       "<path class=\"bond-7 atom-0 atom-8\" d=\"M 132.6,210.0 L 153.0,255.4\" style=\"fill:none;fill-rule:evenodd;stroke:#000000;stroke-width:2.0px;stroke-linecap:butt;stroke-linejoin:miter;stroke-opacity:1\"/>\n",
       "<path class=\"bond-8 atom-0 atom-9\" d=\"M 132.6,210.0 L 78.3,203.5\" style=\"fill:none;fill-rule:evenodd;stroke:#000000;stroke-width:2.0px;stroke-linecap:butt;stroke-linejoin:miter;stroke-opacity:1\"/>\n",
       "<path class=\"bond-9 atom-1 atom-10\" d=\"M 171.3,157.5 L 151.0,110.3\" style=\"fill:none;fill-rule:evenodd;stroke:#000000;stroke-width:2.0px;stroke-linecap:butt;stroke-linejoin:miter;stroke-opacity:1\"/>\n",
       "<path class=\"bond-10 atom-5 atom-11\" d=\"M 305.2,177.6 L 305.3,195.5\" style=\"fill:none;fill-rule:evenodd;stroke:#0000FF;stroke-width:2.0px;stroke-linecap:butt;stroke-linejoin:miter;stroke-opacity:1\"/>\n",
       "<path class=\"bond-10 atom-5 atom-11\" d=\"M 305.3,195.5 L 305.3,213.3\" style=\"fill:none;fill-rule:evenodd;stroke:#000000;stroke-width:2.0px;stroke-linecap:butt;stroke-linejoin:miter;stroke-opacity:1\"/>\n",
       "<path class=\"bond-11 atom-6 atom-12\" d=\"M 377.5,163.1 L 375.8,214.8\" style=\"fill:none;fill-rule:evenodd;stroke:#000000;stroke-width:2.0px;stroke-linecap:butt;stroke-linejoin:miter;stroke-opacity:1\"/>\n",
       "<path class=\"bond-12 atom-6 atom-13\" d=\"M 377.5,163.1 L 421.7,191.1\" style=\"fill:none;fill-rule:evenodd;stroke:#000000;stroke-width:2.0px;stroke-linecap:butt;stroke-linejoin:miter;stroke-opacity:1\"/>\n",
       "<path class=\"bond-13 atom-6 atom-14\" d=\"M 377.5,163.1 L 404.5,122.2\" style=\"fill:none;fill-rule:evenodd;stroke:#000000;stroke-width:2.0px;stroke-linecap:butt;stroke-linejoin:miter;stroke-opacity:1\"/>\n",
       "<path class=\"bond-14 atom-7 atom-15\" d=\"M 304.1,85.6 L 350.4,84.9\" style=\"fill:none;fill-rule:evenodd;stroke:#000000;stroke-width:2.0px;stroke-linecap:butt;stroke-linejoin:miter;stroke-opacity:1\"/>\n",
       "<path class=\"bond-15 atom-7 atom-16\" d=\"M 304.1,85.6 L 330.2,44.6\" style=\"fill:none;fill-rule:evenodd;stroke:#000000;stroke-width:2.0px;stroke-linecap:butt;stroke-linejoin:miter;stroke-opacity:1\"/>\n",
       "<path class=\"bond-16 atom-7 atom-17\" d=\"M 304.1,85.6 L 260.8,56.3\" style=\"fill:none;fill-rule:evenodd;stroke:#000000;stroke-width:2.0px;stroke-linecap:butt;stroke-linejoin:miter;stroke-opacity:1\"/>\n",
       "<path class=\"atom-2\" d=\"M 229.1 173.4 Q 229.4 173.5, 230.7 174.1 Q 232.1 174.6, 233.5 175.0 Q 235.0 175.3, 236.4 175.3 Q 239.1 175.3, 240.7 174.0 Q 242.2 172.7, 242.2 170.4 Q 242.2 168.9, 241.4 167.9 Q 240.7 166.9, 239.5 166.4 Q 238.3 165.9, 236.3 165.3 Q 233.7 164.5, 232.2 163.8 Q 230.7 163.1, 229.7 161.6 Q 228.6 160.1, 228.6 157.5 Q 228.6 153.9, 231.0 151.7 Q 233.5 149.5, 238.3 149.5 Q 241.5 149.5, 245.3 151.1 L 244.3 154.2 Q 240.9 152.8, 238.4 152.8 Q 235.6 152.8, 234.1 153.9 Q 232.6 155.1, 232.6 157.0 Q 232.6 158.5, 233.4 159.5 Q 234.2 160.4, 235.3 160.9 Q 236.5 161.4, 238.4 162.0 Q 240.9 162.8, 242.5 163.6 Q 244.0 164.4, 245.1 166.1 Q 246.2 167.7, 246.2 170.4 Q 246.2 174.3, 243.5 176.5 Q 240.9 178.5, 236.6 178.5 Q 234.1 178.5, 232.1 178.0 Q 230.3 177.5, 228.0 176.5 L 229.1 173.4 \" fill=\"#CCCC00\"/>\n",
       "<path class=\"atom-3\" d=\"M 222.3 232.0 Q 222.3 225.2, 225.6 221.4 Q 229.0 217.6, 235.3 217.6 Q 241.5 217.6, 244.9 221.4 Q 248.3 225.2, 248.3 232.0 Q 248.3 238.8, 244.9 242.8 Q 241.5 246.6, 235.3 246.6 Q 229.0 246.6, 225.6 242.8 Q 222.3 238.9, 222.3 232.0 M 235.3 243.4 Q 239.6 243.4, 241.9 240.6 Q 244.3 237.6, 244.3 232.0 Q 244.3 226.4, 241.9 223.6 Q 239.6 220.8, 235.3 220.8 Q 230.9 220.8, 228.6 223.6 Q 226.3 226.4, 226.3 232.0 Q 226.3 237.7, 228.6 240.6 Q 230.9 243.4, 235.3 243.4 \" fill=\"#FF0000\"/>\n",
       "<path class=\"atom-4\" d=\"M 223.6 105.9 Q 223.6 99.1, 227.0 95.3 Q 230.3 91.5, 236.6 91.5 Q 242.9 91.5, 246.2 95.3 Q 249.6 99.1, 249.6 105.9 Q 249.6 112.8, 246.2 116.7 Q 242.8 120.6, 236.6 120.6 Q 230.4 120.6, 227.0 116.7 Q 223.6 112.8, 223.6 105.9 M 236.6 117.4 Q 240.9 117.4, 243.2 114.5 Q 245.6 111.6, 245.6 105.9 Q 245.6 100.4, 243.2 97.6 Q 240.9 94.7, 236.6 94.7 Q 232.3 94.7, 229.9 97.5 Q 227.6 100.3, 227.6 105.9 Q 227.6 111.6, 229.9 114.5 Q 232.3 117.4, 236.6 117.4 \" fill=\"#FF0000\"/>\n",
       "<path class=\"atom-5\" d=\"M 298.9 147.1 L 308.2 162.1 Q 309.1 163.5, 310.6 166.2 Q 312.1 168.9, 312.1 169.1 L 312.1 147.1 L 315.9 147.1 L 315.9 175.4 L 312.0 175.4 L 302.1 159.0 Q 300.9 157.1, 299.7 154.9 Q 298.5 152.7, 298.1 152.0 L 298.1 175.4 L 294.4 175.4 L 294.4 147.1 L 298.9 147.1 \" fill=\"#0000FF\"/>\n",
       "<path class=\"atom-5\" d=\"M 321.2 152.2 L 326.2 152.2 L 326.2 146.9 L 328.4 146.9 L 328.4 152.2 L 333.6 152.2 L 333.6 154.1 L 328.4 154.1 L 328.4 159.3 L 326.2 159.3 L 326.2 154.1 L 321.2 154.1 L 321.2 152.2 \" fill=\"#0000FF\"/>\n",
       "<path class=\"atom-8\" d=\"M 149.2 257.7 L 153.1 257.7 L 153.1 269.7 L 167.6 269.7 L 167.6 257.7 L 171.4 257.7 L 171.4 286.0 L 167.6 286.0 L 167.6 272.9 L 153.1 272.9 L 153.1 286.0 L 149.2 286.0 L 149.2 257.7 \" fill=\"#000000\"/>\n",
       "<path class=\"atom-9\" d=\"M 53.9 187.7 L 57.7 187.7 L 57.7 199.8 L 72.2 199.8 L 72.2 187.7 L 76.1 187.7 L 76.1 216.0 L 72.2 216.0 L 72.2 203.0 L 57.7 203.0 L 57.7 216.0 L 53.9 216.0 L 53.9 187.7 \" fill=\"#000000\"/>\n",
       "<path class=\"atom-10\" d=\"M 132.8 79.8 L 136.7 79.8 L 136.7 91.8 L 151.2 91.8 L 151.2 79.8 L 155.0 79.8 L 155.0 108.1 L 151.2 108.1 L 151.2 95.0 L 136.7 95.0 L 136.7 108.1 L 132.8 108.1 L 132.8 79.8 \" fill=\"#000000\"/>\n",
       "<path class=\"atom-11\" d=\"M 294.3 215.6 L 298.1 215.6 L 298.1 227.6 L 312.6 227.6 L 312.6 215.6 L 316.4 215.6 L 316.4 243.9 L 312.6 243.9 L 312.6 230.8 L 298.1 230.8 L 298.1 243.9 L 294.3 243.9 L 294.3 215.6 \" fill=\"#000000\"/>\n",
       "<path class=\"atom-12\" d=\"M 364.2 217.1 L 368.0 217.1 L 368.0 229.1 L 382.5 229.1 L 382.5 217.1 L 386.4 217.1 L 386.4 245.4 L 382.5 245.4 L 382.5 232.3 L 368.0 232.3 L 368.0 245.4 L 364.2 245.4 L 364.2 217.1 \" fill=\"#000000\"/>\n",
       "<path class=\"atom-13\" d=\"M 423.9 185.3 L 427.8 185.3 L 427.8 197.3 L 442.3 197.3 L 442.3 185.3 L 446.1 185.3 L 446.1 213.6 L 442.3 213.6 L 442.3 200.5 L 427.8 200.5 L 427.8 213.6 L 423.9 213.6 L 423.9 185.3 \" fill=\"#000000\"/>\n",
       "<path class=\"atom-14\" d=\"M 404.3 91.6 L 408.1 91.6 L 408.1 103.7 L 422.6 103.7 L 422.6 91.6 L 426.4 91.6 L 426.4 120.0 L 422.6 120.0 L 422.6 106.9 L 408.1 106.9 L 408.1 120.0 L 404.3 120.0 L 404.3 91.6 \" fill=\"#000000\"/>\n",
       "<path class=\"atom-15\" d=\"M 352.6 70.6 L 356.5 70.6 L 356.5 82.6 L 370.9 82.6 L 370.9 70.6 L 374.8 70.6 L 374.8 98.9 L 370.9 98.9 L 370.9 85.8 L 356.5 85.8 L 356.5 98.9 L 352.6 98.9 L 352.6 70.6 \" fill=\"#000000\"/>\n",
       "<path class=\"atom-16\" d=\"M 329.5 14.0 L 333.3 14.0 L 333.3 26.1 L 347.8 26.1 L 347.8 14.0 L 351.6 14.0 L 351.6 42.3 L 347.8 42.3 L 347.8 29.3 L 333.3 29.3 L 333.3 42.3 L 329.5 42.3 L 329.5 14.0 \" fill=\"#000000\"/>\n",
       "<path class=\"atom-17\" d=\"M 236.4 33.2 L 240.3 33.2 L 240.3 45.2 L 254.8 45.2 L 254.8 33.2 L 258.6 33.2 L 258.6 61.5 L 254.8 61.5 L 254.8 48.4 L 240.3 48.4 L 240.3 61.5 L 236.4 61.5 L 236.4 33.2 \" fill=\"#000000\"/>\n",
       "</svg>"
      ],
      "text/plain": [
       "<IPython.core.display.SVG object>"
      ]
     },
     "metadata": {},
     "output_type": "display_data"
    },
    {
     "name": "stdin",
     "output_type": "stream",
     "text": [
      " t147g [#6X3:1]-[#16X4:2]-[#7X4:3]-[#6X4:4] C1(C=CC=C1)=CS(=O)(=O)[NH+](C)C\n"
     ]
    },
    {
     "name": "stdout",
     "output_type": "stream",
     "text": [
      "matched!\n"
     ]
    },
    {
     "data": {
      "image/svg+xml": [
       "<svg xmlns=\"http://www.w3.org/2000/svg\" xmlns:rdkit=\"http://www.rdkit.org/xml\" xmlns:xlink=\"http://www.w3.org/1999/xlink\" version=\"1.1\" baseProfile=\"full\" xml:space=\"preserve\" width=\"500px\" height=\"300px\" viewBox=\"0 0 500 300\">\n",
       "<!-- END OF HEADER -->\n",
       "<rect style=\"opacity:1.0;fill:#FFFFFF;stroke:none\" width=\"500.0\" height=\"300.0\" x=\"0.0\" y=\"0.0\"> </rect>\n",
       "<path class=\"bond-0 atom-0 atom-4\" d=\"M 193.5,170.1 L 188.5,108.0\" style=\"fill:none;fill-rule:evenodd;stroke:#000000;stroke-width:2.0px;stroke-linecap:butt;stroke-linejoin:miter;stroke-opacity:1\"/>\n",
       "<path class=\"bond-1 atom-0 atom-1\" d=\"M 193.5,170.1 L 135.9,194.2\" style=\"fill:none;fill-rule:evenodd;stroke:#000000;stroke-width:2.0px;stroke-linecap:butt;stroke-linejoin:miter;stroke-opacity:1\"/>\n",
       "<path class=\"bond-2 atom-1 atom-2\" d=\"M 135.9,194.2 L 95.4,146.8\" style=\"fill:none;fill-rule:evenodd;stroke:#000000;stroke-width:2.0px;stroke-linecap:butt;stroke-linejoin:miter;stroke-opacity:1\"/>\n",
       "<path class=\"bond-2 atom-1 atom-2\" d=\"M 138.6,183.0 L 106.8,145.8\" style=\"fill:none;fill-rule:evenodd;stroke:#000000;stroke-width:2.0px;stroke-linecap:butt;stroke-linejoin:miter;stroke-opacity:1\"/>\n",
       "<path class=\"bond-3 atom-2 atom-3\" d=\"M 95.4,146.8 L 127.9,93.5\" style=\"fill:none;fill-rule:evenodd;stroke:#000000;stroke-width:2.0px;stroke-linecap:butt;stroke-linejoin:miter;stroke-opacity:1\"/>\n",
       "<path class=\"bond-4 atom-3 atom-4\" d=\"M 127.9,93.5 L 188.5,108.0\" style=\"fill:none;fill-rule:evenodd;stroke:#000000;stroke-width:2.0px;stroke-linecap:butt;stroke-linejoin:miter;stroke-opacity:1\"/>\n",
       "<path class=\"bond-4 atom-3 atom-4\" d=\"M 132.2,104.0 L 179.9,115.4\" style=\"fill:none;fill-rule:evenodd;stroke:#000000;stroke-width:2.0px;stroke-linecap:butt;stroke-linejoin:miter;stroke-opacity:1\"/>\n",
       "<path class=\"bond-5 atom-0 atom-5\" d=\"M 193.5,170.1 L 243.5,201.3\" style=\"fill:none;fill-rule:evenodd;stroke:#000000;stroke-width:2.0px;stroke-linecap:butt;stroke-linejoin:miter;stroke-opacity:1\"/>\n",
       "<path class=\"bond-5 atom-0 atom-5\" d=\"M 202.4,164.7 L 243.9,190.7\" style=\"fill:none;fill-rule:evenodd;stroke:#000000;stroke-width:2.0px;stroke-linecap:butt;stroke-linejoin:miter;stroke-opacity:1\"/>\n",
       "<path class=\"bond-6 atom-5 atom-6\" d=\"M 243.5,201.3 L 264.8,190.1\" style=\"fill:none;fill-rule:evenodd;stroke:#000000;stroke-width:2.0px;stroke-linecap:butt;stroke-linejoin:miter;stroke-opacity:1\"/>\n",
       "<path class=\"bond-6 atom-5 atom-6\" d=\"M 264.8,190.1 L 286.0,178.9\" style=\"fill:none;fill-rule:evenodd;stroke:#CCCC00;stroke-width:2.0px;stroke-linecap:butt;stroke-linejoin:miter;stroke-opacity:1\"/>\n",
       "<path class=\"bond-7 atom-6 atom-7\" d=\"M 292.8,156.0 L 286.6,143.9\" style=\"fill:none;fill-rule:evenodd;stroke:#CCCC00;stroke-width:2.0px;stroke-linecap:butt;stroke-linejoin:miter;stroke-opacity:1\"/>\n",
       "<path class=\"bond-7 atom-6 atom-7\" d=\"M 286.6,143.9 L 280.4,131.9\" style=\"fill:none;fill-rule:evenodd;stroke:#FF0000;stroke-width:2.0px;stroke-linecap:butt;stroke-linejoin:miter;stroke-opacity:1\"/>\n",
       "<path class=\"bond-7 atom-6 atom-7\" d=\"M 284.6,160.2 L 278.4,148.2\" style=\"fill:none;fill-rule:evenodd;stroke:#CCCC00;stroke-width:2.0px;stroke-linecap:butt;stroke-linejoin:miter;stroke-opacity:1\"/>\n",
       "<path class=\"bond-7 atom-6 atom-7\" d=\"M 278.4,148.2 L 272.2,136.2\" style=\"fill:none;fill-rule:evenodd;stroke:#FF0000;stroke-width:2.0px;stroke-linecap:butt;stroke-linejoin:miter;stroke-opacity:1\"/>\n",
       "<path class=\"bond-8 atom-6 atom-8\" d=\"M 298.7,191.0 L 302.3,200.1\" style=\"fill:none;fill-rule:evenodd;stroke:#CCCC00;stroke-width:2.0px;stroke-linecap:butt;stroke-linejoin:miter;stroke-opacity:1\"/>\n",
       "<path class=\"bond-8 atom-6 atom-8\" d=\"M 302.3,200.1 L 305.9,209.1\" style=\"fill:none;fill-rule:evenodd;stroke:#FF0000;stroke-width:2.0px;stroke-linecap:butt;stroke-linejoin:miter;stroke-opacity:1\"/>\n",
       "<path class=\"bond-8 atom-6 atom-8\" d=\"M 307.2,187.6 L 310.9,196.6\" style=\"fill:none;fill-rule:evenodd;stroke:#CCCC00;stroke-width:2.0px;stroke-linecap:butt;stroke-linejoin:miter;stroke-opacity:1\"/>\n",
       "<path class=\"bond-8 atom-6 atom-8\" d=\"M 310.9,196.6 L 314.5,205.7\" style=\"fill:none;fill-rule:evenodd;stroke:#FF0000;stroke-width:2.0px;stroke-linecap:butt;stroke-linejoin:miter;stroke-opacity:1\"/>\n",
       "<path class=\"bond-9 atom-6 atom-9\" d=\"M 307.1,168.2 L 328.2,157.8\" style=\"fill:none;fill-rule:evenodd;stroke:#CCCC00;stroke-width:2.0px;stroke-linecap:butt;stroke-linejoin:miter;stroke-opacity:1\"/>\n",
       "<path class=\"bond-9 atom-6 atom-9\" d=\"M 328.2,157.8 L 349.4,147.5\" style=\"fill:none;fill-rule:evenodd;stroke:#0000FF;stroke-width:2.0px;stroke-linecap:butt;stroke-linejoin:miter;stroke-opacity:1\"/>\n",
       "<path class=\"bond-10 atom-9 atom-10\" d=\"M 387.2,126.2 L 400.2,118.4\" style=\"fill:none;fill-rule:evenodd;stroke:#0000FF;stroke-width:2.0px;stroke-linecap:butt;stroke-linejoin:miter;stroke-opacity:1\"/>\n",
       "<path class=\"bond-10 atom-9 atom-10\" d=\"M 400.2,118.4 L 413.1,110.6\" style=\"fill:none;fill-rule:evenodd;stroke:#000000;stroke-width:2.0px;stroke-linecap:butt;stroke-linejoin:miter;stroke-opacity:1\"/>\n",
       "<path class=\"bond-11 atom-9 atom-11\" d=\"M 372.6,156.9 L 387.5,177.3\" style=\"fill:none;fill-rule:evenodd;stroke:#0000FF;stroke-width:2.0px;stroke-linecap:butt;stroke-linejoin:miter;stroke-opacity:1\"/>\n",
       "<path class=\"bond-11 atom-9 atom-11\" d=\"M 387.5,177.3 L 402.3,197.7\" style=\"fill:none;fill-rule:evenodd;stroke:#000000;stroke-width:2.0px;stroke-linecap:butt;stroke-linejoin:miter;stroke-opacity:1\"/>\n",
       "<path class=\"bond-12 atom-1 atom-12\" d=\"M 135.9,194.2 L 125.1,239.5\" style=\"fill:none;fill-rule:evenodd;stroke:#000000;stroke-width:2.0px;stroke-linecap:butt;stroke-linejoin:miter;stroke-opacity:1\"/>\n",
       "<path class=\"bond-13 atom-2 atom-13\" d=\"M 95.4,146.8 L 45.5,150.7\" style=\"fill:none;fill-rule:evenodd;stroke:#000000;stroke-width:2.0px;stroke-linecap:butt;stroke-linejoin:miter;stroke-opacity:1\"/>\n",
       "<path class=\"bond-14 atom-3 atom-14\" d=\"M 127.9,93.5 L 110.3,51.2\" style=\"fill:none;fill-rule:evenodd;stroke:#000000;stroke-width:2.0px;stroke-linecap:butt;stroke-linejoin:miter;stroke-opacity:1\"/>\n",
       "<path class=\"bond-15 atom-4 atom-15\" d=\"M 188.5,108.0 L 223.5,78.0\" style=\"fill:none;fill-rule:evenodd;stroke:#000000;stroke-width:2.0px;stroke-linecap:butt;stroke-linejoin:miter;stroke-opacity:1\"/>\n",
       "<path class=\"bond-16 atom-5 atom-16\" d=\"M 243.5,201.3 L 242.0,248.8\" style=\"fill:none;fill-rule:evenodd;stroke:#000000;stroke-width:2.0px;stroke-linecap:butt;stroke-linejoin:miter;stroke-opacity:1\"/>\n",
       "<path class=\"bond-17 atom-9 atom-17\" d=\"M 353.0,126.3 L 346.4,114.2\" style=\"fill:none;fill-rule:evenodd;stroke:#0000FF;stroke-width:2.0px;stroke-linecap:butt;stroke-linejoin:miter;stroke-opacity:1\"/>\n",
       "<path class=\"bond-17 atom-9 atom-17\" d=\"M 346.4,114.2 L 339.7,102.1\" style=\"fill:none;fill-rule:evenodd;stroke:#000000;stroke-width:2.0px;stroke-linecap:butt;stroke-linejoin:miter;stroke-opacity:1\"/>\n",
       "<path class=\"bond-18 atom-10 atom-18\" d=\"M 413.1,110.6 L 390.4,72.4\" style=\"fill:none;fill-rule:evenodd;stroke:#000000;stroke-width:2.0px;stroke-linecap:butt;stroke-linejoin:miter;stroke-opacity:1\"/>\n",
       "<path class=\"bond-19 atom-10 atom-19\" d=\"M 413.1,110.6 L 435.2,72.4\" style=\"fill:none;fill-rule:evenodd;stroke:#000000;stroke-width:2.0px;stroke-linecap:butt;stroke-linejoin:miter;stroke-opacity:1\"/>\n",
       "<path class=\"bond-20 atom-10 atom-20\" d=\"M 413.1,110.6 L 454.5,134.8\" style=\"fill:none;fill-rule:evenodd;stroke:#000000;stroke-width:2.0px;stroke-linecap:butt;stroke-linejoin:miter;stroke-opacity:1\"/>\n",
       "<path class=\"bond-21 atom-11 atom-21\" d=\"M 402.3,197.7 L 378.4,215.4\" style=\"fill:none;fill-rule:evenodd;stroke:#000000;stroke-width:2.0px;stroke-linecap:butt;stroke-linejoin:miter;stroke-opacity:1\"/>\n",
       "<path class=\"bond-22 atom-11 atom-22\" d=\"M 402.3,197.7 L 403.8,245.1\" style=\"fill:none;fill-rule:evenodd;stroke:#000000;stroke-width:2.0px;stroke-linecap:butt;stroke-linejoin:miter;stroke-opacity:1\"/>\n",
       "<path class=\"bond-23 atom-11 atom-23\" d=\"M 402.3,197.7 L 451.0,195.6\" style=\"fill:none;fill-rule:evenodd;stroke:#000000;stroke-width:2.0px;stroke-linecap:butt;stroke-linejoin:miter;stroke-opacity:1\"/>\n",
       "<path class=\"atom-6\" d=\"M 289.1 182.4 Q 289.4 182.5, 290.6 183.1 Q 291.8 183.6, 293.2 183.9 Q 294.6 184.2, 295.9 184.2 Q 298.4 184.2, 299.9 183.0 Q 301.4 181.8, 301.4 179.7 Q 301.4 178.2, 300.6 177.3 Q 299.9 176.4, 298.8 175.9 Q 297.7 175.4, 295.8 174.9 Q 293.4 174.2, 292.0 173.5 Q 290.6 172.8, 289.6 171.4 Q 288.6 170.0, 288.6 167.6 Q 288.6 164.2, 290.9 162.2 Q 293.2 160.1, 297.7 160.1 Q 300.7 160.1, 304.2 161.6 L 303.3 164.5 Q 300.2 163.1, 297.8 163.1 Q 295.2 163.1, 293.8 164.2 Q 292.3 165.3, 292.4 167.1 Q 292.4 168.5, 293.1 169.4 Q 293.8 170.3, 294.9 170.7 Q 296.0 171.2, 297.8 171.8 Q 300.2 172.5, 301.6 173.3 Q 303.0 174.0, 304.0 175.6 Q 305.1 177.1, 305.1 179.7 Q 305.1 183.3, 302.6 185.3 Q 300.2 187.3, 296.1 187.3 Q 293.7 187.3, 291.9 186.7 Q 290.2 186.3, 288.1 185.4 L 289.1 182.4 \" fill=\"#CCCC00\"/>\n",
       "<path class=\"atom-7\" d=\"M 255.9 118.3 Q 255.9 111.9, 259.1 108.3 Q 262.2 104.8, 268.1 104.8 Q 274.0 104.8, 277.1 108.3 Q 280.3 111.9, 280.3 118.3 Q 280.3 124.7, 277.1 128.4 Q 273.9 132.0, 268.1 132.0 Q 262.3 132.0, 259.1 128.4 Q 255.9 124.7, 255.9 118.3 M 268.1 129.0 Q 272.2 129.0, 274.3 126.3 Q 276.5 123.6, 276.5 118.3 Q 276.5 113.1, 274.3 110.4 Q 272.2 107.8, 268.1 107.8 Q 264.1 107.8, 261.9 110.4 Q 259.7 113.0, 259.7 118.3 Q 259.7 123.6, 261.9 126.3 Q 264.1 129.0, 268.1 129.0 \" fill=\"#FF0000\"/>\n",
       "<path class=\"atom-8\" d=\"M 304.2 222.9 Q 304.2 216.6, 307.4 213.0 Q 310.5 209.5, 316.4 209.5 Q 322.3 209.5, 325.4 213.0 Q 328.6 216.6, 328.6 222.9 Q 328.6 229.4, 325.4 233.0 Q 322.2 236.7, 316.4 236.7 Q 310.5 236.7, 307.4 233.0 Q 304.2 229.4, 304.2 222.9 M 316.4 233.7 Q 320.4 233.7, 322.6 231.0 Q 324.8 228.3, 324.8 222.9 Q 324.8 217.7, 322.6 215.1 Q 320.4 212.5, 316.4 212.5 Q 312.3 212.5, 310.1 215.1 Q 308.0 217.7, 308.0 222.9 Q 308.0 228.3, 310.1 231.0 Q 312.3 233.7, 316.4 233.7 \" fill=\"#FF0000\"/>\n",
       "<path class=\"atom-9\" d=\"M 355.6 128.3 L 364.3 142.4 Q 365.1 143.8, 366.5 146.3 Q 367.9 148.8, 368.0 148.9 L 368.0 128.3 L 371.5 128.3 L 371.5 154.8 L 367.9 154.8 L 358.5 139.5 Q 357.5 137.7, 356.3 135.6 Q 355.2 133.6, 354.8 132.9 L 354.8 154.8 L 351.4 154.8 L 351.4 128.3 L 355.6 128.3 \" fill=\"#0000FF\"/>\n",
       "<path class=\"atom-9\" d=\"M 376.5 133.1 L 381.2 133.1 L 381.2 128.2 L 383.2 128.2 L 383.2 133.1 L 388.0 133.1 L 388.0 134.9 L 383.2 134.9 L 383.2 139.8 L 381.2 139.8 L 381.2 134.9 L 376.5 134.9 L 376.5 133.1 \" fill=\"#0000FF\"/>\n",
       "<path class=\"atom-12\" d=\"M 111.1 241.5 L 114.7 241.5 L 114.7 252.8 L 128.2 252.8 L 128.2 241.5 L 131.8 241.5 L 131.8 268.1 L 128.2 268.1 L 128.2 255.8 L 114.7 255.8 L 114.7 268.1 L 111.1 268.1 L 111.1 241.5 \" fill=\"#000000\"/>\n",
       "<path class=\"atom-13\" d=\"M 22.7 138.5 L 26.3 138.5 L 26.3 149.8 L 39.9 149.8 L 39.9 138.5 L 43.5 138.5 L 43.5 165.0 L 39.9 165.0 L 39.9 152.7 L 26.3 152.7 L 26.3 165.0 L 22.7 165.0 L 22.7 138.5 \" fill=\"#000000\"/>\n",
       "<path class=\"atom-14\" d=\"M 93.6 22.6 L 97.2 22.6 L 97.2 33.9 L 110.7 33.9 L 110.7 22.6 L 114.3 22.6 L 114.3 49.2 L 110.7 49.2 L 110.7 36.9 L 97.2 36.9 L 97.2 49.2 L 93.6 49.2 L 93.6 22.6 \" fill=\"#000000\"/>\n",
       "<path class=\"atom-15\" d=\"M 225.6 54.1 L 229.1 54.1 L 229.1 65.3 L 242.7 65.3 L 242.7 54.1 L 246.3 54.1 L 246.3 80.6 L 242.7 80.6 L 242.7 68.3 L 229.1 68.3 L 229.1 80.6 L 225.6 80.6 L 225.6 54.1 \" fill=\"#000000\"/>\n",
       "<path class=\"atom-16\" d=\"M 231.2 250.8 L 234.8 250.8 L 234.8 262.1 L 248.3 262.1 L 248.3 250.8 L 251.9 250.8 L 251.9 277.4 L 248.3 277.4 L 248.3 265.1 L 234.8 265.1 L 234.8 277.4 L 231.2 277.4 L 231.2 250.8 \" fill=\"#000000\"/>\n",
       "<path class=\"atom-17\" d=\"M 320.9 73.5 L 324.5 73.5 L 324.5 84.8 L 338.1 84.8 L 338.1 73.5 L 341.7 73.5 L 341.7 100.1 L 338.1 100.1 L 338.1 87.8 L 324.5 87.8 L 324.5 100.1 L 320.9 100.1 L 320.9 73.5 \" fill=\"#000000\"/>\n",
       "<path class=\"atom-18\" d=\"M 371.0 43.9 L 374.6 43.9 L 374.6 55.1 L 388.1 55.1 L 388.1 43.9 L 391.7 43.9 L 391.7 70.4 L 388.1 70.4 L 388.1 58.1 L 374.6 58.1 L 374.6 70.4 L 371.0 70.4 L 371.0 43.9 \" fill=\"#000000\"/>\n",
       "<path class=\"atom-19\" d=\"M 433.6 43.8 L 437.2 43.8 L 437.2 55.1 L 450.8 55.1 L 450.8 43.8 L 454.4 43.8 L 454.4 70.4 L 450.8 70.4 L 450.8 58.1 L 437.2 58.1 L 437.2 70.4 L 433.6 70.4 L 433.6 43.8 \" fill=\"#000000\"/>\n",
       "<path class=\"atom-20\" d=\"M 456.5 128.8 L 460.1 128.8 L 460.1 140.1 L 473.7 140.1 L 473.7 128.8 L 477.3 128.8 L 477.3 155.3 L 473.7 155.3 L 473.7 143.1 L 460.1 143.1 L 460.1 155.3 L 456.5 155.3 L 456.5 128.8 \" fill=\"#000000\"/>\n",
       "<path class=\"atom-21\" d=\"M 355.7 211.3 L 359.3 211.3 L 359.3 222.5 L 372.8 222.5 L 372.8 211.3 L 376.4 211.3 L 376.4 237.8 L 372.8 237.8 L 372.8 225.5 L 359.3 225.5 L 359.3 237.8 L 355.7 237.8 L 355.7 211.3 \" fill=\"#000000\"/>\n",
       "<path class=\"atom-22\" d=\"M 393.8 247.1 L 397.4 247.1 L 397.4 258.4 L 411.0 258.4 L 411.0 247.1 L 414.6 247.1 L 414.6 273.7 L 411.0 273.7 L 411.0 261.4 L 397.4 261.4 L 397.4 273.7 L 393.8 273.7 L 393.8 247.1 \" fill=\"#000000\"/>\n",
       "<path class=\"atom-23\" d=\"M 453.1 181.8 L 456.7 181.8 L 456.7 193.1 L 470.2 193.1 L 470.2 181.8 L 473.8 181.8 L 473.8 208.3 L 470.2 208.3 L 470.2 196.1 L 456.7 196.1 L 456.7 208.3 L 453.1 208.3 L 453.1 181.8 \" fill=\"#000000\"/>\n",
       "</svg>"
      ],
      "text/plain": [
       "<IPython.core.display.SVG object>"
      ]
     },
     "metadata": {},
     "output_type": "display_data"
    },
    {
     "name": "stdin",
     "output_type": "stream",
     "text": [
      " t147g [#6X3:1]-[#16X4:2]-[#7X4:3]-[#6X4:4] C(C=CC=C1)=C1S(=O)(=O)[NH+](C)C\n"
     ]
    },
    {
     "name": "stdout",
     "output_type": "stream",
     "text": [
      "matched!\n"
     ]
    },
    {
     "data": {
      "image/svg+xml": [
       "<svg xmlns=\"http://www.w3.org/2000/svg\" xmlns:rdkit=\"http://www.rdkit.org/xml\" xmlns:xlink=\"http://www.w3.org/1999/xlink\" version=\"1.1\" baseProfile=\"full\" xml:space=\"preserve\" width=\"500px\" height=\"300px\" viewBox=\"0 0 500 300\">\n",
       "<!-- END OF HEADER -->\n",
       "<rect style=\"opacity:1.0;fill:#FFFFFF;stroke:none\" width=\"500.0\" height=\"300.0\" x=\"0.0\" y=\"0.0\"> </rect>\n",
       "<path class=\"bond-0 atom-0 atom-1\" d=\"M 277.2,114.6 L 277.2,77.4\" style=\"fill:none;fill-rule:evenodd;stroke:#000000;stroke-width:2.0px;stroke-linecap:butt;stroke-linejoin:miter;stroke-opacity:1\"/>\n",
       "<path class=\"bond-0 atom-0 atom-1\" d=\"M 271.7,111.4 L 271.7,80.5\" style=\"fill:none;fill-rule:evenodd;stroke:#000000;stroke-width:2.0px;stroke-linecap:butt;stroke-linejoin:miter;stroke-opacity:1\"/>\n",
       "<path class=\"bond-1 atom-1 atom-2\" d=\"M 277.2,77.4 L 244.9,58.8\" style=\"fill:none;fill-rule:evenodd;stroke:#000000;stroke-width:2.0px;stroke-linecap:butt;stroke-linejoin:miter;stroke-opacity:1\"/>\n",
       "<path class=\"bond-2 atom-2 atom-3\" d=\"M 244.9,58.8 L 212.7,77.5\" style=\"fill:none;fill-rule:evenodd;stroke:#000000;stroke-width:2.0px;stroke-linecap:butt;stroke-linejoin:miter;stroke-opacity:1\"/>\n",
       "<path class=\"bond-2 atom-2 atom-3\" d=\"M 244.9,65.1 L 218.3,80.7\" style=\"fill:none;fill-rule:evenodd;stroke:#000000;stroke-width:2.0px;stroke-linecap:butt;stroke-linejoin:miter;stroke-opacity:1\"/>\n",
       "<path class=\"bond-3 atom-3 atom-4\" d=\"M 212.7,77.5 L 212.7,114.7\" style=\"fill:none;fill-rule:evenodd;stroke:#000000;stroke-width:2.0px;stroke-linecap:butt;stroke-linejoin:miter;stroke-opacity:1\"/>\n",
       "<path class=\"bond-4 atom-4 atom-5\" d=\"M 212.7,114.7 L 245.1,133.3\" style=\"fill:none;fill-rule:evenodd;stroke:#000000;stroke-width:2.0px;stroke-linecap:butt;stroke-linejoin:miter;stroke-opacity:1\"/>\n",
       "<path class=\"bond-4 atom-4 atom-5\" d=\"M 218.2,111.5 L 245.1,126.9\" style=\"fill:none;fill-rule:evenodd;stroke:#000000;stroke-width:2.0px;stroke-linecap:butt;stroke-linejoin:miter;stroke-opacity:1\"/>\n",
       "<path class=\"bond-5 atom-0 atom-5\" d=\"M 277.2,114.6 L 245.1,133.3\" style=\"fill:none;fill-rule:evenodd;stroke:#000000;stroke-width:2.0px;stroke-linecap:butt;stroke-linejoin:miter;stroke-opacity:1\"/>\n",
       "<path class=\"bond-6 atom-5 atom-6\" d=\"M 245.1,133.3 L 244.9,146.1\" style=\"fill:none;fill-rule:evenodd;stroke:#000000;stroke-width:2.0px;stroke-linecap:butt;stroke-linejoin:miter;stroke-opacity:1\"/>\n",
       "<path class=\"bond-6 atom-5 atom-6\" d=\"M 244.9,146.1 L 244.7,158.8\" style=\"fill:none;fill-rule:evenodd;stroke:#CCCC00;stroke-width:2.0px;stroke-linecap:butt;stroke-linejoin:miter;stroke-opacity:1\"/>\n",
       "<path class=\"bond-7 atom-6 atom-7\" d=\"M 238.3,165.2 L 227.1,165.2\" style=\"fill:none;fill-rule:evenodd;stroke:#CCCC00;stroke-width:2.0px;stroke-linecap:butt;stroke-linejoin:miter;stroke-opacity:1\"/>\n",
       "<path class=\"bond-7 atom-6 atom-7\" d=\"M 227.1,165.2 L 215.9,165.3\" style=\"fill:none;fill-rule:evenodd;stroke:#FF0000;stroke-width:2.0px;stroke-linecap:butt;stroke-linejoin:miter;stroke-opacity:1\"/>\n",
       "<path class=\"bond-7 atom-6 atom-7\" d=\"M 238.3,170.7 L 227.1,170.8\" style=\"fill:none;fill-rule:evenodd;stroke:#CCCC00;stroke-width:2.0px;stroke-linecap:butt;stroke-linejoin:miter;stroke-opacity:1\"/>\n",
       "<path class=\"bond-7 atom-6 atom-7\" d=\"M 227.1,170.8 L 215.9,170.8\" style=\"fill:none;fill-rule:evenodd;stroke:#FF0000;stroke-width:2.0px;stroke-linecap:butt;stroke-linejoin:miter;stroke-opacity:1\"/>\n",
       "<path class=\"bond-8 atom-6 atom-8\" d=\"M 251.2,169.9 L 259.3,168.9\" style=\"fill:none;fill-rule:evenodd;stroke:#CCCC00;stroke-width:2.0px;stroke-linecap:butt;stroke-linejoin:miter;stroke-opacity:1\"/>\n",
       "<path class=\"bond-8 atom-6 atom-8\" d=\"M 259.3,168.9 L 267.5,168.0\" style=\"fill:none;fill-rule:evenodd;stroke:#FF0000;stroke-width:2.0px;stroke-linecap:butt;stroke-linejoin:miter;stroke-opacity:1\"/>\n",
       "<path class=\"bond-8 atom-6 atom-8\" d=\"M 250.6,164.4 L 258.7,163.5\" style=\"fill:none;fill-rule:evenodd;stroke:#CCCC00;stroke-width:2.0px;stroke-linecap:butt;stroke-linejoin:miter;stroke-opacity:1\"/>\n",
       "<path class=\"bond-8 atom-6 atom-8\" d=\"M 258.7,163.5 L 266.8,162.5\" style=\"fill:none;fill-rule:evenodd;stroke:#FF0000;stroke-width:2.0px;stroke-linecap:butt;stroke-linejoin:miter;stroke-opacity:1\"/>\n",
       "<path class=\"bond-9 atom-6 atom-9\" d=\"M 244.9,177.4 L 245.2,189.7\" style=\"fill:none;fill-rule:evenodd;stroke:#CCCC00;stroke-width:2.0px;stroke-linecap:butt;stroke-linejoin:miter;stroke-opacity:1\"/>\n",
       "<path class=\"bond-9 atom-6 atom-9\" d=\"M 245.2,189.7 L 245.5,201.9\" style=\"fill:none;fill-rule:evenodd;stroke:#0000FF;stroke-width:2.0px;stroke-linecap:butt;stroke-linejoin:miter;stroke-opacity:1\"/>\n",
       "<path class=\"bond-10 atom-9 atom-10\" d=\"M 245.4,220.2 L 244.8,233.6\" style=\"fill:none;fill-rule:evenodd;stroke:#0000FF;stroke-width:2.0px;stroke-linecap:butt;stroke-linejoin:miter;stroke-opacity:1\"/>\n",
       "<path class=\"bond-10 atom-9 atom-10\" d=\"M 244.8,233.6 L 244.2,247.0\" style=\"fill:none;fill-rule:evenodd;stroke:#000000;stroke-width:2.0px;stroke-linecap:butt;stroke-linejoin:miter;stroke-opacity:1\"/>\n",
       "<path class=\"bond-11 atom-9 atom-11\" d=\"M 253.0,212.1 L 269.6,214.5\" style=\"fill:none;fill-rule:evenodd;stroke:#0000FF;stroke-width:2.0px;stroke-linecap:butt;stroke-linejoin:miter;stroke-opacity:1\"/>\n",
       "<path class=\"bond-11 atom-9 atom-11\" d=\"M 269.6,214.5 L 286.3,216.9\" style=\"fill:none;fill-rule:evenodd;stroke:#000000;stroke-width:2.0px;stroke-linecap:butt;stroke-linejoin:miter;stroke-opacity:1\"/>\n",
       "<path class=\"bond-12 atom-0 atom-12\" d=\"M 277.2,114.6 L 302.2,128.9\" style=\"fill:none;fill-rule:evenodd;stroke:#000000;stroke-width:2.0px;stroke-linecap:butt;stroke-linejoin:miter;stroke-opacity:1\"/>\n",
       "<path class=\"bond-13 atom-1 atom-13\" d=\"M 277.2,77.4 L 302.0,63.0\" style=\"fill:none;fill-rule:evenodd;stroke:#000000;stroke-width:2.0px;stroke-linecap:butt;stroke-linejoin:miter;stroke-opacity:1\"/>\n",
       "<path class=\"bond-14 atom-2 atom-14\" d=\"M 244.9,58.8 L 244.9,30.7\" style=\"fill:none;fill-rule:evenodd;stroke:#000000;stroke-width:2.0px;stroke-linecap:butt;stroke-linejoin:miter;stroke-opacity:1\"/>\n",
       "<path class=\"bond-15 atom-3 atom-15\" d=\"M 212.7,77.5 L 187.8,63.2\" style=\"fill:none;fill-rule:evenodd;stroke:#000000;stroke-width:2.0px;stroke-linecap:butt;stroke-linejoin:miter;stroke-opacity:1\"/>\n",
       "<path class=\"bond-16 atom-4 atom-16\" d=\"M 212.7,114.7 L 188.0,129.1\" style=\"fill:none;fill-rule:evenodd;stroke:#000000;stroke-width:2.0px;stroke-linecap:butt;stroke-linejoin:miter;stroke-opacity:1\"/>\n",
       "<path class=\"bond-17 atom-9 atom-17\" d=\"M 238.6,211.0 L 227.2,210.8\" style=\"fill:none;fill-rule:evenodd;stroke:#0000FF;stroke-width:2.0px;stroke-linecap:butt;stroke-linejoin:miter;stroke-opacity:1\"/>\n",
       "<path class=\"bond-17 atom-9 atom-17\" d=\"M 227.2,210.8 L 215.8,210.7\" style=\"fill:none;fill-rule:evenodd;stroke:#000000;stroke-width:2.0px;stroke-linecap:butt;stroke-linejoin:miter;stroke-opacity:1\"/>\n",
       "<path class=\"bond-18 atom-10 atom-18\" d=\"M 244.2,247.0 L 214.5,245.9\" style=\"fill:none;fill-rule:evenodd;stroke:#000000;stroke-width:2.0px;stroke-linecap:butt;stroke-linejoin:miter;stroke-opacity:1\"/>\n",
       "<path class=\"bond-19 atom-10 atom-19\" d=\"M 244.2,247.0 L 230.5,269.3\" style=\"fill:none;fill-rule:evenodd;stroke:#000000;stroke-width:2.0px;stroke-linecap:butt;stroke-linejoin:miter;stroke-opacity:1\"/>\n",
       "<path class=\"bond-20 atom-10 atom-20\" d=\"M 244.2,247.0 L 268.5,261.8\" style=\"fill:none;fill-rule:evenodd;stroke:#000000;stroke-width:2.0px;stroke-linecap:butt;stroke-linejoin:miter;stroke-opacity:1\"/>\n",
       "<path class=\"bond-21 atom-11 atom-21\" d=\"M 286.3,216.9 L 288.9,199.3\" style=\"fill:none;fill-rule:evenodd;stroke:#000000;stroke-width:2.0px;stroke-linecap:butt;stroke-linejoin:miter;stroke-opacity:1\"/>\n",
       "<path class=\"bond-22 atom-11 atom-22\" d=\"M 286.3,216.9 L 312.2,204.2\" style=\"fill:none;fill-rule:evenodd;stroke:#000000;stroke-width:2.0px;stroke-linecap:butt;stroke-linejoin:miter;stroke-opacity:1\"/>\n",
       "<path class=\"bond-23 atom-11 atom-23\" d=\"M 286.3,216.9 L 297.4,240.8\" style=\"fill:none;fill-rule:evenodd;stroke:#000000;stroke-width:2.0px;stroke-linecap:butt;stroke-linejoin:miter;stroke-opacity:1\"/>\n",
       "<path class=\"atom-6\" d=\"M 240.1 173.3 Q 240.3 173.4, 241.0 173.7 Q 241.8 174.0, 242.6 174.2 Q 243.4 174.4, 244.2 174.4 Q 245.7 174.4, 246.6 173.7 Q 247.5 173.0, 247.5 171.7 Q 247.5 170.8, 247.0 170.3 Q 246.6 169.8, 245.9 169.5 Q 245.2 169.2, 244.1 168.8 Q 242.7 168.4, 241.9 168.0 Q 241.0 167.6, 240.4 166.8 Q 239.9 165.9, 239.9 164.5 Q 239.9 162.5, 241.2 161.3 Q 242.6 160.0, 245.2 160.0 Q 247.1 160.0, 249.2 160.9 L 248.6 162.6 Q 246.7 161.8, 245.3 161.8 Q 243.8 161.8, 242.9 162.5 Q 242.1 163.1, 242.1 164.2 Q 242.1 165.1, 242.5 165.6 Q 243.0 166.1, 243.6 166.4 Q 244.2 166.7, 245.3 167.0 Q 246.7 167.5, 247.6 167.9 Q 248.4 168.3, 249.0 169.3 Q 249.7 170.2, 249.7 171.7 Q 249.7 173.9, 248.2 175.1 Q 246.7 176.2, 244.3 176.2 Q 242.9 176.2, 241.8 175.9 Q 240.8 175.6, 239.5 175.1 L 240.1 173.3 \" fill=\"#CCCC00\"/>\n",
       "<path class=\"atom-7\" d=\"M 200.2 168.1 Q 200.2 164.3, 202.0 162.2 Q 203.9 160.1, 207.4 160.1 Q 210.9 160.1, 212.8 162.2 Q 214.7 164.3, 214.7 168.1 Q 214.7 172.0, 212.8 174.2 Q 210.9 176.3, 207.4 176.3 Q 203.9 176.3, 202.0 174.2 Q 200.2 172.0, 200.2 168.1 M 207.4 174.6 Q 209.8 174.6, 211.1 172.9 Q 212.5 171.3, 212.5 168.1 Q 212.5 165.0, 211.1 163.5 Q 209.8 161.9, 207.4 161.9 Q 205.0 161.9, 203.7 163.5 Q 202.4 165.0, 202.4 168.1 Q 202.4 171.3, 203.7 172.9 Q 205.0 174.6, 207.4 174.6 \" fill=\"#FF0000\"/>\n",
       "<path class=\"atom-8\" d=\"M 268.3 164.3 Q 268.3 160.5, 270.2 158.4 Q 272.1 156.2, 275.6 156.2 Q 279.1 156.2, 281.0 158.4 Q 282.9 160.5, 282.9 164.3 Q 282.9 168.1, 281.0 170.3 Q 279.1 172.5, 275.6 172.5 Q 272.1 172.5, 270.2 170.3 Q 268.3 168.2, 268.3 164.3 M 275.6 170.7 Q 278.0 170.7, 279.3 169.1 Q 280.6 167.5, 280.6 164.3 Q 280.6 161.2, 279.3 159.6 Q 278.0 158.0, 275.6 158.0 Q 273.2 158.0, 271.9 159.6 Q 270.6 161.2, 270.6 164.3 Q 270.6 167.5, 271.9 169.1 Q 273.2 170.7, 275.6 170.7 \" fill=\"#FF0000\"/>\n",
       "<path class=\"atom-9\" d=\"M 242.3 203.2 L 247.5 211.5 Q 248.0 212.4, 248.8 213.9 Q 249.6 215.4, 249.7 215.4 L 249.7 203.2 L 251.8 203.2 L 251.8 219.0 L 249.6 219.0 L 244.1 209.8 Q 243.4 208.7, 242.7 207.5 Q 242.0 206.3, 241.8 205.9 L 241.8 219.0 L 239.8 219.0 L 239.8 203.2 L 242.3 203.2 \" fill=\"#0000FF\"/>\n",
       "<path class=\"atom-9\" d=\"M 254.8 206.0 L 257.5 206.0 L 257.5 203.1 L 258.8 203.1 L 258.8 206.0 L 261.6 206.0 L 261.6 207.1 L 258.8 207.1 L 258.8 210.0 L 257.5 210.0 L 257.5 207.1 L 254.8 207.1 L 254.8 206.0 \" fill=\"#0000FF\"/>\n",
       "<path class=\"atom-12\" d=\"M 303.4 125.2 L 305.5 125.2 L 305.5 132.0 L 313.6 132.0 L 313.6 125.2 L 315.7 125.2 L 315.7 141.1 L 313.6 141.1 L 313.6 133.8 L 305.5 133.8 L 305.5 141.1 L 303.4 141.1 L 303.4 125.2 \" fill=\"#000000\"/>\n",
       "<path class=\"atom-13\" d=\"M 303.2 50.8 L 305.4 50.8 L 305.4 57.5 L 313.5 57.5 L 313.5 50.8 L 315.6 50.8 L 315.6 66.6 L 313.5 66.6 L 313.5 59.3 L 305.4 59.3 L 305.4 66.6 L 303.2 66.6 L 303.2 50.8 \" fill=\"#000000\"/>\n",
       "<path class=\"atom-14\" d=\"M 238.7 13.6 L 240.8 13.6 L 240.8 20.4 L 248.9 20.4 L 248.9 13.6 L 251.0 13.6 L 251.0 29.5 L 248.9 29.5 L 248.9 22.1 L 240.8 22.1 L 240.8 29.5 L 238.7 29.5 L 238.7 13.6 \" fill=\"#000000\"/>\n",
       "<path class=\"atom-15\" d=\"M 174.2 51.0 L 176.4 51.0 L 176.4 57.7 L 184.5 57.7 L 184.5 51.0 L 186.6 51.0 L 186.6 66.8 L 184.5 66.8 L 184.5 59.5 L 176.4 59.5 L 176.4 66.8 L 174.2 66.8 L 174.2 51.0 \" fill=\"#000000\"/>\n",
       "<path class=\"atom-16\" d=\"M 174.4 125.5 L 176.5 125.5 L 176.5 132.2 L 184.6 132.2 L 184.6 125.5 L 186.8 125.5 L 186.8 141.3 L 184.6 141.3 L 184.6 134.0 L 176.5 134.0 L 176.5 141.3 L 174.4 141.3 L 174.4 125.5 \" fill=\"#000000\"/>\n",
       "<path class=\"atom-17\" d=\"M 202.3 202.7 L 204.4 202.7 L 204.4 209.4 L 212.5 209.4 L 212.5 202.7 L 214.6 202.7 L 214.6 218.5 L 212.5 218.5 L 212.5 211.2 L 204.4 211.2 L 204.4 218.5 L 202.3 218.5 L 202.3 202.7 \" fill=\"#000000\"/>\n",
       "<path class=\"atom-18\" d=\"M 200.9 237.7 L 203.0 237.7 L 203.0 244.4 L 211.1 244.4 L 211.1 237.7 L 213.3 237.7 L 213.3 253.5 L 211.1 253.5 L 211.1 246.2 L 203.0 246.2 L 203.0 253.5 L 200.9 253.5 L 200.9 237.7 \" fill=\"#000000\"/>\n",
       "<path class=\"atom-19\" d=\"M 218.7 270.5 L 220.9 270.5 L 220.9 277.3 L 229.0 277.3 L 229.0 270.5 L 231.1 270.5 L 231.1 286.4 L 229.0 286.4 L 229.0 279.1 L 220.9 279.1 L 220.9 286.4 L 218.7 286.4 L 218.7 270.5 \" fill=\"#000000\"/>\n",
       "<path class=\"atom-20\" d=\"M 269.8 258.3 L 271.9 258.3 L 271.9 265.1 L 280.0 265.1 L 280.0 258.3 L 282.1 258.3 L 282.1 274.2 L 280.0 274.2 L 280.0 266.9 L 271.9 266.9 L 271.9 274.2 L 269.8 274.2 L 269.8 258.3 \" fill=\"#000000\"/>\n",
       "<path class=\"atom-21\" d=\"M 284.1 182.2 L 286.2 182.2 L 286.2 189.0 L 294.3 189.0 L 294.3 182.2 L 296.5 182.2 L 296.5 198.0 L 294.3 198.0 L 294.3 190.7 L 286.2 190.7 L 286.2 198.0 L 284.1 198.0 L 284.1 182.2 \" fill=\"#000000\"/>\n",
       "<path class=\"atom-22\" d=\"M 313.4 192.6 L 315.5 192.6 L 315.5 199.3 L 323.6 199.3 L 323.6 192.6 L 325.8 192.6 L 325.8 208.4 L 323.6 208.4 L 323.6 201.1 L 315.5 201.1 L 315.5 208.4 L 313.4 208.4 L 313.4 192.6 \" fill=\"#000000\"/>\n",
       "<path class=\"atom-23\" d=\"M 295.5 242.0 L 297.6 242.0 L 297.6 248.7 L 305.7 248.7 L 305.7 242.0 L 307.9 242.0 L 307.9 257.8 L 305.7 257.8 L 305.7 250.5 L 297.6 250.5 L 297.6 257.8 L 295.5 257.8 L 295.5 242.0 \" fill=\"#000000\"/>\n",
       "</svg>"
      ],
      "text/plain": [
       "<IPython.core.display.SVG object>"
      ]
     },
     "metadata": {},
     "output_type": "display_data"
    },
    {
     "name": "stdin",
     "output_type": "stream",
     "text": [
      " t147i [#6X3:1]-[#16X3+0:2]-[#7X4:3]-[#6X4:4] C=CS(=O)[NH2+]C\n"
     ]
    },
    {
     "name": "stdout",
     "output_type": "stream",
     "text": [
      "matched!\n"
     ]
    },
    {
     "data": {
      "image/svg+xml": [
       "<svg xmlns=\"http://www.w3.org/2000/svg\" xmlns:rdkit=\"http://www.rdkit.org/xml\" xmlns:xlink=\"http://www.w3.org/1999/xlink\" version=\"1.1\" baseProfile=\"full\" xml:space=\"preserve\" width=\"500px\" height=\"300px\" viewBox=\"0 0 500 300\">\n",
       "<!-- END OF HEADER -->\n",
       "<rect style=\"opacity:1.0;fill:#FFFFFF;stroke:none\" width=\"500.0\" height=\"300.0\" x=\"0.0\" y=\"0.0\"> </rect>\n",
       "<path class=\"bond-0 atom-0 atom-1\" d=\"M 107.6,129.6 L 178.8,170.7\" style=\"fill:none;fill-rule:evenodd;stroke:#000000;stroke-width:2.0px;stroke-linecap:butt;stroke-linejoin:miter;stroke-opacity:1\"/>\n",
       "<path class=\"bond-0 atom-0 atom-1\" d=\"M 119.9,122.5 L 178.8,156.4\" style=\"fill:none;fill-rule:evenodd;stroke:#000000;stroke-width:2.0px;stroke-linecap:butt;stroke-linejoin:miter;stroke-opacity:1\"/>\n",
       "<path class=\"bond-1 atom-1 atom-2\" d=\"M 178.8,170.7 L 208.5,153.5\" style=\"fill:none;fill-rule:evenodd;stroke:#000000;stroke-width:2.0px;stroke-linecap:butt;stroke-linejoin:miter;stroke-opacity:1\"/>\n",
       "<path class=\"bond-1 atom-1 atom-2\" d=\"M 208.5,153.5 L 238.2,136.3\" style=\"fill:none;fill-rule:evenodd;stroke:#CCCC00;stroke-width:2.0px;stroke-linecap:butt;stroke-linejoin:miter;stroke-opacity:1\"/>\n",
       "<path class=\"bond-2 atom-2 atom-3\" d=\"M 256.1,112.7 L 256.1,88.7\" style=\"fill:none;fill-rule:evenodd;stroke:#CCCC00;stroke-width:2.0px;stroke-linecap:butt;stroke-linejoin:miter;stroke-opacity:1\"/>\n",
       "<path class=\"bond-2 atom-2 atom-3\" d=\"M 256.1,88.7 L 256.1,64.7\" style=\"fill:none;fill-rule:evenodd;stroke:#FF0000;stroke-width:2.0px;stroke-linecap:butt;stroke-linejoin:miter;stroke-opacity:1\"/>\n",
       "<path class=\"bond-2 atom-2 atom-3\" d=\"M 243.8,112.7 L 243.8,88.7\" style=\"fill:none;fill-rule:evenodd;stroke:#CCCC00;stroke-width:2.0px;stroke-linecap:butt;stroke-linejoin:miter;stroke-opacity:1\"/>\n",
       "<path class=\"bond-2 atom-2 atom-3\" d=\"M 243.8,88.7 L 243.7,64.8\" style=\"fill:none;fill-rule:evenodd;stroke:#FF0000;stroke-width:2.0px;stroke-linecap:butt;stroke-linejoin:miter;stroke-opacity:1\"/>\n",
       "<path class=\"bond-3 atom-2 atom-4\" d=\"M 261.8,136.3 L 284.8,149.5\" style=\"fill:none;fill-rule:evenodd;stroke:#CCCC00;stroke-width:2.0px;stroke-linecap:butt;stroke-linejoin:miter;stroke-opacity:1\"/>\n",
       "<path class=\"bond-3 atom-2 atom-4\" d=\"M 284.8,149.5 L 307.7,162.8\" style=\"fill:none;fill-rule:evenodd;stroke:#0000FF;stroke-width:2.0px;stroke-linecap:butt;stroke-linejoin:miter;stroke-opacity:1\"/>\n",
       "<path class=\"bond-4 atom-4 atom-5\" d=\"M 350.6,153.5 L 371.5,141.5\" style=\"fill:none;fill-rule:evenodd;stroke:#0000FF;stroke-width:2.0px;stroke-linecap:butt;stroke-linejoin:miter;stroke-opacity:1\"/>\n",
       "<path class=\"bond-4 atom-4 atom-5\" d=\"M 371.5,141.5 L 392.4,129.4\" style=\"fill:none;fill-rule:evenodd;stroke:#000000;stroke-width:2.0px;stroke-linecap:butt;stroke-linejoin:miter;stroke-opacity:1\"/>\n",
       "<path class=\"bond-5 atom-0 atom-6\" d=\"M 107.6,129.6 L 107.5,64.3\" style=\"fill:none;fill-rule:evenodd;stroke:#000000;stroke-width:2.0px;stroke-linecap:butt;stroke-linejoin:miter;stroke-opacity:1\"/>\n",
       "<path class=\"bond-6 atom-0 atom-7\" d=\"M 107.6,129.6 L 50.2,162.8\" style=\"fill:none;fill-rule:evenodd;stroke:#000000;stroke-width:2.0px;stroke-linecap:butt;stroke-linejoin:miter;stroke-opacity:1\"/>\n",
       "<path class=\"bond-7 atom-1 atom-8\" d=\"M 178.8,170.7 L 178.8,236.0\" style=\"fill:none;fill-rule:evenodd;stroke:#000000;stroke-width:2.0px;stroke-linecap:butt;stroke-linejoin:miter;stroke-opacity:1\"/>\n",
       "<path class=\"bond-8 atom-4 atom-9\" d=\"M 331.0,187.4 L 341.8,206.1\" style=\"fill:none;fill-rule:evenodd;stroke:#0000FF;stroke-width:2.0px;stroke-linecap:butt;stroke-linejoin:miter;stroke-opacity:1\"/>\n",
       "<path class=\"bond-8 atom-4 atom-9\" d=\"M 341.8,206.1 L 352.6,224.8\" style=\"fill:none;fill-rule:evenodd;stroke:#000000;stroke-width:2.0px;stroke-linecap:butt;stroke-linejoin:miter;stroke-opacity:1\"/>\n",
       "<path class=\"bond-9 atom-4 atom-10\" d=\"M 311.5,187.4 L 300.7,206.2\" style=\"fill:none;fill-rule:evenodd;stroke:#0000FF;stroke-width:2.0px;stroke-linecap:butt;stroke-linejoin:miter;stroke-opacity:1\"/>\n",
       "<path class=\"bond-9 atom-4 atom-10\" d=\"M 300.7,206.2 L 289.9,224.9\" style=\"fill:none;fill-rule:evenodd;stroke:#000000;stroke-width:2.0px;stroke-linecap:butt;stroke-linejoin:miter;stroke-opacity:1\"/>\n",
       "<path class=\"bond-10 atom-5 atom-11\" d=\"M 392.4,129.4 L 361.0,75.1\" style=\"fill:none;fill-rule:evenodd;stroke:#000000;stroke-width:2.0px;stroke-linecap:butt;stroke-linejoin:miter;stroke-opacity:1\"/>\n",
       "<path class=\"bond-11 atom-5 atom-12\" d=\"M 392.4,129.4 L 423.7,75.0\" style=\"fill:none;fill-rule:evenodd;stroke:#000000;stroke-width:2.0px;stroke-linecap:butt;stroke-linejoin:miter;stroke-opacity:1\"/>\n",
       "<path class=\"bond-12 atom-5 atom-13\" d=\"M 392.4,129.4 L 449.8,162.5\" style=\"fill:none;fill-rule:evenodd;stroke:#000000;stroke-width:2.0px;stroke-linecap:butt;stroke-linejoin:miter;stroke-opacity:1\"/>\n",
       "<path class=\"atom-2\" d=\"M 242.0 139.2 Q 242.3 139.3, 243.6 139.9 Q 244.9 140.5, 246.4 140.8 Q 247.8 141.1, 249.3 141.1 Q 252.0 141.1, 253.5 139.9 Q 255.1 138.5, 255.1 136.3 Q 255.1 134.7, 254.3 133.7 Q 253.5 132.8, 252.3 132.3 Q 251.1 131.7, 249.1 131.1 Q 246.6 130.4, 245.1 129.7 Q 243.6 128.9, 242.5 127.4 Q 241.5 125.9, 241.5 123.3 Q 241.5 119.8, 243.9 117.6 Q 246.3 115.4, 251.1 115.4 Q 254.4 115.4, 258.1 116.9 L 257.2 120.0 Q 253.8 118.6, 251.2 118.6 Q 248.5 118.6, 247.0 119.8 Q 245.4 120.9, 245.5 122.9 Q 245.5 124.4, 246.2 125.3 Q 247.0 126.2, 248.2 126.7 Q 249.3 127.3, 251.2 127.9 Q 253.8 128.7, 255.3 129.5 Q 256.8 130.3, 257.9 131.9 Q 259.0 133.5, 259.0 136.3 Q 259.0 140.2, 256.4 142.3 Q 253.8 144.4, 249.4 144.4 Q 246.9 144.4, 245.0 143.8 Q 243.1 143.3, 240.9 142.4 L 242.0 139.2 \" fill=\"#CCCC00\"/>\n",
       "<path class=\"atom-3\" d=\"M 236.9 47.4 Q 236.9 40.6, 240.3 36.8 Q 243.6 33.0, 249.9 33.0 Q 256.2 33.0, 259.5 36.8 Q 262.9 40.6, 262.9 47.4 Q 262.9 54.2, 259.5 58.2 Q 256.1 62.0, 249.9 62.0 Q 243.7 62.0, 240.3 58.2 Q 236.9 54.3, 236.9 47.4 M 249.9 58.8 Q 254.2 58.8, 256.5 56.0 Q 258.9 53.0, 258.9 47.4 Q 258.9 41.8, 256.5 39.0 Q 254.2 36.2, 249.9 36.2 Q 245.6 36.2, 243.2 39.0 Q 240.9 41.8, 240.9 47.4 Q 240.9 53.1, 243.2 56.0 Q 245.6 58.8, 249.9 58.8 \" fill=\"#FF0000\"/>\n",
       "<path class=\"atom-4\" d=\"M 314.9 156.4 L 324.2 171.4 Q 325.1 172.9, 326.6 175.5 Q 328.1 178.2, 328.2 178.4 L 328.2 156.4 L 331.9 156.4 L 331.9 184.7 L 328.1 184.7 L 318.1 168.3 Q 316.9 166.4, 315.7 164.2 Q 314.5 162.0, 314.1 161.3 L 314.1 184.7 L 310.5 184.7 L 310.5 156.4 L 314.9 156.4 \" fill=\"#0000FF\"/>\n",
       "<path class=\"atom-4\" d=\"M 337.3 161.5 L 342.3 161.5 L 342.3 156.2 L 344.5 156.2 L 344.5 161.5 L 349.6 161.5 L 349.6 163.4 L 344.5 163.4 L 344.5 168.7 L 342.3 168.7 L 342.3 163.4 L 337.3 163.4 L 337.3 161.5 \" fill=\"#0000FF\"/>\n",
       "<path class=\"atom-6\" d=\"M 96.4 33.2 L 100.3 33.2 L 100.3 45.3 L 114.7 45.3 L 114.7 33.2 L 118.6 33.2 L 118.6 61.6 L 114.7 61.6 L 114.7 48.5 L 100.3 48.5 L 100.3 61.6 L 96.4 61.6 L 96.4 33.2 \" fill=\"#000000\"/>\n",
       "<path class=\"atom-7\" d=\"M 25.3 156.6 L 29.2 156.6 L 29.2 168.7 L 43.6 168.7 L 43.6 156.6 L 47.5 156.6 L 47.5 184.9 L 43.6 184.9 L 43.6 171.9 L 29.2 171.9 L 29.2 184.9 L 25.3 184.9 L 25.3 156.6 \" fill=\"#000000\"/>\n",
       "<path class=\"atom-8\" d=\"M 167.8 238.7 L 171.6 238.7 L 171.6 250.8 L 186.1 250.8 L 186.1 238.7 L 189.9 238.7 L 189.9 267.0 L 186.1 267.0 L 186.1 254.0 L 171.6 254.0 L 171.6 267.0 L 167.8 267.0 L 167.8 238.7 \" fill=\"#000000\"/>\n",
       "<path class=\"atom-9\" d=\"M 351.3 227.6 L 355.1 227.6 L 355.1 239.6 L 369.6 239.6 L 369.6 227.6 L 373.4 227.6 L 373.4 255.9 L 369.6 255.9 L 369.6 242.8 L 355.1 242.8 L 355.1 255.9 L 351.3 255.9 L 351.3 227.6 \" fill=\"#000000\"/>\n",
       "<path class=\"atom-10\" d=\"M 269.1 227.6 L 272.9 227.6 L 272.9 239.7 L 287.4 239.7 L 287.4 227.6 L 291.2 227.6 L 291.2 255.9 L 287.4 255.9 L 287.4 242.9 L 272.9 242.9 L 272.9 255.9 L 269.1 255.9 L 269.1 227.6 \" fill=\"#000000\"/>\n",
       "<path class=\"atom-11\" d=\"M 340.1 44.1 L 344.0 44.1 L 344.0 56.1 L 358.4 56.1 L 358.4 44.1 L 362.3 44.1 L 362.3 72.4 L 358.4 72.4 L 358.4 59.3 L 344.0 59.3 L 344.0 72.4 L 340.1 72.4 L 340.1 44.1 \" fill=\"#000000\"/>\n",
       "<path class=\"atom-12\" d=\"M 422.3 44.0 L 426.2 44.0 L 426.2 56.0 L 440.7 56.0 L 440.7 44.0 L 444.5 44.0 L 444.5 72.3 L 440.7 72.3 L 440.7 59.2 L 426.2 59.2 L 426.2 72.3 L 422.3 72.3 L 422.3 44.0 \" fill=\"#000000\"/>\n",
       "<path class=\"atom-13\" d=\"M 452.5 156.3 L 456.4 156.3 L 456.4 168.3 L 470.8 168.3 L 470.8 156.3 L 474.7 156.3 L 474.7 184.6 L 470.8 184.6 L 470.8 171.5 L 456.4 171.5 L 456.4 184.6 L 452.5 184.6 L 452.5 156.3 \" fill=\"#000000\"/>\n",
       "</svg>"
      ],
      "text/plain": [
       "<IPython.core.display.SVG object>"
      ]
     },
     "metadata": {},
     "output_type": "display_data"
    },
    {
     "name": "stdin",
     "output_type": "stream",
     "text": [
      " t147i [#6X3:1]-[#16X3+0:2]-[#7X4:3]-[#6X4:4] c1(ccccc1)S(=O)[NH2+]C\n"
     ]
    },
    {
     "name": "stdout",
     "output_type": "stream",
     "text": [
      "matched!\n"
     ]
    },
    {
     "data": {
      "image/svg+xml": [
       "<svg xmlns=\"http://www.w3.org/2000/svg\" xmlns:rdkit=\"http://www.rdkit.org/xml\" xmlns:xlink=\"http://www.w3.org/1999/xlink\" version=\"1.1\" baseProfile=\"full\" xml:space=\"preserve\" width=\"500px\" height=\"300px\" viewBox=\"0 0 500 300\">\n",
       "<!-- END OF HEADER -->\n",
       "<rect style=\"opacity:1.0;fill:#FFFFFF;stroke:none\" width=\"500.0\" height=\"300.0\" x=\"0.0\" y=\"0.0\"> </rect>\n",
       "<path class=\"bond-0 atom-0 atom-5\" d=\"M 276.5,120.1 L 329.3,88.2\" style=\"fill:none;fill-rule:evenodd;stroke:#000000;stroke-width:2.0px;stroke-linecap:butt;stroke-linejoin:miter;stroke-opacity:1\"/>\n",
       "<path class=\"bond-0 atom-0 atom-5\" d=\"M 285.8,125.2 L 329.5,98.9\" style=\"fill:none;fill-rule:evenodd;stroke:#000000;stroke-width:2.0px;stroke-linecap:butt;stroke-linejoin:miter;stroke-opacity:1\"/>\n",
       "<path class=\"bond-1 atom-0 atom-1\" d=\"M 276.5,120.1 L 277.3,181.8\" style=\"fill:none;fill-rule:evenodd;stroke:#000000;stroke-width:2.0px;stroke-linecap:butt;stroke-linejoin:miter;stroke-opacity:1\"/>\n",
       "<path class=\"bond-2 atom-1 atom-2\" d=\"M 277.3,181.8 L 331.1,211.6\" style=\"fill:none;fill-rule:evenodd;stroke:#000000;stroke-width:2.0px;stroke-linecap:butt;stroke-linejoin:miter;stroke-opacity:1\"/>\n",
       "<path class=\"bond-2 atom-1 atom-2\" d=\"M 286.5,176.3 L 330.9,201.0\" style=\"fill:none;fill-rule:evenodd;stroke:#000000;stroke-width:2.0px;stroke-linecap:butt;stroke-linejoin:miter;stroke-opacity:1\"/>\n",
       "<path class=\"bond-3 atom-2 atom-3\" d=\"M 331.1,211.6 L 384.0,180.0\" style=\"fill:none;fill-rule:evenodd;stroke:#000000;stroke-width:2.0px;stroke-linecap:butt;stroke-linejoin:miter;stroke-opacity:1\"/>\n",
       "<path class=\"bond-4 atom-3 atom-4\" d=\"M 384.0,180.0 L 383.0,118.3\" style=\"fill:none;fill-rule:evenodd;stroke:#000000;stroke-width:2.0px;stroke-linecap:butt;stroke-linejoin:miter;stroke-opacity:1\"/>\n",
       "<path class=\"bond-4 atom-3 atom-4\" d=\"M 374.7,174.8 L 373.9,123.8\" style=\"fill:none;fill-rule:evenodd;stroke:#000000;stroke-width:2.0px;stroke-linecap:butt;stroke-linejoin:miter;stroke-opacity:1\"/>\n",
       "<path class=\"bond-5 atom-4 atom-5\" d=\"M 383.0,118.3 L 329.3,88.2\" style=\"fill:none;fill-rule:evenodd;stroke:#000000;stroke-width:2.0px;stroke-linecap:butt;stroke-linejoin:miter;stroke-opacity:1\"/>\n",
       "<path class=\"bond-6 atom-0 atom-6\" d=\"M 276.5,120.1 L 254.6,107.6\" style=\"fill:none;fill-rule:evenodd;stroke:#000000;stroke-width:2.0px;stroke-linecap:butt;stroke-linejoin:miter;stroke-opacity:1\"/>\n",
       "<path class=\"bond-6 atom-0 atom-6\" d=\"M 254.6,107.6 L 232.7,95.1\" style=\"fill:none;fill-rule:evenodd;stroke:#CCCC00;stroke-width:2.0px;stroke-linecap:butt;stroke-linejoin:miter;stroke-opacity:1\"/>\n",
       "<path class=\"bond-7 atom-6 atom-7\" d=\"M 226.9,74.1 L 227.0,58.7\" style=\"fill:none;fill-rule:evenodd;stroke:#CCCC00;stroke-width:2.0px;stroke-linecap:butt;stroke-linejoin:miter;stroke-opacity:1\"/>\n",
       "<path class=\"bond-7 atom-6 atom-7\" d=\"M 227.0,58.7 L 227.0,43.3\" style=\"fill:none;fill-rule:evenodd;stroke:#FF0000;stroke-width:2.0px;stroke-linecap:butt;stroke-linejoin:miter;stroke-opacity:1\"/>\n",
       "<path class=\"bond-7 atom-6 atom-7\" d=\"M 217.7,74.1 L 217.7,58.7\" style=\"fill:none;fill-rule:evenodd;stroke:#CCCC00;stroke-width:2.0px;stroke-linecap:butt;stroke-linejoin:miter;stroke-opacity:1\"/>\n",
       "<path class=\"bond-7 atom-6 atom-7\" d=\"M 217.7,58.7 L 217.7,43.2\" style=\"fill:none;fill-rule:evenodd;stroke:#FF0000;stroke-width:2.0px;stroke-linecap:butt;stroke-linejoin:miter;stroke-opacity:1\"/>\n",
       "<path class=\"bond-8 atom-6 atom-8\" d=\"M 211.9,95.1 L 203.5,99.9\" style=\"fill:none;fill-rule:evenodd;stroke:#CCCC00;stroke-width:2.0px;stroke-linecap:butt;stroke-linejoin:miter;stroke-opacity:1\"/>\n",
       "<path class=\"bond-8 atom-6 atom-8\" d=\"M 203.5,99.9 L 195.1,104.7\" style=\"fill:none;fill-rule:evenodd;stroke:#0000FF;stroke-width:2.0px;stroke-linecap:butt;stroke-linejoin:miter;stroke-opacity:1\"/>\n",
       "<path class=\"bond-9 atom-8 atom-9\" d=\"M 156.3,113.0 L 135.9,101.1\" style=\"fill:none;fill-rule:evenodd;stroke:#0000FF;stroke-width:2.0px;stroke-linecap:butt;stroke-linejoin:miter;stroke-opacity:1\"/>\n",
       "<path class=\"bond-9 atom-8 atom-9\" d=\"M 135.9,101.1 L 115.5,89.2\" style=\"fill:none;fill-rule:evenodd;stroke:#000000;stroke-width:2.0px;stroke-linecap:butt;stroke-linejoin:miter;stroke-opacity:1\"/>\n",
       "<path class=\"bond-10 atom-1 atom-10\" d=\"M 277.3,181.8 L 238.2,205.7\" style=\"fill:none;fill-rule:evenodd;stroke:#000000;stroke-width:2.0px;stroke-linecap:butt;stroke-linejoin:miter;stroke-opacity:1\"/>\n",
       "<path class=\"bond-11 atom-2 atom-11\" d=\"M 331.1,211.6 L 331.8,258.2\" style=\"fill:none;fill-rule:evenodd;stroke:#000000;stroke-width:2.0px;stroke-linecap:butt;stroke-linejoin:miter;stroke-opacity:1\"/>\n",
       "<path class=\"bond-12 atom-3 atom-12\" d=\"M 384.0,180.0 L 425.5,203.1\" style=\"fill:none;fill-rule:evenodd;stroke:#000000;stroke-width:2.0px;stroke-linecap:butt;stroke-linejoin:miter;stroke-opacity:1\"/>\n",
       "<path class=\"bond-13 atom-4 atom-13\" d=\"M 383.0,118.3 L 423.7,94.1\" style=\"fill:none;fill-rule:evenodd;stroke:#000000;stroke-width:2.0px;stroke-linecap:butt;stroke-linejoin:miter;stroke-opacity:1\"/>\n",
       "<path class=\"bond-14 atom-5 atom-14\" d=\"M 329.3,88.2 L 328.6,41.8\" style=\"fill:none;fill-rule:evenodd;stroke:#000000;stroke-width:2.0px;stroke-linecap:butt;stroke-linejoin:miter;stroke-opacity:1\"/>\n",
       "<path class=\"bond-15 atom-8 atom-15\" d=\"M 176.8,135.0 L 183.1,146.2\" style=\"fill:none;fill-rule:evenodd;stroke:#0000FF;stroke-width:2.0px;stroke-linecap:butt;stroke-linejoin:miter;stroke-opacity:1\"/>\n",
       "<path class=\"bond-15 atom-8 atom-15\" d=\"M 183.1,146.2 L 189.4,157.4\" style=\"fill:none;fill-rule:evenodd;stroke:#000000;stroke-width:2.0px;stroke-linecap:butt;stroke-linejoin:miter;stroke-opacity:1\"/>\n",
       "<path class=\"bond-16 atom-8 atom-16\" d=\"M 159.5,135.0 L 152.8,146.5\" style=\"fill:none;fill-rule:evenodd;stroke:#0000FF;stroke-width:2.0px;stroke-linecap:butt;stroke-linejoin:miter;stroke-opacity:1\"/>\n",
       "<path class=\"bond-16 atom-8 atom-16\" d=\"M 152.8,146.5 L 146.1,157.9\" style=\"fill:none;fill-rule:evenodd;stroke:#000000;stroke-width:2.0px;stroke-linecap:butt;stroke-linejoin:miter;stroke-opacity:1\"/>\n",
       "<path class=\"bond-17 atom-9 atom-17\" d=\"M 115.5,89.2 L 137.6,51.0\" style=\"fill:none;fill-rule:evenodd;stroke:#000000;stroke-width:2.0px;stroke-linecap:butt;stroke-linejoin:miter;stroke-opacity:1\"/>\n",
       "<path class=\"bond-18 atom-9 atom-18\" d=\"M 115.5,89.2 L 93.5,51.0\" style=\"fill:none;fill-rule:evenodd;stroke:#000000;stroke-width:2.0px;stroke-linecap:butt;stroke-linejoin:miter;stroke-opacity:1\"/>\n",
       "<path class=\"bond-19 atom-9 atom-19\" d=\"M 115.5,89.2 L 74.5,112.9\" style=\"fill:none;fill-rule:evenodd;stroke:#000000;stroke-width:2.0px;stroke-linecap:butt;stroke-linejoin:miter;stroke-opacity:1\"/>\n",
       "<path class=\"atom-6\" d=\"M 214.9 98.2 Q 215.2 98.3, 216.4 98.8 Q 217.7 99.3, 219.0 99.7 Q 220.4 100.0, 221.7 100.0 Q 224.2 100.0, 225.6 98.8 Q 227.0 97.6, 227.0 95.5 Q 227.0 94.0, 226.3 93.1 Q 225.6 92.2, 224.5 91.8 Q 223.4 91.3, 221.5 90.7 Q 219.2 90.0, 217.8 89.4 Q 216.4 88.7, 215.4 87.3 Q 214.5 85.9, 214.5 83.5 Q 214.5 80.2, 216.7 78.2 Q 219.0 76.2, 223.4 76.2 Q 226.4 76.2, 229.9 77.6 L 229.0 80.5 Q 225.9 79.2, 223.5 79.2 Q 220.9 79.2, 219.5 80.2 Q 218.1 81.3, 218.2 83.1 Q 218.2 84.5, 218.9 85.3 Q 219.6 86.2, 220.7 86.7 Q 221.7 87.1, 223.5 87.7 Q 225.9 88.4, 227.3 89.2 Q 228.7 89.9, 229.7 91.4 Q 230.7 92.9, 230.7 95.5 Q 230.7 99.1, 228.3 101.0 Q 225.9 103.0, 221.8 103.0 Q 219.5 103.0, 217.7 102.4 Q 216.0 102.0, 213.9 101.1 L 214.9 98.2 \" fill=\"#CCCC00\"/>\n",
       "<path class=\"atom-7\" d=\"M 210.4 27.7 Q 210.4 21.4, 213.5 17.9 Q 216.6 14.4, 222.4 14.4 Q 228.2 14.4, 231.3 17.9 Q 234.4 21.4, 234.4 27.7 Q 234.4 34.0, 231.2 37.6 Q 228.1 41.2, 222.4 41.2 Q 216.6 41.2, 213.5 37.6 Q 210.4 34.1, 210.4 27.7 M 222.4 38.3 Q 226.4 38.3, 228.5 35.6 Q 230.7 32.9, 230.7 27.7 Q 230.7 22.5, 228.5 19.9 Q 226.4 17.3, 222.4 17.3 Q 218.4 17.3, 216.2 19.9 Q 214.1 22.5, 214.1 27.7 Q 214.1 32.9, 216.2 35.6 Q 218.4 38.3, 222.4 38.3 \" fill=\"#FF0000\"/>\n",
       "<path class=\"atom-8\" d=\"M 162.5 106.8 L 171.1 120.7 Q 171.9 122.1, 173.3 124.5 Q 174.7 127.0, 174.8 127.2 L 174.8 106.8 L 178.2 106.8 L 178.2 133.0 L 174.6 133.0 L 165.4 117.9 Q 164.4 116.1, 163.2 114.0 Q 162.1 112.0, 161.8 111.4 L 161.8 133.0 L 158.4 133.0 L 158.4 106.8 L 162.5 106.8 \" fill=\"#0000FF\"/>\n",
       "<path class=\"atom-8\" d=\"M 183.2 111.6 L 187.8 111.6 L 187.8 106.7 L 189.8 106.7 L 189.8 111.6 L 194.5 111.6 L 194.5 113.3 L 189.8 113.3 L 189.8 118.2 L 187.8 118.2 L 187.8 113.3 L 183.2 113.3 L 183.2 111.6 \" fill=\"#0000FF\"/>\n",
       "<path class=\"atom-10\" d=\"M 215.7 200.1 L 219.2 200.1 L 219.2 211.2 L 232.6 211.2 L 232.6 200.1 L 236.1 200.1 L 236.1 226.2 L 232.6 226.2 L 232.6 214.1 L 219.2 214.1 L 219.2 226.2 L 215.7 226.2 L 215.7 200.1 \" fill=\"#000000\"/>\n",
       "<path class=\"atom-11\" d=\"M 321.8 260.2 L 325.4 260.2 L 325.4 271.3 L 338.8 271.3 L 338.8 260.2 L 342.3 260.2 L 342.3 286.4 L 338.8 286.4 L 338.8 274.3 L 325.4 274.3 L 325.4 286.4 L 321.8 286.4 L 321.8 260.2 \" fill=\"#000000\"/>\n",
       "<path class=\"atom-12\" d=\"M 427.5 196.9 L 431.1 196.9 L 431.1 208.0 L 444.5 208.0 L 444.5 196.9 L 448.0 196.9 L 448.0 223.0 L 444.5 223.0 L 444.5 211.0 L 431.1 211.0 L 431.1 223.0 L 427.5 223.0 L 427.5 196.9 \" fill=\"#000000\"/>\n",
       "<path class=\"atom-13\" d=\"M 425.7 73.6 L 429.3 73.6 L 429.3 84.8 L 442.7 84.8 L 442.7 73.6 L 446.2 73.6 L 446.2 99.8 L 442.7 99.8 L 442.7 87.7 L 429.3 87.7 L 429.3 99.8 L 425.7 99.8 L 425.7 73.6 \" fill=\"#000000\"/>\n",
       "<path class=\"atom-14\" d=\"M 318.1 13.6 L 321.7 13.6 L 321.7 24.8 L 335.1 24.8 L 335.1 13.6 L 338.6 13.6 L 338.6 39.8 L 335.1 39.8 L 335.1 27.7 L 321.7 27.7 L 321.7 39.8 L 318.1 39.8 L 318.1 13.6 \" fill=\"#000000\"/>\n",
       "<path class=\"atom-15\" d=\"M 187.6 159.5 L 191.2 159.5 L 191.2 170.6 L 204.5 170.6 L 204.5 159.5 L 208.1 159.5 L 208.1 185.6 L 204.5 185.6 L 204.5 173.5 L 191.2 173.5 L 191.2 185.6 L 187.6 185.6 L 187.6 159.5 \" fill=\"#000000\"/>\n",
       "<path class=\"atom-16\" d=\"M 127.1 160.0 L 130.6 160.0 L 130.6 171.1 L 144.0 171.1 L 144.0 160.0 L 147.6 160.0 L 147.6 186.1 L 144.0 186.1 L 144.0 174.0 L 130.6 174.0 L 130.6 186.1 L 127.1 186.1 L 127.1 160.0 \" fill=\"#000000\"/>\n",
       "<path class=\"atom-17\" d=\"M 136.2 22.8 L 139.7 22.8 L 139.7 34.0 L 153.1 34.0 L 153.1 22.8 L 156.7 22.8 L 156.7 49.0 L 153.1 49.0 L 153.1 36.9 L 139.7 36.9 L 139.7 49.0 L 136.2 49.0 L 136.2 22.8 \" fill=\"#000000\"/>\n",
       "<path class=\"atom-18\" d=\"M 74.5 22.8 L 78.1 22.8 L 78.1 34.0 L 91.5 34.0 L 91.5 22.8 L 95.0 22.8 L 95.0 49.0 L 91.5 49.0 L 91.5 36.9 L 78.1 36.9 L 78.1 49.0 L 74.5 49.0 L 74.5 22.8 \" fill=\"#000000\"/>\n",
       "<path class=\"atom-19\" d=\"M 52.0 106.9 L 55.5 106.9 L 55.5 118.1 L 68.9 118.1 L 68.9 106.9 L 72.5 106.9 L 72.5 133.1 L 68.9 133.1 L 68.9 121.0 L 55.5 121.0 L 55.5 133.1 L 52.0 133.1 L 52.0 106.9 \" fill=\"#000000\"/>\n",
       "</svg>"
      ],
      "text/plain": [
       "<IPython.core.display.SVG object>"
      ]
     },
     "metadata": {},
     "output_type": "display_data"
    },
    {
     "name": "stdin",
     "output_type": "stream",
     "text": [
      " t148g [#8X1:1]~[#16X4:2]-[#7X4:3]-[#1:4] C=CS(=O)(=O)[NH2+]C\n"
     ]
    },
    {
     "name": "stdout",
     "output_type": "stream",
     "text": [
      "matched!\n"
     ]
    },
    {
     "data": {
      "image/svg+xml": [
       "<svg xmlns=\"http://www.w3.org/2000/svg\" xmlns:rdkit=\"http://www.rdkit.org/xml\" xmlns:xlink=\"http://www.w3.org/1999/xlink\" version=\"1.1\" baseProfile=\"full\" xml:space=\"preserve\" width=\"500px\" height=\"300px\" viewBox=\"0 0 500 300\">\n",
       "<!-- END OF HEADER -->\n",
       "<rect style=\"opacity:1.0;fill:#FFFFFF;stroke:none\" width=\"500.0\" height=\"300.0\" x=\"0.0\" y=\"0.0\"> </rect>\n",
       "<path class=\"bond-0 atom-0 atom-1\" d=\"M 347.9,64.9 L 348.0,136.8\" style=\"fill:none;fill-rule:evenodd;stroke:#000000;stroke-width:2.0px;stroke-linecap:butt;stroke-linejoin:miter;stroke-opacity:1\"/>\n",
       "<path class=\"bond-0 atom-0 atom-1\" d=\"M 337.1,71.2 L 337.3,130.6\" style=\"fill:none;fill-rule:evenodd;stroke:#000000;stroke-width:2.0px;stroke-linecap:butt;stroke-linejoin:miter;stroke-opacity:1\"/>\n",
       "<path class=\"bond-1 atom-1 atom-2\" d=\"M 348.0,136.8 L 322.7,151.5\" style=\"fill:none;fill-rule:evenodd;stroke:#000000;stroke-width:2.0px;stroke-linecap:butt;stroke-linejoin:miter;stroke-opacity:1\"/>\n",
       "<path class=\"bond-1 atom-1 atom-2\" d=\"M 322.7,151.5 L 297.4,166.2\" style=\"fill:none;fill-rule:evenodd;stroke:#CCCC00;stroke-width:2.0px;stroke-linecap:butt;stroke-linejoin:miter;stroke-opacity:1\"/>\n",
       "<path class=\"bond-2 atom-2 atom-3\" d=\"M 281.0,153.6 L 272.7,139.3\" style=\"fill:none;fill-rule:evenodd;stroke:#CCCC00;stroke-width:2.0px;stroke-linecap:butt;stroke-linejoin:miter;stroke-opacity:1\"/>\n",
       "<path class=\"bond-2 atom-2 atom-3\" d=\"M 272.7,139.3 L 264.5,125.1\" style=\"fill:none;fill-rule:evenodd;stroke:#FF0000;stroke-width:2.0px;stroke-linecap:butt;stroke-linejoin:miter;stroke-opacity:1\"/>\n",
       "<path class=\"bond-2 atom-2 atom-3\" d=\"M 271.7,159.0 L 263.4,144.7\" style=\"fill:none;fill-rule:evenodd;stroke:#CCCC00;stroke-width:2.0px;stroke-linecap:butt;stroke-linejoin:miter;stroke-opacity:1\"/>\n",
       "<path class=\"bond-2 atom-2 atom-3\" d=\"M 263.4,144.7 L 255.1,130.5\" style=\"fill:none;fill-rule:evenodd;stroke:#FF0000;stroke-width:2.0px;stroke-linecap:butt;stroke-linejoin:miter;stroke-opacity:1\"/>\n",
       "<path class=\"bond-3 atom-2 atom-4\" d=\"M 291.3,192.7 L 299.4,206.8\" style=\"fill:none;fill-rule:evenodd;stroke:#CCCC00;stroke-width:2.0px;stroke-linecap:butt;stroke-linejoin:miter;stroke-opacity:1\"/>\n",
       "<path class=\"bond-3 atom-2 atom-4\" d=\"M 299.4,206.8 L 307.6,220.9\" style=\"fill:none;fill-rule:evenodd;stroke:#FF0000;stroke-width:2.0px;stroke-linecap:butt;stroke-linejoin:miter;stroke-opacity:1\"/>\n",
       "<path class=\"bond-3 atom-2 atom-4\" d=\"M 300.6,187.3 L 308.8,201.4\" style=\"fill:none;fill-rule:evenodd;stroke:#CCCC00;stroke-width:2.0px;stroke-linecap:butt;stroke-linejoin:miter;stroke-opacity:1\"/>\n",
       "<path class=\"bond-3 atom-2 atom-4\" d=\"M 308.8,201.4 L 316.9,215.5\" style=\"fill:none;fill-rule:evenodd;stroke:#FF0000;stroke-width:2.0px;stroke-linecap:butt;stroke-linejoin:miter;stroke-opacity:1\"/>\n",
       "<path class=\"bond-4 atom-2 atom-5\" d=\"M 274.5,179.4 L 263.5,185.8\" style=\"fill:none;fill-rule:evenodd;stroke:#CCCC00;stroke-width:2.0px;stroke-linecap:butt;stroke-linejoin:miter;stroke-opacity:1\"/>\n",
       "<path class=\"bond-4 atom-2 atom-5\" d=\"M 263.5,185.8 L 252.5,192.2\" style=\"fill:none;fill-rule:evenodd;stroke:#0000FF;stroke-width:2.0px;stroke-linecap:butt;stroke-linejoin:miter;stroke-opacity:1\"/>\n",
       "<path class=\"bond-5 atom-5 atom-6\" d=\"M 210.7,201.3 L 186.1,187.2\" style=\"fill:none;fill-rule:evenodd;stroke:#0000FF;stroke-width:2.0px;stroke-linecap:butt;stroke-linejoin:miter;stroke-opacity:1\"/>\n",
       "<path class=\"bond-5 atom-5 atom-6\" d=\"M 186.1,187.2 L 161.5,173.0\" style=\"fill:none;fill-rule:evenodd;stroke:#000000;stroke-width:2.0px;stroke-linecap:butt;stroke-linejoin:miter;stroke-opacity:1\"/>\n",
       "<path class=\"bond-6 atom-0 atom-7\" d=\"M 347.9,64.9 L 299.1,36.9\" style=\"fill:none;fill-rule:evenodd;stroke:#000000;stroke-width:2.0px;stroke-linecap:butt;stroke-linejoin:miter;stroke-opacity:1\"/>\n",
       "<path class=\"bond-7 atom-0 atom-8\" d=\"M 347.9,64.9 L 396.6,36.7\" style=\"fill:none;fill-rule:evenodd;stroke:#000000;stroke-width:2.0px;stroke-linecap:butt;stroke-linejoin:miter;stroke-opacity:1\"/>\n",
       "<path class=\"bond-8 atom-1 atom-9\" d=\"M 348.0,136.8 L 396.9,164.8\" style=\"fill:none;fill-rule:evenodd;stroke:#000000;stroke-width:2.0px;stroke-linecap:butt;stroke-linejoin:miter;stroke-opacity:1\"/>\n",
       "<path class=\"bond-9 atom-5 atom-10\" d=\"M 233.4,225.4 L 241.8,239.9\" style=\"fill:none;fill-rule:evenodd;stroke:#0000FF;stroke-width:2.0px;stroke-linecap:butt;stroke-linejoin:miter;stroke-opacity:1\"/>\n",
       "<path class=\"bond-9 atom-5 atom-10\" d=\"M 241.8,239.9 L 250.2,254.4\" style=\"fill:none;fill-rule:evenodd;stroke:#000000;stroke-width:2.0px;stroke-linecap:butt;stroke-linejoin:miter;stroke-opacity:1\"/>\n",
       "<path class=\"bond-10 atom-5 atom-11\" d=\"M 214.3,225.4 L 205.9,240.0\" style=\"fill:none;fill-rule:evenodd;stroke:#0000FF;stroke-width:2.0px;stroke-linecap:butt;stroke-linejoin:miter;stroke-opacity:1\"/>\n",
       "<path class=\"bond-10 atom-5 atom-11\" d=\"M 205.9,240.0 L 197.5,254.6\" style=\"fill:none;fill-rule:evenodd;stroke:#000000;stroke-width:2.0px;stroke-linecap:butt;stroke-linejoin:miter;stroke-opacity:1\"/>\n",
       "<path class=\"bond-11 atom-6 atom-12\" d=\"M 161.5,173.0 L 135.2,218.8\" style=\"fill:none;fill-rule:evenodd;stroke:#000000;stroke-width:2.0px;stroke-linecap:butt;stroke-linejoin:miter;stroke-opacity:1\"/>\n",
       "<path class=\"bond-12 atom-6 atom-13\" d=\"M 161.5,173.0 L 103.1,173.2\" style=\"fill:none;fill-rule:evenodd;stroke:#000000;stroke-width:2.0px;stroke-linecap:butt;stroke-linejoin:miter;stroke-opacity:1\"/>\n",
       "<path class=\"bond-13 atom-6 atom-14\" d=\"M 161.5,173.0 L 161.4,117.8\" style=\"fill:none;fill-rule:evenodd;stroke:#000000;stroke-width:2.0px;stroke-linecap:butt;stroke-linejoin:miter;stroke-opacity:1\"/>\n",
       "<path class=\"atom-2\" d=\"M 277.9 182.5 Q 278.2 182.6, 279.6 183.2 Q 280.9 183.8, 282.3 184.1 Q 283.8 184.4, 285.2 184.4 Q 287.9 184.4, 289.5 183.2 Q 291.0 181.8, 291.0 179.6 Q 291.0 178.0, 290.2 177.0 Q 289.5 176.1, 288.3 175.6 Q 287.1 175.0, 285.1 174.4 Q 282.6 173.7, 281.0 173.0 Q 279.6 172.2, 278.5 170.7 Q 277.4 169.2, 277.4 166.6 Q 277.4 163.1, 279.8 160.9 Q 282.3 158.7, 287.1 158.7 Q 290.4 158.7, 294.1 160.2 L 293.2 163.3 Q 289.8 161.9, 287.2 161.9 Q 284.4 161.9, 282.9 163.1 Q 281.4 164.2, 281.4 166.2 Q 281.4 167.7, 282.2 168.6 Q 283.0 169.5, 284.1 170.0 Q 285.3 170.6, 287.2 171.2 Q 289.8 172.0, 291.3 172.8 Q 292.8 173.6, 293.9 175.2 Q 295.0 176.8, 295.0 179.6 Q 295.0 183.5, 292.4 185.6 Q 289.8 187.7, 285.4 187.7 Q 282.9 187.7, 281.0 187.1 Q 279.1 186.6, 276.8 185.7 L 277.9 182.5 \" fill=\"#CCCC00\"/>\n",
       "<path class=\"atom-3\" d=\"M 236.9 110.7 Q 236.9 103.9, 240.2 100.1 Q 243.6 96.3, 249.9 96.3 Q 256.2 96.3, 259.5 100.1 Q 262.9 103.9, 262.9 110.7 Q 262.9 117.6, 259.5 121.5 Q 256.1 125.4, 249.9 125.4 Q 243.6 125.4, 240.2 121.5 Q 236.9 117.7, 236.9 110.7 M 249.9 122.2 Q 254.2 122.2, 256.5 119.3 Q 258.9 116.4, 258.9 110.7 Q 258.9 105.2, 256.5 102.4 Q 254.2 99.5, 249.9 99.5 Q 245.6 99.5, 243.2 102.3 Q 240.9 105.1, 240.9 110.7 Q 240.9 116.5, 243.2 119.3 Q 245.6 122.2, 249.9 122.2 \" fill=\"#FF0000\"/>\n",
       "<path class=\"atom-4\" d=\"M 309.0 235.0 Q 309.0 228.2, 312.3 224.4 Q 315.7 220.6, 322.0 220.6 Q 328.2 220.6, 331.6 224.4 Q 335.0 228.2, 335.0 235.0 Q 335.0 241.9, 331.6 245.8 Q 328.2 249.7, 322.0 249.7 Q 315.7 249.7, 312.3 245.8 Q 309.0 241.9, 309.0 235.0 M 322.0 246.5 Q 326.3 246.5, 328.6 243.6 Q 331.0 240.7, 331.0 235.0 Q 331.0 229.4, 328.6 226.6 Q 326.3 223.8, 322.0 223.8 Q 317.6 223.8, 315.3 226.6 Q 313.0 229.4, 313.0 235.0 Q 313.0 240.7, 315.3 243.6 Q 317.6 246.5, 322.0 246.5 \" fill=\"#FF0000\"/>\n",
       "<path class=\"atom-5\" d=\"M 217.5 194.7 L 226.8 209.7 Q 227.7 211.2, 229.2 213.8 Q 230.7 216.5, 230.8 216.7 L 230.8 194.7 L 234.5 194.7 L 234.5 223.0 L 230.6 223.0 L 220.7 206.6 Q 219.5 204.7, 218.3 202.5 Q 217.1 200.3, 216.7 199.6 L 216.7 223.0 L 213.0 223.0 L 213.0 194.7 L 217.5 194.7 \" fill=\"#0000FF\"/>\n",
       "<path class=\"atom-5\" d=\"M 239.9 199.8 L 244.8 199.8 L 244.8 194.5 L 247.1 194.5 L 247.1 199.8 L 252.2 199.8 L 252.2 201.7 L 247.1 201.7 L 247.1 207.0 L 244.8 207.0 L 244.8 201.7 L 239.9 201.7 L 239.9 199.8 \" fill=\"#0000FF\"/>\n",
       "<path class=\"atom-7\" d=\"M 274.5 15.0 L 278.4 15.0 L 278.4 27.0 L 292.9 27.0 L 292.9 15.0 L 296.7 15.0 L 296.7 43.3 L 292.9 43.3 L 292.9 30.2 L 278.4 30.2 L 278.4 43.3 L 274.5 43.3 L 274.5 15.0 \" fill=\"#000000\"/>\n",
       "<path class=\"atom-8\" d=\"M 399.0 14.7 L 402.8 14.7 L 402.8 26.8 L 417.3 26.8 L 417.3 14.7 L 421.1 14.7 L 421.1 43.1 L 417.3 43.1 L 417.3 30.0 L 402.8 30.0 L 402.8 43.1 L 399.0 43.1 L 399.0 14.7 \" fill=\"#000000\"/>\n",
       "<path class=\"atom-9\" d=\"M 399.2 158.4 L 403.1 158.4 L 403.1 170.4 L 417.6 170.4 L 417.6 158.4 L 421.4 158.4 L 421.4 186.7 L 417.6 186.7 L 417.6 173.6 L 403.1 173.6 L 403.1 186.7 L 399.2 186.7 L 399.2 158.4 \" fill=\"#000000\"/>\n",
       "<path class=\"atom-10\" d=\"M 248.7 256.8 L 252.6 256.8 L 252.6 268.8 L 267.1 268.8 L 267.1 256.8 L 270.9 256.8 L 270.9 285.1 L 267.1 285.1 L 267.1 272.0 L 252.6 272.0 L 252.6 285.1 L 248.7 285.1 L 248.7 256.8 \" fill=\"#000000\"/>\n",
       "<path class=\"atom-11\" d=\"M 176.9 256.9 L 180.8 256.9 L 180.8 269.0 L 195.2 269.0 L 195.2 256.9 L 199.1 256.9 L 199.1 285.3 L 195.2 285.3 L 195.2 272.2 L 180.8 272.2 L 180.8 285.3 L 176.9 285.3 L 176.9 256.9 \" fill=\"#000000\"/>\n",
       "<path class=\"atom-12\" d=\"M 114.6 221.2 L 118.5 221.2 L 118.5 233.2 L 133.0 233.2 L 133.0 221.2 L 136.8 221.2 L 136.8 249.5 L 133.0 249.5 L 133.0 236.4 L 118.5 236.4 L 118.5 249.5 L 114.6 249.5 L 114.6 221.2 \" fill=\"#000000\"/>\n",
       "<path class=\"atom-13\" d=\"M 78.6 159.0 L 82.4 159.0 L 82.4 171.1 L 96.9 171.1 L 96.9 159.0 L 100.8 159.0 L 100.8 187.4 L 96.9 187.4 L 96.9 174.3 L 82.4 174.3 L 82.4 187.4 L 78.6 187.4 L 78.6 159.0 \" fill=\"#000000\"/>\n",
       "<path class=\"atom-14\" d=\"M 150.3 87.1 L 154.1 87.1 L 154.1 99.1 L 168.6 99.1 L 168.6 87.1 L 172.4 87.1 L 172.4 115.4 L 168.6 115.4 L 168.6 102.3 L 154.1 102.3 L 154.1 115.4 L 150.3 115.4 L 150.3 87.1 \" fill=\"#000000\"/>\n",
       "</svg>"
      ],
      "text/plain": [
       "<IPython.core.display.SVG object>"
      ]
     },
     "metadata": {},
     "output_type": "display_data"
    },
    {
     "name": "stdin",
     "output_type": "stream",
     "text": [
      " t148g [#8X1:1]~[#16X4:2]-[#7X4:3]-[#1:4] c1(ccccc1)CS(=O)(=O)[NH2+]C\n"
     ]
    },
    {
     "name": "stdout",
     "output_type": "stream",
     "text": [
      "matched!\n"
     ]
    },
    {
     "data": {
      "image/svg+xml": [
       "<svg xmlns=\"http://www.w3.org/2000/svg\" xmlns:rdkit=\"http://www.rdkit.org/xml\" xmlns:xlink=\"http://www.w3.org/1999/xlink\" version=\"1.1\" baseProfile=\"full\" xml:space=\"preserve\" width=\"500px\" height=\"300px\" viewBox=\"0 0 500 300\">\n",
       "<!-- END OF HEADER -->\n",
       "<rect style=\"opacity:1.0;fill:#FFFFFF;stroke:none\" width=\"500.0\" height=\"300.0\" x=\"0.0\" y=\"0.0\"> </rect>\n",
       "<path class=\"bond-0 atom-0 atom-5\" d=\"M 249.4,122.9 L 214.4,142.9\" style=\"fill:none;fill-rule:evenodd;stroke:#000000;stroke-width:2.0px;stroke-linecap:butt;stroke-linejoin:miter;stroke-opacity:1\"/>\n",
       "<path class=\"bond-0 atom-0 atom-5\" d=\"M 243.4,119.4 L 214.4,136.0\" style=\"fill:none;fill-rule:evenodd;stroke:#000000;stroke-width:2.0px;stroke-linecap:butt;stroke-linejoin:miter;stroke-opacity:1\"/>\n",
       "<path class=\"bond-1 atom-0 atom-1\" d=\"M 249.4,122.9 L 249.5,82.6\" style=\"fill:none;fill-rule:evenodd;stroke:#000000;stroke-width:2.0px;stroke-linecap:butt;stroke-linejoin:miter;stroke-opacity:1\"/>\n",
       "<path class=\"bond-2 atom-1 atom-2\" d=\"M 249.5,82.6 L 214.8,62.4\" style=\"fill:none;fill-rule:evenodd;stroke:#000000;stroke-width:2.0px;stroke-linecap:butt;stroke-linejoin:miter;stroke-opacity:1\"/>\n",
       "<path class=\"bond-2 atom-1 atom-2\" d=\"M 243.5,86.1 L 214.8,69.4\" style=\"fill:none;fill-rule:evenodd;stroke:#000000;stroke-width:2.0px;stroke-linecap:butt;stroke-linejoin:miter;stroke-opacity:1\"/>\n",
       "<path class=\"bond-3 atom-2 atom-3\" d=\"M 214.8,62.4 L 179.9,82.6\" style=\"fill:none;fill-rule:evenodd;stroke:#000000;stroke-width:2.0px;stroke-linecap:butt;stroke-linejoin:miter;stroke-opacity:1\"/>\n",
       "<path class=\"bond-4 atom-3 atom-4\" d=\"M 179.9,82.6 L 179.6,122.8\" style=\"fill:none;fill-rule:evenodd;stroke:#000000;stroke-width:2.0px;stroke-linecap:butt;stroke-linejoin:miter;stroke-opacity:1\"/>\n",
       "<path class=\"bond-4 atom-3 atom-4\" d=\"M 185.9,86.1 L 185.7,119.4\" style=\"fill:none;fill-rule:evenodd;stroke:#000000;stroke-width:2.0px;stroke-linecap:butt;stroke-linejoin:miter;stroke-opacity:1\"/>\n",
       "<path class=\"bond-5 atom-4 atom-5\" d=\"M 179.6,122.8 L 214.4,142.9\" style=\"fill:none;fill-rule:evenodd;stroke:#000000;stroke-width:2.0px;stroke-linecap:butt;stroke-linejoin:miter;stroke-opacity:1\"/>\n",
       "<path class=\"bond-6 atom-0 atom-6\" d=\"M 249.4,122.9 L 284.8,142.7\" style=\"fill:none;fill-rule:evenodd;stroke:#000000;stroke-width:2.0px;stroke-linecap:butt;stroke-linejoin:miter;stroke-opacity:1\"/>\n",
       "<path class=\"bond-7 atom-6 atom-7\" d=\"M 284.8,142.7 L 285.1,157.8\" style=\"fill:none;fill-rule:evenodd;stroke:#000000;stroke-width:2.0px;stroke-linecap:butt;stroke-linejoin:miter;stroke-opacity:1\"/>\n",
       "<path class=\"bond-7 atom-6 atom-7\" d=\"M 285.1,157.8 L 285.3,172.8\" style=\"fill:none;fill-rule:evenodd;stroke:#CCCC00;stroke-width:2.0px;stroke-linecap:butt;stroke-linejoin:miter;stroke-opacity:1\"/>\n",
       "<path class=\"bond-8 atom-7 atom-8\" d=\"M 278.7,179.7 L 267.0,179.8\" style=\"fill:none;fill-rule:evenodd;stroke:#CCCC00;stroke-width:2.0px;stroke-linecap:butt;stroke-linejoin:miter;stroke-opacity:1\"/>\n",
       "<path class=\"bond-8 atom-7 atom-8\" d=\"M 267.0,179.8 L 255.3,179.9\" style=\"fill:none;fill-rule:evenodd;stroke:#FF0000;stroke-width:2.0px;stroke-linecap:butt;stroke-linejoin:miter;stroke-opacity:1\"/>\n",
       "<path class=\"bond-8 atom-7 atom-8\" d=\"M 278.7,185.7 L 267.0,185.8\" style=\"fill:none;fill-rule:evenodd;stroke:#CCCC00;stroke-width:2.0px;stroke-linecap:butt;stroke-linejoin:miter;stroke-opacity:1\"/>\n",
       "<path class=\"bond-8 atom-7 atom-8\" d=\"M 267.0,185.8 L 255.3,185.9\" style=\"fill:none;fill-rule:evenodd;stroke:#FF0000;stroke-width:2.0px;stroke-linecap:butt;stroke-linejoin:miter;stroke-opacity:1\"/>\n",
       "<path class=\"bond-9 atom-7 atom-9\" d=\"M 292.4,185.6 L 304.5,185.4\" style=\"fill:none;fill-rule:evenodd;stroke:#CCCC00;stroke-width:2.0px;stroke-linecap:butt;stroke-linejoin:miter;stroke-opacity:1\"/>\n",
       "<path class=\"bond-9 atom-7 atom-9\" d=\"M 304.5,185.4 L 316.6,185.3\" style=\"fill:none;fill-rule:evenodd;stroke:#FF0000;stroke-width:2.0px;stroke-linecap:butt;stroke-linejoin:miter;stroke-opacity:1\"/>\n",
       "<path class=\"bond-9 atom-7 atom-9\" d=\"M 292.3,179.5 L 304.4,179.4\" style=\"fill:none;fill-rule:evenodd;stroke:#CCCC00;stroke-width:2.0px;stroke-linecap:butt;stroke-linejoin:miter;stroke-opacity:1\"/>\n",
       "<path class=\"bond-9 atom-7 atom-9\" d=\"M 304.4,179.4 L 316.6,179.3\" style=\"fill:none;fill-rule:evenodd;stroke:#FF0000;stroke-width:2.0px;stroke-linecap:butt;stroke-linejoin:miter;stroke-opacity:1\"/>\n",
       "<path class=\"bond-10 atom-7 atom-10\" d=\"M 285.6,193.0 L 285.6,203.0\" style=\"fill:none;fill-rule:evenodd;stroke:#CCCC00;stroke-width:2.0px;stroke-linecap:butt;stroke-linejoin:miter;stroke-opacity:1\"/>\n",
       "<path class=\"bond-10 atom-7 atom-10\" d=\"M 285.6,203.0 L 285.6,213.0\" style=\"fill:none;fill-rule:evenodd;stroke:#0000FF;stroke-width:2.0px;stroke-linecap:butt;stroke-linejoin:miter;stroke-opacity:1\"/>\n",
       "<path class=\"bond-11 atom-10 atom-11\" d=\"M 293.5,227.4 L 307.0,235.1\" style=\"fill:none;fill-rule:evenodd;stroke:#0000FF;stroke-width:2.0px;stroke-linecap:butt;stroke-linejoin:miter;stroke-opacity:1\"/>\n",
       "<path class=\"bond-11 atom-10 atom-11\" d=\"M 307.0,235.1 L 320.5,242.9\" style=\"fill:none;fill-rule:evenodd;stroke:#000000;stroke-width:2.0px;stroke-linecap:butt;stroke-linejoin:miter;stroke-opacity:1\"/>\n",
       "<path class=\"bond-12 atom-1 atom-12\" d=\"M 249.5,82.6 L 276.5,67.2\" style=\"fill:none;fill-rule:evenodd;stroke:#000000;stroke-width:2.0px;stroke-linecap:butt;stroke-linejoin:miter;stroke-opacity:1\"/>\n",
       "<path class=\"bond-13 atom-2 atom-13\" d=\"M 214.8,62.4 L 214.9,32.1\" style=\"fill:none;fill-rule:evenodd;stroke:#000000;stroke-width:2.0px;stroke-linecap:butt;stroke-linejoin:miter;stroke-opacity:1\"/>\n",
       "<path class=\"bond-14 atom-3 atom-14\" d=\"M 179.9,82.6 L 153.1,67.0\" style=\"fill:none;fill-rule:evenodd;stroke:#000000;stroke-width:2.0px;stroke-linecap:butt;stroke-linejoin:miter;stroke-opacity:1\"/>\n",
       "<path class=\"bond-15 atom-4 atom-15\" d=\"M 179.6,122.8 L 152.7,138.2\" style=\"fill:none;fill-rule:evenodd;stroke:#000000;stroke-width:2.0px;stroke-linecap:butt;stroke-linejoin:miter;stroke-opacity:1\"/>\n",
       "<path class=\"bond-16 atom-5 atom-16\" d=\"M 214.4,142.9 L 214.0,173.7\" style=\"fill:none;fill-rule:evenodd;stroke:#000000;stroke-width:2.0px;stroke-linecap:butt;stroke-linejoin:miter;stroke-opacity:1\"/>\n",
       "<path class=\"bond-17 atom-6 atom-17\" d=\"M 284.8,142.7 L 317.0,142.2\" style=\"fill:none;fill-rule:evenodd;stroke:#000000;stroke-width:2.0px;stroke-linecap:butt;stroke-linejoin:miter;stroke-opacity:1\"/>\n",
       "<path class=\"bond-18 atom-6 atom-18\" d=\"M 284.8,142.7 L 298.9,117.4\" style=\"fill:none;fill-rule:evenodd;stroke:#000000;stroke-width:2.0px;stroke-linecap:butt;stroke-linejoin:miter;stroke-opacity:1\"/>\n",
       "<path class=\"bond-19 atom-10 atom-19\" d=\"M 277.9,222.9 L 265.6,222.9\" style=\"fill:none;fill-rule:evenodd;stroke:#0000FF;stroke-width:2.0px;stroke-linecap:butt;stroke-linejoin:miter;stroke-opacity:1\"/>\n",
       "<path class=\"bond-19 atom-10 atom-19\" d=\"M 265.6,222.9 L 253.4,223.0\" style=\"fill:none;fill-rule:evenodd;stroke:#000000;stroke-width:2.0px;stroke-linecap:butt;stroke-linejoin:miter;stroke-opacity:1\"/>\n",
       "<path class=\"bond-20 atom-10 atom-20\" d=\"M 280.0,232.8 L 275.6,240.3\" style=\"fill:none;fill-rule:evenodd;stroke:#0000FF;stroke-width:2.0px;stroke-linecap:butt;stroke-linejoin:miter;stroke-opacity:1\"/>\n",
       "<path class=\"bond-20 atom-10 atom-20\" d=\"M 275.6,240.3 L 271.3,247.9\" style=\"fill:none;fill-rule:evenodd;stroke:#000000;stroke-width:2.0px;stroke-linecap:butt;stroke-linejoin:miter;stroke-opacity:1\"/>\n",
       "<path class=\"bond-21 atom-11 atom-21\" d=\"M 320.5,242.9 L 306.1,267.9\" style=\"fill:none;fill-rule:evenodd;stroke:#000000;stroke-width:2.0px;stroke-linecap:butt;stroke-linejoin:miter;stroke-opacity:1\"/>\n",
       "<path class=\"bond-22 atom-11 atom-22\" d=\"M 320.5,242.9 L 335.0,267.8\" style=\"fill:none;fill-rule:evenodd;stroke:#000000;stroke-width:2.0px;stroke-linecap:butt;stroke-linejoin:miter;stroke-opacity:1\"/>\n",
       "<path class=\"bond-23 atom-11 atom-23\" d=\"M 320.5,242.9 L 347.3,227.3\" style=\"fill:none;fill-rule:evenodd;stroke:#000000;stroke-width:2.0px;stroke-linecap:butt;stroke-linejoin:miter;stroke-opacity:1\"/>\n",
       "<path class=\"atom-7\" d=\"M 280.7 188.5 Q 280.9 188.6, 281.7 188.9 Q 282.5 189.3, 283.4 189.5 Q 284.3 189.7, 285.1 189.7 Q 286.7 189.7, 287.7 188.9 Q 288.6 188.1, 288.6 186.7 Q 288.6 185.8, 288.1 185.2 Q 287.7 184.6, 287.0 184.3 Q 286.2 184.0, 285.0 183.6 Q 283.5 183.2, 282.6 182.7 Q 281.7 182.3, 281.0 181.4 Q 280.4 180.5, 280.4 178.9 Q 280.4 176.8, 281.9 175.4 Q 283.3 174.1, 286.2 174.1 Q 288.2 174.1, 290.5 175.1 L 289.9 176.9 Q 287.9 176.1, 286.3 176.1 Q 284.6 176.1, 283.7 176.8 Q 282.8 177.4, 282.8 178.6 Q 282.8 179.5, 283.3 180.1 Q 283.8 180.7, 284.4 181.0 Q 285.1 181.3, 286.3 181.7 Q 287.9 182.1, 288.8 182.6 Q 289.7 183.1, 290.3 184.1 Q 291.0 185.1, 291.0 186.7 Q 291.0 189.1, 289.4 190.4 Q 287.9 191.6, 285.2 191.6 Q 283.7 191.6, 282.5 191.3 Q 281.4 191.0, 280.0 190.4 L 280.7 188.5 \" fill=\"#CCCC00\"/>\n",
       "<path class=\"atom-8\" d=\"M 238.3 183.0 Q 238.3 178.9, 240.3 176.6 Q 242.3 174.3, 246.1 174.3 Q 249.9 174.3, 251.9 176.6 Q 254.0 178.9, 254.0 183.0 Q 254.0 187.1, 251.9 189.5 Q 249.9 191.9, 246.1 191.9 Q 242.3 191.9, 240.3 189.5 Q 238.3 187.2, 238.3 183.0 M 246.1 189.9 Q 248.7 189.9, 250.1 188.2 Q 251.6 186.4, 251.6 183.0 Q 251.6 179.6, 250.1 177.9 Q 248.7 176.2, 246.1 176.2 Q 243.5 176.2, 242.1 177.9 Q 240.7 179.6, 240.7 183.0 Q 240.7 186.4, 242.1 188.2 Q 243.5 189.9, 246.1 189.9 \" fill=\"#FF0000\"/>\n",
       "<path class=\"atom-9\" d=\"M 317.9 182.2 Q 317.9 178.1, 319.9 175.8 Q 322.0 173.5, 325.8 173.5 Q 329.6 173.5, 331.6 175.8 Q 333.6 178.1, 333.6 182.2 Q 333.6 186.4, 331.6 188.8 Q 329.5 191.1, 325.8 191.1 Q 322.0 191.1, 319.9 188.8 Q 317.9 186.4, 317.9 182.2 M 325.8 189.2 Q 328.4 189.2, 329.8 187.4 Q 331.2 185.7, 331.2 182.2 Q 331.2 178.9, 329.8 177.2 Q 328.4 175.5, 325.8 175.5 Q 323.2 175.5, 321.7 177.2 Q 320.3 178.8, 320.3 182.2 Q 320.3 185.7, 321.7 187.4 Q 323.2 189.2, 325.8 189.2 \" fill=\"#FF0000\"/>\n",
       "<path class=\"atom-10\" d=\"M 281.9 214.3 L 287.5 223.4 Q 288.1 224.3, 289.0 225.9 Q 289.8 227.5, 289.9 227.6 L 289.9 214.3 L 292.2 214.3 L 292.2 231.4 L 289.8 231.4 L 283.8 221.5 Q 283.1 220.4, 282.4 219.0 Q 281.6 217.7, 281.4 217.3 L 281.4 231.4 L 279.2 231.4 L 279.2 214.3 L 281.9 214.3 \" fill=\"#0000FF\"/>\n",
       "<path class=\"atom-10\" d=\"M 295.4 217.4 L 298.4 217.4 L 298.4 214.2 L 299.7 214.2 L 299.7 217.4 L 302.8 217.4 L 302.8 218.6 L 299.7 218.6 L 299.7 221.7 L 298.4 221.7 L 298.4 218.6 L 295.4 218.6 L 295.4 217.4 \" fill=\"#0000FF\"/>\n",
       "<path class=\"atom-12\" d=\"M 277.8 54.1 L 280.1 54.1 L 280.1 61.3 L 288.9 61.3 L 288.9 54.1 L 291.2 54.1 L 291.2 71.2 L 288.9 71.2 L 288.9 63.3 L 280.1 63.3 L 280.1 71.2 L 277.8 71.2 L 277.8 54.1 \" fill=\"#000000\"/>\n",
       "<path class=\"atom-13\" d=\"M 208.2 13.6 L 210.5 13.6 L 210.5 20.9 L 219.3 20.9 L 219.3 13.6 L 221.6 13.6 L 221.6 30.7 L 219.3 30.7 L 219.3 22.8 L 210.5 22.8 L 210.5 30.7 L 208.2 30.7 L 208.2 13.6 \" fill=\"#000000\"/>\n",
       "<path class=\"atom-14\" d=\"M 138.3 53.7 L 140.7 53.7 L 140.7 61.0 L 149.4 61.0 L 149.4 53.7 L 151.7 53.7 L 151.7 70.8 L 149.4 70.8 L 149.4 62.9 L 140.7 62.9 L 140.7 70.8 L 138.3 70.8 L 138.3 53.7 \" fill=\"#000000\"/>\n",
       "<path class=\"atom-15\" d=\"M 138.0 134.3 L 140.3 134.3 L 140.3 141.5 L 149.1 141.5 L 149.1 134.3 L 151.4 134.3 L 151.4 151.4 L 149.1 151.4 L 149.1 143.5 L 140.3 143.5 L 140.3 151.4 L 138.0 151.4 L 138.0 134.3 \" fill=\"#000000\"/>\n",
       "<path class=\"atom-16\" d=\"M 207.2 175.0 L 209.6 175.0 L 209.6 182.3 L 218.3 182.3 L 218.3 175.0 L 220.6 175.0 L 220.6 192.1 L 218.3 192.1 L 218.3 184.2 L 209.6 184.2 L 209.6 192.1 L 207.2 192.1 L 207.2 175.0 \" fill=\"#000000\"/>\n",
       "<path class=\"atom-17\" d=\"M 318.3 133.5 L 320.7 133.5 L 320.7 140.8 L 329.4 140.8 L 329.4 133.5 L 331.7 133.5 L 331.7 150.6 L 329.4 150.6 L 329.4 142.7 L 320.7 142.7 L 320.7 150.6 L 318.3 150.6 L 318.3 133.5 \" fill=\"#000000\"/>\n",
       "<path class=\"atom-18\" d=\"M 297.7 99.0 L 300.0 99.0 L 300.0 106.3 L 308.8 106.3 L 308.8 99.0 L 311.1 99.0 L 311.1 116.1 L 308.8 116.1 L 308.8 108.2 L 300.0 108.2 L 300.0 116.1 L 297.7 116.1 L 297.7 99.0 \" fill=\"#000000\"/>\n",
       "<path class=\"atom-19\" d=\"M 238.7 214.4 L 241.0 214.4 L 241.0 221.7 L 249.7 221.7 L 249.7 214.4 L 252.1 214.4 L 252.1 231.5 L 249.7 231.5 L 249.7 223.6 L 241.0 223.6 L 241.0 231.5 L 238.7 231.5 L 238.7 214.4 \" fill=\"#000000\"/>\n",
       "<path class=\"atom-20\" d=\"M 258.9 249.3 L 261.2 249.3 L 261.2 256.5 L 270.0 256.5 L 270.0 249.3 L 272.3 249.3 L 272.3 266.4 L 270.0 266.4 L 270.0 258.5 L 261.2 258.5 L 261.2 266.4 L 258.9 266.4 L 258.9 249.3 \" fill=\"#000000\"/>\n",
       "<path class=\"atom-21\" d=\"M 293.7 269.3 L 296.0 269.3 L 296.0 276.5 L 304.8 276.5 L 304.8 269.3 L 307.1 269.3 L 307.1 286.4 L 304.8 286.4 L 304.8 278.5 L 296.0 278.5 L 296.0 286.4 L 293.7 286.4 L 293.7 269.3 \" fill=\"#000000\"/>\n",
       "<path class=\"atom-22\" d=\"M 334.0 269.2 L 336.3 269.2 L 336.3 276.4 L 345.1 276.4 L 345.1 269.2 L 347.4 269.2 L 347.4 286.3 L 345.1 286.3 L 345.1 278.4 L 336.3 278.4 L 336.3 286.3 L 334.0 286.3 L 334.0 269.2 \" fill=\"#000000\"/>\n",
       "<path class=\"atom-23\" d=\"M 348.6 214.1 L 350.9 214.1 L 350.9 221.4 L 359.7 221.4 L 359.7 214.1 L 362.0 214.1 L 362.0 231.2 L 359.7 231.2 L 359.7 223.3 L 350.9 223.3 L 350.9 231.2 L 348.6 231.2 L 348.6 214.1 \" fill=\"#000000\"/>\n",
       "</svg>"
      ],
      "text/plain": [
       "<IPython.core.display.SVG object>"
      ]
     },
     "metadata": {},
     "output_type": "display_data"
    },
    {
     "name": "stdin",
     "output_type": "stream",
     "text": [
      " t148i [#8X1:1]~[#16X3+0:2]-[#7X4:3]-[#1:4] C=CS(=O)[NH2+]C\n"
     ]
    },
    {
     "name": "stdout",
     "output_type": "stream",
     "text": [
      "matched!\n"
     ]
    },
    {
     "data": {
      "image/svg+xml": [
       "<svg xmlns=\"http://www.w3.org/2000/svg\" xmlns:rdkit=\"http://www.rdkit.org/xml\" xmlns:xlink=\"http://www.w3.org/1999/xlink\" version=\"1.1\" baseProfile=\"full\" xml:space=\"preserve\" width=\"500px\" height=\"300px\" viewBox=\"0 0 500 300\">\n",
       "<!-- END OF HEADER -->\n",
       "<rect style=\"opacity:1.0;fill:#FFFFFF;stroke:none\" width=\"500.0\" height=\"300.0\" x=\"0.0\" y=\"0.0\"> </rect>\n",
       "<path class=\"bond-0 atom-0 atom-1\" d=\"M 107.6,129.6 L 178.8,170.7\" style=\"fill:none;fill-rule:evenodd;stroke:#000000;stroke-width:2.0px;stroke-linecap:butt;stroke-linejoin:miter;stroke-opacity:1\"/>\n",
       "<path class=\"bond-0 atom-0 atom-1\" d=\"M 119.9,122.5 L 178.8,156.4\" style=\"fill:none;fill-rule:evenodd;stroke:#000000;stroke-width:2.0px;stroke-linecap:butt;stroke-linejoin:miter;stroke-opacity:1\"/>\n",
       "<path class=\"bond-1 atom-1 atom-2\" d=\"M 178.8,170.7 L 208.5,153.5\" style=\"fill:none;fill-rule:evenodd;stroke:#000000;stroke-width:2.0px;stroke-linecap:butt;stroke-linejoin:miter;stroke-opacity:1\"/>\n",
       "<path class=\"bond-1 atom-1 atom-2\" d=\"M 208.5,153.5 L 238.2,136.3\" style=\"fill:none;fill-rule:evenodd;stroke:#CCCC00;stroke-width:2.0px;stroke-linecap:butt;stroke-linejoin:miter;stroke-opacity:1\"/>\n",
       "<path class=\"bond-2 atom-2 atom-3\" d=\"M 256.1,112.7 L 256.1,88.7\" style=\"fill:none;fill-rule:evenodd;stroke:#CCCC00;stroke-width:2.0px;stroke-linecap:butt;stroke-linejoin:miter;stroke-opacity:1\"/>\n",
       "<path class=\"bond-2 atom-2 atom-3\" d=\"M 256.1,88.7 L 256.1,64.7\" style=\"fill:none;fill-rule:evenodd;stroke:#FF0000;stroke-width:2.0px;stroke-linecap:butt;stroke-linejoin:miter;stroke-opacity:1\"/>\n",
       "<path class=\"bond-2 atom-2 atom-3\" d=\"M 243.8,112.7 L 243.8,88.7\" style=\"fill:none;fill-rule:evenodd;stroke:#CCCC00;stroke-width:2.0px;stroke-linecap:butt;stroke-linejoin:miter;stroke-opacity:1\"/>\n",
       "<path class=\"bond-2 atom-2 atom-3\" d=\"M 243.8,88.7 L 243.7,64.8\" style=\"fill:none;fill-rule:evenodd;stroke:#FF0000;stroke-width:2.0px;stroke-linecap:butt;stroke-linejoin:miter;stroke-opacity:1\"/>\n",
       "<path class=\"bond-3 atom-2 atom-4\" d=\"M 261.8,136.3 L 284.8,149.5\" style=\"fill:none;fill-rule:evenodd;stroke:#CCCC00;stroke-width:2.0px;stroke-linecap:butt;stroke-linejoin:miter;stroke-opacity:1\"/>\n",
       "<path class=\"bond-3 atom-2 atom-4\" d=\"M 284.8,149.5 L 307.7,162.8\" style=\"fill:none;fill-rule:evenodd;stroke:#0000FF;stroke-width:2.0px;stroke-linecap:butt;stroke-linejoin:miter;stroke-opacity:1\"/>\n",
       "<path class=\"bond-4 atom-4 atom-5\" d=\"M 350.6,153.5 L 371.5,141.5\" style=\"fill:none;fill-rule:evenodd;stroke:#0000FF;stroke-width:2.0px;stroke-linecap:butt;stroke-linejoin:miter;stroke-opacity:1\"/>\n",
       "<path class=\"bond-4 atom-4 atom-5\" d=\"M 371.5,141.5 L 392.4,129.4\" style=\"fill:none;fill-rule:evenodd;stroke:#000000;stroke-width:2.0px;stroke-linecap:butt;stroke-linejoin:miter;stroke-opacity:1\"/>\n",
       "<path class=\"bond-5 atom-0 atom-6\" d=\"M 107.6,129.6 L 107.5,64.3\" style=\"fill:none;fill-rule:evenodd;stroke:#000000;stroke-width:2.0px;stroke-linecap:butt;stroke-linejoin:miter;stroke-opacity:1\"/>\n",
       "<path class=\"bond-6 atom-0 atom-7\" d=\"M 107.6,129.6 L 50.2,162.8\" style=\"fill:none;fill-rule:evenodd;stroke:#000000;stroke-width:2.0px;stroke-linecap:butt;stroke-linejoin:miter;stroke-opacity:1\"/>\n",
       "<path class=\"bond-7 atom-1 atom-8\" d=\"M 178.8,170.7 L 178.8,236.0\" style=\"fill:none;fill-rule:evenodd;stroke:#000000;stroke-width:2.0px;stroke-linecap:butt;stroke-linejoin:miter;stroke-opacity:1\"/>\n",
       "<path class=\"bond-8 atom-4 atom-9\" d=\"M 331.0,187.4 L 341.8,206.1\" style=\"fill:none;fill-rule:evenodd;stroke:#0000FF;stroke-width:2.0px;stroke-linecap:butt;stroke-linejoin:miter;stroke-opacity:1\"/>\n",
       "<path class=\"bond-8 atom-4 atom-9\" d=\"M 341.8,206.1 L 352.6,224.8\" style=\"fill:none;fill-rule:evenodd;stroke:#000000;stroke-width:2.0px;stroke-linecap:butt;stroke-linejoin:miter;stroke-opacity:1\"/>\n",
       "<path class=\"bond-9 atom-4 atom-10\" d=\"M 311.5,187.4 L 300.7,206.2\" style=\"fill:none;fill-rule:evenodd;stroke:#0000FF;stroke-width:2.0px;stroke-linecap:butt;stroke-linejoin:miter;stroke-opacity:1\"/>\n",
       "<path class=\"bond-9 atom-4 atom-10\" d=\"M 300.7,206.2 L 289.9,224.9\" style=\"fill:none;fill-rule:evenodd;stroke:#000000;stroke-width:2.0px;stroke-linecap:butt;stroke-linejoin:miter;stroke-opacity:1\"/>\n",
       "<path class=\"bond-10 atom-5 atom-11\" d=\"M 392.4,129.4 L 361.0,75.1\" style=\"fill:none;fill-rule:evenodd;stroke:#000000;stroke-width:2.0px;stroke-linecap:butt;stroke-linejoin:miter;stroke-opacity:1\"/>\n",
       "<path class=\"bond-11 atom-5 atom-12\" d=\"M 392.4,129.4 L 423.7,75.0\" style=\"fill:none;fill-rule:evenodd;stroke:#000000;stroke-width:2.0px;stroke-linecap:butt;stroke-linejoin:miter;stroke-opacity:1\"/>\n",
       "<path class=\"bond-12 atom-5 atom-13\" d=\"M 392.4,129.4 L 449.8,162.5\" style=\"fill:none;fill-rule:evenodd;stroke:#000000;stroke-width:2.0px;stroke-linecap:butt;stroke-linejoin:miter;stroke-opacity:1\"/>\n",
       "<path class=\"atom-2\" d=\"M 242.0 139.2 Q 242.3 139.3, 243.6 139.9 Q 244.9 140.5, 246.4 140.8 Q 247.8 141.1, 249.3 141.1 Q 252.0 141.1, 253.5 139.9 Q 255.1 138.5, 255.1 136.3 Q 255.1 134.7, 254.3 133.7 Q 253.5 132.8, 252.3 132.3 Q 251.1 131.7, 249.1 131.1 Q 246.6 130.4, 245.1 129.7 Q 243.6 128.9, 242.5 127.4 Q 241.5 125.9, 241.5 123.3 Q 241.5 119.8, 243.9 117.6 Q 246.3 115.4, 251.1 115.4 Q 254.4 115.4, 258.1 116.9 L 257.2 120.0 Q 253.8 118.6, 251.2 118.6 Q 248.5 118.6, 247.0 119.8 Q 245.4 120.9, 245.5 122.9 Q 245.5 124.4, 246.2 125.3 Q 247.0 126.2, 248.2 126.7 Q 249.3 127.3, 251.2 127.9 Q 253.8 128.7, 255.3 129.5 Q 256.8 130.3, 257.9 131.9 Q 259.0 133.5, 259.0 136.3 Q 259.0 140.2, 256.4 142.3 Q 253.8 144.4, 249.4 144.4 Q 246.9 144.4, 245.0 143.8 Q 243.1 143.3, 240.9 142.4 L 242.0 139.2 \" fill=\"#CCCC00\"/>\n",
       "<path class=\"atom-3\" d=\"M 236.9 47.4 Q 236.9 40.6, 240.3 36.8 Q 243.6 33.0, 249.9 33.0 Q 256.2 33.0, 259.5 36.8 Q 262.9 40.6, 262.9 47.4 Q 262.9 54.2, 259.5 58.2 Q 256.1 62.0, 249.9 62.0 Q 243.7 62.0, 240.3 58.2 Q 236.9 54.3, 236.9 47.4 M 249.9 58.8 Q 254.2 58.8, 256.5 56.0 Q 258.9 53.0, 258.9 47.4 Q 258.9 41.8, 256.5 39.0 Q 254.2 36.2, 249.9 36.2 Q 245.6 36.2, 243.2 39.0 Q 240.9 41.8, 240.9 47.4 Q 240.9 53.1, 243.2 56.0 Q 245.6 58.8, 249.9 58.8 \" fill=\"#FF0000\"/>\n",
       "<path class=\"atom-4\" d=\"M 314.9 156.4 L 324.2 171.4 Q 325.1 172.9, 326.6 175.5 Q 328.1 178.2, 328.2 178.4 L 328.2 156.4 L 331.9 156.4 L 331.9 184.7 L 328.1 184.7 L 318.1 168.3 Q 316.9 166.4, 315.7 164.2 Q 314.5 162.0, 314.1 161.3 L 314.1 184.7 L 310.5 184.7 L 310.5 156.4 L 314.9 156.4 \" fill=\"#0000FF\"/>\n",
       "<path class=\"atom-4\" d=\"M 337.3 161.5 L 342.3 161.5 L 342.3 156.2 L 344.5 156.2 L 344.5 161.5 L 349.6 161.5 L 349.6 163.4 L 344.5 163.4 L 344.5 168.7 L 342.3 168.7 L 342.3 163.4 L 337.3 163.4 L 337.3 161.5 \" fill=\"#0000FF\"/>\n",
       "<path class=\"atom-6\" d=\"M 96.4 33.2 L 100.3 33.2 L 100.3 45.3 L 114.7 45.3 L 114.7 33.2 L 118.6 33.2 L 118.6 61.6 L 114.7 61.6 L 114.7 48.5 L 100.3 48.5 L 100.3 61.6 L 96.4 61.6 L 96.4 33.2 \" fill=\"#000000\"/>\n",
       "<path class=\"atom-7\" d=\"M 25.3 156.6 L 29.2 156.6 L 29.2 168.7 L 43.6 168.7 L 43.6 156.6 L 47.5 156.6 L 47.5 184.9 L 43.6 184.9 L 43.6 171.9 L 29.2 171.9 L 29.2 184.9 L 25.3 184.9 L 25.3 156.6 \" fill=\"#000000\"/>\n",
       "<path class=\"atom-8\" d=\"M 167.8 238.7 L 171.6 238.7 L 171.6 250.8 L 186.1 250.8 L 186.1 238.7 L 189.9 238.7 L 189.9 267.0 L 186.1 267.0 L 186.1 254.0 L 171.6 254.0 L 171.6 267.0 L 167.8 267.0 L 167.8 238.7 \" fill=\"#000000\"/>\n",
       "<path class=\"atom-9\" d=\"M 351.3 227.6 L 355.1 227.6 L 355.1 239.6 L 369.6 239.6 L 369.6 227.6 L 373.4 227.6 L 373.4 255.9 L 369.6 255.9 L 369.6 242.8 L 355.1 242.8 L 355.1 255.9 L 351.3 255.9 L 351.3 227.6 \" fill=\"#000000\"/>\n",
       "<path class=\"atom-10\" d=\"M 269.1 227.6 L 272.9 227.6 L 272.9 239.7 L 287.4 239.7 L 287.4 227.6 L 291.2 227.6 L 291.2 255.9 L 287.4 255.9 L 287.4 242.9 L 272.9 242.9 L 272.9 255.9 L 269.1 255.9 L 269.1 227.6 \" fill=\"#000000\"/>\n",
       "<path class=\"atom-11\" d=\"M 340.1 44.1 L 344.0 44.1 L 344.0 56.1 L 358.4 56.1 L 358.4 44.1 L 362.3 44.1 L 362.3 72.4 L 358.4 72.4 L 358.4 59.3 L 344.0 59.3 L 344.0 72.4 L 340.1 72.4 L 340.1 44.1 \" fill=\"#000000\"/>\n",
       "<path class=\"atom-12\" d=\"M 422.3 44.0 L 426.2 44.0 L 426.2 56.0 L 440.7 56.0 L 440.7 44.0 L 444.5 44.0 L 444.5 72.3 L 440.7 72.3 L 440.7 59.2 L 426.2 59.2 L 426.2 72.3 L 422.3 72.3 L 422.3 44.0 \" fill=\"#000000\"/>\n",
       "<path class=\"atom-13\" d=\"M 452.5 156.3 L 456.4 156.3 L 456.4 168.3 L 470.8 168.3 L 470.8 156.3 L 474.7 156.3 L 474.7 184.6 L 470.8 184.6 L 470.8 171.5 L 456.4 171.5 L 456.4 184.6 L 452.5 184.6 L 452.5 156.3 \" fill=\"#000000\"/>\n",
       "</svg>"
      ],
      "text/plain": [
       "<IPython.core.display.SVG object>"
      ]
     },
     "metadata": {},
     "output_type": "display_data"
    },
    {
     "name": "stdin",
     "output_type": "stream",
     "text": [
      " t148i [#8X1:1]~[#16X3+0:2]-[#7X4:3]-[#1:4] c1(ccccc1)S(=O)[NH2+]C\n"
     ]
    },
    {
     "name": "stdout",
     "output_type": "stream",
     "text": [
      "matched!\n"
     ]
    },
    {
     "data": {
      "image/svg+xml": [
       "<svg xmlns=\"http://www.w3.org/2000/svg\" xmlns:rdkit=\"http://www.rdkit.org/xml\" xmlns:xlink=\"http://www.w3.org/1999/xlink\" version=\"1.1\" baseProfile=\"full\" xml:space=\"preserve\" width=\"500px\" height=\"300px\" viewBox=\"0 0 500 300\">\n",
       "<!-- END OF HEADER -->\n",
       "<rect style=\"opacity:1.0;fill:#FFFFFF;stroke:none\" width=\"500.0\" height=\"300.0\" x=\"0.0\" y=\"0.0\"> </rect>\n",
       "<path class=\"bond-0 atom-0 atom-5\" d=\"M 276.5,120.1 L 329.3,88.2\" style=\"fill:none;fill-rule:evenodd;stroke:#000000;stroke-width:2.0px;stroke-linecap:butt;stroke-linejoin:miter;stroke-opacity:1\"/>\n",
       "<path class=\"bond-0 atom-0 atom-5\" d=\"M 285.8,125.2 L 329.5,98.9\" style=\"fill:none;fill-rule:evenodd;stroke:#000000;stroke-width:2.0px;stroke-linecap:butt;stroke-linejoin:miter;stroke-opacity:1\"/>\n",
       "<path class=\"bond-1 atom-0 atom-1\" d=\"M 276.5,120.1 L 277.3,181.8\" style=\"fill:none;fill-rule:evenodd;stroke:#000000;stroke-width:2.0px;stroke-linecap:butt;stroke-linejoin:miter;stroke-opacity:1\"/>\n",
       "<path class=\"bond-2 atom-1 atom-2\" d=\"M 277.3,181.8 L 331.1,211.6\" style=\"fill:none;fill-rule:evenodd;stroke:#000000;stroke-width:2.0px;stroke-linecap:butt;stroke-linejoin:miter;stroke-opacity:1\"/>\n",
       "<path class=\"bond-2 atom-1 atom-2\" d=\"M 286.5,176.3 L 330.9,201.0\" style=\"fill:none;fill-rule:evenodd;stroke:#000000;stroke-width:2.0px;stroke-linecap:butt;stroke-linejoin:miter;stroke-opacity:1\"/>\n",
       "<path class=\"bond-3 atom-2 atom-3\" d=\"M 331.1,211.6 L 384.0,180.0\" style=\"fill:none;fill-rule:evenodd;stroke:#000000;stroke-width:2.0px;stroke-linecap:butt;stroke-linejoin:miter;stroke-opacity:1\"/>\n",
       "<path class=\"bond-4 atom-3 atom-4\" d=\"M 384.0,180.0 L 383.0,118.3\" style=\"fill:none;fill-rule:evenodd;stroke:#000000;stroke-width:2.0px;stroke-linecap:butt;stroke-linejoin:miter;stroke-opacity:1\"/>\n",
       "<path class=\"bond-4 atom-3 atom-4\" d=\"M 374.7,174.8 L 373.9,123.8\" style=\"fill:none;fill-rule:evenodd;stroke:#000000;stroke-width:2.0px;stroke-linecap:butt;stroke-linejoin:miter;stroke-opacity:1\"/>\n",
       "<path class=\"bond-5 atom-4 atom-5\" d=\"M 383.0,118.3 L 329.3,88.2\" style=\"fill:none;fill-rule:evenodd;stroke:#000000;stroke-width:2.0px;stroke-linecap:butt;stroke-linejoin:miter;stroke-opacity:1\"/>\n",
       "<path class=\"bond-6 atom-0 atom-6\" d=\"M 276.5,120.1 L 254.6,107.6\" style=\"fill:none;fill-rule:evenodd;stroke:#000000;stroke-width:2.0px;stroke-linecap:butt;stroke-linejoin:miter;stroke-opacity:1\"/>\n",
       "<path class=\"bond-6 atom-0 atom-6\" d=\"M 254.6,107.6 L 232.7,95.1\" style=\"fill:none;fill-rule:evenodd;stroke:#CCCC00;stroke-width:2.0px;stroke-linecap:butt;stroke-linejoin:miter;stroke-opacity:1\"/>\n",
       "<path class=\"bond-7 atom-6 atom-7\" d=\"M 226.9,74.1 L 227.0,58.7\" style=\"fill:none;fill-rule:evenodd;stroke:#CCCC00;stroke-width:2.0px;stroke-linecap:butt;stroke-linejoin:miter;stroke-opacity:1\"/>\n",
       "<path class=\"bond-7 atom-6 atom-7\" d=\"M 227.0,58.7 L 227.0,43.3\" style=\"fill:none;fill-rule:evenodd;stroke:#FF0000;stroke-width:2.0px;stroke-linecap:butt;stroke-linejoin:miter;stroke-opacity:1\"/>\n",
       "<path class=\"bond-7 atom-6 atom-7\" d=\"M 217.7,74.1 L 217.7,58.7\" style=\"fill:none;fill-rule:evenodd;stroke:#CCCC00;stroke-width:2.0px;stroke-linecap:butt;stroke-linejoin:miter;stroke-opacity:1\"/>\n",
       "<path class=\"bond-7 atom-6 atom-7\" d=\"M 217.7,58.7 L 217.7,43.2\" style=\"fill:none;fill-rule:evenodd;stroke:#FF0000;stroke-width:2.0px;stroke-linecap:butt;stroke-linejoin:miter;stroke-opacity:1\"/>\n",
       "<path class=\"bond-8 atom-6 atom-8\" d=\"M 211.9,95.1 L 203.5,99.9\" style=\"fill:none;fill-rule:evenodd;stroke:#CCCC00;stroke-width:2.0px;stroke-linecap:butt;stroke-linejoin:miter;stroke-opacity:1\"/>\n",
       "<path class=\"bond-8 atom-6 atom-8\" d=\"M 203.5,99.9 L 195.1,104.7\" style=\"fill:none;fill-rule:evenodd;stroke:#0000FF;stroke-width:2.0px;stroke-linecap:butt;stroke-linejoin:miter;stroke-opacity:1\"/>\n",
       "<path class=\"bond-9 atom-8 atom-9\" d=\"M 156.3,113.0 L 135.9,101.1\" style=\"fill:none;fill-rule:evenodd;stroke:#0000FF;stroke-width:2.0px;stroke-linecap:butt;stroke-linejoin:miter;stroke-opacity:1\"/>\n",
       "<path class=\"bond-9 atom-8 atom-9\" d=\"M 135.9,101.1 L 115.5,89.2\" style=\"fill:none;fill-rule:evenodd;stroke:#000000;stroke-width:2.0px;stroke-linecap:butt;stroke-linejoin:miter;stroke-opacity:1\"/>\n",
       "<path class=\"bond-10 atom-1 atom-10\" d=\"M 277.3,181.8 L 238.2,205.7\" style=\"fill:none;fill-rule:evenodd;stroke:#000000;stroke-width:2.0px;stroke-linecap:butt;stroke-linejoin:miter;stroke-opacity:1\"/>\n",
       "<path class=\"bond-11 atom-2 atom-11\" d=\"M 331.1,211.6 L 331.8,258.2\" style=\"fill:none;fill-rule:evenodd;stroke:#000000;stroke-width:2.0px;stroke-linecap:butt;stroke-linejoin:miter;stroke-opacity:1\"/>\n",
       "<path class=\"bond-12 atom-3 atom-12\" d=\"M 384.0,180.0 L 425.5,203.1\" style=\"fill:none;fill-rule:evenodd;stroke:#000000;stroke-width:2.0px;stroke-linecap:butt;stroke-linejoin:miter;stroke-opacity:1\"/>\n",
       "<path class=\"bond-13 atom-4 atom-13\" d=\"M 383.0,118.3 L 423.7,94.1\" style=\"fill:none;fill-rule:evenodd;stroke:#000000;stroke-width:2.0px;stroke-linecap:butt;stroke-linejoin:miter;stroke-opacity:1\"/>\n",
       "<path class=\"bond-14 atom-5 atom-14\" d=\"M 329.3,88.2 L 328.6,41.8\" style=\"fill:none;fill-rule:evenodd;stroke:#000000;stroke-width:2.0px;stroke-linecap:butt;stroke-linejoin:miter;stroke-opacity:1\"/>\n",
       "<path class=\"bond-15 atom-8 atom-15\" d=\"M 176.8,135.0 L 183.1,146.2\" style=\"fill:none;fill-rule:evenodd;stroke:#0000FF;stroke-width:2.0px;stroke-linecap:butt;stroke-linejoin:miter;stroke-opacity:1\"/>\n",
       "<path class=\"bond-15 atom-8 atom-15\" d=\"M 183.1,146.2 L 189.4,157.4\" style=\"fill:none;fill-rule:evenodd;stroke:#000000;stroke-width:2.0px;stroke-linecap:butt;stroke-linejoin:miter;stroke-opacity:1\"/>\n",
       "<path class=\"bond-16 atom-8 atom-16\" d=\"M 159.5,135.0 L 152.8,146.5\" style=\"fill:none;fill-rule:evenodd;stroke:#0000FF;stroke-width:2.0px;stroke-linecap:butt;stroke-linejoin:miter;stroke-opacity:1\"/>\n",
       "<path class=\"bond-16 atom-8 atom-16\" d=\"M 152.8,146.5 L 146.1,157.9\" style=\"fill:none;fill-rule:evenodd;stroke:#000000;stroke-width:2.0px;stroke-linecap:butt;stroke-linejoin:miter;stroke-opacity:1\"/>\n",
       "<path class=\"bond-17 atom-9 atom-17\" d=\"M 115.5,89.2 L 137.6,51.0\" style=\"fill:none;fill-rule:evenodd;stroke:#000000;stroke-width:2.0px;stroke-linecap:butt;stroke-linejoin:miter;stroke-opacity:1\"/>\n",
       "<path class=\"bond-18 atom-9 atom-18\" d=\"M 115.5,89.2 L 93.5,51.0\" style=\"fill:none;fill-rule:evenodd;stroke:#000000;stroke-width:2.0px;stroke-linecap:butt;stroke-linejoin:miter;stroke-opacity:1\"/>\n",
       "<path class=\"bond-19 atom-9 atom-19\" d=\"M 115.5,89.2 L 74.5,112.9\" style=\"fill:none;fill-rule:evenodd;stroke:#000000;stroke-width:2.0px;stroke-linecap:butt;stroke-linejoin:miter;stroke-opacity:1\"/>\n",
       "<path class=\"atom-6\" d=\"M 214.9 98.2 Q 215.2 98.3, 216.4 98.8 Q 217.7 99.3, 219.0 99.7 Q 220.4 100.0, 221.7 100.0 Q 224.2 100.0, 225.6 98.8 Q 227.0 97.6, 227.0 95.5 Q 227.0 94.0, 226.3 93.1 Q 225.6 92.2, 224.5 91.8 Q 223.4 91.3, 221.5 90.7 Q 219.2 90.0, 217.8 89.4 Q 216.4 88.7, 215.4 87.3 Q 214.5 85.9, 214.5 83.5 Q 214.5 80.2, 216.7 78.2 Q 219.0 76.2, 223.4 76.2 Q 226.4 76.2, 229.9 77.6 L 229.0 80.5 Q 225.9 79.2, 223.5 79.2 Q 220.9 79.2, 219.5 80.2 Q 218.1 81.3, 218.2 83.1 Q 218.2 84.5, 218.9 85.3 Q 219.6 86.2, 220.7 86.7 Q 221.7 87.1, 223.5 87.7 Q 225.9 88.4, 227.3 89.2 Q 228.7 89.9, 229.7 91.4 Q 230.7 92.9, 230.7 95.5 Q 230.7 99.1, 228.3 101.0 Q 225.9 103.0, 221.8 103.0 Q 219.5 103.0, 217.7 102.4 Q 216.0 102.0, 213.9 101.1 L 214.9 98.2 \" fill=\"#CCCC00\"/>\n",
       "<path class=\"atom-7\" d=\"M 210.4 27.7 Q 210.4 21.4, 213.5 17.9 Q 216.6 14.4, 222.4 14.4 Q 228.2 14.4, 231.3 17.9 Q 234.4 21.4, 234.4 27.7 Q 234.4 34.0, 231.2 37.6 Q 228.1 41.2, 222.4 41.2 Q 216.6 41.2, 213.5 37.6 Q 210.4 34.1, 210.4 27.7 M 222.4 38.3 Q 226.4 38.3, 228.5 35.6 Q 230.7 32.9, 230.7 27.7 Q 230.7 22.5, 228.5 19.9 Q 226.4 17.3, 222.4 17.3 Q 218.4 17.3, 216.2 19.9 Q 214.1 22.5, 214.1 27.7 Q 214.1 32.9, 216.2 35.6 Q 218.4 38.3, 222.4 38.3 \" fill=\"#FF0000\"/>\n",
       "<path class=\"atom-8\" d=\"M 162.5 106.8 L 171.1 120.7 Q 171.9 122.1, 173.3 124.5 Q 174.7 127.0, 174.8 127.2 L 174.8 106.8 L 178.2 106.8 L 178.2 133.0 L 174.6 133.0 L 165.4 117.9 Q 164.4 116.1, 163.2 114.0 Q 162.1 112.0, 161.8 111.4 L 161.8 133.0 L 158.4 133.0 L 158.4 106.8 L 162.5 106.8 \" fill=\"#0000FF\"/>\n",
       "<path class=\"atom-8\" d=\"M 183.2 111.6 L 187.8 111.6 L 187.8 106.7 L 189.8 106.7 L 189.8 111.6 L 194.5 111.6 L 194.5 113.3 L 189.8 113.3 L 189.8 118.2 L 187.8 118.2 L 187.8 113.3 L 183.2 113.3 L 183.2 111.6 \" fill=\"#0000FF\"/>\n",
       "<path class=\"atom-10\" d=\"M 215.7 200.1 L 219.2 200.1 L 219.2 211.2 L 232.6 211.2 L 232.6 200.1 L 236.1 200.1 L 236.1 226.2 L 232.6 226.2 L 232.6 214.1 L 219.2 214.1 L 219.2 226.2 L 215.7 226.2 L 215.7 200.1 \" fill=\"#000000\"/>\n",
       "<path class=\"atom-11\" d=\"M 321.8 260.2 L 325.4 260.2 L 325.4 271.3 L 338.8 271.3 L 338.8 260.2 L 342.3 260.2 L 342.3 286.4 L 338.8 286.4 L 338.8 274.3 L 325.4 274.3 L 325.4 286.4 L 321.8 286.4 L 321.8 260.2 \" fill=\"#000000\"/>\n",
       "<path class=\"atom-12\" d=\"M 427.5 196.9 L 431.1 196.9 L 431.1 208.0 L 444.5 208.0 L 444.5 196.9 L 448.0 196.9 L 448.0 223.0 L 444.5 223.0 L 444.5 211.0 L 431.1 211.0 L 431.1 223.0 L 427.5 223.0 L 427.5 196.9 \" fill=\"#000000\"/>\n",
       "<path class=\"atom-13\" d=\"M 425.7 73.6 L 429.3 73.6 L 429.3 84.8 L 442.7 84.8 L 442.7 73.6 L 446.2 73.6 L 446.2 99.8 L 442.7 99.8 L 442.7 87.7 L 429.3 87.7 L 429.3 99.8 L 425.7 99.8 L 425.7 73.6 \" fill=\"#000000\"/>\n",
       "<path class=\"atom-14\" d=\"M 318.1 13.6 L 321.7 13.6 L 321.7 24.8 L 335.1 24.8 L 335.1 13.6 L 338.6 13.6 L 338.6 39.8 L 335.1 39.8 L 335.1 27.7 L 321.7 27.7 L 321.7 39.8 L 318.1 39.8 L 318.1 13.6 \" fill=\"#000000\"/>\n",
       "<path class=\"atom-15\" d=\"M 187.6 159.5 L 191.2 159.5 L 191.2 170.6 L 204.5 170.6 L 204.5 159.5 L 208.1 159.5 L 208.1 185.6 L 204.5 185.6 L 204.5 173.5 L 191.2 173.5 L 191.2 185.6 L 187.6 185.6 L 187.6 159.5 \" fill=\"#000000\"/>\n",
       "<path class=\"atom-16\" d=\"M 127.1 160.0 L 130.6 160.0 L 130.6 171.1 L 144.0 171.1 L 144.0 160.0 L 147.6 160.0 L 147.6 186.1 L 144.0 186.1 L 144.0 174.0 L 130.6 174.0 L 130.6 186.1 L 127.1 186.1 L 127.1 160.0 \" fill=\"#000000\"/>\n",
       "<path class=\"atom-17\" d=\"M 136.2 22.8 L 139.7 22.8 L 139.7 34.0 L 153.1 34.0 L 153.1 22.8 L 156.7 22.8 L 156.7 49.0 L 153.1 49.0 L 153.1 36.9 L 139.7 36.9 L 139.7 49.0 L 136.2 49.0 L 136.2 22.8 \" fill=\"#000000\"/>\n",
       "<path class=\"atom-18\" d=\"M 74.5 22.8 L 78.1 22.8 L 78.1 34.0 L 91.5 34.0 L 91.5 22.8 L 95.0 22.8 L 95.0 49.0 L 91.5 49.0 L 91.5 36.9 L 78.1 36.9 L 78.1 49.0 L 74.5 49.0 L 74.5 22.8 \" fill=\"#000000\"/>\n",
       "<path class=\"atom-19\" d=\"M 52.0 106.9 L 55.5 106.9 L 55.5 118.1 L 68.9 118.1 L 68.9 106.9 L 72.5 106.9 L 72.5 133.1 L 68.9 133.1 L 68.9 121.0 L 55.5 121.0 L 55.5 133.1 L 52.0 133.1 L 52.0 106.9 \" fill=\"#000000\"/>\n",
       "</svg>"
      ],
      "text/plain": [
       "<IPython.core.display.SVG object>"
      ]
     },
     "metadata": {},
     "output_type": "display_data"
    },
    {
     "name": "stdin",
     "output_type": "stream",
     "text": [
      " t149g [#8X1:1]~[#16X4:2]-[#7X4:3]-[#6X4:4] C=CS(=O)(=O)[NH2+]C\n"
     ]
    },
    {
     "name": "stdout",
     "output_type": "stream",
     "text": [
      "matched!\n"
     ]
    },
    {
     "data": {
      "image/svg+xml": [
       "<svg xmlns=\"http://www.w3.org/2000/svg\" xmlns:rdkit=\"http://www.rdkit.org/xml\" xmlns:xlink=\"http://www.w3.org/1999/xlink\" version=\"1.1\" baseProfile=\"full\" xml:space=\"preserve\" width=\"500px\" height=\"300px\" viewBox=\"0 0 500 300\">\n",
       "<!-- END OF HEADER -->\n",
       "<rect style=\"opacity:1.0;fill:#FFFFFF;stroke:none\" width=\"500.0\" height=\"300.0\" x=\"0.0\" y=\"0.0\"> </rect>\n",
       "<path class=\"bond-0 atom-0 atom-1\" d=\"M 347.9,64.9 L 348.0,136.8\" style=\"fill:none;fill-rule:evenodd;stroke:#000000;stroke-width:2.0px;stroke-linecap:butt;stroke-linejoin:miter;stroke-opacity:1\"/>\n",
       "<path class=\"bond-0 atom-0 atom-1\" d=\"M 337.1,71.2 L 337.3,130.6\" style=\"fill:none;fill-rule:evenodd;stroke:#000000;stroke-width:2.0px;stroke-linecap:butt;stroke-linejoin:miter;stroke-opacity:1\"/>\n",
       "<path class=\"bond-1 atom-1 atom-2\" d=\"M 348.0,136.8 L 322.7,151.5\" style=\"fill:none;fill-rule:evenodd;stroke:#000000;stroke-width:2.0px;stroke-linecap:butt;stroke-linejoin:miter;stroke-opacity:1\"/>\n",
       "<path class=\"bond-1 atom-1 atom-2\" d=\"M 322.7,151.5 L 297.4,166.2\" style=\"fill:none;fill-rule:evenodd;stroke:#CCCC00;stroke-width:2.0px;stroke-linecap:butt;stroke-linejoin:miter;stroke-opacity:1\"/>\n",
       "<path class=\"bond-2 atom-2 atom-3\" d=\"M 281.0,153.6 L 272.7,139.3\" style=\"fill:none;fill-rule:evenodd;stroke:#CCCC00;stroke-width:2.0px;stroke-linecap:butt;stroke-linejoin:miter;stroke-opacity:1\"/>\n",
       "<path class=\"bond-2 atom-2 atom-3\" d=\"M 272.7,139.3 L 264.5,125.1\" style=\"fill:none;fill-rule:evenodd;stroke:#FF0000;stroke-width:2.0px;stroke-linecap:butt;stroke-linejoin:miter;stroke-opacity:1\"/>\n",
       "<path class=\"bond-2 atom-2 atom-3\" d=\"M 271.7,159.0 L 263.4,144.7\" style=\"fill:none;fill-rule:evenodd;stroke:#CCCC00;stroke-width:2.0px;stroke-linecap:butt;stroke-linejoin:miter;stroke-opacity:1\"/>\n",
       "<path class=\"bond-2 atom-2 atom-3\" d=\"M 263.4,144.7 L 255.1,130.5\" style=\"fill:none;fill-rule:evenodd;stroke:#FF0000;stroke-width:2.0px;stroke-linecap:butt;stroke-linejoin:miter;stroke-opacity:1\"/>\n",
       "<path class=\"bond-3 atom-2 atom-4\" d=\"M 291.3,192.7 L 299.4,206.8\" style=\"fill:none;fill-rule:evenodd;stroke:#CCCC00;stroke-width:2.0px;stroke-linecap:butt;stroke-linejoin:miter;stroke-opacity:1\"/>\n",
       "<path class=\"bond-3 atom-2 atom-4\" d=\"M 299.4,206.8 L 307.6,220.9\" style=\"fill:none;fill-rule:evenodd;stroke:#FF0000;stroke-width:2.0px;stroke-linecap:butt;stroke-linejoin:miter;stroke-opacity:1\"/>\n",
       "<path class=\"bond-3 atom-2 atom-4\" d=\"M 300.6,187.3 L 308.8,201.4\" style=\"fill:none;fill-rule:evenodd;stroke:#CCCC00;stroke-width:2.0px;stroke-linecap:butt;stroke-linejoin:miter;stroke-opacity:1\"/>\n",
       "<path class=\"bond-3 atom-2 atom-4\" d=\"M 308.8,201.4 L 316.9,215.5\" style=\"fill:none;fill-rule:evenodd;stroke:#FF0000;stroke-width:2.0px;stroke-linecap:butt;stroke-linejoin:miter;stroke-opacity:1\"/>\n",
       "<path class=\"bond-4 atom-2 atom-5\" d=\"M 274.5,179.4 L 263.5,185.8\" style=\"fill:none;fill-rule:evenodd;stroke:#CCCC00;stroke-width:2.0px;stroke-linecap:butt;stroke-linejoin:miter;stroke-opacity:1\"/>\n",
       "<path class=\"bond-4 atom-2 atom-5\" d=\"M 263.5,185.8 L 252.5,192.2\" style=\"fill:none;fill-rule:evenodd;stroke:#0000FF;stroke-width:2.0px;stroke-linecap:butt;stroke-linejoin:miter;stroke-opacity:1\"/>\n",
       "<path class=\"bond-5 atom-5 atom-6\" d=\"M 210.7,201.3 L 186.1,187.2\" style=\"fill:none;fill-rule:evenodd;stroke:#0000FF;stroke-width:2.0px;stroke-linecap:butt;stroke-linejoin:miter;stroke-opacity:1\"/>\n",
       "<path class=\"bond-5 atom-5 atom-6\" d=\"M 186.1,187.2 L 161.5,173.0\" style=\"fill:none;fill-rule:evenodd;stroke:#000000;stroke-width:2.0px;stroke-linecap:butt;stroke-linejoin:miter;stroke-opacity:1\"/>\n",
       "<path class=\"bond-6 atom-0 atom-7\" d=\"M 347.9,64.9 L 299.1,36.9\" style=\"fill:none;fill-rule:evenodd;stroke:#000000;stroke-width:2.0px;stroke-linecap:butt;stroke-linejoin:miter;stroke-opacity:1\"/>\n",
       "<path class=\"bond-7 atom-0 atom-8\" d=\"M 347.9,64.9 L 396.6,36.7\" style=\"fill:none;fill-rule:evenodd;stroke:#000000;stroke-width:2.0px;stroke-linecap:butt;stroke-linejoin:miter;stroke-opacity:1\"/>\n",
       "<path class=\"bond-8 atom-1 atom-9\" d=\"M 348.0,136.8 L 396.9,164.8\" style=\"fill:none;fill-rule:evenodd;stroke:#000000;stroke-width:2.0px;stroke-linecap:butt;stroke-linejoin:miter;stroke-opacity:1\"/>\n",
       "<path class=\"bond-9 atom-5 atom-10\" d=\"M 233.4,225.4 L 241.8,239.9\" style=\"fill:none;fill-rule:evenodd;stroke:#0000FF;stroke-width:2.0px;stroke-linecap:butt;stroke-linejoin:miter;stroke-opacity:1\"/>\n",
       "<path class=\"bond-9 atom-5 atom-10\" d=\"M 241.8,239.9 L 250.2,254.4\" style=\"fill:none;fill-rule:evenodd;stroke:#000000;stroke-width:2.0px;stroke-linecap:butt;stroke-linejoin:miter;stroke-opacity:1\"/>\n",
       "<path class=\"bond-10 atom-5 atom-11\" d=\"M 214.3,225.4 L 205.9,240.0\" style=\"fill:none;fill-rule:evenodd;stroke:#0000FF;stroke-width:2.0px;stroke-linecap:butt;stroke-linejoin:miter;stroke-opacity:1\"/>\n",
       "<path class=\"bond-10 atom-5 atom-11\" d=\"M 205.9,240.0 L 197.5,254.6\" style=\"fill:none;fill-rule:evenodd;stroke:#000000;stroke-width:2.0px;stroke-linecap:butt;stroke-linejoin:miter;stroke-opacity:1\"/>\n",
       "<path class=\"bond-11 atom-6 atom-12\" d=\"M 161.5,173.0 L 135.2,218.8\" style=\"fill:none;fill-rule:evenodd;stroke:#000000;stroke-width:2.0px;stroke-linecap:butt;stroke-linejoin:miter;stroke-opacity:1\"/>\n",
       "<path class=\"bond-12 atom-6 atom-13\" d=\"M 161.5,173.0 L 103.1,173.2\" style=\"fill:none;fill-rule:evenodd;stroke:#000000;stroke-width:2.0px;stroke-linecap:butt;stroke-linejoin:miter;stroke-opacity:1\"/>\n",
       "<path class=\"bond-13 atom-6 atom-14\" d=\"M 161.5,173.0 L 161.4,117.8\" style=\"fill:none;fill-rule:evenodd;stroke:#000000;stroke-width:2.0px;stroke-linecap:butt;stroke-linejoin:miter;stroke-opacity:1\"/>\n",
       "<path class=\"atom-2\" d=\"M 277.9 182.5 Q 278.2 182.6, 279.6 183.2 Q 280.9 183.8, 282.3 184.1 Q 283.8 184.4, 285.2 184.4 Q 287.9 184.4, 289.5 183.2 Q 291.0 181.8, 291.0 179.6 Q 291.0 178.0, 290.2 177.0 Q 289.5 176.1, 288.3 175.6 Q 287.1 175.0, 285.1 174.4 Q 282.6 173.7, 281.0 173.0 Q 279.6 172.2, 278.5 170.7 Q 277.4 169.2, 277.4 166.6 Q 277.4 163.1, 279.8 160.9 Q 282.3 158.7, 287.1 158.7 Q 290.4 158.7, 294.1 160.2 L 293.2 163.3 Q 289.8 161.9, 287.2 161.9 Q 284.4 161.9, 282.9 163.1 Q 281.4 164.2, 281.4 166.2 Q 281.4 167.7, 282.2 168.6 Q 283.0 169.5, 284.1 170.0 Q 285.3 170.6, 287.2 171.2 Q 289.8 172.0, 291.3 172.8 Q 292.8 173.6, 293.9 175.2 Q 295.0 176.8, 295.0 179.6 Q 295.0 183.5, 292.4 185.6 Q 289.8 187.7, 285.4 187.7 Q 282.9 187.7, 281.0 187.1 Q 279.1 186.6, 276.8 185.7 L 277.9 182.5 \" fill=\"#CCCC00\"/>\n",
       "<path class=\"atom-3\" d=\"M 236.9 110.7 Q 236.9 103.9, 240.2 100.1 Q 243.6 96.3, 249.9 96.3 Q 256.2 96.3, 259.5 100.1 Q 262.9 103.9, 262.9 110.7 Q 262.9 117.6, 259.5 121.5 Q 256.1 125.4, 249.9 125.4 Q 243.6 125.4, 240.2 121.5 Q 236.9 117.7, 236.9 110.7 M 249.9 122.2 Q 254.2 122.2, 256.5 119.3 Q 258.9 116.4, 258.9 110.7 Q 258.9 105.2, 256.5 102.4 Q 254.2 99.5, 249.9 99.5 Q 245.6 99.5, 243.2 102.3 Q 240.9 105.1, 240.9 110.7 Q 240.9 116.5, 243.2 119.3 Q 245.6 122.2, 249.9 122.2 \" fill=\"#FF0000\"/>\n",
       "<path class=\"atom-4\" d=\"M 309.0 235.0 Q 309.0 228.2, 312.3 224.4 Q 315.7 220.6, 322.0 220.6 Q 328.2 220.6, 331.6 224.4 Q 335.0 228.2, 335.0 235.0 Q 335.0 241.9, 331.6 245.8 Q 328.2 249.7, 322.0 249.7 Q 315.7 249.7, 312.3 245.8 Q 309.0 241.9, 309.0 235.0 M 322.0 246.5 Q 326.3 246.5, 328.6 243.6 Q 331.0 240.7, 331.0 235.0 Q 331.0 229.4, 328.6 226.6 Q 326.3 223.8, 322.0 223.8 Q 317.6 223.8, 315.3 226.6 Q 313.0 229.4, 313.0 235.0 Q 313.0 240.7, 315.3 243.6 Q 317.6 246.5, 322.0 246.5 \" fill=\"#FF0000\"/>\n",
       "<path class=\"atom-5\" d=\"M 217.5 194.7 L 226.8 209.7 Q 227.7 211.2, 229.2 213.8 Q 230.7 216.5, 230.8 216.7 L 230.8 194.7 L 234.5 194.7 L 234.5 223.0 L 230.6 223.0 L 220.7 206.6 Q 219.5 204.7, 218.3 202.5 Q 217.1 200.3, 216.7 199.6 L 216.7 223.0 L 213.0 223.0 L 213.0 194.7 L 217.5 194.7 \" fill=\"#0000FF\"/>\n",
       "<path class=\"atom-5\" d=\"M 239.9 199.8 L 244.8 199.8 L 244.8 194.5 L 247.1 194.5 L 247.1 199.8 L 252.2 199.8 L 252.2 201.7 L 247.1 201.7 L 247.1 207.0 L 244.8 207.0 L 244.8 201.7 L 239.9 201.7 L 239.9 199.8 \" fill=\"#0000FF\"/>\n",
       "<path class=\"atom-7\" d=\"M 274.5 15.0 L 278.4 15.0 L 278.4 27.0 L 292.9 27.0 L 292.9 15.0 L 296.7 15.0 L 296.7 43.3 L 292.9 43.3 L 292.9 30.2 L 278.4 30.2 L 278.4 43.3 L 274.5 43.3 L 274.5 15.0 \" fill=\"#000000\"/>\n",
       "<path class=\"atom-8\" d=\"M 399.0 14.7 L 402.8 14.7 L 402.8 26.8 L 417.3 26.8 L 417.3 14.7 L 421.1 14.7 L 421.1 43.1 L 417.3 43.1 L 417.3 30.0 L 402.8 30.0 L 402.8 43.1 L 399.0 43.1 L 399.0 14.7 \" fill=\"#000000\"/>\n",
       "<path class=\"atom-9\" d=\"M 399.2 158.4 L 403.1 158.4 L 403.1 170.4 L 417.6 170.4 L 417.6 158.4 L 421.4 158.4 L 421.4 186.7 L 417.6 186.7 L 417.6 173.6 L 403.1 173.6 L 403.1 186.7 L 399.2 186.7 L 399.2 158.4 \" fill=\"#000000\"/>\n",
       "<path class=\"atom-10\" d=\"M 248.7 256.8 L 252.6 256.8 L 252.6 268.8 L 267.1 268.8 L 267.1 256.8 L 270.9 256.8 L 270.9 285.1 L 267.1 285.1 L 267.1 272.0 L 252.6 272.0 L 252.6 285.1 L 248.7 285.1 L 248.7 256.8 \" fill=\"#000000\"/>\n",
       "<path class=\"atom-11\" d=\"M 176.9 256.9 L 180.8 256.9 L 180.8 269.0 L 195.2 269.0 L 195.2 256.9 L 199.1 256.9 L 199.1 285.3 L 195.2 285.3 L 195.2 272.2 L 180.8 272.2 L 180.8 285.3 L 176.9 285.3 L 176.9 256.9 \" fill=\"#000000\"/>\n",
       "<path class=\"atom-12\" d=\"M 114.6 221.2 L 118.5 221.2 L 118.5 233.2 L 133.0 233.2 L 133.0 221.2 L 136.8 221.2 L 136.8 249.5 L 133.0 249.5 L 133.0 236.4 L 118.5 236.4 L 118.5 249.5 L 114.6 249.5 L 114.6 221.2 \" fill=\"#000000\"/>\n",
       "<path class=\"atom-13\" d=\"M 78.6 159.0 L 82.4 159.0 L 82.4 171.1 L 96.9 171.1 L 96.9 159.0 L 100.8 159.0 L 100.8 187.4 L 96.9 187.4 L 96.9 174.3 L 82.4 174.3 L 82.4 187.4 L 78.6 187.4 L 78.6 159.0 \" fill=\"#000000\"/>\n",
       "<path class=\"atom-14\" d=\"M 150.3 87.1 L 154.1 87.1 L 154.1 99.1 L 168.6 99.1 L 168.6 87.1 L 172.4 87.1 L 172.4 115.4 L 168.6 115.4 L 168.6 102.3 L 154.1 102.3 L 154.1 115.4 L 150.3 115.4 L 150.3 87.1 \" fill=\"#000000\"/>\n",
       "</svg>"
      ],
      "text/plain": [
       "<IPython.core.display.SVG object>"
      ]
     },
     "metadata": {},
     "output_type": "display_data"
    },
    {
     "name": "stdin",
     "output_type": "stream",
     "text": [
      " t148i [#8X1:1]~[#16X3+0:2]-[#7X4:3]-[#1:4] c1(ccccc1)S(=O)[NH2+]C\n"
     ]
    },
    {
     "name": "stdout",
     "output_type": "stream",
     "text": [
      "matched!\n"
     ]
    },
    {
     "data": {
      "image/svg+xml": [
       "<svg xmlns=\"http://www.w3.org/2000/svg\" xmlns:rdkit=\"http://www.rdkit.org/xml\" xmlns:xlink=\"http://www.w3.org/1999/xlink\" version=\"1.1\" baseProfile=\"full\" xml:space=\"preserve\" width=\"500px\" height=\"300px\" viewBox=\"0 0 500 300\">\n",
       "<!-- END OF HEADER -->\n",
       "<rect style=\"opacity:1.0;fill:#FFFFFF;stroke:none\" width=\"500.0\" height=\"300.0\" x=\"0.0\" y=\"0.0\"> </rect>\n",
       "<path class=\"bond-0 atom-0 atom-5\" d=\"M 276.5,120.1 L 329.3,88.2\" style=\"fill:none;fill-rule:evenodd;stroke:#000000;stroke-width:2.0px;stroke-linecap:butt;stroke-linejoin:miter;stroke-opacity:1\"/>\n",
       "<path class=\"bond-0 atom-0 atom-5\" d=\"M 285.8,125.2 L 329.5,98.9\" style=\"fill:none;fill-rule:evenodd;stroke:#000000;stroke-width:2.0px;stroke-linecap:butt;stroke-linejoin:miter;stroke-opacity:1\"/>\n",
       "<path class=\"bond-1 atom-0 atom-1\" d=\"M 276.5,120.1 L 277.3,181.8\" style=\"fill:none;fill-rule:evenodd;stroke:#000000;stroke-width:2.0px;stroke-linecap:butt;stroke-linejoin:miter;stroke-opacity:1\"/>\n",
       "<path class=\"bond-2 atom-1 atom-2\" d=\"M 277.3,181.8 L 331.1,211.6\" style=\"fill:none;fill-rule:evenodd;stroke:#000000;stroke-width:2.0px;stroke-linecap:butt;stroke-linejoin:miter;stroke-opacity:1\"/>\n",
       "<path class=\"bond-2 atom-1 atom-2\" d=\"M 286.5,176.3 L 330.9,201.0\" style=\"fill:none;fill-rule:evenodd;stroke:#000000;stroke-width:2.0px;stroke-linecap:butt;stroke-linejoin:miter;stroke-opacity:1\"/>\n",
       "<path class=\"bond-3 atom-2 atom-3\" d=\"M 331.1,211.6 L 384.0,180.0\" style=\"fill:none;fill-rule:evenodd;stroke:#000000;stroke-width:2.0px;stroke-linecap:butt;stroke-linejoin:miter;stroke-opacity:1\"/>\n",
       "<path class=\"bond-4 atom-3 atom-4\" d=\"M 384.0,180.0 L 383.0,118.3\" style=\"fill:none;fill-rule:evenodd;stroke:#000000;stroke-width:2.0px;stroke-linecap:butt;stroke-linejoin:miter;stroke-opacity:1\"/>\n",
       "<path class=\"bond-4 atom-3 atom-4\" d=\"M 374.7,174.8 L 373.9,123.8\" style=\"fill:none;fill-rule:evenodd;stroke:#000000;stroke-width:2.0px;stroke-linecap:butt;stroke-linejoin:miter;stroke-opacity:1\"/>\n",
       "<path class=\"bond-5 atom-4 atom-5\" d=\"M 383.0,118.3 L 329.3,88.2\" style=\"fill:none;fill-rule:evenodd;stroke:#000000;stroke-width:2.0px;stroke-linecap:butt;stroke-linejoin:miter;stroke-opacity:1\"/>\n",
       "<path class=\"bond-6 atom-0 atom-6\" d=\"M 276.5,120.1 L 254.6,107.6\" style=\"fill:none;fill-rule:evenodd;stroke:#000000;stroke-width:2.0px;stroke-linecap:butt;stroke-linejoin:miter;stroke-opacity:1\"/>\n",
       "<path class=\"bond-6 atom-0 atom-6\" d=\"M 254.6,107.6 L 232.7,95.1\" style=\"fill:none;fill-rule:evenodd;stroke:#CCCC00;stroke-width:2.0px;stroke-linecap:butt;stroke-linejoin:miter;stroke-opacity:1\"/>\n",
       "<path class=\"bond-7 atom-6 atom-7\" d=\"M 226.9,74.1 L 227.0,58.7\" style=\"fill:none;fill-rule:evenodd;stroke:#CCCC00;stroke-width:2.0px;stroke-linecap:butt;stroke-linejoin:miter;stroke-opacity:1\"/>\n",
       "<path class=\"bond-7 atom-6 atom-7\" d=\"M 227.0,58.7 L 227.0,43.3\" style=\"fill:none;fill-rule:evenodd;stroke:#FF0000;stroke-width:2.0px;stroke-linecap:butt;stroke-linejoin:miter;stroke-opacity:1\"/>\n",
       "<path class=\"bond-7 atom-6 atom-7\" d=\"M 217.7,74.1 L 217.7,58.7\" style=\"fill:none;fill-rule:evenodd;stroke:#CCCC00;stroke-width:2.0px;stroke-linecap:butt;stroke-linejoin:miter;stroke-opacity:1\"/>\n",
       "<path class=\"bond-7 atom-6 atom-7\" d=\"M 217.7,58.7 L 217.7,43.2\" style=\"fill:none;fill-rule:evenodd;stroke:#FF0000;stroke-width:2.0px;stroke-linecap:butt;stroke-linejoin:miter;stroke-opacity:1\"/>\n",
       "<path class=\"bond-8 atom-6 atom-8\" d=\"M 211.9,95.1 L 203.5,99.9\" style=\"fill:none;fill-rule:evenodd;stroke:#CCCC00;stroke-width:2.0px;stroke-linecap:butt;stroke-linejoin:miter;stroke-opacity:1\"/>\n",
       "<path class=\"bond-8 atom-6 atom-8\" d=\"M 203.5,99.9 L 195.1,104.7\" style=\"fill:none;fill-rule:evenodd;stroke:#0000FF;stroke-width:2.0px;stroke-linecap:butt;stroke-linejoin:miter;stroke-opacity:1\"/>\n",
       "<path class=\"bond-9 atom-8 atom-9\" d=\"M 156.3,113.0 L 135.9,101.1\" style=\"fill:none;fill-rule:evenodd;stroke:#0000FF;stroke-width:2.0px;stroke-linecap:butt;stroke-linejoin:miter;stroke-opacity:1\"/>\n",
       "<path class=\"bond-9 atom-8 atom-9\" d=\"M 135.9,101.1 L 115.5,89.2\" style=\"fill:none;fill-rule:evenodd;stroke:#000000;stroke-width:2.0px;stroke-linecap:butt;stroke-linejoin:miter;stroke-opacity:1\"/>\n",
       "<path class=\"bond-10 atom-1 atom-10\" d=\"M 277.3,181.8 L 238.2,205.7\" style=\"fill:none;fill-rule:evenodd;stroke:#000000;stroke-width:2.0px;stroke-linecap:butt;stroke-linejoin:miter;stroke-opacity:1\"/>\n",
       "<path class=\"bond-11 atom-2 atom-11\" d=\"M 331.1,211.6 L 331.8,258.2\" style=\"fill:none;fill-rule:evenodd;stroke:#000000;stroke-width:2.0px;stroke-linecap:butt;stroke-linejoin:miter;stroke-opacity:1\"/>\n",
       "<path class=\"bond-12 atom-3 atom-12\" d=\"M 384.0,180.0 L 425.5,203.1\" style=\"fill:none;fill-rule:evenodd;stroke:#000000;stroke-width:2.0px;stroke-linecap:butt;stroke-linejoin:miter;stroke-opacity:1\"/>\n",
       "<path class=\"bond-13 atom-4 atom-13\" d=\"M 383.0,118.3 L 423.7,94.1\" style=\"fill:none;fill-rule:evenodd;stroke:#000000;stroke-width:2.0px;stroke-linecap:butt;stroke-linejoin:miter;stroke-opacity:1\"/>\n",
       "<path class=\"bond-14 atom-5 atom-14\" d=\"M 329.3,88.2 L 328.6,41.8\" style=\"fill:none;fill-rule:evenodd;stroke:#000000;stroke-width:2.0px;stroke-linecap:butt;stroke-linejoin:miter;stroke-opacity:1\"/>\n",
       "<path class=\"bond-15 atom-8 atom-15\" d=\"M 176.8,135.0 L 183.1,146.2\" style=\"fill:none;fill-rule:evenodd;stroke:#0000FF;stroke-width:2.0px;stroke-linecap:butt;stroke-linejoin:miter;stroke-opacity:1\"/>\n",
       "<path class=\"bond-15 atom-8 atom-15\" d=\"M 183.1,146.2 L 189.4,157.4\" style=\"fill:none;fill-rule:evenodd;stroke:#000000;stroke-width:2.0px;stroke-linecap:butt;stroke-linejoin:miter;stroke-opacity:1\"/>\n",
       "<path class=\"bond-16 atom-8 atom-16\" d=\"M 159.5,135.0 L 152.8,146.5\" style=\"fill:none;fill-rule:evenodd;stroke:#0000FF;stroke-width:2.0px;stroke-linecap:butt;stroke-linejoin:miter;stroke-opacity:1\"/>\n",
       "<path class=\"bond-16 atom-8 atom-16\" d=\"M 152.8,146.5 L 146.1,157.9\" style=\"fill:none;fill-rule:evenodd;stroke:#000000;stroke-width:2.0px;stroke-linecap:butt;stroke-linejoin:miter;stroke-opacity:1\"/>\n",
       "<path class=\"bond-17 atom-9 atom-17\" d=\"M 115.5,89.2 L 137.6,51.0\" style=\"fill:none;fill-rule:evenodd;stroke:#000000;stroke-width:2.0px;stroke-linecap:butt;stroke-linejoin:miter;stroke-opacity:1\"/>\n",
       "<path class=\"bond-18 atom-9 atom-18\" d=\"M 115.5,89.2 L 93.5,51.0\" style=\"fill:none;fill-rule:evenodd;stroke:#000000;stroke-width:2.0px;stroke-linecap:butt;stroke-linejoin:miter;stroke-opacity:1\"/>\n",
       "<path class=\"bond-19 atom-9 atom-19\" d=\"M 115.5,89.2 L 74.5,112.9\" style=\"fill:none;fill-rule:evenodd;stroke:#000000;stroke-width:2.0px;stroke-linecap:butt;stroke-linejoin:miter;stroke-opacity:1\"/>\n",
       "<path class=\"atom-6\" d=\"M 214.9 98.2 Q 215.2 98.3, 216.4 98.8 Q 217.7 99.3, 219.0 99.7 Q 220.4 100.0, 221.7 100.0 Q 224.2 100.0, 225.6 98.8 Q 227.0 97.6, 227.0 95.5 Q 227.0 94.0, 226.3 93.1 Q 225.6 92.2, 224.5 91.8 Q 223.4 91.3, 221.5 90.7 Q 219.2 90.0, 217.8 89.4 Q 216.4 88.7, 215.4 87.3 Q 214.5 85.9, 214.5 83.5 Q 214.5 80.2, 216.7 78.2 Q 219.0 76.2, 223.4 76.2 Q 226.4 76.2, 229.9 77.6 L 229.0 80.5 Q 225.9 79.2, 223.5 79.2 Q 220.9 79.2, 219.5 80.2 Q 218.1 81.3, 218.2 83.1 Q 218.2 84.5, 218.9 85.3 Q 219.6 86.2, 220.7 86.7 Q 221.7 87.1, 223.5 87.7 Q 225.9 88.4, 227.3 89.2 Q 228.7 89.9, 229.7 91.4 Q 230.7 92.9, 230.7 95.5 Q 230.7 99.1, 228.3 101.0 Q 225.9 103.0, 221.8 103.0 Q 219.5 103.0, 217.7 102.4 Q 216.0 102.0, 213.9 101.1 L 214.9 98.2 \" fill=\"#CCCC00\"/>\n",
       "<path class=\"atom-7\" d=\"M 210.4 27.7 Q 210.4 21.4, 213.5 17.9 Q 216.6 14.4, 222.4 14.4 Q 228.2 14.4, 231.3 17.9 Q 234.4 21.4, 234.4 27.7 Q 234.4 34.0, 231.2 37.6 Q 228.1 41.2, 222.4 41.2 Q 216.6 41.2, 213.5 37.6 Q 210.4 34.1, 210.4 27.7 M 222.4 38.3 Q 226.4 38.3, 228.5 35.6 Q 230.7 32.9, 230.7 27.7 Q 230.7 22.5, 228.5 19.9 Q 226.4 17.3, 222.4 17.3 Q 218.4 17.3, 216.2 19.9 Q 214.1 22.5, 214.1 27.7 Q 214.1 32.9, 216.2 35.6 Q 218.4 38.3, 222.4 38.3 \" fill=\"#FF0000\"/>\n",
       "<path class=\"atom-8\" d=\"M 162.5 106.8 L 171.1 120.7 Q 171.9 122.1, 173.3 124.5 Q 174.7 127.0, 174.8 127.2 L 174.8 106.8 L 178.2 106.8 L 178.2 133.0 L 174.6 133.0 L 165.4 117.9 Q 164.4 116.1, 163.2 114.0 Q 162.1 112.0, 161.8 111.4 L 161.8 133.0 L 158.4 133.0 L 158.4 106.8 L 162.5 106.8 \" fill=\"#0000FF\"/>\n",
       "<path class=\"atom-8\" d=\"M 183.2 111.6 L 187.8 111.6 L 187.8 106.7 L 189.8 106.7 L 189.8 111.6 L 194.5 111.6 L 194.5 113.3 L 189.8 113.3 L 189.8 118.2 L 187.8 118.2 L 187.8 113.3 L 183.2 113.3 L 183.2 111.6 \" fill=\"#0000FF\"/>\n",
       "<path class=\"atom-10\" d=\"M 215.7 200.1 L 219.2 200.1 L 219.2 211.2 L 232.6 211.2 L 232.6 200.1 L 236.1 200.1 L 236.1 226.2 L 232.6 226.2 L 232.6 214.1 L 219.2 214.1 L 219.2 226.2 L 215.7 226.2 L 215.7 200.1 \" fill=\"#000000\"/>\n",
       "<path class=\"atom-11\" d=\"M 321.8 260.2 L 325.4 260.2 L 325.4 271.3 L 338.8 271.3 L 338.8 260.2 L 342.3 260.2 L 342.3 286.4 L 338.8 286.4 L 338.8 274.3 L 325.4 274.3 L 325.4 286.4 L 321.8 286.4 L 321.8 260.2 \" fill=\"#000000\"/>\n",
       "<path class=\"atom-12\" d=\"M 427.5 196.9 L 431.1 196.9 L 431.1 208.0 L 444.5 208.0 L 444.5 196.9 L 448.0 196.9 L 448.0 223.0 L 444.5 223.0 L 444.5 211.0 L 431.1 211.0 L 431.1 223.0 L 427.5 223.0 L 427.5 196.9 \" fill=\"#000000\"/>\n",
       "<path class=\"atom-13\" d=\"M 425.7 73.6 L 429.3 73.6 L 429.3 84.8 L 442.7 84.8 L 442.7 73.6 L 446.2 73.6 L 446.2 99.8 L 442.7 99.8 L 442.7 87.7 L 429.3 87.7 L 429.3 99.8 L 425.7 99.8 L 425.7 73.6 \" fill=\"#000000\"/>\n",
       "<path class=\"atom-14\" d=\"M 318.1 13.6 L 321.7 13.6 L 321.7 24.8 L 335.1 24.8 L 335.1 13.6 L 338.6 13.6 L 338.6 39.8 L 335.1 39.8 L 335.1 27.7 L 321.7 27.7 L 321.7 39.8 L 318.1 39.8 L 318.1 13.6 \" fill=\"#000000\"/>\n",
       "<path class=\"atom-15\" d=\"M 187.6 159.5 L 191.2 159.5 L 191.2 170.6 L 204.5 170.6 L 204.5 159.5 L 208.1 159.5 L 208.1 185.6 L 204.5 185.6 L 204.5 173.5 L 191.2 173.5 L 191.2 185.6 L 187.6 185.6 L 187.6 159.5 \" fill=\"#000000\"/>\n",
       "<path class=\"atom-16\" d=\"M 127.1 160.0 L 130.6 160.0 L 130.6 171.1 L 144.0 171.1 L 144.0 160.0 L 147.6 160.0 L 147.6 186.1 L 144.0 186.1 L 144.0 174.0 L 130.6 174.0 L 130.6 186.1 L 127.1 186.1 L 127.1 160.0 \" fill=\"#000000\"/>\n",
       "<path class=\"atom-17\" d=\"M 136.2 22.8 L 139.7 22.8 L 139.7 34.0 L 153.1 34.0 L 153.1 22.8 L 156.7 22.8 L 156.7 49.0 L 153.1 49.0 L 153.1 36.9 L 139.7 36.9 L 139.7 49.0 L 136.2 49.0 L 136.2 22.8 \" fill=\"#000000\"/>\n",
       "<path class=\"atom-18\" d=\"M 74.5 22.8 L 78.1 22.8 L 78.1 34.0 L 91.5 34.0 L 91.5 22.8 L 95.0 22.8 L 95.0 49.0 L 91.5 49.0 L 91.5 36.9 L 78.1 36.9 L 78.1 49.0 L 74.5 49.0 L 74.5 22.8 \" fill=\"#000000\"/>\n",
       "<path class=\"atom-19\" d=\"M 52.0 106.9 L 55.5 106.9 L 55.5 118.1 L 68.9 118.1 L 68.9 106.9 L 72.5 106.9 L 72.5 133.1 L 68.9 133.1 L 68.9 121.0 L 55.5 121.0 L 55.5 133.1 L 52.0 133.1 L 52.0 106.9 \" fill=\"#000000\"/>\n",
       "</svg>"
      ],
      "text/plain": [
       "<IPython.core.display.SVG object>"
      ]
     },
     "metadata": {},
     "output_type": "display_data"
    },
    {
     "name": "stdin",
     "output_type": "stream",
     "text": [
      " t149g [#8X1:1]~[#16X4:2]-[#7X4:3]-[#6X4:4] c1(ccccc1)S(=O)(=O)[NH2+]C\n"
     ]
    },
    {
     "name": "stdout",
     "output_type": "stream",
     "text": [
      "matched!\n"
     ]
    },
    {
     "data": {
      "image/svg+xml": [
       "<svg xmlns=\"http://www.w3.org/2000/svg\" xmlns:rdkit=\"http://www.rdkit.org/xml\" xmlns:xlink=\"http://www.w3.org/1999/xlink\" version=\"1.1\" baseProfile=\"full\" xml:space=\"preserve\" width=\"500px\" height=\"300px\" viewBox=\"0 0 500 300\">\n",
       "<!-- END OF HEADER -->\n",
       "<rect style=\"opacity:1.0;fill:#FFFFFF;stroke:none\" width=\"500.0\" height=\"300.0\" x=\"0.0\" y=\"0.0\"> </rect>\n",
       "<path class=\"bond-0 atom-0 atom-5\" d=\"M 249.9,142.6 L 284.7,122.6\" style=\"fill:none;fill-rule:evenodd;stroke:#000000;stroke-width:2.0px;stroke-linecap:butt;stroke-linejoin:miter;stroke-opacity:1\"/>\n",
       "<path class=\"bond-0 atom-0 atom-5\" d=\"M 249.9,135.6 L 278.7,119.1\" style=\"fill:none;fill-rule:evenodd;stroke:#000000;stroke-width:2.0px;stroke-linecap:butt;stroke-linejoin:miter;stroke-opacity:1\"/>\n",
       "<path class=\"bond-1 atom-0 atom-1\" d=\"M 249.9,142.6 L 215.2,122.5\" style=\"fill:none;fill-rule:evenodd;stroke:#000000;stroke-width:2.0px;stroke-linecap:butt;stroke-linejoin:miter;stroke-opacity:1\"/>\n",
       "<path class=\"bond-2 atom-1 atom-2\" d=\"M 215.2,122.5 L 215.3,82.3\" style=\"fill:none;fill-rule:evenodd;stroke:#000000;stroke-width:2.0px;stroke-linecap:butt;stroke-linejoin:miter;stroke-opacity:1\"/>\n",
       "<path class=\"bond-2 atom-1 atom-2\" d=\"M 221.2,119.0 L 221.3,85.8\" style=\"fill:none;fill-rule:evenodd;stroke:#000000;stroke-width:2.0px;stroke-linecap:butt;stroke-linejoin:miter;stroke-opacity:1\"/>\n",
       "<path class=\"bond-3 atom-2 atom-3\" d=\"M 215.3,82.3 L 250.1,62.3\" style=\"fill:none;fill-rule:evenodd;stroke:#000000;stroke-width:2.0px;stroke-linecap:butt;stroke-linejoin:miter;stroke-opacity:1\"/>\n",
       "<path class=\"bond-4 atom-3 atom-4\" d=\"M 250.1,62.3 L 284.8,82.5\" style=\"fill:none;fill-rule:evenodd;stroke:#000000;stroke-width:2.0px;stroke-linecap:butt;stroke-linejoin:miter;stroke-opacity:1\"/>\n",
       "<path class=\"bond-4 atom-3 atom-4\" d=\"M 250.1,69.3 L 278.8,85.9\" style=\"fill:none;fill-rule:evenodd;stroke:#000000;stroke-width:2.0px;stroke-linecap:butt;stroke-linejoin:miter;stroke-opacity:1\"/>\n",
       "<path class=\"bond-5 atom-4 atom-5\" d=\"M 284.8,82.5 L 284.7,122.6\" style=\"fill:none;fill-rule:evenodd;stroke:#000000;stroke-width:2.0px;stroke-linecap:butt;stroke-linejoin:miter;stroke-opacity:1\"/>\n",
       "<path class=\"bond-6 atom-0 atom-6\" d=\"M 249.9,142.6 L 249.9,157.8\" style=\"fill:none;fill-rule:evenodd;stroke:#000000;stroke-width:2.0px;stroke-linecap:butt;stroke-linejoin:miter;stroke-opacity:1\"/>\n",
       "<path class=\"bond-6 atom-0 atom-6\" d=\"M 249.9,157.8 L 249.9,172.9\" style=\"fill:none;fill-rule:evenodd;stroke:#CCCC00;stroke-width:2.0px;stroke-linecap:butt;stroke-linejoin:miter;stroke-opacity:1\"/>\n",
       "<path class=\"bond-7 atom-6 atom-7\" d=\"M 256.6,185.8 L 268.7,185.8\" style=\"fill:none;fill-rule:evenodd;stroke:#CCCC00;stroke-width:2.0px;stroke-linecap:butt;stroke-linejoin:miter;stroke-opacity:1\"/>\n",
       "<path class=\"bond-7 atom-6 atom-7\" d=\"M 268.7,185.8 L 280.8,185.8\" style=\"fill:none;fill-rule:evenodd;stroke:#FF0000;stroke-width:2.0px;stroke-linecap:butt;stroke-linejoin:miter;stroke-opacity:1\"/>\n",
       "<path class=\"bond-7 atom-6 atom-7\" d=\"M 256.6,179.7 L 268.7,179.8\" style=\"fill:none;fill-rule:evenodd;stroke:#CCCC00;stroke-width:2.0px;stroke-linecap:butt;stroke-linejoin:miter;stroke-opacity:1\"/>\n",
       "<path class=\"bond-7 atom-6 atom-7\" d=\"M 268.7,179.8 L 280.8,179.8\" style=\"fill:none;fill-rule:evenodd;stroke:#FF0000;stroke-width:2.0px;stroke-linecap:butt;stroke-linejoin:miter;stroke-opacity:1\"/>\n",
       "<path class=\"bond-8 atom-6 atom-8\" d=\"M 243.0,179.7 L 231.0,179.7\" style=\"fill:none;fill-rule:evenodd;stroke:#CCCC00;stroke-width:2.0px;stroke-linecap:butt;stroke-linejoin:miter;stroke-opacity:1\"/>\n",
       "<path class=\"bond-8 atom-6 atom-8\" d=\"M 231.0,179.7 L 218.9,179.7\" style=\"fill:none;fill-rule:evenodd;stroke:#FF0000;stroke-width:2.0px;stroke-linecap:butt;stroke-linejoin:miter;stroke-opacity:1\"/>\n",
       "<path class=\"bond-8 atom-6 atom-8\" d=\"M 243.0,185.7 L 230.9,185.7\" style=\"fill:none;fill-rule:evenodd;stroke:#CCCC00;stroke-width:2.0px;stroke-linecap:butt;stroke-linejoin:miter;stroke-opacity:1\"/>\n",
       "<path class=\"bond-8 atom-6 atom-8\" d=\"M 230.9,185.7 L 218.8,185.7\" style=\"fill:none;fill-rule:evenodd;stroke:#FF0000;stroke-width:2.0px;stroke-linecap:butt;stroke-linejoin:miter;stroke-opacity:1\"/>\n",
       "<path class=\"bond-9 atom-6 atom-9\" d=\"M 249.8,193.0 L 249.8,203.0\" style=\"fill:none;fill-rule:evenodd;stroke:#CCCC00;stroke-width:2.0px;stroke-linecap:butt;stroke-linejoin:miter;stroke-opacity:1\"/>\n",
       "<path class=\"bond-9 atom-6 atom-9\" d=\"M 249.8,203.0 L 249.8,213.0\" style=\"fill:none;fill-rule:evenodd;stroke:#0000FF;stroke-width:2.0px;stroke-linecap:butt;stroke-linejoin:miter;stroke-opacity:1\"/>\n",
       "<path class=\"bond-10 atom-9 atom-10\" d=\"M 257.5,227.4 L 271.0,235.2\" style=\"fill:none;fill-rule:evenodd;stroke:#0000FF;stroke-width:2.0px;stroke-linecap:butt;stroke-linejoin:miter;stroke-opacity:1\"/>\n",
       "<path class=\"bond-10 atom-9 atom-10\" d=\"M 271.0,235.2 L 284.5,243.0\" style=\"fill:none;fill-rule:evenodd;stroke:#000000;stroke-width:2.0px;stroke-linecap:butt;stroke-linejoin:miter;stroke-opacity:1\"/>\n",
       "<path class=\"bond-11 atom-1 atom-11\" d=\"M 215.2,122.5 L 188.4,137.9\" style=\"fill:none;fill-rule:evenodd;stroke:#000000;stroke-width:2.0px;stroke-linecap:butt;stroke-linejoin:miter;stroke-opacity:1\"/>\n",
       "<path class=\"bond-12 atom-2 atom-12\" d=\"M 215.3,82.3 L 188.5,66.8\" style=\"fill:none;fill-rule:evenodd;stroke:#000000;stroke-width:2.0px;stroke-linecap:butt;stroke-linejoin:miter;stroke-opacity:1\"/>\n",
       "<path class=\"bond-13 atom-3 atom-13\" d=\"M 250.1,62.3 L 250.1,32.0\" style=\"fill:none;fill-rule:evenodd;stroke:#000000;stroke-width:2.0px;stroke-linecap:butt;stroke-linejoin:miter;stroke-opacity:1\"/>\n",
       "<path class=\"bond-14 atom-4 atom-14\" d=\"M 284.8,82.5 L 311.6,67.0\" style=\"fill:none;fill-rule:evenodd;stroke:#000000;stroke-width:2.0px;stroke-linecap:butt;stroke-linejoin:miter;stroke-opacity:1\"/>\n",
       "<path class=\"bond-15 atom-5 atom-15\" d=\"M 284.7,122.6 L 311.5,138.1\" style=\"fill:none;fill-rule:evenodd;stroke:#000000;stroke-width:2.0px;stroke-linecap:butt;stroke-linejoin:miter;stroke-opacity:1\"/>\n",
       "<path class=\"bond-16 atom-9 atom-16\" d=\"M 242.0,222.9 L 229.8,222.9\" style=\"fill:none;fill-rule:evenodd;stroke:#0000FF;stroke-width:2.0px;stroke-linecap:butt;stroke-linejoin:miter;stroke-opacity:1\"/>\n",
       "<path class=\"bond-16 atom-9 atom-16\" d=\"M 229.8,222.9 L 217.6,222.8\" style=\"fill:none;fill-rule:evenodd;stroke:#000000;stroke-width:2.0px;stroke-linecap:butt;stroke-linejoin:miter;stroke-opacity:1\"/>\n",
       "<path class=\"bond-17 atom-9 atom-17\" d=\"M 244.0,232.7 L 239.7,240.3\" style=\"fill:none;fill-rule:evenodd;stroke:#0000FF;stroke-width:2.0px;stroke-linecap:butt;stroke-linejoin:miter;stroke-opacity:1\"/>\n",
       "<path class=\"bond-17 atom-9 atom-17\" d=\"M 239.7,240.3 L 235.3,247.8\" style=\"fill:none;fill-rule:evenodd;stroke:#000000;stroke-width:2.0px;stroke-linecap:butt;stroke-linejoin:miter;stroke-opacity:1\"/>\n",
       "<path class=\"bond-18 atom-10 atom-18\" d=\"M 284.5,243.0 L 270.1,267.9\" style=\"fill:none;fill-rule:evenodd;stroke:#000000;stroke-width:2.0px;stroke-linecap:butt;stroke-linejoin:miter;stroke-opacity:1\"/>\n",
       "<path class=\"bond-19 atom-10 atom-19\" d=\"M 284.5,243.0 L 298.8,268.0\" style=\"fill:none;fill-rule:evenodd;stroke:#000000;stroke-width:2.0px;stroke-linecap:butt;stroke-linejoin:miter;stroke-opacity:1\"/>\n",
       "<path class=\"bond-20 atom-10 atom-20\" d=\"M 284.5,243.0 L 311.3,227.6\" style=\"fill:none;fill-rule:evenodd;stroke:#000000;stroke-width:2.0px;stroke-linecap:butt;stroke-linejoin:miter;stroke-opacity:1\"/>\n",
       "<path class=\"atom-6\" d=\"M 245.0 188.6 Q 245.2 188.7, 246.0 189.0 Q 246.8 189.3, 247.7 189.6 Q 248.6 189.8, 249.4 189.8 Q 251.0 189.8, 252.0 189.0 Q 252.9 188.2, 252.9 186.8 Q 252.9 185.9, 252.4 185.3 Q 252.0 184.7, 251.3 184.4 Q 250.5 184.1, 249.3 183.7 Q 247.8 183.3, 246.9 182.8 Q 246.0 182.4, 245.4 181.5 Q 244.7 180.6, 244.7 179.0 Q 244.7 176.9, 246.2 175.6 Q 247.6 174.2, 250.5 174.2 Q 252.5 174.2, 254.7 175.2 L 254.2 177.0 Q 252.1 176.2, 250.6 176.2 Q 248.9 176.2, 248.0 176.9 Q 247.1 177.6, 247.1 178.7 Q 247.1 179.7, 247.6 180.2 Q 248.1 180.8, 248.8 181.1 Q 249.4 181.4, 250.6 181.8 Q 252.1 182.2, 253.1 182.7 Q 254.0 183.2, 254.6 184.2 Q 255.3 185.2, 255.3 186.8 Q 255.3 189.2, 253.7 190.5 Q 252.1 191.7, 249.5 191.7 Q 248.0 191.7, 246.8 191.4 Q 245.7 191.1, 244.4 190.5 L 245.0 188.6 \" fill=\"#CCCC00\"/>\n",
       "<path class=\"atom-7\" d=\"M 282.2 182.9 Q 282.2 178.8, 284.2 176.5 Q 286.2 174.2, 290.0 174.2 Q 293.8 174.2, 295.8 176.5 Q 297.8 178.8, 297.8 182.9 Q 297.8 187.0, 295.8 189.4 Q 293.7 191.7, 290.0 191.7 Q 286.2 191.7, 284.2 189.4 Q 282.2 187.0, 282.2 182.9 M 290.0 189.8 Q 292.6 189.8, 294.0 188.1 Q 295.4 186.3, 295.4 182.9 Q 295.4 179.5, 294.0 177.8 Q 292.6 176.1, 290.0 176.1 Q 287.4 176.1, 286.0 177.8 Q 284.6 179.5, 284.6 182.9 Q 284.6 186.3, 286.0 188.1 Q 287.4 189.8, 290.0 189.8 \" fill=\"#FF0000\"/>\n",
       "<path class=\"atom-8\" d=\"M 201.9 182.7 Q 201.9 178.6, 203.9 176.3 Q 205.9 174.0, 209.7 174.0 Q 213.5 174.0, 215.5 176.3 Q 217.5 178.6, 217.5 182.7 Q 217.5 186.9, 215.5 189.2 Q 213.4 191.6, 209.7 191.6 Q 205.9 191.6, 203.9 189.2 Q 201.9 186.9, 201.9 182.7 M 209.7 189.6 Q 212.3 189.6, 213.7 187.9 Q 215.1 186.1, 215.1 182.7 Q 215.1 179.4, 213.7 177.7 Q 212.3 176.0, 209.7 176.0 Q 207.1 176.0, 205.7 177.7 Q 204.3 179.3, 204.3 182.7 Q 204.3 186.2, 205.7 187.9 Q 207.1 189.6, 209.7 189.6 \" fill=\"#FF0000\"/>\n",
       "<path class=\"atom-9\" d=\"M 246.0 214.4 L 251.6 223.4 Q 252.1 224.3, 253.0 225.9 Q 253.9 227.5, 254.0 227.6 L 254.0 214.4 L 256.2 214.4 L 256.2 231.4 L 253.9 231.4 L 247.9 221.5 Q 247.2 220.4, 246.4 219.1 Q 245.7 217.7, 245.5 217.3 L 245.5 231.4 L 243.3 231.4 L 243.3 214.4 L 246.0 214.4 \" fill=\"#0000FF\"/>\n",
       "<path class=\"atom-9\" d=\"M 259.4 217.4 L 262.4 217.4 L 262.4 214.3 L 263.8 214.3 L 263.8 217.4 L 266.9 217.4 L 266.9 218.6 L 263.8 218.6 L 263.8 221.8 L 262.4 221.8 L 262.4 218.6 L 259.4 218.6 L 259.4 217.4 \" fill=\"#0000FF\"/>\n",
       "<path class=\"atom-11\" d=\"M 173.7 133.9 L 176.0 133.9 L 176.0 141.2 L 184.7 141.2 L 184.7 133.9 L 187.1 133.9 L 187.1 151.0 L 184.7 151.0 L 184.7 143.1 L 176.0 143.1 L 176.0 151.0 L 173.7 151.0 L 173.7 133.9 \" fill=\"#000000\"/>\n",
       "<path class=\"atom-12\" d=\"M 173.9 53.6 L 176.2 53.6 L 176.2 60.9 L 184.9 60.9 L 184.9 53.6 L 187.2 53.6 L 187.2 70.7 L 184.9 70.7 L 184.9 62.8 L 176.2 62.8 L 176.2 70.7 L 173.9 70.7 L 173.9 53.6 \" fill=\"#000000\"/>\n",
       "<path class=\"atom-13\" d=\"M 243.5 13.6 L 245.8 13.6 L 245.8 20.9 L 254.5 20.9 L 254.5 13.6 L 256.8 13.6 L 256.8 30.7 L 254.5 30.7 L 254.5 22.8 L 245.8 22.8 L 245.8 30.7 L 243.5 30.7 L 243.5 13.6 \" fill=\"#000000\"/>\n",
       "<path class=\"atom-14\" d=\"M 312.9 53.9 L 315.3 53.9 L 315.3 61.2 L 324.0 61.2 L 324.0 53.9 L 326.3 53.9 L 326.3 71.0 L 324.0 71.0 L 324.0 63.1 L 315.3 63.1 L 315.3 71.0 L 312.9 71.0 L 312.9 53.9 \" fill=\"#000000\"/>\n",
       "<path class=\"atom-15\" d=\"M 312.8 134.2 L 315.1 134.2 L 315.1 141.5 L 323.8 141.5 L 323.8 134.2 L 326.1 134.2 L 326.1 151.3 L 323.8 151.3 L 323.8 143.4 L 315.1 143.4 L 315.1 151.3 L 312.8 151.3 L 312.8 134.2 \" fill=\"#000000\"/>\n",
       "<path class=\"atom-16\" d=\"M 202.9 214.3 L 205.2 214.3 L 205.2 221.5 L 214.0 221.5 L 214.0 214.3 L 216.3 214.3 L 216.3 231.3 L 214.0 231.3 L 214.0 223.5 L 205.2 223.5 L 205.2 231.3 L 202.9 231.3 L 202.9 214.3 \" fill=\"#000000\"/>\n",
       "<path class=\"atom-17\" d=\"M 222.9 249.1 L 225.3 249.1 L 225.3 256.3 L 234.0 256.3 L 234.0 249.1 L 236.3 249.1 L 236.3 266.1 L 234.0 266.1 L 234.0 258.3 L 225.3 258.3 L 225.3 266.1 L 222.9 266.1 L 222.9 249.1 \" fill=\"#000000\"/>\n",
       "<path class=\"atom-18\" d=\"M 257.7 269.2 L 260.0 269.2 L 260.0 276.5 L 268.7 276.5 L 268.7 269.2 L 271.0 269.2 L 271.0 286.3 L 268.7 286.3 L 268.7 278.4 L 260.0 278.4 L 260.0 286.3 L 257.7 286.3 L 257.7 269.2 \" fill=\"#000000\"/>\n",
       "<path class=\"atom-19\" d=\"M 297.8 269.3 L 300.1 269.3 L 300.1 276.6 L 308.8 276.6 L 308.8 269.3 L 311.2 269.3 L 311.2 286.4 L 308.8 286.4 L 308.8 278.5 L 300.1 278.5 L 300.1 286.4 L 297.8 286.4 L 297.8 269.3 \" fill=\"#000000\"/>\n",
       "<path class=\"atom-20\" d=\"M 312.6 214.5 L 314.9 214.5 L 314.9 221.8 L 323.6 221.8 L 323.6 214.5 L 326.0 214.5 L 326.0 231.6 L 323.6 231.6 L 323.6 223.7 L 314.9 223.7 L 314.9 231.6 L 312.6 231.6 L 312.6 214.5 \" fill=\"#000000\"/>\n",
       "</svg>"
      ],
      "text/plain": [
       "<IPython.core.display.SVG object>"
      ]
     },
     "metadata": {},
     "output_type": "display_data"
    },
    {
     "name": "stdin",
     "output_type": "stream",
     "text": [
      " t153h [#8X1:1]~[#16X3+0:2]-[#7X3:3]-[#7X2:4] C=CS(=O)NN=C\n"
     ]
    },
    {
     "name": "stdout",
     "output_type": "stream",
     "text": [
      "matched!\n"
     ]
    },
    {
     "data": {
      "image/svg+xml": [
       "<svg xmlns=\"http://www.w3.org/2000/svg\" xmlns:rdkit=\"http://www.rdkit.org/xml\" xmlns:xlink=\"http://www.w3.org/1999/xlink\" version=\"1.1\" baseProfile=\"full\" xml:space=\"preserve\" width=\"500px\" height=\"300px\" viewBox=\"0 0 500 300\">\n",
       "<!-- END OF HEADER -->\n",
       "<rect style=\"opacity:1.0;fill:#FFFFFF;stroke:none\" width=\"500.0\" height=\"300.0\" x=\"0.0\" y=\"0.0\"> </rect>\n",
       "<path class=\"bond-0 atom-0 atom-1\" d=\"M 178.3,108.3 L 226.2,80.7\" style=\"fill:none;fill-rule:evenodd;stroke:#000000;stroke-width:2.0px;stroke-linecap:butt;stroke-linejoin:miter;stroke-opacity:1\"/>\n",
       "<path class=\"bond-0 atom-0 atom-1\" d=\"M 186.6,113.1 L 226.2,90.3\" style=\"fill:none;fill-rule:evenodd;stroke:#000000;stroke-width:2.0px;stroke-linecap:butt;stroke-linejoin:miter;stroke-opacity:1\"/>\n",
       "<path class=\"bond-1 atom-1 atom-2\" d=\"M 226.2,80.7 L 245.5,91.9\" style=\"fill:none;fill-rule:evenodd;stroke:#000000;stroke-width:2.0px;stroke-linecap:butt;stroke-linejoin:miter;stroke-opacity:1\"/>\n",
       "<path class=\"bond-1 atom-1 atom-2\" d=\"M 245.5,91.9 L 264.7,103.0\" style=\"fill:none;fill-rule:evenodd;stroke:#CCCC00;stroke-width:2.0px;stroke-linecap:butt;stroke-linejoin:miter;stroke-opacity:1\"/>\n",
       "<path class=\"bond-2 atom-2 atom-3\" d=\"M 285.5,106.7 L 298.5,99.2\" style=\"fill:none;fill-rule:evenodd;stroke:#CCCC00;stroke-width:2.0px;stroke-linecap:butt;stroke-linejoin:miter;stroke-opacity:1\"/>\n",
       "<path class=\"bond-2 atom-2 atom-3\" d=\"M 298.5,99.2 L 311.5,91.7\" style=\"fill:none;fill-rule:evenodd;stroke:#FF0000;stroke-width:2.0px;stroke-linecap:butt;stroke-linejoin:miter;stroke-opacity:1\"/>\n",
       "<path class=\"bond-2 atom-2 atom-3\" d=\"M 281.4,99.5 L 294.4,92.0\" style=\"fill:none;fill-rule:evenodd;stroke:#CCCC00;stroke-width:2.0px;stroke-linecap:butt;stroke-linejoin:miter;stroke-opacity:1\"/>\n",
       "<path class=\"bond-2 atom-2 atom-3\" d=\"M 294.4,92.0 L 307.4,84.5\" style=\"fill:none;fill-rule:evenodd;stroke:#FF0000;stroke-width:2.0px;stroke-linecap:butt;stroke-linejoin:miter;stroke-opacity:1\"/>\n",
       "<path class=\"bond-3 atom-2 atom-4\" d=\"M 274.1,122.6 L 274.0,136.4\" style=\"fill:none;fill-rule:evenodd;stroke:#CCCC00;stroke-width:2.0px;stroke-linecap:butt;stroke-linejoin:miter;stroke-opacity:1\"/>\n",
       "<path class=\"bond-3 atom-2 atom-4\" d=\"M 274.0,136.4 L 274.0,150.2\" style=\"fill:none;fill-rule:evenodd;stroke:#0000FF;stroke-width:2.0px;stroke-linecap:butt;stroke-linejoin:miter;stroke-opacity:1\"/>\n",
       "<path class=\"bond-4 atom-4 atom-5\" d=\"M 284.7,170.0 L 311.1,185.3\" style=\"fill:none;fill-rule:evenodd;stroke:#0000FF;stroke-width:2.0px;stroke-linecap:butt;stroke-linejoin:miter;stroke-opacity:1\"/>\n",
       "<path class=\"bond-5 atom-5 atom-6\" d=\"M 321.8,205.1 L 321.8,226.0\" style=\"fill:none;fill-rule:evenodd;stroke:#0000FF;stroke-width:2.0px;stroke-linecap:butt;stroke-linejoin:miter;stroke-opacity:1\"/>\n",
       "<path class=\"bond-5 atom-5 atom-6\" d=\"M 321.8,226.0 L 321.7,246.9\" style=\"fill:none;fill-rule:evenodd;stroke:#000000;stroke-width:2.0px;stroke-linecap:butt;stroke-linejoin:miter;stroke-opacity:1\"/>\n",
       "<path class=\"bond-5 atom-5 atom-6\" d=\"M 313.5,205.1 L 313.5,223.6\" style=\"fill:none;fill-rule:evenodd;stroke:#0000FF;stroke-width:2.0px;stroke-linecap:butt;stroke-linejoin:miter;stroke-opacity:1\"/>\n",
       "<path class=\"bond-5 atom-5 atom-6\" d=\"M 313.5,223.6 L 313.4,242.1\" style=\"fill:none;fill-rule:evenodd;stroke:#000000;stroke-width:2.0px;stroke-linecap:butt;stroke-linejoin:miter;stroke-opacity:1\"/>\n",
       "<path class=\"bond-6 atom-0 atom-7\" d=\"M 178.3,108.3 L 178.2,150.0\" style=\"fill:none;fill-rule:evenodd;stroke:#000000;stroke-width:2.0px;stroke-linecap:butt;stroke-linejoin:miter;stroke-opacity:1\"/>\n",
       "<path class=\"bond-7 atom-0 atom-8\" d=\"M 178.3,108.3 L 141.4,86.9\" style=\"fill:none;fill-rule:evenodd;stroke:#000000;stroke-width:2.0px;stroke-linecap:butt;stroke-linejoin:miter;stroke-opacity:1\"/>\n",
       "<path class=\"bond-8 atom-1 atom-9\" d=\"M 226.2,80.7 L 226.3,39.0\" style=\"fill:none;fill-rule:evenodd;stroke:#000000;stroke-width:2.0px;stroke-linecap:butt;stroke-linejoin:miter;stroke-opacity:1\"/>\n",
       "<path class=\"bond-9 atom-4 atom-10\" d=\"M 263.2,170.0 L 250.1,177.5\" style=\"fill:none;fill-rule:evenodd;stroke:#0000FF;stroke-width:2.0px;stroke-linecap:butt;stroke-linejoin:miter;stroke-opacity:1\"/>\n",
       "<path class=\"bond-9 atom-4 atom-10\" d=\"M 250.1,177.5 L 237.0,185.0\" style=\"fill:none;fill-rule:evenodd;stroke:#000000;stroke-width:2.0px;stroke-linecap:butt;stroke-linejoin:miter;stroke-opacity:1\"/>\n",
       "<path class=\"bond-10 atom-6 atom-11\" d=\"M 321.7,246.9 L 284.8,268.1\" style=\"fill:none;fill-rule:evenodd;stroke:#000000;stroke-width:2.0px;stroke-linecap:butt;stroke-linejoin:miter;stroke-opacity:1\"/>\n",
       "<path class=\"bond-11 atom-6 atom-12\" d=\"M 321.7,246.9 L 358.6,268.2\" style=\"fill:none;fill-rule:evenodd;stroke:#000000;stroke-width:2.0px;stroke-linecap:butt;stroke-linejoin:miter;stroke-opacity:1\"/>\n",
       "<path class=\"atom-2\" d=\"M 267.5 116.5 Q 267.7 116.6, 268.8 117.1 Q 269.9 117.6, 271.1 117.9 Q 272.3 118.1, 273.5 118.1 Q 275.8 118.1, 277.0 117.1 Q 278.3 116.0, 278.3 114.1 Q 278.3 112.8, 277.7 112.0 Q 277.0 111.2, 276.1 110.7 Q 275.1 110.3, 273.4 109.8 Q 271.3 109.2, 270.0 108.6 Q 268.8 108.0, 267.9 106.7 Q 267.1 105.5, 267.1 103.3 Q 267.1 100.4, 269.0 98.6 Q 271.1 96.7, 275.1 96.7 Q 277.8 96.7, 280.9 98.0 L 280.1 100.6 Q 277.3 99.4, 275.2 99.4 Q 272.9 99.4, 271.6 100.4 Q 270.3 101.3, 270.4 102.9 Q 270.4 104.2, 271.0 105.0 Q 271.7 105.7, 272.6 106.2 Q 273.6 106.6, 275.2 107.1 Q 277.3 107.8, 278.5 108.4 Q 279.8 109.1, 280.7 110.5 Q 281.6 111.8, 281.6 114.1 Q 281.6 117.3, 279.4 119.1 Q 277.3 120.8, 273.7 120.8 Q 271.6 120.8, 270.0 120.3 Q 268.4 119.9, 266.6 119.1 L 267.5 116.5 \" fill=\"#CCCC00\"/>\n",
       "<path class=\"atom-3\" d=\"M 311.3 81.0 Q 311.3 75.3, 314.1 72.2 Q 316.8 69.0, 322.1 69.0 Q 327.3 69.0, 330.1 72.2 Q 332.8 75.3, 332.8 81.0 Q 332.8 86.7, 330.0 89.9 Q 327.2 93.1, 322.1 93.1 Q 316.9 93.1, 314.1 89.9 Q 311.3 86.7, 311.3 81.0 M 322.1 90.5 Q 325.6 90.5, 327.6 88.1 Q 329.5 85.7, 329.5 81.0 Q 329.5 76.3, 327.6 74.0 Q 325.6 71.7, 322.1 71.7 Q 318.5 71.7, 316.5 74.0 Q 314.6 76.3, 314.6 81.0 Q 314.6 85.7, 316.5 88.1 Q 318.5 90.5, 322.1 90.5 \" fill=\"#FF0000\"/>\n",
       "<path class=\"atom-4\" d=\"M 268.8 152.0 L 276.5 164.5 Q 277.3 165.7, 278.5 167.9 Q 279.7 170.2, 279.8 170.3 L 279.8 152.0 L 282.9 152.0 L 282.9 175.5 L 279.7 175.5 L 271.4 161.9 Q 270.4 160.3, 269.4 158.5 Q 268.4 156.7, 268.1 156.1 L 268.1 175.5 L 265.1 175.5 L 265.1 152.0 L 268.8 152.0 \" fill=\"#0000FF\"/>\n",
       "<path class=\"atom-5\" d=\"M 316.6 179.8 L 324.3 192.2 Q 325.1 193.5, 326.3 195.7 Q 327.6 197.9, 327.6 198.0 L 327.6 179.8 L 330.7 179.8 L 330.7 203.3 L 327.5 203.3 L 319.3 189.7 Q 318.3 188.1, 317.3 186.3 Q 316.3 184.4, 316.0 183.9 L 316.0 203.3 L 312.9 203.3 L 312.9 179.8 L 316.6 179.8 \" fill=\"#0000FF\"/>\n",
       "<path class=\"atom-7\" d=\"M 169.0 151.8 L 172.2 151.8 L 172.2 161.8 L 184.2 161.8 L 184.2 151.8 L 187.4 151.8 L 187.4 175.3 L 184.2 175.3 L 184.2 164.5 L 172.2 164.5 L 172.2 175.3 L 169.0 175.3 L 169.0 151.8 \" fill=\"#000000\"/>\n",
       "<path class=\"atom-8\" d=\"M 121.2 68.8 L 124.4 68.8 L 124.4 78.8 L 136.4 78.8 L 136.4 68.8 L 139.6 68.8 L 139.6 92.3 L 136.4 92.3 L 136.4 81.4 L 124.4 81.4 L 124.4 92.3 L 121.2 92.3 L 121.2 68.8 \" fill=\"#000000\"/>\n",
       "<path class=\"atom-9\" d=\"M 217.2 13.6 L 220.3 13.6 L 220.3 23.6 L 232.4 23.6 L 232.4 13.6 L 235.5 13.6 L 235.5 37.1 L 232.4 37.1 L 232.4 26.3 L 220.3 26.3 L 220.3 37.1 L 217.2 37.1 L 217.2 13.6 \" fill=\"#000000\"/>\n",
       "<path class=\"atom-10\" d=\"M 216.8 179.6 L 220.0 179.6 L 220.0 189.6 L 232.0 189.6 L 232.0 179.6 L 235.2 179.6 L 235.2 203.1 L 232.0 203.1 L 232.0 192.2 L 220.0 192.2 L 220.0 203.1 L 216.8 203.1 L 216.8 179.6 \" fill=\"#000000\"/>\n",
       "<path class=\"atom-11\" d=\"M 264.6 262.7 L 267.8 262.7 L 267.8 272.7 L 279.8 272.7 L 279.8 262.7 L 283.0 262.7 L 283.0 286.2 L 279.8 286.2 L 279.8 275.3 L 267.8 275.3 L 267.8 286.2 L 264.6 286.2 L 264.6 262.7 \" fill=\"#000000\"/>\n",
       "<path class=\"atom-12\" d=\"M 360.4 262.9 L 363.6 262.9 L 363.6 272.9 L 375.6 272.9 L 375.6 262.9 L 378.8 262.9 L 378.8 286.4 L 375.6 286.4 L 375.6 275.5 L 363.6 275.5 L 363.6 286.4 L 360.4 286.4 L 360.4 262.9 \" fill=\"#000000\"/>\n",
       "</svg>"
      ],
      "text/plain": [
       "<IPython.core.display.SVG object>"
      ]
     },
     "metadata": {},
     "output_type": "display_data"
    },
    {
     "name": "stdin",
     "output_type": "stream",
     "text": [
      " t153h [#8X1:1]~[#16X3+0:2]-[#7X3:3]-[#7X2:4] c1(ccccc1)S(=O)NN=C\n"
     ]
    },
    {
     "name": "stdout",
     "output_type": "stream",
     "text": [
      "matched!\n"
     ]
    },
    {
     "data": {
      "image/svg+xml": [
       "<svg xmlns=\"http://www.w3.org/2000/svg\" xmlns:rdkit=\"http://www.rdkit.org/xml\" xmlns:xlink=\"http://www.w3.org/1999/xlink\" version=\"1.1\" baseProfile=\"full\" xml:space=\"preserve\" width=\"500px\" height=\"300px\" viewBox=\"0 0 500 300\">\n",
       "<!-- END OF HEADER -->\n",
       "<rect style=\"opacity:1.0;fill:#FFFFFF;stroke:none\" width=\"500.0\" height=\"300.0\" x=\"0.0\" y=\"0.0\"> </rect>\n",
       "<path class=\"bond-0 atom-0 atom-5\" d=\"M 303.2,119.3 L 356.5,88.7\" style=\"fill:none;fill-rule:evenodd;stroke:#000000;stroke-width:2.0px;stroke-linecap:butt;stroke-linejoin:miter;stroke-opacity:1\"/>\n",
       "<path class=\"bond-0 atom-0 atom-5\" d=\"M 312.4,124.7 L 356.5,99.4\" style=\"fill:none;fill-rule:evenodd;stroke:#000000;stroke-width:2.0px;stroke-linecap:butt;stroke-linejoin:miter;stroke-opacity:1\"/>\n",
       "<path class=\"bond-1 atom-0 atom-1\" d=\"M 303.2,119.3 L 302.9,180.8\" style=\"fill:none;fill-rule:evenodd;stroke:#000000;stroke-width:2.0px;stroke-linecap:butt;stroke-linejoin:miter;stroke-opacity:1\"/>\n",
       "<path class=\"bond-2 atom-1 atom-2\" d=\"M 302.9,180.8 L 356.1,211.8\" style=\"fill:none;fill-rule:evenodd;stroke:#000000;stroke-width:2.0px;stroke-linecap:butt;stroke-linejoin:miter;stroke-opacity:1\"/>\n",
       "<path class=\"bond-2 atom-1 atom-2\" d=\"M 312.2,175.5 L 356.1,201.1\" style=\"fill:none;fill-rule:evenodd;stroke:#000000;stroke-width:2.0px;stroke-linecap:butt;stroke-linejoin:miter;stroke-opacity:1\"/>\n",
       "<path class=\"bond-3 atom-2 atom-3\" d=\"M 356.1,211.8 L 409.5,181.2\" style=\"fill:none;fill-rule:evenodd;stroke:#000000;stroke-width:2.0px;stroke-linecap:butt;stroke-linejoin:miter;stroke-opacity:1\"/>\n",
       "<path class=\"bond-4 atom-3 atom-4\" d=\"M 409.5,181.2 L 409.7,119.7\" style=\"fill:none;fill-rule:evenodd;stroke:#000000;stroke-width:2.0px;stroke-linecap:butt;stroke-linejoin:miter;stroke-opacity:1\"/>\n",
       "<path class=\"bond-4 atom-3 atom-4\" d=\"M 400.3,175.9 L 400.5,125.0\" style=\"fill:none;fill-rule:evenodd;stroke:#000000;stroke-width:2.0px;stroke-linecap:butt;stroke-linejoin:miter;stroke-opacity:1\"/>\n",
       "<path class=\"bond-5 atom-4 atom-5\" d=\"M 409.7,119.7 L 356.5,88.7\" style=\"fill:none;fill-rule:evenodd;stroke:#000000;stroke-width:2.0px;stroke-linecap:butt;stroke-linejoin:miter;stroke-opacity:1\"/>\n",
       "<path class=\"bond-6 atom-0 atom-6\" d=\"M 303.2,119.3 L 281.8,106.9\" style=\"fill:none;fill-rule:evenodd;stroke:#000000;stroke-width:2.0px;stroke-linecap:butt;stroke-linejoin:miter;stroke-opacity:1\"/>\n",
       "<path class=\"bond-6 atom-0 atom-6\" d=\"M 281.8,106.9 L 260.4,94.4\" style=\"fill:none;fill-rule:evenodd;stroke:#CCCC00;stroke-width:2.0px;stroke-linecap:butt;stroke-linejoin:miter;stroke-opacity:1\"/>\n",
       "<path class=\"bond-7 atom-6 atom-7\" d=\"M 254.7,73.3 L 254.7,57.9\" style=\"fill:none;fill-rule:evenodd;stroke:#CCCC00;stroke-width:2.0px;stroke-linecap:butt;stroke-linejoin:miter;stroke-opacity:1\"/>\n",
       "<path class=\"bond-7 atom-6 atom-7\" d=\"M 254.7,57.9 L 254.8,42.5\" style=\"fill:none;fill-rule:evenodd;stroke:#FF0000;stroke-width:2.0px;stroke-linecap:butt;stroke-linejoin:miter;stroke-opacity:1\"/>\n",
       "<path class=\"bond-7 atom-6 atom-7\" d=\"M 245.4,73.3 L 245.5,57.9\" style=\"fill:none;fill-rule:evenodd;stroke:#CCCC00;stroke-width:2.0px;stroke-linecap:butt;stroke-linejoin:miter;stroke-opacity:1\"/>\n",
       "<path class=\"bond-7 atom-6 atom-7\" d=\"M 245.5,57.9 L 245.5,42.5\" style=\"fill:none;fill-rule:evenodd;stroke:#FF0000;stroke-width:2.0px;stroke-linecap:butt;stroke-linejoin:miter;stroke-opacity:1\"/>\n",
       "<path class=\"bond-8 atom-6 atom-8\" d=\"M 239.6,94.3 L 224.1,103.2\" style=\"fill:none;fill-rule:evenodd;stroke:#CCCC00;stroke-width:2.0px;stroke-linecap:butt;stroke-linejoin:miter;stroke-opacity:1\"/>\n",
       "<path class=\"bond-8 atom-6 atom-8\" d=\"M 224.1,103.2 L 208.5,112.1\" style=\"fill:none;fill-rule:evenodd;stroke:#0000FF;stroke-width:2.0px;stroke-linecap:butt;stroke-linejoin:miter;stroke-opacity:1\"/>\n",
       "<path class=\"bond-9 atom-8 atom-9\" d=\"M 184.7,112.0 L 155.4,94.9\" style=\"fill:none;fill-rule:evenodd;stroke:#0000FF;stroke-width:2.0px;stroke-linecap:butt;stroke-linejoin:miter;stroke-opacity:1\"/>\n",
       "<path class=\"bond-10 atom-9 atom-10\" d=\"M 131.5,94.8 L 110.8,106.7\" style=\"fill:none;fill-rule:evenodd;stroke:#0000FF;stroke-width:2.0px;stroke-linecap:butt;stroke-linejoin:miter;stroke-opacity:1\"/>\n",
       "<path class=\"bond-10 atom-9 atom-10\" d=\"M 110.8,106.7 L 90.1,118.6\" style=\"fill:none;fill-rule:evenodd;stroke:#000000;stroke-width:2.0px;stroke-linecap:butt;stroke-linejoin:miter;stroke-opacity:1\"/>\n",
       "<path class=\"bond-10 atom-9 atom-10\" d=\"M 136.1,102.8 L 117.7,113.4\" style=\"fill:none;fill-rule:evenodd;stroke:#0000FF;stroke-width:2.0px;stroke-linecap:butt;stroke-linejoin:miter;stroke-opacity:1\"/>\n",
       "<path class=\"bond-10 atom-9 atom-10\" d=\"M 117.7,113.4 L 99.3,123.9\" style=\"fill:none;fill-rule:evenodd;stroke:#000000;stroke-width:2.0px;stroke-linecap:butt;stroke-linejoin:miter;stroke-opacity:1\"/>\n",
       "<path class=\"bond-11 atom-1 atom-11\" d=\"M 302.9,180.8 L 261.8,204.4\" style=\"fill:none;fill-rule:evenodd;stroke:#000000;stroke-width:2.0px;stroke-linecap:butt;stroke-linejoin:miter;stroke-opacity:1\"/>\n",
       "<path class=\"bond-12 atom-2 atom-12\" d=\"M 356.1,211.8 L 355.9,258.2\" style=\"fill:none;fill-rule:evenodd;stroke:#000000;stroke-width:2.0px;stroke-linecap:butt;stroke-linejoin:miter;stroke-opacity:1\"/>\n",
       "<path class=\"bond-13 atom-3 atom-13\" d=\"M 409.5,181.2 L 450.4,205.0\" style=\"fill:none;fill-rule:evenodd;stroke:#000000;stroke-width:2.0px;stroke-linecap:butt;stroke-linejoin:miter;stroke-opacity:1\"/>\n",
       "<path class=\"bond-14 atom-4 atom-14\" d=\"M 409.7,119.7 L 450.9,96.1\" style=\"fill:none;fill-rule:evenodd;stroke:#000000;stroke-width:2.0px;stroke-linecap:butt;stroke-linejoin:miter;stroke-opacity:1\"/>\n",
       "<path class=\"bond-15 atom-5 atom-15\" d=\"M 356.5,88.7 L 356.7,42.3\" style=\"fill:none;fill-rule:evenodd;stroke:#000000;stroke-width:2.0px;stroke-linecap:butt;stroke-linejoin:miter;stroke-opacity:1\"/>\n",
       "<path class=\"bond-16 atom-8 atom-16\" d=\"M 196.6,134.0 L 196.5,149.7\" style=\"fill:none;fill-rule:evenodd;stroke:#0000FF;stroke-width:2.0px;stroke-linecap:butt;stroke-linejoin:miter;stroke-opacity:1\"/>\n",
       "<path class=\"bond-16 atom-8 atom-16\" d=\"M 196.5,149.7 L 196.4,165.4\" style=\"fill:none;fill-rule:evenodd;stroke:#000000;stroke-width:2.0px;stroke-linecap:butt;stroke-linejoin:miter;stroke-opacity:1\"/>\n",
       "<path class=\"bond-17 atom-10 atom-17\" d=\"M 90.1,118.6 L 89.9,165.0\" style=\"fill:none;fill-rule:evenodd;stroke:#000000;stroke-width:2.0px;stroke-linecap:butt;stroke-linejoin:miter;stroke-opacity:1\"/>\n",
       "<path class=\"bond-18 atom-10 atom-18\" d=\"M 90.1,118.6 L 49.1,94.7\" style=\"fill:none;fill-rule:evenodd;stroke:#000000;stroke-width:2.0px;stroke-linecap:butt;stroke-linejoin:miter;stroke-opacity:1\"/>\n",
       "<path class=\"atom-6\" d=\"M 242.6 97.3 Q 242.9 97.4, 244.1 98.0 Q 245.3 98.5, 246.7 98.8 Q 248.0 99.1, 249.4 99.1 Q 251.8 99.1, 253.3 97.9 Q 254.7 96.7, 254.7 94.6 Q 254.7 93.2, 254.0 92.3 Q 253.3 91.4, 252.2 90.9 Q 251.1 90.4, 249.2 89.9 Q 246.9 89.2, 245.5 88.5 Q 244.1 87.8, 243.1 86.4 Q 242.2 85.0, 242.2 82.7 Q 242.2 79.4, 244.4 77.4 Q 246.6 75.3, 251.1 75.3 Q 254.1 75.3, 257.5 76.8 L 256.7 79.6 Q 253.5 78.3, 251.2 78.3 Q 248.6 78.3, 247.2 79.4 Q 245.8 80.4, 245.9 82.2 Q 245.9 83.6, 246.6 84.5 Q 247.3 85.3, 248.3 85.8 Q 249.4 86.3, 251.2 86.8 Q 253.5 87.6, 254.9 88.3 Q 256.3 89.1, 257.3 90.6 Q 258.4 92.0, 258.4 94.6 Q 258.4 98.2, 255.9 100.2 Q 253.5 102.1, 249.5 102.1 Q 247.2 102.1, 245.4 101.6 Q 243.7 101.1, 241.6 100.2 L 242.6 97.3 \" fill=\"#CCCC00\"/>\n",
       "<path class=\"atom-7\" d=\"M 238.2 26.9 Q 238.2 20.6, 241.3 17.1 Q 244.4 13.6, 250.2 13.6 Q 256.0 13.6, 259.1 17.1 Q 262.2 20.6, 262.2 26.9 Q 262.2 33.3, 259.1 36.9 Q 255.9 40.5, 250.2 40.5 Q 244.5 40.5, 241.3 36.9 Q 238.2 33.3, 238.2 26.9 M 250.2 37.5 Q 254.2 37.5, 256.3 34.9 Q 258.5 32.2, 258.5 26.9 Q 258.5 21.8, 256.3 19.2 Q 254.2 16.6, 250.2 16.6 Q 246.2 16.6, 244.1 19.2 Q 241.9 21.8, 241.9 26.9 Q 241.9 32.2, 244.1 34.9 Q 246.2 37.5, 250.2 37.5 \" fill=\"#FF0000\"/>\n",
       "<path class=\"atom-8\" d=\"M 190.8 105.9 L 199.4 119.7 Q 200.2 121.1, 201.6 123.5 Q 203.0 126.0, 203.0 126.2 L 203.0 105.9 L 206.5 105.9 L 206.5 132.0 L 202.9 132.0 L 193.7 116.9 Q 192.7 115.1, 191.5 113.1 Q 190.4 111.0, 190.1 110.4 L 190.1 132.0 L 186.7 132.0 L 186.7 105.9 L 190.8 105.9 \" fill=\"#0000FF\"/>\n",
       "<path class=\"atom-9\" d=\"M 137.7 74.9 L 146.2 88.8 Q 147.1 90.1, 148.4 92.6 Q 149.8 95.1, 149.9 95.2 L 149.9 74.9 L 153.4 74.9 L 153.4 101.0 L 149.8 101.0 L 140.6 85.9 Q 139.5 84.1, 138.4 82.1 Q 137.3 80.1, 136.9 79.4 L 136.9 101.0 L 133.5 101.0 L 133.5 74.9 L 137.7 74.9 \" fill=\"#0000FF\"/>\n",
       "<path class=\"atom-11\" d=\"M 239.3 198.3 L 242.9 198.3 L 242.9 209.4 L 256.2 209.4 L 256.2 198.3 L 259.8 198.3 L 259.8 224.5 L 256.2 224.5 L 256.2 212.4 L 242.9 212.4 L 242.9 224.5 L 239.3 224.5 L 239.3 198.3 \" fill=\"#000000\"/>\n",
       "<path class=\"atom-12\" d=\"M 345.7 260.2 L 349.2 260.2 L 349.2 271.3 L 362.6 271.3 L 362.6 260.2 L 366.1 260.2 L 366.1 286.4 L 362.6 286.4 L 362.6 274.3 L 349.2 274.3 L 349.2 286.4 L 345.7 286.4 L 345.7 260.2 \" fill=\"#000000\"/>\n",
       "<path class=\"atom-13\" d=\"M 452.4 199.1 L 456.0 199.1 L 456.0 210.2 L 469.3 210.2 L 469.3 199.1 L 472.9 199.1 L 472.9 225.2 L 469.3 225.2 L 469.3 213.2 L 456.0 213.2 L 456.0 225.2 L 452.4 225.2 L 452.4 199.1 \" fill=\"#000000\"/>\n",
       "<path class=\"atom-14\" d=\"M 452.9 76.1 L 456.4 76.1 L 456.4 87.2 L 469.8 87.2 L 469.8 76.1 L 473.3 76.1 L 473.3 102.2 L 469.8 102.2 L 469.8 90.1 L 456.4 90.1 L 456.4 102.2 L 452.9 102.2 L 452.9 76.1 \" fill=\"#000000\"/>\n",
       "<path class=\"atom-15\" d=\"M 346.5 14.2 L 350.1 14.2 L 350.1 25.3 L 363.4 25.3 L 363.4 14.2 L 367.0 14.2 L 367.0 40.3 L 363.4 40.3 L 363.4 28.2 L 350.1 28.2 L 350.1 40.3 L 346.5 40.3 L 346.5 14.2 \" fill=\"#000000\"/>\n",
       "<path class=\"atom-16\" d=\"M 186.2 167.4 L 189.7 167.4 L 189.7 178.5 L 203.1 178.5 L 203.1 167.4 L 206.6 167.4 L 206.6 193.5 L 203.1 193.5 L 203.1 181.4 L 189.7 181.4 L 189.7 193.5 L 186.2 193.5 L 186.2 167.4 \" fill=\"#000000\"/>\n",
       "<path class=\"atom-17\" d=\"M 79.6 167.0 L 83.2 167.0 L 83.2 178.1 L 96.5 178.1 L 96.5 167.0 L 100.1 167.0 L 100.1 193.1 L 96.5 193.1 L 96.5 181.1 L 83.2 181.1 L 83.2 193.1 L 79.6 193.1 L 79.6 167.0 \" fill=\"#000000\"/>\n",
       "<path class=\"atom-18\" d=\"M 26.7 74.5 L 30.2 74.5 L 30.2 85.6 L 43.6 85.6 L 43.6 74.5 L 47.1 74.5 L 47.1 100.7 L 43.6 100.7 L 43.6 88.6 L 30.2 88.6 L 30.2 100.7 L 26.7 100.7 L 26.7 74.5 \" fill=\"#000000\"/>\n",
       "</svg>"
      ],
      "text/plain": [
       "<IPython.core.display.SVG object>"
      ]
     },
     "metadata": {},
     "output_type": "display_data"
    },
    {
     "name": "stdin",
     "output_type": "stream",
     "text": [
      " t155h [#6X4:1]-[#16X3+0:2]-[#7X2:3]~[#6X3:4] CS(=O)Nc1(ccccc1)\n"
     ]
    },
    {
     "name": "stdout",
     "output_type": "stream",
     "text": [
      "['t151h', 't144j', 't74g', 't74g', 't118h', 't118h', 't118h', 't152h', 't148j', 't118h', 't118h', 't118h', 't44', 't44', 't44', 't44', 't44', 't44', 't44', 't44', 't74g', 't44', 't44', 't44', 't44', 't44', 't44', 't44', 't44', 't44', 't44', 't74g', 't44', 't44', 't44', 't44', 't44', 't44']\n"
     ]
    },
    {
     "data": {
      "image/svg+xml": [
       "<svg xmlns=\"http://www.w3.org/2000/svg\" xmlns:rdkit=\"http://www.rdkit.org/xml\" xmlns:xlink=\"http://www.w3.org/1999/xlink\" version=\"1.1\" baseProfile=\"full\" xml:space=\"preserve\" width=\"500px\" height=\"300px\" viewBox=\"0 0 500 300\">\n",
       "<!-- END OF HEADER -->\n",
       "<rect style=\"opacity:1.0;fill:#FFFFFF;stroke:none\" width=\"500.0\" height=\"300.0\" x=\"0.0\" y=\"0.0\"> </rect>\n",
       "<path class=\"bond-0 atom-0 atom-1\" d=\"M 116.8,212.1 L 138.2,199.7\" style=\"fill:none;fill-rule:evenodd;stroke:#000000;stroke-width:2.0px;stroke-linecap:butt;stroke-linejoin:miter;stroke-opacity:1\"/>\n",
       "<path class=\"bond-0 atom-0 atom-1\" d=\"M 138.2,199.7 L 159.6,187.2\" style=\"fill:none;fill-rule:evenodd;stroke:#CCCC00;stroke-width:2.0px;stroke-linecap:butt;stroke-linejoin:miter;stroke-opacity:1\"/>\n",
       "<path class=\"bond-1 atom-1 atom-2\" d=\"M 174.5,166.1 L 174.5,150.7\" style=\"fill:none;fill-rule:evenodd;stroke:#CCCC00;stroke-width:2.0px;stroke-linecap:butt;stroke-linejoin:miter;stroke-opacity:1\"/>\n",
       "<path class=\"bond-1 atom-1 atom-2\" d=\"M 174.5,150.7 L 174.4,135.2\" style=\"fill:none;fill-rule:evenodd;stroke:#FF0000;stroke-width:2.0px;stroke-linecap:butt;stroke-linejoin:miter;stroke-opacity:1\"/>\n",
       "<path class=\"bond-1 atom-1 atom-2\" d=\"M 165.3,166.1 L 165.3,150.7\" style=\"fill:none;fill-rule:evenodd;stroke:#CCCC00;stroke-width:2.0px;stroke-linecap:butt;stroke-linejoin:miter;stroke-opacity:1\"/>\n",
       "<path class=\"bond-1 atom-1 atom-2\" d=\"M 165.3,150.7 L 165.2,135.3\" style=\"fill:none;fill-rule:evenodd;stroke:#FF0000;stroke-width:2.0px;stroke-linecap:butt;stroke-linejoin:miter;stroke-opacity:1\"/>\n",
       "<path class=\"bond-2 atom-1 atom-3\" d=\"M 180.4,187.1 L 195.9,196.0\" style=\"fill:none;fill-rule:evenodd;stroke:#CCCC00;stroke-width:2.0px;stroke-linecap:butt;stroke-linejoin:miter;stroke-opacity:1\"/>\n",
       "<path class=\"bond-2 atom-1 atom-3\" d=\"M 195.9,196.0 L 211.5,204.9\" style=\"fill:none;fill-rule:evenodd;stroke:#0000FF;stroke-width:2.0px;stroke-linecap:butt;stroke-linejoin:miter;stroke-opacity:1\"/>\n",
       "<path class=\"bond-3 atom-3 atom-4\" d=\"M 235.4,204.8 L 256.0,192.8\" style=\"fill:none;fill-rule:evenodd;stroke:#0000FF;stroke-width:2.0px;stroke-linecap:butt;stroke-linejoin:miter;stroke-opacity:1\"/>\n",
       "<path class=\"bond-3 atom-3 atom-4\" d=\"M 256.0,192.8 L 276.6,180.8\" style=\"fill:none;fill-rule:evenodd;stroke:#000000;stroke-width:2.0px;stroke-linecap:butt;stroke-linejoin:miter;stroke-opacity:1\"/>\n",
       "<path class=\"bond-4 atom-4 atom-9\" d=\"M 276.6,180.8 L 330.0,211.4\" style=\"fill:none;fill-rule:evenodd;stroke:#000000;stroke-width:2.0px;stroke-linecap:butt;stroke-linejoin:miter;stroke-opacity:1\"/>\n",
       "<path class=\"bond-4 atom-4 atom-9\" d=\"M 285.8,175.4 L 330.0,200.7\" style=\"fill:none;fill-rule:evenodd;stroke:#000000;stroke-width:2.0px;stroke-linecap:butt;stroke-linejoin:miter;stroke-opacity:1\"/>\n",
       "<path class=\"bond-5 atom-4 atom-5\" d=\"M 276.6,180.8 L 276.4,119.2\" style=\"fill:none;fill-rule:evenodd;stroke:#000000;stroke-width:2.0px;stroke-linecap:butt;stroke-linejoin:miter;stroke-opacity:1\"/>\n",
       "<path class=\"bond-6 atom-5 atom-6\" d=\"M 276.4,119.2 L 329.6,88.3\" style=\"fill:none;fill-rule:evenodd;stroke:#000000;stroke-width:2.0px;stroke-linecap:butt;stroke-linejoin:miter;stroke-opacity:1\"/>\n",
       "<path class=\"bond-6 atom-5 atom-6\" d=\"M 285.6,124.5 L 329.6,98.9\" style=\"fill:none;fill-rule:evenodd;stroke:#000000;stroke-width:2.0px;stroke-linecap:butt;stroke-linejoin:miter;stroke-opacity:1\"/>\n",
       "<path class=\"bond-7 atom-6 atom-7\" d=\"M 329.6,88.3 L 383.0,118.8\" style=\"fill:none;fill-rule:evenodd;stroke:#000000;stroke-width:2.0px;stroke-linecap:butt;stroke-linejoin:miter;stroke-opacity:1\"/>\n",
       "<path class=\"bond-8 atom-7 atom-8\" d=\"M 383.0,118.8 L 383.2,180.4\" style=\"fill:none;fill-rule:evenodd;stroke:#000000;stroke-width:2.0px;stroke-linecap:butt;stroke-linejoin:miter;stroke-opacity:1\"/>\n",
       "<path class=\"bond-8 atom-7 atom-8\" d=\"M 373.8,124.2 L 374.0,175.1\" style=\"fill:none;fill-rule:evenodd;stroke:#000000;stroke-width:2.0px;stroke-linecap:butt;stroke-linejoin:miter;stroke-opacity:1\"/>\n",
       "<path class=\"bond-9 atom-8 atom-9\" d=\"M 383.2,180.4 L 330.0,211.4\" style=\"fill:none;fill-rule:evenodd;stroke:#000000;stroke-width:2.0px;stroke-linecap:butt;stroke-linejoin:miter;stroke-opacity:1\"/>\n",
       "<path class=\"bond-10 atom-0 atom-10\" d=\"M 116.8,212.1 L 139.0,250.2\" style=\"fill:none;fill-rule:evenodd;stroke:#000000;stroke-width:2.0px;stroke-linecap:butt;stroke-linejoin:miter;stroke-opacity:1\"/>\n",
       "<path class=\"bond-11 atom-0 atom-11\" d=\"M 116.8,212.1 L 94.9,250.4\" style=\"fill:none;fill-rule:evenodd;stroke:#000000;stroke-width:2.0px;stroke-linecap:butt;stroke-linejoin:miter;stroke-opacity:1\"/>\n",
       "<path class=\"bond-12 atom-0 atom-12\" d=\"M 116.8,212.1 L 75.6,188.6\" style=\"fill:none;fill-rule:evenodd;stroke:#000000;stroke-width:2.0px;stroke-linecap:butt;stroke-linejoin:miter;stroke-opacity:1\"/>\n",
       "<path class=\"bond-13 atom-3 atom-13\" d=\"M 223.5,226.8 L 223.5,242.5\" style=\"fill:none;fill-rule:evenodd;stroke:#0000FF;stroke-width:2.0px;stroke-linecap:butt;stroke-linejoin:miter;stroke-opacity:1\"/>\n",
       "<path class=\"bond-13 atom-3 atom-13\" d=\"M 223.5,242.5 L 223.6,258.2\" style=\"fill:none;fill-rule:evenodd;stroke:#000000;stroke-width:2.0px;stroke-linecap:butt;stroke-linejoin:miter;stroke-opacity:1\"/>\n",
       "<path class=\"bond-14 atom-5 atom-14\" d=\"M 276.4,119.2 L 235.2,95.7\" style=\"fill:none;fill-rule:evenodd;stroke:#000000;stroke-width:2.0px;stroke-linecap:butt;stroke-linejoin:miter;stroke-opacity:1\"/>\n",
       "<path class=\"bond-15 atom-6 atom-15\" d=\"M 329.6,88.3 L 329.4,41.8\" style=\"fill:none;fill-rule:evenodd;stroke:#000000;stroke-width:2.0px;stroke-linecap:butt;stroke-linejoin:miter;stroke-opacity:1\"/>\n",
       "<path class=\"bond-16 atom-7 atom-16\" d=\"M 383.0,118.8 L 423.9,95.0\" style=\"fill:none;fill-rule:evenodd;stroke:#000000;stroke-width:2.0px;stroke-linecap:butt;stroke-linejoin:miter;stroke-opacity:1\"/>\n",
       "<path class=\"bond-17 atom-8 atom-17\" d=\"M 383.2,180.4 L 424.4,204.0\" style=\"fill:none;fill-rule:evenodd;stroke:#000000;stroke-width:2.0px;stroke-linecap:butt;stroke-linejoin:miter;stroke-opacity:1\"/>\n",
       "<path class=\"bond-18 atom-9 atom-18\" d=\"M 330.0,211.4 L 330.2,257.8\" style=\"fill:none;fill-rule:evenodd;stroke:#000000;stroke-width:2.0px;stroke-linecap:butt;stroke-linejoin:miter;stroke-opacity:1\"/>\n",
       "<path class=\"atom-1\" d=\"M 162.6 190.1 Q 162.9 190.2, 164.1 190.8 Q 165.3 191.3, 166.7 191.6 Q 168.0 191.9, 169.4 191.9 Q 171.8 191.9, 173.3 190.7 Q 174.7 189.5, 174.7 187.4 Q 174.7 186.0, 174.0 185.1 Q 173.3 184.2, 172.2 183.7 Q 171.1 183.2, 169.2 182.7 Q 166.9 182.0, 165.5 181.3 Q 164.1 180.6, 163.1 179.2 Q 162.2 177.8, 162.2 175.5 Q 162.2 172.2, 164.4 170.2 Q 166.6 168.1, 171.1 168.1 Q 174.1 168.1, 177.5 169.6 L 176.7 172.4 Q 173.5 171.1, 171.2 171.1 Q 168.6 171.1, 167.2 172.2 Q 165.8 173.2, 165.9 175.0 Q 165.9 176.4, 166.6 177.3 Q 167.3 178.1, 168.3 178.6 Q 169.4 179.1, 171.2 179.6 Q 173.5 180.4, 174.9 181.1 Q 176.3 181.9, 177.3 183.4 Q 178.4 184.9, 178.4 187.4 Q 178.4 191.0, 175.9 193.0 Q 173.5 194.9, 169.5 194.9 Q 167.2 194.9, 165.4 194.4 Q 163.7 193.9, 161.6 193.0 L 162.6 190.1 \" fill=\"#CCCC00\"/>\n",
       "<path class=\"atom-2\" d=\"M 157.8 119.7 Q 157.8 113.4, 160.9 109.9 Q 164.0 106.4, 169.8 106.4 Q 175.6 106.4, 178.7 109.9 Q 181.8 113.4, 181.8 119.7 Q 181.8 126.0, 178.6 129.7 Q 175.5 133.2, 169.8 133.2 Q 164.0 133.2, 160.9 129.7 Q 157.8 126.1, 157.8 119.7 M 169.8 130.3 Q 173.8 130.3, 175.9 127.6 Q 178.1 124.9, 178.1 119.7 Q 178.1 114.5, 175.9 112.0 Q 173.8 109.3, 169.8 109.3 Q 165.8 109.3, 163.6 111.9 Q 161.5 114.5, 161.5 119.7 Q 161.5 125.0, 163.6 127.6 Q 165.8 130.3, 169.8 130.3 \" fill=\"#FF0000\"/>\n",
       "<path class=\"atom-3\" d=\"M 217.6 198.7 L 226.2 212.5 Q 227.0 213.9, 228.4 216.4 Q 229.8 218.8, 229.8 219.0 L 229.8 198.7 L 233.3 198.7 L 233.3 224.8 L 229.7 224.8 L 220.5 209.7 Q 219.5 207.9, 218.3 205.9 Q 217.2 203.8, 216.9 203.2 L 216.9 224.8 L 213.5 224.8 L 213.5 198.7 L 217.6 198.7 \" fill=\"#0000FF\"/>\n",
       "<path class=\"atom-10\" d=\"M 137.5 252.2 L 141.1 252.2 L 141.1 263.4 L 154.4 263.4 L 154.4 252.2 L 158.0 252.2 L 158.0 278.4 L 154.4 278.4 L 154.4 266.3 L 141.1 266.3 L 141.1 278.4 L 137.5 278.4 L 137.5 252.2 \" fill=\"#000000\"/>\n",
       "<path class=\"atom-11\" d=\"M 76.0 252.5 L 79.5 252.5 L 79.5 263.6 L 92.9 263.6 L 92.9 252.5 L 96.4 252.5 L 96.4 278.6 L 92.9 278.6 L 92.9 266.5 L 79.5 266.5 L 79.5 278.6 L 76.0 278.6 L 76.0 252.5 \" fill=\"#000000\"/>\n",
       "<path class=\"atom-12\" d=\"M 53.1 168.5 L 56.7 168.5 L 56.7 179.6 L 70.1 179.6 L 70.1 168.5 L 73.6 168.5 L 73.6 194.6 L 70.1 194.6 L 70.1 182.5 L 56.7 182.5 L 56.7 194.6 L 53.1 194.6 L 53.1 168.5 \" fill=\"#000000\"/>\n",
       "<path class=\"atom-13\" d=\"M 213.4 260.2 L 216.9 260.2 L 216.9 271.3 L 230.3 271.3 L 230.3 260.2 L 233.9 260.2 L 233.9 286.4 L 230.3 286.4 L 230.3 274.3 L 216.9 274.3 L 216.9 286.4 L 213.4 286.4 L 213.4 260.2 \" fill=\"#000000\"/>\n",
       "<path class=\"atom-14\" d=\"M 212.7 75.6 L 216.3 75.6 L 216.3 86.7 L 229.6 86.7 L 229.6 75.6 L 233.2 75.6 L 233.2 101.7 L 229.6 101.7 L 229.6 89.6 L 216.3 89.6 L 216.3 101.7 L 212.7 101.7 L 212.7 75.6 \" fill=\"#000000\"/>\n",
       "<path class=\"atom-15\" d=\"M 319.1 13.6 L 322.7 13.6 L 322.7 24.8 L 336.0 24.8 L 336.0 13.6 L 339.6 13.6 L 339.6 39.8 L 336.0 39.8 L 336.0 27.7 L 322.7 27.7 L 322.7 39.8 L 319.1 39.8 L 319.1 13.6 \" fill=\"#000000\"/>\n",
       "<path class=\"atom-16\" d=\"M 425.9 74.8 L 429.5 74.8 L 429.5 85.9 L 442.9 85.9 L 442.9 74.8 L 446.4 74.8 L 446.4 100.9 L 442.9 100.9 L 442.9 88.9 L 429.5 88.9 L 429.5 100.9 L 425.9 100.9 L 425.9 74.8 \" fill=\"#000000\"/>\n",
       "<path class=\"atom-17\" d=\"M 426.4 197.9 L 429.9 197.9 L 429.9 209.0 L 443.3 209.0 L 443.3 197.9 L 446.9 197.9 L 446.9 224.0 L 443.3 224.0 L 443.3 212.0 L 429.9 212.0 L 429.9 224.0 L 426.4 224.0 L 426.4 197.9 \" fill=\"#000000\"/>\n",
       "<path class=\"atom-18\" d=\"M 320.0 259.8 L 323.5 259.8 L 323.5 271.0 L 336.9 271.0 L 336.9 259.8 L 340.5 259.8 L 340.5 286.0 L 336.9 286.0 L 336.9 273.9 L 323.5 273.9 L 323.5 286.0 L 320.0 286.0 L 320.0 259.8 \" fill=\"#000000\"/>\n",
       "</svg>"
      ],
      "text/plain": [
       "<IPython.core.display.SVG object>"
      ]
     },
     "metadata": {},
     "output_type": "display_data"
    },
    {
     "name": "stdin",
     "output_type": "stream",
     "text": [
      " t155h [#6X4:1]-[#16X3+0:2]-[#7X2:3]~[#6X3:4] CS(=O)N=C\n"
     ]
    },
    {
     "name": "stdout",
     "output_type": "stream",
     "text": [
      "matched!\n"
     ]
    },
    {
     "data": {
      "image/svg+xml": [
       "<svg xmlns=\"http://www.w3.org/2000/svg\" xmlns:rdkit=\"http://www.rdkit.org/xml\" xmlns:xlink=\"http://www.w3.org/1999/xlink\" version=\"1.1\" baseProfile=\"full\" xml:space=\"preserve\" width=\"500px\" height=\"300px\" viewBox=\"0 0 500 300\">\n",
       "<!-- END OF HEADER -->\n",
       "<rect style=\"opacity:1.0;fill:#FFFFFF;stroke:none\" width=\"500.0\" height=\"300.0\" x=\"0.0\" y=\"0.0\"> </rect>\n",
       "<path class=\"bond-0 atom-0 atom-1\" d=\"M 376.6,181.0 L 340.6,160.1\" style=\"fill:none;fill-rule:evenodd;stroke:#000000;stroke-width:2.0px;stroke-linecap:butt;stroke-linejoin:miter;stroke-opacity:1\"/>\n",
       "<path class=\"bond-0 atom-0 atom-1\" d=\"M 340.6,160.1 L 304.5,139.3\" style=\"fill:none;fill-rule:evenodd;stroke:#CCCC00;stroke-width:2.0px;stroke-linecap:butt;stroke-linejoin:miter;stroke-opacity:1\"/>\n",
       "<path class=\"bond-1 atom-1 atom-2\" d=\"M 299.6,114.9 L 299.6,83.8\" style=\"fill:none;fill-rule:evenodd;stroke:#CCCC00;stroke-width:2.0px;stroke-linecap:butt;stroke-linejoin:miter;stroke-opacity:1\"/>\n",
       "<path class=\"bond-1 atom-1 atom-2\" d=\"M 299.6,83.8 L 299.6,52.7\" style=\"fill:none;fill-rule:evenodd;stroke:#FF0000;stroke-width:2.0px;stroke-linecap:butt;stroke-linejoin:miter;stroke-opacity:1\"/>\n",
       "<path class=\"bond-1 atom-1 atom-2\" d=\"M 284.9,114.8 L 285.0,83.8\" style=\"fill:none;fill-rule:evenodd;stroke:#CCCC00;stroke-width:2.0px;stroke-linecap:butt;stroke-linejoin:miter;stroke-opacity:1\"/>\n",
       "<path class=\"bond-1 atom-1 atom-2\" d=\"M 285.0,83.8 L 285.0,52.7\" style=\"fill:none;fill-rule:evenodd;stroke:#FF0000;stroke-width:2.0px;stroke-linecap:butt;stroke-linejoin:miter;stroke-opacity:1\"/>\n",
       "<path class=\"bond-2 atom-1 atom-3\" d=\"M 279.9,139.3 L 250.8,156.1\" style=\"fill:none;fill-rule:evenodd;stroke:#CCCC00;stroke-width:2.0px;stroke-linecap:butt;stroke-linejoin:miter;stroke-opacity:1\"/>\n",
       "<path class=\"bond-2 atom-1 atom-3\" d=\"M 250.8,156.1 L 221.7,172.8\" style=\"fill:none;fill-rule:evenodd;stroke:#0000FF;stroke-width:2.0px;stroke-linecap:butt;stroke-linejoin:miter;stroke-opacity:1\"/>\n",
       "<path class=\"bond-3 atom-3 atom-4\" d=\"M 193.8,172.8 L 158.6,152.4\" style=\"fill:none;fill-rule:evenodd;stroke:#0000FF;stroke-width:2.0px;stroke-linecap:butt;stroke-linejoin:miter;stroke-opacity:1\"/>\n",
       "<path class=\"bond-3 atom-3 atom-4\" d=\"M 158.6,152.4 L 123.4,132.1\" style=\"fill:none;fill-rule:evenodd;stroke:#000000;stroke-width:2.0px;stroke-linecap:butt;stroke-linejoin:miter;stroke-opacity:1\"/>\n",
       "<path class=\"bond-3 atom-3 atom-4\" d=\"M 201.1,160.1 L 169.6,141.9\" style=\"fill:none;fill-rule:evenodd;stroke:#0000FF;stroke-width:2.0px;stroke-linecap:butt;stroke-linejoin:miter;stroke-opacity:1\"/>\n",
       "<path class=\"bond-3 atom-3 atom-4\" d=\"M 169.6,141.9 L 138.0,123.6\" style=\"fill:none;fill-rule:evenodd;stroke:#000000;stroke-width:2.0px;stroke-linecap:butt;stroke-linejoin:miter;stroke-opacity:1\"/>\n",
       "<path class=\"bond-4 atom-0 atom-5\" d=\"M 376.6,181.0 L 337.8,248.0\" style=\"fill:none;fill-rule:evenodd;stroke:#000000;stroke-width:2.0px;stroke-linecap:butt;stroke-linejoin:miter;stroke-opacity:1\"/>\n",
       "<path class=\"bond-5 atom-0 atom-6\" d=\"M 376.6,181.0 L 415.3,248.1\" style=\"fill:none;fill-rule:evenodd;stroke:#000000;stroke-width:2.0px;stroke-linecap:butt;stroke-linejoin:miter;stroke-opacity:1\"/>\n",
       "<path class=\"bond-6 atom-0 atom-7\" d=\"M 376.6,181.0 L 446.8,140.6\" style=\"fill:none;fill-rule:evenodd;stroke:#000000;stroke-width:2.0px;stroke-linecap:butt;stroke-linejoin:miter;stroke-opacity:1\"/>\n",
       "<path class=\"bond-7 atom-4 atom-8\" d=\"M 123.4,132.1 L 123.5,51.9\" style=\"fill:none;fill-rule:evenodd;stroke:#000000;stroke-width:2.0px;stroke-linecap:butt;stroke-linejoin:miter;stroke-opacity:1\"/>\n",
       "<path class=\"bond-8 atom-4 atom-9\" d=\"M 123.4,132.1 L 53.2,172.5\" style=\"fill:none;fill-rule:evenodd;stroke:#000000;stroke-width:2.0px;stroke-linecap:butt;stroke-linejoin:miter;stroke-opacity:1\"/>\n",
       "<path class=\"atom-1\" d=\"M 284.2 141.9 Q 284.5 142.0, 285.9 142.6 Q 287.2 143.2, 288.6 143.5 Q 290.1 143.8, 291.5 143.8 Q 294.2 143.8, 295.8 142.6 Q 297.3 141.2, 297.3 139.0 Q 297.3 137.4, 296.5 136.4 Q 295.8 135.5, 294.6 135.0 Q 293.4 134.4, 291.4 133.8 Q 288.9 133.1, 287.3 132.4 Q 285.9 131.6, 284.8 130.1 Q 283.7 128.6, 283.7 126.0 Q 283.7 122.5, 286.1 120.3 Q 288.6 118.1, 293.4 118.1 Q 296.7 118.1, 300.4 119.6 L 299.5 122.7 Q 296.1 121.3, 293.5 121.3 Q 290.7 121.3, 289.2 122.5 Q 287.7 123.6, 287.7 125.6 Q 287.7 127.1, 288.5 128.0 Q 289.3 128.9, 290.4 129.4 Q 291.6 130.0, 293.5 130.6 Q 296.1 131.4, 297.6 132.2 Q 299.1 133.0, 300.2 134.6 Q 301.3 136.2, 301.3 139.0 Q 301.3 142.9, 298.7 145.0 Q 296.1 147.1, 291.7 147.1 Q 289.2 147.1, 287.3 146.5 Q 285.4 146.0, 283.1 145.1 L 284.2 141.9 \" fill=\"#CCCC00\"/>\n",
       "<path class=\"atom-2\" d=\"M 279.3 34.8 Q 279.3 28.0, 282.7 24.2 Q 286.0 20.4, 292.3 20.4 Q 298.6 20.4, 301.9 24.2 Q 305.3 28.0, 305.3 34.8 Q 305.3 41.7, 301.9 45.6 Q 298.5 49.5, 292.3 49.5 Q 286.1 49.5, 282.7 45.6 Q 279.3 41.7, 279.3 34.8 M 292.3 46.3 Q 296.6 46.3, 298.9 43.4 Q 301.3 40.5, 301.3 34.8 Q 301.3 29.2, 298.9 26.4 Q 296.6 23.6, 292.3 23.6 Q 288.0 23.6, 285.6 26.4 Q 283.3 29.2, 283.3 34.8 Q 283.3 40.5, 285.6 43.4 Q 288.0 46.3, 292.3 46.3 \" fill=\"#FF0000\"/>\n",
       "<path class=\"atom-3\" d=\"M 201.5 166.7 L 210.8 181.7 Q 211.7 183.2, 213.2 185.9 Q 214.7 188.6, 214.8 188.7 L 214.8 166.7 L 218.5 166.7 L 218.5 195.0 L 214.6 195.0 L 204.7 178.6 Q 203.5 176.7, 202.3 174.5 Q 201.1 172.3, 200.7 171.6 L 200.7 195.0 L 197.0 195.0 L 197.0 166.7 L 201.5 166.7 \" fill=\"#0000FF\"/>\n",
       "<path class=\"atom-5\" d=\"M 316.7 251.2 L 320.6 251.2 L 320.6 263.3 L 335.0 263.3 L 335.0 251.2 L 338.9 251.2 L 338.9 279.5 L 335.0 279.5 L 335.0 266.5 L 320.6 266.5 L 320.6 279.5 L 316.7 279.5 L 316.7 251.2 \" fill=\"#000000\"/>\n",
       "<path class=\"atom-6\" d=\"M 414.2 251.3 L 418.0 251.3 L 418.0 263.3 L 432.5 263.3 L 432.5 251.3 L 436.4 251.3 L 436.4 279.6 L 432.5 279.6 L 432.5 266.5 L 418.0 266.5 L 418.0 279.6 L 414.2 279.6 L 414.2 251.3 \" fill=\"#000000\"/>\n",
       "<path class=\"atom-7\" d=\"M 450.0 118.2 L 453.8 118.2 L 453.8 130.2 L 468.3 130.2 L 468.3 118.2 L 472.2 118.2 L 472.2 146.5 L 468.3 146.5 L 468.3 133.4 L 453.8 133.4 L 453.8 146.5 L 450.0 146.5 L 450.0 118.2 \" fill=\"#000000\"/>\n",
       "<path class=\"atom-8\" d=\"M 112.4 20.4 L 116.2 20.4 L 116.2 32.5 L 130.7 32.5 L 130.7 20.4 L 134.5 20.4 L 134.5 48.7 L 130.7 48.7 L 130.7 35.7 L 116.2 35.7 L 116.2 48.7 L 112.4 48.7 L 112.4 20.4 \" fill=\"#000000\"/>\n",
       "<path class=\"atom-9\" d=\"M 27.8 166.6 L 31.7 166.6 L 31.7 178.6 L 46.2 178.6 L 46.2 166.6 L 50.0 166.6 L 50.0 194.9 L 46.2 194.9 L 46.2 181.8 L 31.7 181.8 L 31.7 194.9 L 27.8 194.9 L 27.8 166.6 \" fill=\"#000000\"/>\n",
       "</svg>"
      ],
      "text/plain": [
       "<IPython.core.display.SVG object>"
      ]
     },
     "metadata": {},
     "output_type": "display_data"
    },
    {
     "name": "stdin",
     "output_type": "stream",
     "text": [
      " t155h [#6X4:1]-[#16X3+0:2]-[#7X2:3]~[#6X3:4] c1(ccccc1)S(=O)N=C\n"
     ]
    },
    {
     "name": "stdout",
     "output_type": "stream",
     "text": [
      "['t44', 't44', 't44', 't44', 't143i', 't44', 't44', 't121h', 't121h', 't44', 't44', 't44', 't44', 't44', 't44', 't44', 't44', 't44', 't44', 't44', 't121h', 't121h', 't44', 't44', 't44', 't86', 't86', 't156h', 't44', 't44', 't44', 't44']\n"
     ]
    },
    {
     "data": {
      "image/svg+xml": [
       "<svg xmlns=\"http://www.w3.org/2000/svg\" xmlns:rdkit=\"http://www.rdkit.org/xml\" xmlns:xlink=\"http://www.w3.org/1999/xlink\" version=\"1.1\" baseProfile=\"full\" xml:space=\"preserve\" width=\"500px\" height=\"300px\" viewBox=\"0 0 500 300\">\n",
       "<!-- END OF HEADER -->\n",
       "<rect style=\"opacity:1.0;fill:#FFFFFF;stroke:none\" width=\"500.0\" height=\"300.0\" x=\"0.0\" y=\"0.0\"> </rect>\n",
       "<path class=\"bond-0 atom-0 atom-5\" d=\"M 250.0,138.5 L 250.0,92.5\" style=\"fill:none;fill-rule:evenodd;stroke:#000000;stroke-width:2.0px;stroke-linecap:butt;stroke-linejoin:miter;stroke-opacity:1\"/>\n",
       "<path class=\"bond-0 atom-0 atom-5\" d=\"M 256.9,134.5 L 256.9,96.5\" style=\"fill:none;fill-rule:evenodd;stroke:#000000;stroke-width:2.0px;stroke-linecap:butt;stroke-linejoin:miter;stroke-opacity:1\"/>\n",
       "<path class=\"bond-1 atom-0 atom-1\" d=\"M 250.0,138.5 L 289.9,161.6\" style=\"fill:none;fill-rule:evenodd;stroke:#000000;stroke-width:2.0px;stroke-linecap:butt;stroke-linejoin:miter;stroke-opacity:1\"/>\n",
       "<path class=\"bond-2 atom-1 atom-2\" d=\"M 289.9,161.6 L 329.8,138.6\" style=\"fill:none;fill-rule:evenodd;stroke:#000000;stroke-width:2.0px;stroke-linecap:butt;stroke-linejoin:miter;stroke-opacity:1\"/>\n",
       "<path class=\"bond-2 atom-1 atom-2\" d=\"M 289.9,153.6 L 322.8,134.6\" style=\"fill:none;fill-rule:evenodd;stroke:#000000;stroke-width:2.0px;stroke-linecap:butt;stroke-linejoin:miter;stroke-opacity:1\"/>\n",
       "<path class=\"bond-3 atom-2 atom-3\" d=\"M 329.8,138.6 L 329.8,92.5\" style=\"fill:none;fill-rule:evenodd;stroke:#000000;stroke-width:2.0px;stroke-linecap:butt;stroke-linejoin:miter;stroke-opacity:1\"/>\n",
       "<path class=\"bond-4 atom-3 atom-4\" d=\"M 329.8,92.5 L 289.9,69.5\" style=\"fill:none;fill-rule:evenodd;stroke:#000000;stroke-width:2.0px;stroke-linecap:butt;stroke-linejoin:miter;stroke-opacity:1\"/>\n",
       "<path class=\"bond-4 atom-3 atom-4\" d=\"M 322.9,96.5 L 289.9,77.4\" style=\"fill:none;fill-rule:evenodd;stroke:#000000;stroke-width:2.0px;stroke-linecap:butt;stroke-linejoin:miter;stroke-opacity:1\"/>\n",
       "<path class=\"bond-5 atom-4 atom-5\" d=\"M 289.9,69.5 L 250.0,92.5\" style=\"fill:none;fill-rule:evenodd;stroke:#000000;stroke-width:2.0px;stroke-linecap:butt;stroke-linejoin:miter;stroke-opacity:1\"/>\n",
       "<path class=\"bond-6 atom-0 atom-6\" d=\"M 250.0,138.5 L 233.9,147.8\" style=\"fill:none;fill-rule:evenodd;stroke:#000000;stroke-width:2.0px;stroke-linecap:butt;stroke-linejoin:miter;stroke-opacity:1\"/>\n",
       "<path class=\"bond-6 atom-0 atom-6\" d=\"M 233.9,147.8 L 217.9,157.0\" style=\"fill:none;fill-rule:evenodd;stroke:#CCCC00;stroke-width:2.0px;stroke-linecap:butt;stroke-linejoin:miter;stroke-opacity:1\"/>\n",
       "<path class=\"bond-7 atom-6 atom-7\" d=\"M 204.0,154.0 L 193.3,147.8\" style=\"fill:none;fill-rule:evenodd;stroke:#CCCC00;stroke-width:2.0px;stroke-linecap:butt;stroke-linejoin:miter;stroke-opacity:1\"/>\n",
       "<path class=\"bond-7 atom-6 atom-7\" d=\"M 193.3,147.8 L 182.5,141.5\" style=\"fill:none;fill-rule:evenodd;stroke:#FF0000;stroke-width:2.0px;stroke-linecap:butt;stroke-linejoin:miter;stroke-opacity:1\"/>\n",
       "<path class=\"bond-7 atom-6 atom-7\" d=\"M 200.6,160.0 L 189.8,153.7\" style=\"fill:none;fill-rule:evenodd;stroke:#CCCC00;stroke-width:2.0px;stroke-linecap:butt;stroke-linejoin:miter;stroke-opacity:1\"/>\n",
       "<path class=\"bond-7 atom-6 atom-7\" d=\"M 189.8,153.7 L 179.0,147.5\" style=\"fill:none;fill-rule:evenodd;stroke:#FF0000;stroke-width:2.0px;stroke-linecap:butt;stroke-linejoin:miter;stroke-opacity:1\"/>\n",
       "<path class=\"bond-8 atom-6 atom-8\" d=\"M 210.1,173.3 L 210.1,184.8\" style=\"fill:none;fill-rule:evenodd;stroke:#CCCC00;stroke-width:2.0px;stroke-linecap:butt;stroke-linejoin:miter;stroke-opacity:1\"/>\n",
       "<path class=\"bond-8 atom-6 atom-8\" d=\"M 210.1,184.8 L 210.1,196.2\" style=\"fill:none;fill-rule:evenodd;stroke:#0000FF;stroke-width:2.0px;stroke-linecap:butt;stroke-linejoin:miter;stroke-opacity:1\"/>\n",
       "<path class=\"bond-9 atom-8 atom-9\" d=\"M 201.1,212.7 L 185.7,221.6\" style=\"fill:none;fill-rule:evenodd;stroke:#0000FF;stroke-width:2.0px;stroke-linecap:butt;stroke-linejoin:miter;stroke-opacity:1\"/>\n",
       "<path class=\"bond-9 atom-8 atom-9\" d=\"M 185.7,221.6 L 170.2,230.5\" style=\"fill:none;fill-rule:evenodd;stroke:#000000;stroke-width:2.0px;stroke-linecap:butt;stroke-linejoin:miter;stroke-opacity:1\"/>\n",
       "<path class=\"bond-9 atom-8 atom-9\" d=\"M 197.7,206.7 L 183.9,214.6\" style=\"fill:none;fill-rule:evenodd;stroke:#0000FF;stroke-width:2.0px;stroke-linecap:butt;stroke-linejoin:miter;stroke-opacity:1\"/>\n",
       "<path class=\"bond-9 atom-8 atom-9\" d=\"M 183.9,214.6 L 170.2,222.6\" style=\"fill:none;fill-rule:evenodd;stroke:#000000;stroke-width:2.0px;stroke-linecap:butt;stroke-linejoin:miter;stroke-opacity:1\"/>\n",
       "<path class=\"bond-10 atom-1 atom-10\" d=\"M 289.9,161.6 L 289.8,196.3\" style=\"fill:none;fill-rule:evenodd;stroke:#000000;stroke-width:2.0px;stroke-linecap:butt;stroke-linejoin:miter;stroke-opacity:1\"/>\n",
       "<path class=\"bond-11 atom-2 atom-11\" d=\"M 329.8,138.6 L 360.4,156.3\" style=\"fill:none;fill-rule:evenodd;stroke:#000000;stroke-width:2.0px;stroke-linecap:butt;stroke-linejoin:miter;stroke-opacity:1\"/>\n",
       "<path class=\"bond-12 atom-3 atom-12\" d=\"M 329.8,92.5 L 360.5,74.8\" style=\"fill:none;fill-rule:evenodd;stroke:#000000;stroke-width:2.0px;stroke-linecap:butt;stroke-linejoin:miter;stroke-opacity:1\"/>\n",
       "<path class=\"bond-13 atom-4 atom-13\" d=\"M 289.9,69.5 L 290.0,34.7\" style=\"fill:none;fill-rule:evenodd;stroke:#000000;stroke-width:2.0px;stroke-linecap:butt;stroke-linejoin:miter;stroke-opacity:1\"/>\n",
       "<path class=\"bond-14 atom-5 atom-14\" d=\"M 250.0,92.5 L 219.4,74.7\" style=\"fill:none;fill-rule:evenodd;stroke:#000000;stroke-width:2.0px;stroke-linecap:butt;stroke-linejoin:miter;stroke-opacity:1\"/>\n",
       "<path class=\"bond-15 atom-9 atom-15\" d=\"M 170.2,230.5 L 139.5,212.8\" style=\"fill:none;fill-rule:evenodd;stroke:#000000;stroke-width:2.0px;stroke-linecap:butt;stroke-linejoin:miter;stroke-opacity:1\"/>\n",
       "<path class=\"bond-16 atom-9 atom-16\" d=\"M 170.2,230.5 L 170.1,265.3\" style=\"fill:none;fill-rule:evenodd;stroke:#000000;stroke-width:2.0px;stroke-linecap:butt;stroke-linejoin:miter;stroke-opacity:1\"/>\n",
       "<path class=\"atom-6\" d=\"M 204.6 168.2 Q 204.8 168.3, 205.7 168.7 Q 206.6 169.1, 207.6 169.3 Q 208.6 169.5, 209.6 169.5 Q 211.5 169.5, 212.6 168.6 Q 213.6 167.7, 213.6 166.2 Q 213.6 165.1, 213.1 164.4 Q 212.6 163.8, 211.7 163.4 Q 210.9 163.0, 209.5 162.6 Q 207.8 162.1, 206.7 161.6 Q 205.7 161.1, 205.0 160.1 Q 204.2 159.0, 204.2 157.2 Q 204.2 154.8, 205.9 153.3 Q 207.6 151.7, 210.9 151.7 Q 213.2 151.7, 215.7 152.8 L 215.1 154.9 Q 212.8 154.0, 211.0 154.0 Q 209.1 154.0, 208.0 154.8 Q 207.0 155.6, 207.0 156.9 Q 207.0 158.0, 207.5 158.6 Q 208.1 159.2, 208.9 159.6 Q 209.7 159.9, 211.0 160.4 Q 212.8 160.9, 213.8 161.5 Q 214.9 162.0, 215.6 163.2 Q 216.4 164.3, 216.4 166.2 Q 216.4 168.9, 214.6 170.3 Q 212.8 171.8, 209.7 171.8 Q 208.0 171.8, 206.7 171.4 Q 205.4 171.0, 203.8 170.4 L 204.6 168.2 \" fill=\"#CCCC00\"/>\n",
       "<path class=\"atom-7\" d=\"M 161.3 138.5 Q 161.3 133.8, 163.6 131.2 Q 165.9 128.6, 170.2 128.6 Q 174.6 128.6, 176.9 131.2 Q 179.2 133.8, 179.2 138.5 Q 179.2 143.2, 176.9 146.0 Q 174.5 148.6, 170.2 148.6 Q 165.9 148.6, 163.6 146.0 Q 161.3 143.3, 161.3 138.5 M 170.2 146.4 Q 173.2 146.4, 174.8 144.4 Q 176.5 142.4, 176.5 138.5 Q 176.5 134.7, 174.8 132.7 Q 173.2 130.8, 170.2 130.8 Q 167.3 130.8, 165.6 132.7 Q 164.0 134.6, 164.0 138.5 Q 164.0 142.4, 165.6 144.4 Q 167.3 146.4, 170.2 146.4 \" fill=\"#FF0000\"/>\n",
       "<path class=\"atom-8\" d=\"M 205.7 197.8 L 212.2 208.1 Q 212.8 209.1, 213.8 211.0 Q 214.8 212.8, 214.9 213.0 L 214.9 197.8 L 217.5 197.8 L 217.5 217.3 L 214.8 217.3 L 207.9 206.0 Q 207.1 204.7, 206.3 203.1 Q 205.4 201.6, 205.2 201.2 L 205.2 217.3 L 202.6 217.3 L 202.6 197.8 L 205.7 197.8 \" fill=\"#0000FF\"/>\n",
       "<path class=\"atom-10\" d=\"M 282.2 197.8 L 284.8 197.8 L 284.8 206.1 L 294.8 206.1 L 294.8 197.8 L 297.5 197.8 L 297.5 217.4 L 294.8 217.4 L 294.8 208.4 L 284.8 208.4 L 284.8 217.4 L 282.2 217.4 L 282.2 197.8 \" fill=\"#000000\"/>\n",
       "<path class=\"atom-11\" d=\"M 362.0 151.8 L 364.6 151.8 L 364.6 160.2 L 374.6 160.2 L 374.6 151.8 L 377.3 151.8 L 377.3 171.4 L 374.6 171.4 L 374.6 162.4 L 364.6 162.4 L 364.6 171.4 L 362.0 171.4 L 362.0 151.8 \" fill=\"#000000\"/>\n",
       "<path class=\"atom-12\" d=\"M 362.0 59.7 L 364.7 59.7 L 364.7 68.1 L 374.7 68.1 L 374.7 59.7 L 377.3 59.7 L 377.3 79.3 L 374.7 79.3 L 374.7 70.3 L 364.7 70.3 L 364.7 79.3 L 362.0 79.3 L 362.0 59.7 \" fill=\"#000000\"/>\n",
       "<path class=\"atom-13\" d=\"M 282.3 13.6 L 285.0 13.6 L 285.0 22.0 L 295.0 22.0 L 295.0 13.6 L 297.6 13.6 L 297.6 33.2 L 295.0 33.2 L 295.0 24.2 L 285.0 24.2 L 285.0 33.2 L 282.3 33.2 L 282.3 13.6 \" fill=\"#000000\"/>\n",
       "<path class=\"atom-14\" d=\"M 202.5 59.6 L 205.2 59.6 L 205.2 67.9 L 215.2 67.9 L 215.2 59.6 L 217.8 59.6 L 217.8 79.2 L 215.2 79.2 L 215.2 70.1 L 205.2 70.1 L 205.2 79.2 L 202.5 79.2 L 202.5 59.6 \" fill=\"#000000\"/>\n",
       "<path class=\"atom-15\" d=\"M 122.7 197.7 L 125.3 197.7 L 125.3 206.0 L 135.3 206.0 L 135.3 197.7 L 138.0 197.7 L 138.0 217.3 L 135.3 217.3 L 135.3 208.2 L 125.3 208.2 L 125.3 217.3 L 122.7 217.3 L 122.7 197.7 \" fill=\"#000000\"/>\n",
       "<path class=\"atom-16\" d=\"M 162.5 266.8 L 165.1 266.8 L 165.1 275.1 L 175.1 275.1 L 175.1 266.8 L 177.8 266.8 L 177.8 286.4 L 175.1 286.4 L 175.1 277.3 L 165.1 277.3 L 165.1 286.4 L 162.5 286.4 L 162.5 266.8 \" fill=\"#000000\"/>\n",
       "</svg>"
      ],
      "text/plain": [
       "<IPython.core.display.SVG object>"
      ]
     },
     "metadata": {},
     "output_type": "display_data"
    },
    {
     "name": "stdin",
     "output_type": "stream",
     "text": [
      " t155h [#6X4:1]-[#16X3+0:2]-[#7X2:3]~[#6X3:4] CS(=O)N=C\n"
     ]
    },
    {
     "name": "stdout",
     "output_type": "stream",
     "text": [
      "matched!\n"
     ]
    },
    {
     "data": {
      "image/svg+xml": [
       "<svg xmlns=\"http://www.w3.org/2000/svg\" xmlns:rdkit=\"http://www.rdkit.org/xml\" xmlns:xlink=\"http://www.w3.org/1999/xlink\" version=\"1.1\" baseProfile=\"full\" xml:space=\"preserve\" width=\"500px\" height=\"300px\" viewBox=\"0 0 500 300\">\n",
       "<!-- END OF HEADER -->\n",
       "<rect style=\"opacity:1.0;fill:#FFFFFF;stroke:none\" width=\"500.0\" height=\"300.0\" x=\"0.0\" y=\"0.0\"> </rect>\n",
       "<path class=\"bond-0 atom-0 atom-1\" d=\"M 376.6,181.0 L 340.6,160.1\" style=\"fill:none;fill-rule:evenodd;stroke:#000000;stroke-width:2.0px;stroke-linecap:butt;stroke-linejoin:miter;stroke-opacity:1\"/>\n",
       "<path class=\"bond-0 atom-0 atom-1\" d=\"M 340.6,160.1 L 304.5,139.3\" style=\"fill:none;fill-rule:evenodd;stroke:#CCCC00;stroke-width:2.0px;stroke-linecap:butt;stroke-linejoin:miter;stroke-opacity:1\"/>\n",
       "<path class=\"bond-1 atom-1 atom-2\" d=\"M 299.6,114.9 L 299.6,83.8\" style=\"fill:none;fill-rule:evenodd;stroke:#CCCC00;stroke-width:2.0px;stroke-linecap:butt;stroke-linejoin:miter;stroke-opacity:1\"/>\n",
       "<path class=\"bond-1 atom-1 atom-2\" d=\"M 299.6,83.8 L 299.6,52.7\" style=\"fill:none;fill-rule:evenodd;stroke:#FF0000;stroke-width:2.0px;stroke-linecap:butt;stroke-linejoin:miter;stroke-opacity:1\"/>\n",
       "<path class=\"bond-1 atom-1 atom-2\" d=\"M 284.9,114.8 L 285.0,83.8\" style=\"fill:none;fill-rule:evenodd;stroke:#CCCC00;stroke-width:2.0px;stroke-linecap:butt;stroke-linejoin:miter;stroke-opacity:1\"/>\n",
       "<path class=\"bond-1 atom-1 atom-2\" d=\"M 285.0,83.8 L 285.0,52.7\" style=\"fill:none;fill-rule:evenodd;stroke:#FF0000;stroke-width:2.0px;stroke-linecap:butt;stroke-linejoin:miter;stroke-opacity:1\"/>\n",
       "<path class=\"bond-2 atom-1 atom-3\" d=\"M 279.9,139.3 L 250.8,156.1\" style=\"fill:none;fill-rule:evenodd;stroke:#CCCC00;stroke-width:2.0px;stroke-linecap:butt;stroke-linejoin:miter;stroke-opacity:1\"/>\n",
       "<path class=\"bond-2 atom-1 atom-3\" d=\"M 250.8,156.1 L 221.7,172.8\" style=\"fill:none;fill-rule:evenodd;stroke:#0000FF;stroke-width:2.0px;stroke-linecap:butt;stroke-linejoin:miter;stroke-opacity:1\"/>\n",
       "<path class=\"bond-3 atom-3 atom-4\" d=\"M 193.8,172.8 L 158.6,152.4\" style=\"fill:none;fill-rule:evenodd;stroke:#0000FF;stroke-width:2.0px;stroke-linecap:butt;stroke-linejoin:miter;stroke-opacity:1\"/>\n",
       "<path class=\"bond-3 atom-3 atom-4\" d=\"M 158.6,152.4 L 123.4,132.1\" style=\"fill:none;fill-rule:evenodd;stroke:#000000;stroke-width:2.0px;stroke-linecap:butt;stroke-linejoin:miter;stroke-opacity:1\"/>\n",
       "<path class=\"bond-3 atom-3 atom-4\" d=\"M 201.1,160.1 L 169.6,141.9\" style=\"fill:none;fill-rule:evenodd;stroke:#0000FF;stroke-width:2.0px;stroke-linecap:butt;stroke-linejoin:miter;stroke-opacity:1\"/>\n",
       "<path class=\"bond-3 atom-3 atom-4\" d=\"M 169.6,141.9 L 138.0,123.6\" style=\"fill:none;fill-rule:evenodd;stroke:#000000;stroke-width:2.0px;stroke-linecap:butt;stroke-linejoin:miter;stroke-opacity:1\"/>\n",
       "<path class=\"bond-4 atom-0 atom-5\" d=\"M 376.6,181.0 L 337.8,248.0\" style=\"fill:none;fill-rule:evenodd;stroke:#000000;stroke-width:2.0px;stroke-linecap:butt;stroke-linejoin:miter;stroke-opacity:1\"/>\n",
       "<path class=\"bond-5 atom-0 atom-6\" d=\"M 376.6,181.0 L 415.3,248.1\" style=\"fill:none;fill-rule:evenodd;stroke:#000000;stroke-width:2.0px;stroke-linecap:butt;stroke-linejoin:miter;stroke-opacity:1\"/>\n",
       "<path class=\"bond-6 atom-0 atom-7\" d=\"M 376.6,181.0 L 446.8,140.6\" style=\"fill:none;fill-rule:evenodd;stroke:#000000;stroke-width:2.0px;stroke-linecap:butt;stroke-linejoin:miter;stroke-opacity:1\"/>\n",
       "<path class=\"bond-7 atom-4 atom-8\" d=\"M 123.4,132.1 L 123.5,51.9\" style=\"fill:none;fill-rule:evenodd;stroke:#000000;stroke-width:2.0px;stroke-linecap:butt;stroke-linejoin:miter;stroke-opacity:1\"/>\n",
       "<path class=\"bond-8 atom-4 atom-9\" d=\"M 123.4,132.1 L 53.2,172.5\" style=\"fill:none;fill-rule:evenodd;stroke:#000000;stroke-width:2.0px;stroke-linecap:butt;stroke-linejoin:miter;stroke-opacity:1\"/>\n",
       "<path class=\"atom-1\" d=\"M 284.2 141.9 Q 284.5 142.0, 285.9 142.6 Q 287.2 143.2, 288.6 143.5 Q 290.1 143.8, 291.5 143.8 Q 294.2 143.8, 295.8 142.6 Q 297.3 141.2, 297.3 139.0 Q 297.3 137.4, 296.5 136.4 Q 295.8 135.5, 294.6 135.0 Q 293.4 134.4, 291.4 133.8 Q 288.9 133.1, 287.3 132.4 Q 285.9 131.6, 284.8 130.1 Q 283.7 128.6, 283.7 126.0 Q 283.7 122.5, 286.1 120.3 Q 288.6 118.1, 293.4 118.1 Q 296.7 118.1, 300.4 119.6 L 299.5 122.7 Q 296.1 121.3, 293.5 121.3 Q 290.7 121.3, 289.2 122.5 Q 287.7 123.6, 287.7 125.6 Q 287.7 127.1, 288.5 128.0 Q 289.3 128.9, 290.4 129.4 Q 291.6 130.0, 293.5 130.6 Q 296.1 131.4, 297.6 132.2 Q 299.1 133.0, 300.2 134.6 Q 301.3 136.2, 301.3 139.0 Q 301.3 142.9, 298.7 145.0 Q 296.1 147.1, 291.7 147.1 Q 289.2 147.1, 287.3 146.5 Q 285.4 146.0, 283.1 145.1 L 284.2 141.9 \" fill=\"#CCCC00\"/>\n",
       "<path class=\"atom-2\" d=\"M 279.3 34.8 Q 279.3 28.0, 282.7 24.2 Q 286.0 20.4, 292.3 20.4 Q 298.6 20.4, 301.9 24.2 Q 305.3 28.0, 305.3 34.8 Q 305.3 41.7, 301.9 45.6 Q 298.5 49.5, 292.3 49.5 Q 286.1 49.5, 282.7 45.6 Q 279.3 41.7, 279.3 34.8 M 292.3 46.3 Q 296.6 46.3, 298.9 43.4 Q 301.3 40.5, 301.3 34.8 Q 301.3 29.2, 298.9 26.4 Q 296.6 23.6, 292.3 23.6 Q 288.0 23.6, 285.6 26.4 Q 283.3 29.2, 283.3 34.8 Q 283.3 40.5, 285.6 43.4 Q 288.0 46.3, 292.3 46.3 \" fill=\"#FF0000\"/>\n",
       "<path class=\"atom-3\" d=\"M 201.5 166.7 L 210.8 181.7 Q 211.7 183.2, 213.2 185.9 Q 214.7 188.6, 214.8 188.7 L 214.8 166.7 L 218.5 166.7 L 218.5 195.0 L 214.6 195.0 L 204.7 178.6 Q 203.5 176.7, 202.3 174.5 Q 201.1 172.3, 200.7 171.6 L 200.7 195.0 L 197.0 195.0 L 197.0 166.7 L 201.5 166.7 \" fill=\"#0000FF\"/>\n",
       "<path class=\"atom-5\" d=\"M 316.7 251.2 L 320.6 251.2 L 320.6 263.3 L 335.0 263.3 L 335.0 251.2 L 338.9 251.2 L 338.9 279.5 L 335.0 279.5 L 335.0 266.5 L 320.6 266.5 L 320.6 279.5 L 316.7 279.5 L 316.7 251.2 \" fill=\"#000000\"/>\n",
       "<path class=\"atom-6\" d=\"M 414.2 251.3 L 418.0 251.3 L 418.0 263.3 L 432.5 263.3 L 432.5 251.3 L 436.4 251.3 L 436.4 279.6 L 432.5 279.6 L 432.5 266.5 L 418.0 266.5 L 418.0 279.6 L 414.2 279.6 L 414.2 251.3 \" fill=\"#000000\"/>\n",
       "<path class=\"atom-7\" d=\"M 450.0 118.2 L 453.8 118.2 L 453.8 130.2 L 468.3 130.2 L 468.3 118.2 L 472.2 118.2 L 472.2 146.5 L 468.3 146.5 L 468.3 133.4 L 453.8 133.4 L 453.8 146.5 L 450.0 146.5 L 450.0 118.2 \" fill=\"#000000\"/>\n",
       "<path class=\"atom-8\" d=\"M 112.4 20.4 L 116.2 20.4 L 116.2 32.5 L 130.7 32.5 L 130.7 20.4 L 134.5 20.4 L 134.5 48.7 L 130.7 48.7 L 130.7 35.7 L 116.2 35.7 L 116.2 48.7 L 112.4 48.7 L 112.4 20.4 \" fill=\"#000000\"/>\n",
       "<path class=\"atom-9\" d=\"M 27.8 166.6 L 31.7 166.6 L 31.7 178.6 L 46.2 178.6 L 46.2 166.6 L 50.0 166.6 L 50.0 194.9 L 46.2 194.9 L 46.2 181.8 L 31.7 181.8 L 31.7 194.9 L 27.8 194.9 L 27.8 166.6 \" fill=\"#000000\"/>\n",
       "</svg>"
      ],
      "text/plain": [
       "<IPython.core.display.SVG object>"
      ]
     },
     "metadata": {},
     "output_type": "display_data"
    },
    {
     "name": "stdin",
     "output_type": "stream",
     "text": [
      " t155h [#6X4:1]-[#16X3+0:2]-[#7X2:3]~[#6X3:4] CS(=O)N=CCc1(ccccc1)\n"
     ]
    },
    {
     "name": "stdout",
     "output_type": "stream",
     "text": [
      "matched!\n"
     ]
    },
    {
     "data": {
      "image/svg+xml": [
       "<svg xmlns=\"http://www.w3.org/2000/svg\" xmlns:rdkit=\"http://www.rdkit.org/xml\" xmlns:xlink=\"http://www.w3.org/1999/xlink\" version=\"1.1\" baseProfile=\"full\" xml:space=\"preserve\" width=\"500px\" height=\"300px\" viewBox=\"0 0 500 300\">\n",
       "<!-- END OF HEADER -->\n",
       "<rect style=\"opacity:1.0;fill:#FFFFFF;stroke:none\" width=\"500.0\" height=\"300.0\" x=\"0.0\" y=\"0.0\"> </rect>\n",
       "<path class=\"bond-0 atom-0 atom-1\" d=\"M 80.6,207.0 L 100.0,195.7\" style=\"fill:none;fill-rule:evenodd;stroke:#000000;stroke-width:2.0px;stroke-linecap:butt;stroke-linejoin:miter;stroke-opacity:1\"/>\n",
       "<path class=\"bond-0 atom-0 atom-1\" d=\"M 100.0,195.7 L 119.4,184.3\" style=\"fill:none;fill-rule:evenodd;stroke:#CCCC00;stroke-width:2.0px;stroke-linecap:butt;stroke-linejoin:miter;stroke-opacity:1\"/>\n",
       "<path class=\"bond-1 atom-1 atom-2\" d=\"M 133.0,165.1 L 133.0,151.1\" style=\"fill:none;fill-rule:evenodd;stroke:#CCCC00;stroke-width:2.0px;stroke-linecap:butt;stroke-linejoin:miter;stroke-opacity:1\"/>\n",
       "<path class=\"bond-1 atom-1 atom-2\" d=\"M 133.0,151.1 L 132.9,137.1\" style=\"fill:none;fill-rule:evenodd;stroke:#FF0000;stroke-width:2.0px;stroke-linecap:butt;stroke-linejoin:miter;stroke-opacity:1\"/>\n",
       "<path class=\"bond-1 atom-1 atom-2\" d=\"M 124.6,165.2 L 124.6,151.2\" style=\"fill:none;fill-rule:evenodd;stroke:#CCCC00;stroke-width:2.0px;stroke-linecap:butt;stroke-linejoin:miter;stroke-opacity:1\"/>\n",
       "<path class=\"bond-1 atom-1 atom-2\" d=\"M 124.6,151.2 L 124.5,137.2\" style=\"fill:none;fill-rule:evenodd;stroke:#FF0000;stroke-width:2.0px;stroke-linecap:butt;stroke-linejoin:miter;stroke-opacity:1\"/>\n",
       "<path class=\"bond-2 atom-1 atom-3\" d=\"M 138.3,184.3 L 152.4,192.3\" style=\"fill:none;fill-rule:evenodd;stroke:#CCCC00;stroke-width:2.0px;stroke-linecap:butt;stroke-linejoin:miter;stroke-opacity:1\"/>\n",
       "<path class=\"bond-2 atom-1 atom-3\" d=\"M 152.4,192.3 L 166.6,200.4\" style=\"fill:none;fill-rule:evenodd;stroke:#0000FF;stroke-width:2.0px;stroke-linecap:butt;stroke-linejoin:miter;stroke-opacity:1\"/>\n",
       "<path class=\"bond-3 atom-3 atom-4\" d=\"M 188.3,200.3 L 207.0,189.4\" style=\"fill:none;fill-rule:evenodd;stroke:#0000FF;stroke-width:2.0px;stroke-linecap:butt;stroke-linejoin:miter;stroke-opacity:1\"/>\n",
       "<path class=\"bond-3 atom-3 atom-4\" d=\"M 207.0,189.4 L 225.7,178.5\" style=\"fill:none;fill-rule:evenodd;stroke:#000000;stroke-width:2.0px;stroke-linecap:butt;stroke-linejoin:miter;stroke-opacity:1\"/>\n",
       "<path class=\"bond-3 atom-3 atom-4\" d=\"M 184.0,193.0 L 200.7,183.4\" style=\"fill:none;fill-rule:evenodd;stroke:#0000FF;stroke-width:2.0px;stroke-linecap:butt;stroke-linejoin:miter;stroke-opacity:1\"/>\n",
       "<path class=\"bond-3 atom-3 atom-4\" d=\"M 200.7,183.4 L 217.3,173.7\" style=\"fill:none;fill-rule:evenodd;stroke:#000000;stroke-width:2.0px;stroke-linecap:butt;stroke-linejoin:miter;stroke-opacity:1\"/>\n",
       "<path class=\"bond-4 atom-4 atom-5\" d=\"M 225.7,178.5 L 274.3,206.3\" style=\"fill:none;fill-rule:evenodd;stroke:#000000;stroke-width:2.0px;stroke-linecap:butt;stroke-linejoin:miter;stroke-opacity:1\"/>\n",
       "<path class=\"bond-5 atom-5 atom-6\" d=\"M 274.3,206.3 L 322.6,178.1\" style=\"fill:none;fill-rule:evenodd;stroke:#000000;stroke-width:2.0px;stroke-linecap:butt;stroke-linejoin:miter;stroke-opacity:1\"/>\n",
       "<path class=\"bond-6 atom-6 atom-11\" d=\"M 322.6,178.1 L 371.1,205.9\" style=\"fill:none;fill-rule:evenodd;stroke:#000000;stroke-width:2.0px;stroke-linecap:butt;stroke-linejoin:miter;stroke-opacity:1\"/>\n",
       "<path class=\"bond-6 atom-6 atom-11\" d=\"M 331.0,173.3 L 371.1,196.2\" style=\"fill:none;fill-rule:evenodd;stroke:#000000;stroke-width:2.0px;stroke-linecap:butt;stroke-linejoin:miter;stroke-opacity:1\"/>\n",
       "<path class=\"bond-7 atom-6 atom-7\" d=\"M 322.6,178.1 L 322.4,122.2\" style=\"fill:none;fill-rule:evenodd;stroke:#000000;stroke-width:2.0px;stroke-linecap:butt;stroke-linejoin:miter;stroke-opacity:1\"/>\n",
       "<path class=\"bond-8 atom-7 atom-8\" d=\"M 322.4,122.2 L 370.7,94.1\" style=\"fill:none;fill-rule:evenodd;stroke:#000000;stroke-width:2.0px;stroke-linecap:butt;stroke-linejoin:miter;stroke-opacity:1\"/>\n",
       "<path class=\"bond-8 atom-7 atom-8\" d=\"M 330.8,127.0 L 370.8,103.8\" style=\"fill:none;fill-rule:evenodd;stroke:#000000;stroke-width:2.0px;stroke-linecap:butt;stroke-linejoin:miter;stroke-opacity:1\"/>\n",
       "<path class=\"bond-9 atom-8 atom-9\" d=\"M 370.7,94.1 L 419.2,121.9\" style=\"fill:none;fill-rule:evenodd;stroke:#000000;stroke-width:2.0px;stroke-linecap:butt;stroke-linejoin:miter;stroke-opacity:1\"/>\n",
       "<path class=\"bond-10 atom-9 atom-10\" d=\"M 419.2,121.9 L 419.4,177.8\" style=\"fill:none;fill-rule:evenodd;stroke:#000000;stroke-width:2.0px;stroke-linecap:butt;stroke-linejoin:miter;stroke-opacity:1\"/>\n",
       "<path class=\"bond-10 atom-9 atom-10\" d=\"M 410.9,126.7 L 411.0,173.0\" style=\"fill:none;fill-rule:evenodd;stroke:#000000;stroke-width:2.0px;stroke-linecap:butt;stroke-linejoin:miter;stroke-opacity:1\"/>\n",
       "<path class=\"bond-11 atom-10 atom-11\" d=\"M 419.4,177.8 L 371.1,205.9\" style=\"fill:none;fill-rule:evenodd;stroke:#000000;stroke-width:2.0px;stroke-linecap:butt;stroke-linejoin:miter;stroke-opacity:1\"/>\n",
       "<path class=\"bond-12 atom-0 atom-12\" d=\"M 80.6,207.0 L 100.7,241.6\" style=\"fill:none;fill-rule:evenodd;stroke:#000000;stroke-width:2.0px;stroke-linecap:butt;stroke-linejoin:miter;stroke-opacity:1\"/>\n",
       "<path class=\"bond-13 atom-0 atom-13\" d=\"M 80.6,207.0 L 60.6,241.8\" style=\"fill:none;fill-rule:evenodd;stroke:#000000;stroke-width:2.0px;stroke-linecap:butt;stroke-linejoin:miter;stroke-opacity:1\"/>\n",
       "<path class=\"bond-14 atom-0 atom-14\" d=\"M 80.6,207.0 L 43.2,185.6\" style=\"fill:none;fill-rule:evenodd;stroke:#000000;stroke-width:2.0px;stroke-linecap:butt;stroke-linejoin:miter;stroke-opacity:1\"/>\n",
       "<path class=\"bond-15 atom-4 atom-15\" d=\"M 225.7,178.5 L 225.6,136.3\" style=\"fill:none;fill-rule:evenodd;stroke:#000000;stroke-width:2.0px;stroke-linecap:butt;stroke-linejoin:miter;stroke-opacity:1\"/>\n",
       "<path class=\"bond-16 atom-5 atom-16\" d=\"M 274.3,206.3 L 294.4,240.9\" style=\"fill:none;fill-rule:evenodd;stroke:#000000;stroke-width:2.0px;stroke-linecap:butt;stroke-linejoin:miter;stroke-opacity:1\"/>\n",
       "<path class=\"bond-17 atom-5 atom-17\" d=\"M 274.3,206.3 L 254.3,241.1\" style=\"fill:none;fill-rule:evenodd;stroke:#000000;stroke-width:2.0px;stroke-linecap:butt;stroke-linejoin:miter;stroke-opacity:1\"/>\n",
       "<path class=\"bond-18 atom-7 atom-18\" d=\"M 322.4,122.2 L 285.0,100.8\" style=\"fill:none;fill-rule:evenodd;stroke:#000000;stroke-width:2.0px;stroke-linecap:butt;stroke-linejoin:miter;stroke-opacity:1\"/>\n",
       "<path class=\"bond-19 atom-8 atom-19\" d=\"M 370.7,94.1 L 370.6,51.9\" style=\"fill:none;fill-rule:evenodd;stroke:#000000;stroke-width:2.0px;stroke-linecap:butt;stroke-linejoin:miter;stroke-opacity:1\"/>\n",
       "<path class=\"bond-20 atom-9 atom-20\" d=\"M 419.2,121.9 L 456.4,100.2\" style=\"fill:none;fill-rule:evenodd;stroke:#000000;stroke-width:2.0px;stroke-linecap:butt;stroke-linejoin:miter;stroke-opacity:1\"/>\n",
       "<path class=\"bond-21 atom-10 atom-21\" d=\"M 419.4,177.8 L 456.8,199.2\" style=\"fill:none;fill-rule:evenodd;stroke:#000000;stroke-width:2.0px;stroke-linecap:butt;stroke-linejoin:miter;stroke-opacity:1\"/>\n",
       "<path class=\"bond-22 atom-11 atom-22\" d=\"M 371.1,205.9 L 371.3,248.1\" style=\"fill:none;fill-rule:evenodd;stroke:#000000;stroke-width:2.0px;stroke-linecap:butt;stroke-linejoin:miter;stroke-opacity:1\"/>\n",
       "<path class=\"atom-1\" d=\"M 122.2 187.0 Q 122.4 187.1, 123.5 187.6 Q 124.7 188.0, 125.9 188.3 Q 127.1 188.6, 128.3 188.6 Q 130.6 188.6, 131.9 187.5 Q 133.2 186.4, 133.2 184.5 Q 133.2 183.2, 132.5 182.4 Q 131.9 181.6, 130.9 181.1 Q 129.9 180.7, 128.2 180.2 Q 126.1 179.6, 124.8 179.0 Q 123.5 178.4, 122.6 177.1 Q 121.8 175.8, 121.8 173.7 Q 121.8 170.7, 123.8 168.8 Q 125.8 167.0, 129.9 167.0 Q 132.6 167.0, 135.7 168.3 L 135.0 170.9 Q 132.1 169.7, 130.0 169.7 Q 127.6 169.7, 126.4 170.7 Q 125.1 171.6, 125.1 173.3 Q 125.1 174.5, 125.8 175.3 Q 126.4 176.1, 127.4 176.5 Q 128.3 177.0, 130.0 177.5 Q 132.1 178.1, 133.4 178.8 Q 134.6 179.5, 135.6 180.8 Q 136.5 182.2, 136.5 184.5 Q 136.5 187.8, 134.3 189.6 Q 132.1 191.3, 128.4 191.3 Q 126.3 191.3, 124.7 190.8 Q 123.1 190.4, 121.3 189.6 L 122.2 187.0 \" fill=\"#CCCC00\"/>\n",
       "<path class=\"atom-2\" d=\"M 117.8 123.0 Q 117.8 117.3, 120.6 114.1 Q 123.4 110.9, 128.7 110.9 Q 133.9 110.9, 136.8 114.1 Q 139.6 117.3, 139.6 123.0 Q 139.6 128.7, 136.7 132.0 Q 133.9 135.3, 128.7 135.3 Q 123.4 135.3, 120.6 132.0 Q 117.8 128.8, 117.8 123.0 M 128.7 132.6 Q 132.3 132.6, 134.2 130.2 Q 136.2 127.7, 136.2 123.0 Q 136.2 118.3, 134.2 116.0 Q 132.3 113.6, 128.7 113.6 Q 125.1 113.6, 123.1 115.9 Q 121.1 118.3, 121.1 123.0 Q 121.1 127.8, 123.1 130.2 Q 125.1 132.6, 128.7 132.6 \" fill=\"#FF0000\"/>\n",
       "<path class=\"atom-3\" d=\"M 172.2 194.7 L 179.9 207.3 Q 180.7 208.6, 182.0 210.8 Q 183.2 213.1, 183.3 213.2 L 183.3 194.7 L 186.4 194.7 L 186.4 218.5 L 183.2 218.5 L 174.8 204.7 Q 173.8 203.1, 172.8 201.3 Q 171.8 199.4, 171.5 198.9 L 171.5 218.5 L 168.4 218.5 L 168.4 194.7 L 172.2 194.7 \" fill=\"#0000FF\"/>\n",
       "<path class=\"atom-12\" d=\"M 99.4 243.4 L 102.6 243.4 L 102.6 253.5 L 114.8 253.5 L 114.8 243.4 L 118.0 243.4 L 118.0 267.2 L 114.8 267.2 L 114.8 256.2 L 102.6 256.2 L 102.6 267.2 L 99.4 267.2 L 99.4 243.4 \" fill=\"#000000\"/>\n",
       "<path class=\"atom-13\" d=\"M 43.5 243.6 L 46.7 243.6 L 46.7 253.7 L 58.8 253.7 L 58.8 243.6 L 62.1 243.6 L 62.1 267.4 L 58.8 267.4 L 58.8 256.4 L 46.7 256.4 L 46.7 267.4 L 43.5 267.4 L 43.5 243.6 \" fill=\"#000000\"/>\n",
       "<path class=\"atom-14\" d=\"M 22.7 167.3 L 25.9 167.3 L 25.9 177.4 L 38.1 177.4 L 38.1 167.3 L 41.3 167.3 L 41.3 191.1 L 38.1 191.1 L 38.1 180.1 L 25.9 180.1 L 25.9 191.1 L 22.7 191.1 L 22.7 167.3 \" fill=\"#000000\"/>\n",
       "<path class=\"atom-15\" d=\"M 216.2 110.7 L 219.5 110.7 L 219.5 120.8 L 231.6 120.8 L 231.6 110.7 L 234.8 110.7 L 234.8 134.4 L 231.6 134.4 L 231.6 123.5 L 219.5 123.5 L 219.5 134.4 L 216.2 134.4 L 216.2 110.7 \" fill=\"#000000\"/>\n",
       "<path class=\"atom-16\" d=\"M 293.1 242.7 L 296.3 242.7 L 296.3 252.8 L 308.5 252.8 L 308.5 242.7 L 311.7 242.7 L 311.7 266.5 L 308.5 266.5 L 308.5 255.5 L 296.3 255.5 L 296.3 266.5 L 293.1 266.5 L 293.1 242.7 \" fill=\"#000000\"/>\n",
       "<path class=\"atom-17\" d=\"M 237.2 242.9 L 240.4 242.9 L 240.4 253.0 L 252.6 253.0 L 252.6 242.9 L 255.8 242.9 L 255.8 266.7 L 252.6 266.7 L 252.6 255.7 L 240.4 255.7 L 240.4 266.7 L 237.2 266.7 L 237.2 242.9 \" fill=\"#000000\"/>\n",
       "<path class=\"atom-18\" d=\"M 264.6 82.5 L 267.8 82.5 L 267.8 92.6 L 279.9 92.6 L 279.9 82.5 L 283.2 82.5 L 283.2 106.3 L 279.9 106.3 L 279.9 95.3 L 267.8 95.3 L 267.8 106.3 L 264.6 106.3 L 264.6 82.5 \" fill=\"#000000\"/>\n",
       "<path class=\"atom-19\" d=\"M 361.2 26.3 L 364.4 26.3 L 364.4 36.4 L 376.6 36.4 L 376.6 26.3 L 379.8 26.3 L 379.8 50.0 L 376.6 50.0 L 376.6 39.1 L 364.4 39.1 L 364.4 50.0 L 361.2 50.0 L 361.2 26.3 \" fill=\"#000000\"/>\n",
       "<path class=\"atom-20\" d=\"M 458.3 81.9 L 461.5 81.9 L 461.5 92.0 L 473.6 92.0 L 473.6 81.9 L 476.9 81.9 L 476.9 105.6 L 473.6 105.6 L 473.6 94.6 L 461.5 94.6 L 461.5 105.6 L 458.3 105.6 L 458.3 81.9 \" fill=\"#000000\"/>\n",
       "<path class=\"atom-21\" d=\"M 458.7 193.7 L 461.9 193.7 L 461.9 203.8 L 474.1 203.8 L 474.1 193.7 L 477.3 193.7 L 477.3 217.5 L 474.1 217.5 L 474.1 206.5 L 461.9 206.5 L 461.9 217.5 L 458.7 217.5 L 458.7 193.7 \" fill=\"#000000\"/>\n",
       "<path class=\"atom-22\" d=\"M 362.0 250.0 L 365.2 250.0 L 365.2 260.1 L 377.4 260.1 L 377.4 250.0 L 380.6 250.0 L 380.6 273.7 L 377.4 273.7 L 377.4 262.8 L 365.2 262.8 L 365.2 273.7 L 362.0 273.7 L 362.0 250.0 \" fill=\"#000000\"/>\n",
       "</svg>"
      ],
      "text/plain": [
       "<IPython.core.display.SVG object>"
      ]
     },
     "metadata": {},
     "output_type": "display_data"
    },
    {
     "name": "stdin",
     "output_type": "stream",
     "text": [
      " t155h [#6X4:1]-[#16X3+0:2]-[#7X2:3]~[#6X3:4] CS(=O)N=Cc1(ccccc1)\n"
     ]
    },
    {
     "name": "stdout",
     "output_type": "stream",
     "text": [
      "matched!\n"
     ]
    },
    {
     "data": {
      "image/svg+xml": [
       "<svg xmlns=\"http://www.w3.org/2000/svg\" xmlns:rdkit=\"http://www.rdkit.org/xml\" xmlns:xlink=\"http://www.w3.org/1999/xlink\" version=\"1.1\" baseProfile=\"full\" xml:space=\"preserve\" width=\"500px\" height=\"300px\" viewBox=\"0 0 500 300\">\n",
       "<!-- END OF HEADER -->\n",
       "<rect style=\"opacity:1.0;fill:#FFFFFF;stroke:none\" width=\"500.0\" height=\"300.0\" x=\"0.0\" y=\"0.0\"> </rect>\n",
       "<path class=\"bond-0 atom-0 atom-1\" d=\"M 90.3,118.8 L 111.8,106.5\" style=\"fill:none;fill-rule:evenodd;stroke:#000000;stroke-width:2.0px;stroke-linecap:butt;stroke-linejoin:miter;stroke-opacity:1\"/>\n",
       "<path class=\"bond-0 atom-0 atom-1\" d=\"M 111.8,106.5 L 133.2,94.2\" style=\"fill:none;fill-rule:evenodd;stroke:#CCCC00;stroke-width:2.0px;stroke-linecap:butt;stroke-linejoin:miter;stroke-opacity:1\"/>\n",
       "<path class=\"bond-1 atom-1 atom-2\" d=\"M 148.3,73.2 L 148.3,57.9\" style=\"fill:none;fill-rule:evenodd;stroke:#CCCC00;stroke-width:2.0px;stroke-linecap:butt;stroke-linejoin:miter;stroke-opacity:1\"/>\n",
       "<path class=\"bond-1 atom-1 atom-2\" d=\"M 148.3,57.9 L 148.4,42.5\" style=\"fill:none;fill-rule:evenodd;stroke:#FF0000;stroke-width:2.0px;stroke-linecap:butt;stroke-linejoin:miter;stroke-opacity:1\"/>\n",
       "<path class=\"bond-1 atom-1 atom-2\" d=\"M 139.0,73.2 L 139.1,57.8\" style=\"fill:none;fill-rule:evenodd;stroke:#CCCC00;stroke-width:2.0px;stroke-linecap:butt;stroke-linejoin:miter;stroke-opacity:1\"/>\n",
       "<path class=\"bond-1 atom-1 atom-2\" d=\"M 139.1,57.8 L 139.2,42.4\" style=\"fill:none;fill-rule:evenodd;stroke:#FF0000;stroke-width:2.0px;stroke-linecap:butt;stroke-linejoin:miter;stroke-opacity:1\"/>\n",
       "<path class=\"bond-2 atom-1 atom-3\" d=\"M 154.0,94.3 L 169.4,103.3\" style=\"fill:none;fill-rule:evenodd;stroke:#CCCC00;stroke-width:2.0px;stroke-linecap:butt;stroke-linejoin:miter;stroke-opacity:1\"/>\n",
       "<path class=\"bond-2 atom-1 atom-3\" d=\"M 169.4,103.3 L 184.8,112.2\" style=\"fill:none;fill-rule:evenodd;stroke:#0000FF;stroke-width:2.0px;stroke-linecap:butt;stroke-linejoin:miter;stroke-opacity:1\"/>\n",
       "<path class=\"bond-3 atom-3 atom-4\" d=\"M 208.6,112.3 L 229.3,100.5\" style=\"fill:none;fill-rule:evenodd;stroke:#0000FF;stroke-width:2.0px;stroke-linecap:butt;stroke-linejoin:miter;stroke-opacity:1\"/>\n",
       "<path class=\"bond-3 atom-3 atom-4\" d=\"M 229.3,100.5 L 250.0,88.6\" style=\"fill:none;fill-rule:evenodd;stroke:#000000;stroke-width:2.0px;stroke-linecap:butt;stroke-linejoin:miter;stroke-opacity:1\"/>\n",
       "<path class=\"bond-3 atom-3 atom-4\" d=\"M 204.0,104.3 L 222.4,93.8\" style=\"fill:none;fill-rule:evenodd;stroke:#0000FF;stroke-width:2.0px;stroke-linecap:butt;stroke-linejoin:miter;stroke-opacity:1\"/>\n",
       "<path class=\"bond-3 atom-3 atom-4\" d=\"M 222.4,93.8 L 240.8,83.3\" style=\"fill:none;fill-rule:evenodd;stroke:#000000;stroke-width:2.0px;stroke-linecap:butt;stroke-linejoin:miter;stroke-opacity:1\"/>\n",
       "<path class=\"bond-4 atom-4 atom-5\" d=\"M 250.0,88.6 L 303.1,119.5\" style=\"fill:none;fill-rule:evenodd;stroke:#000000;stroke-width:2.0px;stroke-linecap:butt;stroke-linejoin:miter;stroke-opacity:1\"/>\n",
       "<path class=\"bond-5 atom-5 atom-10\" d=\"M 303.1,119.5 L 356.4,89.0\" style=\"fill:none;fill-rule:evenodd;stroke:#000000;stroke-width:2.0px;stroke-linecap:butt;stroke-linejoin:miter;stroke-opacity:1\"/>\n",
       "<path class=\"bond-5 atom-5 atom-10\" d=\"M 312.3,124.9 L 356.4,99.7\" style=\"fill:none;fill-rule:evenodd;stroke:#000000;stroke-width:2.0px;stroke-linecap:butt;stroke-linejoin:miter;stroke-opacity:1\"/>\n",
       "<path class=\"bond-6 atom-5 atom-6\" d=\"M 303.1,119.5 L 302.9,181.0\" style=\"fill:none;fill-rule:evenodd;stroke:#000000;stroke-width:2.0px;stroke-linecap:butt;stroke-linejoin:miter;stroke-opacity:1\"/>\n",
       "<path class=\"bond-7 atom-6 atom-7\" d=\"M 302.9,181.0 L 356.0,211.9\" style=\"fill:none;fill-rule:evenodd;stroke:#000000;stroke-width:2.0px;stroke-linecap:butt;stroke-linejoin:miter;stroke-opacity:1\"/>\n",
       "<path class=\"bond-7 atom-6 atom-7\" d=\"M 312.1,175.7 L 356.0,201.2\" style=\"fill:none;fill-rule:evenodd;stroke:#000000;stroke-width:2.0px;stroke-linecap:butt;stroke-linejoin:miter;stroke-opacity:1\"/>\n",
       "<path class=\"bond-8 atom-7 atom-8\" d=\"M 356.0,211.9 L 409.3,181.4\" style=\"fill:none;fill-rule:evenodd;stroke:#000000;stroke-width:2.0px;stroke-linecap:butt;stroke-linejoin:miter;stroke-opacity:1\"/>\n",
       "<path class=\"bond-9 atom-8 atom-9\" d=\"M 409.3,181.4 L 409.5,119.9\" style=\"fill:none;fill-rule:evenodd;stroke:#000000;stroke-width:2.0px;stroke-linecap:butt;stroke-linejoin:miter;stroke-opacity:1\"/>\n",
       "<path class=\"bond-9 atom-8 atom-9\" d=\"M 400.1,176.0 L 400.3,125.2\" style=\"fill:none;fill-rule:evenodd;stroke:#000000;stroke-width:2.0px;stroke-linecap:butt;stroke-linejoin:miter;stroke-opacity:1\"/>\n",
       "<path class=\"bond-10 atom-9 atom-10\" d=\"M 409.5,119.9 L 356.4,89.0\" style=\"fill:none;fill-rule:evenodd;stroke:#000000;stroke-width:2.0px;stroke-linecap:butt;stroke-linejoin:miter;stroke-opacity:1\"/>\n",
       "<path class=\"bond-11 atom-0 atom-11\" d=\"M 90.3,118.8 L 112.2,157.0\" style=\"fill:none;fill-rule:evenodd;stroke:#000000;stroke-width:2.0px;stroke-linecap:butt;stroke-linejoin:miter;stroke-opacity:1\"/>\n",
       "<path class=\"bond-12 atom-0 atom-12\" d=\"M 90.3,118.8 L 68.2,156.8\" style=\"fill:none;fill-rule:evenodd;stroke:#000000;stroke-width:2.0px;stroke-linecap:butt;stroke-linejoin:miter;stroke-opacity:1\"/>\n",
       "<path class=\"bond-13 atom-0 atom-13\" d=\"M 90.3,118.8 L 49.4,95.0\" style=\"fill:none;fill-rule:evenodd;stroke:#000000;stroke-width:2.0px;stroke-linecap:butt;stroke-linejoin:miter;stroke-opacity:1\"/>\n",
       "<path class=\"bond-14 atom-4 atom-14\" d=\"M 250.0,88.6 L 250.2,42.3\" style=\"fill:none;fill-rule:evenodd;stroke:#000000;stroke-width:2.0px;stroke-linecap:butt;stroke-linejoin:miter;stroke-opacity:1\"/>\n",
       "<path class=\"bond-15 atom-6 atom-15\" d=\"M 302.9,181.0 L 261.8,204.5\" style=\"fill:none;fill-rule:evenodd;stroke:#000000;stroke-width:2.0px;stroke-linecap:butt;stroke-linejoin:miter;stroke-opacity:1\"/>\n",
       "<path class=\"bond-16 atom-7 atom-16\" d=\"M 356.0,211.9 L 355.8,258.2\" style=\"fill:none;fill-rule:evenodd;stroke:#000000;stroke-width:2.0px;stroke-linecap:butt;stroke-linejoin:miter;stroke-opacity:1\"/>\n",
       "<path class=\"bond-17 atom-8 atom-17\" d=\"M 409.3,181.4 L 450.1,205.1\" style=\"fill:none;fill-rule:evenodd;stroke:#000000;stroke-width:2.0px;stroke-linecap:butt;stroke-linejoin:miter;stroke-opacity:1\"/>\n",
       "<path class=\"bond-18 atom-9 atom-18\" d=\"M 409.5,119.9 L 450.6,96.4\" style=\"fill:none;fill-rule:evenodd;stroke:#000000;stroke-width:2.0px;stroke-linecap:butt;stroke-linejoin:miter;stroke-opacity:1\"/>\n",
       "<path class=\"bond-19 atom-10 atom-19\" d=\"M 356.4,89.0 L 356.6,42.7\" style=\"fill:none;fill-rule:evenodd;stroke:#000000;stroke-width:2.0px;stroke-linecap:butt;stroke-linejoin:miter;stroke-opacity:1\"/>\n",
       "<path class=\"atom-1\" d=\"M 136.2 97.2 Q 136.5 97.3, 137.7 97.8 Q 139.0 98.4, 140.3 98.7 Q 141.6 99.0, 143.0 99.0 Q 145.4 99.0, 146.9 97.8 Q 148.3 96.6, 148.3 94.5 Q 148.3 93.1, 147.6 92.2 Q 146.9 91.3, 145.8 90.8 Q 144.7 90.3, 142.8 89.8 Q 140.5 89.1, 139.1 88.4 Q 137.7 87.7, 136.7 86.3 Q 135.8 84.9, 135.8 82.6 Q 135.8 79.3, 138.0 77.3 Q 140.2 75.3, 144.7 75.3 Q 147.7 75.3, 151.1 76.7 L 150.3 79.5 Q 147.1 78.2, 144.8 78.2 Q 142.2 78.2, 140.8 79.3 Q 139.4 80.3, 139.5 82.1 Q 139.5 83.5, 140.2 84.4 Q 140.9 85.2, 141.9 85.7 Q 143.0 86.2, 144.8 86.8 Q 147.1 87.5, 148.5 88.2 Q 149.9 89.0, 150.9 90.5 Q 152.0 91.9, 152.0 94.5 Q 152.0 98.1, 149.5 100.1 Q 147.1 102.0, 143.1 102.0 Q 140.8 102.0, 139.0 101.5 Q 137.3 101.0, 135.2 100.1 L 136.2 97.2 \" fill=\"#CCCC00\"/>\n",
       "<path class=\"atom-2\" d=\"M 131.8 26.9 Q 131.8 20.6, 134.9 17.1 Q 138.0 13.6, 143.8 13.6 Q 149.6 13.6, 152.7 17.1 Q 155.8 20.6, 155.8 26.9 Q 155.8 33.2, 152.7 36.9 Q 149.5 40.4, 143.8 40.4 Q 138.1 40.4, 134.9 36.9 Q 131.8 33.3, 131.8 26.9 M 143.8 37.5 Q 147.8 37.5, 149.9 34.8 Q 152.1 32.1, 152.1 26.9 Q 152.1 21.8, 149.9 19.2 Q 147.8 16.6, 143.8 16.6 Q 139.8 16.6, 137.7 19.2 Q 135.5 21.7, 135.5 26.9 Q 135.5 32.2, 137.7 34.8 Q 139.8 37.5, 143.8 37.5 \" fill=\"#FF0000\"/>\n",
       "<path class=\"atom-3\" d=\"M 190.9 106.1 L 199.5 119.9 Q 200.3 121.3, 201.7 123.8 Q 203.0 126.2, 203.1 126.4 L 203.1 106.1 L 206.6 106.1 L 206.6 132.2 L 203.0 132.2 L 193.8 117.1 Q 192.8 115.3, 191.6 113.3 Q 190.5 111.3, 190.2 110.6 L 190.2 132.2 L 186.8 132.2 L 186.8 106.1 L 190.9 106.1 \" fill=\"#0000FF\"/>\n",
       "<path class=\"atom-11\" d=\"M 110.6 159.0 L 114.1 159.0 L 114.1 170.1 L 127.5 170.1 L 127.5 159.0 L 131.0 159.0 L 131.0 185.1 L 127.5 185.1 L 127.5 173.1 L 114.1 173.1 L 114.1 185.1 L 110.6 185.1 L 110.6 159.0 \" fill=\"#000000\"/>\n",
       "<path class=\"atom-12\" d=\"M 49.2 158.8 L 52.7 158.8 L 52.7 169.9 L 66.1 169.9 L 66.1 158.8 L 69.6 158.8 L 69.6 184.9 L 66.1 184.9 L 66.1 172.9 L 52.7 172.9 L 52.7 184.9 L 49.2 184.9 L 49.2 158.8 \" fill=\"#000000\"/>\n",
       "<path class=\"atom-13\" d=\"M 27.0 74.8 L 30.5 74.8 L 30.5 85.9 L 43.9 85.9 L 43.9 74.8 L 47.4 74.8 L 47.4 100.9 L 43.9 100.9 L 43.9 88.9 L 30.5 88.9 L 30.5 100.9 L 27.0 100.9 L 27.0 74.8 \" fill=\"#000000\"/>\n",
       "<path class=\"atom-14\" d=\"M 240.0 14.2 L 243.5 14.2 L 243.5 25.3 L 256.9 25.3 L 256.9 14.2 L 260.4 14.2 L 260.4 40.3 L 256.9 40.3 L 256.9 28.2 L 243.5 28.2 L 243.5 40.3 L 240.0 40.3 L 240.0 14.2 \" fill=\"#000000\"/>\n",
       "<path class=\"atom-15\" d=\"M 239.3 198.5 L 242.9 198.5 L 242.9 209.6 L 256.2 209.6 L 256.2 198.5 L 259.8 198.5 L 259.8 224.6 L 256.2 224.6 L 256.2 212.5 L 242.9 212.5 L 242.9 224.6 L 239.3 224.6 L 239.3 198.5 \" fill=\"#000000\"/>\n",
       "<path class=\"atom-16\" d=\"M 345.5 260.3 L 349.1 260.3 L 349.1 271.4 L 362.4 271.4 L 362.4 260.3 L 365.9 260.3 L 365.9 286.4 L 362.4 286.4 L 362.4 274.3 L 349.1 274.3 L 349.1 286.4 L 345.5 286.4 L 345.5 260.3 \" fill=\"#000000\"/>\n",
       "<path class=\"atom-17\" d=\"M 452.1 199.2 L 455.7 199.2 L 455.7 210.3 L 469.0 210.3 L 469.0 199.2 L 472.6 199.2 L 472.6 225.3 L 469.0 225.3 L 469.0 213.3 L 455.7 213.3 L 455.7 225.3 L 452.1 225.3 L 452.1 199.2 \" fill=\"#000000\"/>\n",
       "<path class=\"atom-18\" d=\"M 452.6 76.4 L 456.1 76.4 L 456.1 87.5 L 469.5 87.5 L 469.5 76.4 L 473.0 76.4 L 473.0 102.5 L 469.5 102.5 L 469.5 90.4 L 456.1 90.4 L 456.1 102.5 L 452.6 102.5 L 452.6 76.4 \" fill=\"#000000\"/>\n",
       "<path class=\"atom-19\" d=\"M 346.4 14.5 L 349.9 14.5 L 349.9 25.6 L 363.3 25.6 L 363.3 14.5 L 366.8 14.5 L 366.8 40.6 L 363.3 40.6 L 363.3 28.6 L 349.9 28.6 L 349.9 40.6 L 346.4 40.6 L 346.4 14.5 \" fill=\"#000000\"/>\n",
       "</svg>"
      ],
      "text/plain": [
       "<IPython.core.display.SVG object>"
      ]
     },
     "metadata": {},
     "output_type": "display_data"
    },
    {
     "name": "stdin",
     "output_type": "stream",
     "text": [
      " t158h [*:1]-[#16X2:2]-[#16X3+1:3]-[*:4] S[SH2+]\n"
     ]
    },
    {
     "name": "stdout",
     "output_type": "stream",
     "text": [
      "matched!\n"
     ]
    },
    {
     "data": {
      "image/svg+xml": [
       "<svg xmlns=\"http://www.w3.org/2000/svg\" xmlns:rdkit=\"http://www.rdkit.org/xml\" xmlns:xlink=\"http://www.w3.org/1999/xlink\" version=\"1.1\" baseProfile=\"full\" xml:space=\"preserve\" width=\"500px\" height=\"300px\" viewBox=\"0 0 500 300\">\n",
       "<!-- END OF HEADER -->\n",
       "<rect style=\"opacity:1.0;fill:#FFFFFF;stroke:none\" width=\"500.0\" height=\"300.0\" x=\"0.0\" y=\"0.0\"> </rect>\n",
       "<path class=\"bond-0 atom-0 atom-1\" d=\"M 318.6,166.3 L 262.3,133.7\" style=\"fill:none;fill-rule:evenodd;stroke:#CCCC00;stroke-width:2.0px;stroke-linecap:butt;stroke-linejoin:miter;stroke-opacity:1\"/>\n",
       "<path class=\"bond-1 atom-0 atom-2\" d=\"M 330.8,191.3 L 330.7,220.3\" style=\"fill:none;fill-rule:evenodd;stroke:#CCCC00;stroke-width:2.0px;stroke-linecap:butt;stroke-linejoin:miter;stroke-opacity:1\"/>\n",
       "<path class=\"bond-1 atom-0 atom-2\" d=\"M 330.7,220.3 L 330.6,249.3\" style=\"fill:none;fill-rule:evenodd;stroke:#000000;stroke-width:2.0px;stroke-linecap:butt;stroke-linejoin:miter;stroke-opacity:1\"/>\n",
       "<path class=\"bond-2 atom-1 atom-3\" d=\"M 250.2,109.4 L 250.3,80.0\" style=\"fill:none;fill-rule:evenodd;stroke:#CCCC00;stroke-width:2.0px;stroke-linecap:butt;stroke-linejoin:miter;stroke-opacity:1\"/>\n",
       "<path class=\"bond-2 atom-1 atom-3\" d=\"M 250.3,80.0 L 250.3,50.7\" style=\"fill:none;fill-rule:evenodd;stroke:#000000;stroke-width:2.0px;stroke-linecap:butt;stroke-linejoin:miter;stroke-opacity:1\"/>\n",
       "<path class=\"bond-3 atom-1 atom-4\" d=\"M 238.0,133.6 L 210.8,149.3\" style=\"fill:none;fill-rule:evenodd;stroke:#CCCC00;stroke-width:2.0px;stroke-linecap:butt;stroke-linejoin:miter;stroke-opacity:1\"/>\n",
       "<path class=\"bond-3 atom-1 atom-4\" d=\"M 210.8,149.3 L 183.5,164.9\" style=\"fill:none;fill-rule:evenodd;stroke:#000000;stroke-width:2.0px;stroke-linecap:butt;stroke-linejoin:miter;stroke-opacity:1\"/>\n",
       "<path class=\"atom-0\" d=\"M 322.8 183.1 Q 323.1 183.2, 324.4 183.8 Q 325.8 184.3, 327.2 184.7 Q 328.7 185.0, 330.1 185.0 Q 332.8 185.0, 334.4 183.7 Q 335.9 182.4, 335.9 180.1 Q 335.9 178.6, 335.1 177.6 Q 334.4 176.7, 333.2 176.1 Q 332.0 175.6, 330.0 175.0 Q 327.4 174.3, 325.9 173.5 Q 324.4 172.8, 323.4 171.3 Q 322.3 169.8, 322.3 167.2 Q 322.3 163.7, 324.7 161.5 Q 327.2 159.3, 332.0 159.3 Q 335.2 159.3, 339.0 160.8 L 338.0 163.9 Q 334.6 162.5, 332.1 162.5 Q 329.3 162.5, 327.8 163.7 Q 326.3 164.8, 326.3 166.7 Q 326.3 168.3, 327.1 169.2 Q 327.9 170.1, 329.0 170.6 Q 330.2 171.1, 332.1 171.7 Q 334.6 172.5, 336.2 173.3 Q 337.7 174.1, 338.8 175.8 Q 339.9 177.4, 339.9 180.1 Q 339.9 184.1, 337.2 186.2 Q 334.6 188.3, 330.3 188.3 Q 327.8 188.3, 325.8 187.7 Q 324.0 187.2, 321.7 186.3 L 322.8 183.1 \" fill=\"#CCCC00\"/>\n",
       "<path class=\"atom-1\" d=\"M 242.2 136.3 Q 242.5 136.5, 243.8 137.0 Q 245.1 137.6, 246.6 137.9 Q 248.1 138.3, 249.5 138.3 Q 252.2 138.3, 253.7 137.0 Q 255.3 135.7, 255.3 133.4 Q 255.3 131.8, 254.5 130.9 Q 253.7 129.9, 252.5 129.4 Q 251.3 128.9, 249.3 128.3 Q 246.8 127.5, 245.3 126.8 Q 243.8 126.1, 242.7 124.5 Q 241.7 123.0, 241.7 120.5 Q 241.7 116.9, 244.1 114.7 Q 246.5 112.5, 251.3 112.5 Q 254.6 112.5, 258.3 114.1 L 257.4 117.1 Q 254.0 115.7, 251.5 115.7 Q 248.7 115.7, 247.2 116.9 Q 245.7 118.0, 245.7 120.0 Q 245.7 121.5, 246.5 122.4 Q 247.3 123.3, 248.4 123.9 Q 249.5 124.4, 251.5 125.0 Q 254.0 125.8, 255.5 126.6 Q 257.1 127.4, 258.1 129.0 Q 259.3 130.6, 259.3 133.4 Q 259.3 137.3, 256.6 139.4 Q 254.0 141.5, 249.7 141.5 Q 247.1 141.5, 245.2 140.9 Q 243.3 140.4, 241.1 139.5 L 242.2 136.3 \" fill=\"#CCCC00\"/>\n",
       "<path class=\"atom-1\" d=\"M 263.0 117.2 L 268.0 117.2 L 268.0 111.9 L 270.2 111.9 L 270.2 117.2 L 275.3 117.2 L 275.3 119.1 L 270.2 119.1 L 270.2 124.4 L 268.0 124.4 L 268.0 119.1 L 263.0 119.1 L 263.0 117.2 \" fill=\"#CCCC00\"/>\n",
       "<path class=\"atom-2\" d=\"M 319.5 252.4 L 323.4 252.4 L 323.4 264.5 L 337.8 264.5 L 337.8 252.4 L 341.7 252.4 L 341.7 280.7 L 337.8 280.7 L 337.8 267.7 L 323.4 267.7 L 323.4 280.7 L 319.5 280.7 L 319.5 252.4 \" fill=\"#000000\"/>\n",
       "<path class=\"atom-3\" d=\"M 239.3 19.3 L 243.1 19.3 L 243.1 31.3 L 257.6 31.3 L 257.6 19.3 L 261.5 19.3 L 261.5 47.6 L 257.6 47.6 L 257.6 34.5 L 243.1 34.5 L 243.1 47.6 L 239.3 47.6 L 239.3 19.3 \" fill=\"#000000\"/>\n",
       "<path class=\"atom-4\" d=\"M 158.3 158.9 L 162.2 158.9 L 162.2 170.9 L 176.6 170.9 L 176.6 158.9 L 180.5 158.9 L 180.5 187.2 L 176.6 187.2 L 176.6 174.1 L 162.2 174.1 L 162.2 187.2 L 158.3 187.2 L 158.3 158.9 \" fill=\"#000000\"/>\n",
       "</svg>"
      ],
      "text/plain": [
       "<IPython.core.display.SVG object>"
      ]
     },
     "metadata": {},
     "output_type": "display_data"
    },
    {
     "name": "stdin",
     "output_type": "stream",
     "text": [
      " t158h [*:1]-[#16X2:2]-[#16X3+1:3]-[*:4] c1(ccccc1)cS[SH2+]\n"
     ]
    },
    {
     "name": "stderr",
     "output_type": "stream",
     "text": [
      "Warning: OEParseSmiles() : unable to Kekulize SMILES:\n",
      "Warning: c1(ccccc1)cS[SH2+]\n"
     ]
    },
    {
     "name": "stdout",
     "output_type": "stream",
     "text": [
      "Unable to parse the SMILES string\n"
     ]
    },
    {
     "name": "stdin",
     "output_type": "stream",
     "text": [
      " t158h [*:1]-[#16X2:2]-[#16X3+1:3]-[*:4] c1(ccccc1)CS[SH2+]\n"
     ]
    },
    {
     "name": "stdout",
     "output_type": "stream",
     "text": [
      "matched!\n"
     ]
    },
    {
     "data": {
      "image/svg+xml": [
       "<svg xmlns=\"http://www.w3.org/2000/svg\" xmlns:rdkit=\"http://www.rdkit.org/xml\" xmlns:xlink=\"http://www.w3.org/1999/xlink\" version=\"1.1\" baseProfile=\"full\" xml:space=\"preserve\" width=\"500px\" height=\"300px\" viewBox=\"0 0 500 300\">\n",
       "<!-- END OF HEADER -->\n",
       "<rect style=\"opacity:1.0;fill:#FFFFFF;stroke:none\" width=\"500.0\" height=\"300.0\" x=\"0.0\" y=\"0.0\"> </rect>\n",
       "<path class=\"bond-0 atom-0 atom-5\" d=\"M 276.6,180.5 L 329.9,211.1\" style=\"fill:none;fill-rule:evenodd;stroke:#000000;stroke-width:2.0px;stroke-linecap:butt;stroke-linejoin:miter;stroke-opacity:1\"/>\n",
       "<path class=\"bond-0 atom-0 atom-5\" d=\"M 285.8,175.2 L 329.9,200.4\" style=\"fill:none;fill-rule:evenodd;stroke:#000000;stroke-width:2.0px;stroke-linecap:butt;stroke-linejoin:miter;stroke-opacity:1\"/>\n",
       "<path class=\"bond-1 atom-0 atom-1\" d=\"M 276.6,180.5 L 276.3,119.1\" style=\"fill:none;fill-rule:evenodd;stroke:#000000;stroke-width:2.0px;stroke-linecap:butt;stroke-linejoin:miter;stroke-opacity:1\"/>\n",
       "<path class=\"bond-2 atom-1 atom-2\" d=\"M 276.3,119.1 L 329.5,88.1\" style=\"fill:none;fill-rule:evenodd;stroke:#000000;stroke-width:2.0px;stroke-linecap:butt;stroke-linejoin:miter;stroke-opacity:1\"/>\n",
       "<path class=\"bond-2 atom-1 atom-2\" d=\"M 285.6,124.4 L 329.5,98.8\" style=\"fill:none;fill-rule:evenodd;stroke:#000000;stroke-width:2.0px;stroke-linecap:butt;stroke-linejoin:miter;stroke-opacity:1\"/>\n",
       "<path class=\"bond-3 atom-2 atom-3\" d=\"M 329.5,88.1 L 382.8,118.7\" style=\"fill:none;fill-rule:evenodd;stroke:#000000;stroke-width:2.0px;stroke-linecap:butt;stroke-linejoin:miter;stroke-opacity:1\"/>\n",
       "<path class=\"bond-4 atom-3 atom-4\" d=\"M 382.8,118.7 L 383.0,180.2\" style=\"fill:none;fill-rule:evenodd;stroke:#000000;stroke-width:2.0px;stroke-linecap:butt;stroke-linejoin:miter;stroke-opacity:1\"/>\n",
       "<path class=\"bond-4 atom-3 atom-4\" d=\"M 373.6,124.1 L 373.8,174.9\" style=\"fill:none;fill-rule:evenodd;stroke:#000000;stroke-width:2.0px;stroke-linecap:butt;stroke-linejoin:miter;stroke-opacity:1\"/>\n",
       "<path class=\"bond-5 atom-4 atom-5\" d=\"M 383.0,180.2 L 329.9,211.1\" style=\"fill:none;fill-rule:evenodd;stroke:#000000;stroke-width:2.0px;stroke-linecap:butt;stroke-linejoin:miter;stroke-opacity:1\"/>\n",
       "<path class=\"bond-6 atom-0 atom-6\" d=\"M 276.6,180.5 L 223.4,211.5\" style=\"fill:none;fill-rule:evenodd;stroke:#000000;stroke-width:2.0px;stroke-linecap:butt;stroke-linejoin:miter;stroke-opacity:1\"/>\n",
       "<path class=\"bond-7 atom-6 atom-7\" d=\"M 223.4,211.5 L 202.0,199.2\" style=\"fill:none;fill-rule:evenodd;stroke:#000000;stroke-width:2.0px;stroke-linecap:butt;stroke-linejoin:miter;stroke-opacity:1\"/>\n",
       "<path class=\"bond-7 atom-6 atom-7\" d=\"M 202.0,199.2 L 180.5,186.9\" style=\"fill:none;fill-rule:evenodd;stroke:#CCCC00;stroke-width:2.0px;stroke-linecap:butt;stroke-linejoin:miter;stroke-opacity:1\"/>\n",
       "<path class=\"bond-8 atom-7 atom-8\" d=\"M 159.7,187.0 L 142.2,197.2\" style=\"fill:none;fill-rule:evenodd;stroke:#CCCC00;stroke-width:2.0px;stroke-linecap:butt;stroke-linejoin:miter;stroke-opacity:1\"/>\n",
       "<path class=\"bond-9 atom-1 atom-9\" d=\"M 276.3,119.1 L 235.2,95.5\" style=\"fill:none;fill-rule:evenodd;stroke:#000000;stroke-width:2.0px;stroke-linecap:butt;stroke-linejoin:miter;stroke-opacity:1\"/>\n",
       "<path class=\"bond-10 atom-2 atom-10\" d=\"M 329.5,88.1 L 329.3,41.8\" style=\"fill:none;fill-rule:evenodd;stroke:#000000;stroke-width:2.0px;stroke-linecap:butt;stroke-linejoin:miter;stroke-opacity:1\"/>\n",
       "<path class=\"bond-11 atom-3 atom-11\" d=\"M 382.8,118.7 L 423.7,94.9\" style=\"fill:none;fill-rule:evenodd;stroke:#000000;stroke-width:2.0px;stroke-linecap:butt;stroke-linejoin:miter;stroke-opacity:1\"/>\n",
       "<path class=\"bond-12 atom-4 atom-12\" d=\"M 383.0,180.2 L 424.1,203.7\" style=\"fill:none;fill-rule:evenodd;stroke:#000000;stroke-width:2.0px;stroke-linecap:butt;stroke-linejoin:miter;stroke-opacity:1\"/>\n",
       "<path class=\"bond-13 atom-5 atom-13\" d=\"M 329.9,211.1 L 330.1,257.5\" style=\"fill:none;fill-rule:evenodd;stroke:#000000;stroke-width:2.0px;stroke-linecap:butt;stroke-linejoin:miter;stroke-opacity:1\"/>\n",
       "<path class=\"bond-14 atom-6 atom-14\" d=\"M 223.4,211.5 L 245.6,249.5\" style=\"fill:none;fill-rule:evenodd;stroke:#000000;stroke-width:2.0px;stroke-linecap:butt;stroke-linejoin:miter;stroke-opacity:1\"/>\n",
       "<path class=\"bond-15 atom-6 atom-15\" d=\"M 223.4,211.5 L 201.5,249.7\" style=\"fill:none;fill-rule:evenodd;stroke:#000000;stroke-width:2.0px;stroke-linecap:butt;stroke-linejoin:miter;stroke-opacity:1\"/>\n",
       "<path class=\"bond-16 atom-8 atom-16\" d=\"M 106.6,205.9 L 91.2,197.1\" style=\"fill:none;fill-rule:evenodd;stroke:#CCCC00;stroke-width:2.0px;stroke-linecap:butt;stroke-linejoin:miter;stroke-opacity:1\"/>\n",
       "<path class=\"bond-16 atom-8 atom-16\" d=\"M 91.2,197.1 L 75.9,188.3\" style=\"fill:none;fill-rule:evenodd;stroke:#000000;stroke-width:2.0px;stroke-linecap:butt;stroke-linejoin:miter;stroke-opacity:1\"/>\n",
       "<path class=\"bond-17 atom-8 atom-17\" d=\"M 117.0,227.6 L 117.1,242.9\" style=\"fill:none;fill-rule:evenodd;stroke:#CCCC00;stroke-width:2.0px;stroke-linecap:butt;stroke-linejoin:miter;stroke-opacity:1\"/>\n",
       "<path class=\"bond-17 atom-8 atom-17\" d=\"M 117.1,242.9 L 117.2,258.2\" style=\"fill:none;fill-rule:evenodd;stroke:#000000;stroke-width:2.0px;stroke-linecap:butt;stroke-linejoin:miter;stroke-opacity:1\"/>\n",
       "<path class=\"atom-7\" d=\"M 162.7 189.9 Q 163.0 190.0, 164.2 190.5 Q 165.4 191.0, 166.8 191.4 Q 168.1 191.7, 169.5 191.7 Q 171.9 191.7, 173.4 190.5 Q 174.8 189.3, 174.8 187.2 Q 174.8 185.7, 174.1 184.8 Q 173.4 183.9, 172.3 183.5 Q 171.2 183.0, 169.3 182.4 Q 167.0 181.7, 165.6 181.1 Q 164.2 180.4, 163.2 179.0 Q 162.3 177.6, 162.3 175.2 Q 162.3 172.0, 164.5 169.9 Q 166.7 167.9, 171.2 167.9 Q 174.2 167.9, 177.6 169.3 L 176.8 172.2 Q 173.6 170.9, 171.3 170.9 Q 168.7 170.9, 167.3 172.0 Q 165.9 173.0, 166.0 174.8 Q 166.0 176.2, 166.7 177.1 Q 167.4 177.9, 168.4 178.4 Q 169.5 178.9, 171.3 179.4 Q 173.6 180.1, 175.0 180.9 Q 176.4 181.6, 177.4 183.1 Q 178.5 184.6, 178.5 187.2 Q 178.5 190.8, 176.0 192.7 Q 173.6 194.6, 169.6 194.6 Q 167.3 194.6, 165.5 194.1 Q 163.8 193.6, 161.7 192.8 L 162.7 189.9 \" fill=\"#CCCC00\"/>\n",
       "<path class=\"atom-8\" d=\"M 109.6 220.8 Q 109.9 220.9, 111.1 221.4 Q 112.3 222.0, 113.7 222.3 Q 115.0 222.6, 116.3 222.6 Q 118.8 222.6, 120.3 221.4 Q 121.7 220.2, 121.7 218.1 Q 121.7 216.6, 121.0 215.8 Q 120.3 214.9, 119.1 214.4 Q 118.0 213.9, 116.2 213.4 Q 113.9 212.7, 112.5 212.0 Q 111.1 211.3, 110.1 209.9 Q 109.2 208.5, 109.2 206.2 Q 109.2 202.9, 111.4 200.9 Q 113.6 198.8, 118.0 198.8 Q 121.1 198.8, 124.5 200.3 L 123.6 203.1 Q 120.5 201.8, 118.2 201.8 Q 115.6 201.8, 114.2 202.9 Q 112.8 203.9, 112.8 205.7 Q 112.8 207.1, 113.5 208.0 Q 114.3 208.8, 115.3 209.3 Q 116.4 209.8, 118.2 210.3 Q 120.5 211.1, 121.9 211.8 Q 123.3 212.6, 124.3 214.1 Q 125.3 215.5, 125.3 218.1 Q 125.3 221.7, 122.9 223.7 Q 120.5 225.6, 116.5 225.6 Q 114.2 225.6, 112.4 225.1 Q 110.7 224.6, 108.6 223.7 L 109.6 220.8 \" fill=\"#CCCC00\"/>\n",
       "<path class=\"atom-8\" d=\"M 128.8 203.2 L 133.4 203.2 L 133.4 198.3 L 135.4 198.3 L 135.4 203.2 L 140.1 203.2 L 140.1 204.9 L 135.4 204.9 L 135.4 209.8 L 133.4 209.8 L 133.4 204.9 L 128.8 204.9 L 128.8 203.2 \" fill=\"#CCCC00\"/>\n",
       "<path class=\"atom-9\" d=\"M 212.8 75.5 L 216.3 75.5 L 216.3 86.6 L 229.7 86.6 L 229.7 75.5 L 233.2 75.5 L 233.2 101.6 L 229.7 101.6 L 229.7 89.5 L 216.3 89.5 L 216.3 101.6 L 212.8 101.6 L 212.8 75.5 \" fill=\"#000000\"/>\n",
       "<path class=\"atom-10\" d=\"M 319.0 13.6 L 322.6 13.6 L 322.6 24.7 L 335.9 24.7 L 335.9 13.6 L 339.5 13.6 L 339.5 39.7 L 335.9 39.7 L 335.9 27.7 L 322.6 27.7 L 322.6 39.7 L 319.0 39.7 L 319.0 13.6 \" fill=\"#000000\"/>\n",
       "<path class=\"atom-11\" d=\"M 425.7 74.7 L 429.2 74.7 L 429.2 85.8 L 442.6 85.8 L 442.6 74.7 L 446.1 74.7 L 446.1 100.8 L 442.6 100.8 L 442.6 88.8 L 429.2 88.8 L 429.2 100.8 L 425.7 100.8 L 425.7 74.7 \" fill=\"#000000\"/>\n",
       "<path class=\"atom-12\" d=\"M 426.2 197.6 L 429.7 197.6 L 429.7 208.7 L 443.0 208.7 L 443.0 197.6 L 446.6 197.6 L 446.6 223.8 L 443.0 223.8 L 443.0 211.7 L 429.7 211.7 L 429.7 223.8 L 426.2 223.8 L 426.2 197.6 \" fill=\"#000000\"/>\n",
       "<path class=\"atom-13\" d=\"M 319.9 259.5 L 323.5 259.5 L 323.5 270.6 L 336.8 270.6 L 336.8 259.5 L 340.3 259.5 L 340.3 285.6 L 336.8 285.6 L 336.8 273.5 L 323.5 273.5 L 323.5 285.6 L 319.9 285.6 L 319.9 259.5 \" fill=\"#000000\"/>\n",
       "<path class=\"atom-14\" d=\"M 244.1 251.5 L 247.7 251.5 L 247.7 262.6 L 261.0 262.6 L 261.0 251.5 L 264.6 251.5 L 264.6 277.6 L 261.0 277.6 L 261.0 265.6 L 247.7 265.6 L 247.7 277.6 L 244.1 277.6 L 244.1 251.5 \" fill=\"#000000\"/>\n",
       "<path class=\"atom-15\" d=\"M 182.7 251.8 L 186.2 251.8 L 186.2 262.9 L 199.6 262.9 L 199.6 251.8 L 203.1 251.8 L 203.1 277.9 L 199.6 277.9 L 199.6 265.8 L 186.2 265.8 L 186.2 277.9 L 182.7 277.9 L 182.7 251.8 \" fill=\"#000000\"/>\n",
       "<path class=\"atom-16\" d=\"M 53.4 168.2 L 57.0 168.2 L 57.0 179.4 L 70.3 179.4 L 70.3 168.2 L 73.8 168.2 L 73.8 194.4 L 70.3 194.4 L 70.3 182.3 L 57.0 182.3 L 57.0 194.4 L 53.4 194.4 L 53.4 168.2 \" fill=\"#000000\"/>\n",
       "<path class=\"atom-17\" d=\"M 107.0 260.3 L 110.5 260.3 L 110.5 271.4 L 123.9 271.4 L 123.9 260.3 L 127.4 260.3 L 127.4 286.4 L 123.9 286.4 L 123.9 274.3 L 110.5 274.3 L 110.5 286.4 L 107.0 286.4 L 107.0 260.3 \" fill=\"#000000\"/>\n",
       "</svg>"
      ],
      "text/plain": [
       "<IPython.core.display.SVG object>"
      ]
     },
     "metadata": {},
     "output_type": "display_data"
    },
    {
     "name": "stdin",
     "output_type": "stream",
     "text": [
      " t158h [*:1]-[#16X2:2]-[#16X3+1:3]-[*:4] c1(ccccc1)CS[SH2+]\n"
     ]
    },
    {
     "name": "stdout",
     "output_type": "stream",
     "text": [
      "matched!\n"
     ]
    },
    {
     "data": {
      "image/svg+xml": [
       "<svg xmlns=\"http://www.w3.org/2000/svg\" xmlns:rdkit=\"http://www.rdkit.org/xml\" xmlns:xlink=\"http://www.w3.org/1999/xlink\" version=\"1.1\" baseProfile=\"full\" xml:space=\"preserve\" width=\"500px\" height=\"300px\" viewBox=\"0 0 500 300\">\n",
       "<!-- END OF HEADER -->\n",
       "<rect style=\"opacity:1.0;fill:#FFFFFF;stroke:none\" width=\"500.0\" height=\"300.0\" x=\"0.0\" y=\"0.0\"> </rect>\n",
       "<path class=\"bond-0 atom-0 atom-5\" d=\"M 276.6,180.5 L 329.9,211.1\" style=\"fill:none;fill-rule:evenodd;stroke:#000000;stroke-width:2.0px;stroke-linecap:butt;stroke-linejoin:miter;stroke-opacity:1\"/>\n",
       "<path class=\"bond-0 atom-0 atom-5\" d=\"M 285.8,175.2 L 329.9,200.4\" style=\"fill:none;fill-rule:evenodd;stroke:#000000;stroke-width:2.0px;stroke-linecap:butt;stroke-linejoin:miter;stroke-opacity:1\"/>\n",
       "<path class=\"bond-1 atom-0 atom-1\" d=\"M 276.6,180.5 L 276.3,119.1\" style=\"fill:none;fill-rule:evenodd;stroke:#000000;stroke-width:2.0px;stroke-linecap:butt;stroke-linejoin:miter;stroke-opacity:1\"/>\n",
       "<path class=\"bond-2 atom-1 atom-2\" d=\"M 276.3,119.1 L 329.5,88.1\" style=\"fill:none;fill-rule:evenodd;stroke:#000000;stroke-width:2.0px;stroke-linecap:butt;stroke-linejoin:miter;stroke-opacity:1\"/>\n",
       "<path class=\"bond-2 atom-1 atom-2\" d=\"M 285.6,124.4 L 329.5,98.8\" style=\"fill:none;fill-rule:evenodd;stroke:#000000;stroke-width:2.0px;stroke-linecap:butt;stroke-linejoin:miter;stroke-opacity:1\"/>\n",
       "<path class=\"bond-3 atom-2 atom-3\" d=\"M 329.5,88.1 L 382.8,118.7\" style=\"fill:none;fill-rule:evenodd;stroke:#000000;stroke-width:2.0px;stroke-linecap:butt;stroke-linejoin:miter;stroke-opacity:1\"/>\n",
       "<path class=\"bond-4 atom-3 atom-4\" d=\"M 382.8,118.7 L 383.0,180.2\" style=\"fill:none;fill-rule:evenodd;stroke:#000000;stroke-width:2.0px;stroke-linecap:butt;stroke-linejoin:miter;stroke-opacity:1\"/>\n",
       "<path class=\"bond-4 atom-3 atom-4\" d=\"M 373.6,124.1 L 373.8,174.9\" style=\"fill:none;fill-rule:evenodd;stroke:#000000;stroke-width:2.0px;stroke-linecap:butt;stroke-linejoin:miter;stroke-opacity:1\"/>\n",
       "<path class=\"bond-5 atom-4 atom-5\" d=\"M 383.0,180.2 L 329.9,211.1\" style=\"fill:none;fill-rule:evenodd;stroke:#000000;stroke-width:2.0px;stroke-linecap:butt;stroke-linejoin:miter;stroke-opacity:1\"/>\n",
       "<path class=\"bond-6 atom-0 atom-6\" d=\"M 276.6,180.5 L 223.4,211.5\" style=\"fill:none;fill-rule:evenodd;stroke:#000000;stroke-width:2.0px;stroke-linecap:butt;stroke-linejoin:miter;stroke-opacity:1\"/>\n",
       "<path class=\"bond-7 atom-6 atom-7\" d=\"M 223.4,211.5 L 202.0,199.2\" style=\"fill:none;fill-rule:evenodd;stroke:#000000;stroke-width:2.0px;stroke-linecap:butt;stroke-linejoin:miter;stroke-opacity:1\"/>\n",
       "<path class=\"bond-7 atom-6 atom-7\" d=\"M 202.0,199.2 L 180.5,186.9\" style=\"fill:none;fill-rule:evenodd;stroke:#CCCC00;stroke-width:2.0px;stroke-linecap:butt;stroke-linejoin:miter;stroke-opacity:1\"/>\n",
       "<path class=\"bond-8 atom-7 atom-8\" d=\"M 159.7,187.0 L 142.2,197.2\" style=\"fill:none;fill-rule:evenodd;stroke:#CCCC00;stroke-width:2.0px;stroke-linecap:butt;stroke-linejoin:miter;stroke-opacity:1\"/>\n",
       "<path class=\"bond-9 atom-1 atom-9\" d=\"M 276.3,119.1 L 235.2,95.5\" style=\"fill:none;fill-rule:evenodd;stroke:#000000;stroke-width:2.0px;stroke-linecap:butt;stroke-linejoin:miter;stroke-opacity:1\"/>\n",
       "<path class=\"bond-10 atom-2 atom-10\" d=\"M 329.5,88.1 L 329.3,41.8\" style=\"fill:none;fill-rule:evenodd;stroke:#000000;stroke-width:2.0px;stroke-linecap:butt;stroke-linejoin:miter;stroke-opacity:1\"/>\n",
       "<path class=\"bond-11 atom-3 atom-11\" d=\"M 382.8,118.7 L 423.7,94.9\" style=\"fill:none;fill-rule:evenodd;stroke:#000000;stroke-width:2.0px;stroke-linecap:butt;stroke-linejoin:miter;stroke-opacity:1\"/>\n",
       "<path class=\"bond-12 atom-4 atom-12\" d=\"M 383.0,180.2 L 424.1,203.7\" style=\"fill:none;fill-rule:evenodd;stroke:#000000;stroke-width:2.0px;stroke-linecap:butt;stroke-linejoin:miter;stroke-opacity:1\"/>\n",
       "<path class=\"bond-13 atom-5 atom-13\" d=\"M 329.9,211.1 L 330.1,257.5\" style=\"fill:none;fill-rule:evenodd;stroke:#000000;stroke-width:2.0px;stroke-linecap:butt;stroke-linejoin:miter;stroke-opacity:1\"/>\n",
       "<path class=\"bond-14 atom-6 atom-14\" d=\"M 223.4,211.5 L 245.6,249.5\" style=\"fill:none;fill-rule:evenodd;stroke:#000000;stroke-width:2.0px;stroke-linecap:butt;stroke-linejoin:miter;stroke-opacity:1\"/>\n",
       "<path class=\"bond-15 atom-6 atom-15\" d=\"M 223.4,211.5 L 201.5,249.7\" style=\"fill:none;fill-rule:evenodd;stroke:#000000;stroke-width:2.0px;stroke-linecap:butt;stroke-linejoin:miter;stroke-opacity:1\"/>\n",
       "<path class=\"bond-16 atom-8 atom-16\" d=\"M 106.6,205.9 L 91.2,197.1\" style=\"fill:none;fill-rule:evenodd;stroke:#CCCC00;stroke-width:2.0px;stroke-linecap:butt;stroke-linejoin:miter;stroke-opacity:1\"/>\n",
       "<path class=\"bond-16 atom-8 atom-16\" d=\"M 91.2,197.1 L 75.9,188.3\" style=\"fill:none;fill-rule:evenodd;stroke:#000000;stroke-width:2.0px;stroke-linecap:butt;stroke-linejoin:miter;stroke-opacity:1\"/>\n",
       "<path class=\"bond-17 atom-8 atom-17\" d=\"M 117.0,227.6 L 117.1,242.9\" style=\"fill:none;fill-rule:evenodd;stroke:#CCCC00;stroke-width:2.0px;stroke-linecap:butt;stroke-linejoin:miter;stroke-opacity:1\"/>\n",
       "<path class=\"bond-17 atom-8 atom-17\" d=\"M 117.1,242.9 L 117.2,258.2\" style=\"fill:none;fill-rule:evenodd;stroke:#000000;stroke-width:2.0px;stroke-linecap:butt;stroke-linejoin:miter;stroke-opacity:1\"/>\n",
       "<path class=\"atom-7\" d=\"M 162.7 189.9 Q 163.0 190.0, 164.2 190.5 Q 165.4 191.0, 166.8 191.4 Q 168.1 191.7, 169.5 191.7 Q 171.9 191.7, 173.4 190.5 Q 174.8 189.3, 174.8 187.2 Q 174.8 185.7, 174.1 184.8 Q 173.4 183.9, 172.3 183.5 Q 171.2 183.0, 169.3 182.4 Q 167.0 181.7, 165.6 181.1 Q 164.2 180.4, 163.2 179.0 Q 162.3 177.6, 162.3 175.2 Q 162.3 172.0, 164.5 169.9 Q 166.7 167.9, 171.2 167.9 Q 174.2 167.9, 177.6 169.3 L 176.8 172.2 Q 173.6 170.9, 171.3 170.9 Q 168.7 170.9, 167.3 172.0 Q 165.9 173.0, 166.0 174.8 Q 166.0 176.2, 166.7 177.1 Q 167.4 177.9, 168.4 178.4 Q 169.5 178.9, 171.3 179.4 Q 173.6 180.1, 175.0 180.9 Q 176.4 181.6, 177.4 183.1 Q 178.5 184.6, 178.5 187.2 Q 178.5 190.8, 176.0 192.7 Q 173.6 194.6, 169.6 194.6 Q 167.3 194.6, 165.5 194.1 Q 163.8 193.6, 161.7 192.8 L 162.7 189.9 \" fill=\"#CCCC00\"/>\n",
       "<path class=\"atom-8\" d=\"M 109.6 220.8 Q 109.9 220.9, 111.1 221.4 Q 112.3 222.0, 113.7 222.3 Q 115.0 222.6, 116.3 222.6 Q 118.8 222.6, 120.3 221.4 Q 121.7 220.2, 121.7 218.1 Q 121.7 216.6, 121.0 215.8 Q 120.3 214.9, 119.1 214.4 Q 118.0 213.9, 116.2 213.4 Q 113.9 212.7, 112.5 212.0 Q 111.1 211.3, 110.1 209.9 Q 109.2 208.5, 109.2 206.2 Q 109.2 202.9, 111.4 200.9 Q 113.6 198.8, 118.0 198.8 Q 121.1 198.8, 124.5 200.3 L 123.6 203.1 Q 120.5 201.8, 118.2 201.8 Q 115.6 201.8, 114.2 202.9 Q 112.8 203.9, 112.8 205.7 Q 112.8 207.1, 113.5 208.0 Q 114.3 208.8, 115.3 209.3 Q 116.4 209.8, 118.2 210.3 Q 120.5 211.1, 121.9 211.8 Q 123.3 212.6, 124.3 214.1 Q 125.3 215.5, 125.3 218.1 Q 125.3 221.7, 122.9 223.7 Q 120.5 225.6, 116.5 225.6 Q 114.2 225.6, 112.4 225.1 Q 110.7 224.6, 108.6 223.7 L 109.6 220.8 \" fill=\"#CCCC00\"/>\n",
       "<path class=\"atom-8\" d=\"M 128.8 203.2 L 133.4 203.2 L 133.4 198.3 L 135.4 198.3 L 135.4 203.2 L 140.1 203.2 L 140.1 204.9 L 135.4 204.9 L 135.4 209.8 L 133.4 209.8 L 133.4 204.9 L 128.8 204.9 L 128.8 203.2 \" fill=\"#CCCC00\"/>\n",
       "<path class=\"atom-9\" d=\"M 212.8 75.5 L 216.3 75.5 L 216.3 86.6 L 229.7 86.6 L 229.7 75.5 L 233.2 75.5 L 233.2 101.6 L 229.7 101.6 L 229.7 89.5 L 216.3 89.5 L 216.3 101.6 L 212.8 101.6 L 212.8 75.5 \" fill=\"#000000\"/>\n",
       "<path class=\"atom-10\" d=\"M 319.0 13.6 L 322.6 13.6 L 322.6 24.7 L 335.9 24.7 L 335.9 13.6 L 339.5 13.6 L 339.5 39.7 L 335.9 39.7 L 335.9 27.7 L 322.6 27.7 L 322.6 39.7 L 319.0 39.7 L 319.0 13.6 \" fill=\"#000000\"/>\n",
       "<path class=\"atom-11\" d=\"M 425.7 74.7 L 429.2 74.7 L 429.2 85.8 L 442.6 85.8 L 442.6 74.7 L 446.1 74.7 L 446.1 100.8 L 442.6 100.8 L 442.6 88.8 L 429.2 88.8 L 429.2 100.8 L 425.7 100.8 L 425.7 74.7 \" fill=\"#000000\"/>\n",
       "<path class=\"atom-12\" d=\"M 426.2 197.6 L 429.7 197.6 L 429.7 208.7 L 443.0 208.7 L 443.0 197.6 L 446.6 197.6 L 446.6 223.8 L 443.0 223.8 L 443.0 211.7 L 429.7 211.7 L 429.7 223.8 L 426.2 223.8 L 426.2 197.6 \" fill=\"#000000\"/>\n",
       "<path class=\"atom-13\" d=\"M 319.9 259.5 L 323.5 259.5 L 323.5 270.6 L 336.8 270.6 L 336.8 259.5 L 340.3 259.5 L 340.3 285.6 L 336.8 285.6 L 336.8 273.5 L 323.5 273.5 L 323.5 285.6 L 319.9 285.6 L 319.9 259.5 \" fill=\"#000000\"/>\n",
       "<path class=\"atom-14\" d=\"M 244.1 251.5 L 247.7 251.5 L 247.7 262.6 L 261.0 262.6 L 261.0 251.5 L 264.6 251.5 L 264.6 277.6 L 261.0 277.6 L 261.0 265.6 L 247.7 265.6 L 247.7 277.6 L 244.1 277.6 L 244.1 251.5 \" fill=\"#000000\"/>\n",
       "<path class=\"atom-15\" d=\"M 182.7 251.8 L 186.2 251.8 L 186.2 262.9 L 199.6 262.9 L 199.6 251.8 L 203.1 251.8 L 203.1 277.9 L 199.6 277.9 L 199.6 265.8 L 186.2 265.8 L 186.2 277.9 L 182.7 277.9 L 182.7 251.8 \" fill=\"#000000\"/>\n",
       "<path class=\"atom-16\" d=\"M 53.4 168.2 L 57.0 168.2 L 57.0 179.4 L 70.3 179.4 L 70.3 168.2 L 73.8 168.2 L 73.8 194.4 L 70.3 194.4 L 70.3 182.3 L 57.0 182.3 L 57.0 194.4 L 53.4 194.4 L 53.4 168.2 \" fill=\"#000000\"/>\n",
       "<path class=\"atom-17\" d=\"M 107.0 260.3 L 110.5 260.3 L 110.5 271.4 L 123.9 271.4 L 123.9 260.3 L 127.4 260.3 L 127.4 286.4 L 123.9 286.4 L 123.9 274.3 L 110.5 274.3 L 110.5 286.4 L 107.0 286.4 L 107.0 260.3 \" fill=\"#000000\"/>\n",
       "</svg>"
      ],
      "text/plain": [
       "<IPython.core.display.SVG object>"
      ]
     },
     "metadata": {},
     "output_type": "display_data"
    },
    {
     "name": "stdin",
     "output_type": "stream",
     "text": [
      " t158i [*:1]-[#16X3+1:2]-[#16X3+1:3]-[*:4] [SH2+][SH2+]\n"
     ]
    },
    {
     "name": "stdout",
     "output_type": "stream",
     "text": [
      "matched!\n"
     ]
    },
    {
     "data": {
      "image/svg+xml": [
       "<svg xmlns=\"http://www.w3.org/2000/svg\" xmlns:rdkit=\"http://www.rdkit.org/xml\" xmlns:xlink=\"http://www.w3.org/1999/xlink\" version=\"1.1\" baseProfile=\"full\" xml:space=\"preserve\" width=\"500px\" height=\"300px\" viewBox=\"0 0 500 300\">\n",
       "<!-- END OF HEADER -->\n",
       "<rect style=\"opacity:1.0;fill:#FFFFFF;stroke:none\" width=\"500.0\" height=\"300.0\" x=\"0.0\" y=\"0.0\"> </rect>\n",
       "<path class=\"bond-0 atom-0 atom-1\" d=\"M 278.2,133.7 L 237.9,157.0\" style=\"fill:none;fill-rule:evenodd;stroke:#CCCC00;stroke-width:2.0px;stroke-linecap:butt;stroke-linejoin:miter;stroke-opacity:1\"/>\n",
       "<path class=\"bond-1 atom-0 atom-2\" d=\"M 290.3,109.4 L 290.2,80.0\" style=\"fill:none;fill-rule:evenodd;stroke:#CCCC00;stroke-width:2.0px;stroke-linecap:butt;stroke-linejoin:miter;stroke-opacity:1\"/>\n",
       "<path class=\"bond-1 atom-0 atom-2\" d=\"M 290.2,80.0 L 290.1,50.7\" style=\"fill:none;fill-rule:evenodd;stroke:#000000;stroke-width:2.0px;stroke-linecap:butt;stroke-linejoin:miter;stroke-opacity:1\"/>\n",
       "<path class=\"bond-2 atom-0 atom-3\" d=\"M 302.5,133.6 L 329.7,149.3\" style=\"fill:none;fill-rule:evenodd;stroke:#CCCC00;stroke-width:2.0px;stroke-linecap:butt;stroke-linejoin:miter;stroke-opacity:1\"/>\n",
       "<path class=\"bond-2 atom-0 atom-3\" d=\"M 329.7,149.3 L 357.0,164.9\" style=\"fill:none;fill-rule:evenodd;stroke:#000000;stroke-width:2.0px;stroke-linecap:butt;stroke-linejoin:miter;stroke-opacity:1\"/>\n",
       "<path class=\"bond-3 atom-1 atom-4\" d=\"M 209.7,191.3 L 209.8,220.3\" style=\"fill:none;fill-rule:evenodd;stroke:#CCCC00;stroke-width:2.0px;stroke-linecap:butt;stroke-linejoin:miter;stroke-opacity:1\"/>\n",
       "<path class=\"bond-3 atom-1 atom-4\" d=\"M 209.8,220.3 L 209.9,249.3\" style=\"fill:none;fill-rule:evenodd;stroke:#000000;stroke-width:2.0px;stroke-linecap:butt;stroke-linejoin:miter;stroke-opacity:1\"/>\n",
       "<path class=\"bond-4 atom-1 atom-5\" d=\"M 197.5,166.4 L 170.3,150.7\" style=\"fill:none;fill-rule:evenodd;stroke:#CCCC00;stroke-width:2.0px;stroke-linecap:butt;stroke-linejoin:miter;stroke-opacity:1\"/>\n",
       "<path class=\"bond-4 atom-1 atom-5\" d=\"M 170.3,150.7 L 143.0,135.1\" style=\"fill:none;fill-rule:evenodd;stroke:#000000;stroke-width:2.0px;stroke-linecap:butt;stroke-linejoin:miter;stroke-opacity:1\"/>\n",
       "<path class=\"atom-0\" d=\"M 282.3 136.3 Q 282.6 136.5, 284.0 137.0 Q 285.3 137.6, 286.7 137.9 Q 288.2 138.3, 289.6 138.3 Q 292.3 138.3, 293.9 137.0 Q 295.4 135.7, 295.4 133.4 Q 295.4 131.8, 294.6 130.9 Q 293.9 129.9, 292.7 129.4 Q 291.5 128.9, 289.5 128.3 Q 287.0 127.5, 285.4 126.8 Q 284.0 126.1, 282.9 124.5 Q 281.8 123.0, 281.8 120.5 Q 281.8 116.9, 284.2 114.7 Q 286.7 112.5, 291.5 112.5 Q 294.8 112.5, 298.5 114.1 L 297.6 117.1 Q 294.2 115.7, 291.6 115.7 Q 288.8 115.7, 287.3 116.9 Q 285.8 118.0, 285.8 120.0 Q 285.8 121.5, 286.6 122.4 Q 287.4 123.3, 288.5 123.9 Q 289.7 124.4, 291.6 125.0 Q 294.2 125.8, 295.7 126.6 Q 297.2 127.4, 298.3 129.0 Q 299.4 130.6, 299.4 133.4 Q 299.4 137.3, 296.8 139.4 Q 294.2 141.5, 289.8 141.5 Q 287.3 141.5, 285.4 140.9 Q 283.5 140.4, 281.2 139.5 L 282.3 136.3 \" fill=\"#CCCC00\"/>\n",
       "<path class=\"atom-0\" d=\"M 303.1 117.2 L 308.1 117.2 L 308.1 111.9 L 310.3 111.9 L 310.3 117.2 L 315.4 117.2 L 315.4 119.1 L 310.3 119.1 L 310.3 124.4 L 308.1 124.4 L 308.1 119.1 L 303.1 119.1 L 303.1 117.2 \" fill=\"#CCCC00\"/>\n",
       "<path class=\"atom-1\" d=\"M 201.7 183.1 Q 202.0 183.2, 203.3 183.8 Q 204.6 184.3, 206.1 184.7 Q 207.6 185.0, 209.0 185.0 Q 211.7 185.0, 213.2 183.7 Q 214.8 182.4, 214.8 180.1 Q 214.8 178.6, 214.0 177.6 Q 213.2 176.7, 212.0 176.1 Q 210.8 175.6, 208.8 175.0 Q 206.3 174.3, 204.8 173.5 Q 203.3 172.8, 202.2 171.3 Q 201.2 169.8, 201.2 167.2 Q 201.2 163.7, 203.6 161.5 Q 206.0 159.3, 210.8 159.3 Q 214.1 159.3, 217.8 160.8 L 216.9 163.9 Q 213.5 162.5, 211.0 162.5 Q 208.2 162.5, 206.7 163.7 Q 205.2 164.8, 205.2 166.7 Q 205.2 168.3, 206.0 169.2 Q 206.8 170.1, 207.9 170.6 Q 209.0 171.1, 211.0 171.7 Q 213.5 172.5, 215.0 173.3 Q 216.6 174.1, 217.6 175.8 Q 218.8 177.4, 218.8 180.1 Q 218.8 184.1, 216.1 186.2 Q 213.5 188.3, 209.2 188.3 Q 206.6 188.3, 204.7 187.7 Q 202.8 187.2, 200.6 186.3 L 201.7 183.1 \" fill=\"#CCCC00\"/>\n",
       "<path class=\"atom-1\" d=\"M 222.5 163.9 L 227.5 163.9 L 227.5 158.7 L 229.7 158.7 L 229.7 163.9 L 234.8 163.9 L 234.8 165.8 L 229.7 165.8 L 229.7 171.1 L 227.5 171.1 L 227.5 165.8 L 222.5 165.8 L 222.5 163.9 \" fill=\"#CCCC00\"/>\n",
       "<path class=\"atom-2\" d=\"M 279.0 19.3 L 282.9 19.3 L 282.9 31.3 L 297.4 31.3 L 297.4 19.3 L 301.2 19.3 L 301.2 47.6 L 297.4 47.6 L 297.4 34.5 L 282.9 34.5 L 282.9 47.6 L 279.0 47.6 L 279.0 19.3 \" fill=\"#000000\"/>\n",
       "<path class=\"atom-3\" d=\"M 360.0 158.9 L 363.9 158.9 L 363.9 170.9 L 378.4 170.9 L 378.4 158.9 L 382.2 158.9 L 382.2 187.2 L 378.4 187.2 L 378.4 174.1 L 363.9 174.1 L 363.9 187.2 L 360.0 187.2 L 360.0 158.9 \" fill=\"#000000\"/>\n",
       "<path class=\"atom-4\" d=\"M 198.8 252.4 L 202.6 252.4 L 202.6 264.4 L 217.1 264.4 L 217.1 252.4 L 221.0 252.4 L 221.0 280.7 L 217.1 280.7 L 217.1 267.6 L 202.6 267.6 L 202.6 280.7 L 198.8 280.7 L 198.8 252.4 \" fill=\"#000000\"/>\n",
       "<path class=\"atom-5\" d=\"M 117.8 112.8 L 121.6 112.8 L 121.6 124.8 L 136.1 124.8 L 136.1 112.8 L 140.0 112.8 L 140.0 141.1 L 136.1 141.1 L 136.1 128.0 L 121.6 128.0 L 121.6 141.1 L 117.8 141.1 L 117.8 112.8 \" fill=\"#000000\"/>\n",
       "</svg>"
      ],
      "text/plain": [
       "<IPython.core.display.SVG object>"
      ]
     },
     "metadata": {},
     "output_type": "display_data"
    },
    {
     "name": "stdin",
     "output_type": "stream",
     "text": [
      " t158i [*:1]-[#16X3+1:2]-[#16X3+1:3]-[*:4] C[SH+][SH+]C\n"
     ]
    },
    {
     "name": "stdout",
     "output_type": "stream",
     "text": [
      "matched!\n"
     ]
    },
    {
     "data": {
      "image/svg+xml": [
       "<svg xmlns=\"http://www.w3.org/2000/svg\" xmlns:rdkit=\"http://www.rdkit.org/xml\" xmlns:xlink=\"http://www.w3.org/1999/xlink\" version=\"1.1\" baseProfile=\"full\" xml:space=\"preserve\" width=\"500px\" height=\"300px\" viewBox=\"0 0 500 300\">\n",
       "<!-- END OF HEADER -->\n",
       "<rect style=\"opacity:1.0;fill:#FFFFFF;stroke:none\" width=\"500.0\" height=\"300.0\" x=\"0.0\" y=\"0.0\"> </rect>\n",
       "<path class=\"bond-0 atom-0 atom-1\" d=\"M 371.1,126.8 L 344.8,141.9\" style=\"fill:none;fill-rule:evenodd;stroke:#000000;stroke-width:2.0px;stroke-linecap:butt;stroke-linejoin:miter;stroke-opacity:1\"/>\n",
       "<path class=\"bond-0 atom-0 atom-1\" d=\"M 344.8,141.9 L 318.6,157.1\" style=\"fill:none;fill-rule:evenodd;stroke:#CCCC00;stroke-width:2.0px;stroke-linecap:butt;stroke-linejoin:miter;stroke-opacity:1\"/>\n",
       "<path class=\"bond-1 atom-1 atom-2\" d=\"M 278.2,166.3 L 221.8,133.7\" style=\"fill:none;fill-rule:evenodd;stroke:#CCCC00;stroke-width:2.0px;stroke-linecap:butt;stroke-linejoin:miter;stroke-opacity:1\"/>\n",
       "<path class=\"bond-2 atom-2 atom-3\" d=\"M 197.5,133.7 L 163.2,153.4\" style=\"fill:none;fill-rule:evenodd;stroke:#CCCC00;stroke-width:2.0px;stroke-linecap:butt;stroke-linejoin:miter;stroke-opacity:1\"/>\n",
       "<path class=\"bond-2 atom-2 atom-3\" d=\"M 163.2,153.4 L 128.9,173.2\" style=\"fill:none;fill-rule:evenodd;stroke:#000000;stroke-width:2.0px;stroke-linecap:butt;stroke-linejoin:miter;stroke-opacity:1\"/>\n",
       "<path class=\"bond-3 atom-0 atom-4\" d=\"M 371.1,126.8 L 334.5,63.3\" style=\"fill:none;fill-rule:evenodd;stroke:#000000;stroke-width:2.0px;stroke-linecap:butt;stroke-linejoin:miter;stroke-opacity:1\"/>\n",
       "<path class=\"bond-4 atom-0 atom-5\" d=\"M 371.1,126.8 L 407.8,63.3\" style=\"fill:none;fill-rule:evenodd;stroke:#000000;stroke-width:2.0px;stroke-linecap:butt;stroke-linejoin:miter;stroke-opacity:1\"/>\n",
       "<path class=\"bond-5 atom-0 atom-6\" d=\"M 371.1,126.8 L 437.6,165.3\" style=\"fill:none;fill-rule:evenodd;stroke:#000000;stroke-width:2.0px;stroke-linecap:butt;stroke-linejoin:miter;stroke-opacity:1\"/>\n",
       "<path class=\"bond-6 atom-1 atom-7\" d=\"M 290.3,191.3 L 290.3,220.3\" style=\"fill:none;fill-rule:evenodd;stroke:#CCCC00;stroke-width:2.0px;stroke-linecap:butt;stroke-linejoin:miter;stroke-opacity:1\"/>\n",
       "<path class=\"bond-6 atom-1 atom-7\" d=\"M 290.3,220.3 L 290.3,249.3\" style=\"fill:none;fill-rule:evenodd;stroke:#000000;stroke-width:2.0px;stroke-linecap:butt;stroke-linejoin:miter;stroke-opacity:1\"/>\n",
       "<path class=\"bond-7 atom-2 atom-8\" d=\"M 209.7,109.5 L 209.7,80.1\" style=\"fill:none;fill-rule:evenodd;stroke:#CCCC00;stroke-width:2.0px;stroke-linecap:butt;stroke-linejoin:miter;stroke-opacity:1\"/>\n",
       "<path class=\"bond-7 atom-2 atom-8\" d=\"M 209.7,80.1 L 209.7,50.7\" style=\"fill:none;fill-rule:evenodd;stroke:#000000;stroke-width:2.0px;stroke-linecap:butt;stroke-linejoin:miter;stroke-opacity:1\"/>\n",
       "<path class=\"bond-8 atom-3 atom-9\" d=\"M 128.9,173.2 L 165.5,236.7\" style=\"fill:none;fill-rule:evenodd;stroke:#000000;stroke-width:2.0px;stroke-linecap:butt;stroke-linejoin:miter;stroke-opacity:1\"/>\n",
       "<path class=\"bond-9 atom-3 atom-10\" d=\"M 128.9,173.2 L 92.2,236.7\" style=\"fill:none;fill-rule:evenodd;stroke:#000000;stroke-width:2.0px;stroke-linecap:butt;stroke-linejoin:miter;stroke-opacity:1\"/>\n",
       "<path class=\"bond-10 atom-3 atom-11\" d=\"M 128.9,173.2 L 62.4,134.7\" style=\"fill:none;fill-rule:evenodd;stroke:#000000;stroke-width:2.0px;stroke-linecap:butt;stroke-linejoin:miter;stroke-opacity:1\"/>\n",
       "<path class=\"atom-1\" d=\"M 282.3 183.1 Q 282.7 183.2, 284.0 183.7 Q 285.3 184.3, 286.7 184.7 Q 288.2 185.0, 289.7 185.0 Q 292.3 185.0, 293.9 183.7 Q 295.5 182.4, 295.5 180.1 Q 295.5 178.5, 294.7 177.6 Q 293.9 176.6, 292.7 176.1 Q 291.5 175.6, 289.5 175.0 Q 287.0 174.2, 285.5 173.5 Q 284.0 172.8, 282.9 171.3 Q 281.9 169.7, 281.9 167.2 Q 281.9 163.6, 284.3 161.4 Q 286.7 159.2, 291.5 159.2 Q 294.8 159.2, 298.5 160.8 L 297.6 163.9 Q 294.2 162.5, 291.6 162.5 Q 288.9 162.5, 287.3 163.6 Q 285.8 164.7, 285.9 166.7 Q 285.9 168.2, 286.6 169.1 Q 287.4 170.1, 288.5 170.6 Q 289.7 171.1, 291.6 171.7 Q 294.2 172.5, 295.7 173.3 Q 297.2 174.1, 298.3 175.7 Q 299.4 177.3, 299.4 180.1 Q 299.4 184.0, 296.8 186.1 Q 294.2 188.2, 289.8 188.2 Q 287.3 188.2, 285.4 187.7 Q 283.5 187.1, 281.3 186.2 L 282.3 183.1 \" fill=\"#CCCC00\"/>\n",
       "<path class=\"atom-1\" d=\"M 303.1 163.9 L 308.1 163.9 L 308.1 158.7 L 310.4 158.7 L 310.4 163.9 L 315.5 163.9 L 315.5 165.8 L 310.4 165.8 L 310.4 171.1 L 308.1 171.1 L 308.1 165.8 L 303.1 165.8 L 303.1 163.9 \" fill=\"#CCCC00\"/>\n",
       "<path class=\"atom-2\" d=\"M 201.7 136.4 Q 202.0 136.5, 203.3 137.1 Q 204.6 137.6, 206.1 138.0 Q 207.5 138.3, 209.0 138.3 Q 211.7 138.3, 213.2 137.0 Q 214.8 135.7, 214.8 133.4 Q 214.8 131.9, 214.0 130.9 Q 213.2 129.9, 212.0 129.4 Q 210.8 128.9, 208.8 128.3 Q 206.3 127.5, 204.8 126.8 Q 203.3 126.1, 202.2 124.6 Q 201.2 123.1, 201.2 120.5 Q 201.2 116.9, 203.6 114.7 Q 206.0 112.5, 210.8 112.5 Q 214.1 112.5, 217.8 114.1 L 216.9 117.2 Q 213.5 115.8, 210.9 115.8 Q 208.2 115.8, 206.7 116.9 Q 205.1 118.1, 205.2 120.0 Q 205.2 121.5, 205.9 122.5 Q 206.7 123.4, 207.9 123.9 Q 209.0 124.4, 210.9 125.0 Q 213.5 125.8, 215.0 126.6 Q 216.5 127.4, 217.6 129.1 Q 218.7 130.7, 218.7 133.4 Q 218.7 137.3, 216.1 139.5 Q 213.5 141.5, 209.1 141.5 Q 206.6 141.5, 204.7 141.0 Q 202.8 140.5, 200.6 139.5 L 201.7 136.4 \" fill=\"#CCCC00\"/>\n",
       "<path class=\"atom-2\" d=\"M 222.5 117.2 L 227.4 117.2 L 227.4 112.0 L 229.7 112.0 L 229.7 117.2 L 234.8 117.2 L 234.8 119.1 L 229.7 119.1 L 229.7 124.4 L 227.4 124.4 L 227.4 119.1 L 222.5 119.1 L 222.5 117.2 \" fill=\"#CCCC00\"/>\n",
       "<path class=\"atom-4\" d=\"M 313.5 31.9 L 317.3 31.9 L 317.3 43.9 L 331.8 43.9 L 331.8 31.9 L 335.6 31.9 L 335.6 60.2 L 331.8 60.2 L 331.8 47.1 L 317.3 47.1 L 317.3 60.2 L 313.5 60.2 L 313.5 31.9 \" fill=\"#000000\"/>\n",
       "<path class=\"atom-5\" d=\"M 406.7 31.9 L 410.5 31.9 L 410.5 44.0 L 425.0 44.0 L 425.0 31.9 L 428.9 31.9 L 428.9 60.3 L 425.0 60.3 L 425.0 47.2 L 410.5 47.2 L 410.5 60.3 L 406.7 60.3 L 406.7 31.9 \" fill=\"#000000\"/>\n",
       "<path class=\"atom-6\" d=\"M 440.7 159.3 L 444.6 159.3 L 444.6 171.4 L 459.0 171.4 L 459.0 159.3 L 462.9 159.3 L 462.9 187.6 L 459.0 187.6 L 459.0 174.6 L 444.6 174.6 L 444.6 187.6 L 440.7 187.6 L 440.7 159.3 \" fill=\"#000000\"/>\n",
       "<path class=\"atom-7\" d=\"M 279.2 252.4 L 283.0 252.4 L 283.0 264.4 L 297.5 264.4 L 297.5 252.4 L 301.4 252.4 L 301.4 280.7 L 297.5 280.7 L 297.5 267.6 L 283.0 267.6 L 283.0 280.7 L 279.2 280.7 L 279.2 252.4 \" fill=\"#000000\"/>\n",
       "<path class=\"atom-8\" d=\"M 198.6 19.3 L 202.5 19.3 L 202.5 31.3 L 217.0 31.3 L 217.0 19.3 L 220.8 19.3 L 220.8 47.6 L 217.0 47.6 L 217.0 34.5 L 202.5 34.5 L 202.5 47.6 L 198.6 47.6 L 198.6 19.3 \" fill=\"#000000\"/>\n",
       "<path class=\"atom-9\" d=\"M 164.4 239.8 L 168.2 239.8 L 168.2 251.9 L 182.7 251.9 L 182.7 239.8 L 186.5 239.8 L 186.5 268.1 L 182.7 268.1 L 182.7 255.1 L 168.2 255.1 L 168.2 268.1 L 164.4 268.1 L 164.4 239.8 \" fill=\"#000000\"/>\n",
       "<path class=\"atom-10\" d=\"M 71.1 239.7 L 75.0 239.7 L 75.0 251.8 L 89.5 251.8 L 89.5 239.7 L 93.3 239.7 L 93.3 268.1 L 89.5 268.1 L 89.5 255.0 L 75.0 255.0 L 75.0 268.1 L 71.1 268.1 L 71.1 239.7 \" fill=\"#000000\"/>\n",
       "<path class=\"atom-11\" d=\"M 37.1 112.4 L 41.0 112.4 L 41.0 124.4 L 55.4 124.4 L 55.4 112.4 L 59.3 112.4 L 59.3 140.7 L 55.4 140.7 L 55.4 127.6 L 41.0 127.6 L 41.0 140.7 L 37.1 140.7 L 37.1 112.4 \" fill=\"#000000\"/>\n",
       "</svg>"
      ],
      "text/plain": [
       "<IPython.core.display.SVG object>"
      ]
     },
     "metadata": {},
     "output_type": "display_data"
    },
    {
     "name": "stdin",
     "output_type": "stream",
     "text": [
      " t158i [*:1]-[#16X3+1:2]-[#16X3+1:3]-[*:4] c1(ccccc1)C[SH+][SH+]C\n"
     ]
    },
    {
     "name": "stdout",
     "output_type": "stream",
     "text": [
      "matched!\n"
     ]
    },
    {
     "data": {
      "image/svg+xml": [
       "<svg xmlns=\"http://www.w3.org/2000/svg\" xmlns:rdkit=\"http://www.rdkit.org/xml\" xmlns:xlink=\"http://www.w3.org/1999/xlink\" version=\"1.1\" baseProfile=\"full\" xml:space=\"preserve\" width=\"500px\" height=\"300px\" viewBox=\"0 0 500 300\">\n",
       "<!-- END OF HEADER -->\n",
       "<rect style=\"opacity:1.0;fill:#FFFFFF;stroke:none\" width=\"500.0\" height=\"300.0\" x=\"0.0\" y=\"0.0\"> </rect>\n",
       "<path class=\"bond-0 atom-0 atom-5\" d=\"M 303.1,180.5 L 356.5,211.1\" style=\"fill:none;fill-rule:evenodd;stroke:#000000;stroke-width:2.0px;stroke-linecap:butt;stroke-linejoin:miter;stroke-opacity:1\"/>\n",
       "<path class=\"bond-0 atom-0 atom-5\" d=\"M 312.3,175.2 L 356.4,200.4\" style=\"fill:none;fill-rule:evenodd;stroke:#000000;stroke-width:2.0px;stroke-linecap:butt;stroke-linejoin:miter;stroke-opacity:1\"/>\n",
       "<path class=\"bond-1 atom-0 atom-1\" d=\"M 303.1,180.5 L 302.9,119.1\" style=\"fill:none;fill-rule:evenodd;stroke:#000000;stroke-width:2.0px;stroke-linecap:butt;stroke-linejoin:miter;stroke-opacity:1\"/>\n",
       "<path class=\"bond-2 atom-1 atom-2\" d=\"M 302.9,119.1 L 356.0,88.2\" style=\"fill:none;fill-rule:evenodd;stroke:#000000;stroke-width:2.0px;stroke-linecap:butt;stroke-linejoin:miter;stroke-opacity:1\"/>\n",
       "<path class=\"bond-2 atom-1 atom-2\" d=\"M 312.1,124.4 L 356.0,98.8\" style=\"fill:none;fill-rule:evenodd;stroke:#000000;stroke-width:2.0px;stroke-linecap:butt;stroke-linejoin:miter;stroke-opacity:1\"/>\n",
       "<path class=\"bond-3 atom-2 atom-3\" d=\"M 356.0,88.2 L 409.4,118.7\" style=\"fill:none;fill-rule:evenodd;stroke:#000000;stroke-width:2.0px;stroke-linecap:butt;stroke-linejoin:miter;stroke-opacity:1\"/>\n",
       "<path class=\"bond-4 atom-3 atom-4\" d=\"M 409.4,118.7 L 409.6,180.2\" style=\"fill:none;fill-rule:evenodd;stroke:#000000;stroke-width:2.0px;stroke-linecap:butt;stroke-linejoin:miter;stroke-opacity:1\"/>\n",
       "<path class=\"bond-4 atom-3 atom-4\" d=\"M 400.2,124.0 L 400.3,174.9\" style=\"fill:none;fill-rule:evenodd;stroke:#000000;stroke-width:2.0px;stroke-linecap:butt;stroke-linejoin:miter;stroke-opacity:1\"/>\n",
       "<path class=\"bond-5 atom-4 atom-5\" d=\"M 409.6,180.2 L 356.5,211.1\" style=\"fill:none;fill-rule:evenodd;stroke:#000000;stroke-width:2.0px;stroke-linecap:butt;stroke-linejoin:miter;stroke-opacity:1\"/>\n",
       "<path class=\"bond-6 atom-0 atom-6\" d=\"M 303.1,180.5 L 250.0,211.5\" style=\"fill:none;fill-rule:evenodd;stroke:#000000;stroke-width:2.0px;stroke-linecap:butt;stroke-linejoin:miter;stroke-opacity:1\"/>\n",
       "<path class=\"bond-7 atom-6 atom-7\" d=\"M 250.0,211.5 L 228.5,199.2\" style=\"fill:none;fill-rule:evenodd;stroke:#000000;stroke-width:2.0px;stroke-linecap:butt;stroke-linejoin:miter;stroke-opacity:1\"/>\n",
       "<path class=\"bond-7 atom-6 atom-7\" d=\"M 228.5,199.2 L 207.1,186.9\" style=\"fill:none;fill-rule:evenodd;stroke:#CCCC00;stroke-width:2.0px;stroke-linecap:butt;stroke-linejoin:miter;stroke-opacity:1\"/>\n",
       "<path class=\"bond-8 atom-7 atom-8\" d=\"M 186.3,187.0 L 168.7,197.2\" style=\"fill:none;fill-rule:evenodd;stroke:#CCCC00;stroke-width:2.0px;stroke-linecap:butt;stroke-linejoin:miter;stroke-opacity:1\"/>\n",
       "<path class=\"bond-9 atom-8 atom-9\" d=\"M 133.1,205.9 L 111.7,193.6\" style=\"fill:none;fill-rule:evenodd;stroke:#CCCC00;stroke-width:2.0px;stroke-linecap:butt;stroke-linejoin:miter;stroke-opacity:1\"/>\n",
       "<path class=\"bond-9 atom-8 atom-9\" d=\"M 111.7,193.6 L 90.2,181.3\" style=\"fill:none;fill-rule:evenodd;stroke:#000000;stroke-width:2.0px;stroke-linecap:butt;stroke-linejoin:miter;stroke-opacity:1\"/>\n",
       "<path class=\"bond-10 atom-1 atom-10\" d=\"M 302.9,119.1 L 261.8,95.5\" style=\"fill:none;fill-rule:evenodd;stroke:#000000;stroke-width:2.0px;stroke-linecap:butt;stroke-linejoin:miter;stroke-opacity:1\"/>\n",
       "<path class=\"bond-11 atom-2 atom-11\" d=\"M 356.0,88.2 L 355.8,41.8\" style=\"fill:none;fill-rule:evenodd;stroke:#000000;stroke-width:2.0px;stroke-linecap:butt;stroke-linejoin:miter;stroke-opacity:1\"/>\n",
       "<path class=\"bond-12 atom-3 atom-12\" d=\"M 409.4,118.7 L 450.2,94.9\" style=\"fill:none;fill-rule:evenodd;stroke:#000000;stroke-width:2.0px;stroke-linecap:butt;stroke-linejoin:miter;stroke-opacity:1\"/>\n",
       "<path class=\"bond-13 atom-4 atom-13\" d=\"M 409.6,180.2 L 450.7,203.7\" style=\"fill:none;fill-rule:evenodd;stroke:#000000;stroke-width:2.0px;stroke-linecap:butt;stroke-linejoin:miter;stroke-opacity:1\"/>\n",
       "<path class=\"bond-14 atom-5 atom-14\" d=\"M 356.5,211.1 L 356.6,257.5\" style=\"fill:none;fill-rule:evenodd;stroke:#000000;stroke-width:2.0px;stroke-linecap:butt;stroke-linejoin:miter;stroke-opacity:1\"/>\n",
       "<path class=\"bond-15 atom-6 atom-15\" d=\"M 250.0,211.5 L 272.1,249.5\" style=\"fill:none;fill-rule:evenodd;stroke:#000000;stroke-width:2.0px;stroke-linecap:butt;stroke-linejoin:miter;stroke-opacity:1\"/>\n",
       "<path class=\"bond-16 atom-6 atom-16\" d=\"M 250.0,211.5 L 228.1,249.7\" style=\"fill:none;fill-rule:evenodd;stroke:#000000;stroke-width:2.0px;stroke-linecap:butt;stroke-linejoin:miter;stroke-opacity:1\"/>\n",
       "<path class=\"bond-17 atom-7 atom-17\" d=\"M 196.6,165.9 L 196.5,150.2\" style=\"fill:none;fill-rule:evenodd;stroke:#CCCC00;stroke-width:2.0px;stroke-linecap:butt;stroke-linejoin:miter;stroke-opacity:1\"/>\n",
       "<path class=\"bond-17 atom-7 atom-17\" d=\"M 196.5,150.2 L 196.5,134.5\" style=\"fill:none;fill-rule:evenodd;stroke:#000000;stroke-width:2.0px;stroke-linecap:butt;stroke-linejoin:miter;stroke-opacity:1\"/>\n",
       "<path class=\"bond-18 atom-8 atom-18\" d=\"M 143.6,227.6 L 143.7,242.9\" style=\"fill:none;fill-rule:evenodd;stroke:#CCCC00;stroke-width:2.0px;stroke-linecap:butt;stroke-linejoin:miter;stroke-opacity:1\"/>\n",
       "<path class=\"bond-18 atom-8 atom-18\" d=\"M 143.7,242.9 L 143.7,258.2\" style=\"fill:none;fill-rule:evenodd;stroke:#000000;stroke-width:2.0px;stroke-linecap:butt;stroke-linejoin:miter;stroke-opacity:1\"/>\n",
       "<path class=\"bond-19 atom-9 atom-19\" d=\"M 90.2,181.3 L 112.1,143.1\" style=\"fill:none;fill-rule:evenodd;stroke:#000000;stroke-width:2.0px;stroke-linecap:butt;stroke-linejoin:miter;stroke-opacity:1\"/>\n",
       "<path class=\"bond-20 atom-9 atom-20\" d=\"M 90.2,181.3 L 68.1,143.3\" style=\"fill:none;fill-rule:evenodd;stroke:#000000;stroke-width:2.0px;stroke-linecap:butt;stroke-linejoin:miter;stroke-opacity:1\"/>\n",
       "<path class=\"bond-21 atom-9 atom-21\" d=\"M 90.2,181.3 L 49.3,205.1\" style=\"fill:none;fill-rule:evenodd;stroke:#000000;stroke-width:2.0px;stroke-linecap:butt;stroke-linejoin:miter;stroke-opacity:1\"/>\n",
       "<path class=\"atom-7\" d=\"M 189.3 189.9 Q 189.6 190.0, 190.8 190.5 Q 192.0 191.0, 193.3 191.4 Q 194.7 191.7, 196.0 191.7 Q 198.5 191.7, 199.9 190.5 Q 201.4 189.3, 201.4 187.2 Q 201.4 185.7, 200.6 184.8 Q 199.9 184.0, 198.8 183.5 Q 197.7 183.0, 195.9 182.4 Q 193.6 181.7, 192.2 181.1 Q 190.8 180.4, 189.8 179.0 Q 188.8 177.6, 188.8 175.2 Q 188.8 172.0, 191.1 169.9 Q 193.3 167.9, 197.7 167.9 Q 200.7 167.9, 204.2 169.3 L 203.3 172.2 Q 200.2 170.9, 197.8 170.9 Q 195.3 170.9, 193.9 172.0 Q 192.5 173.0, 192.5 174.8 Q 192.5 176.2, 193.2 177.1 Q 194.0 177.9, 195.0 178.4 Q 196.1 178.9, 197.8 179.4 Q 200.2 180.2, 201.6 180.9 Q 203.0 181.6, 204.0 183.1 Q 205.0 184.6, 205.0 187.2 Q 205.0 190.8, 202.6 192.7 Q 200.2 194.6, 196.2 194.6 Q 193.9 194.6, 192.1 194.1 Q 190.3 193.7, 188.3 192.8 L 189.3 189.9 \" fill=\"#CCCC00\"/>\n",
       "<path class=\"atom-7\" d=\"M 208.5 172.2 L 213.1 172.2 L 213.1 167.4 L 215.1 167.4 L 215.1 172.2 L 219.8 172.2 L 219.8 174.0 L 215.1 174.0 L 215.1 178.9 L 213.1 178.9 L 213.1 174.0 L 208.5 174.0 L 208.5 172.2 \" fill=\"#CCCC00\"/>\n",
       "<path class=\"atom-8\" d=\"M 136.2 220.8 Q 136.5 220.9, 137.7 221.4 Q 138.9 221.9, 140.2 222.3 Q 141.6 222.6, 142.9 222.6 Q 145.4 222.6, 146.8 221.4 Q 148.3 220.2, 148.3 218.1 Q 148.3 216.6, 147.5 215.8 Q 146.8 214.9, 145.7 214.4 Q 144.6 213.9, 142.8 213.4 Q 140.4 212.7, 139.0 212.0 Q 137.7 211.3, 136.7 209.9 Q 135.7 208.5, 135.7 206.2 Q 135.7 202.9, 137.9 200.9 Q 140.2 198.8, 144.6 198.8 Q 147.6 198.8, 151.1 200.3 L 150.2 203.1 Q 147.1 201.8, 144.7 201.8 Q 142.2 201.8, 140.8 202.9 Q 139.4 203.9, 139.4 205.7 Q 139.4 207.1, 140.1 208.0 Q 140.8 208.8, 141.9 209.3 Q 142.9 209.8, 144.7 210.3 Q 147.1 211.1, 148.5 211.8 Q 149.9 212.5, 150.9 214.1 Q 151.9 215.5, 151.9 218.1 Q 151.9 221.7, 149.5 223.6 Q 147.1 225.6, 143.1 225.6 Q 140.7 225.6, 139.0 225.0 Q 137.2 224.6, 135.2 223.7 L 136.2 220.8 \" fill=\"#CCCC00\"/>\n",
       "<path class=\"atom-8\" d=\"M 155.3 203.1 L 159.9 203.1 L 159.9 198.3 L 162.0 198.3 L 162.0 203.1 L 166.7 203.1 L 166.7 204.9 L 162.0 204.9 L 162.0 209.8 L 159.9 209.8 L 159.9 204.9 L 155.3 204.9 L 155.3 203.1 \" fill=\"#CCCC00\"/>\n",
       "<path class=\"atom-10\" d=\"M 239.3 75.5 L 242.9 75.5 L 242.9 86.6 L 256.2 86.6 L 256.2 75.5 L 259.8 75.5 L 259.8 101.6 L 256.2 101.6 L 256.2 89.5 L 242.9 89.5 L 242.9 101.6 L 239.3 101.6 L 239.3 75.5 \" fill=\"#000000\"/>\n",
       "<path class=\"atom-11\" d=\"M 345.6 13.6 L 349.1 13.6 L 349.1 24.7 L 362.5 24.7 L 362.5 13.6 L 366.0 13.6 L 366.0 39.7 L 362.5 39.7 L 362.5 27.7 L 349.1 27.7 L 349.1 39.7 L 345.6 39.7 L 345.6 13.6 \" fill=\"#000000\"/>\n",
       "<path class=\"atom-12\" d=\"M 452.2 74.7 L 455.8 74.7 L 455.8 85.8 L 469.1 85.8 L 469.1 74.7 L 472.7 74.7 L 472.7 100.8 L 469.1 100.8 L 469.1 88.8 L 455.8 88.8 L 455.8 100.8 L 452.2 100.8 L 452.2 74.7 \" fill=\"#000000\"/>\n",
       "<path class=\"atom-13\" d=\"M 452.7 197.6 L 456.2 197.6 L 456.2 208.7 L 469.6 208.7 L 469.6 197.6 L 473.1 197.6 L 473.1 223.8 L 469.6 223.8 L 469.6 211.7 L 456.2 211.7 L 456.2 223.8 L 452.7 223.8 L 452.7 197.6 \" fill=\"#000000\"/>\n",
       "<path class=\"atom-14\" d=\"M 346.5 259.5 L 350.0 259.5 L 350.0 270.6 L 363.4 270.6 L 363.4 259.5 L 366.9 259.5 L 366.9 285.6 L 363.4 285.6 L 363.4 273.5 L 350.0 273.5 L 350.0 285.6 L 346.5 285.6 L 346.5 259.5 \" fill=\"#000000\"/>\n",
       "<path class=\"atom-15\" d=\"M 270.7 251.5 L 274.2 251.5 L 274.2 262.6 L 287.6 262.6 L 287.6 251.5 L 291.1 251.5 L 291.1 277.6 L 287.6 277.6 L 287.6 265.6 L 274.2 265.6 L 274.2 277.6 L 270.7 277.6 L 270.7 251.5 \" fill=\"#000000\"/>\n",
       "<path class=\"atom-16\" d=\"M 209.2 251.7 L 212.8 251.7 L 212.8 262.8 L 226.1 262.8 L 226.1 251.7 L 229.7 251.7 L 229.7 277.9 L 226.1 277.9 L 226.1 265.8 L 212.8 265.8 L 212.8 277.9 L 209.2 277.9 L 209.2 251.7 \" fill=\"#000000\"/>\n",
       "<path class=\"atom-17\" d=\"M 186.2 106.4 L 189.8 106.4 L 189.8 117.5 L 203.1 117.5 L 203.1 106.4 L 206.6 106.4 L 206.6 132.5 L 203.1 132.5 L 203.1 120.5 L 189.8 120.5 L 189.8 132.5 L 186.2 132.5 L 186.2 106.4 \" fill=\"#000000\"/>\n",
       "<path class=\"atom-18\" d=\"M 133.5 260.3 L 137.1 260.3 L 137.1 271.4 L 150.4 271.4 L 150.4 260.3 L 154.0 260.3 L 154.0 286.4 L 150.4 286.4 L 150.4 274.3 L 137.1 274.3 L 137.1 286.4 L 133.5 286.4 L 133.5 260.3 \" fill=\"#000000\"/>\n",
       "<path class=\"atom-19\" d=\"M 110.5 114.9 L 114.1 114.9 L 114.1 126.0 L 127.4 126.0 L 127.4 114.9 L 131.0 114.9 L 131.0 141.0 L 127.4 141.0 L 127.4 129.0 L 114.1 129.0 L 114.1 141.0 L 110.5 141.0 L 110.5 114.9 \" fill=\"#000000\"/>\n",
       "<path class=\"atom-20\" d=\"M 49.1 115.1 L 52.6 115.1 L 52.6 126.2 L 66.0 126.2 L 66.0 115.1 L 69.5 115.1 L 69.5 141.2 L 66.0 141.2 L 66.0 129.2 L 52.6 129.2 L 52.6 141.2 L 49.1 141.2 L 49.1 115.1 \" fill=\"#000000\"/>\n",
       "<path class=\"atom-21\" d=\"M 26.9 199.2 L 30.4 199.2 L 30.4 210.3 L 43.8 210.3 L 43.8 199.2 L 47.3 199.2 L 47.3 225.3 L 43.8 225.3 L 43.8 213.2 L 30.4 213.2 L 30.4 225.3 L 26.9 225.3 L 26.9 199.2 \" fill=\"#000000\"/>\n",
       "</svg>"
      ],
      "text/plain": [
       "<IPython.core.display.SVG object>"
      ]
     },
     "metadata": {},
     "output_type": "display_data"
    }
   ],
   "source": [
    "while (line := input()) != \"q\":\n",
    "    pid, smirks, smiles = line.split()\n",
    "    try:\n",
    "        mol = Molecule.from_smiles(smiles, allow_undefined_stereo=True)\n",
    "        labels = ff.label_molecules(mol.to_topology())[0][\"ProperTorsions\"].values()\n",
    "        pids = [p.id for p in labels]\n",
    "        if pid in pids:\n",
    "            print(\"matched!\")\n",
    "        else:\n",
    "            print(pids)\n",
    "        display(mol)\n",
    "    except Exception as e:\n",
    "        print(e)"
   ]
  },
  {
   "cell_type": "code",
   "execution_count": 22,
   "id": "435feb4a-ac30-4bb2-8d52-ef7fbeeb8932",
   "metadata": {},
   "outputs": [],
   "source": [
    "from rdkit import Chem\n",
    "from rdkit.Chem.Draw import MolsToGridImage, rdDepictor, rdMolDraw2D\n",
    "\n",
    "def mol_to_svg(mol: Molecule, hl_atoms) -> list[str]:\n",
    "    mol = mol.to_rdkit()\n",
    "    rdDepictor.SetPreferCoordGen(True)\n",
    "    rdDepictor.Compute2DCoords(mol)\n",
    "    rdmol = rdMolDraw2D.PrepareMolForDrawing(mol)\n",
    "\n",
    "    return MolsToGridImage(\n",
    "        [rdmol],\n",
    "        useSVG=True,\n",
    "        highlightAtomLists=[hl_atoms],\n",
    "        subImgSize=(300, 300),\n",
    "        molsPerRow=1,\n",
    "    )"
   ]
  },
  {
   "cell_type": "code",
   "execution_count": 4,
   "id": "a0249c17-6ead-4b29-bdc6-a4fe06e0a647",
   "metadata": {
    "scrolled": true
   },
   "outputs": [
    {
     "name": "stdin",
     "output_type": "stream",
     "text": [
      " t131g [NH3+][NH3+]\n"
     ]
    },
    {
     "ename": "ValueError",
     "evalue": "not enough values to unpack (expected 3, got 2)",
     "output_type": "error",
     "traceback": [
      "\u001b[0;31m---------------------------------------------------------------------------\u001b[0m",
      "\u001b[0;31mValueError\u001b[0m                                Traceback (most recent call last)",
      "Cell \u001b[0;32mIn[4], line 2\u001b[0m\n\u001b[1;32m      1\u001b[0m \u001b[38;5;28;01mwhile\u001b[39;00m (line \u001b[38;5;241m:=\u001b[39m \u001b[38;5;28minput\u001b[39m()) \u001b[38;5;241m!=\u001b[39m \u001b[38;5;124m\"\u001b[39m\u001b[38;5;124mq\u001b[39m\u001b[38;5;124m\"\u001b[39m:\n\u001b[0;32m----> 2\u001b[0m     pid, smirks, smiles \u001b[38;5;241m=\u001b[39m line\u001b[38;5;241m.\u001b[39msplit()\n\u001b[1;32m      3\u001b[0m     \u001b[38;5;28;01mtry\u001b[39;00m:\n\u001b[1;32m      4\u001b[0m         mol \u001b[38;5;241m=\u001b[39m Molecule\u001b[38;5;241m.\u001b[39mfrom_smiles(smiles, allow_undefined_stereo\u001b[38;5;241m=\u001b[39m\u001b[38;5;28;01mTrue\u001b[39;00m)\n",
      "\u001b[0;31mValueError\u001b[0m: not enough values to unpack (expected 3, got 2)"
     ]
    }
   ],
   "source": [
    "while (line := input()) != \"q\":\n",
    "    pid, smirks, smiles = line.split()\n",
    "    try:\n",
    "        mol = Molecule.from_smiles(smiles, allow_undefined_stereo=True)\n",
    "        labels = ff.label_molecules(mol.to_topology())[0][\"ProperTorsions\"]\n",
    "        envs = [k for k, v in labels.items() if v.id == pid]\n",
    "        assert len(envs) > 0\n",
    "        for env in envs:\n",
    "            print(pid, mol.to_smiles(mapped=True), env)\n",
    "            display(mol_to_svg(mol, env))\n",
    "    except Exception as e:\n",
    "        print(e)"
   ]
  },
  {
   "cell_type": "code",
   "execution_count": 13,
   "id": "a7b44226-dbb7-45d6-88d5-b68f48505e8c",
   "metadata": {
    "scrolled": true
   },
   "outputs": [
    {
     "data": {
      "image/svg+xml": [
       "<svg xmlns=\"http://www.w3.org/2000/svg\" xmlns:rdkit=\"http://www.rdkit.org/xml\" xmlns:xlink=\"http://www.w3.org/1999/xlink\" version=\"1.1\" baseProfile=\"full\" xml:space=\"preserve\" width=\"500px\" height=\"300px\" viewBox=\"0 0 500 300\">\n",
       "<!-- END OF HEADER -->\n",
       "<rect style=\"opacity:1.0;fill:#FFFFFF;stroke:none\" width=\"500.0\" height=\"300.0\" x=\"0.0\" y=\"0.0\"> </rect>\n",
       "<path class=\"bond-0 atom-0 atom-1\" d=\"M 281.7,106.0 L 282.1,121.5\" style=\"fill:none;fill-rule:evenodd;stroke:#000000;stroke-width:2.0px;stroke-linecap:butt;stroke-linejoin:miter;stroke-opacity:1\"/>\n",
       "<path class=\"bond-0 atom-0 atom-1\" d=\"M 282.1,121.5 L 282.4,136.9\" style=\"fill:none;fill-rule:evenodd;stroke:#CCCC00;stroke-width:2.0px;stroke-linecap:butt;stroke-linejoin:miter;stroke-opacity:1\"/>\n",
       "<path class=\"bond-0 atom-0 atom-1\" d=\"M 275.8,109.6 L 276.1,123.3\" style=\"fill:none;fill-rule:evenodd;stroke:#000000;stroke-width:2.0px;stroke-linecap:butt;stroke-linejoin:miter;stroke-opacity:1\"/>\n",
       "<path class=\"bond-0 atom-0 atom-1\" d=\"M 276.1,123.3 L 276.4,137.0\" style=\"fill:none;fill-rule:evenodd;stroke:#CCCC00;stroke-width:2.0px;stroke-linecap:butt;stroke-linejoin:miter;stroke-opacity:1\"/>\n",
       "<path class=\"bond-1 atom-0 atom-24\" d=\"M 281.7,106.0 L 255.3,91.0\" style=\"fill:none;fill-rule:evenodd;stroke:#000000;stroke-width:2.0px;stroke-linecap:butt;stroke-linejoin:miter;stroke-opacity:1\"/>\n",
       "<path class=\"bond-2 atom-0 atom-25\" d=\"M 281.7,106.0 L 306.7,91.2\" style=\"fill:none;fill-rule:evenodd;stroke:#000000;stroke-width:2.0px;stroke-linecap:butt;stroke-linejoin:miter;stroke-opacity:1\"/>\n",
       "<path class=\"bond-3 atom-1 atom-2\" d=\"M 289.4,150.7 L 303.7,159.0\" style=\"fill:none;fill-rule:evenodd;stroke:#CCCC00;stroke-width:2.0px;stroke-linecap:butt;stroke-linejoin:miter;stroke-opacity:1\"/>\n",
       "<path class=\"bond-3 atom-1 atom-2\" d=\"M 303.7,159.0 L 318.1,167.2\" style=\"fill:none;fill-rule:evenodd;stroke:#000000;stroke-width:2.0px;stroke-linecap:butt;stroke-linejoin:miter;stroke-opacity:1\"/>\n",
       "<path class=\"bond-4 atom-1 atom-13\" d=\"M 275.7,150.8 L 265.8,156.6\" style=\"fill:none;fill-rule:evenodd;stroke:#CCCC00;stroke-width:2.0px;stroke-linecap:butt;stroke-linejoin:miter;stroke-opacity:1\"/>\n",
       "<path class=\"bond-4 atom-1 atom-13\" d=\"M 265.8,156.6 L 255.8,162.5\" style=\"fill:none;fill-rule:evenodd;stroke:#0000FF;stroke-width:2.0px;stroke-linecap:butt;stroke-linejoin:miter;stroke-opacity:1\"/>\n",
       "<path class=\"bond-5 atom-2 atom-3\" d=\"M 318.1,167.2 L 355.2,151.2\" style=\"fill:none;fill-rule:evenodd;stroke:#000000;stroke-width:2.0px;stroke-linecap:butt;stroke-linejoin:miter;stroke-opacity:1\"/>\n",
       "<path class=\"bond-5 atom-2 atom-3\" d=\"M 324.5,171.0 L 353.6,158.4\" style=\"fill:none;fill-rule:evenodd;stroke:#000000;stroke-width:2.0px;stroke-linecap:butt;stroke-linejoin:miter;stroke-opacity:1\"/>\n",
       "<path class=\"bond-6 atom-2 atom-12\" d=\"M 318.1,167.2 L 319.6,182.4\" style=\"fill:none;fill-rule:evenodd;stroke:#000000;stroke-width:2.0px;stroke-linecap:butt;stroke-linejoin:miter;stroke-opacity:1\"/>\n",
       "<path class=\"bond-6 atom-2 atom-12\" d=\"M 319.6,182.4 L 321.0,197.6\" style=\"fill:none;fill-rule:evenodd;stroke:#CCCC00;stroke-width:2.0px;stroke-linecap:butt;stroke-linejoin:miter;stroke-opacity:1\"/>\n",
       "<path class=\"bond-7 atom-3 atom-4\" d=\"M 355.2,151.2 L 368.1,112.7\" style=\"fill:none;fill-rule:evenodd;stroke:#000000;stroke-width:2.0px;stroke-linecap:butt;stroke-linejoin:miter;stroke-opacity:1\"/>\n",
       "<path class=\"bond-8 atom-3 atom-9\" d=\"M 355.2,151.2 L 381.9,181.4\" style=\"fill:none;fill-rule:evenodd;stroke:#000000;stroke-width:2.0px;stroke-linecap:butt;stroke-linejoin:miter;stroke-opacity:1\"/>\n",
       "<path class=\"bond-9 atom-4 atom-5\" d=\"M 371.4,112.1 L 364.7,104.2\" style=\"fill:none;fill-rule:evenodd;stroke:#000000;stroke-width:2.0px;stroke-linecap:butt;stroke-linejoin:miter;stroke-opacity:1\"/>\n",
       "<path class=\"bond-9 atom-4 atom-5\" d=\"M 364.7,104.2 L 358.0,96.4\" style=\"fill:none;fill-rule:evenodd;stroke:#FF0000;stroke-width:2.0px;stroke-linecap:butt;stroke-linejoin:miter;stroke-opacity:1\"/>\n",
       "<path class=\"bond-9 atom-4 atom-5\" d=\"M 367.0,116.1 L 360.2,108.2\" style=\"fill:none;fill-rule:evenodd;stroke:#000000;stroke-width:2.0px;stroke-linecap:butt;stroke-linejoin:miter;stroke-opacity:1\"/>\n",
       "<path class=\"bond-9 atom-4 atom-5\" d=\"M 360.2,108.2 L 353.5,100.3\" style=\"fill:none;fill-rule:evenodd;stroke:#FF0000;stroke-width:2.0px;stroke-linecap:butt;stroke-linejoin:miter;stroke-opacity:1\"/>\n",
       "<path class=\"bond-10 atom-4 atom-6\" d=\"M 368.1,112.7 L 407.6,104.5\" style=\"fill:none;fill-rule:evenodd;stroke:#000000;stroke-width:2.0px;stroke-linecap:butt;stroke-linejoin:miter;stroke-opacity:1\"/>\n",
       "<path class=\"bond-11 atom-6 atom-7\" d=\"M 407.6,104.5 L 434.4,134.9\" style=\"fill:none;fill-rule:evenodd;stroke:#000000;stroke-width:2.0px;stroke-linecap:butt;stroke-linejoin:miter;stroke-opacity:1\"/>\n",
       "<path class=\"bond-12 atom-6 atom-26\" d=\"M 407.6,104.5 L 395.5,77.7\" style=\"fill:none;fill-rule:evenodd;stroke:#000000;stroke-width:2.0px;stroke-linecap:butt;stroke-linejoin:miter;stroke-opacity:1\"/>\n",
       "<path class=\"bond-13 atom-6 atom-27\" d=\"M 407.6,104.5 L 431.3,86.6\" style=\"fill:none;fill-rule:evenodd;stroke:#000000;stroke-width:2.0px;stroke-linecap:butt;stroke-linejoin:miter;stroke-opacity:1\"/>\n",
       "<path class=\"bond-14 atom-7 atom-8\" d=\"M 434.4,134.9 L 421.6,173.4\" style=\"fill:none;fill-rule:evenodd;stroke:#000000;stroke-width:2.0px;stroke-linecap:butt;stroke-linejoin:miter;stroke-opacity:1\"/>\n",
       "<path class=\"bond-15 atom-7 atom-28\" d=\"M 434.4,134.9 L 452.6,114.1\" style=\"fill:none;fill-rule:evenodd;stroke:#000000;stroke-width:2.0px;stroke-linecap:butt;stroke-linejoin:miter;stroke-opacity:1\"/>\n",
       "<path class=\"bond-16 atom-7 atom-29\" d=\"M 434.4,134.9 L 462.6,147.6\" style=\"fill:none;fill-rule:evenodd;stroke:#000000;stroke-width:2.0px;stroke-linecap:butt;stroke-linejoin:miter;stroke-opacity:1\"/>\n",
       "<path class=\"bond-17 atom-8 atom-9\" d=\"M 421.6,173.4 L 381.9,181.4\" style=\"fill:none;fill-rule:evenodd;stroke:#000000;stroke-width:2.0px;stroke-linecap:butt;stroke-linejoin:miter;stroke-opacity:1\"/>\n",
       "<path class=\"bond-18 atom-8 atom-30\" d=\"M 421.6,173.4 L 452.5,180.3\" style=\"fill:none;fill-rule:evenodd;stroke:#000000;stroke-width:2.0px;stroke-linecap:butt;stroke-linejoin:miter;stroke-opacity:1\"/>\n",
       "<path class=\"bond-19 atom-8 atom-31\" d=\"M 421.6,173.4 L 421.3,203.7\" style=\"fill:none;fill-rule:evenodd;stroke:#000000;stroke-width:2.0px;stroke-linecap:butt;stroke-linejoin:miter;stroke-opacity:1\"/>\n",
       "<path class=\"bond-20 atom-9 atom-10\" d=\"M 381.9,181.4 L 361.3,216.3\" style=\"fill:none;fill-rule:evenodd;stroke:#000000;stroke-width:2.0px;stroke-linecap:butt;stroke-linejoin:miter;stroke-opacity:1\"/>\n",
       "<path class=\"bond-20 atom-9 atom-10\" d=\"M 374.5,182.1 L 358.4,209.4\" style=\"fill:none;fill-rule:evenodd;stroke:#000000;stroke-width:2.0px;stroke-linecap:butt;stroke-linejoin:miter;stroke-opacity:1\"/>\n",
       "<path class=\"bond-21 atom-10 atom-11\" d=\"M 361.3,216.3 L 367.3,230.0\" style=\"fill:none;fill-rule:evenodd;stroke:#000000;stroke-width:2.0px;stroke-linecap:butt;stroke-linejoin:miter;stroke-opacity:1\"/>\n",
       "<path class=\"bond-21 atom-10 atom-11\" d=\"M 367.3,230.0 L 373.3,243.8\" style=\"fill:none;fill-rule:evenodd;stroke:#00CC00;stroke-width:2.0px;stroke-linecap:butt;stroke-linejoin:miter;stroke-opacity:1\"/>\n",
       "<path class=\"bond-22 atom-10 atom-12\" d=\"M 361.3,216.3 L 345.1,212.6\" style=\"fill:none;fill-rule:evenodd;stroke:#000000;stroke-width:2.0px;stroke-linecap:butt;stroke-linejoin:miter;stroke-opacity:1\"/>\n",
       "<path class=\"bond-22 atom-10 atom-12\" d=\"M 345.1,212.6 L 328.8,209.0\" style=\"fill:none;fill-rule:evenodd;stroke:#CCCC00;stroke-width:2.0px;stroke-linecap:butt;stroke-linejoin:miter;stroke-opacity:1\"/>\n",
       "<path class=\"bond-23 atom-13 atom-14\" d=\"M 240.2,162.6 L 226.7,154.8\" style=\"fill:none;fill-rule:evenodd;stroke:#0000FF;stroke-width:2.0px;stroke-linecap:butt;stroke-linejoin:miter;stroke-opacity:1\"/>\n",
       "<path class=\"bond-23 atom-13 atom-14\" d=\"M 226.7,154.8 L 213.2,147.0\" style=\"fill:none;fill-rule:evenodd;stroke:#000000;stroke-width:2.0px;stroke-linecap:butt;stroke-linejoin:miter;stroke-opacity:1\"/>\n",
       "<path class=\"bond-24 atom-13 atom-32\" d=\"M 248.0,177.0 L 248.1,187.2\" style=\"fill:none;fill-rule:evenodd;stroke:#0000FF;stroke-width:2.0px;stroke-linecap:butt;stroke-linejoin:miter;stroke-opacity:1\"/>\n",
       "<path class=\"bond-24 atom-13 atom-32\" d=\"M 248.1,187.2 L 248.1,197.5\" style=\"fill:none;fill-rule:evenodd;stroke:#000000;stroke-width:2.0px;stroke-linecap:butt;stroke-linejoin:miter;stroke-opacity:1\"/>\n",
       "<path class=\"bond-25 atom-14 atom-15\" d=\"M 216.2,148.7 L 216.2,132.8\" style=\"fill:none;fill-rule:evenodd;stroke:#000000;stroke-width:2.0px;stroke-linecap:butt;stroke-linejoin:miter;stroke-opacity:1\"/>\n",
       "<path class=\"bond-25 atom-14 atom-15\" d=\"M 216.2,132.8 L 216.2,116.9\" style=\"fill:none;fill-rule:evenodd;stroke:#FF0000;stroke-width:2.0px;stroke-linecap:butt;stroke-linejoin:miter;stroke-opacity:1\"/>\n",
       "<path class=\"bond-25 atom-14 atom-15\" d=\"M 210.2,148.7 L 210.2,132.8\" style=\"fill:none;fill-rule:evenodd;stroke:#000000;stroke-width:2.0px;stroke-linecap:butt;stroke-linejoin:miter;stroke-opacity:1\"/>\n",
       "<path class=\"bond-25 atom-14 atom-15\" d=\"M 210.2,132.8 L 210.2,116.9\" style=\"fill:none;fill-rule:evenodd;stroke:#FF0000;stroke-width:2.0px;stroke-linecap:butt;stroke-linejoin:miter;stroke-opacity:1\"/>\n",
       "<path class=\"bond-26 atom-14 atom-16\" d=\"M 213.2,147.0 L 199.6,154.7\" style=\"fill:none;fill-rule:evenodd;stroke:#000000;stroke-width:2.0px;stroke-linecap:butt;stroke-linejoin:miter;stroke-opacity:1\"/>\n",
       "<path class=\"bond-26 atom-14 atom-16\" d=\"M 199.6,154.7 L 186.1,162.5\" style=\"fill:none;fill-rule:evenodd;stroke:#0000FF;stroke-width:2.0px;stroke-linecap:butt;stroke-linejoin:miter;stroke-opacity:1\"/>\n",
       "<path class=\"bond-27 atom-16 atom-17\" d=\"M 170.4,162.5 L 156.9,154.7\" style=\"fill:none;fill-rule:evenodd;stroke:#0000FF;stroke-width:2.0px;stroke-linecap:butt;stroke-linejoin:miter;stroke-opacity:1\"/>\n",
       "<path class=\"bond-27 atom-16 atom-17\" d=\"M 156.9,154.7 L 143.4,146.8\" style=\"fill:none;fill-rule:evenodd;stroke:#000000;stroke-width:2.0px;stroke-linecap:butt;stroke-linejoin:miter;stroke-opacity:1\"/>\n",
       "<path class=\"bond-28 atom-16 atom-33\" d=\"M 178.2,176.9 L 178.2,187.2\" style=\"fill:none;fill-rule:evenodd;stroke:#0000FF;stroke-width:2.0px;stroke-linecap:butt;stroke-linejoin:miter;stroke-opacity:1\"/>\n",
       "<path class=\"bond-28 atom-16 atom-33\" d=\"M 178.2,187.2 L 178.2,197.5\" style=\"fill:none;fill-rule:evenodd;stroke:#000000;stroke-width:2.0px;stroke-linecap:butt;stroke-linejoin:miter;stroke-opacity:1\"/>\n",
       "<path class=\"bond-29 atom-17 atom-18\" d=\"M 143.4,146.8 L 108.4,166.8\" style=\"fill:none;fill-rule:evenodd;stroke:#000000;stroke-width:2.0px;stroke-linecap:butt;stroke-linejoin:miter;stroke-opacity:1\"/>\n",
       "<path class=\"bond-29 atom-17 atom-18\" d=\"M 137.4,143.3 L 108.4,159.9\" style=\"fill:none;fill-rule:evenodd;stroke:#000000;stroke-width:2.0px;stroke-linecap:butt;stroke-linejoin:miter;stroke-opacity:1\"/>\n",
       "<path class=\"bond-30 atom-17 atom-23\" d=\"M 143.4,146.8 L 143.4,106.5\" style=\"fill:none;fill-rule:evenodd;stroke:#000000;stroke-width:2.0px;stroke-linecap:butt;stroke-linejoin:miter;stroke-opacity:1\"/>\n",
       "<path class=\"bond-31 atom-18 atom-19\" d=\"M 108.4,166.8 L 73.5,146.6\" style=\"fill:none;fill-rule:evenodd;stroke:#000000;stroke-width:2.0px;stroke-linecap:butt;stroke-linejoin:miter;stroke-opacity:1\"/>\n",
       "<path class=\"bond-32 atom-18 atom-34\" d=\"M 108.4,166.8 L 108.3,197.3\" style=\"fill:none;fill-rule:evenodd;stroke:#000000;stroke-width:2.0px;stroke-linecap:butt;stroke-linejoin:miter;stroke-opacity:1\"/>\n",
       "<path class=\"bond-33 atom-19 atom-20\" d=\"M 73.5,146.6 L 73.7,106.4\" style=\"fill:none;fill-rule:evenodd;stroke:#000000;stroke-width:2.0px;stroke-linecap:butt;stroke-linejoin:miter;stroke-opacity:1\"/>\n",
       "<path class=\"bond-33 atom-19 atom-20\" d=\"M 79.5,143.2 L 79.7,109.8\" style=\"fill:none;fill-rule:evenodd;stroke:#000000;stroke-width:2.0px;stroke-linecap:butt;stroke-linejoin:miter;stroke-opacity:1\"/>\n",
       "<path class=\"bond-34 atom-19 atom-35\" d=\"M 73.5,146.6 L 46.6,162.1\" style=\"fill:none;fill-rule:evenodd;stroke:#000000;stroke-width:2.0px;stroke-linecap:butt;stroke-linejoin:miter;stroke-opacity:1\"/>\n",
       "<path class=\"bond-35 atom-20 atom-21\" d=\"M 73.7,106.4 L 57.5,96.9\" style=\"fill:none;fill-rule:evenodd;stroke:#000000;stroke-width:2.0px;stroke-linecap:butt;stroke-linejoin:miter;stroke-opacity:1\"/>\n",
       "<path class=\"bond-35 atom-20 atom-21\" d=\"M 57.5,96.9 L 41.2,87.5\" style=\"fill:none;fill-rule:evenodd;stroke:#00CC00;stroke-width:2.0px;stroke-linecap:butt;stroke-linejoin:miter;stroke-opacity:1\"/>\n",
       "<path class=\"bond-36 atom-20 atom-22\" d=\"M 73.7,106.4 L 108.6,86.2\" style=\"fill:none;fill-rule:evenodd;stroke:#000000;stroke-width:2.0px;stroke-linecap:butt;stroke-linejoin:miter;stroke-opacity:1\"/>\n",
       "<path class=\"bond-37 atom-22 atom-23\" d=\"M 108.6,86.2 L 143.4,106.5\" style=\"fill:none;fill-rule:evenodd;stroke:#000000;stroke-width:2.0px;stroke-linecap:butt;stroke-linejoin:miter;stroke-opacity:1\"/>\n",
       "<path class=\"bond-37 atom-22 atom-23\" d=\"M 108.6,93.2 L 137.4,110.0\" style=\"fill:none;fill-rule:evenodd;stroke:#000000;stroke-width:2.0px;stroke-linecap:butt;stroke-linejoin:miter;stroke-opacity:1\"/>\n",
       "<path class=\"bond-38 atom-22 atom-36\" d=\"M 108.6,86.2 L 108.7,55.8\" style=\"fill:none;fill-rule:evenodd;stroke:#000000;stroke-width:2.0px;stroke-linecap:butt;stroke-linejoin:miter;stroke-opacity:1\"/>\n",
       "<path class=\"bond-39 atom-23 atom-37\" d=\"M 143.4,106.5 L 170.4,91.0\" style=\"fill:none;fill-rule:evenodd;stroke:#000000;stroke-width:2.0px;stroke-linecap:butt;stroke-linejoin:miter;stroke-opacity:1\"/>\n",
       "<path d=\"M 367.4,114.7 L 368.1,112.7 L 370.1,112.3\" style=\"fill:none;stroke:#000000;stroke-width:2.0px;stroke-linecap:butt;stroke-linejoin:miter;stroke-opacity:1;\"/>\n",
       "<path d=\"M 213.8,147.3 L 213.2,147.0 L 212.5,147.3\" style=\"fill:none;stroke:#000000;stroke-width:2.0px;stroke-linecap:butt;stroke-linejoin:miter;stroke-opacity:1;\"/>\n",
       "<path class=\"atom-1\" d=\"M 277.7 152.7 Q 277.9 152.7, 278.7 153.1 Q 279.5 153.4, 280.4 153.6 Q 281.3 153.8, 282.1 153.8 Q 283.8 153.8, 284.7 153.0 Q 285.7 152.2, 285.7 150.9 Q 285.7 149.9, 285.2 149.3 Q 284.7 148.8, 284.0 148.4 Q 283.3 148.1, 282.0 147.8 Q 280.5 147.3, 279.6 146.9 Q 278.7 146.4, 278.1 145.5 Q 277.4 144.6, 277.4 143.1 Q 277.4 140.9, 278.9 139.6 Q 280.4 138.2, 283.3 138.2 Q 285.2 138.2, 287.5 139.2 L 286.9 141.0 Q 284.9 140.2, 283.3 140.2 Q 281.7 140.2, 280.7 140.9 Q 279.8 141.6, 279.8 142.8 Q 279.8 143.7, 280.3 144.2 Q 280.8 144.8, 281.5 145.1 Q 282.2 145.4, 283.3 145.8 Q 284.9 146.3, 285.8 146.8 Q 286.7 147.2, 287.4 148.2 Q 288.0 149.2, 288.0 150.9 Q 288.0 153.2, 286.4 154.5 Q 284.9 155.8, 282.2 155.8 Q 280.7 155.8, 279.6 155.4 Q 278.4 155.1, 277.1 154.6 L 277.7 152.7 \" fill=\"#CCCC00\"/>\n",
       "<path class=\"atom-5\" d=\"M 339.1 88.1 Q 339.1 84.0, 341.1 81.7 Q 343.2 79.4, 347.0 79.4 Q 350.8 79.4, 352.8 81.7 Q 354.8 84.0, 354.8 88.1 Q 354.8 92.3, 352.8 94.7 Q 350.7 97.0, 347.0 97.0 Q 343.2 97.0, 341.1 94.7 Q 339.1 92.3, 339.1 88.1 M 347.0 95.1 Q 349.6 95.1, 351.0 93.3 Q 352.4 91.6, 352.4 88.1 Q 352.4 84.8, 351.0 83.1 Q 349.6 81.4, 347.0 81.4 Q 344.4 81.4, 342.9 83.1 Q 341.5 84.7, 341.5 88.1 Q 341.5 91.6, 342.9 93.3 Q 344.4 95.1, 347.0 95.1 \" fill=\"#FF0000\"/>\n",
       "<path class=\"atom-11\" d=\"M 370.8 253.8 Q 370.8 249.5, 372.8 247.3 Q 374.8 245.1, 378.6 245.1 Q 382.1 245.1, 384.0 247.6 L 382.4 248.9 Q 381.0 247.1, 378.6 247.1 Q 376.0 247.1, 374.6 248.8 Q 373.3 250.5, 373.3 253.8 Q 373.3 257.2, 374.7 258.9 Q 376.1 260.7, 378.8 260.7 Q 380.7 260.7, 382.9 259.5 L 383.6 261.4 Q 382.7 261.9, 381.4 262.3 Q 380.0 262.6, 378.5 262.6 Q 374.8 262.6, 372.8 260.3 Q 370.8 258.1, 370.8 253.8 \" fill=\"#00CC00\"/>\n",
       "<path class=\"atom-11\" d=\"M 385.7 244.0 L 388.0 244.0 L 388.0 262.4 L 385.7 262.4 L 385.7 244.0 \" fill=\"#00CC00\"/>\n",
       "<path class=\"atom-12\" d=\"M 317.1 213.3 Q 317.3 213.4, 318.1 213.7 Q 318.9 214.1, 319.8 214.3 Q 320.7 214.5, 321.6 214.5 Q 323.2 214.5, 324.1 213.7 Q 325.1 212.9, 325.1 211.5 Q 325.1 210.6, 324.6 210.0 Q 324.1 209.4, 323.4 209.1 Q 322.7 208.8, 321.5 208.4 Q 319.9 208.0, 319.0 207.5 Q 318.1 207.1, 317.5 206.2 Q 316.8 205.3, 316.8 203.7 Q 316.8 201.5, 318.3 200.2 Q 319.8 198.9, 322.7 198.9 Q 324.6 198.9, 326.9 199.8 L 326.3 201.7 Q 324.3 200.8, 322.7 200.8 Q 321.1 200.8, 320.2 201.5 Q 319.2 202.2, 319.3 203.4 Q 319.3 204.3, 319.7 204.9 Q 320.2 205.4, 320.9 205.8 Q 321.6 206.1, 322.7 206.4 Q 324.3 206.9, 325.2 207.4 Q 326.1 207.9, 326.8 208.9 Q 327.5 209.8, 327.5 211.5 Q 327.5 213.9, 325.9 215.2 Q 324.3 216.4, 321.7 216.4 Q 320.1 216.4, 319.0 216.1 Q 317.8 215.8, 316.5 215.2 L 317.1 213.3 \" fill=\"#CCCC00\"/>\n",
       "<path class=\"atom-13\" d=\"M 244.2 158.5 L 249.8 167.6 Q 250.4 168.5, 251.3 170.1 Q 252.2 171.7, 252.2 171.8 L 252.2 158.5 L 254.5 158.5 L 254.5 175.6 L 252.2 175.6 L 246.1 165.7 Q 245.4 164.6, 244.7 163.2 Q 244.0 161.9, 243.7 161.5 L 243.7 175.6 L 241.5 175.6 L 241.5 158.5 L 244.2 158.5 \" fill=\"#0000FF\"/>\n",
       "<path class=\"atom-15\" d=\"M 205.4 106.7 Q 205.4 102.6, 207.4 100.3 Q 209.5 98.0, 213.2 98.0 Q 217.0 98.0, 219.1 100.3 Q 221.1 102.6, 221.1 106.7 Q 221.1 110.8, 219.1 113.2 Q 217.0 115.5, 213.2 115.5 Q 209.5 115.5, 207.4 113.2 Q 205.4 110.9, 205.4 106.7 M 213.2 113.6 Q 215.9 113.6, 217.3 111.9 Q 218.7 110.1, 218.7 106.7 Q 218.7 103.3, 217.3 101.6 Q 215.9 99.9, 213.2 99.9 Q 210.6 99.9, 209.2 101.6 Q 207.8 103.3, 207.8 106.7 Q 207.8 110.1, 209.2 111.9 Q 210.6 113.6, 213.2 113.6 \" fill=\"#FF0000\"/>\n",
       "<path class=\"atom-16\" d=\"M 174.5 158.5 L 180.1 167.5 Q 180.6 168.4, 181.5 170.1 Q 182.4 171.7, 182.5 171.8 L 182.5 158.5 L 184.7 158.5 L 184.7 175.6 L 182.4 175.6 L 176.4 165.7 Q 175.7 164.5, 174.9 163.2 Q 174.2 161.9, 174.0 161.4 L 174.0 175.6 L 171.7 175.6 L 171.7 158.5 L 174.5 158.5 \" fill=\"#0000FF\"/>\n",
       "<path class=\"atom-21\" d=\"M 22.7 86.7 Q 22.7 82.4, 24.7 80.2 Q 26.7 78.0, 30.5 78.0 Q 34.0 78.0, 35.9 80.5 L 34.3 81.8 Q 33.0 79.9, 30.5 79.9 Q 27.9 79.9, 26.5 81.7 Q 25.2 83.4, 25.2 86.7 Q 25.2 90.1, 26.6 91.8 Q 28.0 93.6, 30.8 93.6 Q 32.7 93.6, 34.9 92.4 L 35.5 94.2 Q 34.7 94.8, 33.3 95.2 Q 31.9 95.5, 30.4 95.5 Q 26.7 95.5, 24.7 93.2 Q 22.7 91.0, 22.7 86.7 \" fill=\"#00CC00\"/>\n",
       "<path class=\"atom-21\" d=\"M 37.7 76.9 L 39.9 76.9 L 39.9 95.3 L 37.7 95.3 L 37.7 76.9 \" fill=\"#00CC00\"/>\n",
       "<path class=\"atom-24\" d=\"M 240.6 77.9 L 242.9 77.9 L 242.9 85.2 L 251.7 85.2 L 251.7 77.9 L 254.0 77.9 L 254.0 95.0 L 251.7 95.0 L 251.7 87.1 L 242.9 87.1 L 242.9 95.0 L 240.6 95.0 L 240.6 77.9 \" fill=\"#000000\"/>\n",
       "<path class=\"atom-25\" d=\"M 308.1 77.9 L 310.4 77.9 L 310.4 85.2 L 319.1 85.2 L 319.1 77.9 L 321.5 77.9 L 321.5 95.0 L 319.1 95.0 L 319.1 87.1 L 310.4 87.1 L 310.4 95.0 L 308.1 95.0 L 308.1 77.9 \" fill=\"#000000\"/>\n",
       "<path class=\"atom-26\" d=\"M 384.3 59.3 L 386.6 59.3 L 386.6 66.5 L 395.4 66.5 L 395.4 59.3 L 397.7 59.3 L 397.7 76.4 L 395.4 76.4 L 395.4 68.5 L 386.6 68.5 L 386.6 76.4 L 384.3 76.4 L 384.3 59.3 \" fill=\"#000000\"/>\n",
       "<path class=\"atom-27\" d=\"M 432.7 72.0 L 435.0 72.0 L 435.0 79.3 L 443.7 79.3 L 443.7 72.0 L 446.1 72.0 L 446.1 89.1 L 443.7 89.1 L 443.7 81.2 L 435.0 81.2 L 435.0 89.1 L 432.7 89.1 L 432.7 72.0 \" fill=\"#000000\"/>\n",
       "<path class=\"atom-28\" d=\"M 453.9 96.4 L 456.2 96.4 L 456.2 103.6 L 465.0 103.6 L 465.0 96.4 L 467.3 96.4 L 467.3 113.5 L 465.0 113.5 L 465.0 105.6 L 456.2 105.6 L 456.2 113.5 L 453.9 113.5 L 453.9 96.4 \" fill=\"#000000\"/>\n",
       "<path class=\"atom-29\" d=\"M 463.9 142.7 L 466.2 142.7 L 466.2 150.0 L 475.0 150.0 L 475.0 142.7 L 477.3 142.7 L 477.3 159.9 L 475.0 159.9 L 475.0 151.9 L 466.2 151.9 L 466.2 159.9 L 463.9 159.9 L 463.9 142.7 \" fill=\"#000000\"/>\n",
       "<path class=\"atom-30\" d=\"M 453.9 173.5 L 456.2 173.5 L 456.2 180.8 L 464.9 180.8 L 464.9 173.5 L 467.3 173.5 L 467.3 190.6 L 464.9 190.6 L 464.9 182.7 L 456.2 182.7 L 456.2 190.6 L 453.9 190.6 L 453.9 173.5 \" fill=\"#000000\"/>\n",
       "<path class=\"atom-31\" d=\"M 414.6 205.1 L 416.9 205.1 L 416.9 212.3 L 425.6 212.3 L 425.6 205.1 L 428.0 205.1 L 428.0 222.2 L 425.6 222.2 L 425.6 214.3 L 416.9 214.3 L 416.9 222.2 L 414.6 222.2 L 414.6 205.1 \" fill=\"#000000\"/>\n",
       "<path class=\"atom-32\" d=\"M 241.5 198.8 L 243.8 198.8 L 243.8 206.1 L 252.5 206.1 L 252.5 198.8 L 254.9 198.8 L 254.9 216.0 L 252.5 216.0 L 252.5 208.1 L 243.8 208.1 L 243.8 216.0 L 241.5 216.0 L 241.5 198.8 \" fill=\"#000000\"/>\n",
       "<path class=\"atom-33\" d=\"M 171.5 198.8 L 173.8 198.8 L 173.8 206.1 L 182.5 206.1 L 182.5 198.8 L 184.9 198.8 L 184.9 215.9 L 182.5 215.9 L 182.5 208.0 L 173.8 208.0 L 173.8 215.9 L 171.5 215.9 L 171.5 198.8 \" fill=\"#000000\"/>\n",
       "<path class=\"atom-34\" d=\"M 101.6 198.6 L 103.9 198.6 L 103.9 205.9 L 112.7 205.9 L 112.7 198.6 L 115.0 198.6 L 115.0 215.7 L 112.7 215.7 L 112.7 207.8 L 103.9 207.8 L 103.9 215.7 L 101.6 215.7 L 101.6 198.6 \" fill=\"#000000\"/>\n",
       "<path class=\"atom-35\" d=\"M 31.9 158.1 L 34.2 158.1 L 34.2 165.4 L 43.0 165.4 L 43.0 158.1 L 45.3 158.1 L 45.3 175.3 L 43.0 175.3 L 43.0 167.4 L 34.2 167.4 L 34.2 175.3 L 31.9 175.3 L 31.9 158.1 \" fill=\"#000000\"/>\n",
       "<path class=\"atom-36\" d=\"M 102.0 37.4 L 104.3 37.4 L 104.3 44.7 L 113.1 44.7 L 113.1 37.4 L 115.4 37.4 L 115.4 54.5 L 113.1 54.5 L 113.1 46.6 L 104.3 46.6 L 104.3 54.5 L 102.0 54.5 L 102.0 37.4 \" fill=\"#000000\"/>\n",
       "<path class=\"atom-37\" d=\"M 171.7 77.9 L 174.0 77.9 L 174.0 85.1 L 182.8 85.1 L 182.8 77.9 L 185.1 77.9 L 185.1 95.0 L 182.8 95.0 L 182.8 87.1 L 174.0 87.1 L 174.0 95.0 L 171.7 95.0 L 171.7 77.9 \" fill=\"#000000\"/>\n",
       "</svg>"
      ],
      "text/plain": [
       "<IPython.core.display.SVG object>"
      ]
     },
     "metadata": {},
     "output_type": "display_data"
    },
    {
     "name": "stderr",
     "output_type": "stream",
     "text": [
      "Warning: : Failed due to unspecified stereochemistry\n",
      "Warning: OEMMFFParams::PrepMol() : unable to type atom 1 S on residue UNL-1\n",
      "Warning: : Force field setup failed due to missing parameters\n"
     ]
    },
    {
     "ename": "ValueError",
     "evalue": "No registered toolkits can provide the capability \"assign_partial_charges\" for args \"()\" and kwargs \"{'molecule': Molecule with name '' and SMILES '[H]c1c(c(c(c(c1N([H])C(=O)N([H])S(=C([H])[H])C2=C3C(=C(S2)Cl)C(C(C(C3=O)([H])[H])([H])[H])([H])[H])[H])[H])Cl)[H]', 'partial_charge_method': 'am1bccelf10', 'use_conformers': None, 'strict_n_conformers': False, 'normalize_partial_charges': True, '_cls': <class 'openff.toolkit.topology.molecule.Molecule'>}\"\nAvailable toolkits are: [ToolkitWrapper around OpenEye Toolkit version 2022.1.1, ToolkitWrapper around The RDKit version 2023.03.3, ToolkitWrapper around AmberTools version 22.0, ToolkitWrapper around Built-in Toolkit version None]\n ToolkitWrapper around OpenEye Toolkit version 2022.1.1 <class 'openff.toolkit.utils.exceptions.ConformerGenerationError'> : OpenEye Omega conformer generation failed\n ToolkitWrapper around The RDKit version 2023.03.3 <class 'openff.toolkit.utils.exceptions.ChargeMethodUnavailableError'> : partial_charge_method 'am1bccelf10' is not available from RDKitToolkitWrapper. Available charge methods are ['gasteiger', 'mmff94'] \n ToolkitWrapper around AmberTools version 22.0 <class 'openff.toolkit.utils.exceptions.ChargeMethodUnavailableError'> : partial_charge_method 'am1bccelf10' is not available from AmberToolsToolkitWrapper. Available charge methods are ['am1bcc', 'am1-mulliken', 'gasteiger'] \n ToolkitWrapper around Built-in Toolkit version None <class 'openff.toolkit.utils.exceptions.ChargeMethodUnavailableError'> : Partial charge method \"am1bccelf10\"\" is not supported by the Built-in toolkit. Available charge methods are ['zeros', 'formal_charge']\n",
     "output_type": "error",
     "traceback": [
      "\u001b[0;31m---------------------------------------------------------------------------\u001b[0m",
      "\u001b[0;31mValueError\u001b[0m                                Traceback (most recent call last)",
      "Cell \u001b[0;32mIn[13], line 12\u001b[0m\n\u001b[1;32m     10\u001b[0m mol \u001b[38;5;241m=\u001b[39m m(\u001b[38;5;124m\"\u001b[39m\u001b[38;5;124m[C:1](=[S:2]([C:3]1=[C:4]2[C:5](=[O:6])[C:7]([H:27])([H:28])[C:8]([H:29])([H:30])[C:9]([H:31])([H:32])[C:10]2=[C:11]([Cl:12])[S:13]1)[N:14]([C:15](=[O:16])[N:17]([c:18]1[c:19]([H:35])[c:20]([H:36])[c:21]([Cl:22])[c:23]([H:37])[c:24]1[H:38])[H:34])[H:33])([H:25])[H:26]\u001b[39m\u001b[38;5;124m\"\u001b[39m)\n\u001b[1;32m     11\u001b[0m display(mol)\n\u001b[0;32m---> 12\u001b[0m \u001b[43mmol\u001b[49m\u001b[38;5;241;43m.\u001b[39;49m\u001b[43massign_partial_charges\u001b[49m\u001b[43m(\u001b[49m\u001b[38;5;124;43m\"\u001b[39;49m\u001b[38;5;124;43mam1bccelf10\u001b[39;49m\u001b[38;5;124;43m\"\u001b[39;49m\u001b[43m)\u001b[49m\n",
      "File \u001b[0;32m~/mambaforge/envs/fb-196-qcnew/lib/python3.10/site-packages/openff/toolkit/topology/molecule.py:2619\u001b[0m, in \u001b[0;36mFrozenMolecule.assign_partial_charges\u001b[0;34m(self, partial_charge_method, strict_n_conformers, use_conformers, toolkit_registry, normalize_partial_charges)\u001b[0m\n\u001b[1;32m   2605\u001b[0m         warnings\u001b[38;5;241m.\u001b[39mwarn(\n\u001b[1;32m   2606\u001b[0m             \u001b[38;5;124mf\u001b[39m\u001b[38;5;124m\"\u001b[39m\u001b[38;5;124mWarning! Partial charge method \u001b[39m\u001b[38;5;124m'\u001b[39m\u001b[38;5;132;01m{\u001b[39;00mpartial_charge_method\u001b[38;5;132;01m}\u001b[39;00m\u001b[38;5;124m'\u001b[39m\u001b[38;5;124m is not designed \u001b[39m\u001b[38;5;124m\"\u001b[39m\n\u001b[1;32m   2607\u001b[0m             \u001b[38;5;124m\"\u001b[39m\u001b[38;5;124mfor use on large (i.e. > 150 atoms) molecules and may crash or take hours to \u001b[39m\u001b[38;5;124m\"\u001b[39m\n\u001b[0;32m   (...)\u001b[0m\n\u001b[1;32m   2611\u001b[0m             stacklevel\u001b[38;5;241m=\u001b[39m\u001b[38;5;241m2\u001b[39m,\n\u001b[1;32m   2612\u001b[0m         )\n\u001b[1;32m   2614\u001b[0m \u001b[38;5;28;01mif\u001b[39;00m \u001b[38;5;28misinstance\u001b[39m(toolkit_registry, ToolkitRegistry):\n\u001b[1;32m   2615\u001b[0m     \u001b[38;5;66;03m# We may need to try several toolkitwrappers to find one\u001b[39;00m\n\u001b[1;32m   2616\u001b[0m     \u001b[38;5;66;03m# that supports the desired partial charge method, so we\u001b[39;00m\n\u001b[1;32m   2617\u001b[0m     \u001b[38;5;66;03m# tell the ToolkitRegistry to continue trying ToolkitWrappers\u001b[39;00m\n\u001b[1;32m   2618\u001b[0m     \u001b[38;5;66;03m# if one raises an error (raise_exception_types=[])\u001b[39;00m\n\u001b[0;32m-> 2619\u001b[0m     \u001b[43mtoolkit_registry\u001b[49m\u001b[38;5;241;43m.\u001b[39;49m\u001b[43mcall\u001b[49m\u001b[43m(\u001b[49m\n\u001b[1;32m   2620\u001b[0m \u001b[43m        \u001b[49m\u001b[38;5;124;43m\"\u001b[39;49m\u001b[38;5;124;43massign_partial_charges\u001b[39;49m\u001b[38;5;124;43m\"\u001b[39;49m\u001b[43m,\u001b[49m\n\u001b[1;32m   2621\u001b[0m \u001b[43m        \u001b[49m\u001b[43mmolecule\u001b[49m\u001b[38;5;241;43m=\u001b[39;49m\u001b[38;5;28;43mself\u001b[39;49m\u001b[43m,\u001b[49m\n\u001b[1;32m   2622\u001b[0m \u001b[43m        \u001b[49m\u001b[43mpartial_charge_method\u001b[49m\u001b[38;5;241;43m=\u001b[39;49m\u001b[43mpartial_charge_method\u001b[49m\u001b[43m,\u001b[49m\n\u001b[1;32m   2623\u001b[0m \u001b[43m        \u001b[49m\u001b[43muse_conformers\u001b[49m\u001b[38;5;241;43m=\u001b[39;49m\u001b[43muse_conformers\u001b[49m\u001b[43m,\u001b[49m\n\u001b[1;32m   2624\u001b[0m \u001b[43m        \u001b[49m\u001b[43mstrict_n_conformers\u001b[49m\u001b[38;5;241;43m=\u001b[39;49m\u001b[43mstrict_n_conformers\u001b[49m\u001b[43m,\u001b[49m\n\u001b[1;32m   2625\u001b[0m \u001b[43m        \u001b[49m\u001b[43mnormalize_partial_charges\u001b[49m\u001b[38;5;241;43m=\u001b[39;49m\u001b[43mnormalize_partial_charges\u001b[49m\u001b[43m,\u001b[49m\n\u001b[1;32m   2626\u001b[0m \u001b[43m        \u001b[49m\u001b[43mraise_exception_types\u001b[49m\u001b[38;5;241;43m=\u001b[39;49m\u001b[43m[\u001b[49m\u001b[43m]\u001b[49m\u001b[43m,\u001b[49m\n\u001b[1;32m   2627\u001b[0m \u001b[43m        \u001b[49m\u001b[43m_cls\u001b[49m\u001b[38;5;241;43m=\u001b[39;49m\u001b[38;5;28;43mself\u001b[39;49m\u001b[38;5;241;43m.\u001b[39;49m\u001b[38;5;18;43m__class__\u001b[39;49m\u001b[43m,\u001b[49m\n\u001b[1;32m   2628\u001b[0m \u001b[43m    \u001b[49m\u001b[43m)\u001b[49m\n\u001b[1;32m   2629\u001b[0m \u001b[38;5;28;01melif\u001b[39;00m \u001b[38;5;28misinstance\u001b[39m(toolkit_registry, ToolkitWrapper):\n\u001b[1;32m   2630\u001b[0m     toolkit_wrapper: ToolkitWrapper \u001b[38;5;241m=\u001b[39m toolkit_registry\n",
      "File \u001b[0;32m~/mambaforge/envs/fb-196-qcnew/lib/python3.10/site-packages/openff/toolkit/utils/toolkit_registry.py:370\u001b[0m, in \u001b[0;36mToolkitRegistry.call\u001b[0;34m(self, method_name, raise_exception_types, *args, **kwargs)\u001b[0m\n\u001b[1;32m    368\u001b[0m \u001b[38;5;28;01mfor\u001b[39;00m toolkit, error \u001b[38;5;129;01min\u001b[39;00m errors:\n\u001b[1;32m    369\u001b[0m     msg \u001b[38;5;241m+\u001b[39m\u001b[38;5;241m=\u001b[39m \u001b[38;5;124m\"\u001b[39m\u001b[38;5;124m \u001b[39m\u001b[38;5;132;01m{}\u001b[39;00m\u001b[38;5;124m \u001b[39m\u001b[38;5;132;01m{}\u001b[39;00m\u001b[38;5;124m : \u001b[39m\u001b[38;5;132;01m{}\u001b[39;00m\u001b[38;5;130;01m\\n\u001b[39;00m\u001b[38;5;124m\"\u001b[39m\u001b[38;5;241m.\u001b[39mformat(toolkit, \u001b[38;5;28mtype\u001b[39m(error), error)\n\u001b[0;32m--> 370\u001b[0m \u001b[38;5;28;01mraise\u001b[39;00m \u001b[38;5;167;01mValueError\u001b[39;00m(msg)\n",
      "\u001b[0;31mValueError\u001b[0m: No registered toolkits can provide the capability \"assign_partial_charges\" for args \"()\" and kwargs \"{'molecule': Molecule with name '' and SMILES '[H]c1c(c(c(c(c1N([H])C(=O)N([H])S(=C([H])[H])C2=C3C(=C(S2)Cl)C(C(C(C3=O)([H])[H])([H])[H])([H])[H])[H])[H])Cl)[H]', 'partial_charge_method': 'am1bccelf10', 'use_conformers': None, 'strict_n_conformers': False, 'normalize_partial_charges': True, '_cls': <class 'openff.toolkit.topology.molecule.Molecule'>}\"\nAvailable toolkits are: [ToolkitWrapper around OpenEye Toolkit version 2022.1.1, ToolkitWrapper around The RDKit version 2023.03.3, ToolkitWrapper around AmberTools version 22.0, ToolkitWrapper around Built-in Toolkit version None]\n ToolkitWrapper around OpenEye Toolkit version 2022.1.1 <class 'openff.toolkit.utils.exceptions.ConformerGenerationError'> : OpenEye Omega conformer generation failed\n ToolkitWrapper around The RDKit version 2023.03.3 <class 'openff.toolkit.utils.exceptions.ChargeMethodUnavailableError'> : partial_charge_method 'am1bccelf10' is not available from RDKitToolkitWrapper. Available charge methods are ['gasteiger', 'mmff94'] \n ToolkitWrapper around AmberTools version 22.0 <class 'openff.toolkit.utils.exceptions.ChargeMethodUnavailableError'> : partial_charge_method 'am1bccelf10' is not available from AmberToolsToolkitWrapper. Available charge methods are ['am1bcc', 'am1-mulliken', 'gasteiger'] \n ToolkitWrapper around Built-in Toolkit version None <class 'openff.toolkit.utils.exceptions.ChargeMethodUnavailableError'> : Partial charge method \"am1bccelf10\"\" is not supported by the Built-in toolkit. Available charge methods are ['zeros', 'formal_charge']\n"
     ]
    }
   ],
   "source": [
    "import os\n",
    "\n",
    "os.environ[\"OE_LICENSE\"] = \"/home/brent/oe_license.txt\"\n",
    "\n",
    "from openff.toolkit import Molecule\n",
    "from openff.toolkit.utils import OpenEyeToolkitWrapper, toolkit_registry_manager, ToolkitRegistry\n",
    "\n",
    "def m(s): return Molecule.from_mapped_smiles(s, allow_undefined_stereo=True)\n",
    "    \n",
    "mol = m(\"[C:1](=[S:2]([C:3]1=[C:4]2[C:5](=[O:6])[C:7]([H:27])([H:28])[C:8]([H:29])([H:30])[C:9]([H:31])([H:32])[C:10]2=[C:11]([Cl:12])[S:13]1)[N:14]([C:15](=[O:16])[N:17]([c:18]1[c:19]([H:35])[c:20]([H:36])[c:21]([Cl:22])[c:23]([H:37])[c:24]1[H:38])[H:34])[H:33])([H:25])[H:26]\")\n",
    "display(mol)\n",
    "mol.assign_partial_charges(\"am1bccelf10\")\n"
   ]
  },
  {
   "cell_type": "code",
   "execution_count": null,
   "id": "b543e8fd-1d8c-466a-b9b6-7770cf968716",
   "metadata": {
    "scrolled": true
   },
   "outputs": [
    {
     "name": "stdin",
     "output_type": "stream",
     "text": [
      " t144j [C:1]([C:2]([C:3](/[N:4]=[S:5](\\[N:6]([C:7]([C:8]([C:9]([H:27])([H:22])[H:23])([H:20])[H:21])([H:18])[H:19])[H:17])[C:10]([H:24])([H:25])[H:26])([H:15])[H:16])([H:13])[H:14])([H:11])[H:12] (9, 4, 5, 16)\n"
     ]
    },
    {
     "name": "stdout",
     "output_type": "stream",
     "text": [
      "The OpenFF Toolkit does not currently support parsing molecules with radicals. Found 1 radical electrons on molecule [H:11][C:1]([H:12])[C:2]([H:13])([H:14])[C:3]([H:15])([H:16])[N:4]=[S:5]([C:10]([H:24])([H:25])[H:26])[N:6]([H:17])[C:7]([H:18])([H:19])[C:8]([H:20])([H:21])[C:9]([H:27])([H:22])[H:23].\n"
     ]
    },
    {
     "name": "stdin",
     "output_type": "stream",
     "text": [
      " t144j [H:28][C:1]([C:2]([C:3](/[N:4]=[S:5](\\[N:6]([C:7]([C:8]([C:9]([H:27])([H:22])[H:23])([H:20])[H:21])([H:18])[H:19])[H:17])[C:10]([H:24])([H:25])[H:26])([H:15])[H:16])([H:13])[H:14])([H:11])[H:12] (9, 4, 5, 16)\n"
     ]
    },
    {
     "name": "stdout",
     "output_type": "stream",
     "text": [
      "matched!\n"
     ]
    },
    {
     "data": {
      "image/svg+xml": [
       "<svg xmlns=\"http://www.w3.org/2000/svg\" xmlns:rdkit=\"http://www.rdkit.org/xml\" xmlns:xlink=\"http://www.w3.org/1999/xlink\" version=\"1.1\" baseProfile=\"full\" xml:space=\"preserve\" width=\"300px\" height=\"300px\" viewBox=\"0 0 300 300\">\n",
       "<!-- END OF HEADER -->\n",
       "<rect style=\"opacity:1.0;fill:#FFFFFF;stroke:none\" width=\"300.0\" height=\"300.0\" x=\"0.0\" y=\"0.0\"> </rect>\n",
       "<path class=\"bond-11 atom-4 atom-5\" d=\"M 107.0,175.6 L 162.8,209.9 L 149.4,216.9 L 106.8,190.7 Z\" style=\"fill:#FF7F7F;fill-rule:evenodd;fill-opacity:1;stroke:#FF7F7F;stroke-width:0.0px;stroke-linecap:butt;stroke-linejoin:miter;stroke-opacity:1;\"/>\n",
       "<path class=\"bond-12 atom-4 atom-9\" d=\"M 107.0,175.6 L 106.8,190.7 L 75.6,208.8 L 69.1,197.5 Z\" style=\"fill:#FF7F7F;fill-rule:evenodd;fill-opacity:1;stroke:#FF7F7F;stroke-width:0.0px;stroke-linecap:butt;stroke-linejoin:miter;stroke-opacity:1;\"/>\n",
       "<path class=\"bond-14 atom-5 atom-16\" d=\"M 162.8,209.9 L 160.7,248.3 L 147.7,247.6 L 149.4,216.9 Z\" style=\"fill:#FF7F7F;fill-rule:evenodd;fill-opacity:1;stroke:#FF7F7F;stroke-width:0.0px;stroke-linecap:butt;stroke-linejoin:miter;stroke-opacity:1;\"/>\n",
       "<ellipse cx=\"106.9\" cy=\"183.4\" rx=\"12.2\" ry=\"12.5\" class=\"atom-4\" style=\"fill:#FF7F7F;fill-rule:evenodd;stroke:#FF7F7F;stroke-width:1.0px;stroke-linecap:butt;stroke-linejoin:miter;stroke-opacity:1\"/>\n",
       "<ellipse cx=\"156.1\" cy=\"213.4\" rx=\"12.2\" ry=\"12.2\" class=\"atom-5\" style=\"fill:#FF7F7F;fill-rule:evenodd;stroke:#FF7F7F;stroke-width:1.0px;stroke-linecap:butt;stroke-linejoin:miter;stroke-opacity:1\"/>\n",
       "<ellipse cx=\"72.4\" cy=\"203.1\" rx=\"12.2\" ry=\"12.2\" class=\"atom-9\" style=\"fill:#FF7F7F;fill-rule:evenodd;stroke:#FF7F7F;stroke-width:1.0px;stroke-linecap:butt;stroke-linejoin:miter;stroke-opacity:1\"/>\n",
       "<ellipse cx=\"154.2\" cy=\"247.9\" rx=\"12.2\" ry=\"12.2\" class=\"atom-16\" style=\"fill:#FF7F7F;fill-rule:evenodd;stroke:#FF7F7F;stroke-width:1.0px;stroke-linecap:butt;stroke-linejoin:miter;stroke-opacity:1\"/>\n",
       "<path class=\"bond-0 atom-0 atom-1\" d=\"M 114.4,59.0 L 155.9,76.5\" style=\"fill:none;fill-rule:evenodd;stroke:#000000;stroke-width:2.0px;stroke-linecap:butt;stroke-linejoin:miter;stroke-opacity:1\"/>\n",
       "<path class=\"bond-1 atom-0 atom-10\" d=\"M 114.4,59.0 L 125.7,32.3\" style=\"fill:none;fill-rule:evenodd;stroke:#000000;stroke-width:2.0px;stroke-linecap:butt;stroke-linejoin:miter;stroke-opacity:1\"/>\n",
       "<path class=\"bond-2 atom-0 atom-11\" d=\"M 114.4,59.0 L 97.3,35.8\" style=\"fill:none;fill-rule:evenodd;stroke:#000000;stroke-width:2.0px;stroke-linecap:butt;stroke-linejoin:miter;stroke-opacity:1\"/>\n",
       "<path class=\"bond-3 atom-0 atom-27\" d=\"M 114.4,59.0 L 88.1,77.3\" style=\"fill:none;fill-rule:evenodd;stroke:#000000;stroke-width:2.0px;stroke-linecap:butt;stroke-linejoin:miter;stroke-opacity:1\"/>\n",
       "<path class=\"bond-4 atom-1 atom-2\" d=\"M 155.9,76.5 L 158.9,114.8\" style=\"fill:none;fill-rule:evenodd;stroke:#000000;stroke-width:2.0px;stroke-linecap:butt;stroke-linejoin:miter;stroke-opacity:1\"/>\n",
       "<path class=\"bond-5 atom-1 atom-12\" d=\"M 155.9,76.5 L 185.8,74.1\" style=\"fill:none;fill-rule:evenodd;stroke:#000000;stroke-width:2.0px;stroke-linecap:butt;stroke-linejoin:miter;stroke-opacity:1\"/>\n",
       "<path class=\"bond-6 atom-1 atom-13\" d=\"M 155.9,76.5 L 166.7,50.6\" style=\"fill:none;fill-rule:evenodd;stroke:#000000;stroke-width:2.0px;stroke-linecap:butt;stroke-linejoin:miter;stroke-opacity:1\"/>\n",
       "<path class=\"bond-7 atom-2 atom-3\" d=\"M 158.9,114.8 L 136.2,119.4\" style=\"fill:none;fill-rule:evenodd;stroke:#000000;stroke-width:2.0px;stroke-linecap:butt;stroke-linejoin:miter;stroke-opacity:1\"/>\n",
       "<path class=\"bond-7 atom-2 atom-3\" d=\"M 136.2,119.4 L 113.5,124.0\" style=\"fill:none;fill-rule:evenodd;stroke:#0000FF;stroke-width:2.0px;stroke-linecap:butt;stroke-linejoin:miter;stroke-opacity:1\"/>\n",
       "<path class=\"bond-8 atom-2 atom-14\" d=\"M 158.9,114.8 L 157.2,159.0\" style=\"fill:none;fill-rule:evenodd;stroke:#000000;stroke-width:2.0px;stroke-linecap:butt;stroke-linejoin:miter;stroke-opacity:1\"/>\n",
       "<path class=\"bond-9 atom-2 atom-15\" d=\"M 158.9,114.8 L 181.0,116.4\" style=\"fill:none;fill-rule:evenodd;stroke:#000000;stroke-width:2.0px;stroke-linecap:butt;stroke-linejoin:miter;stroke-opacity:1\"/>\n",
       "<path class=\"bond-10 atom-3 atom-4\" d=\"M 109.0,135.6 L 109.4,154.3\" style=\"fill:none;fill-rule:evenodd;stroke:#0000FF;stroke-width:2.0px;stroke-linecap:butt;stroke-linejoin:miter;stroke-opacity:1\"/>\n",
       "<path class=\"bond-10 atom-3 atom-4\" d=\"M 109.4,154.3 L 109.9,173.0\" style=\"fill:none;fill-rule:evenodd;stroke:#CCCC00;stroke-width:2.0px;stroke-linecap:butt;stroke-linejoin:miter;stroke-opacity:1\"/>\n",
       "<path class=\"bond-10 atom-3 atom-4\" d=\"M 102.6,135.7 L 103.0,154.4\" style=\"fill:none;fill-rule:evenodd;stroke:#0000FF;stroke-width:2.0px;stroke-linecap:butt;stroke-linejoin:miter;stroke-opacity:1\"/>\n",
       "<path class=\"bond-10 atom-3 atom-4\" d=\"M 103.0,154.4 L 103.5,173.2\" style=\"fill:none;fill-rule:evenodd;stroke:#CCCC00;stroke-width:2.0px;stroke-linecap:butt;stroke-linejoin:miter;stroke-opacity:1\"/>\n",
       "<path class=\"bond-11 atom-4 atom-5\" d=\"M 113.9,187.4 L 131.0,198.0\" style=\"fill:none;fill-rule:evenodd;stroke:#CCCC00;stroke-width:2.0px;stroke-linecap:butt;stroke-linejoin:miter;stroke-opacity:1\"/>\n",
       "<path class=\"bond-11 atom-4 atom-5\" d=\"M 131.0,198.0 L 148.1,208.5\" style=\"fill:none;fill-rule:evenodd;stroke:#0000FF;stroke-width:2.0px;stroke-linecap:butt;stroke-linejoin:miter;stroke-opacity:1\"/>\n",
       "<path class=\"bond-12 atom-4 atom-9\" d=\"M 99.9,187.2 L 86.2,195.1\" style=\"fill:none;fill-rule:evenodd;stroke:#CCCC00;stroke-width:2.0px;stroke-linecap:butt;stroke-linejoin:miter;stroke-opacity:1\"/>\n",
       "<path class=\"bond-12 atom-4 atom-9\" d=\"M 86.2,195.1 L 72.4,203.1\" style=\"fill:none;fill-rule:evenodd;stroke:#000000;stroke-width:2.0px;stroke-linecap:butt;stroke-linejoin:miter;stroke-opacity:1\"/>\n",
       "<path class=\"bond-13 atom-5 atom-6\" d=\"M 164.1,204.4 L 178.2,188.6\" style=\"fill:none;fill-rule:evenodd;stroke:#0000FF;stroke-width:2.0px;stroke-linecap:butt;stroke-linejoin:miter;stroke-opacity:1\"/>\n",
       "<path class=\"bond-13 atom-5 atom-6\" d=\"M 178.2,188.6 L 192.3,172.7\" style=\"fill:none;fill-rule:evenodd;stroke:#000000;stroke-width:2.0px;stroke-linecap:butt;stroke-linejoin:miter;stroke-opacity:1\"/>\n",
       "<path class=\"bond-14 atom-5 atom-16\" d=\"M 155.6,223.5 L 155.2,230.7\" style=\"fill:none;fill-rule:evenodd;stroke:#0000FF;stroke-width:2.0px;stroke-linecap:butt;stroke-linejoin:miter;stroke-opacity:1\"/>\n",
       "<path class=\"bond-14 atom-5 atom-16\" d=\"M 155.2,230.7 L 154.8,237.9\" style=\"fill:none;fill-rule:evenodd;stroke:#000000;stroke-width:2.0px;stroke-linecap:butt;stroke-linejoin:miter;stroke-opacity:1\"/>\n",
       "<path class=\"bond-15 atom-6 atom-7\" d=\"M 192.3,172.7 L 224.3,194.8\" style=\"fill:none;fill-rule:evenodd;stroke:#000000;stroke-width:2.0px;stroke-linecap:butt;stroke-linejoin:miter;stroke-opacity:1\"/>\n",
       "<path class=\"bond-16 atom-6 atom-17\" d=\"M 192.3,172.7 L 200.6,155.3\" style=\"fill:none;fill-rule:evenodd;stroke:#000000;stroke-width:2.0px;stroke-linecap:butt;stroke-linejoin:miter;stroke-opacity:1\"/>\n",
       "<path class=\"bond-17 atom-6 atom-18\" d=\"M 192.3,172.7 L 152.4,151.5\" style=\"fill:none;fill-rule:evenodd;stroke:#000000;stroke-width:2.0px;stroke-linecap:butt;stroke-linejoin:miter;stroke-opacity:1\"/>\n",
       "<path class=\"bond-18 atom-7 atom-8\" d=\"M 224.3,194.8 L 219.8,241.2\" style=\"fill:none;fill-rule:evenodd;stroke:#000000;stroke-width:2.0px;stroke-linecap:butt;stroke-linejoin:miter;stroke-opacity:1\"/>\n",
       "<path class=\"bond-19 atom-7 atom-19\" d=\"M 224.3,194.8 L 238.9,173.3\" style=\"fill:none;fill-rule:evenodd;stroke:#000000;stroke-width:2.0px;stroke-linecap:butt;stroke-linejoin:miter;stroke-opacity:1\"/>\n",
       "<path class=\"bond-20 atom-7 atom-20\" d=\"M 224.3,194.8 L 254.6,198.3\" style=\"fill:none;fill-rule:evenodd;stroke:#000000;stroke-width:2.0px;stroke-linecap:butt;stroke-linejoin:miter;stroke-opacity:1\"/>\n",
       "<path class=\"bond-21 atom-8 atom-21\" d=\"M 219.8,241.2 L 250.6,244.0\" style=\"fill:none;fill-rule:evenodd;stroke:#000000;stroke-width:2.0px;stroke-linecap:butt;stroke-linejoin:miter;stroke-opacity:1\"/>\n",
       "<path class=\"bond-22 atom-8 atom-22\" d=\"M 219.8,241.2 L 232.1,267.7\" style=\"fill:none;fill-rule:evenodd;stroke:#000000;stroke-width:2.0px;stroke-linecap:butt;stroke-linejoin:miter;stroke-opacity:1\"/>\n",
       "<path class=\"bond-23 atom-8 atom-26\" d=\"M 219.8,241.2 L 192.2,256.3\" style=\"fill:none;fill-rule:evenodd;stroke:#000000;stroke-width:2.0px;stroke-linecap:butt;stroke-linejoin:miter;stroke-opacity:1\"/>\n",
       "<path class=\"bond-24 atom-9 atom-23\" d=\"M 72.4,203.1 L 87.1,228.2\" style=\"fill:none;fill-rule:evenodd;stroke:#000000;stroke-width:2.0px;stroke-linecap:butt;stroke-linejoin:miter;stroke-opacity:1\"/>\n",
       "<path class=\"bond-25 atom-9 atom-24\" d=\"M 72.4,203.1 L 58.0,228.3\" style=\"fill:none;fill-rule:evenodd;stroke:#000000;stroke-width:2.0px;stroke-linecap:butt;stroke-linejoin:miter;stroke-opacity:1\"/>\n",
       "<path class=\"bond-26 atom-9 atom-25\" d=\"M 72.4,203.1 L 45.4,187.6\" style=\"fill:none;fill-rule:evenodd;stroke:#000000;stroke-width:2.0px;stroke-linecap:butt;stroke-linejoin:miter;stroke-opacity:1\"/>\n",
       "<path class=\"atom-3\" d=\"M 101.7 116.9 L 107.4 126.1 Q 107.9 127.0, 108.8 128.6 Q 109.7 130.3, 109.8 130.4 L 109.8 116.9 L 112.1 116.9 L 112.1 134.2 L 109.7 134.2 L 103.6 124.2 Q 102.9 123.0, 102.2 121.7 Q 101.4 120.3, 101.2 119.9 L 101.2 134.2 L 99.0 134.2 L 99.0 116.9 L 101.7 116.9 \" fill=\"#0000FF\"/>\n",
       "<path class=\"atom-4\" d=\"M 102.0 189.1 Q 102.2 189.1, 103.0 189.5 Q 103.8 189.8, 104.7 190.0 Q 105.6 190.2, 106.5 190.2 Q 108.1 190.2, 109.1 189.5 Q 110.0 188.7, 110.0 187.3 Q 110.0 186.3, 109.5 185.7 Q 109.1 185.1, 108.3 184.8 Q 107.6 184.5, 106.4 184.1 Q 104.9 183.7, 103.9 183.2 Q 103.0 182.8, 102.4 181.9 Q 101.7 180.9, 101.7 179.4 Q 101.7 177.2, 103.2 175.9 Q 104.7 174.5, 107.6 174.5 Q 109.6 174.5, 111.9 175.5 L 111.3 177.3 Q 109.2 176.5, 107.7 176.5 Q 106.0 176.5, 105.1 177.2 Q 104.1 177.9, 104.2 179.1 Q 104.2 180.0, 104.6 180.6 Q 105.1 181.1, 105.8 181.5 Q 106.5 181.8, 107.7 182.1 Q 109.2 182.6, 110.2 183.1 Q 111.1 183.6, 111.8 184.6 Q 112.4 185.6, 112.4 187.3 Q 112.4 189.7, 110.8 190.9 Q 109.2 192.2, 106.6 192.2 Q 105.0 192.2, 103.9 191.9 Q 102.7 191.6, 101.4 191.0 L 102.0 189.1 \" fill=\"#CCCC00\"/>\n",
       "<path class=\"atom-5\" d=\"M 152.3 204.8 L 158.0 213.9 Q 158.5 214.8, 159.4 216.5 Q 160.3 218.1, 160.4 218.2 L 160.4 204.8 L 162.7 204.8 L 162.7 222.1 L 160.3 222.1 L 154.2 212.0 Q 153.5 210.9, 152.8 209.5 Q 152.0 208.2, 151.8 207.8 L 151.8 222.1 L 149.6 222.1 L 149.6 204.8 L 152.3 204.8 \" fill=\"#0000FF\"/>\n",
       "<path class=\"atom-10\" d=\"M 123.2 13.6 L 125.5 13.6 L 125.5 21.0 L 134.4 21.0 L 134.4 13.6 L 136.7 13.6 L 136.7 30.9 L 134.4 30.9 L 134.4 22.9 L 125.5 22.9 L 125.5 30.9 L 123.2 30.9 L 123.2 13.6 \" fill=\"#000000\"/>\n",
       "<path class=\"atom-11\" d=\"M 83.2 17.1 L 85.5 17.1 L 85.5 24.4 L 94.4 24.4 L 94.4 17.1 L 96.7 17.1 L 96.7 34.4 L 94.4 34.4 L 94.4 26.4 L 85.5 26.4 L 85.5 34.4 L 83.2 34.4 L 83.2 17.1 \" fill=\"#000000\"/>\n",
       "<path class=\"atom-12\" d=\"M 187.2 64.8 L 189.5 64.8 L 189.5 72.1 L 198.4 72.1 L 198.4 64.8 L 200.7 64.8 L 200.7 82.1 L 198.4 82.1 L 198.4 74.1 L 189.5 74.1 L 189.5 82.1 L 187.2 82.1 L 187.2 64.8 \" fill=\"#000000\"/>\n",
       "<path class=\"atom-13\" d=\"M 164.1 31.9 L 166.4 31.9 L 166.4 39.2 L 175.3 39.2 L 175.3 31.9 L 177.6 31.9 L 177.6 49.2 L 175.3 49.2 L 175.3 41.2 L 166.4 41.2 L 166.4 49.2 L 164.1 49.2 L 164.1 31.9 \" fill=\"#000000\"/>\n",
       "<path class=\"atom-14\" d=\"M 150.0 160.4 L 152.4 160.4 L 152.4 167.8 L 161.2 167.8 L 161.2 160.4 L 163.6 160.4 L 163.6 177.7 L 161.2 177.7 L 161.2 169.7 L 152.4 169.7 L 152.4 177.7 L 150.0 177.7 L 150.0 160.4 \" fill=\"#000000\"/>\n",
       "<path class=\"atom-15\" d=\"M 182.4 108.4 L 184.7 108.4 L 184.7 115.7 L 193.6 115.7 L 193.6 108.4 L 195.9 108.4 L 195.9 125.7 L 193.6 125.7 L 193.6 117.7 L 184.7 117.7 L 184.7 125.7 L 182.4 125.7 L 182.4 108.4 \" fill=\"#000000\"/>\n",
       "<path class=\"atom-16\" d=\"M 147.4 239.3 L 149.8 239.3 L 149.8 246.6 L 158.6 246.6 L 158.6 239.3 L 161.0 239.3 L 161.0 256.6 L 158.6 256.6 L 158.6 248.6 L 149.8 248.6 L 149.8 256.6 L 147.4 256.6 L 147.4 239.3 \" fill=\"#000000\"/>\n",
       "<path class=\"atom-17\" d=\"M 198.7 136.6 L 201.0 136.6 L 201.0 143.9 L 209.9 143.9 L 209.9 136.6 L 212.2 136.6 L 212.2 153.9 L 209.9 153.9 L 209.9 145.9 L 201.0 145.9 L 201.0 153.9 L 198.7 153.9 L 198.7 136.6 \" fill=\"#000000\"/>\n",
       "<path class=\"atom-18\" d=\"M 137.4 138.6 L 139.8 138.6 L 139.8 145.9 L 148.6 145.9 L 148.6 138.6 L 150.9 138.6 L 150.9 155.9 L 148.6 155.9 L 148.6 147.9 L 139.8 147.9 L 139.8 155.9 L 137.4 155.9 L 137.4 138.6 \" fill=\"#000000\"/>\n",
       "<path class=\"atom-19\" d=\"M 238.9 154.6 L 241.3 154.6 L 241.3 161.9 L 250.1 161.9 L 250.1 154.6 L 252.4 154.6 L 252.4 171.9 L 250.1 171.9 L 250.1 163.9 L 241.3 163.9 L 241.3 171.9 L 238.9 171.9 L 238.9 154.6 \" fill=\"#000000\"/>\n",
       "<path class=\"atom-20\" d=\"M 256.0 190.6 L 258.3 190.6 L 258.3 198.0 L 267.2 198.0 L 267.2 190.6 L 269.5 190.6 L 269.5 207.9 L 267.2 207.9 L 267.2 199.9 L 258.3 199.9 L 258.3 207.9 L 256.0 207.9 L 256.0 190.6 \" fill=\"#000000\"/>\n",
       "<path class=\"atom-21\" d=\"M 252.0 236.1 L 254.3 236.1 L 254.3 243.5 L 263.2 243.5 L 263.2 236.1 L 265.5 236.1 L 265.5 253.4 L 263.2 253.4 L 263.2 245.4 L 254.3 245.4 L 254.3 253.4 L 252.0 253.4 L 252.0 236.1 \" fill=\"#000000\"/>\n",
       "<path class=\"atom-22\" d=\"M 229.9 269.1 L 232.3 269.1 L 232.3 276.4 L 241.1 276.4 L 241.1 269.1 L 243.5 269.1 L 243.5 286.4 L 241.1 286.4 L 241.1 278.4 L 232.3 278.4 L 232.3 286.4 L 229.9 286.4 L 229.9 269.1 \" fill=\"#000000\"/>\n",
       "<path class=\"atom-23\" d=\"M 86.2 229.6 L 88.6 229.6 L 88.6 236.9 L 97.4 236.9 L 97.4 229.6 L 99.7 229.6 L 99.7 246.9 L 97.4 246.9 L 97.4 238.9 L 88.6 238.9 L 88.6 246.9 L 86.2 246.9 L 86.2 229.6 \" fill=\"#000000\"/>\n",
       "<path class=\"atom-24\" d=\"M 45.5 229.7 L 47.9 229.7 L 47.9 237.0 L 56.7 237.0 L 56.7 229.7 L 59.1 229.7 L 59.1 247.0 L 56.7 247.0 L 56.7 239.0 L 47.9 239.0 L 47.9 247.0 L 45.5 247.0 L 45.5 229.7 \" fill=\"#000000\"/>\n",
       "<path class=\"atom-25\" d=\"M 30.5 174.2 L 32.8 174.2 L 32.8 181.5 L 41.7 181.5 L 41.7 174.2 L 44.0 174.2 L 44.0 191.5 L 41.7 191.5 L 41.7 183.5 L 32.8 183.5 L 32.8 191.5 L 30.5 191.5 L 30.5 174.2 \" fill=\"#000000\"/>\n",
       "<path class=\"atom-26\" d=\"M 177.3 252.1 L 179.6 252.1 L 179.6 259.4 L 188.5 259.4 L 188.5 252.1 L 190.8 252.1 L 190.8 269.3 L 188.5 269.3 L 188.5 261.4 L 179.6 261.4 L 179.6 269.3 L 177.3 269.3 L 177.3 252.1 \" fill=\"#000000\"/>\n",
       "<path class=\"atom-27\" d=\"M 73.1 74.3 L 75.5 74.3 L 75.5 81.7 L 84.3 81.7 L 84.3 74.3 L 86.6 74.3 L 86.6 91.6 L 84.3 91.6 L 84.3 83.6 L 75.5 83.6 L 75.5 91.6 L 73.1 91.6 L 73.1 74.3 \" fill=\"#000000\"/>\n",
       "</svg>"
      ],
      "text/plain": [
       "<IPython.core.display.SVG object>"
      ]
     },
     "metadata": {},
     "output_type": "display_data"
    },
    {
     "name": "stdin",
     "output_type": "stream",
     "text": [
      " t144j [c:1]1([H:20])[c:2]([H:21])[c:3]([C:4]([H:22])([H:23])[H:24])[c:5]([H:25])[c:6]([H:26])[c:7]1[C:8](=[O:9])[N:10](/[S:11](=[N:12]/[C:13](=[O:14])[C:15]([H:28])([H:29])[H:30])[C:16]([Cl:17])([Cl:18])[Cl:19])[H:27] (15, 10, 9, 26)\n"
     ]
    },
    {
     "name": "stdout",
     "output_type": "stream",
     "text": [
      "matched!\n"
     ]
    },
    {
     "data": {
      "image/svg+xml": [
       "<svg xmlns=\"http://www.w3.org/2000/svg\" xmlns:rdkit=\"http://www.rdkit.org/xml\" xmlns:xlink=\"http://www.w3.org/1999/xlink\" version=\"1.1\" baseProfile=\"full\" xml:space=\"preserve\" width=\"300px\" height=\"300px\" viewBox=\"0 0 300 300\">\n",
       "<!-- END OF HEADER -->\n",
       "<rect style=\"opacity:1.0;fill:#FFFFFF;stroke:none\" width=\"300.0\" height=\"300.0\" x=\"0.0\" y=\"0.0\"> </rect>\n",
       "<path class=\"bond-17 atom-9 atom-10\" d=\"M 147.6,100.4 L 156.5,105.5 L 156.4,133.7 L 147.5,128.5 Z\" style=\"fill:#FF7F7F;fill-rule:evenodd;fill-opacity:1;stroke:#FF7F7F;stroke-width:0.0px;stroke-linecap:butt;stroke-linejoin:miter;stroke-opacity:1;\"/>\n",
       "<path class=\"bond-18 atom-9 atom-26\" d=\"M 147.5,128.5 L 156.4,133.7 L 129.9,148.8 L 125.5,141.0 Z\" style=\"fill:#FF7F7F;fill-rule:evenodd;fill-opacity:1;stroke:#FF7F7F;stroke-width:0.0px;stroke-linecap:butt;stroke-linejoin:miter;stroke-opacity:1;\"/>\n",
       "<path class=\"bond-20 atom-10 atom-15\" d=\"M 174.0,84.8 L 178.5,92.5 L 156.5,105.5 L 147.6,100.4 Z\" style=\"fill:#FF7F7F;fill-rule:evenodd;fill-opacity:1;stroke:#FF7F7F;stroke-width:0.0px;stroke-linecap:butt;stroke-linejoin:miter;stroke-opacity:1;\"/>\n",
       "<ellipse cx=\"152.0\" cy=\"131.1\" rx=\"8.4\" ry=\"8.4\" class=\"atom-9\" style=\"fill:#FF7F7F;fill-rule:evenodd;stroke:#FF7F7F;stroke-width:1.0px;stroke-linecap:butt;stroke-linejoin:miter;stroke-opacity:1\"/>\n",
       "<ellipse cx=\"152.0\" cy=\"103.1\" rx=\"8.4\" ry=\"8.6\" class=\"atom-10\" style=\"fill:#FF7F7F;fill-rule:evenodd;stroke:#FF7F7F;stroke-width:1.0px;stroke-linecap:butt;stroke-linejoin:miter;stroke-opacity:1\"/>\n",
       "<ellipse cx=\"176.2\" cy=\"88.6\" rx=\"8.4\" ry=\"8.4\" class=\"atom-15\" style=\"fill:#FF7F7F;fill-rule:evenodd;stroke:#FF7F7F;stroke-width:1.0px;stroke-linecap:butt;stroke-linejoin:miter;stroke-opacity:1\"/>\n",
       "<ellipse cx=\"127.7\" cy=\"144.9\" rx=\"8.4\" ry=\"8.4\" class=\"atom-26\" style=\"fill:#FF7F7F;fill-rule:evenodd;stroke:#FF7F7F;stroke-width:1.0px;stroke-linecap:butt;stroke-linejoin:miter;stroke-opacity:1\"/>\n",
       "<path class=\"bond-0 atom-0 atom-1\" d=\"M 199.9,186.8 L 199.9,214.6\" style=\"fill:none;fill-rule:evenodd;stroke:#000000;stroke-width:2.0px;stroke-linecap:butt;stroke-linejoin:miter;stroke-opacity:1\"/>\n",
       "<path class=\"bond-0 atom-0 atom-1\" d=\"M 195.7,189.2 L 195.7,212.2\" style=\"fill:none;fill-rule:evenodd;stroke:#000000;stroke-width:2.0px;stroke-linecap:butt;stroke-linejoin:miter;stroke-opacity:1\"/>\n",
       "<path class=\"bond-1 atom-0 atom-6\" d=\"M 199.9,186.8 L 175.9,172.8\" style=\"fill:none;fill-rule:evenodd;stroke:#000000;stroke-width:2.0px;stroke-linecap:butt;stroke-linejoin:miter;stroke-opacity:1\"/>\n",
       "<path class=\"bond-2 atom-0 atom-19\" d=\"M 199.9,186.8 L 218.5,176.1\" style=\"fill:none;fill-rule:evenodd;stroke:#000000;stroke-width:2.0px;stroke-linecap:butt;stroke-linejoin:miter;stroke-opacity:1\"/>\n",
       "<path class=\"bond-3 atom-1 atom-2\" d=\"M 199.9,214.6 L 175.7,228.5\" style=\"fill:none;fill-rule:evenodd;stroke:#000000;stroke-width:2.0px;stroke-linecap:butt;stroke-linejoin:miter;stroke-opacity:1\"/>\n",
       "<path class=\"bond-4 atom-1 atom-20\" d=\"M 199.9,214.6 L 218.4,225.3\" style=\"fill:none;fill-rule:evenodd;stroke:#000000;stroke-width:2.0px;stroke-linecap:butt;stroke-linejoin:miter;stroke-opacity:1\"/>\n",
       "<path class=\"bond-5 atom-2 atom-3\" d=\"M 175.7,228.5 L 175.7,256.3\" style=\"fill:none;fill-rule:evenodd;stroke:#000000;stroke-width:2.0px;stroke-linecap:butt;stroke-linejoin:miter;stroke-opacity:1\"/>\n",
       "<path class=\"bond-6 atom-2 atom-4\" d=\"M 175.7,228.5 L 151.7,214.5\" style=\"fill:none;fill-rule:evenodd;stroke:#000000;stroke-width:2.0px;stroke-linecap:butt;stroke-linejoin:miter;stroke-opacity:1\"/>\n",
       "<path class=\"bond-6 atom-2 atom-4\" d=\"M 175.7,223.7 L 155.9,212.1\" style=\"fill:none;fill-rule:evenodd;stroke:#000000;stroke-width:2.0px;stroke-linecap:butt;stroke-linejoin:miter;stroke-opacity:1\"/>\n",
       "<path class=\"bond-7 atom-3 atom-21\" d=\"M 175.7,256.3 L 198.0,256.4\" style=\"fill:none;fill-rule:evenodd;stroke:#000000;stroke-width:2.0px;stroke-linecap:butt;stroke-linejoin:miter;stroke-opacity:1\"/>\n",
       "<path class=\"bond-8 atom-3 atom-22\" d=\"M 175.7,256.3 L 185.6,273.6\" style=\"fill:none;fill-rule:evenodd;stroke:#000000;stroke-width:2.0px;stroke-linecap:butt;stroke-linejoin:miter;stroke-opacity:1\"/>\n",
       "<path class=\"bond-9 atom-3 atom-23\" d=\"M 175.7,256.3 L 157.1,267.0\" style=\"fill:none;fill-rule:evenodd;stroke:#000000;stroke-width:2.0px;stroke-linecap:butt;stroke-linejoin:miter;stroke-opacity:1\"/>\n",
       "<path class=\"bond-10 atom-4 atom-5\" d=\"M 151.7,214.5 L 151.7,186.7\" style=\"fill:none;fill-rule:evenodd;stroke:#000000;stroke-width:2.0px;stroke-linecap:butt;stroke-linejoin:miter;stroke-opacity:1\"/>\n",
       "<path class=\"bond-11 atom-4 atom-24\" d=\"M 151.7,214.5 L 133.1,225.2\" style=\"fill:none;fill-rule:evenodd;stroke:#000000;stroke-width:2.0px;stroke-linecap:butt;stroke-linejoin:miter;stroke-opacity:1\"/>\n",
       "<path class=\"bond-12 atom-5 atom-6\" d=\"M 151.7,186.7 L 175.9,172.8\" style=\"fill:none;fill-rule:evenodd;stroke:#000000;stroke-width:2.0px;stroke-linecap:butt;stroke-linejoin:miter;stroke-opacity:1\"/>\n",
       "<path class=\"bond-12 atom-5 atom-6\" d=\"M 155.9,189.1 L 175.9,177.6\" style=\"fill:none;fill-rule:evenodd;stroke:#000000;stroke-width:2.0px;stroke-linecap:butt;stroke-linejoin:miter;stroke-opacity:1\"/>\n",
       "<path class=\"bond-13 atom-5 atom-25\" d=\"M 151.7,186.7 L 133.2,175.9\" style=\"fill:none;fill-rule:evenodd;stroke:#000000;stroke-width:2.0px;stroke-linecap:butt;stroke-linejoin:miter;stroke-opacity:1\"/>\n",
       "<path class=\"bond-14 atom-6 atom-7\" d=\"M 175.9,172.8 L 176.0,145.4\" style=\"fill:none;fill-rule:evenodd;stroke:#000000;stroke-width:2.0px;stroke-linecap:butt;stroke-linejoin:miter;stroke-opacity:1\"/>\n",
       "<path class=\"bond-15 atom-7 atom-8\" d=\"M 176.0,147.8 L 185.3,142.7\" style=\"fill:none;fill-rule:evenodd;stroke:#000000;stroke-width:2.0px;stroke-linecap:butt;stroke-linejoin:miter;stroke-opacity:1\"/>\n",
       "<path class=\"bond-15 atom-7 atom-8\" d=\"M 185.3,142.7 L 194.6,137.5\" style=\"fill:none;fill-rule:evenodd;stroke:#FF0000;stroke-width:2.0px;stroke-linecap:butt;stroke-linejoin:miter;stroke-opacity:1\"/>\n",
       "<path class=\"bond-15 atom-7 atom-8\" d=\"M 173.9,144.2 L 183.3,139.0\" style=\"fill:none;fill-rule:evenodd;stroke:#000000;stroke-width:2.0px;stroke-linecap:butt;stroke-linejoin:miter;stroke-opacity:1\"/>\n",
       "<path class=\"bond-15 atom-7 atom-8\" d=\"M 183.3,139.0 L 192.6,133.9\" style=\"fill:none;fill-rule:evenodd;stroke:#FF0000;stroke-width:2.0px;stroke-linecap:butt;stroke-linejoin:miter;stroke-opacity:1\"/>\n",
       "<path class=\"bond-16 atom-7 atom-9\" d=\"M 176.0,145.4 L 166.7,139.9\" style=\"fill:none;fill-rule:evenodd;stroke:#000000;stroke-width:2.0px;stroke-linecap:butt;stroke-linejoin:miter;stroke-opacity:1\"/>\n",
       "<path class=\"bond-16 atom-7 atom-9\" d=\"M 166.7,139.9 L 157.4,134.3\" style=\"fill:none;fill-rule:evenodd;stroke:#0000FF;stroke-width:2.0px;stroke-linecap:butt;stroke-linejoin:miter;stroke-opacity:1\"/>\n",
       "<path class=\"bond-17 atom-9 atom-10\" d=\"M 152.0,124.3 L 152.0,117.2\" style=\"fill:none;fill-rule:evenodd;stroke:#0000FF;stroke-width:2.0px;stroke-linecap:butt;stroke-linejoin:miter;stroke-opacity:1\"/>\n",
       "<path class=\"bond-17 atom-9 atom-10\" d=\"M 152.0,117.2 L 152.0,110.1\" style=\"fill:none;fill-rule:evenodd;stroke:#CCCC00;stroke-width:2.0px;stroke-linecap:butt;stroke-linejoin:miter;stroke-opacity:1\"/>\n",
       "<path class=\"bond-18 atom-9 atom-26\" d=\"M 146.6,134.2 L 139.9,138.0\" style=\"fill:none;fill-rule:evenodd;stroke:#0000FF;stroke-width:2.0px;stroke-linecap:butt;stroke-linejoin:miter;stroke-opacity:1\"/>\n",
       "<path class=\"bond-18 atom-9 atom-26\" d=\"M 139.9,138.0 L 133.3,141.7\" style=\"fill:none;fill-rule:evenodd;stroke:#000000;stroke-width:2.0px;stroke-linecap:butt;stroke-linejoin:miter;stroke-opacity:1\"/>\n",
       "<path class=\"bond-19 atom-10 atom-11\" d=\"M 146.3,102.1 L 139.3,98.1\" style=\"fill:none;fill-rule:evenodd;stroke:#CCCC00;stroke-width:2.0px;stroke-linecap:butt;stroke-linejoin:miter;stroke-opacity:1\"/>\n",
       "<path class=\"bond-19 atom-10 atom-11\" d=\"M 139.3,98.1 L 132.2,94.0\" style=\"fill:none;fill-rule:evenodd;stroke:#0000FF;stroke-width:2.0px;stroke-linecap:butt;stroke-linejoin:miter;stroke-opacity:1\"/>\n",
       "<path class=\"bond-19 atom-10 atom-11\" d=\"M 148.4,98.5 L 141.3,94.4\" style=\"fill:none;fill-rule:evenodd;stroke:#CCCC00;stroke-width:2.0px;stroke-linecap:butt;stroke-linejoin:miter;stroke-opacity:1\"/>\n",
       "<path class=\"bond-19 atom-10 atom-11\" d=\"M 141.3,94.4 L 134.3,90.4\" style=\"fill:none;fill-rule:evenodd;stroke:#0000FF;stroke-width:2.0px;stroke-linecap:butt;stroke-linejoin:miter;stroke-opacity:1\"/>\n",
       "<path class=\"bond-20 atom-10 atom-15\" d=\"M 156.7,100.2 L 166.5,94.4\" style=\"fill:none;fill-rule:evenodd;stroke:#CCCC00;stroke-width:2.0px;stroke-linecap:butt;stroke-linejoin:miter;stroke-opacity:1\"/>\n",
       "<path class=\"bond-20 atom-10 atom-15\" d=\"M 166.5,94.4 L 176.2,88.6\" style=\"fill:none;fill-rule:evenodd;stroke:#000000;stroke-width:2.0px;stroke-linecap:butt;stroke-linejoin:miter;stroke-opacity:1\"/>\n",
       "<path class=\"bond-21 atom-11 atom-12\" d=\"M 127.9,82.3 L 127.9,71.8\" style=\"fill:none;fill-rule:evenodd;stroke:#0000FF;stroke-width:2.0px;stroke-linecap:butt;stroke-linejoin:miter;stroke-opacity:1\"/>\n",
       "<path class=\"bond-21 atom-11 atom-12\" d=\"M 127.9,71.8 L 127.9,61.3\" style=\"fill:none;fill-rule:evenodd;stroke:#000000;stroke-width:2.0px;stroke-linecap:butt;stroke-linejoin:miter;stroke-opacity:1\"/>\n",
       "<path class=\"bond-22 atom-12 atom-13\" d=\"M 127.9,63.7 L 137.3,58.3\" style=\"fill:none;fill-rule:evenodd;stroke:#000000;stroke-width:2.0px;stroke-linecap:butt;stroke-linejoin:miter;stroke-opacity:1\"/>\n",
       "<path class=\"bond-22 atom-12 atom-13\" d=\"M 137.3,58.3 L 146.7,52.9\" style=\"fill:none;fill-rule:evenodd;stroke:#FF0000;stroke-width:2.0px;stroke-linecap:butt;stroke-linejoin:miter;stroke-opacity:1\"/>\n",
       "<path class=\"bond-22 atom-12 atom-13\" d=\"M 125.8,60.1 L 135.2,54.7\" style=\"fill:none;fill-rule:evenodd;stroke:#000000;stroke-width:2.0px;stroke-linecap:butt;stroke-linejoin:miter;stroke-opacity:1\"/>\n",
       "<path class=\"bond-22 atom-12 atom-13\" d=\"M 135.2,54.7 L 144.6,49.3\" style=\"fill:none;fill-rule:evenodd;stroke:#FF0000;stroke-width:2.0px;stroke-linecap:butt;stroke-linejoin:miter;stroke-opacity:1\"/>\n",
       "<path class=\"bond-23 atom-12 atom-14\" d=\"M 127.9,61.3 L 103.8,47.4\" style=\"fill:none;fill-rule:evenodd;stroke:#000000;stroke-width:2.0px;stroke-linecap:butt;stroke-linejoin:miter;stroke-opacity:1\"/>\n",
       "<path class=\"bond-24 atom-14 atom-27\" d=\"M 103.8,47.4 L 93.8,64.6\" style=\"fill:none;fill-rule:evenodd;stroke:#000000;stroke-width:2.0px;stroke-linecap:butt;stroke-linejoin:miter;stroke-opacity:1\"/>\n",
       "<path class=\"bond-25 atom-14 atom-28\" d=\"M 103.8,47.4 L 81.5,47.4\" style=\"fill:none;fill-rule:evenodd;stroke:#000000;stroke-width:2.0px;stroke-linecap:butt;stroke-linejoin:miter;stroke-opacity:1\"/>\n",
       "<path class=\"bond-26 atom-14 atom-29\" d=\"M 103.8,47.4 L 103.8,26.4\" style=\"fill:none;fill-rule:evenodd;stroke:#000000;stroke-width:2.0px;stroke-linecap:butt;stroke-linejoin:miter;stroke-opacity:1\"/>\n",
       "<path class=\"bond-27 atom-15 atom-16\" d=\"M 176.2,88.6 L 181.3,97.1\" style=\"fill:none;fill-rule:evenodd;stroke:#000000;stroke-width:2.0px;stroke-linecap:butt;stroke-linejoin:miter;stroke-opacity:1\"/>\n",
       "<path class=\"bond-27 atom-15 atom-16\" d=\"M 181.3,97.1 L 186.3,105.6\" style=\"fill:none;fill-rule:evenodd;stroke:#00CC00;stroke-width:2.0px;stroke-linecap:butt;stroke-linejoin:miter;stroke-opacity:1\"/>\n",
       "<path class=\"bond-28 atom-15 atom-17\" d=\"M 176.2,88.6 L 187.4,88.6\" style=\"fill:none;fill-rule:evenodd;stroke:#000000;stroke-width:2.0px;stroke-linecap:butt;stroke-linejoin:miter;stroke-opacity:1\"/>\n",
       "<path class=\"bond-28 atom-15 atom-17\" d=\"M 187.4,88.6 L 198.6,88.5\" style=\"fill:none;fill-rule:evenodd;stroke:#00CC00;stroke-width:2.0px;stroke-linecap:butt;stroke-linejoin:miter;stroke-opacity:1\"/>\n",
       "<path class=\"bond-29 atom-15 atom-18\" d=\"M 176.2,88.6 L 176.1,78.5\" style=\"fill:none;fill-rule:evenodd;stroke:#000000;stroke-width:2.0px;stroke-linecap:butt;stroke-linejoin:miter;stroke-opacity:1\"/>\n",
       "<path class=\"bond-29 atom-15 atom-18\" d=\"M 176.1,78.5 L 176.0,68.3\" style=\"fill:none;fill-rule:evenodd;stroke:#00CC00;stroke-width:2.0px;stroke-linecap:butt;stroke-linejoin:miter;stroke-opacity:1\"/>\n",
       "<path d=\"M 176.0,146.8 L 176.0,145.4 L 175.5,145.1\" style=\"fill:none;stroke:#000000;stroke-width:2.0px;stroke-linecap:butt;stroke-linejoin:miter;stroke-opacity:1;\"/>\n",
       "<path d=\"M 127.9,61.8 L 127.9,61.3 L 126.7,60.6\" style=\"fill:none;stroke:#000000;stroke-width:2.0px;stroke-linecap:butt;stroke-linejoin:miter;stroke-opacity:1;\"/>\n",
       "<path class=\"atom-8\" d=\"M 194.5 132.2 Q 194.5 129.4, 195.9 127.8 Q 197.3 126.2, 199.9 126.2 Q 202.5 126.2, 203.9 127.8 Q 205.4 129.4, 205.4 132.2 Q 205.4 135.1, 203.9 136.7 Q 202.5 138.4, 199.9 138.4 Q 197.3 138.4, 195.9 136.7 Q 194.5 135.1, 194.5 132.2 M 199.9 137.0 Q 201.7 137.0, 202.7 135.8 Q 203.7 134.6, 203.7 132.2 Q 203.7 129.9, 202.7 128.7 Q 201.7 127.6, 199.9 127.6 Q 198.1 127.6, 197.1 128.7 Q 196.2 129.9, 196.2 132.2 Q 196.2 134.6, 197.1 135.8 Q 198.1 137.0, 199.9 137.0 \" fill=\"#FF0000\"/>\n",
       "<path class=\"atom-9\" d=\"M 149.4 125.2 L 153.2 131.5 Q 153.6 132.1, 154.2 133.2 Q 154.9 134.3, 154.9 134.4 L 154.9 125.2 L 156.5 125.2 L 156.5 137.0 L 154.8 137.0 L 150.7 130.2 Q 150.2 129.4, 149.7 128.5 Q 149.2 127.6, 149.0 127.3 L 149.0 137.0 L 147.5 137.0 L 147.5 125.2 L 149.4 125.2 \" fill=\"#0000FF\"/>\n",
       "<path class=\"atom-10\" d=\"M 148.7 107.0 Q 148.8 107.1, 149.4 107.3 Q 149.9 107.5, 150.5 107.7 Q 151.1 107.8, 151.8 107.8 Q 152.9 107.8, 153.5 107.3 Q 154.2 106.7, 154.2 105.8 Q 154.2 105.1, 153.8 104.7 Q 153.5 104.3, 153.0 104.1 Q 152.5 103.9, 151.7 103.6 Q 150.6 103.3, 150.0 103.0 Q 149.4 102.7, 148.9 102.1 Q 148.5 101.5, 148.5 100.4 Q 148.5 98.9, 149.5 98.0 Q 150.5 97.1, 152.5 97.1 Q 153.9 97.1, 155.4 97.7 L 155.1 99.0 Q 153.6 98.4, 152.6 98.4 Q 151.4 98.4, 150.8 98.9 Q 150.1 99.4, 150.2 100.2 Q 150.2 100.8, 150.5 101.2 Q 150.8 101.6, 151.3 101.8 Q 151.8 102.0, 152.6 102.3 Q 153.6 102.6, 154.3 102.9 Q 154.9 103.3, 155.4 104.0 Q 155.8 104.6, 155.8 105.8 Q 155.8 107.4, 154.7 108.3 Q 153.6 109.2, 151.8 109.2 Q 150.8 109.2, 150.0 108.9 Q 149.2 108.7, 148.2 108.3 L 148.7 107.0 \" fill=\"#CCCC00\"/>\n",
       "<path class=\"atom-11\" d=\"M 125.3 83.2 L 129.1 89.5 Q 129.5 90.1, 130.1 91.2 Q 130.8 92.3, 130.8 92.4 L 130.8 83.2 L 132.4 83.2 L 132.4 95.1 L 130.7 95.1 L 126.6 88.2 Q 126.1 87.4, 125.6 86.5 Q 125.1 85.6, 124.9 85.3 L 124.9 95.1 L 123.4 95.1 L 123.4 83.2 L 125.3 83.2 \" fill=\"#0000FF\"/>\n",
       "<path class=\"atom-13\" d=\"M 146.5 47.4 Q 146.5 44.6, 147.9 43.0 Q 149.4 41.4, 152.0 41.4 Q 154.6 41.4, 156.0 43.0 Q 157.4 44.6, 157.4 47.4 Q 157.4 50.3, 156.0 52.0 Q 154.6 53.6, 152.0 53.6 Q 149.4 53.6, 147.9 52.0 Q 146.5 50.3, 146.5 47.4 M 152.0 52.2 Q 153.8 52.2, 154.7 51.0 Q 155.7 49.8, 155.7 47.4 Q 155.7 45.1, 154.7 44.0 Q 153.8 42.8, 152.0 42.8 Q 150.2 42.8, 149.2 43.9 Q 148.2 45.1, 148.2 47.4 Q 148.2 49.8, 149.2 51.0 Q 150.2 52.2, 152.0 52.2 \" fill=\"#FF0000\"/>\n",
       "<path class=\"atom-16\" d=\"M 185.7 112.5 Q 185.7 109.6, 187.1 108.1 Q 188.4 106.5, 191.1 106.5 Q 193.5 106.5, 194.8 108.2 L 193.7 109.1 Q 192.8 107.9, 191.1 107.9 Q 189.3 107.9, 188.3 109.1 Q 187.4 110.3, 187.4 112.5 Q 187.4 114.9, 188.4 116.1 Q 189.3 117.3, 191.3 117.3 Q 192.6 117.3, 194.1 116.5 L 194.5 117.8 Q 193.9 118.2, 193.0 118.4 Q 192.1 118.6, 191.0 118.6 Q 188.4 118.6, 187.1 117.1 Q 185.7 115.5, 185.7 112.5 \" fill=\"#00CC00\"/>\n",
       "<path class=\"atom-16\" d=\"M 196.0 105.8 L 197.5 105.8 L 197.5 118.5 L 196.0 118.5 L 196.0 105.8 \" fill=\"#00CC00\"/>\n",
       "<path class=\"atom-17\" d=\"M 199.5 88.8 Q 199.5 85.9, 200.8 84.4 Q 202.2 82.8, 204.9 82.8 Q 207.3 82.8, 208.6 84.5 L 207.5 85.4 Q 206.5 84.2, 204.9 84.2 Q 203.1 84.2, 202.1 85.4 Q 201.2 86.6, 201.2 88.8 Q 201.2 91.2, 202.1 92.4 Q 203.1 93.6, 205.0 93.6 Q 206.3 93.6, 207.9 92.8 L 208.3 94.0 Q 207.7 94.4, 206.8 94.7 Q 205.8 94.9, 204.8 94.9 Q 202.2 94.9, 200.8 93.3 Q 199.5 91.8, 199.5 88.8 \" fill=\"#00CC00\"/>\n",
       "<path class=\"atom-17\" d=\"M 209.8 82.1 L 211.3 82.1 L 211.3 94.8 L 209.8 94.8 L 209.8 82.1 \" fill=\"#00CC00\"/>\n",
       "<path class=\"atom-18\" d=\"M 171.4 61.3 Q 171.4 58.3, 172.8 56.8 Q 174.2 55.3, 176.8 55.3 Q 179.2 55.3, 180.5 57.0 L 179.4 57.9 Q 178.5 56.6, 176.8 56.6 Q 175.0 56.6, 174.1 57.8 Q 173.1 59.0, 173.1 61.3 Q 173.1 63.6, 174.1 64.8 Q 175.1 66.0, 177.0 66.0 Q 178.3 66.0, 179.8 65.2 L 180.3 66.5 Q 179.7 66.9, 178.7 67.1 Q 177.8 67.4, 176.7 67.4 Q 174.2 67.4, 172.8 65.8 Q 171.4 64.2, 171.4 61.3 \" fill=\"#00CC00\"/>\n",
       "<path class=\"atom-18\" d=\"M 181.7 54.5 L 183.3 54.5 L 183.3 67.2 L 181.7 67.2 L 181.7 54.5 \" fill=\"#00CC00\"/>\n",
       "<path class=\"atom-19\" d=\"M 219.4 167.0 L 221.0 167.0 L 221.0 172.0 L 227.1 172.0 L 227.1 167.0 L 228.7 167.0 L 228.7 178.8 L 227.1 178.8 L 227.1 173.4 L 221.0 173.4 L 221.0 178.8 L 219.4 178.8 L 219.4 167.0 \" fill=\"#000000\"/>\n",
       "<path class=\"atom-20\" d=\"M 219.3 222.7 L 220.9 222.7 L 220.9 227.7 L 227.0 227.7 L 227.0 222.7 L 228.6 222.7 L 228.6 234.5 L 227.0 234.5 L 227.0 229.0 L 220.9 229.0 L 220.9 234.5 L 219.3 234.5 L 219.3 222.7 \" fill=\"#000000\"/>\n",
       "<path class=\"atom-21\" d=\"M 198.9 250.5 L 200.5 250.5 L 200.5 255.5 L 206.5 255.5 L 206.5 250.5 L 208.1 250.5 L 208.1 262.3 L 206.5 262.3 L 206.5 256.8 L 200.5 256.8 L 200.5 262.3 L 198.9 262.3 L 198.9 250.5 \" fill=\"#000000\"/>\n",
       "<path class=\"atom-22\" d=\"M 184.9 274.5 L 186.5 274.5 L 186.5 279.6 L 192.6 279.6 L 192.6 274.5 L 194.2 274.5 L 194.2 286.4 L 192.6 286.4 L 192.6 280.9 L 186.5 280.9 L 186.5 286.4 L 184.9 286.4 L 184.9 274.5 \" fill=\"#000000\"/>\n",
       "<path class=\"atom-23\" d=\"M 146.9 264.3 L 148.5 264.3 L 148.5 269.3 L 154.6 269.3 L 154.6 264.3 L 156.2 264.3 L 156.2 276.1 L 154.6 276.1 L 154.6 270.6 L 148.5 270.6 L 148.5 276.1 L 146.9 276.1 L 146.9 264.3 \" fill=\"#000000\"/>\n",
       "<path class=\"atom-24\" d=\"M 122.9 222.5 L 124.5 222.5 L 124.5 227.5 L 130.5 227.5 L 130.5 222.5 L 132.1 222.5 L 132.1 234.3 L 130.5 234.3 L 130.5 228.8 L 124.5 228.8 L 124.5 234.3 L 122.9 234.3 L 122.9 222.5 \" fill=\"#000000\"/>\n",
       "<path class=\"atom-25\" d=\"M 123.0 166.8 L 124.6 166.8 L 124.6 171.8 L 130.6 171.8 L 130.6 166.8 L 132.2 166.8 L 132.2 178.6 L 130.6 178.6 L 130.6 173.2 L 124.6 173.2 L 124.6 178.6 L 123.0 178.6 L 123.0 166.8 \" fill=\"#000000\"/>\n",
       "<path class=\"atom-26\" d=\"M 123.1 139.0 L 124.7 139.0 L 124.7 144.0 L 130.8 144.0 L 130.8 139.0 L 132.4 139.0 L 132.4 150.8 L 130.8 150.8 L 130.8 145.3 L 124.7 145.3 L 124.7 150.8 L 123.1 150.8 L 123.1 139.0 \" fill=\"#000000\"/>\n",
       "<path class=\"atom-27\" d=\"M 85.2 65.6 L 86.8 65.6 L 86.8 70.6 L 92.8 70.6 L 92.8 65.6 L 94.4 65.6 L 94.4 77.4 L 92.8 77.4 L 92.8 71.9 L 86.8 71.9 L 86.8 77.4 L 85.2 77.4 L 85.2 65.6 \" fill=\"#000000\"/>\n",
       "<path class=\"atom-28\" d=\"M 71.3 41.4 L 72.9 41.4 L 72.9 46.5 L 79.0 46.5 L 79.0 41.4 L 80.6 41.4 L 80.6 53.3 L 79.0 53.3 L 79.0 47.8 L 72.9 47.8 L 72.9 53.3 L 71.3 53.3 L 71.3 41.4 \" fill=\"#000000\"/>\n",
       "<path class=\"atom-29\" d=\"M 99.2 13.6 L 100.8 13.6 L 100.8 18.7 L 106.8 18.7 L 106.8 13.6 L 108.4 13.6 L 108.4 25.5 L 106.8 25.5 L 106.8 20.0 L 100.8 20.0 L 100.8 25.5 L 99.2 25.5 L 99.2 13.6 \" fill=\"#000000\"/>\n",
       "</svg>"
      ],
      "text/plain": [
       "<IPython.core.display.SVG object>"
      ]
     },
     "metadata": {},
     "output_type": "display_data"
    },
    {
     "name": "stdin",
     "output_type": "stream",
     "text": [
      " t144j [H:28][C:1]([C:2]([C:3](/[N:4]=[S:5](\\[N:6]([C:7]([C:8]([C:9]([H:27])([H:22])[H:23])([H:20])[H:21])([H:18])[H:19])[H:17])[C:10]([H:24])([H:25])[H:26])([H:15])[H:16])([H:13])[H:14])([H:11])[H:12] (9, 4, 5, 16)\n"
     ]
    },
    {
     "name": "stdout",
     "output_type": "stream",
     "text": [
      "matched!\n"
     ]
    },
    {
     "data": {
      "image/svg+xml": [
       "<svg xmlns=\"http://www.w3.org/2000/svg\" xmlns:rdkit=\"http://www.rdkit.org/xml\" xmlns:xlink=\"http://www.w3.org/1999/xlink\" version=\"1.1\" baseProfile=\"full\" xml:space=\"preserve\" width=\"300px\" height=\"300px\" viewBox=\"0 0 300 300\">\n",
       "<!-- END OF HEADER -->\n",
       "<rect style=\"opacity:1.0;fill:#FFFFFF;stroke:none\" width=\"300.0\" height=\"300.0\" x=\"0.0\" y=\"0.0\"> </rect>\n",
       "<path class=\"bond-11 atom-4 atom-5\" d=\"M 107.0,175.6 L 162.8,209.9 L 149.4,216.9 L 106.8,190.7 Z\" style=\"fill:#FF7F7F;fill-rule:evenodd;fill-opacity:1;stroke:#FF7F7F;stroke-width:0.0px;stroke-linecap:butt;stroke-linejoin:miter;stroke-opacity:1;\"/>\n",
       "<path class=\"bond-12 atom-4 atom-9\" d=\"M 107.0,175.6 L 106.8,190.7 L 75.6,208.8 L 69.1,197.5 Z\" style=\"fill:#FF7F7F;fill-rule:evenodd;fill-opacity:1;stroke:#FF7F7F;stroke-width:0.0px;stroke-linecap:butt;stroke-linejoin:miter;stroke-opacity:1;\"/>\n",
       "<path class=\"bond-14 atom-5 atom-16\" d=\"M 162.8,209.9 L 160.7,248.3 L 147.7,247.6 L 149.4,216.9 Z\" style=\"fill:#FF7F7F;fill-rule:evenodd;fill-opacity:1;stroke:#FF7F7F;stroke-width:0.0px;stroke-linecap:butt;stroke-linejoin:miter;stroke-opacity:1;\"/>\n",
       "<ellipse cx=\"106.9\" cy=\"183.4\" rx=\"12.2\" ry=\"12.5\" class=\"atom-4\" style=\"fill:#FF7F7F;fill-rule:evenodd;stroke:#FF7F7F;stroke-width:1.0px;stroke-linecap:butt;stroke-linejoin:miter;stroke-opacity:1\"/>\n",
       "<ellipse cx=\"156.1\" cy=\"213.4\" rx=\"12.2\" ry=\"12.2\" class=\"atom-5\" style=\"fill:#FF7F7F;fill-rule:evenodd;stroke:#FF7F7F;stroke-width:1.0px;stroke-linecap:butt;stroke-linejoin:miter;stroke-opacity:1\"/>\n",
       "<ellipse cx=\"72.4\" cy=\"203.1\" rx=\"12.2\" ry=\"12.2\" class=\"atom-9\" style=\"fill:#FF7F7F;fill-rule:evenodd;stroke:#FF7F7F;stroke-width:1.0px;stroke-linecap:butt;stroke-linejoin:miter;stroke-opacity:1\"/>\n",
       "<ellipse cx=\"154.2\" cy=\"247.9\" rx=\"12.2\" ry=\"12.2\" class=\"atom-16\" style=\"fill:#FF7F7F;fill-rule:evenodd;stroke:#FF7F7F;stroke-width:1.0px;stroke-linecap:butt;stroke-linejoin:miter;stroke-opacity:1\"/>\n",
       "<path class=\"bond-0 atom-0 atom-1\" d=\"M 114.4,59.0 L 155.9,76.5\" style=\"fill:none;fill-rule:evenodd;stroke:#000000;stroke-width:2.0px;stroke-linecap:butt;stroke-linejoin:miter;stroke-opacity:1\"/>\n",
       "<path class=\"bond-1 atom-0 atom-10\" d=\"M 114.4,59.0 L 125.7,32.3\" style=\"fill:none;fill-rule:evenodd;stroke:#000000;stroke-width:2.0px;stroke-linecap:butt;stroke-linejoin:miter;stroke-opacity:1\"/>\n",
       "<path class=\"bond-2 atom-0 atom-11\" d=\"M 114.4,59.0 L 97.3,35.8\" style=\"fill:none;fill-rule:evenodd;stroke:#000000;stroke-width:2.0px;stroke-linecap:butt;stroke-linejoin:miter;stroke-opacity:1\"/>\n",
       "<path class=\"bond-3 atom-0 atom-27\" d=\"M 114.4,59.0 L 88.1,77.3\" style=\"fill:none;fill-rule:evenodd;stroke:#000000;stroke-width:2.0px;stroke-linecap:butt;stroke-linejoin:miter;stroke-opacity:1\"/>\n",
       "<path class=\"bond-4 atom-1 atom-2\" d=\"M 155.9,76.5 L 158.9,114.8\" style=\"fill:none;fill-rule:evenodd;stroke:#000000;stroke-width:2.0px;stroke-linecap:butt;stroke-linejoin:miter;stroke-opacity:1\"/>\n",
       "<path class=\"bond-5 atom-1 atom-12\" d=\"M 155.9,76.5 L 185.8,74.1\" style=\"fill:none;fill-rule:evenodd;stroke:#000000;stroke-width:2.0px;stroke-linecap:butt;stroke-linejoin:miter;stroke-opacity:1\"/>\n",
       "<path class=\"bond-6 atom-1 atom-13\" d=\"M 155.9,76.5 L 166.7,50.6\" style=\"fill:none;fill-rule:evenodd;stroke:#000000;stroke-width:2.0px;stroke-linecap:butt;stroke-linejoin:miter;stroke-opacity:1\"/>\n",
       "<path class=\"bond-7 atom-2 atom-3\" d=\"M 158.9,114.8 L 136.2,119.4\" style=\"fill:none;fill-rule:evenodd;stroke:#000000;stroke-width:2.0px;stroke-linecap:butt;stroke-linejoin:miter;stroke-opacity:1\"/>\n",
       "<path class=\"bond-7 atom-2 atom-3\" d=\"M 136.2,119.4 L 113.5,124.0\" style=\"fill:none;fill-rule:evenodd;stroke:#0000FF;stroke-width:2.0px;stroke-linecap:butt;stroke-linejoin:miter;stroke-opacity:1\"/>\n",
       "<path class=\"bond-8 atom-2 atom-14\" d=\"M 158.9,114.8 L 157.2,159.0\" style=\"fill:none;fill-rule:evenodd;stroke:#000000;stroke-width:2.0px;stroke-linecap:butt;stroke-linejoin:miter;stroke-opacity:1\"/>\n",
       "<path class=\"bond-9 atom-2 atom-15\" d=\"M 158.9,114.8 L 181.0,116.4\" style=\"fill:none;fill-rule:evenodd;stroke:#000000;stroke-width:2.0px;stroke-linecap:butt;stroke-linejoin:miter;stroke-opacity:1\"/>\n",
       "<path class=\"bond-10 atom-3 atom-4\" d=\"M 109.0,135.6 L 109.4,154.3\" style=\"fill:none;fill-rule:evenodd;stroke:#0000FF;stroke-width:2.0px;stroke-linecap:butt;stroke-linejoin:miter;stroke-opacity:1\"/>\n",
       "<path class=\"bond-10 atom-3 atom-4\" d=\"M 109.4,154.3 L 109.9,173.0\" style=\"fill:none;fill-rule:evenodd;stroke:#CCCC00;stroke-width:2.0px;stroke-linecap:butt;stroke-linejoin:miter;stroke-opacity:1\"/>\n",
       "<path class=\"bond-10 atom-3 atom-4\" d=\"M 102.6,135.7 L 103.0,154.4\" style=\"fill:none;fill-rule:evenodd;stroke:#0000FF;stroke-width:2.0px;stroke-linecap:butt;stroke-linejoin:miter;stroke-opacity:1\"/>\n",
       "<path class=\"bond-10 atom-3 atom-4\" d=\"M 103.0,154.4 L 103.5,173.2\" style=\"fill:none;fill-rule:evenodd;stroke:#CCCC00;stroke-width:2.0px;stroke-linecap:butt;stroke-linejoin:miter;stroke-opacity:1\"/>\n",
       "<path class=\"bond-11 atom-4 atom-5\" d=\"M 113.9,187.4 L 131.0,198.0\" style=\"fill:none;fill-rule:evenodd;stroke:#CCCC00;stroke-width:2.0px;stroke-linecap:butt;stroke-linejoin:miter;stroke-opacity:1\"/>\n",
       "<path class=\"bond-11 atom-4 atom-5\" d=\"M 131.0,198.0 L 148.1,208.5\" style=\"fill:none;fill-rule:evenodd;stroke:#0000FF;stroke-width:2.0px;stroke-linecap:butt;stroke-linejoin:miter;stroke-opacity:1\"/>\n",
       "<path class=\"bond-12 atom-4 atom-9\" d=\"M 99.9,187.2 L 86.2,195.1\" style=\"fill:none;fill-rule:evenodd;stroke:#CCCC00;stroke-width:2.0px;stroke-linecap:butt;stroke-linejoin:miter;stroke-opacity:1\"/>\n",
       "<path class=\"bond-12 atom-4 atom-9\" d=\"M 86.2,195.1 L 72.4,203.1\" style=\"fill:none;fill-rule:evenodd;stroke:#000000;stroke-width:2.0px;stroke-linecap:butt;stroke-linejoin:miter;stroke-opacity:1\"/>\n",
       "<path class=\"bond-13 atom-5 atom-6\" d=\"M 164.1,204.4 L 178.2,188.6\" style=\"fill:none;fill-rule:evenodd;stroke:#0000FF;stroke-width:2.0px;stroke-linecap:butt;stroke-linejoin:miter;stroke-opacity:1\"/>\n",
       "<path class=\"bond-13 atom-5 atom-6\" d=\"M 178.2,188.6 L 192.3,172.7\" style=\"fill:none;fill-rule:evenodd;stroke:#000000;stroke-width:2.0px;stroke-linecap:butt;stroke-linejoin:miter;stroke-opacity:1\"/>\n",
       "<path class=\"bond-14 atom-5 atom-16\" d=\"M 155.6,223.5 L 155.2,230.7\" style=\"fill:none;fill-rule:evenodd;stroke:#0000FF;stroke-width:2.0px;stroke-linecap:butt;stroke-linejoin:miter;stroke-opacity:1\"/>\n",
       "<path class=\"bond-14 atom-5 atom-16\" d=\"M 155.2,230.7 L 154.8,237.9\" style=\"fill:none;fill-rule:evenodd;stroke:#000000;stroke-width:2.0px;stroke-linecap:butt;stroke-linejoin:miter;stroke-opacity:1\"/>\n",
       "<path class=\"bond-15 atom-6 atom-7\" d=\"M 192.3,172.7 L 224.3,194.8\" style=\"fill:none;fill-rule:evenodd;stroke:#000000;stroke-width:2.0px;stroke-linecap:butt;stroke-linejoin:miter;stroke-opacity:1\"/>\n",
       "<path class=\"bond-16 atom-6 atom-17\" d=\"M 192.3,172.7 L 200.6,155.3\" style=\"fill:none;fill-rule:evenodd;stroke:#000000;stroke-width:2.0px;stroke-linecap:butt;stroke-linejoin:miter;stroke-opacity:1\"/>\n",
       "<path class=\"bond-17 atom-6 atom-18\" d=\"M 192.3,172.7 L 152.4,151.5\" style=\"fill:none;fill-rule:evenodd;stroke:#000000;stroke-width:2.0px;stroke-linecap:butt;stroke-linejoin:miter;stroke-opacity:1\"/>\n",
       "<path class=\"bond-18 atom-7 atom-8\" d=\"M 224.3,194.8 L 219.8,241.2\" style=\"fill:none;fill-rule:evenodd;stroke:#000000;stroke-width:2.0px;stroke-linecap:butt;stroke-linejoin:miter;stroke-opacity:1\"/>\n",
       "<path class=\"bond-19 atom-7 atom-19\" d=\"M 224.3,194.8 L 238.9,173.3\" style=\"fill:none;fill-rule:evenodd;stroke:#000000;stroke-width:2.0px;stroke-linecap:butt;stroke-linejoin:miter;stroke-opacity:1\"/>\n",
       "<path class=\"bond-20 atom-7 atom-20\" d=\"M 224.3,194.8 L 254.6,198.3\" style=\"fill:none;fill-rule:evenodd;stroke:#000000;stroke-width:2.0px;stroke-linecap:butt;stroke-linejoin:miter;stroke-opacity:1\"/>\n",
       "<path class=\"bond-21 atom-8 atom-21\" d=\"M 219.8,241.2 L 250.6,244.0\" style=\"fill:none;fill-rule:evenodd;stroke:#000000;stroke-width:2.0px;stroke-linecap:butt;stroke-linejoin:miter;stroke-opacity:1\"/>\n",
       "<path class=\"bond-22 atom-8 atom-22\" d=\"M 219.8,241.2 L 232.1,267.7\" style=\"fill:none;fill-rule:evenodd;stroke:#000000;stroke-width:2.0px;stroke-linecap:butt;stroke-linejoin:miter;stroke-opacity:1\"/>\n",
       "<path class=\"bond-23 atom-8 atom-26\" d=\"M 219.8,241.2 L 192.2,256.3\" style=\"fill:none;fill-rule:evenodd;stroke:#000000;stroke-width:2.0px;stroke-linecap:butt;stroke-linejoin:miter;stroke-opacity:1\"/>\n",
       "<path class=\"bond-24 atom-9 atom-23\" d=\"M 72.4,203.1 L 87.1,228.2\" style=\"fill:none;fill-rule:evenodd;stroke:#000000;stroke-width:2.0px;stroke-linecap:butt;stroke-linejoin:miter;stroke-opacity:1\"/>\n",
       "<path class=\"bond-25 atom-9 atom-24\" d=\"M 72.4,203.1 L 58.0,228.3\" style=\"fill:none;fill-rule:evenodd;stroke:#000000;stroke-width:2.0px;stroke-linecap:butt;stroke-linejoin:miter;stroke-opacity:1\"/>\n",
       "<path class=\"bond-26 atom-9 atom-25\" d=\"M 72.4,203.1 L 45.4,187.6\" style=\"fill:none;fill-rule:evenodd;stroke:#000000;stroke-width:2.0px;stroke-linecap:butt;stroke-linejoin:miter;stroke-opacity:1\"/>\n",
       "<path class=\"atom-3\" d=\"M 101.7 116.9 L 107.4 126.1 Q 107.9 127.0, 108.8 128.6 Q 109.7 130.3, 109.8 130.4 L 109.8 116.9 L 112.1 116.9 L 112.1 134.2 L 109.7 134.2 L 103.6 124.2 Q 102.9 123.0, 102.2 121.7 Q 101.4 120.3, 101.2 119.9 L 101.2 134.2 L 99.0 134.2 L 99.0 116.9 L 101.7 116.9 \" fill=\"#0000FF\"/>\n",
       "<path class=\"atom-4\" d=\"M 102.0 189.1 Q 102.2 189.1, 103.0 189.5 Q 103.8 189.8, 104.7 190.0 Q 105.6 190.2, 106.5 190.2 Q 108.1 190.2, 109.1 189.5 Q 110.0 188.7, 110.0 187.3 Q 110.0 186.3, 109.5 185.7 Q 109.1 185.1, 108.3 184.8 Q 107.6 184.5, 106.4 184.1 Q 104.9 183.7, 103.9 183.2 Q 103.0 182.8, 102.4 181.9 Q 101.7 180.9, 101.7 179.4 Q 101.7 177.2, 103.2 175.9 Q 104.7 174.5, 107.6 174.5 Q 109.6 174.5, 111.9 175.5 L 111.3 177.3 Q 109.2 176.5, 107.7 176.5 Q 106.0 176.5, 105.1 177.2 Q 104.1 177.9, 104.2 179.1 Q 104.2 180.0, 104.6 180.6 Q 105.1 181.1, 105.8 181.5 Q 106.5 181.8, 107.7 182.1 Q 109.2 182.6, 110.2 183.1 Q 111.1 183.6, 111.8 184.6 Q 112.4 185.6, 112.4 187.3 Q 112.4 189.7, 110.8 190.9 Q 109.2 192.2, 106.6 192.2 Q 105.0 192.2, 103.9 191.9 Q 102.7 191.6, 101.4 191.0 L 102.0 189.1 \" fill=\"#CCCC00\"/>\n",
       "<path class=\"atom-5\" d=\"M 152.3 204.8 L 158.0 213.9 Q 158.5 214.8, 159.4 216.5 Q 160.3 218.1, 160.4 218.2 L 160.4 204.8 L 162.7 204.8 L 162.7 222.1 L 160.3 222.1 L 154.2 212.0 Q 153.5 210.9, 152.8 209.5 Q 152.0 208.2, 151.8 207.8 L 151.8 222.1 L 149.6 222.1 L 149.6 204.8 L 152.3 204.8 \" fill=\"#0000FF\"/>\n",
       "<path class=\"atom-10\" d=\"M 123.2 13.6 L 125.5 13.6 L 125.5 21.0 L 134.4 21.0 L 134.4 13.6 L 136.7 13.6 L 136.7 30.9 L 134.4 30.9 L 134.4 22.9 L 125.5 22.9 L 125.5 30.9 L 123.2 30.9 L 123.2 13.6 \" fill=\"#000000\"/>\n",
       "<path class=\"atom-11\" d=\"M 83.2 17.1 L 85.5 17.1 L 85.5 24.4 L 94.4 24.4 L 94.4 17.1 L 96.7 17.1 L 96.7 34.4 L 94.4 34.4 L 94.4 26.4 L 85.5 26.4 L 85.5 34.4 L 83.2 34.4 L 83.2 17.1 \" fill=\"#000000\"/>\n",
       "<path class=\"atom-12\" d=\"M 187.2 64.8 L 189.5 64.8 L 189.5 72.1 L 198.4 72.1 L 198.4 64.8 L 200.7 64.8 L 200.7 82.1 L 198.4 82.1 L 198.4 74.1 L 189.5 74.1 L 189.5 82.1 L 187.2 82.1 L 187.2 64.8 \" fill=\"#000000\"/>\n",
       "<path class=\"atom-13\" d=\"M 164.1 31.9 L 166.4 31.9 L 166.4 39.2 L 175.3 39.2 L 175.3 31.9 L 177.6 31.9 L 177.6 49.2 L 175.3 49.2 L 175.3 41.2 L 166.4 41.2 L 166.4 49.2 L 164.1 49.2 L 164.1 31.9 \" fill=\"#000000\"/>\n",
       "<path class=\"atom-14\" d=\"M 150.0 160.4 L 152.4 160.4 L 152.4 167.8 L 161.2 167.8 L 161.2 160.4 L 163.6 160.4 L 163.6 177.7 L 161.2 177.7 L 161.2 169.7 L 152.4 169.7 L 152.4 177.7 L 150.0 177.7 L 150.0 160.4 \" fill=\"#000000\"/>\n",
       "<path class=\"atom-15\" d=\"M 182.4 108.4 L 184.7 108.4 L 184.7 115.7 L 193.6 115.7 L 193.6 108.4 L 195.9 108.4 L 195.9 125.7 L 193.6 125.7 L 193.6 117.7 L 184.7 117.7 L 184.7 125.7 L 182.4 125.7 L 182.4 108.4 \" fill=\"#000000\"/>\n",
       "<path class=\"atom-16\" d=\"M 147.4 239.3 L 149.8 239.3 L 149.8 246.6 L 158.6 246.6 L 158.6 239.3 L 161.0 239.3 L 161.0 256.6 L 158.6 256.6 L 158.6 248.6 L 149.8 248.6 L 149.8 256.6 L 147.4 256.6 L 147.4 239.3 \" fill=\"#000000\"/>\n",
       "<path class=\"atom-17\" d=\"M 198.7 136.6 L 201.0 136.6 L 201.0 143.9 L 209.9 143.9 L 209.9 136.6 L 212.2 136.6 L 212.2 153.9 L 209.9 153.9 L 209.9 145.9 L 201.0 145.9 L 201.0 153.9 L 198.7 153.9 L 198.7 136.6 \" fill=\"#000000\"/>\n",
       "<path class=\"atom-18\" d=\"M 137.4 138.6 L 139.8 138.6 L 139.8 145.9 L 148.6 145.9 L 148.6 138.6 L 150.9 138.6 L 150.9 155.9 L 148.6 155.9 L 148.6 147.9 L 139.8 147.9 L 139.8 155.9 L 137.4 155.9 L 137.4 138.6 \" fill=\"#000000\"/>\n",
       "<path class=\"atom-19\" d=\"M 238.9 154.6 L 241.3 154.6 L 241.3 161.9 L 250.1 161.9 L 250.1 154.6 L 252.4 154.6 L 252.4 171.9 L 250.1 171.9 L 250.1 163.9 L 241.3 163.9 L 241.3 171.9 L 238.9 171.9 L 238.9 154.6 \" fill=\"#000000\"/>\n",
       "<path class=\"atom-20\" d=\"M 256.0 190.6 L 258.3 190.6 L 258.3 198.0 L 267.2 198.0 L 267.2 190.6 L 269.5 190.6 L 269.5 207.9 L 267.2 207.9 L 267.2 199.9 L 258.3 199.9 L 258.3 207.9 L 256.0 207.9 L 256.0 190.6 \" fill=\"#000000\"/>\n",
       "<path class=\"atom-21\" d=\"M 252.0 236.1 L 254.3 236.1 L 254.3 243.5 L 263.2 243.5 L 263.2 236.1 L 265.5 236.1 L 265.5 253.4 L 263.2 253.4 L 263.2 245.4 L 254.3 245.4 L 254.3 253.4 L 252.0 253.4 L 252.0 236.1 \" fill=\"#000000\"/>\n",
       "<path class=\"atom-22\" d=\"M 229.9 269.1 L 232.3 269.1 L 232.3 276.4 L 241.1 276.4 L 241.1 269.1 L 243.5 269.1 L 243.5 286.4 L 241.1 286.4 L 241.1 278.4 L 232.3 278.4 L 232.3 286.4 L 229.9 286.4 L 229.9 269.1 \" fill=\"#000000\"/>\n",
       "<path class=\"atom-23\" d=\"M 86.2 229.6 L 88.6 229.6 L 88.6 236.9 L 97.4 236.9 L 97.4 229.6 L 99.7 229.6 L 99.7 246.9 L 97.4 246.9 L 97.4 238.9 L 88.6 238.9 L 88.6 246.9 L 86.2 246.9 L 86.2 229.6 \" fill=\"#000000\"/>\n",
       "<path class=\"atom-24\" d=\"M 45.5 229.7 L 47.9 229.7 L 47.9 237.0 L 56.7 237.0 L 56.7 229.7 L 59.1 229.7 L 59.1 247.0 L 56.7 247.0 L 56.7 239.0 L 47.9 239.0 L 47.9 247.0 L 45.5 247.0 L 45.5 229.7 \" fill=\"#000000\"/>\n",
       "<path class=\"atom-25\" d=\"M 30.5 174.2 L 32.8 174.2 L 32.8 181.5 L 41.7 181.5 L 41.7 174.2 L 44.0 174.2 L 44.0 191.5 L 41.7 191.5 L 41.7 183.5 L 32.8 183.5 L 32.8 191.5 L 30.5 191.5 L 30.5 174.2 \" fill=\"#000000\"/>\n",
       "<path class=\"atom-26\" d=\"M 177.3 252.1 L 179.6 252.1 L 179.6 259.4 L 188.5 259.4 L 188.5 252.1 L 190.8 252.1 L 190.8 269.3 L 188.5 269.3 L 188.5 261.4 L 179.6 261.4 L 179.6 269.3 L 177.3 269.3 L 177.3 252.1 \" fill=\"#000000\"/>\n",
       "<path class=\"atom-27\" d=\"M 73.1 74.3 L 75.5 74.3 L 75.5 81.7 L 84.3 81.7 L 84.3 74.3 L 86.6 74.3 L 86.6 91.6 L 84.3 91.6 L 84.3 83.6 L 75.5 83.6 L 75.5 91.6 L 73.1 91.6 L 73.1 74.3 \" fill=\"#000000\"/>\n",
       "</svg>"
      ],
      "text/plain": [
       "<IPython.core.display.SVG object>"
      ]
     },
     "metadata": {},
     "output_type": "display_data"
    },
    {
     "name": "stdin",
     "output_type": "stream",
     "text": [
      " t144j [C:1]1([H:16])=[N:2][C:3]([C:4]([C:5]([C:6](/[N:7]=[S:8](\\[N:9]([C:10]([C:11]([C:12]([H:35])([H:28])[H:29])([H:26])[H:27])([H:24])[H:25])[H:23])[C:13]([H:30])([H:31])[H:32])([H:21])[H:22])([H:19])[H:20])([H:17])[H:18])=[C:14]([H:33])[N:15]1[H:34] (12, 7, 8, 22)\n"
     ]
    },
    {
     "name": "stdout",
     "output_type": "stream",
     "text": [
      "matched!\n"
     ]
    },
    {
     "data": {
      "image/svg+xml": [
       "<svg xmlns=\"http://www.w3.org/2000/svg\" xmlns:rdkit=\"http://www.rdkit.org/xml\" xmlns:xlink=\"http://www.w3.org/1999/xlink\" version=\"1.1\" baseProfile=\"full\" xml:space=\"preserve\" width=\"300px\" height=\"300px\" viewBox=\"0 0 300 300\">\n",
       "<!-- END OF HEADER -->\n",
       "<rect style=\"opacity:1.0;fill:#FFFFFF;stroke:none\" width=\"300.0\" height=\"300.0\" x=\"0.0\" y=\"0.0\"> </rect>\n",
       "<path class=\"bond-16 atom-7 atom-8\" d=\"M 212.2,152.5 L 223.1,157.6 L 226.5,183.1 L 217.2,189.8 Z\" style=\"fill:#FF7F7F;fill-rule:evenodd;fill-opacity:1;stroke:#FF7F7F;stroke-width:0.0px;stroke-linecap:butt;stroke-linejoin:miter;stroke-opacity:1;\"/>\n",
       "<path class=\"bond-17 atom-7 atom-12\" d=\"M 242.0,133.8 L 247.4,142.3 L 223.1,157.6 L 212.2,152.5 Z\" style=\"fill:#FF7F7F;fill-rule:evenodd;fill-opacity:1;stroke:#FF7F7F;stroke-width:0.0px;stroke-linecap:butt;stroke-linejoin:miter;stroke-opacity:1;\"/>\n",
       "<path class=\"bond-19 atom-8 atom-22\" d=\"M 226.5,183.1 L 251.6,195.7 L 247.0,204.8 L 217.2,189.8 Z\" style=\"fill:#FF7F7F;fill-rule:evenodd;fill-opacity:1;stroke:#FF7F7F;stroke-width:0.0px;stroke-linecap:butt;stroke-linejoin:miter;stroke-opacity:1;\"/>\n",
       "<ellipse cx=\"217.7\" cy=\"155.2\" rx=\"9.5\" ry=\"9.7\" class=\"atom-7\" style=\"fill:#FF7F7F;fill-rule:evenodd;stroke:#FF7F7F;stroke-width:1.0px;stroke-linecap:butt;stroke-linejoin:miter;stroke-opacity:1\"/>\n",
       "<ellipse cx=\"221.9\" cy=\"186.5\" rx=\"9.5\" ry=\"9.5\" class=\"atom-8\" style=\"fill:#FF7F7F;fill-rule:evenodd;stroke:#FF7F7F;stroke-width:1.0px;stroke-linecap:butt;stroke-linejoin:miter;stroke-opacity:1\"/>\n",
       "<ellipse cx=\"244.7\" cy=\"138.1\" rx=\"9.5\" ry=\"9.5\" class=\"atom-12\" style=\"fill:#FF7F7F;fill-rule:evenodd;stroke:#FF7F7F;stroke-width:1.0px;stroke-linecap:butt;stroke-linejoin:miter;stroke-opacity:1\"/>\n",
       "<ellipse cx=\"249.3\" cy=\"200.2\" rx=\"9.5\" ry=\"9.5\" class=\"atom-22\" style=\"fill:#FF7F7F;fill-rule:evenodd;stroke:#FF7F7F;stroke-width:1.0px;stroke-linecap:butt;stroke-linejoin:miter;stroke-opacity:1\"/>\n",
       "<path class=\"bond-0 atom-0 atom-1\" d=\"M 59.4,76.5 L 66.6,85.0\" style=\"fill:none;fill-rule:evenodd;stroke:#000000;stroke-width:2.0px;stroke-linecap:butt;stroke-linejoin:miter;stroke-opacity:1\"/>\n",
       "<path class=\"bond-0 atom-0 atom-1\" d=\"M 66.6,85.0 L 73.7,93.4\" style=\"fill:none;fill-rule:evenodd;stroke:#0000FF;stroke-width:2.0px;stroke-linecap:butt;stroke-linejoin:miter;stroke-opacity:1\"/>\n",
       "<path class=\"bond-0 atom-0 atom-1\" d=\"M 65.3,76.1 L 71.3,83.2\" style=\"fill:none;fill-rule:evenodd;stroke:#000000;stroke-width:2.0px;stroke-linecap:butt;stroke-linejoin:miter;stroke-opacity:1\"/>\n",
       "<path class=\"bond-0 atom-0 atom-1\" d=\"M 71.3,83.2 L 77.4,90.3\" style=\"fill:none;fill-rule:evenodd;stroke:#0000FF;stroke-width:2.0px;stroke-linecap:butt;stroke-linejoin:miter;stroke-opacity:1\"/>\n",
       "<path class=\"bond-1 atom-0 atom-14\" d=\"M 59.4,76.5 L 65.2,66.9\" style=\"fill:none;fill-rule:evenodd;stroke:#000000;stroke-width:2.0px;stroke-linecap:butt;stroke-linejoin:miter;stroke-opacity:1\"/>\n",
       "<path class=\"bond-1 atom-0 atom-14\" d=\"M 65.2,66.9 L 71.1,57.3\" style=\"fill:none;fill-rule:evenodd;stroke:#0000FF;stroke-width:2.0px;stroke-linecap:butt;stroke-linejoin:miter;stroke-opacity:1\"/>\n",
       "<path class=\"bond-2 atom-0 atom-15\" d=\"M 59.4,76.5 L 34.1,78.6\" style=\"fill:none;fill-rule:evenodd;stroke:#000000;stroke-width:2.0px;stroke-linecap:butt;stroke-linejoin:miter;stroke-opacity:1\"/>\n",
       "<path class=\"bond-3 atom-1 atom-2\" d=\"M 86.0,98.0 L 97.6,93.2\" style=\"fill:none;fill-rule:evenodd;stroke:#0000FF;stroke-width:2.0px;stroke-linecap:butt;stroke-linejoin:miter;stroke-opacity:1\"/>\n",
       "<path class=\"bond-3 atom-1 atom-2\" d=\"M 97.6,93.2 L 109.1,88.4\" style=\"fill:none;fill-rule:evenodd;stroke:#000000;stroke-width:2.0px;stroke-linecap:butt;stroke-linejoin:miter;stroke-opacity:1\"/>\n",
       "<path class=\"bond-4 atom-2 atom-3\" d=\"M 109.1,88.4 L 134.3,106.1\" style=\"fill:none;fill-rule:evenodd;stroke:#000000;stroke-width:2.0px;stroke-linecap:butt;stroke-linejoin:miter;stroke-opacity:1\"/>\n",
       "<path class=\"bond-5 atom-2 atom-13\" d=\"M 109.1,88.4 L 106.6,56.9\" style=\"fill:none;fill-rule:evenodd;stroke:#000000;stroke-width:2.0px;stroke-linecap:butt;stroke-linejoin:miter;stroke-opacity:1\"/>\n",
       "<path class=\"bond-5 atom-2 atom-13\" d=\"M 104.1,85.3 L 102.1,60.8\" style=\"fill:none;fill-rule:evenodd;stroke:#000000;stroke-width:2.0px;stroke-linecap:butt;stroke-linejoin:miter;stroke-opacity:1\"/>\n",
       "<path class=\"bond-6 atom-3 atom-4\" d=\"M 134.3,106.1 L 129.2,140.0\" style=\"fill:none;fill-rule:evenodd;stroke:#000000;stroke-width:2.0px;stroke-linecap:butt;stroke-linejoin:miter;stroke-opacity:1\"/>\n",
       "<path class=\"bond-7 atom-3 atom-16\" d=\"M 134.3,106.1 L 159.9,108.4\" style=\"fill:none;fill-rule:evenodd;stroke:#000000;stroke-width:2.0px;stroke-linecap:butt;stroke-linejoin:miter;stroke-opacity:1\"/>\n",
       "<path class=\"bond-8 atom-3 atom-17\" d=\"M 134.3,106.1 L 147.1,87.5\" style=\"fill:none;fill-rule:evenodd;stroke:#000000;stroke-width:2.0px;stroke-linecap:butt;stroke-linejoin:miter;stroke-opacity:1\"/>\n",
       "<path class=\"bond-9 atom-4 atom-5\" d=\"M 129.2,140.0 L 150.9,157.9\" style=\"fill:none;fill-rule:evenodd;stroke:#000000;stroke-width:2.0px;stroke-linecap:butt;stroke-linejoin:miter;stroke-opacity:1\"/>\n",
       "<path class=\"bond-10 atom-4 atom-18\" d=\"M 129.2,140.0 L 105.3,136.8\" style=\"fill:none;fill-rule:evenodd;stroke:#000000;stroke-width:2.0px;stroke-linecap:butt;stroke-linejoin:miter;stroke-opacity:1\"/>\n",
       "<path class=\"bond-11 atom-4 atom-19\" d=\"M 129.2,140.0 L 116.8,156.7\" style=\"fill:none;fill-rule:evenodd;stroke:#000000;stroke-width:2.0px;stroke-linecap:butt;stroke-linejoin:miter;stroke-opacity:1\"/>\n",
       "<path class=\"bond-12 atom-5 atom-6\" d=\"M 150.9,157.9 L 164.4,150.5\" style=\"fill:none;fill-rule:evenodd;stroke:#000000;stroke-width:2.0px;stroke-linecap:butt;stroke-linejoin:miter;stroke-opacity:1\"/>\n",
       "<path class=\"bond-12 atom-5 atom-6\" d=\"M 164.4,150.5 L 177.9,143.1\" style=\"fill:none;fill-rule:evenodd;stroke:#0000FF;stroke-width:2.0px;stroke-linecap:butt;stroke-linejoin:miter;stroke-opacity:1\"/>\n",
       "<path class=\"bond-13 atom-5 atom-20\" d=\"M 150.9,157.9 L 140.4,174.8\" style=\"fill:none;fill-rule:evenodd;stroke:#000000;stroke-width:2.0px;stroke-linecap:butt;stroke-linejoin:miter;stroke-opacity:1\"/>\n",
       "<path class=\"bond-14 atom-5 atom-21\" d=\"M 150.9,157.9 L 161.1,176.3\" style=\"fill:none;fill-rule:evenodd;stroke:#000000;stroke-width:2.0px;stroke-linecap:butt;stroke-linejoin:miter;stroke-opacity:1\"/>\n",
       "<path class=\"bond-15 atom-6 atom-7\" d=\"M 191.2,140.4 L 202.3,145.4\" style=\"fill:none;fill-rule:evenodd;stroke:#0000FF;stroke-width:2.0px;stroke-linecap:butt;stroke-linejoin:miter;stroke-opacity:1\"/>\n",
       "<path class=\"bond-15 atom-6 atom-7\" d=\"M 202.3,145.4 L 213.3,150.4\" style=\"fill:none;fill-rule:evenodd;stroke:#CCCC00;stroke-width:2.0px;stroke-linecap:butt;stroke-linejoin:miter;stroke-opacity:1\"/>\n",
       "<path class=\"bond-15 atom-6 atom-7\" d=\"M 189.2,144.7 L 200.3,149.8\" style=\"fill:none;fill-rule:evenodd;stroke:#0000FF;stroke-width:2.0px;stroke-linecap:butt;stroke-linejoin:miter;stroke-opacity:1\"/>\n",
       "<path class=\"bond-15 atom-6 atom-7\" d=\"M 200.3,149.8 L 211.3,154.8\" style=\"fill:none;fill-rule:evenodd;stroke:#CCCC00;stroke-width:2.0px;stroke-linecap:butt;stroke-linejoin:miter;stroke-opacity:1\"/>\n",
       "<path class=\"bond-16 atom-7 atom-8\" d=\"M 218.8,163.2 L 219.8,170.9\" style=\"fill:none;fill-rule:evenodd;stroke:#CCCC00;stroke-width:2.0px;stroke-linecap:butt;stroke-linejoin:miter;stroke-opacity:1\"/>\n",
       "<path class=\"bond-16 atom-7 atom-8\" d=\"M 219.8,170.9 L 220.8,178.7\" style=\"fill:none;fill-rule:evenodd;stroke:#0000FF;stroke-width:2.0px;stroke-linecap:butt;stroke-linejoin:miter;stroke-opacity:1\"/>\n",
       "<path class=\"bond-17 atom-7 atom-12\" d=\"M 223.1,151.7 L 233.9,144.9\" style=\"fill:none;fill-rule:evenodd;stroke:#CCCC00;stroke-width:2.0px;stroke-linecap:butt;stroke-linejoin:miter;stroke-opacity:1\"/>\n",
       "<path class=\"bond-17 atom-7 atom-12\" d=\"M 233.9,144.9 L 244.7,138.1\" style=\"fill:none;fill-rule:evenodd;stroke:#000000;stroke-width:2.0px;stroke-linecap:butt;stroke-linejoin:miter;stroke-opacity:1\"/>\n",
       "<path class=\"bond-18 atom-8 atom-9\" d=\"M 215.7,190.5 L 208.4,195.3\" style=\"fill:none;fill-rule:evenodd;stroke:#0000FF;stroke-width:2.0px;stroke-linecap:butt;stroke-linejoin:miter;stroke-opacity:1\"/>\n",
       "<path class=\"bond-18 atom-8 atom-9\" d=\"M 208.4,195.3 L 201.2,200.0\" style=\"fill:none;fill-rule:evenodd;stroke:#000000;stroke-width:2.0px;stroke-linecap:butt;stroke-linejoin:miter;stroke-opacity:1\"/>\n",
       "<path class=\"bond-19 atom-8 atom-22\" d=\"M 228.0,189.6 L 235.5,193.3\" style=\"fill:none;fill-rule:evenodd;stroke:#0000FF;stroke-width:2.0px;stroke-linecap:butt;stroke-linejoin:miter;stroke-opacity:1\"/>\n",
       "<path class=\"bond-19 atom-8 atom-22\" d=\"M 235.5,193.3 L 243.0,197.1\" style=\"fill:none;fill-rule:evenodd;stroke:#000000;stroke-width:2.0px;stroke-linecap:butt;stroke-linejoin:miter;stroke-opacity:1\"/>\n",
       "<path class=\"bond-20 atom-9 atom-10\" d=\"M 201.2,200.0 L 197.6,235.7\" style=\"fill:none;fill-rule:evenodd;stroke:#000000;stroke-width:2.0px;stroke-linecap:butt;stroke-linejoin:miter;stroke-opacity:1\"/>\n",
       "<path class=\"bond-21 atom-9 atom-23\" d=\"M 201.2,200.0 L 189.0,175.8\" style=\"fill:none;fill-rule:evenodd;stroke:#000000;stroke-width:2.0px;stroke-linecap:butt;stroke-linejoin:miter;stroke-opacity:1\"/>\n",
       "<path class=\"bond-22 atom-9 atom-24\" d=\"M 201.2,200.0 L 167.7,209.3\" style=\"fill:none;fill-rule:evenodd;stroke:#000000;stroke-width:2.0px;stroke-linecap:butt;stroke-linejoin:miter;stroke-opacity:1\"/>\n",
       "<path class=\"bond-23 atom-10 atom-11\" d=\"M 197.6,235.7 L 219.4,251.6\" style=\"fill:none;fill-rule:evenodd;stroke:#000000;stroke-width:2.0px;stroke-linecap:butt;stroke-linejoin:miter;stroke-opacity:1\"/>\n",
       "<path class=\"bond-24 atom-10 atom-25\" d=\"M 197.6,235.7 L 168.4,236.3\" style=\"fill:none;fill-rule:evenodd;stroke:#000000;stroke-width:2.0px;stroke-linecap:butt;stroke-linejoin:miter;stroke-opacity:1\"/>\n",
       "<path class=\"bond-25 atom-10 atom-26\" d=\"M 197.6,235.7 L 184.3,254.5\" style=\"fill:none;fill-rule:evenodd;stroke:#000000;stroke-width:2.0px;stroke-linecap:butt;stroke-linejoin:miter;stroke-opacity:1\"/>\n",
       "<path class=\"bond-26 atom-11 atom-27\" d=\"M 219.4,251.6 L 206.0,269.4\" style=\"fill:none;fill-rule:evenodd;stroke:#000000;stroke-width:2.0px;stroke-linecap:butt;stroke-linejoin:miter;stroke-opacity:1\"/>\n",
       "<path class=\"bond-27 atom-11 atom-28\" d=\"M 219.4,251.6 L 228.5,271.9\" style=\"fill:none;fill-rule:evenodd;stroke:#000000;stroke-width:2.0px;stroke-linecap:butt;stroke-linejoin:miter;stroke-opacity:1\"/>\n",
       "<path class=\"bond-28 atom-11 atom-34\" d=\"M 219.4,251.6 L 240.6,241.0\" style=\"fill:none;fill-rule:evenodd;stroke:#000000;stroke-width:2.0px;stroke-linecap:butt;stroke-linejoin:miter;stroke-opacity:1\"/>\n",
       "<path class=\"bond-29 atom-12 atom-29\" d=\"M 244.7,138.1 L 233.4,118.6\" style=\"fill:none;fill-rule:evenodd;stroke:#000000;stroke-width:2.0px;stroke-linecap:butt;stroke-linejoin:miter;stroke-opacity:1\"/>\n",
       "<path class=\"bond-30 atom-12 atom-30\" d=\"M 244.7,138.1 L 256.2,118.7\" style=\"fill:none;fill-rule:evenodd;stroke:#000000;stroke-width:2.0px;stroke-linecap:butt;stroke-linejoin:miter;stroke-opacity:1\"/>\n",
       "<path class=\"bond-31 atom-12 atom-31\" d=\"M 244.7,138.1 L 265.9,150.3\" style=\"fill:none;fill-rule:evenodd;stroke:#000000;stroke-width:2.0px;stroke-linecap:butt;stroke-linejoin:miter;stroke-opacity:1\"/>\n",
       "<path class=\"bond-32 atom-13 atom-14\" d=\"M 106.6,56.9 L 94.3,54.0\" style=\"fill:none;fill-rule:evenodd;stroke:#000000;stroke-width:2.0px;stroke-linecap:butt;stroke-linejoin:miter;stroke-opacity:1\"/>\n",
       "<path class=\"bond-32 atom-13 atom-14\" d=\"M 94.3,54.0 L 82.0,51.0\" style=\"fill:none;fill-rule:evenodd;stroke:#0000FF;stroke-width:2.0px;stroke-linecap:butt;stroke-linejoin:miter;stroke-opacity:1\"/>\n",
       "<path class=\"bond-33 atom-13 atom-32\" d=\"M 106.6,56.9 L 124.3,41.7\" style=\"fill:none;fill-rule:evenodd;stroke:#000000;stroke-width:2.0px;stroke-linecap:butt;stroke-linejoin:miter;stroke-opacity:1\"/>\n",
       "<path class=\"bond-34 atom-14 atom-33\" d=\"M 72.6,41.8 L 69.8,35.0\" style=\"fill:none;fill-rule:evenodd;stroke:#0000FF;stroke-width:2.0px;stroke-linecap:butt;stroke-linejoin:miter;stroke-opacity:1\"/>\n",
       "<path class=\"bond-34 atom-14 atom-33\" d=\"M 69.8,35.0 L 67.0,28.1\" style=\"fill:none;fill-rule:evenodd;stroke:#000000;stroke-width:2.0px;stroke-linecap:butt;stroke-linejoin:miter;stroke-opacity:1\"/>\n",
       "<path class=\"atom-1\" d=\"M 76.9 93.9 L 81.3 101.0 Q 81.8 101.7, 82.5 103.0 Q 83.2 104.2, 83.2 104.3 L 83.2 93.9 L 85.0 93.9 L 85.0 107.3 L 83.1 107.3 L 78.4 99.5 Q 77.9 98.6, 77.3 97.6 Q 76.7 96.5, 76.5 96.2 L 76.5 107.3 L 74.8 107.3 L 74.8 93.9 L 76.9 93.9 \" fill=\"#0000FF\"/>\n",
       "<path class=\"atom-6\" d=\"M 181.1 133.0 L 185.5 140.2 Q 185.9 140.9, 186.7 142.1 Q 187.4 143.4, 187.4 143.5 L 187.4 133.0 L 189.2 133.0 L 189.2 146.5 L 187.3 146.5 L 182.6 138.7 Q 182.1 137.8, 181.5 136.7 Q 180.9 135.7, 180.7 135.4 L 180.7 146.5 L 179.0 146.5 L 179.0 133.0 L 181.1 133.0 \" fill=\"#0000FF\"/>\n",
       "<path class=\"atom-7\" d=\"M 213.9 159.7 Q 214.0 159.7, 214.7 160.0 Q 215.3 160.3, 216.0 160.4 Q 216.7 160.6, 217.4 160.6 Q 218.6 160.6, 219.4 160.0 Q 220.1 159.4, 220.1 158.3 Q 220.1 157.5, 219.7 157.1 Q 219.4 156.6, 218.8 156.4 Q 218.2 156.1, 217.3 155.8 Q 216.1 155.5, 215.4 155.1 Q 214.7 154.8, 214.2 154.1 Q 213.7 153.4, 213.7 152.1 Q 213.7 150.5, 214.8 149.4 Q 216.0 148.4, 218.2 148.4 Q 219.8 148.4, 221.6 149.1 L 221.1 150.6 Q 219.5 149.9, 218.3 149.9 Q 217.0 149.9, 216.3 150.5 Q 215.5 151.0, 215.6 151.9 Q 215.6 152.6, 215.9 153.1 Q 216.3 153.5, 216.8 153.8 Q 217.4 154.0, 218.3 154.3 Q 219.5 154.7, 220.2 155.0 Q 221.0 155.4, 221.5 156.2 Q 222.0 157.0, 222.0 158.3 Q 222.0 160.1, 220.7 161.1 Q 219.5 162.1, 217.4 162.1 Q 216.2 162.1, 215.3 161.9 Q 214.4 161.6, 213.4 161.2 L 213.9 159.7 \" fill=\"#CCCC00\"/>\n",
       "<path class=\"atom-8\" d=\"M 218.9 179.8 L 223.3 186.9 Q 223.7 187.6, 224.4 188.8 Q 225.1 190.1, 225.2 190.2 L 225.2 179.8 L 227.0 179.8 L 227.0 193.2 L 225.1 193.2 L 220.4 185.4 Q 219.8 184.5, 219.3 183.5 Q 218.7 182.4, 218.5 182.1 L 218.5 193.2 L 216.8 193.2 L 216.8 179.8 L 218.9 179.8 \" fill=\"#0000FF\"/>\n",
       "<path class=\"atom-14\" d=\"M 72.9 42.8 L 77.3 49.9 Q 77.7 50.7, 78.4 51.9 Q 79.2 53.2, 79.2 53.3 L 79.2 42.8 L 81.0 42.8 L 81.0 56.3 L 79.1 56.3 L 74.4 48.5 Q 73.9 47.6, 73.3 46.5 Q 72.7 45.5, 72.5 45.2 L 72.5 56.3 L 70.8 56.3 L 70.8 42.8 L 72.9 42.8 \" fill=\"#0000FF\"/>\n",
       "<path class=\"atom-15\" d=\"M 22.5 72.3 L 24.4 72.3 L 24.4 78.1 L 31.2 78.1 L 31.2 72.3 L 33.1 72.3 L 33.1 85.8 L 31.2 85.8 L 31.2 79.6 L 24.4 79.6 L 24.4 85.8 L 22.5 85.8 L 22.5 72.3 \" fill=\"#000000\"/>\n",
       "<path class=\"atom-16\" d=\"M 160.9 102.3 L 162.8 102.3 L 162.8 108.0 L 169.6 108.0 L 169.6 102.3 L 171.5 102.3 L 171.5 115.7 L 169.6 115.7 L 169.6 109.5 L 162.8 109.5 L 162.8 115.7 L 160.9 115.7 L 160.9 102.3 \" fill=\"#000000\"/>\n",
       "<path class=\"atom-17\" d=\"M 147.3 73.0 L 149.1 73.0 L 149.1 78.7 L 156.0 78.7 L 156.0 73.0 L 157.8 73.0 L 157.8 86.4 L 156.0 86.4 L 156.0 80.2 L 149.1 80.2 L 149.1 86.4 L 147.3 86.4 L 147.3 73.0 \" fill=\"#000000\"/>\n",
       "<path class=\"atom-18\" d=\"M 93.7 129.3 L 95.5 129.3 L 95.5 135.0 L 102.4 135.0 L 102.4 129.3 L 104.2 129.3 L 104.2 142.7 L 102.4 142.7 L 102.4 136.5 L 95.5 136.5 L 95.5 142.7 L 93.7 142.7 L 93.7 129.3 \" fill=\"#000000\"/>\n",
       "<path class=\"atom-19\" d=\"M 105.8 157.8 L 107.6 157.8 L 107.6 163.5 L 114.5 163.5 L 114.5 157.8 L 116.3 157.8 L 116.3 171.2 L 114.5 171.2 L 114.5 165.0 L 107.6 165.0 L 107.6 171.2 L 105.8 171.2 L 105.8 157.8 \" fill=\"#000000\"/>\n",
       "<path class=\"atom-20\" d=\"M 130.3 175.9 L 132.1 175.9 L 132.1 181.6 L 139.0 181.6 L 139.0 175.9 L 140.8 175.9 L 140.8 189.3 L 139.0 189.3 L 139.0 183.1 L 132.1 183.1 L 132.1 189.3 L 130.3 189.3 L 130.3 175.9 \" fill=\"#000000\"/>\n",
       "<path class=\"atom-21\" d=\"M 160.1 177.3 L 161.9 177.3 L 161.9 183.0 L 168.8 183.0 L 168.8 177.3 L 170.6 177.3 L 170.6 190.8 L 168.8 190.8 L 168.8 184.6 L 161.9 184.6 L 161.9 190.8 L 160.1 190.8 L 160.1 177.3 \" fill=\"#000000\"/>\n",
       "<path class=\"atom-22\" d=\"M 244.1 193.5 L 245.9 193.5 L 245.9 199.2 L 252.8 199.2 L 252.8 193.5 L 254.6 193.5 L 254.6 207.0 L 252.8 207.0 L 252.8 200.8 L 245.9 200.8 L 245.9 207.0 L 244.1 207.0 L 244.1 193.5 \" fill=\"#000000\"/>\n",
       "<path class=\"atom-23\" d=\"M 179.8 161.3 L 181.6 161.3 L 181.6 167.0 L 188.5 167.0 L 188.5 161.3 L 190.3 161.3 L 190.3 174.7 L 188.5 174.7 L 188.5 168.5 L 181.6 168.5 L 181.6 174.7 L 179.8 174.7 L 179.8 161.3 \" fill=\"#000000\"/>\n",
       "<path class=\"atom-24\" d=\"M 156.2 204.4 L 158.0 204.4 L 158.0 210.1 L 164.9 210.1 L 164.9 204.4 L 166.7 204.4 L 166.7 217.8 L 164.9 217.8 L 164.9 211.6 L 158.0 211.6 L 158.0 217.8 L 156.2 217.8 L 156.2 204.4 \" fill=\"#000000\"/>\n",
       "<path class=\"atom-25\" d=\"M 156.9 229.6 L 158.7 229.6 L 158.7 235.4 L 165.6 235.4 L 165.6 229.6 L 167.4 229.6 L 167.4 243.1 L 165.6 243.1 L 165.6 236.9 L 158.7 236.9 L 158.7 243.1 L 156.9 243.1 L 156.9 229.6 \" fill=\"#000000\"/>\n",
       "<path class=\"atom-26\" d=\"M 173.6 255.6 L 175.4 255.6 L 175.4 261.3 L 182.2 261.3 L 182.2 255.6 L 184.1 255.6 L 184.1 269.0 L 182.2 269.0 L 182.2 262.8 L 175.4 262.8 L 175.4 269.0 L 173.6 269.0 L 173.6 255.6 \" fill=\"#000000\"/>\n",
       "<path class=\"atom-27\" d=\"M 194.9 270.5 L 196.7 270.5 L 196.7 276.2 L 203.6 276.2 L 203.6 270.5 L 205.4 270.5 L 205.4 283.9 L 203.6 283.9 L 203.6 277.7 L 196.7 277.7 L 196.7 283.9 L 194.9 283.9 L 194.9 270.5 \" fill=\"#000000\"/>\n",
       "<path class=\"atom-28\" d=\"M 226.7 272.9 L 228.5 272.9 L 228.5 278.6 L 235.4 278.6 L 235.4 272.9 L 237.2 272.9 L 237.2 286.4 L 235.4 286.4 L 235.4 280.2 L 228.5 280.2 L 228.5 286.4 L 226.7 286.4 L 226.7 272.9 \" fill=\"#000000\"/>\n",
       "<path class=\"atom-29\" d=\"M 223.6 104.1 L 225.5 104.1 L 225.5 109.8 L 232.3 109.8 L 232.3 104.1 L 234.2 104.1 L 234.2 117.6 L 232.3 117.6 L 232.3 111.4 L 225.5 111.4 L 225.5 117.6 L 223.6 117.6 L 223.6 104.1 \" fill=\"#000000\"/>\n",
       "<path class=\"atom-30\" d=\"M 255.6 104.2 L 257.4 104.2 L 257.4 110.0 L 264.3 110.0 L 264.3 104.2 L 266.1 104.2 L 266.1 117.7 L 264.3 117.7 L 264.3 111.5 L 257.4 111.5 L 257.4 117.7 L 255.6 117.7 L 255.6 104.2 \" fill=\"#000000\"/>\n",
       "<path class=\"atom-31\" d=\"M 266.9 147.3 L 268.8 147.3 L 268.8 153.0 L 275.6 153.0 L 275.6 147.3 L 277.5 147.3 L 277.5 160.7 L 275.6 160.7 L 275.6 154.5 L 268.8 154.5 L 268.8 160.7 L 266.9 160.7 L 266.9 147.3 \" fill=\"#000000\"/>\n",
       "<path class=\"atom-32\" d=\"M 125.4 29.6 L 127.2 29.6 L 127.2 35.3 L 134.1 35.3 L 134.1 29.6 L 135.9 29.6 L 135.9 43.0 L 134.1 43.0 L 134.1 36.8 L 127.2 36.8 L 127.2 43.0 L 125.4 43.0 L 125.4 29.6 \" fill=\"#000000\"/>\n",
       "<path class=\"atom-33\" d=\"M 58.5 13.6 L 60.3 13.6 L 60.3 19.4 L 67.2 19.4 L 67.2 13.6 L 69.0 13.6 L 69.0 27.1 L 67.2 27.1 L 67.2 20.9 L 60.3 20.9 L 60.3 27.1 L 58.5 27.1 L 58.5 13.6 \" fill=\"#000000\"/>\n",
       "<path class=\"atom-34\" d=\"M 241.6 231.1 L 243.5 231.1 L 243.5 236.8 L 250.3 236.8 L 250.3 231.1 L 252.2 231.1 L 252.2 244.6 L 250.3 244.6 L 250.3 238.4 L 243.5 238.4 L 243.5 244.6 L 241.6 244.6 L 241.6 231.1 \" fill=\"#000000\"/>\n",
       "</svg>"
      ],
      "text/plain": [
       "<IPython.core.display.SVG object>"
      ]
     },
     "metadata": {},
     "output_type": "display_data"
    },
    {
     "name": "stdin",
     "output_type": "stream",
     "text": [
      " t142j [O:1]([C@@:2]1([H:21])[C@:3]([O:4][H:23])([H:22])[C@@:5]([H:40])([H:24])[O:6][C@@:7]1([C:8]([O:9][S+:10]([C:11]([H:28])([H:29])[H:30])[C:12]([C:13]([c:14]1[c:15]([H:35])[c:16]([H:36])[c:17]([H:37])[c:18]([H:38])[c:19]1[H:39])([H:33])[H:34])([H:31])[H:32])([H:26])[H:27])[H:25])[H:20] (7, 8, 9, 10)\n"
     ]
    },
    {
     "name": "stdout",
     "output_type": "stream",
     "text": [
      "matched!\n"
     ]
    },
    {
     "data": {
      "image/svg+xml": [
       "<svg xmlns=\"http://www.w3.org/2000/svg\" xmlns:rdkit=\"http://www.rdkit.org/xml\" xmlns:xlink=\"http://www.w3.org/1999/xlink\" version=\"1.1\" baseProfile=\"full\" xml:space=\"preserve\" width=\"300px\" height=\"300px\" viewBox=\"0 0 300 300\">\n",
       "<!-- END OF HEADER -->\n",
       "<rect style=\"opacity:1.0;fill:#FFFFFF;stroke:none\" width=\"300.0\" height=\"300.0\" x=\"0.0\" y=\"0.0\"> </rect>\n",
       "<path class=\"bond-15 atom-7 atom-8\" d=\"M 185.4,166.5 L 204.5,183.2 L 199.1,189.5 L 176.6,170.0 Z\" style=\"fill:#FF7F7F;fill-rule:evenodd;fill-opacity:1;stroke:#FF7F7F;stroke-width:0.0px;stroke-linecap:butt;stroke-linejoin:miter;stroke-opacity:1;\"/>\n",
       "<path class=\"bond-18 atom-8 atom-9\" d=\"M 179.8,136.4 L 187.8,141.2 L 185.4,166.5 L 176.6,170.0 Z\" style=\"fill:#FF7F7F;fill-rule:evenodd;fill-opacity:1;stroke:#FF7F7F;stroke-width:0.0px;stroke-linecap:butt;stroke-linejoin:miter;stroke-opacity:1;\"/>\n",
       "<path class=\"bond-19 atom-9 atom-10\" d=\"M 206.5,118.9 L 211.1,125.9 L 187.8,141.2 L 179.8,136.4 Z\" style=\"fill:#FF7F7F;fill-rule:evenodd;fill-opacity:1;stroke:#FF7F7F;stroke-width:0.0px;stroke-linecap:butt;stroke-linejoin:miter;stroke-opacity:1;\"/>\n",
       "<ellipse cx=\"201.8\" cy=\"186.4\" rx=\"7.8\" ry=\"7.8\" class=\"atom-7\" style=\"fill:#FF7F7F;fill-rule:evenodd;stroke:#FF7F7F;stroke-width:1.0px;stroke-linecap:butt;stroke-linejoin:miter;stroke-opacity:1\"/>\n",
       "<ellipse cx=\"181.0\" cy=\"168.4\" rx=\"7.8\" ry=\"8.1\" class=\"atom-8\" style=\"fill:#FF7F7F;fill-rule:evenodd;stroke:#FF7F7F;stroke-width:1.0px;stroke-linecap:butt;stroke-linejoin:miter;stroke-opacity:1\"/>\n",
       "<ellipse cx=\"186.9\" cy=\"138.8\" rx=\"9.5\" ry=\"8.2\" class=\"atom-9\" style=\"fill:#FF7F7F;fill-rule:evenodd;stroke:#FF7F7F;stroke-width:1.0px;stroke-linecap:butt;stroke-linejoin:miter;stroke-opacity:1\"/>\n",
       "<ellipse cx=\"208.8\" cy=\"122.4\" rx=\"7.8\" ry=\"7.8\" class=\"atom-10\" style=\"fill:#FF7F7F;fill-rule:evenodd;stroke:#FF7F7F;stroke-width:1.0px;stroke-linecap:butt;stroke-linejoin:miter;stroke-opacity:1\"/>\n",
       "<path class=\"bond-0 atom-0 atom-1\" d=\"M 154.3,211.0 L 163.6,214.3\" style=\"fill:none;fill-rule:evenodd;stroke:#FF0000;stroke-width:2.0px;stroke-linecap:butt;stroke-linejoin:miter;stroke-opacity:1\"/>\n",
       "<path class=\"bond-0 atom-0 atom-1\" d=\"M 163.6,214.3 L 172.8,217.6\" style=\"fill:none;fill-rule:evenodd;stroke:#000000;stroke-width:2.0px;stroke-linecap:butt;stroke-linejoin:miter;stroke-opacity:1\"/>\n",
       "<path class=\"bond-1 atom-0 atom-19\" d=\"M 147.2,202.4 L 146.1,195.9\" style=\"fill:none;fill-rule:evenodd;stroke:#FF0000;stroke-width:2.0px;stroke-linecap:butt;stroke-linejoin:miter;stroke-opacity:1\"/>\n",
       "<path class=\"bond-1 atom-0 atom-19\" d=\"M 146.1,195.9 L 145.0,189.5\" style=\"fill:none;fill-rule:evenodd;stroke:#000000;stroke-width:2.0px;stroke-linecap:butt;stroke-linejoin:miter;stroke-opacity:1\"/>\n",
       "<path class=\"bond-2 atom-1 atom-2\" d=\"M 172.8,217.6 L 161.6,241.3\" style=\"fill:none;fill-rule:evenodd;stroke:#000000;stroke-width:2.0px;stroke-linecap:butt;stroke-linejoin:miter;stroke-opacity:1\"/>\n",
       "<path class=\"bond-3 atom-1 atom-6\" d=\"M 172.8,217.6 L 198.8,220.9\" style=\"fill:none;fill-rule:evenodd;stroke:#000000;stroke-width:2.0px;stroke-linecap:butt;stroke-linejoin:miter;stroke-opacity:1\"/>\n",
       "<path class=\"bond-4 atom-1 atom-20\" d=\"M 172.8,217.6 L 174.5,200.3 L 178.4,201.2 Z\" style=\"fill:#000000;fill-rule:evenodd;fill-opacity:1;stroke:#000000;stroke-width:0.5px;stroke-linecap:butt;stroke-linejoin:miter;stroke-opacity:1;\"/>\n",
       "<path class=\"bond-5 atom-2 atom-3\" d=\"M 161.6,241.3 L 156.2,248.4\" style=\"fill:none;fill-rule:evenodd;stroke:#000000;stroke-width:2.0px;stroke-linecap:butt;stroke-linejoin:miter;stroke-opacity:1\"/>\n",
       "<path class=\"bond-5 atom-2 atom-3\" d=\"M 156.2,248.4 L 150.7,255.4\" style=\"fill:none;fill-rule:evenodd;stroke:#FF0000;stroke-width:2.0px;stroke-linecap:butt;stroke-linejoin:miter;stroke-opacity:1\"/>\n",
       "<path class=\"bond-6 atom-2 atom-4\" d=\"M 161.6,241.3 L 180.6,259.3\" style=\"fill:none;fill-rule:evenodd;stroke:#000000;stroke-width:2.0px;stroke-linecap:butt;stroke-linejoin:miter;stroke-opacity:1\"/>\n",
       "<path class=\"bond-7 atom-2 atom-21\" d=\"M 161.6,241.3 L 144.3,233.1 L 146.3,229.7 Z\" style=\"fill:#000000;fill-rule:evenodd;fill-opacity:1;stroke:#000000;stroke-width:0.5px;stroke-linecap:butt;stroke-linejoin:miter;stroke-opacity:1;\"/>\n",
       "<path class=\"bond-8 atom-3 atom-22\" d=\"M 139.6,261.1 L 132.3,260.0\" style=\"fill:none;fill-rule:evenodd;stroke:#FF0000;stroke-width:2.0px;stroke-linecap:butt;stroke-linejoin:miter;stroke-opacity:1\"/>\n",
       "<path class=\"bond-8 atom-3 atom-22\" d=\"M 132.3,260.0 L 124.9,258.9\" style=\"fill:none;fill-rule:evenodd;stroke:#000000;stroke-width:2.0px;stroke-linecap:butt;stroke-linejoin:miter;stroke-opacity:1\"/>\n",
       "<path class=\"bond-9 atom-4 atom-5\" d=\"M 180.6,259.3 L 189.1,254.6\" style=\"fill:none;fill-rule:evenodd;stroke:#000000;stroke-width:2.0px;stroke-linecap:butt;stroke-linejoin:miter;stroke-opacity:1\"/>\n",
       "<path class=\"bond-9 atom-4 atom-5\" d=\"M 189.1,254.6 L 197.6,250.0\" style=\"fill:none;fill-rule:evenodd;stroke:#FF0000;stroke-width:2.0px;stroke-linecap:butt;stroke-linejoin:miter;stroke-opacity:1\"/>\n",
       "<path class=\"bond-10 atom-4 atom-23\" d=\"M 180.6,259.3 L 191.1,274.4\" style=\"fill:none;fill-rule:evenodd;stroke:#000000;stroke-width:2.0px;stroke-linecap:butt;stroke-linejoin:miter;stroke-opacity:1\"/>\n",
       "<path class=\"bond-11 atom-4 atom-39\" d=\"M 180.6,259.3 L 166.0,271.9\" style=\"fill:none;fill-rule:evenodd;stroke:#000000;stroke-width:2.0px;stroke-linecap:butt;stroke-linejoin:miter;stroke-opacity:1\"/>\n",
       "<path class=\"bond-12 atom-5 atom-6\" d=\"M 202.4,240.2 L 200.6,230.6\" style=\"fill:none;fill-rule:evenodd;stroke:#FF0000;stroke-width:2.0px;stroke-linecap:butt;stroke-linejoin:miter;stroke-opacity:1\"/>\n",
       "<path class=\"bond-12 atom-5 atom-6\" d=\"M 200.6,230.6 L 198.8,220.9\" style=\"fill:none;fill-rule:evenodd;stroke:#000000;stroke-width:2.0px;stroke-linecap:butt;stroke-linejoin:miter;stroke-opacity:1\"/>\n",
       "<path class=\"bond-13 atom-6 atom-7\" d=\"M 198.8,220.9 L 201.8,186.4\" style=\"fill:none;fill-rule:evenodd;stroke:#000000;stroke-width:2.0px;stroke-linecap:butt;stroke-linejoin:miter;stroke-opacity:1\"/>\n",
       "<path class=\"bond-14 atom-6 atom-24\" d=\"M 202.1,220.4 L 202.2,221.1\" style=\"fill:none;fill-rule:evenodd;stroke:#000000;stroke-width:1.0px;stroke-linecap:butt;stroke-linejoin:miter;stroke-opacity:1\"/>\n",
       "<path class=\"bond-14 atom-6 atom-24\" d=\"M 205.4,219.9 L 205.5,221.2\" style=\"fill:none;fill-rule:evenodd;stroke:#000000;stroke-width:1.0px;stroke-linecap:butt;stroke-linejoin:miter;stroke-opacity:1\"/>\n",
       "<path class=\"bond-14 atom-6 atom-24\" d=\"M 208.8,219.4 L 208.9,221.4\" style=\"fill:none;fill-rule:evenodd;stroke:#000000;stroke-width:1.0px;stroke-linecap:butt;stroke-linejoin:miter;stroke-opacity:1\"/>\n",
       "<path class=\"bond-14 atom-6 atom-24\" d=\"M 212.1,218.9 L 212.2,221.5\" style=\"fill:none;fill-rule:evenodd;stroke:#000000;stroke-width:1.0px;stroke-linecap:butt;stroke-linejoin:miter;stroke-opacity:1\"/>\n",
       "<path class=\"bond-14 atom-6 atom-24\" d=\"M 215.4,218.4 L 215.6,221.7\" style=\"fill:none;fill-rule:evenodd;stroke:#000000;stroke-width:1.0px;stroke-linecap:butt;stroke-linejoin:miter;stroke-opacity:1\"/>\n",
       "<path class=\"bond-14 atom-6 atom-24\" d=\"M 218.7,217.9 L 218.9,221.8\" style=\"fill:none;fill-rule:evenodd;stroke:#000000;stroke-width:1.0px;stroke-linecap:butt;stroke-linejoin:miter;stroke-opacity:1\"/>\n",
       "<path class=\"bond-15 atom-7 atom-8\" d=\"M 201.8,186.4 L 194.4,179.9\" style=\"fill:none;fill-rule:evenodd;stroke:#000000;stroke-width:2.0px;stroke-linecap:butt;stroke-linejoin:miter;stroke-opacity:1\"/>\n",
       "<path class=\"bond-15 atom-7 atom-8\" d=\"M 194.4,179.9 L 187.0,173.5\" style=\"fill:none;fill-rule:evenodd;stroke:#FF0000;stroke-width:2.0px;stroke-linecap:butt;stroke-linejoin:miter;stroke-opacity:1\"/>\n",
       "<path class=\"bond-16 atom-7 atom-25\" d=\"M 201.8,186.4 L 222.3,187.2\" style=\"fill:none;fill-rule:evenodd;stroke:#000000;stroke-width:2.0px;stroke-linecap:butt;stroke-linejoin:miter;stroke-opacity:1\"/>\n",
       "<path class=\"bond-17 atom-7 atom-26\" d=\"M 201.8,186.4 L 212.4,170.8\" style=\"fill:none;fill-rule:evenodd;stroke:#000000;stroke-width:2.0px;stroke-linecap:butt;stroke-linejoin:miter;stroke-opacity:1\"/>\n",
       "<path class=\"bond-18 atom-8 atom-9\" d=\"M 181.6,161.8 L 182.4,153.6\" style=\"fill:none;fill-rule:evenodd;stroke:#FF0000;stroke-width:2.0px;stroke-linecap:butt;stroke-linejoin:miter;stroke-opacity:1\"/>\n",
       "<path class=\"bond-18 atom-8 atom-9\" d=\"M 182.4,153.6 L 183.2,145.5\" style=\"fill:none;fill-rule:evenodd;stroke:#CCCC00;stroke-width:2.0px;stroke-linecap:butt;stroke-linejoin:miter;stroke-opacity:1\"/>\n",
       "<path class=\"bond-19 atom-9 atom-10\" d=\"M 193.9,132.1 L 201.3,127.3\" style=\"fill:none;fill-rule:evenodd;stroke:#CCCC00;stroke-width:2.0px;stroke-linecap:butt;stroke-linejoin:miter;stroke-opacity:1\"/>\n",
       "<path class=\"bond-19 atom-9 atom-10\" d=\"M 201.3,127.3 L 208.8,122.4\" style=\"fill:none;fill-rule:evenodd;stroke:#000000;stroke-width:2.0px;stroke-linecap:butt;stroke-linejoin:miter;stroke-opacity:1\"/>\n",
       "<path class=\"bond-20 atom-9 atom-11\" d=\"M 179.4,135.9 L 169.1,129.2\" style=\"fill:none;fill-rule:evenodd;stroke:#CCCC00;stroke-width:2.0px;stroke-linecap:butt;stroke-linejoin:miter;stroke-opacity:1\"/>\n",
       "<path class=\"bond-20 atom-9 atom-11\" d=\"M 169.1,129.2 L 158.9,122.6\" style=\"fill:none;fill-rule:evenodd;stroke:#000000;stroke-width:2.0px;stroke-linecap:butt;stroke-linejoin:miter;stroke-opacity:1\"/>\n",
       "<path class=\"bond-21 atom-10 atom-27\" d=\"M 208.8,122.4 L 196.8,114.9\" style=\"fill:none;fill-rule:evenodd;stroke:#000000;stroke-width:2.0px;stroke-linecap:butt;stroke-linejoin:miter;stroke-opacity:1\"/>\n",
       "<path class=\"bond-22 atom-10 atom-28\" d=\"M 208.8,122.4 L 214.2,104.2\" style=\"fill:none;fill-rule:evenodd;stroke:#000000;stroke-width:2.0px;stroke-linecap:butt;stroke-linejoin:miter;stroke-opacity:1\"/>\n",
       "<path class=\"bond-23 atom-10 atom-29\" d=\"M 208.8,122.4 L 226.4,131.7\" style=\"fill:none;fill-rule:evenodd;stroke:#000000;stroke-width:2.0px;stroke-linecap:butt;stroke-linejoin:miter;stroke-opacity:1\"/>\n",
       "<path class=\"bond-24 atom-11 atom-12\" d=\"M 158.9,122.6 L 160.4,91.9\" style=\"fill:none;fill-rule:evenodd;stroke:#000000;stroke-width:2.0px;stroke-linecap:butt;stroke-linejoin:miter;stroke-opacity:1\"/>\n",
       "<path class=\"bond-25 atom-11 atom-30\" d=\"M 158.9,122.6 L 148.9,138.9\" style=\"fill:none;fill-rule:evenodd;stroke:#000000;stroke-width:2.0px;stroke-linecap:butt;stroke-linejoin:miter;stroke-opacity:1\"/>\n",
       "<path class=\"bond-26 atom-11 atom-31\" d=\"M 158.9,122.6 L 138.9,122.4\" style=\"fill:none;fill-rule:evenodd;stroke:#000000;stroke-width:2.0px;stroke-linecap:butt;stroke-linejoin:miter;stroke-opacity:1\"/>\n",
       "<path class=\"bond-27 atom-12 atom-13\" d=\"M 160.4,91.9 L 136.7,84.5\" style=\"fill:none;fill-rule:evenodd;stroke:#000000;stroke-width:2.0px;stroke-linecap:butt;stroke-linejoin:miter;stroke-opacity:1\"/>\n",
       "<path class=\"bond-28 atom-12 atom-32\" d=\"M 160.4,91.9 L 172.2,99.4\" style=\"fill:none;fill-rule:evenodd;stroke:#000000;stroke-width:2.0px;stroke-linecap:butt;stroke-linejoin:miter;stroke-opacity:1\"/>\n",
       "<path class=\"bond-29 atom-12 atom-33\" d=\"M 160.4,91.9 L 171.5,78.4\" style=\"fill:none;fill-rule:evenodd;stroke:#000000;stroke-width:2.0px;stroke-linecap:butt;stroke-linejoin:miter;stroke-opacity:1\"/>\n",
       "<path class=\"bond-30 atom-13 atom-14\" d=\"M 136.7,84.5 L 136.8,58.5\" style=\"fill:none;fill-rule:evenodd;stroke:#000000;stroke-width:2.0px;stroke-linecap:butt;stroke-linejoin:miter;stroke-opacity:1\"/>\n",
       "<path class=\"bond-30 atom-13 atom-14\" d=\"M 132.8,82.2 L 132.9,60.7\" style=\"fill:none;fill-rule:evenodd;stroke:#000000;stroke-width:2.0px;stroke-linecap:butt;stroke-linejoin:miter;stroke-opacity:1\"/>\n",
       "<path class=\"bond-31 atom-13 atom-18\" d=\"M 136.7,84.5 L 113.9,97.7\" style=\"fill:none;fill-rule:evenodd;stroke:#000000;stroke-width:2.0px;stroke-linecap:butt;stroke-linejoin:miter;stroke-opacity:1\"/>\n",
       "<path class=\"bond-32 atom-14 atom-15\" d=\"M 136.8,58.5 L 114.2,45.4\" style=\"fill:none;fill-rule:evenodd;stroke:#000000;stroke-width:2.0px;stroke-linecap:butt;stroke-linejoin:miter;stroke-opacity:1\"/>\n",
       "<path class=\"bond-33 atom-14 atom-34\" d=\"M 136.8,58.5 L 154.5,48.7\" style=\"fill:none;fill-rule:evenodd;stroke:#000000;stroke-width:2.0px;stroke-linecap:butt;stroke-linejoin:miter;stroke-opacity:1\"/>\n",
       "<path class=\"bond-34 atom-15 atom-16\" d=\"M 114.2,45.4 L 91.5,58.3\" style=\"fill:none;fill-rule:evenodd;stroke:#000000;stroke-width:2.0px;stroke-linecap:butt;stroke-linejoin:miter;stroke-opacity:1\"/>\n",
       "<path class=\"bond-34 atom-15 atom-16\" d=\"M 114.2,49.9 L 95.4,60.6\" style=\"fill:none;fill-rule:evenodd;stroke:#000000;stroke-width:2.0px;stroke-linecap:butt;stroke-linejoin:miter;stroke-opacity:1\"/>\n",
       "<path class=\"bond-35 atom-15 atom-35\" d=\"M 114.2,45.4 L 114.7,25.6\" style=\"fill:none;fill-rule:evenodd;stroke:#000000;stroke-width:2.0px;stroke-linecap:butt;stroke-linejoin:miter;stroke-opacity:1\"/>\n",
       "<path class=\"bond-36 atom-16 atom-17\" d=\"M 91.5,58.3 L 91.4,84.4\" style=\"fill:none;fill-rule:evenodd;stroke:#000000;stroke-width:2.0px;stroke-linecap:butt;stroke-linejoin:miter;stroke-opacity:1\"/>\n",
       "<path class=\"bond-37 atom-16 atom-36\" d=\"M 91.5,58.3 L 74.4,47.8\" style=\"fill:none;fill-rule:evenodd;stroke:#000000;stroke-width:2.0px;stroke-linecap:butt;stroke-linejoin:miter;stroke-opacity:1\"/>\n",
       "<path class=\"bond-38 atom-17 atom-18\" d=\"M 91.4,84.4 L 113.9,97.7\" style=\"fill:none;fill-rule:evenodd;stroke:#000000;stroke-width:2.0px;stroke-linecap:butt;stroke-linejoin:miter;stroke-opacity:1\"/>\n",
       "<path class=\"bond-38 atom-17 atom-18\" d=\"M 95.3,82.2 L 113.9,93.1\" style=\"fill:none;fill-rule:evenodd;stroke:#000000;stroke-width:2.0px;stroke-linecap:butt;stroke-linejoin:miter;stroke-opacity:1\"/>\n",
       "<path class=\"bond-39 atom-17 atom-37\" d=\"M 91.4,84.4 L 73.6,94.1\" style=\"fill:none;fill-rule:evenodd;stroke:#000000;stroke-width:2.0px;stroke-linecap:butt;stroke-linejoin:miter;stroke-opacity:1\"/>\n",
       "<path class=\"bond-40 atom-18 atom-38\" d=\"M 113.9,97.7 L 113.0,117.0\" style=\"fill:none;fill-rule:evenodd;stroke:#000000;stroke-width:2.0px;stroke-linecap:butt;stroke-linejoin:miter;stroke-opacity:1\"/>\n",
       "<path class=\"atom-0\" d=\"M 143.3 208.9 Q 143.3 206.3, 144.6 204.8 Q 145.9 203.3, 148.4 203.3 Q 150.8 203.3, 152.1 204.8 Q 153.5 206.3, 153.5 208.9 Q 153.5 211.6, 152.1 213.2 Q 150.8 214.7, 148.4 214.7 Q 145.9 214.7, 144.6 213.2 Q 143.3 211.6, 143.3 208.9 M 148.4 213.4 Q 150.1 213.4, 151.0 212.3 Q 151.9 211.2, 151.9 208.9 Q 151.9 206.7, 151.0 205.6 Q 150.1 204.5, 148.4 204.5 Q 146.7 204.5, 145.7 205.6 Q 144.8 206.7, 144.8 208.9 Q 144.8 211.2, 145.7 212.3 Q 146.7 213.4, 148.4 213.4 \" fill=\"#FF0000\"/>\n",
       "<path class=\"atom-3\" d=\"M 140.5 262.0 Q 140.5 259.3, 141.8 257.8 Q 143.2 256.3, 145.6 256.3 Q 148.1 256.3, 149.4 257.8 Q 150.7 259.3, 150.7 262.0 Q 150.7 264.7, 149.4 266.2 Q 148.0 267.7, 145.6 267.7 Q 143.2 267.7, 141.8 266.2 Q 140.5 264.7, 140.5 262.0 M 145.6 266.5 Q 147.3 266.5, 148.2 265.3 Q 149.1 264.2, 149.1 262.0 Q 149.1 259.8, 148.2 258.7 Q 147.3 257.6, 145.6 257.6 Q 143.9 257.6, 143.0 258.7 Q 142.1 259.8, 142.1 262.0 Q 142.1 264.2, 143.0 265.3 Q 143.9 266.5, 145.6 266.5 \" fill=\"#FF0000\"/>\n",
       "<path class=\"atom-5\" d=\"M 198.5 246.7 Q 198.5 244.0, 199.8 242.5 Q 201.1 241.1, 203.6 241.1 Q 206.1 241.1, 207.4 242.5 Q 208.7 244.0, 208.7 246.7 Q 208.7 249.4, 207.4 250.9 Q 206.0 252.5, 203.6 252.5 Q 201.2 252.5, 199.8 250.9 Q 198.5 249.4, 198.5 246.7 M 203.6 251.2 Q 205.3 251.2, 206.2 250.1 Q 207.1 248.9, 207.1 246.7 Q 207.1 244.5, 206.2 243.4 Q 205.3 242.3, 203.6 242.3 Q 201.9 242.3, 201.0 243.4 Q 200.1 244.5, 200.1 246.7 Q 200.1 248.9, 201.0 250.1 Q 201.9 251.2, 203.6 251.2 \" fill=\"#FF0000\"/>\n",
       "<path class=\"atom-8\" d=\"M 175.9 168.3 Q 175.9 165.7, 177.2 164.2 Q 178.5 162.7, 181.0 162.7 Q 183.5 162.7, 184.8 164.2 Q 186.1 165.7, 186.1 168.3 Q 186.1 171.0, 184.8 172.6 Q 183.4 174.1, 181.0 174.1 Q 178.5 174.1, 177.2 172.6 Q 175.9 171.0, 175.9 168.3 M 181.0 172.8 Q 182.7 172.8, 183.6 171.7 Q 184.5 170.6, 184.5 168.3 Q 184.5 166.1, 183.6 165.0 Q 182.7 163.9, 181.0 163.9 Q 179.3 163.9, 178.4 165.0 Q 177.5 166.1, 177.5 168.3 Q 177.5 170.6, 178.4 171.7 Q 179.3 172.8, 181.0 172.8 \" fill=\"#FF0000\"/>\n",
       "<path class=\"atom-9\" d=\"M 180.6 142.6 Q 180.8 142.6, 181.3 142.8 Q 181.8 143.1, 182.4 143.2 Q 183.0 143.3, 183.5 143.3 Q 184.6 143.3, 185.2 142.8 Q 185.8 142.3, 185.8 141.4 Q 185.8 140.8, 185.5 140.4 Q 185.2 140.1, 184.7 139.8 Q 184.2 139.6, 183.5 139.4 Q 182.5 139.1, 181.9 138.8 Q 181.3 138.5, 180.9 137.9 Q 180.5 137.4, 180.5 136.3 Q 180.5 135.0, 181.4 134.1 Q 182.4 133.2, 184.2 133.2 Q 185.5 133.2, 187.0 133.8 L 186.6 135.0 Q 185.3 134.5, 184.3 134.5 Q 183.2 134.5, 182.6 135.0 Q 182.0 135.4, 182.0 136.2 Q 182.0 136.8, 182.3 137.1 Q 182.6 137.5, 183.1 137.7 Q 183.5 137.9, 184.3 138.1 Q 185.3 138.4, 185.9 138.7 Q 186.5 139.1, 186.9 139.7 Q 187.3 140.3, 187.3 141.4 Q 187.3 143.0, 186.3 143.8 Q 185.3 144.6, 183.6 144.6 Q 182.6 144.6, 181.8 144.4 Q 181.1 144.2, 180.2 143.8 L 180.6 142.6 \" fill=\"#CCCC00\"/>\n",
       "<path class=\"atom-9\" d=\"M 188.8 135.1 L 190.8 135.1 L 190.8 133.0 L 191.6 133.0 L 191.6 135.1 L 193.6 135.1 L 193.6 135.8 L 191.6 135.8 L 191.6 137.9 L 190.8 137.9 L 190.8 135.8 L 188.8 135.8 L 188.8 135.1 \" fill=\"#CCCC00\"/>\n",
       "<path class=\"atom-19\" d=\"M 139.5 177.5 L 141.0 177.5 L 141.0 182.2 L 146.7 182.2 L 146.7 177.5 L 148.2 177.5 L 148.2 188.6 L 146.7 188.6 L 146.7 183.5 L 141.0 183.5 L 141.0 188.6 L 139.5 188.6 L 139.5 177.5 \" fill=\"#000000\"/>\n",
       "<path class=\"atom-20\" d=\"M 173.7 187.9 L 175.2 187.9 L 175.2 192.6 L 180.9 192.6 L 180.9 187.9 L 182.4 187.9 L 182.4 199.0 L 180.9 199.0 L 180.9 193.9 L 175.2 193.9 L 175.2 199.0 L 173.7 199.0 L 173.7 187.9 \" fill=\"#000000\"/>\n",
       "<path class=\"atom-21\" d=\"M 134.9 222.2 L 136.4 222.2 L 136.4 226.9 L 142.1 226.9 L 142.1 222.2 L 143.6 222.2 L 143.6 233.3 L 142.1 233.3 L 142.1 228.1 L 136.4 228.1 L 136.4 233.3 L 134.9 233.3 L 134.9 222.2 \" fill=\"#000000\"/>\n",
       "<path class=\"atom-22\" d=\"M 115.3 252.6 L 116.8 252.6 L 116.8 257.4 L 122.5 257.4 L 122.5 252.6 L 124.0 252.6 L 124.0 263.8 L 122.5 263.8 L 122.5 258.6 L 116.8 258.6 L 116.8 263.8 L 115.3 263.8 L 115.3 252.6 \" fill=\"#000000\"/>\n",
       "<path class=\"atom-23\" d=\"M 191.2 275.3 L 192.7 275.3 L 192.7 280.0 L 198.3 280.0 L 198.3 275.3 L 199.9 275.3 L 199.9 286.4 L 198.3 286.4 L 198.3 281.2 L 192.7 281.2 L 192.7 286.4 L 191.2 286.4 L 191.2 275.3 \" fill=\"#000000\"/>\n",
       "<path class=\"atom-24\" d=\"M 220.6 213.9 L 222.1 213.9 L 222.1 218.7 L 227.7 218.7 L 227.7 213.9 L 229.3 213.9 L 229.3 225.0 L 227.7 225.0 L 227.7 219.9 L 222.1 219.9 L 222.1 225.0 L 220.6 225.0 L 220.6 213.9 \" fill=\"#000000\"/>\n",
       "<path class=\"atom-25\" d=\"M 223.2 181.8 L 224.7 181.8 L 224.7 186.6 L 230.4 186.6 L 230.4 181.8 L 231.9 181.8 L 231.9 192.9 L 230.4 192.9 L 230.4 187.8 L 224.7 187.8 L 224.7 192.9 L 223.2 192.9 L 223.2 181.8 \" fill=\"#000000\"/>\n",
       "<path class=\"atom-26\" d=\"M 212.4 158.8 L 213.9 158.8 L 213.9 163.6 L 219.6 163.6 L 219.6 158.8 L 221.1 158.8 L 221.1 169.9 L 219.6 169.9 L 219.6 164.8 L 213.9 164.8 L 213.9 169.9 L 212.4 169.9 L 212.4 158.8 \" fill=\"#000000\"/>\n",
       "<path class=\"atom-27\" d=\"M 187.2 106.1 L 188.7 106.1 L 188.7 110.8 L 194.4 110.8 L 194.4 106.1 L 195.9 106.1 L 195.9 117.2 L 194.4 117.2 L 194.4 112.1 L 188.7 112.1 L 188.7 117.2 L 187.2 117.2 L 187.2 106.1 \" fill=\"#000000\"/>\n",
       "<path class=\"atom-28\" d=\"M 211.8 92.2 L 213.3 92.2 L 213.3 97.0 L 219.0 97.0 L 219.0 92.2 L 220.5 92.2 L 220.5 103.3 L 219.0 103.3 L 219.0 98.2 L 213.3 98.2 L 213.3 103.3 L 211.8 103.3 L 211.8 92.2 \" fill=\"#000000\"/>\n",
       "<path class=\"atom-29\" d=\"M 227.3 128.9 L 228.8 128.9 L 228.8 133.6 L 234.5 133.6 L 234.5 128.9 L 236.0 128.9 L 236.0 140.0 L 234.5 140.0 L 234.5 134.9 L 228.8 134.9 L 228.8 140.0 L 227.3 140.0 L 227.3 128.9 \" fill=\"#000000\"/>\n",
       "<path class=\"atom-30\" d=\"M 140.7 139.8 L 142.2 139.8 L 142.2 144.5 L 147.9 144.5 L 147.9 139.8 L 149.4 139.8 L 149.4 150.9 L 147.9 150.9 L 147.9 145.7 L 142.2 145.7 L 142.2 150.9 L 140.7 150.9 L 140.7 139.8 \" fill=\"#000000\"/>\n",
       "<path class=\"atom-31\" d=\"M 129.4 116.7 L 130.9 116.7 L 130.9 121.5 L 136.6 121.5 L 136.6 116.7 L 138.1 116.7 L 138.1 127.9 L 136.6 127.9 L 136.6 122.7 L 130.9 122.7 L 130.9 127.9 L 129.4 127.9 L 129.4 116.7 \" fill=\"#000000\"/>\n",
       "<path class=\"atom-32\" d=\"M 173.1 97.1 L 174.6 97.1 L 174.6 101.9 L 180.2 101.9 L 180.2 97.1 L 181.8 97.1 L 181.8 108.3 L 180.2 108.3 L 180.2 103.1 L 174.6 103.1 L 174.6 108.3 L 173.1 108.3 L 173.1 97.1 \" fill=\"#000000\"/>\n",
       "<path class=\"atom-33\" d=\"M 172.4 66.4 L 173.9 66.4 L 173.9 71.2 L 179.6 71.2 L 179.6 66.4 L 181.1 66.4 L 181.1 77.5 L 179.6 77.5 L 179.6 72.4 L 173.9 72.4 L 173.9 77.5 L 172.4 77.5 L 172.4 66.4 \" fill=\"#000000\"/>\n",
       "<path class=\"atom-34\" d=\"M 155.4 40.3 L 156.9 40.3 L 156.9 45.0 L 162.5 45.0 L 162.5 40.3 L 164.1 40.3 L 164.1 51.4 L 162.5 51.4 L 162.5 46.3 L 156.9 46.3 L 156.9 51.4 L 155.4 51.4 L 155.4 40.3 \" fill=\"#000000\"/>\n",
       "<path class=\"atom-35\" d=\"M 110.5 13.6 L 112.0 13.6 L 112.0 18.4 L 117.7 18.4 L 117.7 13.6 L 119.2 13.6 L 119.2 24.7 L 117.7 24.7 L 117.7 19.6 L 112.0 19.6 L 112.0 24.7 L 110.5 24.7 L 110.5 13.6 \" fill=\"#000000\"/>\n",
       "<path class=\"atom-36\" d=\"M 64.8 39.1 L 66.3 39.1 L 66.3 43.8 L 72.0 43.8 L 72.0 39.1 L 73.5 39.1 L 73.5 50.2 L 72.0 50.2 L 72.0 45.1 L 66.3 45.1 L 66.3 50.2 L 64.8 50.2 L 64.8 39.1 \" fill=\"#000000\"/>\n",
       "<path class=\"atom-37\" d=\"M 64.0 91.4 L 65.5 91.4 L 65.5 96.2 L 71.2 96.2 L 71.2 91.4 L 72.7 91.4 L 72.7 102.6 L 71.2 102.6 L 71.2 97.4 L 65.5 97.4 L 65.5 102.6 L 64.0 102.6 L 64.0 91.4 \" fill=\"#000000\"/>\n",
       "<path class=\"atom-38\" d=\"M 108.4 117.9 L 109.9 117.9 L 109.9 122.6 L 115.5 122.6 L 115.5 117.9 L 117.0 117.9 L 117.0 129.0 L 115.5 129.0 L 115.5 123.9 L 109.9 123.9 L 109.9 129.0 L 108.4 129.0 L 108.4 117.9 \" fill=\"#000000\"/>\n",
       "<path class=\"atom-39\" d=\"M 156.4 270.8 L 158.0 270.8 L 158.0 275.5 L 163.6 275.5 L 163.6 270.8 L 165.1 270.8 L 165.1 281.9 L 163.6 281.9 L 163.6 276.8 L 158.0 276.8 L 158.0 281.9 L 156.4 281.9 L 156.4 270.8 \" fill=\"#000000\"/>\n",
       "</svg>"
      ],
      "text/plain": [
       "<IPython.core.display.SVG object>"
      ]
     },
     "metadata": {},
     "output_type": "display_data"
    },
    {
     "name": "stdin",
     "output_type": "stream",
     "text": [
      " t142j [O:1]([C@@:2]1([H:31])[C@:3]([O:4][H:33])([H:32])[C@@:5]([N:6]2[C:7]([H:35])=[N:8][c:9]3[c:10]([N:11]([H:36])[H:37])[n:12][c:13]([H:38])[n:14][c:15]32)([H:34])[O:16][C@@:17]1([C:18]([O:19][S+:20]([C:21]([H:42])([H:43])[H:44])[C:22]([C:23]([c:24]1[c:25]([H:49])[c:26]([H:50])[c:27]([H:51])[c:28]([H:52])[c:29]1[H:53])([H:47])[H:48])([H:45])[H:46])([H:40])[H:41])[H:39])[H:30] (17, 18, 19, 20)\n"
     ]
    },
    {
     "name": "stdout",
     "output_type": "stream",
     "text": [
      "matched!\n"
     ]
    },
    {
     "data": {
      "image/svg+xml": [
       "<svg xmlns=\"http://www.w3.org/2000/svg\" xmlns:rdkit=\"http://www.rdkit.org/xml\" xmlns:xlink=\"http://www.w3.org/1999/xlink\" version=\"1.1\" baseProfile=\"full\" xml:space=\"preserve\" width=\"300px\" height=\"300px\" viewBox=\"0 0 300 300\">\n",
       "<!-- END OF HEADER -->\n",
       "<rect style=\"opacity:1.0;fill:#FFFFFF;stroke:none\" width=\"300.0\" height=\"300.0\" x=\"0.0\" y=\"0.0\"> </rect>\n",
       "<path class=\"bond-30 atom-17 atom-18\" d=\"M 204.4,174.6 L 213.3,177.2 L 217.9,198.2 L 210.0,200.0 Z\" style=\"fill:#FF7F7F;fill-rule:evenodd;fill-opacity:1;stroke:#FF7F7F;stroke-width:0.0px;stroke-linecap:butt;stroke-linejoin:miter;stroke-opacity:1;\"/>\n",
       "<path class=\"bond-33 atom-18 atom-19\" d=\"M 225.8,153.5 L 228.6,162.1 L 213.3,177.2 L 204.4,174.6 Z\" style=\"fill:#FF7F7F;fill-rule:evenodd;fill-opacity:1;stroke:#FF7F7F;stroke-width:0.0px;stroke-linecap:butt;stroke-linejoin:miter;stroke-opacity:1;\"/>\n",
       "<path class=\"bond-34 atom-19 atom-20\" d=\"M 225.8,153.5 L 255.7,157.7 L 254.6,165.7 L 228.6,162.1 Z\" style=\"fill:#FF7F7F;fill-rule:evenodd;fill-opacity:1;stroke:#FF7F7F;stroke-width:0.0px;stroke-linecap:butt;stroke-linejoin:miter;stroke-opacity:1;\"/>\n",
       "<ellipse cx=\"214.0\" cy=\"199.1\" rx=\"7.5\" ry=\"7.5\" class=\"atom-17\" style=\"fill:#FF7F7F;fill-rule:evenodd;stroke:#FF7F7F;stroke-width:1.0px;stroke-linecap:butt;stroke-linejoin:miter;stroke-opacity:1\"/>\n",
       "<ellipse cx=\"208.8\" cy=\"176.0\" rx=\"7.5\" ry=\"7.7\" class=\"atom-18\" style=\"fill:#FF7F7F;fill-rule:evenodd;stroke:#FF7F7F;stroke-width:1.0px;stroke-linecap:butt;stroke-linejoin:miter;stroke-opacity:1\"/>\n",
       "<ellipse cx=\"230.2\" cy=\"157.8\" rx=\"9.1\" ry=\"7.9\" class=\"atom-19\" style=\"fill:#FF7F7F;fill-rule:evenodd;stroke:#FF7F7F;stroke-width:1.0px;stroke-linecap:butt;stroke-linejoin:miter;stroke-opacity:1\"/>\n",
       "<ellipse cx=\"255.2\" cy=\"161.7\" rx=\"7.5\" ry=\"7.5\" class=\"atom-20\" style=\"fill:#FF7F7F;fill-rule:evenodd;stroke:#FF7F7F;stroke-width:1.0px;stroke-linecap:butt;stroke-linejoin:miter;stroke-opacity:1\"/>\n",
       "<path class=\"bond-0 atom-0 atom-1\" d=\"M 199.9,246.3 L 191.7,242.6\" style=\"fill:none;fill-rule:evenodd;stroke:#FF0000;stroke-width:2.0px;stroke-linecap:butt;stroke-linejoin:miter;stroke-opacity:1\"/>\n",
       "<path class=\"bond-0 atom-0 atom-1\" d=\"M 191.7,242.6 L 183.6,238.8\" style=\"fill:none;fill-rule:evenodd;stroke:#000000;stroke-width:2.0px;stroke-linecap:butt;stroke-linejoin:miter;stroke-opacity:1\"/>\n",
       "<path class=\"bond-1 atom-0 atom-29\" d=\"M 206.0,255.3 L 206.5,261.6\" style=\"fill:none;fill-rule:evenodd;stroke:#FF0000;stroke-width:2.0px;stroke-linecap:butt;stroke-linejoin:miter;stroke-opacity:1\"/>\n",
       "<path class=\"bond-1 atom-0 atom-29\" d=\"M 206.5,261.6 L 206.9,267.9\" style=\"fill:none;fill-rule:evenodd;stroke:#000000;stroke-width:2.0px;stroke-linecap:butt;stroke-linejoin:miter;stroke-opacity:1\"/>\n",
       "<path class=\"bond-2 atom-1 atom-2\" d=\"M 183.6,238.8 L 158.9,234.2\" style=\"fill:none;fill-rule:evenodd;stroke:#000000;stroke-width:2.0px;stroke-linecap:butt;stroke-linejoin:miter;stroke-opacity:1\"/>\n",
       "<path class=\"bond-3 atom-1 atom-16\" d=\"M 183.6,238.8 L 195.8,216.9\" style=\"fill:none;fill-rule:evenodd;stroke:#000000;stroke-width:2.0px;stroke-linecap:butt;stroke-linejoin:miter;stroke-opacity:1\"/>\n",
       "<path class=\"bond-4 atom-1 atom-30\" d=\"M 183.3,242.8 L 182.1,242.5\" style=\"fill:none;fill-rule:evenodd;stroke:#000000;stroke-width:1.0px;stroke-linecap:butt;stroke-linejoin:miter;stroke-opacity:1\"/>\n",
       "<path class=\"bond-4 atom-1 atom-30\" d=\"M 183.1,246.7 L 180.6,246.1\" style=\"fill:none;fill-rule:evenodd;stroke:#000000;stroke-width:1.0px;stroke-linecap:butt;stroke-linejoin:miter;stroke-opacity:1\"/>\n",
       "<path class=\"bond-4 atom-1 atom-30\" d=\"M 182.8,250.6 L 179.1,249.8\" style=\"fill:none;fill-rule:evenodd;stroke:#000000;stroke-width:1.0px;stroke-linecap:butt;stroke-linejoin:miter;stroke-opacity:1\"/>\n",
       "<path class=\"bond-5 atom-2 atom-3\" d=\"M 158.9,234.2 L 157.8,246.0\" style=\"fill:none;fill-rule:evenodd;stroke:#000000;stroke-width:2.0px;stroke-linecap:butt;stroke-linejoin:miter;stroke-opacity:1\"/>\n",
       "<path class=\"bond-5 atom-2 atom-3\" d=\"M 157.8,246.0 L 156.7,257.8\" style=\"fill:none;fill-rule:evenodd;stroke:#FF0000;stroke-width:2.0px;stroke-linecap:butt;stroke-linejoin:miter;stroke-opacity:1\"/>\n",
       "<path class=\"bond-6 atom-2 atom-4\" d=\"M 158.9,234.2 L 155.8,209.2\" style=\"fill:none;fill-rule:evenodd;stroke:#000000;stroke-width:2.0px;stroke-linecap:butt;stroke-linejoin:miter;stroke-opacity:1\"/>\n",
       "<path class=\"bond-7 atom-2 atom-31\" d=\"M 155.0,235.4 L 154.8,234.2\" style=\"fill:none;fill-rule:evenodd;stroke:#000000;stroke-width:1.0px;stroke-linecap:butt;stroke-linejoin:miter;stroke-opacity:1\"/>\n",
       "<path class=\"bond-7 atom-2 atom-31\" d=\"M 151.1,236.6 L 150.7,234.1\" style=\"fill:none;fill-rule:evenodd;stroke:#000000;stroke-width:1.0px;stroke-linecap:butt;stroke-linejoin:miter;stroke-opacity:1\"/>\n",
       "<path class=\"bond-7 atom-2 atom-31\" d=\"M 147.2,237.8 L 146.6,234.1\" style=\"fill:none;fill-rule:evenodd;stroke:#000000;stroke-width:1.0px;stroke-linecap:butt;stroke-linejoin:miter;stroke-opacity:1\"/>\n",
       "<path class=\"bond-8 atom-3 atom-32\" d=\"M 161.9,268.8 L 166.8,272.8\" style=\"fill:none;fill-rule:evenodd;stroke:#FF0000;stroke-width:2.0px;stroke-linecap:butt;stroke-linejoin:miter;stroke-opacity:1\"/>\n",
       "<path class=\"bond-8 atom-3 atom-32\" d=\"M 166.8,272.8 L 171.6,276.9\" style=\"fill:none;fill-rule:evenodd;stroke:#000000;stroke-width:2.0px;stroke-linecap:butt;stroke-linejoin:miter;stroke-opacity:1\"/>\n",
       "<path class=\"bond-9 atom-4 atom-5\" d=\"M 155.8,209.2 L 144.6,211.9\" style=\"fill:none;fill-rule:evenodd;stroke:#000000;stroke-width:2.0px;stroke-linecap:butt;stroke-linejoin:miter;stroke-opacity:1\"/>\n",
       "<path class=\"bond-9 atom-4 atom-5\" d=\"M 144.6,211.9 L 133.4,214.6\" style=\"fill:none;fill-rule:evenodd;stroke:#0000FF;stroke-width:2.0px;stroke-linecap:butt;stroke-linejoin:miter;stroke-opacity:1\"/>\n",
       "<path class=\"bond-10 atom-4 atom-15\" d=\"M 155.8,209.2 L 164.3,205.2\" style=\"fill:none;fill-rule:evenodd;stroke:#000000;stroke-width:2.0px;stroke-linecap:butt;stroke-linejoin:miter;stroke-opacity:1\"/>\n",
       "<path class=\"bond-10 atom-4 atom-15\" d=\"M 164.3,205.2 L 172.9,201.2\" style=\"fill:none;fill-rule:evenodd;stroke:#FF0000;stroke-width:2.0px;stroke-linecap:butt;stroke-linejoin:miter;stroke-opacity:1\"/>\n",
       "<path class=\"bond-11 atom-4 atom-33\" d=\"M 155.8,209.2 L 148.2,192.6 L 151.7,191.4 Z\" style=\"fill:#000000;fill-rule:evenodd;fill-opacity:1;stroke:#000000;stroke-width:0.5px;stroke-linecap:butt;stroke-linejoin:miter;stroke-opacity:1;\"/>\n",
       "<path class=\"bond-12 atom-5 atom-6\" d=\"M 125.8,221.9 L 122.1,230.3\" style=\"fill:none;fill-rule:evenodd;stroke:#0000FF;stroke-width:2.0px;stroke-linecap:butt;stroke-linejoin:miter;stroke-opacity:1\"/>\n",
       "<path class=\"bond-12 atom-5 atom-6\" d=\"M 122.1,230.3 L 118.4,238.7\" style=\"fill:none;fill-rule:evenodd;stroke:#000000;stroke-width:2.0px;stroke-linecap:butt;stroke-linejoin:miter;stroke-opacity:1\"/>\n",
       "<path class=\"bond-13 atom-5 atom-14\" d=\"M 123.6,211.4 L 116.8,205.2\" style=\"fill:none;fill-rule:evenodd;stroke:#0000FF;stroke-width:2.0px;stroke-linecap:butt;stroke-linejoin:miter;stroke-opacity:1\"/>\n",
       "<path class=\"bond-13 atom-5 atom-14\" d=\"M 116.8,205.2 L 109.9,199.1\" style=\"fill:none;fill-rule:evenodd;stroke:#000000;stroke-width:2.0px;stroke-linecap:butt;stroke-linejoin:miter;stroke-opacity:1\"/>\n",
       "<path class=\"bond-14 atom-6 atom-7\" d=\"M 118.4,238.7 L 108.3,237.7\" style=\"fill:none;fill-rule:evenodd;stroke:#000000;stroke-width:2.0px;stroke-linecap:butt;stroke-linejoin:miter;stroke-opacity:1\"/>\n",
       "<path class=\"bond-14 atom-6 atom-7\" d=\"M 108.3,237.7 L 98.3,236.6\" style=\"fill:none;fill-rule:evenodd;stroke:#0000FF;stroke-width:2.0px;stroke-linecap:butt;stroke-linejoin:miter;stroke-opacity:1\"/>\n",
       "<path class=\"bond-14 atom-6 atom-7\" d=\"M 116.0,234.7 L 107.4,233.8\" style=\"fill:none;fill-rule:evenodd;stroke:#000000;stroke-width:2.0px;stroke-linecap:butt;stroke-linejoin:miter;stroke-opacity:1\"/>\n",
       "<path class=\"bond-14 atom-6 atom-7\" d=\"M 107.4,233.8 L 98.7,232.9\" style=\"fill:none;fill-rule:evenodd;stroke:#0000FF;stroke-width:2.0px;stroke-linecap:butt;stroke-linejoin:miter;stroke-opacity:1\"/>\n",
       "<path class=\"bond-15 atom-6 atom-34\" d=\"M 118.4,238.7 L 127.5,254.2\" style=\"fill:none;fill-rule:evenodd;stroke:#000000;stroke-width:2.0px;stroke-linecap:butt;stroke-linejoin:miter;stroke-opacity:1\"/>\n",
       "<path class=\"bond-16 atom-7 atom-8\" d=\"M 92.1,230.0 L 90.2,220.9\" style=\"fill:none;fill-rule:evenodd;stroke:#0000FF;stroke-width:2.0px;stroke-linecap:butt;stroke-linejoin:miter;stroke-opacity:1\"/>\n",
       "<path class=\"bond-16 atom-7 atom-8\" d=\"M 90.2,220.9 L 88.2,211.8\" style=\"fill:none;fill-rule:evenodd;stroke:#000000;stroke-width:2.0px;stroke-linecap:butt;stroke-linejoin:miter;stroke-opacity:1\"/>\n",
       "<path class=\"bond-17 atom-8 atom-9\" d=\"M 88.2,211.8 L 66.5,199.2\" style=\"fill:none;fill-rule:evenodd;stroke:#000000;stroke-width:2.0px;stroke-linecap:butt;stroke-linejoin:miter;stroke-opacity:1\"/>\n",
       "<path class=\"bond-18 atom-8 atom-14\" d=\"M 88.2,211.8 L 109.9,199.1\" style=\"fill:none;fill-rule:evenodd;stroke:#000000;stroke-width:2.0px;stroke-linecap:butt;stroke-linejoin:miter;stroke-opacity:1\"/>\n",
       "<path class=\"bond-18 atom-8 atom-14\" d=\"M 88.2,207.5 L 106.2,197.0\" style=\"fill:none;fill-rule:evenodd;stroke:#000000;stroke-width:2.0px;stroke-linecap:butt;stroke-linejoin:miter;stroke-opacity:1\"/>\n",
       "<path class=\"bond-19 atom-9 atom-10\" d=\"M 66.5,199.2 L 58.7,204.0\" style=\"fill:none;fill-rule:evenodd;stroke:#000000;stroke-width:2.0px;stroke-linecap:butt;stroke-linejoin:miter;stroke-opacity:1\"/>\n",
       "<path class=\"bond-19 atom-9 atom-10\" d=\"M 58.7,204.0 L 50.9,208.8\" style=\"fill:none;fill-rule:evenodd;stroke:#0000FF;stroke-width:2.0px;stroke-linecap:butt;stroke-linejoin:miter;stroke-opacity:1\"/>\n",
       "<path class=\"bond-20 atom-9 atom-11\" d=\"M 66.5,199.2 L 66.4,189.8\" style=\"fill:none;fill-rule:evenodd;stroke:#000000;stroke-width:2.0px;stroke-linecap:butt;stroke-linejoin:miter;stroke-opacity:1\"/>\n",
       "<path class=\"bond-20 atom-9 atom-11\" d=\"M 66.4,189.8 L 66.4,180.4\" style=\"fill:none;fill-rule:evenodd;stroke:#0000FF;stroke-width:2.0px;stroke-linecap:butt;stroke-linejoin:miter;stroke-opacity:1\"/>\n",
       "<path class=\"bond-20 atom-9 atom-11\" d=\"M 70.2,197.1 L 70.2,188.7\" style=\"fill:none;fill-rule:evenodd;stroke:#000000;stroke-width:2.0px;stroke-linecap:butt;stroke-linejoin:miter;stroke-opacity:1\"/>\n",
       "<path class=\"bond-20 atom-9 atom-11\" d=\"M 70.2,188.7 L 70.2,180.4\" style=\"fill:none;fill-rule:evenodd;stroke:#0000FF;stroke-width:2.0px;stroke-linecap:butt;stroke-linejoin:miter;stroke-opacity:1\"/>\n",
       "<path class=\"bond-21 atom-10 atom-35\" d=\"M 46.3,218.0 L 46.5,224.4\" style=\"fill:none;fill-rule:evenodd;stroke:#0000FF;stroke-width:2.0px;stroke-linecap:butt;stroke-linejoin:miter;stroke-opacity:1\"/>\n",
       "<path class=\"bond-21 atom-10 atom-35\" d=\"M 46.5,224.4 L 46.8,230.7\" style=\"fill:none;fill-rule:evenodd;stroke:#000000;stroke-width:2.0px;stroke-linecap:butt;stroke-linejoin:miter;stroke-opacity:1\"/>\n",
       "<path class=\"bond-22 atom-10 atom-36\" d=\"M 41.1,209.2 L 35.2,206.0\" style=\"fill:none;fill-rule:evenodd;stroke:#0000FF;stroke-width:2.0px;stroke-linecap:butt;stroke-linejoin:miter;stroke-opacity:1\"/>\n",
       "<path class=\"bond-22 atom-10 atom-36\" d=\"M 35.2,206.0 L 29.2,202.8\" style=\"fill:none;fill-rule:evenodd;stroke:#000000;stroke-width:2.0px;stroke-linecap:butt;stroke-linejoin:miter;stroke-opacity:1\"/>\n",
       "<path class=\"bond-23 atom-11 atom-12\" d=\"M 71.3,171.4 L 79.7,166.5\" style=\"fill:none;fill-rule:evenodd;stroke:#0000FF;stroke-width:2.0px;stroke-linecap:butt;stroke-linejoin:miter;stroke-opacity:1\"/>\n",
       "<path class=\"bond-23 atom-11 atom-12\" d=\"M 79.7,166.5 L 88.1,161.6\" style=\"fill:none;fill-rule:evenodd;stroke:#000000;stroke-width:2.0px;stroke-linecap:butt;stroke-linejoin:miter;stroke-opacity:1\"/>\n",
       "<path class=\"bond-24 atom-12 atom-13\" d=\"M 88.1,161.6 L 96.5,166.4\" style=\"fill:none;fill-rule:evenodd;stroke:#000000;stroke-width:2.0px;stroke-linecap:butt;stroke-linejoin:miter;stroke-opacity:1\"/>\n",
       "<path class=\"bond-24 atom-12 atom-13\" d=\"M 96.5,166.4 L 105.0,171.3\" style=\"fill:none;fill-rule:evenodd;stroke:#0000FF;stroke-width:2.0px;stroke-linecap:butt;stroke-linejoin:miter;stroke-opacity:1\"/>\n",
       "<path class=\"bond-24 atom-12 atom-13\" d=\"M 88.1,165.9 L 95.6,170.2\" style=\"fill:none;fill-rule:evenodd;stroke:#000000;stroke-width:2.0px;stroke-linecap:butt;stroke-linejoin:miter;stroke-opacity:1\"/>\n",
       "<path class=\"bond-24 atom-12 atom-13\" d=\"M 95.6,170.2 L 103.1,174.5\" style=\"fill:none;fill-rule:evenodd;stroke:#0000FF;stroke-width:2.0px;stroke-linecap:butt;stroke-linejoin:miter;stroke-opacity:1\"/>\n",
       "<path class=\"bond-25 atom-12 atom-37\" d=\"M 88.1,161.6 L 88.1,142.7\" style=\"fill:none;fill-rule:evenodd;stroke:#000000;stroke-width:2.0px;stroke-linecap:butt;stroke-linejoin:miter;stroke-opacity:1\"/>\n",
       "<path class=\"bond-26 atom-13 atom-14\" d=\"M 109.9,180.2 L 109.9,189.7\" style=\"fill:none;fill-rule:evenodd;stroke:#0000FF;stroke-width:2.0px;stroke-linecap:butt;stroke-linejoin:miter;stroke-opacity:1\"/>\n",
       "<path class=\"bond-26 atom-13 atom-14\" d=\"M 109.9,189.7 L 109.9,199.1\" style=\"fill:none;fill-rule:evenodd;stroke:#000000;stroke-width:2.0px;stroke-linecap:butt;stroke-linejoin:miter;stroke-opacity:1\"/>\n",
       "<path class=\"bond-27 atom-15 atom-16\" d=\"M 184.3,204.7 L 190.1,210.8\" style=\"fill:none;fill-rule:evenodd;stroke:#FF0000;stroke-width:2.0px;stroke-linecap:butt;stroke-linejoin:miter;stroke-opacity:1\"/>\n",
       "<path class=\"bond-27 atom-15 atom-16\" d=\"M 190.1,210.8 L 195.8,216.9\" style=\"fill:none;fill-rule:evenodd;stroke:#000000;stroke-width:2.0px;stroke-linecap:butt;stroke-linejoin:miter;stroke-opacity:1\"/>\n",
       "<path class=\"bond-28 atom-16 atom-17\" d=\"M 195.8,216.9 L 214.0,199.1\" style=\"fill:none;fill-rule:evenodd;stroke:#000000;stroke-width:2.0px;stroke-linecap:butt;stroke-linejoin:miter;stroke-opacity:1\"/>\n",
       "<path class=\"bond-29 atom-16 atom-38\" d=\"M 195.8,216.9 L 211.8,226.2 L 209.6,229.2 Z\" style=\"fill:#000000;fill-rule:evenodd;fill-opacity:1;stroke:#000000;stroke-width:0.5px;stroke-linecap:butt;stroke-linejoin:miter;stroke-opacity:1;\"/>\n",
       "<path class=\"bond-30 atom-17 atom-18\" d=\"M 214.0,199.1 L 212.1,190.7\" style=\"fill:none;fill-rule:evenodd;stroke:#000000;stroke-width:2.0px;stroke-linecap:butt;stroke-linejoin:miter;stroke-opacity:1\"/>\n",
       "<path class=\"bond-30 atom-17 atom-18\" d=\"M 212.1,190.7 L 210.3,182.3\" style=\"fill:none;fill-rule:evenodd;stroke:#FF0000;stroke-width:2.0px;stroke-linecap:butt;stroke-linejoin:miter;stroke-opacity:1\"/>\n",
       "<path class=\"bond-31 atom-17 atom-39\" d=\"M 214.0,199.1 L 226.5,212.0\" style=\"fill:none;fill-rule:evenodd;stroke:#000000;stroke-width:2.0px;stroke-linecap:butt;stroke-linejoin:miter;stroke-opacity:1\"/>\n",
       "<path class=\"bond-32 atom-17 atom-40\" d=\"M 214.0,199.1 L 233.2,194.4\" style=\"fill:none;fill-rule:evenodd;stroke:#000000;stroke-width:2.0px;stroke-linecap:butt;stroke-linejoin:miter;stroke-opacity:1\"/>\n",
       "<path class=\"bond-33 atom-18 atom-19\" d=\"M 214.6,170.3 L 218.8,166.1\" style=\"fill:none;fill-rule:evenodd;stroke:#FF0000;stroke-width:2.0px;stroke-linecap:butt;stroke-linejoin:miter;stroke-opacity:1\"/>\n",
       "<path class=\"bond-33 atom-18 atom-19\" d=\"M 218.8,166.1 L 223.0,162.0\" style=\"fill:none;fill-rule:evenodd;stroke:#CCCC00;stroke-width:2.0px;stroke-linecap:butt;stroke-linejoin:miter;stroke-opacity:1\"/>\n",
       "<path class=\"bond-34 atom-19 atom-20\" d=\"M 231.4,158.4 L 243.3,160.0\" style=\"fill:none;fill-rule:evenodd;stroke:#CCCC00;stroke-width:2.0px;stroke-linecap:butt;stroke-linejoin:miter;stroke-opacity:1\"/>\n",
       "<path class=\"bond-34 atom-19 atom-20\" d=\"M 243.3,160.0 L 255.2,161.7\" style=\"fill:none;fill-rule:evenodd;stroke:#000000;stroke-width:2.0px;stroke-linecap:butt;stroke-linejoin:miter;stroke-opacity:1\"/>\n",
       "<path class=\"bond-35 atom-19 atom-21\" d=\"M 225.2,151.7 L 221.9,141.4\" style=\"fill:none;fill-rule:evenodd;stroke:#CCCC00;stroke-width:2.0px;stroke-linecap:butt;stroke-linejoin:miter;stroke-opacity:1\"/>\n",
       "<path class=\"bond-35 atom-19 atom-21\" d=\"M 221.9,141.4 L 218.5,131.1\" style=\"fill:none;fill-rule:evenodd;stroke:#000000;stroke-width:2.0px;stroke-linecap:butt;stroke-linejoin:miter;stroke-opacity:1\"/>\n",
       "<path class=\"bond-36 atom-20 atom-41\" d=\"M 255.2,161.7 L 251.1,149.4\" style=\"fill:none;fill-rule:evenodd;stroke:#000000;stroke-width:2.0px;stroke-linecap:butt;stroke-linejoin:miter;stroke-opacity:1\"/>\n",
       "<path class=\"bond-37 atom-20 atom-42\" d=\"M 255.2,161.7 L 270.8,151.3\" style=\"fill:none;fill-rule:evenodd;stroke:#000000;stroke-width:2.0px;stroke-linecap:butt;stroke-linejoin:miter;stroke-opacity:1\"/>\n",
       "<path class=\"bond-38 atom-20 atom-43\" d=\"M 255.2,161.7 L 262.1,178.5\" style=\"fill:none;fill-rule:evenodd;stroke:#000000;stroke-width:2.0px;stroke-linecap:butt;stroke-linejoin:miter;stroke-opacity:1\"/>\n",
       "<path class=\"bond-39 atom-21 atom-22\" d=\"M 218.5,131.1 L 237.9,109.6\" style=\"fill:none;fill-rule:evenodd;stroke:#000000;stroke-width:2.0px;stroke-linecap:butt;stroke-linejoin:miter;stroke-opacity:1\"/>\n",
       "<path class=\"bond-40 atom-21 atom-44\" d=\"M 218.5,131.1 L 199.3,138.1\" style=\"fill:none;fill-rule:evenodd;stroke:#000000;stroke-width:2.0px;stroke-linecap:butt;stroke-linejoin:miter;stroke-opacity:1\"/>\n",
       "<path class=\"bond-41 atom-21 atom-45\" d=\"M 218.5,131.1 L 204.8,119.8\" style=\"fill:none;fill-rule:evenodd;stroke:#000000;stroke-width:2.0px;stroke-linecap:butt;stroke-linejoin:miter;stroke-opacity:1\"/>\n",
       "<path class=\"bond-42 atom-22 atom-23\" d=\"M 237.9,109.6 L 224.8,89.7\" style=\"fill:none;fill-rule:evenodd;stroke:#000000;stroke-width:2.0px;stroke-linecap:butt;stroke-linejoin:miter;stroke-opacity:1\"/>\n",
       "<path class=\"bond-43 atom-22 atom-46\" d=\"M 237.9,109.6 L 241.9,121.8\" style=\"fill:none;fill-rule:evenodd;stroke:#000000;stroke-width:2.0px;stroke-linecap:butt;stroke-linejoin:miter;stroke-opacity:1\"/>\n",
       "<path class=\"bond-44 atom-22 atom-47\" d=\"M 237.9,109.6 L 257.1,105.8\" style=\"fill:none;fill-rule:evenodd;stroke:#000000;stroke-width:2.0px;stroke-linecap:butt;stroke-linejoin:miter;stroke-opacity:1\"/>\n",
       "<path class=\"bond-45 atom-23 atom-24\" d=\"M 224.8,89.7 L 240.8,70.5\" style=\"fill:none;fill-rule:evenodd;stroke:#000000;stroke-width:2.0px;stroke-linecap:butt;stroke-linejoin:miter;stroke-opacity:1\"/>\n",
       "<path class=\"bond-45 atom-23 atom-24\" d=\"M 223.3,85.7 L 236.5,69.7\" style=\"fill:none;fill-rule:evenodd;stroke:#000000;stroke-width:2.0px;stroke-linecap:butt;stroke-linejoin:miter;stroke-opacity:1\"/>\n",
       "<path class=\"bond-46 atom-23 atom-28\" d=\"M 224.8,89.7 L 199.9,85.6\" style=\"fill:none;fill-rule:evenodd;stroke:#000000;stroke-width:2.0px;stroke-linecap:butt;stroke-linejoin:miter;stroke-opacity:1\"/>\n",
       "<path class=\"bond-47 atom-24 atom-25\" d=\"M 240.8,70.5 L 232.1,47.0\" style=\"fill:none;fill-rule:evenodd;stroke:#000000;stroke-width:2.0px;stroke-linecap:butt;stroke-linejoin:miter;stroke-opacity:1\"/>\n",
       "<path class=\"bond-48 atom-24 atom-48\" d=\"M 240.8,70.5 L 260.5,74.2\" style=\"fill:none;fill-rule:evenodd;stroke:#000000;stroke-width:2.0px;stroke-linecap:butt;stroke-linejoin:miter;stroke-opacity:1\"/>\n",
       "<path class=\"bond-49 atom-25 atom-26\" d=\"M 232.1,47.0 L 207.3,42.7\" style=\"fill:none;fill-rule:evenodd;stroke:#000000;stroke-width:2.0px;stroke-linecap:butt;stroke-linejoin:miter;stroke-opacity:1\"/>\n",
       "<path class=\"bond-49 atom-25 atom-26\" d=\"M 229.3,50.3 L 208.8,46.7\" style=\"fill:none;fill-rule:evenodd;stroke:#000000;stroke-width:2.0px;stroke-linecap:butt;stroke-linejoin:miter;stroke-opacity:1\"/>\n",
       "<path class=\"bond-50 atom-25 atom-49\" d=\"M 232.1,47.0 L 243.5,33.7\" style=\"fill:none;fill-rule:evenodd;stroke:#000000;stroke-width:2.0px;stroke-linecap:butt;stroke-linejoin:miter;stroke-opacity:1\"/>\n",
       "<path class=\"bond-51 atom-26 atom-27\" d=\"M 207.3,42.7 L 191.2,62.0\" style=\"fill:none;fill-rule:evenodd;stroke:#000000;stroke-width:2.0px;stroke-linecap:butt;stroke-linejoin:miter;stroke-opacity:1\"/>\n",
       "<path class=\"bond-52 atom-26 atom-50\" d=\"M 207.3,42.7 L 201.2,25.1\" style=\"fill:none;fill-rule:evenodd;stroke:#000000;stroke-width:2.0px;stroke-linecap:butt;stroke-linejoin:miter;stroke-opacity:1\"/>\n",
       "<path class=\"bond-53 atom-27 atom-28\" d=\"M 191.2,62.0 L 199.9,85.6\" style=\"fill:none;fill-rule:evenodd;stroke:#000000;stroke-width:2.0px;stroke-linecap:butt;stroke-linejoin:miter;stroke-opacity:1\"/>\n",
       "<path class=\"bond-53 atom-27 atom-28\" d=\"M 195.5,62.7 L 202.7,82.2\" style=\"fill:none;fill-rule:evenodd;stroke:#000000;stroke-width:2.0px;stroke-linecap:butt;stroke-linejoin:miter;stroke-opacity:1\"/>\n",
       "<path class=\"bond-54 atom-27 atom-51\" d=\"M 191.2,62.0 L 171.5,58.2\" style=\"fill:none;fill-rule:evenodd;stroke:#000000;stroke-width:2.0px;stroke-linecap:butt;stroke-linejoin:miter;stroke-opacity:1\"/>\n",
       "<path class=\"bond-55 atom-28 atom-52\" d=\"M 199.9,85.6 L 188.2,98.5\" style=\"fill:none;fill-rule:evenodd;stroke:#000000;stroke-width:2.0px;stroke-linecap:butt;stroke-linejoin:miter;stroke-opacity:1\"/>\n",
       "<path class=\"atom-0\" d=\"M 200.7 249.0 Q 200.7 246.4, 202.0 245.0 Q 203.2 243.5, 205.6 243.5 Q 208.0 243.5, 209.2 245.0 Q 210.5 246.4, 210.5 249.0 Q 210.5 251.6, 209.2 253.0 Q 207.9 254.5, 205.6 254.5 Q 203.2 254.5, 202.0 253.0 Q 200.7 251.6, 200.7 249.0 M 205.6 253.3 Q 207.2 253.3, 208.1 252.2 Q 209.0 251.1, 209.0 249.0 Q 209.0 246.9, 208.1 245.8 Q 207.2 244.7, 205.6 244.7 Q 204.0 244.7, 203.1 245.8 Q 202.2 246.9, 202.2 249.0 Q 202.2 251.1, 203.1 252.2 Q 204.0 253.3, 205.6 253.3 \" fill=\"#FF0000\"/>\n",
       "<path class=\"atom-3\" d=\"M 151.3 264.1 Q 151.3 261.5, 152.5 260.1 Q 153.8 258.6, 156.2 258.6 Q 158.5 258.6, 159.8 260.1 Q 161.1 261.5, 161.1 264.1 Q 161.1 266.6, 159.8 268.1 Q 158.5 269.6, 156.2 269.6 Q 153.8 269.6, 152.5 268.1 Q 151.3 266.7, 151.3 264.1 M 156.2 268.4 Q 157.8 268.4, 158.7 267.3 Q 159.6 266.2, 159.6 264.1 Q 159.6 262.0, 158.7 260.9 Q 157.8 259.8, 156.2 259.8 Q 154.5 259.8, 153.7 260.9 Q 152.8 261.9, 152.8 264.1 Q 152.8 266.2, 153.7 267.3 Q 154.5 268.4, 156.2 268.4 \" fill=\"#FF0000\"/>\n",
       "<path class=\"atom-5\" d=\"M 126.1 210.4 L 129.6 216.1 Q 130.0 216.6, 130.5 217.6 Q 131.1 218.6, 131.1 218.7 L 131.1 210.4 L 132.5 210.4 L 132.5 221.1 L 131.1 221.1 L 127.3 214.9 Q 126.9 214.2, 126.4 213.3 Q 126.0 212.5, 125.8 212.3 L 125.8 221.1 L 124.4 221.1 L 124.4 210.4 L 126.1 210.4 \" fill=\"#0000FF\"/>\n",
       "<path class=\"atom-7\" d=\"M 91.1 230.8 L 94.6 236.4 Q 94.9 237.0, 95.5 238.0 Q 96.0 239.0, 96.1 239.1 L 96.1 230.8 L 97.5 230.8 L 97.5 241.5 L 96.0 241.5 L 92.3 235.3 Q 91.8 234.6, 91.4 233.7 Q 90.9 232.9, 90.8 232.6 L 90.8 241.5 L 89.4 241.5 L 89.4 230.8 L 91.1 230.8 \" fill=\"#0000FF\"/>\n",
       "<path class=\"atom-10\" d=\"M 43.6 206.5 L 47.1 212.2 Q 47.5 212.7, 48.0 213.7 Q 48.6 214.7, 48.6 214.8 L 48.6 206.5 L 50.0 206.5 L 50.0 217.2 L 48.6 217.2 L 44.8 211.0 Q 44.4 210.3, 43.9 209.4 Q 43.5 208.6, 43.3 208.4 L 43.3 217.2 L 42.0 217.2 L 42.0 206.5 L 43.6 206.5 \" fill=\"#0000FF\"/>\n",
       "<path class=\"atom-11\" d=\"M 64.1 168.9 L 67.6 174.6 Q 67.9 175.1, 68.5 176.1 Q 69.0 177.2, 69.0 177.2 L 69.0 168.9 L 70.5 168.9 L 70.5 179.6 L 69.0 179.6 L 65.2 173.4 Q 64.8 172.7, 64.3 171.9 Q 63.9 171.0, 63.8 170.8 L 63.8 179.6 L 62.4 179.6 L 62.4 168.9 L 64.1 168.9 \" fill=\"#0000FF\"/>\n",
       "<path class=\"atom-13\" d=\"M 107.5 168.7 L 111.0 174.4 Q 111.3 174.9, 111.9 175.9 Q 112.4 176.9, 112.5 177.0 L 112.5 168.7 L 113.9 168.7 L 113.9 179.4 L 112.4 179.4 L 108.7 173.2 Q 108.2 172.5, 107.8 171.7 Q 107.3 170.8, 107.2 170.6 L 107.2 179.4 L 105.8 179.4 L 105.8 168.7 L 107.5 168.7 \" fill=\"#0000FF\"/>\n",
       "<path class=\"atom-15\" d=\"M 173.7 198.6 Q 173.7 196.0, 175.0 194.6 Q 176.2 193.1, 178.6 193.1 Q 181.0 193.1, 182.2 194.6 Q 183.5 196.0, 183.5 198.6 Q 183.5 201.2, 182.2 202.6 Q 180.9 204.1, 178.6 204.1 Q 176.3 204.1, 175.0 202.6 Q 173.7 201.2, 173.7 198.6 M 178.6 202.9 Q 180.2 202.9, 181.1 201.8 Q 182.0 200.7, 182.0 198.6 Q 182.0 196.5, 181.1 195.4 Q 180.2 194.3, 178.6 194.3 Q 177.0 194.3, 176.1 195.4 Q 175.2 196.5, 175.2 198.6 Q 175.2 200.7, 176.1 201.8 Q 177.0 202.9, 178.6 202.9 \" fill=\"#FF0000\"/>\n",
       "<path class=\"atom-18\" d=\"M 203.9 176.0 Q 203.9 173.4, 205.2 172.0 Q 206.5 170.5, 208.8 170.5 Q 211.2 170.5, 212.5 172.0 Q 213.7 173.4, 213.7 176.0 Q 213.7 178.6, 212.5 180.0 Q 211.2 181.5, 208.8 181.5 Q 206.5 181.5, 205.2 180.0 Q 203.9 178.6, 203.9 176.0 M 208.8 180.3 Q 210.5 180.3, 211.3 179.2 Q 212.2 178.1, 212.2 176.0 Q 212.2 173.9, 211.3 172.8 Q 210.5 171.7, 208.8 171.7 Q 207.2 171.7, 206.3 172.8 Q 205.5 173.9, 205.5 176.0 Q 205.5 178.1, 206.3 179.2 Q 207.2 180.3, 208.8 180.3 \" fill=\"#FF0000\"/>\n",
       "<path class=\"atom-19\" d=\"M 224.2 161.5 Q 224.3 161.5, 224.8 161.7 Q 225.3 161.9, 225.8 162.1 Q 226.4 162.2, 226.9 162.2 Q 228.0 162.2, 228.5 161.7 Q 229.1 161.2, 229.1 160.3 Q 229.1 159.8, 228.8 159.4 Q 228.5 159.0, 228.1 158.8 Q 227.6 158.6, 226.9 158.4 Q 225.9 158.1, 225.4 157.9 Q 224.8 157.6, 224.4 157.0 Q 224.0 156.4, 224.0 155.5 Q 224.0 154.1, 224.9 153.3 Q 225.8 152.5, 227.6 152.5 Q 228.9 152.5, 230.3 153.1 L 229.9 154.2 Q 228.6 153.7, 227.7 153.7 Q 226.6 153.7, 226.1 154.1 Q 225.5 154.6, 225.5 155.3 Q 225.5 155.9, 225.8 156.2 Q 226.1 156.6, 226.5 156.8 Q 227.0 157.0, 227.7 157.2 Q 228.6 157.5, 229.2 157.8 Q 229.8 158.1, 230.2 158.7 Q 230.6 159.3, 230.6 160.3 Q 230.6 161.8, 229.6 162.6 Q 228.6 163.4, 227.0 163.4 Q 226.1 163.4, 225.3 163.2 Q 224.6 163.0, 223.8 162.7 L 224.2 161.5 \" fill=\"#CCCC00\"/>\n",
       "<path class=\"atom-19\" d=\"M 232.0 154.2 L 233.9 154.2 L 233.9 152.3 L 234.7 152.3 L 234.7 154.2 L 236.7 154.2 L 236.7 155.0 L 234.7 155.0 L 234.7 157.0 L 233.9 157.0 L 233.9 155.0 L 232.0 155.0 L 232.0 154.2 \" fill=\"#CCCC00\"/>\n",
       "<path class=\"atom-29\" d=\"M 203.2 268.7 L 204.6 268.7 L 204.6 273.2 L 210.1 273.2 L 210.1 268.7 L 211.5 268.7 L 211.5 279.4 L 210.1 279.4 L 210.1 274.4 L 204.6 274.4 L 204.6 279.4 L 203.2 279.4 L 203.2 268.7 \" fill=\"#000000\"/>\n",
       "<path class=\"atom-30\" d=\"M 175.2 251.9 L 176.6 251.9 L 176.6 256.4 L 182.1 256.4 L 182.1 251.9 L 183.5 251.9 L 183.5 262.5 L 182.1 262.5 L 182.1 257.6 L 176.6 257.6 L 176.6 262.5 L 175.2 262.5 L 175.2 251.9 \" fill=\"#000000\"/>\n",
       "<path class=\"atom-31\" d=\"M 136.9 231.5 L 138.3 231.5 L 138.3 236.0 L 143.8 236.0 L 143.8 231.5 L 145.2 231.5 L 145.2 242.1 L 143.8 242.1 L 143.8 237.2 L 138.3 237.2 L 138.3 242.1 L 136.9 242.1 L 136.9 231.5 \" fill=\"#000000\"/>\n",
       "<path class=\"atom-32\" d=\"M 172.5 275.7 L 173.9 275.7 L 173.9 280.2 L 179.4 280.2 L 179.4 275.7 L 180.8 275.7 L 180.8 286.4 L 179.4 286.4 L 179.4 281.4 L 173.9 281.4 L 173.9 286.4 L 172.5 286.4 L 172.5 275.7 \" fill=\"#000000\"/>\n",
       "<path class=\"atom-33\" d=\"M 143.4 179.7 L 144.9 179.7 L 144.9 184.2 L 150.3 184.2 L 150.3 179.7 L 151.8 179.7 L 151.8 190.4 L 150.3 190.4 L 150.3 185.4 L 144.9 185.4 L 144.9 190.4 L 143.4 190.4 L 143.4 179.7 \" fill=\"#000000\"/>\n",
       "<path class=\"atom-34\" d=\"M 126.9 255.1 L 128.3 255.1 L 128.3 259.6 L 133.8 259.6 L 133.8 255.1 L 135.2 255.1 L 135.2 265.7 L 133.8 265.7 L 133.8 260.8 L 128.3 260.8 L 128.3 265.7 L 126.9 265.7 L 126.9 255.1 \" fill=\"#000000\"/>\n",
       "<path class=\"atom-35\" d=\"M 42.9 231.6 L 44.4 231.6 L 44.4 236.1 L 49.8 236.1 L 49.8 231.6 L 51.3 231.6 L 51.3 242.2 L 49.8 242.2 L 49.8 237.3 L 44.4 237.3 L 44.4 242.2 L 42.9 242.2 L 42.9 231.6 \" fill=\"#000000\"/>\n",
       "<path class=\"atom-36\" d=\"M 20.1 194.7 L 21.5 194.7 L 21.5 199.3 L 27.0 199.3 L 27.0 194.7 L 28.4 194.7 L 28.4 205.4 L 27.0 205.4 L 27.0 200.5 L 21.5 200.5 L 21.5 205.4 L 20.1 205.4 L 20.1 194.7 \" fill=\"#000000\"/>\n",
       "<path class=\"atom-37\" d=\"M 83.9 131.2 L 85.4 131.2 L 85.4 135.7 L 90.9 135.7 L 90.9 131.2 L 92.3 131.2 L 92.3 141.9 L 90.9 141.9 L 90.9 136.9 L 85.4 136.9 L 85.4 141.9 L 83.9 141.9 L 83.9 131.2 \" fill=\"#000000\"/>\n",
       "<path class=\"atom-38\" d=\"M 212.3 226.6 L 213.7 226.6 L 213.7 231.2 L 219.2 231.2 L 219.2 226.6 L 220.7 226.6 L 220.7 237.3 L 219.2 237.3 L 219.2 232.4 L 213.7 232.4 L 213.7 237.3 L 212.3 237.3 L 212.3 226.6 \" fill=\"#000000\"/>\n",
       "<path class=\"atom-39\" d=\"M 227.3 211.8 L 228.7 211.8 L 228.7 216.3 L 234.2 216.3 L 234.2 211.8 L 235.7 211.8 L 235.7 222.4 L 234.2 222.4 L 234.2 217.5 L 228.7 217.5 L 228.7 222.4 L 227.3 222.4 L 227.3 211.8 \" fill=\"#000000\"/>\n",
       "<path class=\"atom-40\" d=\"M 234.0 187.8 L 235.5 187.8 L 235.5 192.3 L 240.9 192.3 L 240.9 187.8 L 242.4 187.8 L 242.4 198.5 L 240.9 198.5 L 240.9 193.6 L 235.5 193.6 L 235.5 198.5 L 234.0 198.5 L 234.0 187.8 \" fill=\"#000000\"/>\n",
       "<path class=\"atom-41\" d=\"M 244.8 137.9 L 246.3 137.9 L 246.3 142.4 L 251.7 142.4 L 251.7 137.9 L 253.2 137.9 L 253.2 148.6 L 251.7 148.6 L 251.7 143.6 L 246.3 143.6 L 246.3 148.6 L 244.8 148.6 L 244.8 137.9 \" fill=\"#000000\"/>\n",
       "<path class=\"atom-42\" d=\"M 271.6 142.7 L 273.0 142.7 L 273.0 147.2 L 278.5 147.2 L 278.5 142.7 L 279.9 142.7 L 279.9 153.4 L 278.5 153.4 L 278.5 148.4 L 273.0 148.4 L 273.0 153.4 L 271.6 153.4 L 271.6 142.7 \" fill=\"#000000\"/>\n",
       "<path class=\"atom-43\" d=\"M 260.4 179.3 L 261.9 179.3 L 261.9 183.8 L 267.3 183.8 L 267.3 179.3 L 268.8 179.3 L 268.8 190.0 L 267.3 190.0 L 267.3 185.0 L 261.9 185.0 L 261.9 190.0 L 260.4 190.0 L 260.4 179.3 \" fill=\"#000000\"/>\n",
       "<path class=\"atom-44\" d=\"M 190.2 134.5 L 191.6 134.5 L 191.6 139.1 L 197.1 139.1 L 197.1 134.5 L 198.5 134.5 L 198.5 145.2 L 197.1 145.2 L 197.1 140.3 L 191.6 140.3 L 191.6 145.2 L 190.2 145.2 L 190.2 134.5 \" fill=\"#000000\"/>\n",
       "<path class=\"atom-45\" d=\"M 195.6 110.4 L 197.0 110.4 L 197.0 114.9 L 202.5 114.9 L 202.5 110.4 L 203.9 110.4 L 203.9 121.1 L 202.5 121.1 L 202.5 116.2 L 197.0 116.2 L 197.0 121.1 L 195.6 121.1 L 195.6 110.4 \" fill=\"#000000\"/>\n",
       "<path class=\"atom-46\" d=\"M 239.8 122.7 L 241.2 122.7 L 241.2 127.2 L 246.7 127.2 L 246.7 122.7 L 248.1 122.7 L 248.1 133.3 L 246.7 133.3 L 246.7 128.4 L 241.2 128.4 L 241.2 133.3 L 239.8 133.3 L 239.8 122.7 \" fill=\"#000000\"/>\n",
       "<path class=\"atom-47\" d=\"M 258.0 99.4 L 259.4 99.4 L 259.4 104.0 L 264.9 104.0 L 264.9 99.4 L 266.3 99.4 L 266.3 110.1 L 264.9 110.1 L 264.9 105.2 L 259.4 105.2 L 259.4 110.1 L 258.0 110.1 L 258.0 99.4 \" fill=\"#000000\"/>\n",
       "<path class=\"atom-48\" d=\"M 261.3 69.8 L 262.7 69.8 L 262.7 74.3 L 268.2 74.3 L 268.2 69.8 L 269.6 69.8 L 269.6 80.4 L 268.2 80.4 L 268.2 75.5 L 262.7 75.5 L 262.7 80.4 L 261.3 80.4 L 261.3 69.8 \" fill=\"#000000\"/>\n",
       "<path class=\"atom-49\" d=\"M 244.3 22.6 L 245.7 22.6 L 245.7 27.1 L 251.2 27.1 L 251.2 22.6 L 252.6 22.6 L 252.6 33.3 L 251.2 33.3 L 251.2 28.3 L 245.7 28.3 L 245.7 33.3 L 244.3 33.3 L 244.3 22.6 \" fill=\"#000000\"/>\n",
       "<path class=\"atom-50\" d=\"M 194.9 13.6 L 196.3 13.6 L 196.3 18.2 L 201.8 18.2 L 201.8 13.6 L 203.2 13.6 L 203.2 24.3 L 201.8 24.3 L 201.8 19.4 L 196.3 19.4 L 196.3 24.3 L 194.9 24.3 L 194.9 13.6 \" fill=\"#000000\"/>\n",
       "<path class=\"atom-51\" d=\"M 162.4 52.0 L 163.8 52.0 L 163.8 56.5 L 169.3 56.5 L 169.3 52.0 L 170.7 52.0 L 170.7 62.6 L 169.3 62.6 L 169.3 57.7 L 163.8 57.7 L 163.8 62.6 L 162.4 62.6 L 162.4 52.0 \" fill=\"#000000\"/>\n",
       "<path class=\"atom-52\" d=\"M 179.0 98.7 L 180.5 98.7 L 180.5 103.2 L 186.0 103.2 L 186.0 98.7 L 187.4 98.7 L 187.4 109.4 L 186.0 109.4 L 186.0 104.5 L 180.5 104.5 L 180.5 109.4 L 179.0 109.4 L 179.0 98.7 \" fill=\"#000000\"/>\n",
       "</svg>"
      ],
      "text/plain": [
       "<IPython.core.display.SVG object>"
      ]
     },
     "metadata": {},
     "output_type": "display_data"
    },
    {
     "name": "stdin",
     "output_type": "stream",
     "text": [
      " t142j [O:1]([C@@:2]1([H:23])[C@:3]([O:4][H:25])([H:24])[C@@:5]([H:44])([H:26])[O:6][C@@:7]1([C:8]([O:9][S+:10]([C:11]([H:30])([H:31])[H:32])[C:12]([C:13]([c:14]1[c:15]([H:37])[c:16]([H:38])[c:17]([H:39])[c:18]([H:40])[c:19]1[O:20][C:21]([H:41])([H:42])[H:43])([H:35])[H:36])([H:33])[H:34])([H:28])[H:29])[H:27])[H:22] (7, 8, 9, 10)\n"
     ]
    },
    {
     "name": "stdout",
     "output_type": "stream",
     "text": [
      "matched!\n"
     ]
    },
    {
     "data": {
      "image/svg+xml": [
       "<svg xmlns=\"http://www.w3.org/2000/svg\" xmlns:rdkit=\"http://www.rdkit.org/xml\" xmlns:xlink=\"http://www.w3.org/1999/xlink\" version=\"1.1\" baseProfile=\"full\" xml:space=\"preserve\" width=\"300px\" height=\"300px\" viewBox=\"0 0 300 300\">\n",
       "<!-- END OF HEADER -->\n",
       "<rect style=\"opacity:1.0;fill:#FFFFFF;stroke:none\" width=\"300.0\" height=\"300.0\" x=\"0.0\" y=\"0.0\"> </rect>\n",
       "<path class=\"bond-15 atom-7 atom-8\" d=\"M 123.6,152.0 L 123.7,162.0 L 98.2,177.7 L 93.8,170.4 Z\" style=\"fill:#FF7F7F;fill-rule:evenodd;fill-opacity:1;stroke:#FF7F7F;stroke-width:0.0px;stroke-linecap:butt;stroke-linejoin:miter;stroke-opacity:1;\"/>\n",
       "<path class=\"bond-18 atom-8 atom-9\" d=\"M 123.6,152.0 L 149.0,167.0 L 139.7,171.5 L 123.7,162.0 Z\" style=\"fill:#FF7F7F;fill-rule:evenodd;fill-opacity:1;stroke:#FF7F7F;stroke-width:0.0px;stroke-linecap:butt;stroke-linejoin:miter;stroke-opacity:1;\"/>\n",
       "<path class=\"bond-19 atom-9 atom-10\" d=\"M 149.0,167.0 L 143.6,206.0 L 135.1,204.8 L 139.7,171.5 Z\" style=\"fill:#FF7F7F;fill-rule:evenodd;fill-opacity:1;stroke:#FF7F7F;stroke-width:0.0px;stroke-linecap:butt;stroke-linejoin:miter;stroke-opacity:1;\"/>\n",
       "<ellipse cx=\"96.0\" cy=\"174.0\" rx=\"8.0\" ry=\"8.0\" class=\"atom-7\" style=\"fill:#FF7F7F;fill-rule:evenodd;stroke:#FF7F7F;stroke-width:1.0px;stroke-linecap:butt;stroke-linejoin:miter;stroke-opacity:1\"/>\n",
       "<ellipse cx=\"123.7\" cy=\"157.1\" rx=\"8.0\" ry=\"8.3\" class=\"atom-8\" style=\"fill:#FF7F7F;fill-rule:evenodd;stroke:#FF7F7F;stroke-width:1.0px;stroke-linecap:butt;stroke-linejoin:miter;stroke-opacity:1\"/>\n",
       "<ellipse cx=\"147.6\" cy=\"169.3\" rx=\"9.7\" ry=\"8.4\" class=\"atom-9\" style=\"fill:#FF7F7F;fill-rule:evenodd;stroke:#FF7F7F;stroke-width:1.0px;stroke-linecap:butt;stroke-linejoin:miter;stroke-opacity:1\"/>\n",
       "<ellipse cx=\"139.3\" cy=\"205.4\" rx=\"8.0\" ry=\"8.0\" class=\"atom-10\" style=\"fill:#FF7F7F;fill-rule:evenodd;stroke:#FF7F7F;stroke-width:1.0px;stroke-linecap:butt;stroke-linejoin:miter;stroke-opacity:1\"/>\n",
       "<path class=\"bond-0 atom-0 atom-1\" d=\"M 99.4,123.9 L 92.5,130.1\" style=\"fill:none;fill-rule:evenodd;stroke:#FF0000;stroke-width:2.0px;stroke-linecap:butt;stroke-linejoin:miter;stroke-opacity:1\"/>\n",
       "<path class=\"bond-0 atom-0 atom-1\" d=\"M 92.5,130.1 L 85.5,136.2\" style=\"fill:none;fill-rule:evenodd;stroke:#000000;stroke-width:2.0px;stroke-linecap:butt;stroke-linejoin:miter;stroke-opacity:1\"/>\n",
       "<path class=\"bond-1 atom-0 atom-21\" d=\"M 111.6,120.6 L 118.7,122.9\" style=\"fill:none;fill-rule:evenodd;stroke:#FF0000;stroke-width:2.0px;stroke-linecap:butt;stroke-linejoin:miter;stroke-opacity:1\"/>\n",
       "<path class=\"bond-1 atom-0 atom-21\" d=\"M 118.7,122.9 L 125.8,125.3\" style=\"fill:none;fill-rule:evenodd;stroke:#000000;stroke-width:2.0px;stroke-linecap:butt;stroke-linejoin:miter;stroke-opacity:1\"/>\n",
       "<path class=\"bond-2 atom-1 atom-2\" d=\"M 85.5,136.2 L 70.5,113.9\" style=\"fill:none;fill-rule:evenodd;stroke:#000000;stroke-width:2.0px;stroke-linecap:butt;stroke-linejoin:miter;stroke-opacity:1\"/>\n",
       "<path class=\"bond-3 atom-1 atom-6\" d=\"M 85.5,136.2 L 69.1,157.4\" style=\"fill:none;fill-rule:evenodd;stroke:#000000;stroke-width:2.0px;stroke-linecap:butt;stroke-linejoin:miter;stroke-opacity:1\"/>\n",
       "<path class=\"bond-4 atom-1 atom-22\" d=\"M 85.5,136.2 L 95.0,140.5 L 92.7,143.7 Z\" style=\"fill:#000000;fill-rule:evenodd;fill-opacity:1;stroke:#000000;stroke-width:0.5px;stroke-linecap:butt;stroke-linejoin:miter;stroke-opacity:1;\"/>\n",
       "<path class=\"bond-5 atom-2 atom-3\" d=\"M 70.5,113.9 L 67.0,104.9\" style=\"fill:none;fill-rule:evenodd;stroke:#000000;stroke-width:2.0px;stroke-linecap:butt;stroke-linejoin:miter;stroke-opacity:1\"/>\n",
       "<path class=\"bond-5 atom-2 atom-3\" d=\"M 67.0,104.9 L 63.5,95.9\" style=\"fill:none;fill-rule:evenodd;stroke:#FF0000;stroke-width:2.0px;stroke-linecap:butt;stroke-linejoin:miter;stroke-opacity:1\"/>\n",
       "<path class=\"bond-6 atom-2 atom-4\" d=\"M 70.5,113.9 L 44.8,121.3\" style=\"fill:none;fill-rule:evenodd;stroke:#000000;stroke-width:2.0px;stroke-linecap:butt;stroke-linejoin:miter;stroke-opacity:1\"/>\n",
       "<path class=\"bond-7 atom-2 atom-23\" d=\"M 70.5,113.9 L 87.1,102.0 L 89.1,105.5 Z\" style=\"fill:#000000;fill-rule:evenodd;fill-opacity:1;stroke:#000000;stroke-width:0.5px;stroke-linecap:butt;stroke-linejoin:miter;stroke-opacity:1;\"/>\n",
       "<path class=\"bond-8 atom-3 atom-24\" d=\"M 66.2,82.5 L 69.4,78.6\" style=\"fill:none;fill-rule:evenodd;stroke:#FF0000;stroke-width:2.0px;stroke-linecap:butt;stroke-linejoin:miter;stroke-opacity:1\"/>\n",
       "<path class=\"bond-8 atom-3 atom-24\" d=\"M 69.4,78.6 L 72.5,74.7\" style=\"fill:none;fill-rule:evenodd;stroke:#000000;stroke-width:2.0px;stroke-linecap:butt;stroke-linejoin:miter;stroke-opacity:1\"/>\n",
       "<path class=\"bond-9 atom-4 atom-5\" d=\"M 44.8,121.3 L 44.4,131.4\" style=\"fill:none;fill-rule:evenodd;stroke:#000000;stroke-width:2.0px;stroke-linecap:butt;stroke-linejoin:miter;stroke-opacity:1\"/>\n",
       "<path class=\"bond-9 atom-4 atom-5\" d=\"M 44.4,131.4 L 44.0,141.5\" style=\"fill:none;fill-rule:evenodd;stroke:#FF0000;stroke-width:2.0px;stroke-linecap:butt;stroke-linejoin:miter;stroke-opacity:1\"/>\n",
       "<path class=\"bond-10 atom-4 atom-25\" d=\"M 44.8,121.3 L 23.4,122.7\" style=\"fill:none;fill-rule:evenodd;stroke:#000000;stroke-width:2.0px;stroke-linecap:butt;stroke-linejoin:miter;stroke-opacity:1\"/>\n",
       "<path class=\"bond-11 atom-4 atom-43\" d=\"M 44.8,121.3 L 41.2,101.3\" style=\"fill:none;fill-rule:evenodd;stroke:#000000;stroke-width:2.0px;stroke-linecap:butt;stroke-linejoin:miter;stroke-opacity:1\"/>\n",
       "<path class=\"bond-12 atom-5 atom-6\" d=\"M 49.9,150.4 L 59.5,153.9\" style=\"fill:none;fill-rule:evenodd;stroke:#FF0000;stroke-width:2.0px;stroke-linecap:butt;stroke-linejoin:miter;stroke-opacity:1\"/>\n",
       "<path class=\"bond-12 atom-5 atom-6\" d=\"M 59.5,153.9 L 69.1,157.4\" style=\"fill:none;fill-rule:evenodd;stroke:#000000;stroke-width:2.0px;stroke-linecap:butt;stroke-linejoin:miter;stroke-opacity:1\"/>\n",
       "<path class=\"bond-13 atom-6 atom-7\" d=\"M 69.1,157.4 L 96.0,174.0\" style=\"fill:none;fill-rule:evenodd;stroke:#000000;stroke-width:2.0px;stroke-linecap:butt;stroke-linejoin:miter;stroke-opacity:1\"/>\n",
       "<path class=\"bond-14 atom-6 atom-26\" d=\"M 67.7,160.9 L 67.0,160.6\" style=\"fill:none;fill-rule:evenodd;stroke:#000000;stroke-width:1.0px;stroke-linecap:butt;stroke-linejoin:miter;stroke-opacity:1\"/>\n",
       "<path class=\"bond-14 atom-6 atom-26\" d=\"M 66.4,164.4 L 65.0,163.7\" style=\"fill:none;fill-rule:evenodd;stroke:#000000;stroke-width:1.0px;stroke-linecap:butt;stroke-linejoin:miter;stroke-opacity:1\"/>\n",
       "<path class=\"bond-14 atom-6 atom-26\" d=\"M 65.1,167.9 L 62.9,166.8\" style=\"fill:none;fill-rule:evenodd;stroke:#000000;stroke-width:1.0px;stroke-linecap:butt;stroke-linejoin:miter;stroke-opacity:1\"/>\n",
       "<path class=\"bond-14 atom-6 atom-26\" d=\"M 63.7,171.4 L 60.9,169.9\" style=\"fill:none;fill-rule:evenodd;stroke:#000000;stroke-width:1.0px;stroke-linecap:butt;stroke-linejoin:miter;stroke-opacity:1\"/>\n",
       "<path class=\"bond-14 atom-6 atom-26\" d=\"M 62.4,174.9 L 58.8,173.1\" style=\"fill:none;fill-rule:evenodd;stroke:#000000;stroke-width:1.0px;stroke-linecap:butt;stroke-linejoin:miter;stroke-opacity:1\"/>\n",
       "<path class=\"bond-15 atom-7 atom-8\" d=\"M 96.0,174.0 L 106.8,167.4\" style=\"fill:none;fill-rule:evenodd;stroke:#000000;stroke-width:2.0px;stroke-linecap:butt;stroke-linejoin:miter;stroke-opacity:1\"/>\n",
       "<path class=\"bond-15 atom-7 atom-8\" d=\"M 106.8,167.4 L 117.6,160.8\" style=\"fill:none;fill-rule:evenodd;stroke:#FF0000;stroke-width:2.0px;stroke-linecap:butt;stroke-linejoin:miter;stroke-opacity:1\"/>\n",
       "<path class=\"bond-16 atom-7 atom-27\" d=\"M 96.0,174.0 L 88.7,192.9\" style=\"fill:none;fill-rule:evenodd;stroke:#000000;stroke-width:2.0px;stroke-linecap:butt;stroke-linejoin:miter;stroke-opacity:1\"/>\n",
       "<path class=\"bond-17 atom-7 atom-28\" d=\"M 96.0,174.0 L 103.6,178.5\" style=\"fill:none;fill-rule:evenodd;stroke:#000000;stroke-width:2.0px;stroke-linecap:butt;stroke-linejoin:miter;stroke-opacity:1\"/>\n",
       "<path class=\"bond-18 atom-8 atom-9\" d=\"M 129.8,160.6 L 134.8,163.6\" style=\"fill:none;fill-rule:evenodd;stroke:#FF0000;stroke-width:2.0px;stroke-linecap:butt;stroke-linejoin:miter;stroke-opacity:1\"/>\n",
       "<path class=\"bond-18 atom-8 atom-9\" d=\"M 134.8,163.6 L 139.9,166.6\" style=\"fill:none;fill-rule:evenodd;stroke:#CCCC00;stroke-width:2.0px;stroke-linecap:butt;stroke-linejoin:miter;stroke-opacity:1\"/>\n",
       "<path class=\"bond-19 atom-9 atom-10\" d=\"M 143.4,176.1 L 141.4,190.7\" style=\"fill:none;fill-rule:evenodd;stroke:#CCCC00;stroke-width:2.0px;stroke-linecap:butt;stroke-linejoin:miter;stroke-opacity:1\"/>\n",
       "<path class=\"bond-19 atom-9 atom-10\" d=\"M 141.4,190.7 L 139.3,205.4\" style=\"fill:none;fill-rule:evenodd;stroke:#000000;stroke-width:2.0px;stroke-linecap:butt;stroke-linejoin:miter;stroke-opacity:1\"/>\n",
       "<path class=\"bond-20 atom-9 atom-11\" d=\"M 155.4,162.6 L 161.2,159.1\" style=\"fill:none;fill-rule:evenodd;stroke:#CCCC00;stroke-width:2.0px;stroke-linecap:butt;stroke-linejoin:miter;stroke-opacity:1\"/>\n",
       "<path class=\"bond-20 atom-9 atom-11\" d=\"M 161.2,159.1 L 167.0,155.6\" style=\"fill:none;fill-rule:evenodd;stroke:#000000;stroke-width:2.0px;stroke-linecap:butt;stroke-linejoin:miter;stroke-opacity:1\"/>\n",
       "<path class=\"bond-21 atom-10 atom-29\" d=\"M 139.3,205.4 L 126.7,198.2\" style=\"fill:none;fill-rule:evenodd;stroke:#000000;stroke-width:2.0px;stroke-linecap:butt;stroke-linejoin:miter;stroke-opacity:1\"/>\n",
       "<path class=\"bond-22 atom-10 atom-30\" d=\"M 139.3,205.4 L 127.2,217.7\" style=\"fill:none;fill-rule:evenodd;stroke:#000000;stroke-width:2.0px;stroke-linecap:butt;stroke-linejoin:miter;stroke-opacity:1\"/>\n",
       "<path class=\"bond-23 atom-10 atom-31\" d=\"M 139.3,205.4 L 157.0,214.9\" style=\"fill:none;fill-rule:evenodd;stroke:#000000;stroke-width:2.0px;stroke-linecap:butt;stroke-linejoin:miter;stroke-opacity:1\"/>\n",
       "<path class=\"bond-24 atom-11 atom-12\" d=\"M 167.0,155.6 L 189.0,167.9\" style=\"fill:none;fill-rule:evenodd;stroke:#000000;stroke-width:2.0px;stroke-linecap:butt;stroke-linejoin:miter;stroke-opacity:1\"/>\n",
       "<path class=\"bond-25 atom-11 atom-32\" d=\"M 167.0,155.6 L 157.0,138.2\" style=\"fill:none;fill-rule:evenodd;stroke:#000000;stroke-width:2.0px;stroke-linecap:butt;stroke-linejoin:miter;stroke-opacity:1\"/>\n",
       "<path class=\"bond-26 atom-11 atom-33\" d=\"M 167.0,155.6 L 176.0,139.3\" style=\"fill:none;fill-rule:evenodd;stroke:#000000;stroke-width:2.0px;stroke-linecap:butt;stroke-linejoin:miter;stroke-opacity:1\"/>\n",
       "<path class=\"bond-27 atom-12 atom-13\" d=\"M 189.0,167.9 L 211.7,154.6\" style=\"fill:none;fill-rule:evenodd;stroke:#000000;stroke-width:2.0px;stroke-linecap:butt;stroke-linejoin:miter;stroke-opacity:1\"/>\n",
       "<path class=\"bond-28 atom-12 atom-34\" d=\"M 189.0,167.9 L 179.4,184.3\" style=\"fill:none;fill-rule:evenodd;stroke:#000000;stroke-width:2.0px;stroke-linecap:butt;stroke-linejoin:miter;stroke-opacity:1\"/>\n",
       "<path class=\"bond-29 atom-12 atom-35\" d=\"M 189.0,167.9 L 198.5,184.4\" style=\"fill:none;fill-rule:evenodd;stroke:#000000;stroke-width:2.0px;stroke-linecap:butt;stroke-linejoin:miter;stroke-opacity:1\"/>\n",
       "<path class=\"bond-30 atom-13 atom-14\" d=\"M 211.7,154.6 L 212.1,127.7\" style=\"fill:none;fill-rule:evenodd;stroke:#000000;stroke-width:2.0px;stroke-linecap:butt;stroke-linejoin:miter;stroke-opacity:1\"/>\n",
       "<path class=\"bond-30 atom-13 atom-14\" d=\"M 215.8,152.3 L 216.1,130.0\" style=\"fill:none;fill-rule:evenodd;stroke:#000000;stroke-width:2.0px;stroke-linecap:butt;stroke-linejoin:miter;stroke-opacity:1\"/>\n",
       "<path class=\"bond-31 atom-13 atom-18\" d=\"M 211.7,154.6 L 234.8,168.3\" style=\"fill:none;fill-rule:evenodd;stroke:#000000;stroke-width:2.0px;stroke-linecap:butt;stroke-linejoin:miter;stroke-opacity:1\"/>\n",
       "<path class=\"bond-32 atom-14 atom-15\" d=\"M 212.1,127.7 L 235.5,114.5\" style=\"fill:none;fill-rule:evenodd;stroke:#000000;stroke-width:2.0px;stroke-linecap:butt;stroke-linejoin:miter;stroke-opacity:1\"/>\n",
       "<path class=\"bond-33 atom-14 atom-36\" d=\"M 212.1,127.7 L 194.7,116.8\" style=\"fill:none;fill-rule:evenodd;stroke:#000000;stroke-width:2.0px;stroke-linecap:butt;stroke-linejoin:miter;stroke-opacity:1\"/>\n",
       "<path class=\"bond-34 atom-15 atom-16\" d=\"M 235.5,114.5 L 258.5,128.3\" style=\"fill:none;fill-rule:evenodd;stroke:#000000;stroke-width:2.0px;stroke-linecap:butt;stroke-linejoin:miter;stroke-opacity:1\"/>\n",
       "<path class=\"bond-34 atom-15 atom-16\" d=\"M 235.4,119.1 L 254.5,130.6\" style=\"fill:none;fill-rule:evenodd;stroke:#000000;stroke-width:2.0px;stroke-linecap:butt;stroke-linejoin:miter;stroke-opacity:1\"/>\n",
       "<path class=\"bond-35 atom-15 atom-37\" d=\"M 235.5,114.5 L 235.7,94.3\" style=\"fill:none;fill-rule:evenodd;stroke:#000000;stroke-width:2.0px;stroke-linecap:butt;stroke-linejoin:miter;stroke-opacity:1\"/>\n",
       "<path class=\"bond-36 atom-16 atom-17\" d=\"M 258.5,128.3 L 258.2,155.2\" style=\"fill:none;fill-rule:evenodd;stroke:#000000;stroke-width:2.0px;stroke-linecap:butt;stroke-linejoin:miter;stroke-opacity:1\"/>\n",
       "<path class=\"bond-37 atom-16 atom-38\" d=\"M 258.5,128.3 L 276.6,118.2\" style=\"fill:none;fill-rule:evenodd;stroke:#000000;stroke-width:2.0px;stroke-linecap:butt;stroke-linejoin:miter;stroke-opacity:1\"/>\n",
       "<path class=\"bond-38 atom-17 atom-18\" d=\"M 258.2,155.2 L 234.8,168.3\" style=\"fill:none;fill-rule:evenodd;stroke:#000000;stroke-width:2.0px;stroke-linecap:butt;stroke-linejoin:miter;stroke-opacity:1\"/>\n",
       "<path class=\"bond-38 atom-17 atom-18\" d=\"M 254.2,152.9 L 234.9,163.7\" style=\"fill:none;fill-rule:evenodd;stroke:#000000;stroke-width:2.0px;stroke-linecap:butt;stroke-linejoin:miter;stroke-opacity:1\"/>\n",
       "<path class=\"bond-39 atom-17 atom-39\" d=\"M 258.2,155.2 L 275.9,165.7\" style=\"fill:none;fill-rule:evenodd;stroke:#000000;stroke-width:2.0px;stroke-linecap:butt;stroke-linejoin:miter;stroke-opacity:1\"/>\n",
       "<path class=\"bond-40 atom-18 atom-19\" d=\"M 234.8,168.3 L 234.8,178.4\" style=\"fill:none;fill-rule:evenodd;stroke:#000000;stroke-width:2.0px;stroke-linecap:butt;stroke-linejoin:miter;stroke-opacity:1\"/>\n",
       "<path class=\"bond-40 atom-18 atom-19\" d=\"M 234.8,178.4 L 234.7,188.5\" style=\"fill:none;fill-rule:evenodd;stroke:#FF0000;stroke-width:2.0px;stroke-linecap:butt;stroke-linejoin:miter;stroke-opacity:1\"/>\n",
       "<path class=\"bond-41 atom-19 atom-20\" d=\"M 240.8,198.7 L 249.4,203.6\" style=\"fill:none;fill-rule:evenodd;stroke:#FF0000;stroke-width:2.0px;stroke-linecap:butt;stroke-linejoin:miter;stroke-opacity:1\"/>\n",
       "<path class=\"bond-41 atom-19 atom-20\" d=\"M 249.4,203.6 L 258.0,208.6\" style=\"fill:none;fill-rule:evenodd;stroke:#000000;stroke-width:2.0px;stroke-linecap:butt;stroke-linejoin:miter;stroke-opacity:1\"/>\n",
       "<path class=\"bond-42 atom-20 atom-40\" d=\"M 258.0,208.6 L 248.5,225.3\" style=\"fill:none;fill-rule:evenodd;stroke:#000000;stroke-width:2.0px;stroke-linecap:butt;stroke-linejoin:miter;stroke-opacity:1\"/>\n",
       "<path class=\"bond-43 atom-20 atom-41\" d=\"M 258.0,208.6 L 267.7,225.2\" style=\"fill:none;fill-rule:evenodd;stroke:#000000;stroke-width:2.0px;stroke-linecap:butt;stroke-linejoin:miter;stroke-opacity:1\"/>\n",
       "<path class=\"bond-44 atom-20 atom-42\" d=\"M 258.0,208.6 L 275.9,198.2\" style=\"fill:none;fill-rule:evenodd;stroke:#000000;stroke-width:2.0px;stroke-linecap:butt;stroke-linejoin:miter;stroke-opacity:1\"/>\n",
       "<path class=\"atom-0\" d=\"M 100.2 118.6 Q 100.2 115.8, 101.6 114.3 Q 103.0 112.8, 105.5 112.8 Q 108.0 112.8, 109.4 114.3 Q 110.7 115.8, 110.7 118.6 Q 110.7 121.3, 109.3 122.9 Q 108.0 124.5, 105.5 124.5 Q 103.0 124.5, 101.6 122.9 Q 100.2 121.4, 100.2 118.6 M 105.5 123.2 Q 107.2 123.2, 108.1 122.0 Q 109.1 120.9, 109.1 118.6 Q 109.1 116.3, 108.1 115.2 Q 107.2 114.1, 105.5 114.1 Q 103.7 114.1, 102.8 115.2 Q 101.9 116.3, 101.9 118.6 Q 101.9 120.9, 102.8 122.0 Q 103.7 123.2, 105.5 123.2 \" fill=\"#FF0000\"/>\n",
       "<path class=\"atom-3\" d=\"M 55.6 89.2 Q 55.6 86.4, 56.9 84.9 Q 58.3 83.4, 60.8 83.4 Q 63.3 83.4, 64.7 84.9 Q 66.0 86.4, 66.0 89.2 Q 66.0 91.9, 64.7 93.5 Q 63.3 95.1, 60.8 95.1 Q 58.3 95.1, 56.9 93.5 Q 55.6 91.9, 55.6 89.2 M 60.8 93.8 Q 62.5 93.8, 63.5 92.6 Q 64.4 91.4, 64.4 89.2 Q 64.4 86.9, 63.5 85.8 Q 62.5 84.7, 60.8 84.7 Q 59.0 84.7, 58.1 85.8 Q 57.2 86.9, 57.2 89.2 Q 57.2 91.5, 58.1 92.6 Q 59.0 93.8, 60.8 93.8 \" fill=\"#FF0000\"/>\n",
       "<path class=\"atom-5\" d=\"M 38.5 148.2 Q 38.5 145.5, 39.9 143.9 Q 41.2 142.4, 43.8 142.4 Q 46.3 142.4, 47.6 143.9 Q 49.0 145.5, 49.0 148.2 Q 49.0 151.0, 47.6 152.6 Q 46.3 154.1, 43.8 154.1 Q 41.3 154.1, 39.9 152.6 Q 38.5 151.0, 38.5 148.2 M 43.8 152.8 Q 45.5 152.8, 46.4 151.7 Q 47.4 150.5, 47.4 148.2 Q 47.4 146.0, 46.4 144.8 Q 45.5 143.7, 43.8 143.7 Q 42.0 143.7, 41.1 144.8 Q 40.1 146.0, 40.1 148.2 Q 40.1 150.5, 41.1 151.7 Q 42.0 152.8, 43.8 152.8 \" fill=\"#FF0000\"/>\n",
       "<path class=\"atom-8\" d=\"M 118.4 157.1 Q 118.4 154.3, 119.8 152.8 Q 121.1 151.3, 123.7 151.3 Q 126.2 151.3, 127.5 152.8 Q 128.9 154.3, 128.9 157.1 Q 128.9 159.8, 127.5 161.4 Q 126.2 163.0, 123.7 163.0 Q 121.2 163.0, 119.8 161.4 Q 118.4 159.8, 118.4 157.1 M 123.7 161.7 Q 125.4 161.7, 126.3 160.5 Q 127.3 159.3, 127.3 157.1 Q 127.3 154.8, 126.3 153.7 Q 125.4 152.6, 123.7 152.6 Q 121.9 152.6, 121.0 153.7 Q 120.0 154.8, 120.0 157.1 Q 120.0 159.4, 121.0 160.5 Q 121.9 161.7, 123.7 161.7 \" fill=\"#FF0000\"/>\n",
       "<path class=\"atom-9\" d=\"M 141.2 173.1 Q 141.3 173.2, 141.8 173.4 Q 142.4 173.6, 142.9 173.8 Q 143.5 173.9, 144.1 173.9 Q 145.2 173.9, 145.8 173.4 Q 146.4 172.9, 146.4 171.9 Q 146.4 171.3, 146.1 170.9 Q 145.8 170.5, 145.3 170.3 Q 144.9 170.1, 144.0 169.9 Q 143.0 169.6, 142.4 169.3 Q 141.8 169.0, 141.4 168.4 Q 141.0 167.8, 141.0 166.7 Q 141.0 165.3, 141.9 164.4 Q 142.9 163.5, 144.9 163.5 Q 146.2 163.5, 147.7 164.2 L 147.3 165.4 Q 145.9 164.8, 144.9 164.8 Q 143.8 164.8, 143.2 165.3 Q 142.6 165.8, 142.6 166.5 Q 142.6 167.2, 142.9 167.5 Q 143.2 167.9, 143.7 168.1 Q 144.1 168.3, 144.9 168.6 Q 145.9 168.9, 146.5 169.2 Q 147.2 169.5, 147.6 170.2 Q 148.0 170.8, 148.0 171.9 Q 148.0 173.5, 147.0 174.4 Q 145.9 175.2, 144.2 175.2 Q 143.2 175.2, 142.4 175.0 Q 141.6 174.8, 140.7 174.4 L 141.2 173.1 \" fill=\"#CCCC00\"/>\n",
       "<path class=\"atom-9\" d=\"M 149.5 165.4 L 151.5 165.4 L 151.5 163.3 L 152.4 163.3 L 152.4 165.4 L 154.5 165.4 L 154.5 166.2 L 152.4 166.2 L 152.4 168.3 L 151.5 168.3 L 151.5 166.2 L 149.5 166.2 L 149.5 165.4 \" fill=\"#CCCC00\"/>\n",
       "<path class=\"atom-19\" d=\"M 229.4 195.2 Q 229.4 192.5, 230.8 190.9 Q 232.1 189.4, 234.7 189.4 Q 237.2 189.4, 238.5 190.9 Q 239.9 192.5, 239.9 195.2 Q 239.9 198.0, 238.5 199.5 Q 237.2 201.1, 234.7 201.1 Q 232.2 201.1, 230.8 199.5 Q 229.4 198.0, 229.4 195.2 M 234.7 199.8 Q 236.4 199.8, 237.3 198.7 Q 238.3 197.5, 238.3 195.2 Q 238.3 193.0, 237.3 191.8 Q 236.4 190.7, 234.7 190.7 Q 232.9 190.7, 232.0 191.8 Q 231.0 192.9, 231.0 195.2 Q 231.0 197.5, 232.0 198.7 Q 232.9 199.8, 234.7 199.8 \" fill=\"#FF0000\"/>\n",
       "<path class=\"atom-21\" d=\"M 126.6 121.3 L 128.2 121.3 L 128.2 126.2 L 134.0 126.2 L 134.0 121.3 L 135.6 121.3 L 135.6 132.7 L 134.0 132.7 L 134.0 127.5 L 128.2 127.5 L 128.2 132.7 L 126.6 132.7 L 126.6 121.3 \" fill=\"#000000\"/>\n",
       "<path class=\"atom-22\" d=\"M 95.6 140.8 L 97.2 140.8 L 97.2 145.6 L 103.0 145.6 L 103.0 140.8 L 104.5 140.8 L 104.5 152.2 L 103.0 152.2 L 103.0 146.9 L 97.2 146.9 L 97.2 152.2 L 95.6 152.2 L 95.6 140.8 \" fill=\"#000000\"/>\n",
       "<path class=\"atom-23\" d=\"M 89.8 94.5 L 91.4 94.5 L 91.4 99.3 L 97.2 99.3 L 97.2 94.5 L 98.7 94.5 L 98.7 105.9 L 97.2 105.9 L 97.2 100.6 L 91.4 100.6 L 91.4 105.9 L 89.8 105.9 L 89.8 94.5 \" fill=\"#000000\"/>\n",
       "<path class=\"atom-24\" d=\"M 73.4 62.4 L 74.9 62.4 L 74.9 67.3 L 80.8 67.3 L 80.8 62.4 L 82.3 62.4 L 82.3 73.8 L 80.8 73.8 L 80.8 68.6 L 74.9 68.6 L 74.9 73.8 L 73.4 73.8 L 73.4 62.4 \" fill=\"#000000\"/>\n",
       "<path class=\"atom-25\" d=\"M 13.6 117.3 L 15.2 117.3 L 15.2 122.2 L 21.0 122.2 L 21.0 117.3 L 22.6 117.3 L 22.6 128.7 L 21.0 128.7 L 21.0 123.4 L 15.2 123.4 L 15.2 128.7 L 13.6 128.7 L 13.6 117.3 \" fill=\"#000000\"/>\n",
       "<path class=\"atom-26\" d=\"M 52.3 175.7 L 53.9 175.7 L 53.9 180.6 L 59.7 180.6 L 59.7 175.7 L 61.3 175.7 L 61.3 187.1 L 59.7 187.1 L 59.7 181.9 L 53.9 181.9 L 53.9 187.1 L 52.3 187.1 L 52.3 175.7 \" fill=\"#000000\"/>\n",
       "<path class=\"atom-27\" d=\"M 81.7 193.7 L 83.2 193.7 L 83.2 198.6 L 89.1 198.6 L 89.1 193.7 L 90.6 193.7 L 90.6 205.1 L 89.1 205.1 L 89.1 199.9 L 83.2 199.9 L 83.2 205.1 L 81.7 205.1 L 81.7 193.7 \" fill=\"#000000\"/>\n",
       "<path class=\"atom-28\" d=\"M 104.5 175.9 L 106.0 175.9 L 106.0 180.7 L 111.9 180.7 L 111.9 175.9 L 113.4 175.9 L 113.4 187.3 L 111.9 187.3 L 111.9 182.0 L 106.0 182.0 L 106.0 187.3 L 104.5 187.3 L 104.5 175.9 \" fill=\"#000000\"/>\n",
       "<path class=\"atom-29\" d=\"M 116.9 189.5 L 118.5 189.5 L 118.5 194.3 L 124.3 194.3 L 124.3 189.5 L 125.8 189.5 L 125.8 200.9 L 124.3 200.9 L 124.3 195.6 L 118.5 195.6 L 118.5 200.9 L 116.9 200.9 L 116.9 189.5 \" fill=\"#000000\"/>\n",
       "<path class=\"atom-30\" d=\"M 117.4 217.5 L 119.0 217.5 L 119.0 222.4 L 124.8 222.4 L 124.8 217.5 L 126.3 217.5 L 126.3 228.9 L 124.8 228.9 L 124.8 223.6 L 119.0 223.6 L 119.0 228.9 L 117.4 228.9 L 117.4 217.5 \" fill=\"#000000\"/>\n",
       "<path class=\"atom-31\" d=\"M 157.9 212.1 L 159.4 212.1 L 159.4 217.0 L 165.3 217.0 L 165.3 212.1 L 166.8 212.1 L 166.8 223.5 L 165.3 223.5 L 165.3 218.3 L 159.4 218.3 L 159.4 223.5 L 157.9 223.5 L 157.9 212.1 \" fill=\"#000000\"/>\n",
       "<path class=\"atom-32\" d=\"M 148.7 125.9 L 150.3 125.9 L 150.3 130.7 L 156.1 130.7 L 156.1 125.9 L 157.7 125.9 L 157.7 137.3 L 156.1 137.3 L 156.1 132.0 L 150.3 132.0 L 150.3 137.3 L 148.7 137.3 L 148.7 125.9 \" fill=\"#000000\"/>\n",
       "<path class=\"atom-33\" d=\"M 175.2 127.0 L 176.7 127.0 L 176.7 131.8 L 182.6 131.8 L 182.6 127.0 L 184.1 127.0 L 184.1 138.4 L 182.6 138.4 L 182.6 133.1 L 176.7 133.1 L 176.7 138.4 L 175.2 138.4 L 175.2 127.0 \" fill=\"#000000\"/>\n",
       "<path class=\"atom-34\" d=\"M 171.0 185.2 L 172.6 185.2 L 172.6 190.0 L 178.4 190.0 L 178.4 185.2 L 179.9 185.2 L 179.9 196.6 L 178.4 196.6 L 178.4 191.3 L 172.6 191.3 L 172.6 196.6 L 171.0 196.6 L 171.0 185.2 \" fill=\"#000000\"/>\n",
       "<path class=\"atom-35\" d=\"M 197.8 185.3 L 199.3 185.3 L 199.3 190.2 L 205.2 190.2 L 205.2 185.3 L 206.7 185.3 L 206.7 196.7 L 205.2 196.7 L 205.2 191.4 L 199.3 191.4 L 199.3 196.7 L 197.8 196.7 L 197.8 185.3 \" fill=\"#000000\"/>\n",
       "<path class=\"atom-36\" d=\"M 184.9 107.7 L 186.4 107.7 L 186.4 112.6 L 192.3 112.6 L 192.3 107.7 L 193.8 107.7 L 193.8 119.1 L 192.3 119.1 L 192.3 113.9 L 186.4 113.9 L 186.4 119.1 L 184.9 119.1 L 184.9 107.7 \" fill=\"#000000\"/>\n",
       "<path class=\"atom-37\" d=\"M 231.4 82.0 L 232.9 82.0 L 232.9 86.9 L 238.7 86.9 L 238.7 82.0 L 240.3 82.0 L 240.3 93.4 L 238.7 93.4 L 238.7 88.2 L 232.9 88.2 L 232.9 93.4 L 231.4 93.4 L 231.4 82.0 \" fill=\"#000000\"/>\n",
       "<path class=\"atom-38\" d=\"M 277.4 109.5 L 279.0 109.5 L 279.0 114.4 L 284.8 114.4 L 284.8 109.5 L 286.4 109.5 L 286.4 120.9 L 284.8 120.9 L 284.8 115.6 L 279.0 115.6 L 279.0 120.9 L 277.4 120.9 L 277.4 109.5 \" fill=\"#000000\"/>\n",
       "<path class=\"atom-39\" d=\"M 276.8 163.2 L 278.3 163.2 L 278.3 168.0 L 284.2 168.0 L 284.2 163.2 L 285.7 163.2 L 285.7 174.6 L 284.2 174.6 L 284.2 169.3 L 278.3 169.3 L 278.3 174.6 L 276.8 174.6 L 276.8 163.2 \" fill=\"#000000\"/>\n",
       "<path class=\"atom-40\" d=\"M 240.2 226.2 L 241.8 226.2 L 241.8 231.0 L 247.6 231.0 L 247.6 226.2 L 249.2 226.2 L 249.2 237.6 L 247.6 237.6 L 247.6 232.3 L 241.8 232.3 L 241.8 237.6 L 240.2 237.6 L 240.2 226.2 \" fill=\"#000000\"/>\n",
       "<path class=\"atom-41\" d=\"M 267.1 226.1 L 268.6 226.1 L 268.6 230.9 L 274.4 230.9 L 274.4 226.1 L 276.0 226.1 L 276.0 237.5 L 274.4 237.5 L 274.4 232.2 L 268.6 232.2 L 268.6 237.5 L 267.1 237.5 L 267.1 226.1 \" fill=\"#000000\"/>\n",
       "<path class=\"atom-42\" d=\"M 276.8 189.4 L 278.4 189.4 L 278.4 194.3 L 284.2 194.3 L 284.2 189.4 L 285.7 189.4 L 285.7 200.8 L 284.2 200.8 L 284.2 195.6 L 278.4 195.6 L 278.4 200.8 L 276.8 200.8 L 276.8 189.4 \" fill=\"#000000\"/>\n",
       "<path class=\"atom-43\" d=\"M 35.6 89.0 L 37.1 89.0 L 37.1 93.9 L 43.0 93.9 L 43.0 89.0 L 44.5 89.0 L 44.5 100.4 L 43.0 100.4 L 43.0 95.2 L 37.1 95.2 L 37.1 100.4 L 35.6 100.4 L 35.6 89.0 \" fill=\"#000000\"/>\n",
       "</svg>"
      ],
      "text/plain": [
       "<IPython.core.display.SVG object>"
      ]
     },
     "metadata": {},
     "output_type": "display_data"
    },
    {
     "name": "stdin",
     "output_type": "stream",
     "text": [
      " t144j [H:28][C:1]([C:2]([C:3](/[N:4]=[S:5](\\[N:6]([C:7]([C:8]([C:9]([H:27])([H:22])[H:23])([H:20])[H:21])([H:18])[H:19])[H:17])[C:10]([H:24])([H:25])[H:26])([H:15])[H:16])([H:13])[H:14])([H:11])[H:12] (6, 5, 4, 9)\n"
     ]
    },
    {
     "name": "stdout",
     "output_type": "stream",
     "text": [
      "['t82g', 't83g', 't80', 't80', 't80', 't80', 't17', 't17', 't17', 't45', 't45', 't86', 't86', 't1', 't1', 't1', 't80', 't45', 't45', 't1', 't4', 't4', 't18', 't70', 't4', 't4', 't154h', 't154h', 't1', 't1', 't143j', 't143j', 't118h', 't118h', 't118h', 't70', 't70', 't51', 't51', 't51', 't118h', 't118h', 't118h', 't1', 't1', 't1', 't146j', 't1', 't4', 't4', 't51', 't64', 't64', 't4', 't4', 't74g', 't74g', 't64', 't64', 't64', 't1', 't1', 't84g', 't44', 't44', 't17', 't17', 't64', 't64', 't66', 't64', 't64', 't85', 't84g', 't44', 't44', 't74g', 't44', 't44', 't44', 't44', 't85', 't44', 't44', 't44', 't44', 't74g', 't44', 't64', 't64', 't44', 't44', 't44', 't44', 't44', 't44', 't44', 't44', 't17', 't17', 't44', 't44', 't44', 't44', 't44', 't44', 't44', 't44', 't44', 't44', 't44', 't44', 't44', 't17', 't17', 't44', 't144j', 't20', 't20', 't80', 't80', 't3', 't3', 't3', 't3', 't3', 't3', 't3', 't3', 't51', 't51', 't3', 't3', 't3', 't3', 't3', 't3', 't3', 't3', 't44', 't44', 't44', 't44', 't44', 't80']\n"
     ]
    },
    {
     "data": {
      "image/svg+xml": [
       "<svg xmlns=\"http://www.w3.org/2000/svg\" xmlns:rdkit=\"http://www.rdkit.org/xml\" xmlns:xlink=\"http://www.w3.org/1999/xlink\" version=\"1.1\" baseProfile=\"full\" xml:space=\"preserve\" width=\"300px\" height=\"300px\" viewBox=\"0 0 300 300\">\n",
       "<!-- END OF HEADER -->\n",
       "<rect style=\"opacity:1.0;fill:#FFFFFF;stroke:none\" width=\"300.0\" height=\"300.0\" x=\"0.0\" y=\"0.0\"> </rect>\n",
       "<path class=\"bond-11 atom-4 atom-5\" d=\"M 107.0,175.6 L 154.9,205.0 L 157.4,221.8 L 106.8,190.7 Z\" style=\"fill:#FF7F7F;fill-rule:evenodd;fill-opacity:1;stroke:#FF7F7F;stroke-width:0.0px;stroke-linecap:butt;stroke-linejoin:miter;stroke-opacity:1;\"/>\n",
       "<path class=\"bond-12 atom-4 atom-9\" d=\"M 107.0,175.6 L 106.8,190.7 L 75.6,208.8 L 69.1,197.5 Z\" style=\"fill:#FF7F7F;fill-rule:evenodd;fill-opacity:1;stroke:#FF7F7F;stroke-width:0.0px;stroke-linecap:butt;stroke-linejoin:miter;stroke-opacity:1;\"/>\n",
       "<path class=\"bond-13 atom-5 atom-6\" d=\"M 187.5,168.3 L 197.2,177.0 L 157.4,221.8 L 154.9,205.0 Z\" style=\"fill:#FF7F7F;fill-rule:evenodd;fill-opacity:1;stroke:#FF7F7F;stroke-width:0.0px;stroke-linecap:butt;stroke-linejoin:miter;stroke-opacity:1;\"/>\n",
       "<ellipse cx=\"106.9\" cy=\"183.4\" rx=\"12.2\" ry=\"12.5\" class=\"atom-4\" style=\"fill:#FF7F7F;fill-rule:evenodd;stroke:#FF7F7F;stroke-width:1.0px;stroke-linecap:butt;stroke-linejoin:miter;stroke-opacity:1\"/>\n",
       "<ellipse cx=\"156.1\" cy=\"213.4\" rx=\"12.2\" ry=\"12.2\" class=\"atom-5\" style=\"fill:#FF7F7F;fill-rule:evenodd;stroke:#FF7F7F;stroke-width:1.0px;stroke-linecap:butt;stroke-linejoin:miter;stroke-opacity:1\"/>\n",
       "<ellipse cx=\"192.3\" cy=\"172.7\" rx=\"12.2\" ry=\"12.2\" class=\"atom-6\" style=\"fill:#FF7F7F;fill-rule:evenodd;stroke:#FF7F7F;stroke-width:1.0px;stroke-linecap:butt;stroke-linejoin:miter;stroke-opacity:1\"/>\n",
       "<ellipse cx=\"72.4\" cy=\"203.1\" rx=\"12.2\" ry=\"12.2\" class=\"atom-9\" style=\"fill:#FF7F7F;fill-rule:evenodd;stroke:#FF7F7F;stroke-width:1.0px;stroke-linecap:butt;stroke-linejoin:miter;stroke-opacity:1\"/>\n",
       "<path class=\"bond-0 atom-0 atom-1\" d=\"M 114.4,59.0 L 155.9,76.5\" style=\"fill:none;fill-rule:evenodd;stroke:#000000;stroke-width:2.0px;stroke-linecap:butt;stroke-linejoin:miter;stroke-opacity:1\"/>\n",
       "<path class=\"bond-1 atom-0 atom-10\" d=\"M 114.4,59.0 L 125.7,32.3\" style=\"fill:none;fill-rule:evenodd;stroke:#000000;stroke-width:2.0px;stroke-linecap:butt;stroke-linejoin:miter;stroke-opacity:1\"/>\n",
       "<path class=\"bond-2 atom-0 atom-11\" d=\"M 114.4,59.0 L 97.3,35.8\" style=\"fill:none;fill-rule:evenodd;stroke:#000000;stroke-width:2.0px;stroke-linecap:butt;stroke-linejoin:miter;stroke-opacity:1\"/>\n",
       "<path class=\"bond-3 atom-0 atom-27\" d=\"M 114.4,59.0 L 88.1,77.3\" style=\"fill:none;fill-rule:evenodd;stroke:#000000;stroke-width:2.0px;stroke-linecap:butt;stroke-linejoin:miter;stroke-opacity:1\"/>\n",
       "<path class=\"bond-4 atom-1 atom-2\" d=\"M 155.9,76.5 L 158.9,114.8\" style=\"fill:none;fill-rule:evenodd;stroke:#000000;stroke-width:2.0px;stroke-linecap:butt;stroke-linejoin:miter;stroke-opacity:1\"/>\n",
       "<path class=\"bond-5 atom-1 atom-12\" d=\"M 155.9,76.5 L 185.8,74.1\" style=\"fill:none;fill-rule:evenodd;stroke:#000000;stroke-width:2.0px;stroke-linecap:butt;stroke-linejoin:miter;stroke-opacity:1\"/>\n",
       "<path class=\"bond-6 atom-1 atom-13\" d=\"M 155.9,76.5 L 166.7,50.6\" style=\"fill:none;fill-rule:evenodd;stroke:#000000;stroke-width:2.0px;stroke-linecap:butt;stroke-linejoin:miter;stroke-opacity:1\"/>\n",
       "<path class=\"bond-7 atom-2 atom-3\" d=\"M 158.9,114.8 L 136.2,119.4\" style=\"fill:none;fill-rule:evenodd;stroke:#000000;stroke-width:2.0px;stroke-linecap:butt;stroke-linejoin:miter;stroke-opacity:1\"/>\n",
       "<path class=\"bond-7 atom-2 atom-3\" d=\"M 136.2,119.4 L 113.5,124.0\" style=\"fill:none;fill-rule:evenodd;stroke:#0000FF;stroke-width:2.0px;stroke-linecap:butt;stroke-linejoin:miter;stroke-opacity:1\"/>\n",
       "<path class=\"bond-8 atom-2 atom-14\" d=\"M 158.9,114.8 L 157.2,159.0\" style=\"fill:none;fill-rule:evenodd;stroke:#000000;stroke-width:2.0px;stroke-linecap:butt;stroke-linejoin:miter;stroke-opacity:1\"/>\n",
       "<path class=\"bond-9 atom-2 atom-15\" d=\"M 158.9,114.8 L 181.0,116.4\" style=\"fill:none;fill-rule:evenodd;stroke:#000000;stroke-width:2.0px;stroke-linecap:butt;stroke-linejoin:miter;stroke-opacity:1\"/>\n",
       "<path class=\"bond-10 atom-3 atom-4\" d=\"M 109.0,135.6 L 109.4,154.3\" style=\"fill:none;fill-rule:evenodd;stroke:#0000FF;stroke-width:2.0px;stroke-linecap:butt;stroke-linejoin:miter;stroke-opacity:1\"/>\n",
       "<path class=\"bond-10 atom-3 atom-4\" d=\"M 109.4,154.3 L 109.9,173.0\" style=\"fill:none;fill-rule:evenodd;stroke:#CCCC00;stroke-width:2.0px;stroke-linecap:butt;stroke-linejoin:miter;stroke-opacity:1\"/>\n",
       "<path class=\"bond-10 atom-3 atom-4\" d=\"M 102.6,135.7 L 103.0,154.4\" style=\"fill:none;fill-rule:evenodd;stroke:#0000FF;stroke-width:2.0px;stroke-linecap:butt;stroke-linejoin:miter;stroke-opacity:1\"/>\n",
       "<path class=\"bond-10 atom-3 atom-4\" d=\"M 103.0,154.4 L 103.5,173.2\" style=\"fill:none;fill-rule:evenodd;stroke:#CCCC00;stroke-width:2.0px;stroke-linecap:butt;stroke-linejoin:miter;stroke-opacity:1\"/>\n",
       "<path class=\"bond-11 atom-4 atom-5\" d=\"M 113.9,187.4 L 131.0,198.0\" style=\"fill:none;fill-rule:evenodd;stroke:#CCCC00;stroke-width:2.0px;stroke-linecap:butt;stroke-linejoin:miter;stroke-opacity:1\"/>\n",
       "<path class=\"bond-11 atom-4 atom-5\" d=\"M 131.0,198.0 L 148.1,208.5\" style=\"fill:none;fill-rule:evenodd;stroke:#0000FF;stroke-width:2.0px;stroke-linecap:butt;stroke-linejoin:miter;stroke-opacity:1\"/>\n",
       "<path class=\"bond-12 atom-4 atom-9\" d=\"M 99.9,187.2 L 86.2,195.1\" style=\"fill:none;fill-rule:evenodd;stroke:#CCCC00;stroke-width:2.0px;stroke-linecap:butt;stroke-linejoin:miter;stroke-opacity:1\"/>\n",
       "<path class=\"bond-12 atom-4 atom-9\" d=\"M 86.2,195.1 L 72.4,203.1\" style=\"fill:none;fill-rule:evenodd;stroke:#000000;stroke-width:2.0px;stroke-linecap:butt;stroke-linejoin:miter;stroke-opacity:1\"/>\n",
       "<path class=\"bond-13 atom-5 atom-6\" d=\"M 164.1,204.4 L 178.2,188.6\" style=\"fill:none;fill-rule:evenodd;stroke:#0000FF;stroke-width:2.0px;stroke-linecap:butt;stroke-linejoin:miter;stroke-opacity:1\"/>\n",
       "<path class=\"bond-13 atom-5 atom-6\" d=\"M 178.2,188.6 L 192.3,172.7\" style=\"fill:none;fill-rule:evenodd;stroke:#000000;stroke-width:2.0px;stroke-linecap:butt;stroke-linejoin:miter;stroke-opacity:1\"/>\n",
       "<path class=\"bond-14 atom-5 atom-16\" d=\"M 155.6,223.5 L 155.2,230.7\" style=\"fill:none;fill-rule:evenodd;stroke:#0000FF;stroke-width:2.0px;stroke-linecap:butt;stroke-linejoin:miter;stroke-opacity:1\"/>\n",
       "<path class=\"bond-14 atom-5 atom-16\" d=\"M 155.2,230.7 L 154.8,237.9\" style=\"fill:none;fill-rule:evenodd;stroke:#000000;stroke-width:2.0px;stroke-linecap:butt;stroke-linejoin:miter;stroke-opacity:1\"/>\n",
       "<path class=\"bond-15 atom-6 atom-7\" d=\"M 192.3,172.7 L 224.3,194.8\" style=\"fill:none;fill-rule:evenodd;stroke:#000000;stroke-width:2.0px;stroke-linecap:butt;stroke-linejoin:miter;stroke-opacity:1\"/>\n",
       "<path class=\"bond-16 atom-6 atom-17\" d=\"M 192.3,172.7 L 200.6,155.3\" style=\"fill:none;fill-rule:evenodd;stroke:#000000;stroke-width:2.0px;stroke-linecap:butt;stroke-linejoin:miter;stroke-opacity:1\"/>\n",
       "<path class=\"bond-17 atom-6 atom-18\" d=\"M 192.3,172.7 L 152.4,151.5\" style=\"fill:none;fill-rule:evenodd;stroke:#000000;stroke-width:2.0px;stroke-linecap:butt;stroke-linejoin:miter;stroke-opacity:1\"/>\n",
       "<path class=\"bond-18 atom-7 atom-8\" d=\"M 224.3,194.8 L 219.8,241.2\" style=\"fill:none;fill-rule:evenodd;stroke:#000000;stroke-width:2.0px;stroke-linecap:butt;stroke-linejoin:miter;stroke-opacity:1\"/>\n",
       "<path class=\"bond-19 atom-7 atom-19\" d=\"M 224.3,194.8 L 238.9,173.3\" style=\"fill:none;fill-rule:evenodd;stroke:#000000;stroke-width:2.0px;stroke-linecap:butt;stroke-linejoin:miter;stroke-opacity:1\"/>\n",
       "<path class=\"bond-20 atom-7 atom-20\" d=\"M 224.3,194.8 L 254.6,198.3\" style=\"fill:none;fill-rule:evenodd;stroke:#000000;stroke-width:2.0px;stroke-linecap:butt;stroke-linejoin:miter;stroke-opacity:1\"/>\n",
       "<path class=\"bond-21 atom-8 atom-21\" d=\"M 219.8,241.2 L 250.6,244.0\" style=\"fill:none;fill-rule:evenodd;stroke:#000000;stroke-width:2.0px;stroke-linecap:butt;stroke-linejoin:miter;stroke-opacity:1\"/>\n",
       "<path class=\"bond-22 atom-8 atom-22\" d=\"M 219.8,241.2 L 232.1,267.7\" style=\"fill:none;fill-rule:evenodd;stroke:#000000;stroke-width:2.0px;stroke-linecap:butt;stroke-linejoin:miter;stroke-opacity:1\"/>\n",
       "<path class=\"bond-23 atom-8 atom-26\" d=\"M 219.8,241.2 L 192.2,256.3\" style=\"fill:none;fill-rule:evenodd;stroke:#000000;stroke-width:2.0px;stroke-linecap:butt;stroke-linejoin:miter;stroke-opacity:1\"/>\n",
       "<path class=\"bond-24 atom-9 atom-23\" d=\"M 72.4,203.1 L 87.1,228.2\" style=\"fill:none;fill-rule:evenodd;stroke:#000000;stroke-width:2.0px;stroke-linecap:butt;stroke-linejoin:miter;stroke-opacity:1\"/>\n",
       "<path class=\"bond-25 atom-9 atom-24\" d=\"M 72.4,203.1 L 58.0,228.3\" style=\"fill:none;fill-rule:evenodd;stroke:#000000;stroke-width:2.0px;stroke-linecap:butt;stroke-linejoin:miter;stroke-opacity:1\"/>\n",
       "<path class=\"bond-26 atom-9 atom-25\" d=\"M 72.4,203.1 L 45.4,187.6\" style=\"fill:none;fill-rule:evenodd;stroke:#000000;stroke-width:2.0px;stroke-linecap:butt;stroke-linejoin:miter;stroke-opacity:1\"/>\n",
       "<path class=\"atom-3\" d=\"M 101.7 116.9 L 107.4 126.1 Q 107.9 127.0, 108.8 128.6 Q 109.7 130.3, 109.8 130.4 L 109.8 116.9 L 112.1 116.9 L 112.1 134.2 L 109.7 134.2 L 103.6 124.2 Q 102.9 123.0, 102.2 121.7 Q 101.4 120.3, 101.2 119.9 L 101.2 134.2 L 99.0 134.2 L 99.0 116.9 L 101.7 116.9 \" fill=\"#0000FF\"/>\n",
       "<path class=\"atom-4\" d=\"M 102.0 189.1 Q 102.2 189.1, 103.0 189.5 Q 103.8 189.8, 104.7 190.0 Q 105.6 190.2, 106.5 190.2 Q 108.1 190.2, 109.1 189.5 Q 110.0 188.7, 110.0 187.3 Q 110.0 186.3, 109.5 185.7 Q 109.1 185.1, 108.3 184.8 Q 107.6 184.5, 106.4 184.1 Q 104.9 183.7, 103.9 183.2 Q 103.0 182.8, 102.4 181.9 Q 101.7 180.9, 101.7 179.4 Q 101.7 177.2, 103.2 175.9 Q 104.7 174.5, 107.6 174.5 Q 109.6 174.5, 111.9 175.5 L 111.3 177.3 Q 109.2 176.5, 107.7 176.5 Q 106.0 176.5, 105.1 177.2 Q 104.1 177.9, 104.2 179.1 Q 104.2 180.0, 104.6 180.6 Q 105.1 181.1, 105.8 181.5 Q 106.5 181.8, 107.7 182.1 Q 109.2 182.6, 110.2 183.1 Q 111.1 183.6, 111.8 184.6 Q 112.4 185.6, 112.4 187.3 Q 112.4 189.7, 110.8 190.9 Q 109.2 192.2, 106.6 192.2 Q 105.0 192.2, 103.9 191.9 Q 102.7 191.6, 101.4 191.0 L 102.0 189.1 \" fill=\"#CCCC00\"/>\n",
       "<path class=\"atom-5\" d=\"M 152.3 204.8 L 158.0 213.9 Q 158.5 214.8, 159.4 216.5 Q 160.3 218.1, 160.4 218.2 L 160.4 204.8 L 162.7 204.8 L 162.7 222.1 L 160.3 222.1 L 154.2 212.0 Q 153.5 210.9, 152.8 209.5 Q 152.0 208.2, 151.8 207.8 L 151.8 222.1 L 149.6 222.1 L 149.6 204.8 L 152.3 204.8 \" fill=\"#0000FF\"/>\n",
       "<path class=\"atom-10\" d=\"M 123.2 13.6 L 125.5 13.6 L 125.5 21.0 L 134.4 21.0 L 134.4 13.6 L 136.7 13.6 L 136.7 30.9 L 134.4 30.9 L 134.4 22.9 L 125.5 22.9 L 125.5 30.9 L 123.2 30.9 L 123.2 13.6 \" fill=\"#000000\"/>\n",
       "<path class=\"atom-11\" d=\"M 83.2 17.1 L 85.5 17.1 L 85.5 24.4 L 94.4 24.4 L 94.4 17.1 L 96.7 17.1 L 96.7 34.4 L 94.4 34.4 L 94.4 26.4 L 85.5 26.4 L 85.5 34.4 L 83.2 34.4 L 83.2 17.1 \" fill=\"#000000\"/>\n",
       "<path class=\"atom-12\" d=\"M 187.2 64.8 L 189.5 64.8 L 189.5 72.1 L 198.4 72.1 L 198.4 64.8 L 200.7 64.8 L 200.7 82.1 L 198.4 82.1 L 198.4 74.1 L 189.5 74.1 L 189.5 82.1 L 187.2 82.1 L 187.2 64.8 \" fill=\"#000000\"/>\n",
       "<path class=\"atom-13\" d=\"M 164.1 31.9 L 166.4 31.9 L 166.4 39.2 L 175.3 39.2 L 175.3 31.9 L 177.6 31.9 L 177.6 49.2 L 175.3 49.2 L 175.3 41.2 L 166.4 41.2 L 166.4 49.2 L 164.1 49.2 L 164.1 31.9 \" fill=\"#000000\"/>\n",
       "<path class=\"atom-14\" d=\"M 150.0 160.4 L 152.4 160.4 L 152.4 167.8 L 161.2 167.8 L 161.2 160.4 L 163.6 160.4 L 163.6 177.7 L 161.2 177.7 L 161.2 169.7 L 152.4 169.7 L 152.4 177.7 L 150.0 177.7 L 150.0 160.4 \" fill=\"#000000\"/>\n",
       "<path class=\"atom-15\" d=\"M 182.4 108.4 L 184.7 108.4 L 184.7 115.7 L 193.6 115.7 L 193.6 108.4 L 195.9 108.4 L 195.9 125.7 L 193.6 125.7 L 193.6 117.7 L 184.7 117.7 L 184.7 125.7 L 182.4 125.7 L 182.4 108.4 \" fill=\"#000000\"/>\n",
       "<path class=\"atom-16\" d=\"M 147.4 239.3 L 149.8 239.3 L 149.8 246.6 L 158.6 246.6 L 158.6 239.3 L 161.0 239.3 L 161.0 256.6 L 158.6 256.6 L 158.6 248.6 L 149.8 248.6 L 149.8 256.6 L 147.4 256.6 L 147.4 239.3 \" fill=\"#000000\"/>\n",
       "<path class=\"atom-17\" d=\"M 198.7 136.6 L 201.0 136.6 L 201.0 143.9 L 209.9 143.9 L 209.9 136.6 L 212.2 136.6 L 212.2 153.9 L 209.9 153.9 L 209.9 145.9 L 201.0 145.9 L 201.0 153.9 L 198.7 153.9 L 198.7 136.6 \" fill=\"#000000\"/>\n",
       "<path class=\"atom-18\" d=\"M 137.4 138.6 L 139.8 138.6 L 139.8 145.9 L 148.6 145.9 L 148.6 138.6 L 150.9 138.6 L 150.9 155.9 L 148.6 155.9 L 148.6 147.9 L 139.8 147.9 L 139.8 155.9 L 137.4 155.9 L 137.4 138.6 \" fill=\"#000000\"/>\n",
       "<path class=\"atom-19\" d=\"M 238.9 154.6 L 241.3 154.6 L 241.3 161.9 L 250.1 161.9 L 250.1 154.6 L 252.4 154.6 L 252.4 171.9 L 250.1 171.9 L 250.1 163.9 L 241.3 163.9 L 241.3 171.9 L 238.9 171.9 L 238.9 154.6 \" fill=\"#000000\"/>\n",
       "<path class=\"atom-20\" d=\"M 256.0 190.6 L 258.3 190.6 L 258.3 198.0 L 267.2 198.0 L 267.2 190.6 L 269.5 190.6 L 269.5 207.9 L 267.2 207.9 L 267.2 199.9 L 258.3 199.9 L 258.3 207.9 L 256.0 207.9 L 256.0 190.6 \" fill=\"#000000\"/>\n",
       "<path class=\"atom-21\" d=\"M 252.0 236.1 L 254.3 236.1 L 254.3 243.5 L 263.2 243.5 L 263.2 236.1 L 265.5 236.1 L 265.5 253.4 L 263.2 253.4 L 263.2 245.4 L 254.3 245.4 L 254.3 253.4 L 252.0 253.4 L 252.0 236.1 \" fill=\"#000000\"/>\n",
       "<path class=\"atom-22\" d=\"M 229.9 269.1 L 232.3 269.1 L 232.3 276.4 L 241.1 276.4 L 241.1 269.1 L 243.5 269.1 L 243.5 286.4 L 241.1 286.4 L 241.1 278.4 L 232.3 278.4 L 232.3 286.4 L 229.9 286.4 L 229.9 269.1 \" fill=\"#000000\"/>\n",
       "<path class=\"atom-23\" d=\"M 86.2 229.6 L 88.6 229.6 L 88.6 236.9 L 97.4 236.9 L 97.4 229.6 L 99.7 229.6 L 99.7 246.9 L 97.4 246.9 L 97.4 238.9 L 88.6 238.9 L 88.6 246.9 L 86.2 246.9 L 86.2 229.6 \" fill=\"#000000\"/>\n",
       "<path class=\"atom-24\" d=\"M 45.5 229.7 L 47.9 229.7 L 47.9 237.0 L 56.7 237.0 L 56.7 229.7 L 59.1 229.7 L 59.1 247.0 L 56.7 247.0 L 56.7 239.0 L 47.9 239.0 L 47.9 247.0 L 45.5 247.0 L 45.5 229.7 \" fill=\"#000000\"/>\n",
       "<path class=\"atom-25\" d=\"M 30.5 174.2 L 32.8 174.2 L 32.8 181.5 L 41.7 181.5 L 41.7 174.2 L 44.0 174.2 L 44.0 191.5 L 41.7 191.5 L 41.7 183.5 L 32.8 183.5 L 32.8 191.5 L 30.5 191.5 L 30.5 174.2 \" fill=\"#000000\"/>\n",
       "<path class=\"atom-26\" d=\"M 177.3 252.1 L 179.6 252.1 L 179.6 259.4 L 188.5 259.4 L 188.5 252.1 L 190.8 252.1 L 190.8 269.3 L 188.5 269.3 L 188.5 261.4 L 179.6 261.4 L 179.6 269.3 L 177.3 269.3 L 177.3 252.1 \" fill=\"#000000\"/>\n",
       "<path class=\"atom-27\" d=\"M 73.1 74.3 L 75.5 74.3 L 75.5 81.7 L 84.3 81.7 L 84.3 74.3 L 86.6 74.3 L 86.6 91.6 L 84.3 91.6 L 84.3 83.6 L 75.5 83.6 L 75.5 91.6 L 73.1 91.6 L 73.1 74.3 \" fill=\"#000000\"/>\n",
       "</svg>"
      ],
      "text/plain": [
       "<IPython.core.display.SVG object>"
      ]
     },
     "metadata": {},
     "output_type": "display_data"
    },
    {
     "name": "stdin",
     "output_type": "stream",
     "text": [
      " t144j [H:28][C:1]([C:2]([C:3](/[N:4]=[S:5](\\[N:6]([C:7]([C:8]([C:9]([H:27])([H:22])[H:23])([H:20])[H:21])([H:18])[H:19])[H:17])[C:10]([H:24])([H:25])[H:26])([H:15])[H:16])([H:13])[H:14])([H:11])[H:12] (6, 5, 4, 9)\n"
     ]
    },
    {
     "name": "stdout",
     "output_type": "stream",
     "text": [
      "['t82g', 't83g', 't80', 't80', 't80', 't80', 't17', 't17', 't17', 't45', 't45', 't86', 't86', 't1', 't1', 't1', 't80', 't45', 't45', 't1', 't4', 't4', 't18', 't70', 't4', 't4', 't154h', 't154h', 't1', 't1', 't143j', 't143j', 't118h', 't118h', 't118h', 't70', 't70', 't51', 't51', 't51', 't118h', 't118h', 't118h', 't1', 't1', 't1', 't146j', 't1', 't4', 't4', 't51', 't64', 't64', 't4', 't4', 't74g', 't74g', 't64', 't64', 't64', 't1', 't1', 't84g', 't44', 't44', 't17', 't17', 't64', 't64', 't66', 't64', 't64', 't85', 't84g', 't44', 't44', 't74g', 't44', 't44', 't44', 't44', 't85', 't44', 't44', 't44', 't44', 't74g', 't44', 't64', 't64', 't44', 't44', 't44', 't44', 't44', 't44', 't44', 't44', 't17', 't17', 't44', 't44', 't44', 't44', 't44', 't44', 't44', 't44', 't44', 't44', 't44', 't44', 't44', 't17', 't17', 't44', 't144j', 't20', 't20', 't80', 't80', 't3', 't3', 't3', 't3', 't3', 't3', 't3', 't3', 't51', 't51', 't3', 't3', 't3', 't3', 't3', 't3', 't3', 't3', 't44', 't44', 't44', 't44', 't44', 't80']\n"
     ]
    },
    {
     "data": {
      "image/svg+xml": [
       "<svg xmlns=\"http://www.w3.org/2000/svg\" xmlns:rdkit=\"http://www.rdkit.org/xml\" xmlns:xlink=\"http://www.w3.org/1999/xlink\" version=\"1.1\" baseProfile=\"full\" xml:space=\"preserve\" width=\"300px\" height=\"300px\" viewBox=\"0 0 300 300\">\n",
       "<!-- END OF HEADER -->\n",
       "<rect style=\"opacity:1.0;fill:#FFFFFF;stroke:none\" width=\"300.0\" height=\"300.0\" x=\"0.0\" y=\"0.0\"> </rect>\n",
       "<path class=\"bond-11 atom-4 atom-5\" d=\"M 107.0,175.6 L 154.9,205.0 L 157.4,221.8 L 106.8,190.7 Z\" style=\"fill:#FF7F7F;fill-rule:evenodd;fill-opacity:1;stroke:#FF7F7F;stroke-width:0.0px;stroke-linecap:butt;stroke-linejoin:miter;stroke-opacity:1;\"/>\n",
       "<path class=\"bond-12 atom-4 atom-9\" d=\"M 107.0,175.6 L 106.8,190.7 L 75.6,208.8 L 69.1,197.5 Z\" style=\"fill:#FF7F7F;fill-rule:evenodd;fill-opacity:1;stroke:#FF7F7F;stroke-width:0.0px;stroke-linecap:butt;stroke-linejoin:miter;stroke-opacity:1;\"/>\n",
       "<path class=\"bond-13 atom-5 atom-6\" d=\"M 187.5,168.3 L 197.2,177.0 L 157.4,221.8 L 154.9,205.0 Z\" style=\"fill:#FF7F7F;fill-rule:evenodd;fill-opacity:1;stroke:#FF7F7F;stroke-width:0.0px;stroke-linecap:butt;stroke-linejoin:miter;stroke-opacity:1;\"/>\n",
       "<ellipse cx=\"106.9\" cy=\"183.4\" rx=\"12.2\" ry=\"12.5\" class=\"atom-4\" style=\"fill:#FF7F7F;fill-rule:evenodd;stroke:#FF7F7F;stroke-width:1.0px;stroke-linecap:butt;stroke-linejoin:miter;stroke-opacity:1\"/>\n",
       "<ellipse cx=\"156.1\" cy=\"213.4\" rx=\"12.2\" ry=\"12.2\" class=\"atom-5\" style=\"fill:#FF7F7F;fill-rule:evenodd;stroke:#FF7F7F;stroke-width:1.0px;stroke-linecap:butt;stroke-linejoin:miter;stroke-opacity:1\"/>\n",
       "<ellipse cx=\"192.3\" cy=\"172.7\" rx=\"12.2\" ry=\"12.2\" class=\"atom-6\" style=\"fill:#FF7F7F;fill-rule:evenodd;stroke:#FF7F7F;stroke-width:1.0px;stroke-linecap:butt;stroke-linejoin:miter;stroke-opacity:1\"/>\n",
       "<ellipse cx=\"72.4\" cy=\"203.1\" rx=\"12.2\" ry=\"12.2\" class=\"atom-9\" style=\"fill:#FF7F7F;fill-rule:evenodd;stroke:#FF7F7F;stroke-width:1.0px;stroke-linecap:butt;stroke-linejoin:miter;stroke-opacity:1\"/>\n",
       "<path class=\"bond-0 atom-0 atom-1\" d=\"M 114.4,59.0 L 155.9,76.5\" style=\"fill:none;fill-rule:evenodd;stroke:#000000;stroke-width:2.0px;stroke-linecap:butt;stroke-linejoin:miter;stroke-opacity:1\"/>\n",
       "<path class=\"bond-1 atom-0 atom-10\" d=\"M 114.4,59.0 L 125.7,32.3\" style=\"fill:none;fill-rule:evenodd;stroke:#000000;stroke-width:2.0px;stroke-linecap:butt;stroke-linejoin:miter;stroke-opacity:1\"/>\n",
       "<path class=\"bond-2 atom-0 atom-11\" d=\"M 114.4,59.0 L 97.3,35.8\" style=\"fill:none;fill-rule:evenodd;stroke:#000000;stroke-width:2.0px;stroke-linecap:butt;stroke-linejoin:miter;stroke-opacity:1\"/>\n",
       "<path class=\"bond-3 atom-0 atom-27\" d=\"M 114.4,59.0 L 88.1,77.3\" style=\"fill:none;fill-rule:evenodd;stroke:#000000;stroke-width:2.0px;stroke-linecap:butt;stroke-linejoin:miter;stroke-opacity:1\"/>\n",
       "<path class=\"bond-4 atom-1 atom-2\" d=\"M 155.9,76.5 L 158.9,114.8\" style=\"fill:none;fill-rule:evenodd;stroke:#000000;stroke-width:2.0px;stroke-linecap:butt;stroke-linejoin:miter;stroke-opacity:1\"/>\n",
       "<path class=\"bond-5 atom-1 atom-12\" d=\"M 155.9,76.5 L 185.8,74.1\" style=\"fill:none;fill-rule:evenodd;stroke:#000000;stroke-width:2.0px;stroke-linecap:butt;stroke-linejoin:miter;stroke-opacity:1\"/>\n",
       "<path class=\"bond-6 atom-1 atom-13\" d=\"M 155.9,76.5 L 166.7,50.6\" style=\"fill:none;fill-rule:evenodd;stroke:#000000;stroke-width:2.0px;stroke-linecap:butt;stroke-linejoin:miter;stroke-opacity:1\"/>\n",
       "<path class=\"bond-7 atom-2 atom-3\" d=\"M 158.9,114.8 L 136.2,119.4\" style=\"fill:none;fill-rule:evenodd;stroke:#000000;stroke-width:2.0px;stroke-linecap:butt;stroke-linejoin:miter;stroke-opacity:1\"/>\n",
       "<path class=\"bond-7 atom-2 atom-3\" d=\"M 136.2,119.4 L 113.5,124.0\" style=\"fill:none;fill-rule:evenodd;stroke:#0000FF;stroke-width:2.0px;stroke-linecap:butt;stroke-linejoin:miter;stroke-opacity:1\"/>\n",
       "<path class=\"bond-8 atom-2 atom-14\" d=\"M 158.9,114.8 L 157.2,159.0\" style=\"fill:none;fill-rule:evenodd;stroke:#000000;stroke-width:2.0px;stroke-linecap:butt;stroke-linejoin:miter;stroke-opacity:1\"/>\n",
       "<path class=\"bond-9 atom-2 atom-15\" d=\"M 158.9,114.8 L 181.0,116.4\" style=\"fill:none;fill-rule:evenodd;stroke:#000000;stroke-width:2.0px;stroke-linecap:butt;stroke-linejoin:miter;stroke-opacity:1\"/>\n",
       "<path class=\"bond-10 atom-3 atom-4\" d=\"M 109.0,135.6 L 109.4,154.3\" style=\"fill:none;fill-rule:evenodd;stroke:#0000FF;stroke-width:2.0px;stroke-linecap:butt;stroke-linejoin:miter;stroke-opacity:1\"/>\n",
       "<path class=\"bond-10 atom-3 atom-4\" d=\"M 109.4,154.3 L 109.9,173.0\" style=\"fill:none;fill-rule:evenodd;stroke:#CCCC00;stroke-width:2.0px;stroke-linecap:butt;stroke-linejoin:miter;stroke-opacity:1\"/>\n",
       "<path class=\"bond-10 atom-3 atom-4\" d=\"M 102.6,135.7 L 103.0,154.4\" style=\"fill:none;fill-rule:evenodd;stroke:#0000FF;stroke-width:2.0px;stroke-linecap:butt;stroke-linejoin:miter;stroke-opacity:1\"/>\n",
       "<path class=\"bond-10 atom-3 atom-4\" d=\"M 103.0,154.4 L 103.5,173.2\" style=\"fill:none;fill-rule:evenodd;stroke:#CCCC00;stroke-width:2.0px;stroke-linecap:butt;stroke-linejoin:miter;stroke-opacity:1\"/>\n",
       "<path class=\"bond-11 atom-4 atom-5\" d=\"M 113.9,187.4 L 131.0,198.0\" style=\"fill:none;fill-rule:evenodd;stroke:#CCCC00;stroke-width:2.0px;stroke-linecap:butt;stroke-linejoin:miter;stroke-opacity:1\"/>\n",
       "<path class=\"bond-11 atom-4 atom-5\" d=\"M 131.0,198.0 L 148.1,208.5\" style=\"fill:none;fill-rule:evenodd;stroke:#0000FF;stroke-width:2.0px;stroke-linecap:butt;stroke-linejoin:miter;stroke-opacity:1\"/>\n",
       "<path class=\"bond-12 atom-4 atom-9\" d=\"M 99.9,187.2 L 86.2,195.1\" style=\"fill:none;fill-rule:evenodd;stroke:#CCCC00;stroke-width:2.0px;stroke-linecap:butt;stroke-linejoin:miter;stroke-opacity:1\"/>\n",
       "<path class=\"bond-12 atom-4 atom-9\" d=\"M 86.2,195.1 L 72.4,203.1\" style=\"fill:none;fill-rule:evenodd;stroke:#000000;stroke-width:2.0px;stroke-linecap:butt;stroke-linejoin:miter;stroke-opacity:1\"/>\n",
       "<path class=\"bond-13 atom-5 atom-6\" d=\"M 164.1,204.4 L 178.2,188.6\" style=\"fill:none;fill-rule:evenodd;stroke:#0000FF;stroke-width:2.0px;stroke-linecap:butt;stroke-linejoin:miter;stroke-opacity:1\"/>\n",
       "<path class=\"bond-13 atom-5 atom-6\" d=\"M 178.2,188.6 L 192.3,172.7\" style=\"fill:none;fill-rule:evenodd;stroke:#000000;stroke-width:2.0px;stroke-linecap:butt;stroke-linejoin:miter;stroke-opacity:1\"/>\n",
       "<path class=\"bond-14 atom-5 atom-16\" d=\"M 155.6,223.5 L 155.2,230.7\" style=\"fill:none;fill-rule:evenodd;stroke:#0000FF;stroke-width:2.0px;stroke-linecap:butt;stroke-linejoin:miter;stroke-opacity:1\"/>\n",
       "<path class=\"bond-14 atom-5 atom-16\" d=\"M 155.2,230.7 L 154.8,237.9\" style=\"fill:none;fill-rule:evenodd;stroke:#000000;stroke-width:2.0px;stroke-linecap:butt;stroke-linejoin:miter;stroke-opacity:1\"/>\n",
       "<path class=\"bond-15 atom-6 atom-7\" d=\"M 192.3,172.7 L 224.3,194.8\" style=\"fill:none;fill-rule:evenodd;stroke:#000000;stroke-width:2.0px;stroke-linecap:butt;stroke-linejoin:miter;stroke-opacity:1\"/>\n",
       "<path class=\"bond-16 atom-6 atom-17\" d=\"M 192.3,172.7 L 200.6,155.3\" style=\"fill:none;fill-rule:evenodd;stroke:#000000;stroke-width:2.0px;stroke-linecap:butt;stroke-linejoin:miter;stroke-opacity:1\"/>\n",
       "<path class=\"bond-17 atom-6 atom-18\" d=\"M 192.3,172.7 L 152.4,151.5\" style=\"fill:none;fill-rule:evenodd;stroke:#000000;stroke-width:2.0px;stroke-linecap:butt;stroke-linejoin:miter;stroke-opacity:1\"/>\n",
       "<path class=\"bond-18 atom-7 atom-8\" d=\"M 224.3,194.8 L 219.8,241.2\" style=\"fill:none;fill-rule:evenodd;stroke:#000000;stroke-width:2.0px;stroke-linecap:butt;stroke-linejoin:miter;stroke-opacity:1\"/>\n",
       "<path class=\"bond-19 atom-7 atom-19\" d=\"M 224.3,194.8 L 238.9,173.3\" style=\"fill:none;fill-rule:evenodd;stroke:#000000;stroke-width:2.0px;stroke-linecap:butt;stroke-linejoin:miter;stroke-opacity:1\"/>\n",
       "<path class=\"bond-20 atom-7 atom-20\" d=\"M 224.3,194.8 L 254.6,198.3\" style=\"fill:none;fill-rule:evenodd;stroke:#000000;stroke-width:2.0px;stroke-linecap:butt;stroke-linejoin:miter;stroke-opacity:1\"/>\n",
       "<path class=\"bond-21 atom-8 atom-21\" d=\"M 219.8,241.2 L 250.6,244.0\" style=\"fill:none;fill-rule:evenodd;stroke:#000000;stroke-width:2.0px;stroke-linecap:butt;stroke-linejoin:miter;stroke-opacity:1\"/>\n",
       "<path class=\"bond-22 atom-8 atom-22\" d=\"M 219.8,241.2 L 232.1,267.7\" style=\"fill:none;fill-rule:evenodd;stroke:#000000;stroke-width:2.0px;stroke-linecap:butt;stroke-linejoin:miter;stroke-opacity:1\"/>\n",
       "<path class=\"bond-23 atom-8 atom-26\" d=\"M 219.8,241.2 L 192.2,256.3\" style=\"fill:none;fill-rule:evenodd;stroke:#000000;stroke-width:2.0px;stroke-linecap:butt;stroke-linejoin:miter;stroke-opacity:1\"/>\n",
       "<path class=\"bond-24 atom-9 atom-23\" d=\"M 72.4,203.1 L 87.1,228.2\" style=\"fill:none;fill-rule:evenodd;stroke:#000000;stroke-width:2.0px;stroke-linecap:butt;stroke-linejoin:miter;stroke-opacity:1\"/>\n",
       "<path class=\"bond-25 atom-9 atom-24\" d=\"M 72.4,203.1 L 58.0,228.3\" style=\"fill:none;fill-rule:evenodd;stroke:#000000;stroke-width:2.0px;stroke-linecap:butt;stroke-linejoin:miter;stroke-opacity:1\"/>\n",
       "<path class=\"bond-26 atom-9 atom-25\" d=\"M 72.4,203.1 L 45.4,187.6\" style=\"fill:none;fill-rule:evenodd;stroke:#000000;stroke-width:2.0px;stroke-linecap:butt;stroke-linejoin:miter;stroke-opacity:1\"/>\n",
       "<path class=\"atom-3\" d=\"M 101.7 116.9 L 107.4 126.1 Q 107.9 127.0, 108.8 128.6 Q 109.7 130.3, 109.8 130.4 L 109.8 116.9 L 112.1 116.9 L 112.1 134.2 L 109.7 134.2 L 103.6 124.2 Q 102.9 123.0, 102.2 121.7 Q 101.4 120.3, 101.2 119.9 L 101.2 134.2 L 99.0 134.2 L 99.0 116.9 L 101.7 116.9 \" fill=\"#0000FF\"/>\n",
       "<path class=\"atom-4\" d=\"M 102.0 189.1 Q 102.2 189.1, 103.0 189.5 Q 103.8 189.8, 104.7 190.0 Q 105.6 190.2, 106.5 190.2 Q 108.1 190.2, 109.1 189.5 Q 110.0 188.7, 110.0 187.3 Q 110.0 186.3, 109.5 185.7 Q 109.1 185.1, 108.3 184.8 Q 107.6 184.5, 106.4 184.1 Q 104.9 183.7, 103.9 183.2 Q 103.0 182.8, 102.4 181.9 Q 101.7 180.9, 101.7 179.4 Q 101.7 177.2, 103.2 175.9 Q 104.7 174.5, 107.6 174.5 Q 109.6 174.5, 111.9 175.5 L 111.3 177.3 Q 109.2 176.5, 107.7 176.5 Q 106.0 176.5, 105.1 177.2 Q 104.1 177.9, 104.2 179.1 Q 104.2 180.0, 104.6 180.6 Q 105.1 181.1, 105.8 181.5 Q 106.5 181.8, 107.7 182.1 Q 109.2 182.6, 110.2 183.1 Q 111.1 183.6, 111.8 184.6 Q 112.4 185.6, 112.4 187.3 Q 112.4 189.7, 110.8 190.9 Q 109.2 192.2, 106.6 192.2 Q 105.0 192.2, 103.9 191.9 Q 102.7 191.6, 101.4 191.0 L 102.0 189.1 \" fill=\"#CCCC00\"/>\n",
       "<path class=\"atom-5\" d=\"M 152.3 204.8 L 158.0 213.9 Q 158.5 214.8, 159.4 216.5 Q 160.3 218.1, 160.4 218.2 L 160.4 204.8 L 162.7 204.8 L 162.7 222.1 L 160.3 222.1 L 154.2 212.0 Q 153.5 210.9, 152.8 209.5 Q 152.0 208.2, 151.8 207.8 L 151.8 222.1 L 149.6 222.1 L 149.6 204.8 L 152.3 204.8 \" fill=\"#0000FF\"/>\n",
       "<path class=\"atom-10\" d=\"M 123.2 13.6 L 125.5 13.6 L 125.5 21.0 L 134.4 21.0 L 134.4 13.6 L 136.7 13.6 L 136.7 30.9 L 134.4 30.9 L 134.4 22.9 L 125.5 22.9 L 125.5 30.9 L 123.2 30.9 L 123.2 13.6 \" fill=\"#000000\"/>\n",
       "<path class=\"atom-11\" d=\"M 83.2 17.1 L 85.5 17.1 L 85.5 24.4 L 94.4 24.4 L 94.4 17.1 L 96.7 17.1 L 96.7 34.4 L 94.4 34.4 L 94.4 26.4 L 85.5 26.4 L 85.5 34.4 L 83.2 34.4 L 83.2 17.1 \" fill=\"#000000\"/>\n",
       "<path class=\"atom-12\" d=\"M 187.2 64.8 L 189.5 64.8 L 189.5 72.1 L 198.4 72.1 L 198.4 64.8 L 200.7 64.8 L 200.7 82.1 L 198.4 82.1 L 198.4 74.1 L 189.5 74.1 L 189.5 82.1 L 187.2 82.1 L 187.2 64.8 \" fill=\"#000000\"/>\n",
       "<path class=\"atom-13\" d=\"M 164.1 31.9 L 166.4 31.9 L 166.4 39.2 L 175.3 39.2 L 175.3 31.9 L 177.6 31.9 L 177.6 49.2 L 175.3 49.2 L 175.3 41.2 L 166.4 41.2 L 166.4 49.2 L 164.1 49.2 L 164.1 31.9 \" fill=\"#000000\"/>\n",
       "<path class=\"atom-14\" d=\"M 150.0 160.4 L 152.4 160.4 L 152.4 167.8 L 161.2 167.8 L 161.2 160.4 L 163.6 160.4 L 163.6 177.7 L 161.2 177.7 L 161.2 169.7 L 152.4 169.7 L 152.4 177.7 L 150.0 177.7 L 150.0 160.4 \" fill=\"#000000\"/>\n",
       "<path class=\"atom-15\" d=\"M 182.4 108.4 L 184.7 108.4 L 184.7 115.7 L 193.6 115.7 L 193.6 108.4 L 195.9 108.4 L 195.9 125.7 L 193.6 125.7 L 193.6 117.7 L 184.7 117.7 L 184.7 125.7 L 182.4 125.7 L 182.4 108.4 \" fill=\"#000000\"/>\n",
       "<path class=\"atom-16\" d=\"M 147.4 239.3 L 149.8 239.3 L 149.8 246.6 L 158.6 246.6 L 158.6 239.3 L 161.0 239.3 L 161.0 256.6 L 158.6 256.6 L 158.6 248.6 L 149.8 248.6 L 149.8 256.6 L 147.4 256.6 L 147.4 239.3 \" fill=\"#000000\"/>\n",
       "<path class=\"atom-17\" d=\"M 198.7 136.6 L 201.0 136.6 L 201.0 143.9 L 209.9 143.9 L 209.9 136.6 L 212.2 136.6 L 212.2 153.9 L 209.9 153.9 L 209.9 145.9 L 201.0 145.9 L 201.0 153.9 L 198.7 153.9 L 198.7 136.6 \" fill=\"#000000\"/>\n",
       "<path class=\"atom-18\" d=\"M 137.4 138.6 L 139.8 138.6 L 139.8 145.9 L 148.6 145.9 L 148.6 138.6 L 150.9 138.6 L 150.9 155.9 L 148.6 155.9 L 148.6 147.9 L 139.8 147.9 L 139.8 155.9 L 137.4 155.9 L 137.4 138.6 \" fill=\"#000000\"/>\n",
       "<path class=\"atom-19\" d=\"M 238.9 154.6 L 241.3 154.6 L 241.3 161.9 L 250.1 161.9 L 250.1 154.6 L 252.4 154.6 L 252.4 171.9 L 250.1 171.9 L 250.1 163.9 L 241.3 163.9 L 241.3 171.9 L 238.9 171.9 L 238.9 154.6 \" fill=\"#000000\"/>\n",
       "<path class=\"atom-20\" d=\"M 256.0 190.6 L 258.3 190.6 L 258.3 198.0 L 267.2 198.0 L 267.2 190.6 L 269.5 190.6 L 269.5 207.9 L 267.2 207.9 L 267.2 199.9 L 258.3 199.9 L 258.3 207.9 L 256.0 207.9 L 256.0 190.6 \" fill=\"#000000\"/>\n",
       "<path class=\"atom-21\" d=\"M 252.0 236.1 L 254.3 236.1 L 254.3 243.5 L 263.2 243.5 L 263.2 236.1 L 265.5 236.1 L 265.5 253.4 L 263.2 253.4 L 263.2 245.4 L 254.3 245.4 L 254.3 253.4 L 252.0 253.4 L 252.0 236.1 \" fill=\"#000000\"/>\n",
       "<path class=\"atom-22\" d=\"M 229.9 269.1 L 232.3 269.1 L 232.3 276.4 L 241.1 276.4 L 241.1 269.1 L 243.5 269.1 L 243.5 286.4 L 241.1 286.4 L 241.1 278.4 L 232.3 278.4 L 232.3 286.4 L 229.9 286.4 L 229.9 269.1 \" fill=\"#000000\"/>\n",
       "<path class=\"atom-23\" d=\"M 86.2 229.6 L 88.6 229.6 L 88.6 236.9 L 97.4 236.9 L 97.4 229.6 L 99.7 229.6 L 99.7 246.9 L 97.4 246.9 L 97.4 238.9 L 88.6 238.9 L 88.6 246.9 L 86.2 246.9 L 86.2 229.6 \" fill=\"#000000\"/>\n",
       "<path class=\"atom-24\" d=\"M 45.5 229.7 L 47.9 229.7 L 47.9 237.0 L 56.7 237.0 L 56.7 229.7 L 59.1 229.7 L 59.1 247.0 L 56.7 247.0 L 56.7 239.0 L 47.9 239.0 L 47.9 247.0 L 45.5 247.0 L 45.5 229.7 \" fill=\"#000000\"/>\n",
       "<path class=\"atom-25\" d=\"M 30.5 174.2 L 32.8 174.2 L 32.8 181.5 L 41.7 181.5 L 41.7 174.2 L 44.0 174.2 L 44.0 191.5 L 41.7 191.5 L 41.7 183.5 L 32.8 183.5 L 32.8 191.5 L 30.5 191.5 L 30.5 174.2 \" fill=\"#000000\"/>\n",
       "<path class=\"atom-26\" d=\"M 177.3 252.1 L 179.6 252.1 L 179.6 259.4 L 188.5 259.4 L 188.5 252.1 L 190.8 252.1 L 190.8 269.3 L 188.5 269.3 L 188.5 261.4 L 179.6 261.4 L 179.6 269.3 L 177.3 269.3 L 177.3 252.1 \" fill=\"#000000\"/>\n",
       "<path class=\"atom-27\" d=\"M 73.1 74.3 L 75.5 74.3 L 75.5 81.7 L 84.3 81.7 L 84.3 74.3 L 86.6 74.3 L 86.6 91.6 L 84.3 91.6 L 84.3 83.6 L 75.5 83.6 L 75.5 91.6 L 73.1 91.6 L 73.1 74.3 \" fill=\"#000000\"/>\n",
       "</svg>"
      ],
      "text/plain": [
       "<IPython.core.display.SVG object>"
      ]
     },
     "metadata": {},
     "output_type": "display_data"
    },
    {
     "name": "stdin",
     "output_type": "stream",
     "text": [
      " t146j [C:1]1([H:16])=[N:2][C:3]([C:4]([C:5]([C:6](/[N:7]=[S:8](\\[N:9]([C:10]([C:11]([C:12]([H:35])([H:28])[H:29])([H:26])[H:27])([H:24])[H:25])[H:23])[C:13]([H:30])([H:31])[H:32])([H:21])[H:22])([H:19])[H:20])([H:17])[H:18])=[C:14]([H:33])[N:15]1[H:34] (9, 8, 7, 12)\n"
     ]
    },
    {
     "name": "stdout",
     "output_type": "stream",
     "text": [
      "matched!\n"
     ]
    },
    {
     "data": {
      "image/svg+xml": [
       "<svg xmlns=\"http://www.w3.org/2000/svg\" xmlns:rdkit=\"http://www.rdkit.org/xml\" xmlns:xlink=\"http://www.w3.org/1999/xlink\" version=\"1.1\" baseProfile=\"full\" xml:space=\"preserve\" width=\"300px\" height=\"300px\" viewBox=\"0 0 300 300\">\n",
       "<!-- END OF HEADER -->\n",
       "<rect style=\"opacity:1.0;fill:#FFFFFF;stroke:none\" width=\"300.0\" height=\"300.0\" x=\"0.0\" y=\"0.0\"> </rect>\n",
       "<path class=\"bond-16 atom-7 atom-8\" d=\"M 212.2,152.5 L 223.1,157.6 L 227.3,189.0 L 216.4,184.0 Z\" style=\"fill:#FF7F7F;fill-rule:evenodd;fill-opacity:1;stroke:#FF7F7F;stroke-width:0.0px;stroke-linecap:butt;stroke-linejoin:miter;stroke-opacity:1;\"/>\n",
       "<path class=\"bond-17 atom-7 atom-12\" d=\"M 242.0,133.8 L 247.4,142.3 L 223.1,157.6 L 212.2,152.5 Z\" style=\"fill:#FF7F7F;fill-rule:evenodd;fill-opacity:1;stroke:#FF7F7F;stroke-width:0.0px;stroke-linecap:butt;stroke-linejoin:miter;stroke-opacity:1;\"/>\n",
       "<path class=\"bond-18 atom-8 atom-9\" d=\"M 216.4,184.0 L 227.3,189.0 L 203.9,204.3 L 198.4,195.8 Z\" style=\"fill:#FF7F7F;fill-rule:evenodd;fill-opacity:1;stroke:#FF7F7F;stroke-width:0.0px;stroke-linecap:butt;stroke-linejoin:miter;stroke-opacity:1;\"/>\n",
       "<ellipse cx=\"217.7\" cy=\"155.2\" rx=\"9.5\" ry=\"9.7\" class=\"atom-7\" style=\"fill:#FF7F7F;fill-rule:evenodd;stroke:#FF7F7F;stroke-width:1.0px;stroke-linecap:butt;stroke-linejoin:miter;stroke-opacity:1\"/>\n",
       "<ellipse cx=\"221.9\" cy=\"186.5\" rx=\"9.5\" ry=\"9.5\" class=\"atom-8\" style=\"fill:#FF7F7F;fill-rule:evenodd;stroke:#FF7F7F;stroke-width:1.0px;stroke-linecap:butt;stroke-linejoin:miter;stroke-opacity:1\"/>\n",
       "<ellipse cx=\"201.2\" cy=\"200.0\" rx=\"9.5\" ry=\"9.5\" class=\"atom-9\" style=\"fill:#FF7F7F;fill-rule:evenodd;stroke:#FF7F7F;stroke-width:1.0px;stroke-linecap:butt;stroke-linejoin:miter;stroke-opacity:1\"/>\n",
       "<ellipse cx=\"244.7\" cy=\"138.1\" rx=\"9.5\" ry=\"9.5\" class=\"atom-12\" style=\"fill:#FF7F7F;fill-rule:evenodd;stroke:#FF7F7F;stroke-width:1.0px;stroke-linecap:butt;stroke-linejoin:miter;stroke-opacity:1\"/>\n",
       "<path class=\"bond-0 atom-0 atom-1\" d=\"M 59.4,76.5 L 66.6,85.0\" style=\"fill:none;fill-rule:evenodd;stroke:#000000;stroke-width:2.0px;stroke-linecap:butt;stroke-linejoin:miter;stroke-opacity:1\"/>\n",
       "<path class=\"bond-0 atom-0 atom-1\" d=\"M 66.6,85.0 L 73.7,93.4\" style=\"fill:none;fill-rule:evenodd;stroke:#0000FF;stroke-width:2.0px;stroke-linecap:butt;stroke-linejoin:miter;stroke-opacity:1\"/>\n",
       "<path class=\"bond-0 atom-0 atom-1\" d=\"M 65.3,76.1 L 71.3,83.2\" style=\"fill:none;fill-rule:evenodd;stroke:#000000;stroke-width:2.0px;stroke-linecap:butt;stroke-linejoin:miter;stroke-opacity:1\"/>\n",
       "<path class=\"bond-0 atom-0 atom-1\" d=\"M 71.3,83.2 L 77.4,90.3\" style=\"fill:none;fill-rule:evenodd;stroke:#0000FF;stroke-width:2.0px;stroke-linecap:butt;stroke-linejoin:miter;stroke-opacity:1\"/>\n",
       "<path class=\"bond-1 atom-0 atom-14\" d=\"M 59.4,76.5 L 65.2,66.9\" style=\"fill:none;fill-rule:evenodd;stroke:#000000;stroke-width:2.0px;stroke-linecap:butt;stroke-linejoin:miter;stroke-opacity:1\"/>\n",
       "<path class=\"bond-1 atom-0 atom-14\" d=\"M 65.2,66.9 L 71.1,57.3\" style=\"fill:none;fill-rule:evenodd;stroke:#0000FF;stroke-width:2.0px;stroke-linecap:butt;stroke-linejoin:miter;stroke-opacity:1\"/>\n",
       "<path class=\"bond-2 atom-0 atom-15\" d=\"M 59.4,76.5 L 34.1,78.6\" style=\"fill:none;fill-rule:evenodd;stroke:#000000;stroke-width:2.0px;stroke-linecap:butt;stroke-linejoin:miter;stroke-opacity:1\"/>\n",
       "<path class=\"bond-3 atom-1 atom-2\" d=\"M 86.0,98.0 L 97.6,93.2\" style=\"fill:none;fill-rule:evenodd;stroke:#0000FF;stroke-width:2.0px;stroke-linecap:butt;stroke-linejoin:miter;stroke-opacity:1\"/>\n",
       "<path class=\"bond-3 atom-1 atom-2\" d=\"M 97.6,93.2 L 109.1,88.4\" style=\"fill:none;fill-rule:evenodd;stroke:#000000;stroke-width:2.0px;stroke-linecap:butt;stroke-linejoin:miter;stroke-opacity:1\"/>\n",
       "<path class=\"bond-4 atom-2 atom-3\" d=\"M 109.1,88.4 L 134.3,106.1\" style=\"fill:none;fill-rule:evenodd;stroke:#000000;stroke-width:2.0px;stroke-linecap:butt;stroke-linejoin:miter;stroke-opacity:1\"/>\n",
       "<path class=\"bond-5 atom-2 atom-13\" d=\"M 109.1,88.4 L 106.6,56.9\" style=\"fill:none;fill-rule:evenodd;stroke:#000000;stroke-width:2.0px;stroke-linecap:butt;stroke-linejoin:miter;stroke-opacity:1\"/>\n",
       "<path class=\"bond-5 atom-2 atom-13\" d=\"M 104.1,85.3 L 102.1,60.8\" style=\"fill:none;fill-rule:evenodd;stroke:#000000;stroke-width:2.0px;stroke-linecap:butt;stroke-linejoin:miter;stroke-opacity:1\"/>\n",
       "<path class=\"bond-6 atom-3 atom-4\" d=\"M 134.3,106.1 L 129.2,140.0\" style=\"fill:none;fill-rule:evenodd;stroke:#000000;stroke-width:2.0px;stroke-linecap:butt;stroke-linejoin:miter;stroke-opacity:1\"/>\n",
       "<path class=\"bond-7 atom-3 atom-16\" d=\"M 134.3,106.1 L 159.9,108.4\" style=\"fill:none;fill-rule:evenodd;stroke:#000000;stroke-width:2.0px;stroke-linecap:butt;stroke-linejoin:miter;stroke-opacity:1\"/>\n",
       "<path class=\"bond-8 atom-3 atom-17\" d=\"M 134.3,106.1 L 147.1,87.5\" style=\"fill:none;fill-rule:evenodd;stroke:#000000;stroke-width:2.0px;stroke-linecap:butt;stroke-linejoin:miter;stroke-opacity:1\"/>\n",
       "<path class=\"bond-9 atom-4 atom-5\" d=\"M 129.2,140.0 L 150.9,157.9\" style=\"fill:none;fill-rule:evenodd;stroke:#000000;stroke-width:2.0px;stroke-linecap:butt;stroke-linejoin:miter;stroke-opacity:1\"/>\n",
       "<path class=\"bond-10 atom-4 atom-18\" d=\"M 129.2,140.0 L 105.3,136.8\" style=\"fill:none;fill-rule:evenodd;stroke:#000000;stroke-width:2.0px;stroke-linecap:butt;stroke-linejoin:miter;stroke-opacity:1\"/>\n",
       "<path class=\"bond-11 atom-4 atom-19\" d=\"M 129.2,140.0 L 116.8,156.7\" style=\"fill:none;fill-rule:evenodd;stroke:#000000;stroke-width:2.0px;stroke-linecap:butt;stroke-linejoin:miter;stroke-opacity:1\"/>\n",
       "<path class=\"bond-12 atom-5 atom-6\" d=\"M 150.9,157.9 L 164.4,150.5\" style=\"fill:none;fill-rule:evenodd;stroke:#000000;stroke-width:2.0px;stroke-linecap:butt;stroke-linejoin:miter;stroke-opacity:1\"/>\n",
       "<path class=\"bond-12 atom-5 atom-6\" d=\"M 164.4,150.5 L 177.9,143.1\" style=\"fill:none;fill-rule:evenodd;stroke:#0000FF;stroke-width:2.0px;stroke-linecap:butt;stroke-linejoin:miter;stroke-opacity:1\"/>\n",
       "<path class=\"bond-13 atom-5 atom-20\" d=\"M 150.9,157.9 L 140.4,174.8\" style=\"fill:none;fill-rule:evenodd;stroke:#000000;stroke-width:2.0px;stroke-linecap:butt;stroke-linejoin:miter;stroke-opacity:1\"/>\n",
       "<path class=\"bond-14 atom-5 atom-21\" d=\"M 150.9,157.9 L 161.1,176.3\" style=\"fill:none;fill-rule:evenodd;stroke:#000000;stroke-width:2.0px;stroke-linecap:butt;stroke-linejoin:miter;stroke-opacity:1\"/>\n",
       "<path class=\"bond-15 atom-6 atom-7\" d=\"M 191.2,140.4 L 202.3,145.4\" style=\"fill:none;fill-rule:evenodd;stroke:#0000FF;stroke-width:2.0px;stroke-linecap:butt;stroke-linejoin:miter;stroke-opacity:1\"/>\n",
       "<path class=\"bond-15 atom-6 atom-7\" d=\"M 202.3,145.4 L 213.3,150.4\" style=\"fill:none;fill-rule:evenodd;stroke:#CCCC00;stroke-width:2.0px;stroke-linecap:butt;stroke-linejoin:miter;stroke-opacity:1\"/>\n",
       "<path class=\"bond-15 atom-6 atom-7\" d=\"M 189.2,144.7 L 200.3,149.8\" style=\"fill:none;fill-rule:evenodd;stroke:#0000FF;stroke-width:2.0px;stroke-linecap:butt;stroke-linejoin:miter;stroke-opacity:1\"/>\n",
       "<path class=\"bond-15 atom-6 atom-7\" d=\"M 200.3,149.8 L 211.3,154.8\" style=\"fill:none;fill-rule:evenodd;stroke:#CCCC00;stroke-width:2.0px;stroke-linecap:butt;stroke-linejoin:miter;stroke-opacity:1\"/>\n",
       "<path class=\"bond-16 atom-7 atom-8\" d=\"M 218.8,163.2 L 219.8,170.9\" style=\"fill:none;fill-rule:evenodd;stroke:#CCCC00;stroke-width:2.0px;stroke-linecap:butt;stroke-linejoin:miter;stroke-opacity:1\"/>\n",
       "<path class=\"bond-16 atom-7 atom-8\" d=\"M 219.8,170.9 L 220.8,178.7\" style=\"fill:none;fill-rule:evenodd;stroke:#0000FF;stroke-width:2.0px;stroke-linecap:butt;stroke-linejoin:miter;stroke-opacity:1\"/>\n",
       "<path class=\"bond-17 atom-7 atom-12\" d=\"M 223.1,151.7 L 233.9,144.9\" style=\"fill:none;fill-rule:evenodd;stroke:#CCCC00;stroke-width:2.0px;stroke-linecap:butt;stroke-linejoin:miter;stroke-opacity:1\"/>\n",
       "<path class=\"bond-17 atom-7 atom-12\" d=\"M 233.9,144.9 L 244.7,138.1\" style=\"fill:none;fill-rule:evenodd;stroke:#000000;stroke-width:2.0px;stroke-linecap:butt;stroke-linejoin:miter;stroke-opacity:1\"/>\n",
       "<path class=\"bond-18 atom-8 atom-9\" d=\"M 215.7,190.5 L 208.4,195.3\" style=\"fill:none;fill-rule:evenodd;stroke:#0000FF;stroke-width:2.0px;stroke-linecap:butt;stroke-linejoin:miter;stroke-opacity:1\"/>\n",
       "<path class=\"bond-18 atom-8 atom-9\" d=\"M 208.4,195.3 L 201.2,200.0\" style=\"fill:none;fill-rule:evenodd;stroke:#000000;stroke-width:2.0px;stroke-linecap:butt;stroke-linejoin:miter;stroke-opacity:1\"/>\n",
       "<path class=\"bond-19 atom-8 atom-22\" d=\"M 228.0,189.6 L 235.5,193.3\" style=\"fill:none;fill-rule:evenodd;stroke:#0000FF;stroke-width:2.0px;stroke-linecap:butt;stroke-linejoin:miter;stroke-opacity:1\"/>\n",
       "<path class=\"bond-19 atom-8 atom-22\" d=\"M 235.5,193.3 L 243.0,197.1\" style=\"fill:none;fill-rule:evenodd;stroke:#000000;stroke-width:2.0px;stroke-linecap:butt;stroke-linejoin:miter;stroke-opacity:1\"/>\n",
       "<path class=\"bond-20 atom-9 atom-10\" d=\"M 201.2,200.0 L 197.6,235.7\" style=\"fill:none;fill-rule:evenodd;stroke:#000000;stroke-width:2.0px;stroke-linecap:butt;stroke-linejoin:miter;stroke-opacity:1\"/>\n",
       "<path class=\"bond-21 atom-9 atom-23\" d=\"M 201.2,200.0 L 189.0,175.8\" style=\"fill:none;fill-rule:evenodd;stroke:#000000;stroke-width:2.0px;stroke-linecap:butt;stroke-linejoin:miter;stroke-opacity:1\"/>\n",
       "<path class=\"bond-22 atom-9 atom-24\" d=\"M 201.2,200.0 L 167.7,209.3\" style=\"fill:none;fill-rule:evenodd;stroke:#000000;stroke-width:2.0px;stroke-linecap:butt;stroke-linejoin:miter;stroke-opacity:1\"/>\n",
       "<path class=\"bond-23 atom-10 atom-11\" d=\"M 197.6,235.7 L 219.4,251.6\" style=\"fill:none;fill-rule:evenodd;stroke:#000000;stroke-width:2.0px;stroke-linecap:butt;stroke-linejoin:miter;stroke-opacity:1\"/>\n",
       "<path class=\"bond-24 atom-10 atom-25\" d=\"M 197.6,235.7 L 168.4,236.3\" style=\"fill:none;fill-rule:evenodd;stroke:#000000;stroke-width:2.0px;stroke-linecap:butt;stroke-linejoin:miter;stroke-opacity:1\"/>\n",
       "<path class=\"bond-25 atom-10 atom-26\" d=\"M 197.6,235.7 L 184.3,254.5\" style=\"fill:none;fill-rule:evenodd;stroke:#000000;stroke-width:2.0px;stroke-linecap:butt;stroke-linejoin:miter;stroke-opacity:1\"/>\n",
       "<path class=\"bond-26 atom-11 atom-27\" d=\"M 219.4,251.6 L 206.0,269.4\" style=\"fill:none;fill-rule:evenodd;stroke:#000000;stroke-width:2.0px;stroke-linecap:butt;stroke-linejoin:miter;stroke-opacity:1\"/>\n",
       "<path class=\"bond-27 atom-11 atom-28\" d=\"M 219.4,251.6 L 228.5,271.9\" style=\"fill:none;fill-rule:evenodd;stroke:#000000;stroke-width:2.0px;stroke-linecap:butt;stroke-linejoin:miter;stroke-opacity:1\"/>\n",
       "<path class=\"bond-28 atom-11 atom-34\" d=\"M 219.4,251.6 L 240.6,241.0\" style=\"fill:none;fill-rule:evenodd;stroke:#000000;stroke-width:2.0px;stroke-linecap:butt;stroke-linejoin:miter;stroke-opacity:1\"/>\n",
       "<path class=\"bond-29 atom-12 atom-29\" d=\"M 244.7,138.1 L 233.4,118.6\" style=\"fill:none;fill-rule:evenodd;stroke:#000000;stroke-width:2.0px;stroke-linecap:butt;stroke-linejoin:miter;stroke-opacity:1\"/>\n",
       "<path class=\"bond-30 atom-12 atom-30\" d=\"M 244.7,138.1 L 256.2,118.7\" style=\"fill:none;fill-rule:evenodd;stroke:#000000;stroke-width:2.0px;stroke-linecap:butt;stroke-linejoin:miter;stroke-opacity:1\"/>\n",
       "<path class=\"bond-31 atom-12 atom-31\" d=\"M 244.7,138.1 L 265.9,150.3\" style=\"fill:none;fill-rule:evenodd;stroke:#000000;stroke-width:2.0px;stroke-linecap:butt;stroke-linejoin:miter;stroke-opacity:1\"/>\n",
       "<path class=\"bond-32 atom-13 atom-14\" d=\"M 106.6,56.9 L 94.3,54.0\" style=\"fill:none;fill-rule:evenodd;stroke:#000000;stroke-width:2.0px;stroke-linecap:butt;stroke-linejoin:miter;stroke-opacity:1\"/>\n",
       "<path class=\"bond-32 atom-13 atom-14\" d=\"M 94.3,54.0 L 82.0,51.0\" style=\"fill:none;fill-rule:evenodd;stroke:#0000FF;stroke-width:2.0px;stroke-linecap:butt;stroke-linejoin:miter;stroke-opacity:1\"/>\n",
       "<path class=\"bond-33 atom-13 atom-32\" d=\"M 106.6,56.9 L 124.3,41.7\" style=\"fill:none;fill-rule:evenodd;stroke:#000000;stroke-width:2.0px;stroke-linecap:butt;stroke-linejoin:miter;stroke-opacity:1\"/>\n",
       "<path class=\"bond-34 atom-14 atom-33\" d=\"M 72.6,41.8 L 69.8,35.0\" style=\"fill:none;fill-rule:evenodd;stroke:#0000FF;stroke-width:2.0px;stroke-linecap:butt;stroke-linejoin:miter;stroke-opacity:1\"/>\n",
       "<path class=\"bond-34 atom-14 atom-33\" d=\"M 69.8,35.0 L 67.0,28.1\" style=\"fill:none;fill-rule:evenodd;stroke:#000000;stroke-width:2.0px;stroke-linecap:butt;stroke-linejoin:miter;stroke-opacity:1\"/>\n",
       "<path class=\"atom-1\" d=\"M 76.9 93.9 L 81.3 101.0 Q 81.8 101.7, 82.5 103.0 Q 83.2 104.2, 83.2 104.3 L 83.2 93.9 L 85.0 93.9 L 85.0 107.3 L 83.1 107.3 L 78.4 99.5 Q 77.9 98.6, 77.3 97.6 Q 76.7 96.5, 76.5 96.2 L 76.5 107.3 L 74.8 107.3 L 74.8 93.9 L 76.9 93.9 \" fill=\"#0000FF\"/>\n",
       "<path class=\"atom-6\" d=\"M 181.1 133.0 L 185.5 140.2 Q 185.9 140.9, 186.7 142.1 Q 187.4 143.4, 187.4 143.5 L 187.4 133.0 L 189.2 133.0 L 189.2 146.5 L 187.3 146.5 L 182.6 138.7 Q 182.1 137.8, 181.5 136.7 Q 180.9 135.7, 180.7 135.4 L 180.7 146.5 L 179.0 146.5 L 179.0 133.0 L 181.1 133.0 \" fill=\"#0000FF\"/>\n",
       "<path class=\"atom-7\" d=\"M 213.9 159.7 Q 214.0 159.7, 214.7 160.0 Q 215.3 160.3, 216.0 160.4 Q 216.7 160.6, 217.4 160.6 Q 218.6 160.6, 219.4 160.0 Q 220.1 159.4, 220.1 158.3 Q 220.1 157.5, 219.7 157.1 Q 219.4 156.6, 218.8 156.4 Q 218.2 156.1, 217.3 155.8 Q 216.1 155.5, 215.4 155.1 Q 214.7 154.8, 214.2 154.1 Q 213.7 153.4, 213.7 152.1 Q 213.7 150.5, 214.8 149.4 Q 216.0 148.4, 218.2 148.4 Q 219.8 148.4, 221.6 149.1 L 221.1 150.6 Q 219.5 149.9, 218.3 149.9 Q 217.0 149.9, 216.3 150.5 Q 215.5 151.0, 215.6 151.9 Q 215.6 152.6, 215.9 153.1 Q 216.3 153.5, 216.8 153.8 Q 217.4 154.0, 218.3 154.3 Q 219.5 154.7, 220.2 155.0 Q 221.0 155.4, 221.5 156.2 Q 222.0 157.0, 222.0 158.3 Q 222.0 160.1, 220.7 161.1 Q 219.5 162.1, 217.4 162.1 Q 216.2 162.1, 215.3 161.9 Q 214.4 161.6, 213.4 161.2 L 213.9 159.7 \" fill=\"#CCCC00\"/>\n",
       "<path class=\"atom-8\" d=\"M 218.9 179.8 L 223.3 186.9 Q 223.7 187.6, 224.4 188.8 Q 225.1 190.1, 225.2 190.2 L 225.2 179.8 L 227.0 179.8 L 227.0 193.2 L 225.1 193.2 L 220.4 185.4 Q 219.8 184.5, 219.3 183.5 Q 218.7 182.4, 218.5 182.1 L 218.5 193.2 L 216.8 193.2 L 216.8 179.8 L 218.9 179.8 \" fill=\"#0000FF\"/>\n",
       "<path class=\"atom-14\" d=\"M 72.9 42.8 L 77.3 49.9 Q 77.7 50.7, 78.4 51.9 Q 79.2 53.2, 79.2 53.3 L 79.2 42.8 L 81.0 42.8 L 81.0 56.3 L 79.1 56.3 L 74.4 48.5 Q 73.9 47.6, 73.3 46.5 Q 72.7 45.5, 72.5 45.2 L 72.5 56.3 L 70.8 56.3 L 70.8 42.8 L 72.9 42.8 \" fill=\"#0000FF\"/>\n",
       "<path class=\"atom-15\" d=\"M 22.5 72.3 L 24.4 72.3 L 24.4 78.1 L 31.2 78.1 L 31.2 72.3 L 33.1 72.3 L 33.1 85.8 L 31.2 85.8 L 31.2 79.6 L 24.4 79.6 L 24.4 85.8 L 22.5 85.8 L 22.5 72.3 \" fill=\"#000000\"/>\n",
       "<path class=\"atom-16\" d=\"M 160.9 102.3 L 162.8 102.3 L 162.8 108.0 L 169.6 108.0 L 169.6 102.3 L 171.5 102.3 L 171.5 115.7 L 169.6 115.7 L 169.6 109.5 L 162.8 109.5 L 162.8 115.7 L 160.9 115.7 L 160.9 102.3 \" fill=\"#000000\"/>\n",
       "<path class=\"atom-17\" d=\"M 147.3 73.0 L 149.1 73.0 L 149.1 78.7 L 156.0 78.7 L 156.0 73.0 L 157.8 73.0 L 157.8 86.4 L 156.0 86.4 L 156.0 80.2 L 149.1 80.2 L 149.1 86.4 L 147.3 86.4 L 147.3 73.0 \" fill=\"#000000\"/>\n",
       "<path class=\"atom-18\" d=\"M 93.7 129.3 L 95.5 129.3 L 95.5 135.0 L 102.4 135.0 L 102.4 129.3 L 104.2 129.3 L 104.2 142.7 L 102.4 142.7 L 102.4 136.5 L 95.5 136.5 L 95.5 142.7 L 93.7 142.7 L 93.7 129.3 \" fill=\"#000000\"/>\n",
       "<path class=\"atom-19\" d=\"M 105.8 157.8 L 107.6 157.8 L 107.6 163.5 L 114.5 163.5 L 114.5 157.8 L 116.3 157.8 L 116.3 171.2 L 114.5 171.2 L 114.5 165.0 L 107.6 165.0 L 107.6 171.2 L 105.8 171.2 L 105.8 157.8 \" fill=\"#000000\"/>\n",
       "<path class=\"atom-20\" d=\"M 130.3 175.9 L 132.1 175.9 L 132.1 181.6 L 139.0 181.6 L 139.0 175.9 L 140.8 175.9 L 140.8 189.3 L 139.0 189.3 L 139.0 183.1 L 132.1 183.1 L 132.1 189.3 L 130.3 189.3 L 130.3 175.9 \" fill=\"#000000\"/>\n",
       "<path class=\"atom-21\" d=\"M 160.1 177.3 L 161.9 177.3 L 161.9 183.0 L 168.8 183.0 L 168.8 177.3 L 170.6 177.3 L 170.6 190.8 L 168.8 190.8 L 168.8 184.6 L 161.9 184.6 L 161.9 190.8 L 160.1 190.8 L 160.1 177.3 \" fill=\"#000000\"/>\n",
       "<path class=\"atom-22\" d=\"M 244.1 193.5 L 245.9 193.5 L 245.9 199.2 L 252.8 199.2 L 252.8 193.5 L 254.6 193.5 L 254.6 207.0 L 252.8 207.0 L 252.8 200.8 L 245.9 200.8 L 245.9 207.0 L 244.1 207.0 L 244.1 193.5 \" fill=\"#000000\"/>\n",
       "<path class=\"atom-23\" d=\"M 179.8 161.3 L 181.6 161.3 L 181.6 167.0 L 188.5 167.0 L 188.5 161.3 L 190.3 161.3 L 190.3 174.7 L 188.5 174.7 L 188.5 168.5 L 181.6 168.5 L 181.6 174.7 L 179.8 174.7 L 179.8 161.3 \" fill=\"#000000\"/>\n",
       "<path class=\"atom-24\" d=\"M 156.2 204.4 L 158.0 204.4 L 158.0 210.1 L 164.9 210.1 L 164.9 204.4 L 166.7 204.4 L 166.7 217.8 L 164.9 217.8 L 164.9 211.6 L 158.0 211.6 L 158.0 217.8 L 156.2 217.8 L 156.2 204.4 \" fill=\"#000000\"/>\n",
       "<path class=\"atom-25\" d=\"M 156.9 229.6 L 158.7 229.6 L 158.7 235.4 L 165.6 235.4 L 165.6 229.6 L 167.4 229.6 L 167.4 243.1 L 165.6 243.1 L 165.6 236.9 L 158.7 236.9 L 158.7 243.1 L 156.9 243.1 L 156.9 229.6 \" fill=\"#000000\"/>\n",
       "<path class=\"atom-26\" d=\"M 173.6 255.6 L 175.4 255.6 L 175.4 261.3 L 182.2 261.3 L 182.2 255.6 L 184.1 255.6 L 184.1 269.0 L 182.2 269.0 L 182.2 262.8 L 175.4 262.8 L 175.4 269.0 L 173.6 269.0 L 173.6 255.6 \" fill=\"#000000\"/>\n",
       "<path class=\"atom-27\" d=\"M 194.9 270.5 L 196.7 270.5 L 196.7 276.2 L 203.6 276.2 L 203.6 270.5 L 205.4 270.5 L 205.4 283.9 L 203.6 283.9 L 203.6 277.7 L 196.7 277.7 L 196.7 283.9 L 194.9 283.9 L 194.9 270.5 \" fill=\"#000000\"/>\n",
       "<path class=\"atom-28\" d=\"M 226.7 272.9 L 228.5 272.9 L 228.5 278.6 L 235.4 278.6 L 235.4 272.9 L 237.2 272.9 L 237.2 286.4 L 235.4 286.4 L 235.4 280.2 L 228.5 280.2 L 228.5 286.4 L 226.7 286.4 L 226.7 272.9 \" fill=\"#000000\"/>\n",
       "<path class=\"atom-29\" d=\"M 223.6 104.1 L 225.5 104.1 L 225.5 109.8 L 232.3 109.8 L 232.3 104.1 L 234.2 104.1 L 234.2 117.6 L 232.3 117.6 L 232.3 111.4 L 225.5 111.4 L 225.5 117.6 L 223.6 117.6 L 223.6 104.1 \" fill=\"#000000\"/>\n",
       "<path class=\"atom-30\" d=\"M 255.6 104.2 L 257.4 104.2 L 257.4 110.0 L 264.3 110.0 L 264.3 104.2 L 266.1 104.2 L 266.1 117.7 L 264.3 117.7 L 264.3 111.5 L 257.4 111.5 L 257.4 117.7 L 255.6 117.7 L 255.6 104.2 \" fill=\"#000000\"/>\n",
       "<path class=\"atom-31\" d=\"M 266.9 147.3 L 268.8 147.3 L 268.8 153.0 L 275.6 153.0 L 275.6 147.3 L 277.5 147.3 L 277.5 160.7 L 275.6 160.7 L 275.6 154.5 L 268.8 154.5 L 268.8 160.7 L 266.9 160.7 L 266.9 147.3 \" fill=\"#000000\"/>\n",
       "<path class=\"atom-32\" d=\"M 125.4 29.6 L 127.2 29.6 L 127.2 35.3 L 134.1 35.3 L 134.1 29.6 L 135.9 29.6 L 135.9 43.0 L 134.1 43.0 L 134.1 36.8 L 127.2 36.8 L 127.2 43.0 L 125.4 43.0 L 125.4 29.6 \" fill=\"#000000\"/>\n",
       "<path class=\"atom-33\" d=\"M 58.5 13.6 L 60.3 13.6 L 60.3 19.4 L 67.2 19.4 L 67.2 13.6 L 69.0 13.6 L 69.0 27.1 L 67.2 27.1 L 67.2 20.9 L 60.3 20.9 L 60.3 27.1 L 58.5 27.1 L 58.5 13.6 \" fill=\"#000000\"/>\n",
       "<path class=\"atom-34\" d=\"M 241.6 231.1 L 243.5 231.1 L 243.5 236.8 L 250.3 236.8 L 250.3 231.1 L 252.2 231.1 L 252.2 244.6 L 250.3 244.6 L 250.3 238.4 L 243.5 238.4 L 243.5 244.6 L 241.6 244.6 L 241.6 231.1 \" fill=\"#000000\"/>\n",
       "</svg>"
      ],
      "text/plain": [
       "<IPython.core.display.SVG object>"
      ]
     },
     "metadata": {},
     "output_type": "display_data"
    },
    {
     "name": "stdin",
     "output_type": "stream",
     "text": [
      " t146j [H:28][C:1]([C:2]([C:3](/[N:4]=[S:5](\\[N:6]([C:7]([C:8]([C:9]([H:27])([H:22])[H:23])([H:20])[H:21])([H:18])[H:19])[H:17])[C:10]([H:24])([H:25])[H:26])([H:15])[H:16])([H:13])[H:14])([H:11])[H:12] (6, 5, 4, 9)\n"
     ]
    },
    {
     "name": "stdout",
     "output_type": "stream",
     "text": [
      "matched!\n"
     ]
    },
    {
     "data": {
      "image/svg+xml": [
       "<svg xmlns=\"http://www.w3.org/2000/svg\" xmlns:rdkit=\"http://www.rdkit.org/xml\" xmlns:xlink=\"http://www.w3.org/1999/xlink\" version=\"1.1\" baseProfile=\"full\" xml:space=\"preserve\" width=\"300px\" height=\"300px\" viewBox=\"0 0 300 300\">\n",
       "<!-- END OF HEADER -->\n",
       "<rect style=\"opacity:1.0;fill:#FFFFFF;stroke:none\" width=\"300.0\" height=\"300.0\" x=\"0.0\" y=\"0.0\"> </rect>\n",
       "<path class=\"bond-11 atom-4 atom-5\" d=\"M 107.0,175.6 L 154.9,205.0 L 157.4,221.8 L 106.8,190.7 Z\" style=\"fill:#FF7F7F;fill-rule:evenodd;fill-opacity:1;stroke:#FF7F7F;stroke-width:0.0px;stroke-linecap:butt;stroke-linejoin:miter;stroke-opacity:1;\"/>\n",
       "<path class=\"bond-12 atom-4 atom-9\" d=\"M 107.0,175.6 L 106.8,190.7 L 75.6,208.8 L 69.1,197.5 Z\" style=\"fill:#FF7F7F;fill-rule:evenodd;fill-opacity:1;stroke:#FF7F7F;stroke-width:0.0px;stroke-linecap:butt;stroke-linejoin:miter;stroke-opacity:1;\"/>\n",
       "<path class=\"bond-13 atom-5 atom-6\" d=\"M 187.5,168.3 L 197.2,177.0 L 157.4,221.8 L 154.9,205.0 Z\" style=\"fill:#FF7F7F;fill-rule:evenodd;fill-opacity:1;stroke:#FF7F7F;stroke-width:0.0px;stroke-linecap:butt;stroke-linejoin:miter;stroke-opacity:1;\"/>\n",
       "<ellipse cx=\"106.9\" cy=\"183.4\" rx=\"12.2\" ry=\"12.5\" class=\"atom-4\" style=\"fill:#FF7F7F;fill-rule:evenodd;stroke:#FF7F7F;stroke-width:1.0px;stroke-linecap:butt;stroke-linejoin:miter;stroke-opacity:1\"/>\n",
       "<ellipse cx=\"156.1\" cy=\"213.4\" rx=\"12.2\" ry=\"12.2\" class=\"atom-5\" style=\"fill:#FF7F7F;fill-rule:evenodd;stroke:#FF7F7F;stroke-width:1.0px;stroke-linecap:butt;stroke-linejoin:miter;stroke-opacity:1\"/>\n",
       "<ellipse cx=\"192.3\" cy=\"172.7\" rx=\"12.2\" ry=\"12.2\" class=\"atom-6\" style=\"fill:#FF7F7F;fill-rule:evenodd;stroke:#FF7F7F;stroke-width:1.0px;stroke-linecap:butt;stroke-linejoin:miter;stroke-opacity:1\"/>\n",
       "<ellipse cx=\"72.4\" cy=\"203.1\" rx=\"12.2\" ry=\"12.2\" class=\"atom-9\" style=\"fill:#FF7F7F;fill-rule:evenodd;stroke:#FF7F7F;stroke-width:1.0px;stroke-linecap:butt;stroke-linejoin:miter;stroke-opacity:1\"/>\n",
       "<path class=\"bond-0 atom-0 atom-1\" d=\"M 114.4,59.0 L 155.9,76.5\" style=\"fill:none;fill-rule:evenodd;stroke:#000000;stroke-width:2.0px;stroke-linecap:butt;stroke-linejoin:miter;stroke-opacity:1\"/>\n",
       "<path class=\"bond-1 atom-0 atom-10\" d=\"M 114.4,59.0 L 125.7,32.3\" style=\"fill:none;fill-rule:evenodd;stroke:#000000;stroke-width:2.0px;stroke-linecap:butt;stroke-linejoin:miter;stroke-opacity:1\"/>\n",
       "<path class=\"bond-2 atom-0 atom-11\" d=\"M 114.4,59.0 L 97.3,35.8\" style=\"fill:none;fill-rule:evenodd;stroke:#000000;stroke-width:2.0px;stroke-linecap:butt;stroke-linejoin:miter;stroke-opacity:1\"/>\n",
       "<path class=\"bond-3 atom-0 atom-27\" d=\"M 114.4,59.0 L 88.1,77.3\" style=\"fill:none;fill-rule:evenodd;stroke:#000000;stroke-width:2.0px;stroke-linecap:butt;stroke-linejoin:miter;stroke-opacity:1\"/>\n",
       "<path class=\"bond-4 atom-1 atom-2\" d=\"M 155.9,76.5 L 158.9,114.8\" style=\"fill:none;fill-rule:evenodd;stroke:#000000;stroke-width:2.0px;stroke-linecap:butt;stroke-linejoin:miter;stroke-opacity:1\"/>\n",
       "<path class=\"bond-5 atom-1 atom-12\" d=\"M 155.9,76.5 L 185.8,74.1\" style=\"fill:none;fill-rule:evenodd;stroke:#000000;stroke-width:2.0px;stroke-linecap:butt;stroke-linejoin:miter;stroke-opacity:1\"/>\n",
       "<path class=\"bond-6 atom-1 atom-13\" d=\"M 155.9,76.5 L 166.7,50.6\" style=\"fill:none;fill-rule:evenodd;stroke:#000000;stroke-width:2.0px;stroke-linecap:butt;stroke-linejoin:miter;stroke-opacity:1\"/>\n",
       "<path class=\"bond-7 atom-2 atom-3\" d=\"M 158.9,114.8 L 136.2,119.4\" style=\"fill:none;fill-rule:evenodd;stroke:#000000;stroke-width:2.0px;stroke-linecap:butt;stroke-linejoin:miter;stroke-opacity:1\"/>\n",
       "<path class=\"bond-7 atom-2 atom-3\" d=\"M 136.2,119.4 L 113.5,124.0\" style=\"fill:none;fill-rule:evenodd;stroke:#0000FF;stroke-width:2.0px;stroke-linecap:butt;stroke-linejoin:miter;stroke-opacity:1\"/>\n",
       "<path class=\"bond-8 atom-2 atom-14\" d=\"M 158.9,114.8 L 157.2,159.0\" style=\"fill:none;fill-rule:evenodd;stroke:#000000;stroke-width:2.0px;stroke-linecap:butt;stroke-linejoin:miter;stroke-opacity:1\"/>\n",
       "<path class=\"bond-9 atom-2 atom-15\" d=\"M 158.9,114.8 L 181.0,116.4\" style=\"fill:none;fill-rule:evenodd;stroke:#000000;stroke-width:2.0px;stroke-linecap:butt;stroke-linejoin:miter;stroke-opacity:1\"/>\n",
       "<path class=\"bond-10 atom-3 atom-4\" d=\"M 109.0,135.6 L 109.4,154.3\" style=\"fill:none;fill-rule:evenodd;stroke:#0000FF;stroke-width:2.0px;stroke-linecap:butt;stroke-linejoin:miter;stroke-opacity:1\"/>\n",
       "<path class=\"bond-10 atom-3 atom-4\" d=\"M 109.4,154.3 L 109.9,173.0\" style=\"fill:none;fill-rule:evenodd;stroke:#CCCC00;stroke-width:2.0px;stroke-linecap:butt;stroke-linejoin:miter;stroke-opacity:1\"/>\n",
       "<path class=\"bond-10 atom-3 atom-4\" d=\"M 102.6,135.7 L 103.0,154.4\" style=\"fill:none;fill-rule:evenodd;stroke:#0000FF;stroke-width:2.0px;stroke-linecap:butt;stroke-linejoin:miter;stroke-opacity:1\"/>\n",
       "<path class=\"bond-10 atom-3 atom-4\" d=\"M 103.0,154.4 L 103.5,173.2\" style=\"fill:none;fill-rule:evenodd;stroke:#CCCC00;stroke-width:2.0px;stroke-linecap:butt;stroke-linejoin:miter;stroke-opacity:1\"/>\n",
       "<path class=\"bond-11 atom-4 atom-5\" d=\"M 113.9,187.4 L 131.0,198.0\" style=\"fill:none;fill-rule:evenodd;stroke:#CCCC00;stroke-width:2.0px;stroke-linecap:butt;stroke-linejoin:miter;stroke-opacity:1\"/>\n",
       "<path class=\"bond-11 atom-4 atom-5\" d=\"M 131.0,198.0 L 148.1,208.5\" style=\"fill:none;fill-rule:evenodd;stroke:#0000FF;stroke-width:2.0px;stroke-linecap:butt;stroke-linejoin:miter;stroke-opacity:1\"/>\n",
       "<path class=\"bond-12 atom-4 atom-9\" d=\"M 99.9,187.2 L 86.2,195.1\" style=\"fill:none;fill-rule:evenodd;stroke:#CCCC00;stroke-width:2.0px;stroke-linecap:butt;stroke-linejoin:miter;stroke-opacity:1\"/>\n",
       "<path class=\"bond-12 atom-4 atom-9\" d=\"M 86.2,195.1 L 72.4,203.1\" style=\"fill:none;fill-rule:evenodd;stroke:#000000;stroke-width:2.0px;stroke-linecap:butt;stroke-linejoin:miter;stroke-opacity:1\"/>\n",
       "<path class=\"bond-13 atom-5 atom-6\" d=\"M 164.1,204.4 L 178.2,188.6\" style=\"fill:none;fill-rule:evenodd;stroke:#0000FF;stroke-width:2.0px;stroke-linecap:butt;stroke-linejoin:miter;stroke-opacity:1\"/>\n",
       "<path class=\"bond-13 atom-5 atom-6\" d=\"M 178.2,188.6 L 192.3,172.7\" style=\"fill:none;fill-rule:evenodd;stroke:#000000;stroke-width:2.0px;stroke-linecap:butt;stroke-linejoin:miter;stroke-opacity:1\"/>\n",
       "<path class=\"bond-14 atom-5 atom-16\" d=\"M 155.6,223.5 L 155.2,230.7\" style=\"fill:none;fill-rule:evenodd;stroke:#0000FF;stroke-width:2.0px;stroke-linecap:butt;stroke-linejoin:miter;stroke-opacity:1\"/>\n",
       "<path class=\"bond-14 atom-5 atom-16\" d=\"M 155.2,230.7 L 154.8,237.9\" style=\"fill:none;fill-rule:evenodd;stroke:#000000;stroke-width:2.0px;stroke-linecap:butt;stroke-linejoin:miter;stroke-opacity:1\"/>\n",
       "<path class=\"bond-15 atom-6 atom-7\" d=\"M 192.3,172.7 L 224.3,194.8\" style=\"fill:none;fill-rule:evenodd;stroke:#000000;stroke-width:2.0px;stroke-linecap:butt;stroke-linejoin:miter;stroke-opacity:1\"/>\n",
       "<path class=\"bond-16 atom-6 atom-17\" d=\"M 192.3,172.7 L 200.6,155.3\" style=\"fill:none;fill-rule:evenodd;stroke:#000000;stroke-width:2.0px;stroke-linecap:butt;stroke-linejoin:miter;stroke-opacity:1\"/>\n",
       "<path class=\"bond-17 atom-6 atom-18\" d=\"M 192.3,172.7 L 152.4,151.5\" style=\"fill:none;fill-rule:evenodd;stroke:#000000;stroke-width:2.0px;stroke-linecap:butt;stroke-linejoin:miter;stroke-opacity:1\"/>\n",
       "<path class=\"bond-18 atom-7 atom-8\" d=\"M 224.3,194.8 L 219.8,241.2\" style=\"fill:none;fill-rule:evenodd;stroke:#000000;stroke-width:2.0px;stroke-linecap:butt;stroke-linejoin:miter;stroke-opacity:1\"/>\n",
       "<path class=\"bond-19 atom-7 atom-19\" d=\"M 224.3,194.8 L 238.9,173.3\" style=\"fill:none;fill-rule:evenodd;stroke:#000000;stroke-width:2.0px;stroke-linecap:butt;stroke-linejoin:miter;stroke-opacity:1\"/>\n",
       "<path class=\"bond-20 atom-7 atom-20\" d=\"M 224.3,194.8 L 254.6,198.3\" style=\"fill:none;fill-rule:evenodd;stroke:#000000;stroke-width:2.0px;stroke-linecap:butt;stroke-linejoin:miter;stroke-opacity:1\"/>\n",
       "<path class=\"bond-21 atom-8 atom-21\" d=\"M 219.8,241.2 L 250.6,244.0\" style=\"fill:none;fill-rule:evenodd;stroke:#000000;stroke-width:2.0px;stroke-linecap:butt;stroke-linejoin:miter;stroke-opacity:1\"/>\n",
       "<path class=\"bond-22 atom-8 atom-22\" d=\"M 219.8,241.2 L 232.1,267.7\" style=\"fill:none;fill-rule:evenodd;stroke:#000000;stroke-width:2.0px;stroke-linecap:butt;stroke-linejoin:miter;stroke-opacity:1\"/>\n",
       "<path class=\"bond-23 atom-8 atom-26\" d=\"M 219.8,241.2 L 192.2,256.3\" style=\"fill:none;fill-rule:evenodd;stroke:#000000;stroke-width:2.0px;stroke-linecap:butt;stroke-linejoin:miter;stroke-opacity:1\"/>\n",
       "<path class=\"bond-24 atom-9 atom-23\" d=\"M 72.4,203.1 L 87.1,228.2\" style=\"fill:none;fill-rule:evenodd;stroke:#000000;stroke-width:2.0px;stroke-linecap:butt;stroke-linejoin:miter;stroke-opacity:1\"/>\n",
       "<path class=\"bond-25 atom-9 atom-24\" d=\"M 72.4,203.1 L 58.0,228.3\" style=\"fill:none;fill-rule:evenodd;stroke:#000000;stroke-width:2.0px;stroke-linecap:butt;stroke-linejoin:miter;stroke-opacity:1\"/>\n",
       "<path class=\"bond-26 atom-9 atom-25\" d=\"M 72.4,203.1 L 45.4,187.6\" style=\"fill:none;fill-rule:evenodd;stroke:#000000;stroke-width:2.0px;stroke-linecap:butt;stroke-linejoin:miter;stroke-opacity:1\"/>\n",
       "<path class=\"atom-3\" d=\"M 101.7 116.9 L 107.4 126.1 Q 107.9 127.0, 108.8 128.6 Q 109.7 130.3, 109.8 130.4 L 109.8 116.9 L 112.1 116.9 L 112.1 134.2 L 109.7 134.2 L 103.6 124.2 Q 102.9 123.0, 102.2 121.7 Q 101.4 120.3, 101.2 119.9 L 101.2 134.2 L 99.0 134.2 L 99.0 116.9 L 101.7 116.9 \" fill=\"#0000FF\"/>\n",
       "<path class=\"atom-4\" d=\"M 102.0 189.1 Q 102.2 189.1, 103.0 189.5 Q 103.8 189.8, 104.7 190.0 Q 105.6 190.2, 106.5 190.2 Q 108.1 190.2, 109.1 189.5 Q 110.0 188.7, 110.0 187.3 Q 110.0 186.3, 109.5 185.7 Q 109.1 185.1, 108.3 184.8 Q 107.6 184.5, 106.4 184.1 Q 104.9 183.7, 103.9 183.2 Q 103.0 182.8, 102.4 181.9 Q 101.7 180.9, 101.7 179.4 Q 101.7 177.2, 103.2 175.9 Q 104.7 174.5, 107.6 174.5 Q 109.6 174.5, 111.9 175.5 L 111.3 177.3 Q 109.2 176.5, 107.7 176.5 Q 106.0 176.5, 105.1 177.2 Q 104.1 177.9, 104.2 179.1 Q 104.2 180.0, 104.6 180.6 Q 105.1 181.1, 105.8 181.5 Q 106.5 181.8, 107.7 182.1 Q 109.2 182.6, 110.2 183.1 Q 111.1 183.6, 111.8 184.6 Q 112.4 185.6, 112.4 187.3 Q 112.4 189.7, 110.8 190.9 Q 109.2 192.2, 106.6 192.2 Q 105.0 192.2, 103.9 191.9 Q 102.7 191.6, 101.4 191.0 L 102.0 189.1 \" fill=\"#CCCC00\"/>\n",
       "<path class=\"atom-5\" d=\"M 152.3 204.8 L 158.0 213.9 Q 158.5 214.8, 159.4 216.5 Q 160.3 218.1, 160.4 218.2 L 160.4 204.8 L 162.7 204.8 L 162.7 222.1 L 160.3 222.1 L 154.2 212.0 Q 153.5 210.9, 152.8 209.5 Q 152.0 208.2, 151.8 207.8 L 151.8 222.1 L 149.6 222.1 L 149.6 204.8 L 152.3 204.8 \" fill=\"#0000FF\"/>\n",
       "<path class=\"atom-10\" d=\"M 123.2 13.6 L 125.5 13.6 L 125.5 21.0 L 134.4 21.0 L 134.4 13.6 L 136.7 13.6 L 136.7 30.9 L 134.4 30.9 L 134.4 22.9 L 125.5 22.9 L 125.5 30.9 L 123.2 30.9 L 123.2 13.6 \" fill=\"#000000\"/>\n",
       "<path class=\"atom-11\" d=\"M 83.2 17.1 L 85.5 17.1 L 85.5 24.4 L 94.4 24.4 L 94.4 17.1 L 96.7 17.1 L 96.7 34.4 L 94.4 34.4 L 94.4 26.4 L 85.5 26.4 L 85.5 34.4 L 83.2 34.4 L 83.2 17.1 \" fill=\"#000000\"/>\n",
       "<path class=\"atom-12\" d=\"M 187.2 64.8 L 189.5 64.8 L 189.5 72.1 L 198.4 72.1 L 198.4 64.8 L 200.7 64.8 L 200.7 82.1 L 198.4 82.1 L 198.4 74.1 L 189.5 74.1 L 189.5 82.1 L 187.2 82.1 L 187.2 64.8 \" fill=\"#000000\"/>\n",
       "<path class=\"atom-13\" d=\"M 164.1 31.9 L 166.4 31.9 L 166.4 39.2 L 175.3 39.2 L 175.3 31.9 L 177.6 31.9 L 177.6 49.2 L 175.3 49.2 L 175.3 41.2 L 166.4 41.2 L 166.4 49.2 L 164.1 49.2 L 164.1 31.9 \" fill=\"#000000\"/>\n",
       "<path class=\"atom-14\" d=\"M 150.0 160.4 L 152.4 160.4 L 152.4 167.8 L 161.2 167.8 L 161.2 160.4 L 163.6 160.4 L 163.6 177.7 L 161.2 177.7 L 161.2 169.7 L 152.4 169.7 L 152.4 177.7 L 150.0 177.7 L 150.0 160.4 \" fill=\"#000000\"/>\n",
       "<path class=\"atom-15\" d=\"M 182.4 108.4 L 184.7 108.4 L 184.7 115.7 L 193.6 115.7 L 193.6 108.4 L 195.9 108.4 L 195.9 125.7 L 193.6 125.7 L 193.6 117.7 L 184.7 117.7 L 184.7 125.7 L 182.4 125.7 L 182.4 108.4 \" fill=\"#000000\"/>\n",
       "<path class=\"atom-16\" d=\"M 147.4 239.3 L 149.8 239.3 L 149.8 246.6 L 158.6 246.6 L 158.6 239.3 L 161.0 239.3 L 161.0 256.6 L 158.6 256.6 L 158.6 248.6 L 149.8 248.6 L 149.8 256.6 L 147.4 256.6 L 147.4 239.3 \" fill=\"#000000\"/>\n",
       "<path class=\"atom-17\" d=\"M 198.7 136.6 L 201.0 136.6 L 201.0 143.9 L 209.9 143.9 L 209.9 136.6 L 212.2 136.6 L 212.2 153.9 L 209.9 153.9 L 209.9 145.9 L 201.0 145.9 L 201.0 153.9 L 198.7 153.9 L 198.7 136.6 \" fill=\"#000000\"/>\n",
       "<path class=\"atom-18\" d=\"M 137.4 138.6 L 139.8 138.6 L 139.8 145.9 L 148.6 145.9 L 148.6 138.6 L 150.9 138.6 L 150.9 155.9 L 148.6 155.9 L 148.6 147.9 L 139.8 147.9 L 139.8 155.9 L 137.4 155.9 L 137.4 138.6 \" fill=\"#000000\"/>\n",
       "<path class=\"atom-19\" d=\"M 238.9 154.6 L 241.3 154.6 L 241.3 161.9 L 250.1 161.9 L 250.1 154.6 L 252.4 154.6 L 252.4 171.9 L 250.1 171.9 L 250.1 163.9 L 241.3 163.9 L 241.3 171.9 L 238.9 171.9 L 238.9 154.6 \" fill=\"#000000\"/>\n",
       "<path class=\"atom-20\" d=\"M 256.0 190.6 L 258.3 190.6 L 258.3 198.0 L 267.2 198.0 L 267.2 190.6 L 269.5 190.6 L 269.5 207.9 L 267.2 207.9 L 267.2 199.9 L 258.3 199.9 L 258.3 207.9 L 256.0 207.9 L 256.0 190.6 \" fill=\"#000000\"/>\n",
       "<path class=\"atom-21\" d=\"M 252.0 236.1 L 254.3 236.1 L 254.3 243.5 L 263.2 243.5 L 263.2 236.1 L 265.5 236.1 L 265.5 253.4 L 263.2 253.4 L 263.2 245.4 L 254.3 245.4 L 254.3 253.4 L 252.0 253.4 L 252.0 236.1 \" fill=\"#000000\"/>\n",
       "<path class=\"atom-22\" d=\"M 229.9 269.1 L 232.3 269.1 L 232.3 276.4 L 241.1 276.4 L 241.1 269.1 L 243.5 269.1 L 243.5 286.4 L 241.1 286.4 L 241.1 278.4 L 232.3 278.4 L 232.3 286.4 L 229.9 286.4 L 229.9 269.1 \" fill=\"#000000\"/>\n",
       "<path class=\"atom-23\" d=\"M 86.2 229.6 L 88.6 229.6 L 88.6 236.9 L 97.4 236.9 L 97.4 229.6 L 99.7 229.6 L 99.7 246.9 L 97.4 246.9 L 97.4 238.9 L 88.6 238.9 L 88.6 246.9 L 86.2 246.9 L 86.2 229.6 \" fill=\"#000000\"/>\n",
       "<path class=\"atom-24\" d=\"M 45.5 229.7 L 47.9 229.7 L 47.9 237.0 L 56.7 237.0 L 56.7 229.7 L 59.1 229.7 L 59.1 247.0 L 56.7 247.0 L 56.7 239.0 L 47.9 239.0 L 47.9 247.0 L 45.5 247.0 L 45.5 229.7 \" fill=\"#000000\"/>\n",
       "<path class=\"atom-25\" d=\"M 30.5 174.2 L 32.8 174.2 L 32.8 181.5 L 41.7 181.5 L 41.7 174.2 L 44.0 174.2 L 44.0 191.5 L 41.7 191.5 L 41.7 183.5 L 32.8 183.5 L 32.8 191.5 L 30.5 191.5 L 30.5 174.2 \" fill=\"#000000\"/>\n",
       "<path class=\"atom-26\" d=\"M 177.3 252.1 L 179.6 252.1 L 179.6 259.4 L 188.5 259.4 L 188.5 252.1 L 190.8 252.1 L 190.8 269.3 L 188.5 269.3 L 188.5 261.4 L 179.6 261.4 L 179.6 269.3 L 177.3 269.3 L 177.3 252.1 \" fill=\"#000000\"/>\n",
       "<path class=\"atom-27\" d=\"M 73.1 74.3 L 75.5 74.3 L 75.5 81.7 L 84.3 81.7 L 84.3 74.3 L 86.6 74.3 L 86.6 91.6 L 84.3 91.6 L 84.3 83.6 L 75.5 83.6 L 75.5 91.6 L 73.1 91.6 L 73.1 74.3 \" fill=\"#000000\"/>\n",
       "</svg>"
      ],
      "text/plain": [
       "<IPython.core.display.SVG object>"
      ]
     },
     "metadata": {},
     "output_type": "display_data"
    }
   ],
   "source": [
    "import re\n",
    "junk = re.compile(\"[(,)]\")\n",
    "\n",
    "while (line := input()) != \"q\":\n",
    "    pid, smiles, *rest = line.split()\n",
    "    tors = tuple([int(junk.sub(\"\", x)) for x in rest])\n",
    "    try:\n",
    "        mol = Molecule.from_mapped_smiles(smiles, allow_undefined_stereo=True)\n",
    "        labels = ff.label_molecules(mol.to_topology())[0][\"ProperTorsions\"]\n",
    "        labels = {k: p.id for k, p in labels.items()}\n",
    "        if labels[tors] == pid:\n",
    "            print(\"matched!\")\n",
    "        else:\n",
    "            print(pids)\n",
    "        display(mol_to_svg(mol, tors))\n",
    "    except Exception as e:\n",
    "        print(e)"
   ]
  },
  {
   "cell_type": "code",
   "execution_count": 77,
   "id": "90877186-e0d6-48aa-84bd-814076b4b7c7",
   "metadata": {},
   "outputs": [
    {
     "data": {
      "image/svg+xml": [
       "<svg xmlns=\"http://www.w3.org/2000/svg\" xmlns:rdkit=\"http://www.rdkit.org/xml\" xmlns:xlink=\"http://www.w3.org/1999/xlink\" version=\"1.1\" baseProfile=\"full\" xml:space=\"preserve\" width=\"300px\" height=\"300px\" viewBox=\"0 0 300 300\">\n",
       "<!-- END OF HEADER -->\n",
       "<rect style=\"opacity:1.0;fill:#FFFFFF;stroke:none\" width=\"300.0\" height=\"300.0\" x=\"0.0\" y=\"0.0\"> </rect>\n",
       "<path class=\"bond-29 atom-12 atom-13\" d=\"M 235.4,170.0 L 235.9,193.7 L 231.6,196.2 L 227.2,193.7 L 226.7,170.2 Z\" style=\"fill:#FF7F7F;fill-rule:evenodd;fill-opacity:1;stroke:#FF7F7F;stroke-width:0.0px;stroke-linecap:butt;stroke-linejoin:miter;stroke-opacity:1;\"/>\n",
       "<path class=\"bond-31 atom-13 atom-14\" d=\"M 227.2,193.7 L 231.6,196.2 L 231.6,201.3 L 212.2,212.4 L 203.5,207.3 Z\" style=\"fill:#FF7F7F;fill-rule:evenodd;fill-opacity:1;stroke:#FF7F7F;stroke-width:0.0px;stroke-linecap:butt;stroke-linejoin:miter;stroke-opacity:1;\"/>\n",
       "<path class=\"bond-32 atom-13 atom-18\" d=\"M 235.9,193.7 L 259.7,207.5 L 250.9,212.6 L 231.6,201.3 L 231.6,196.2 Z\" style=\"fill:#FF7F7F;fill-rule:evenodd;fill-opacity:1;stroke:#FF7F7F;stroke-width:0.0px;stroke-linecap:butt;stroke-linejoin:miter;stroke-opacity:1;\"/>\n",
       "<path class=\"bond-33 atom-14 atom-15\" d=\"M 203.5,207.3 L 212.2,212.4 L 212.1,234.7 L 203.3,239.7 Z\" style=\"fill:#FF7F7F;fill-rule:evenodd;fill-opacity:1;stroke:#FF7F7F;stroke-width:0.0px;stroke-linecap:butt;stroke-linejoin:miter;stroke-opacity:1;\"/>\n",
       "<path class=\"bond-34 atom-15 atom-16\" d=\"M 212.1,234.7 L 231.5,245.8 L 231.4,255.9 L 203.3,239.7 Z\" style=\"fill:#FF7F7F;fill-rule:evenodd;fill-opacity:1;stroke:#FF7F7F;stroke-width:0.0px;stroke-linecap:butt;stroke-linejoin:miter;stroke-opacity:1;\"/>\n",
       "<path class=\"bond-36 atom-16 atom-17\" d=\"M 250.9,234.8 L 259.6,239.9 L 231.4,255.9 L 231.5,245.8 Z\" style=\"fill:#FF7F7F;fill-rule:evenodd;fill-opacity:1;stroke:#FF7F7F;stroke-width:0.0px;stroke-linecap:butt;stroke-linejoin:miter;stroke-opacity:1;\"/>\n",
       "<path class=\"bond-38 atom-17 atom-18\" d=\"M 259.7,207.5 L 259.6,239.9 L 250.9,234.8 L 250.9,212.6 Z\" style=\"fill:#FF7F7F;fill-rule:evenodd;fill-opacity:1;stroke:#FF7F7F;stroke-width:0.0px;stroke-linecap:butt;stroke-linejoin:miter;stroke-opacity:1;\"/>\n",
       "<ellipse cx=\"231.0\" cy=\"170.1\" rx=\"8.2\" ry=\"8.2\" class=\"atom-12\" style=\"fill:#FF7F7F;fill-rule:evenodd;stroke:#FF7F7F;stroke-width:1.0px;stroke-linecap:butt;stroke-linejoin:miter;stroke-opacity:1\"/>\n",
       "<ellipse cx=\"231.6\" cy=\"196.2\" rx=\"8.2\" ry=\"8.2\" class=\"atom-13\" style=\"fill:#FF7F7F;fill-rule:evenodd;stroke:#FF7F7F;stroke-width:1.0px;stroke-linecap:butt;stroke-linejoin:miter;stroke-opacity:1\"/>\n",
       "<ellipse cx=\"207.9\" cy=\"209.9\" rx=\"8.2\" ry=\"8.2\" class=\"atom-14\" style=\"fill:#FF7F7F;fill-rule:evenodd;stroke:#FF7F7F;stroke-width:1.0px;stroke-linecap:butt;stroke-linejoin:miter;stroke-opacity:1\"/>\n",
       "<ellipse cx=\"207.7\" cy=\"237.2\" rx=\"8.2\" ry=\"8.2\" class=\"atom-15\" style=\"fill:#FF7F7F;fill-rule:evenodd;stroke:#FF7F7F;stroke-width:1.0px;stroke-linecap:butt;stroke-linejoin:miter;stroke-opacity:1\"/>\n",
       "<ellipse cx=\"231.5\" cy=\"250.9\" rx=\"8.2\" ry=\"8.2\" class=\"atom-16\" style=\"fill:#FF7F7F;fill-rule:evenodd;stroke:#FF7F7F;stroke-width:1.0px;stroke-linecap:butt;stroke-linejoin:miter;stroke-opacity:1\"/>\n",
       "<ellipse cx=\"255.3\" cy=\"237.4\" rx=\"8.2\" ry=\"8.2\" class=\"atom-17\" style=\"fill:#FF7F7F;fill-rule:evenodd;stroke:#FF7F7F;stroke-width:1.0px;stroke-linecap:butt;stroke-linejoin:miter;stroke-opacity:1\"/>\n",
       "<ellipse cx=\"255.3\" cy=\"210.1\" rx=\"8.2\" ry=\"8.2\" class=\"atom-18\" style=\"fill:#FF7F7F;fill-rule:evenodd;stroke:#FF7F7F;stroke-width:1.0px;stroke-linecap:butt;stroke-linejoin:miter;stroke-opacity:1\"/>\n",
       "<path class=\"bond-0 atom-0 atom-1\" d=\"M 59.3,203.8 L 70.0,201.4\" style=\"fill:none;fill-rule:evenodd;stroke:#000000;stroke-width:2.0px;stroke-linecap:butt;stroke-linejoin:miter;stroke-opacity:1\"/>\n",
       "<path class=\"bond-0 atom-0 atom-1\" d=\"M 70.0,201.4 L 80.6,199.0\" style=\"fill:none;fill-rule:evenodd;stroke:#0000FF;stroke-width:2.0px;stroke-linecap:butt;stroke-linejoin:miter;stroke-opacity:1\"/>\n",
       "<path class=\"bond-0 atom-0 atom-1\" d=\"M 61.4,199.0 L 70.6,197.0\" style=\"fill:none;fill-rule:evenodd;stroke:#000000;stroke-width:2.0px;stroke-linecap:butt;stroke-linejoin:miter;stroke-opacity:1\"/>\n",
       "<path class=\"bond-0 atom-0 atom-1\" d=\"M 70.6,197.0 L 79.7,194.9\" style=\"fill:none;fill-rule:evenodd;stroke:#0000FF;stroke-width:2.0px;stroke-linecap:butt;stroke-linejoin:miter;stroke-opacity:1\"/>\n",
       "<path class=\"bond-1 atom-0 atom-23\" d=\"M 59.3,203.8 L 54.3,195.3\" style=\"fill:none;fill-rule:evenodd;stroke:#000000;stroke-width:2.0px;stroke-linecap:butt;stroke-linejoin:miter;stroke-opacity:1\"/>\n",
       "<path class=\"bond-1 atom-0 atom-23\" d=\"M 54.3,195.3 L 49.4,186.9\" style=\"fill:none;fill-rule:evenodd;stroke:#0000FF;stroke-width:2.0px;stroke-linecap:butt;stroke-linejoin:miter;stroke-opacity:1\"/>\n",
       "<path class=\"bond-2 atom-0 atom-24\" d=\"M 59.3,203.8 L 51.3,222.1\" style=\"fill:none;fill-rule:evenodd;stroke:#000000;stroke-width:2.0px;stroke-linecap:butt;stroke-linejoin:miter;stroke-opacity:1\"/>\n",
       "<path class=\"bond-3 atom-1 atom-2\" d=\"M 86.6,191.1 L 87.7,180.8\" style=\"fill:none;fill-rule:evenodd;stroke:#0000FF;stroke-width:2.0px;stroke-linecap:butt;stroke-linejoin:miter;stroke-opacity:1\"/>\n",
       "<path class=\"bond-3 atom-1 atom-2\" d=\"M 87.7,180.8 L 88.7,170.6\" style=\"fill:none;fill-rule:evenodd;stroke:#000000;stroke-width:2.0px;stroke-linecap:butt;stroke-linejoin:miter;stroke-opacity:1\"/>\n",
       "<path class=\"bond-4 atom-2 atom-3\" d=\"M 88.7,170.6 L 111.7,159.6\" style=\"fill:none;fill-rule:evenodd;stroke:#000000;stroke-width:2.0px;stroke-linecap:butt;stroke-linejoin:miter;stroke-opacity:1\"/>\n",
       "<path class=\"bond-5 atom-2 atom-22\" d=\"M 88.7,170.6 L 63.6,159.6\" style=\"fill:none;fill-rule:evenodd;stroke:#000000;stroke-width:2.0px;stroke-linecap:butt;stroke-linejoin:miter;stroke-opacity:1\"/>\n",
       "<path class=\"bond-5 atom-2 atom-22\" d=\"M 84.2,173.2 L 64.7,164.7\" style=\"fill:none;fill-rule:evenodd;stroke:#000000;stroke-width:2.0px;stroke-linecap:butt;stroke-linejoin:miter;stroke-opacity:1\"/>\n",
       "<path class=\"bond-6 atom-3 atom-4\" d=\"M 111.7,159.6 L 113.8,137.0\" style=\"fill:none;fill-rule:evenodd;stroke:#000000;stroke-width:2.0px;stroke-linecap:butt;stroke-linejoin:miter;stroke-opacity:1\"/>\n",
       "<path class=\"bond-7 atom-3 atom-25\" d=\"M 111.7,159.6 L 133.0,160.9\" style=\"fill:none;fill-rule:evenodd;stroke:#000000;stroke-width:2.0px;stroke-linecap:butt;stroke-linejoin:miter;stroke-opacity:1\"/>\n",
       "<path class=\"bond-8 atom-3 atom-26\" d=\"M 111.7,159.6 L 120.4,176.9\" style=\"fill:none;fill-rule:evenodd;stroke:#000000;stroke-width:2.0px;stroke-linecap:butt;stroke-linejoin:miter;stroke-opacity:1\"/>\n",
       "<path class=\"bond-9 atom-4 atom-5\" d=\"M 113.8,137.0 L 136.8,125.9\" style=\"fill:none;fill-rule:evenodd;stroke:#000000;stroke-width:2.0px;stroke-linecap:butt;stroke-linejoin:miter;stroke-opacity:1\"/>\n",
       "<path class=\"bond-10 atom-4 atom-27\" d=\"M 113.8,137.0 L 104.8,117.5\" style=\"fill:none;fill-rule:evenodd;stroke:#000000;stroke-width:2.0px;stroke-linecap:butt;stroke-linejoin:miter;stroke-opacity:1\"/>\n",
       "<path class=\"bond-11 atom-4 atom-28\" d=\"M 113.8,137.0 L 91.4,134.2\" style=\"fill:none;fill-rule:evenodd;stroke:#000000;stroke-width:2.0px;stroke-linecap:butt;stroke-linejoin:miter;stroke-opacity:1\"/>\n",
       "<path class=\"bond-12 atom-5 atom-6\" d=\"M 136.8,125.9 L 131.9,111.9\" style=\"fill:none;fill-rule:evenodd;stroke:#000000;stroke-width:2.0px;stroke-linecap:butt;stroke-linejoin:miter;stroke-opacity:1\"/>\n",
       "<path class=\"bond-12 atom-5 atom-6\" d=\"M 131.9,111.9 L 127.0,98.0\" style=\"fill:none;fill-rule:evenodd;stroke:#0000FF;stroke-width:2.0px;stroke-linecap:butt;stroke-linejoin:miter;stroke-opacity:1\"/>\n",
       "<path class=\"bond-13 atom-5 atom-29\" d=\"M 136.8,125.9 L 161.9,109.5\" style=\"fill:none;fill-rule:evenodd;stroke:#000000;stroke-width:2.0px;stroke-linecap:butt;stroke-linejoin:miter;stroke-opacity:1\"/>\n",
       "<path class=\"bond-14 atom-5 atom-30\" d=\"M 136.8,125.9 L 143.5,135.0\" style=\"fill:none;fill-rule:evenodd;stroke:#000000;stroke-width:2.0px;stroke-linecap:butt;stroke-linejoin:miter;stroke-opacity:1\"/>\n",
       "<path class=\"bond-15 atom-6 atom-7\" d=\"M 129.0,86.4 L 140.9,79.7\" style=\"fill:none;fill-rule:evenodd;stroke:#0000FF;stroke-width:2.0px;stroke-linecap:butt;stroke-linejoin:miter;stroke-opacity:1\"/>\n",
       "<path class=\"bond-15 atom-6 atom-7\" d=\"M 140.9,79.7 L 152.9,72.9\" style=\"fill:none;fill-rule:evenodd;stroke:#CCCC00;stroke-width:2.0px;stroke-linecap:butt;stroke-linejoin:miter;stroke-opacity:1\"/>\n",
       "<path class=\"bond-15 atom-6 atom-7\" d=\"M 131.0,90.0 L 143.0,83.3\" style=\"fill:none;fill-rule:evenodd;stroke:#0000FF;stroke-width:2.0px;stroke-linecap:butt;stroke-linejoin:miter;stroke-opacity:1\"/>\n",
       "<path class=\"bond-15 atom-6 atom-7\" d=\"M 143.0,83.3 L 155.0,76.6\" style=\"fill:none;fill-rule:evenodd;stroke:#CCCC00;stroke-width:2.0px;stroke-linecap:butt;stroke-linejoin:miter;stroke-opacity:1\"/>\n",
       "<path class=\"bond-16 atom-7 atom-8\" d=\"M 163.2,74.6 L 175.4,81.1\" style=\"fill:none;fill-rule:evenodd;stroke:#CCCC00;stroke-width:2.0px;stroke-linecap:butt;stroke-linejoin:miter;stroke-opacity:1\"/>\n",
       "<path class=\"bond-16 atom-7 atom-8\" d=\"M 175.4,81.1 L 187.5,87.6\" style=\"fill:none;fill-rule:evenodd;stroke:#0000FF;stroke-width:2.0px;stroke-linecap:butt;stroke-linejoin:miter;stroke-opacity:1\"/>\n",
       "<path class=\"bond-17 atom-7 atom-21\" d=\"M 158.5,65.4 L 158.4,55.4\" style=\"fill:none;fill-rule:evenodd;stroke:#CCCC00;stroke-width:2.0px;stroke-linecap:butt;stroke-linejoin:miter;stroke-opacity:1\"/>\n",
       "<path class=\"bond-17 atom-7 atom-21\" d=\"M 158.4,55.4 L 158.3,45.4\" style=\"fill:none;fill-rule:evenodd;stroke:#000000;stroke-width:2.0px;stroke-linecap:butt;stroke-linejoin:miter;stroke-opacity:1\"/>\n",
       "<path class=\"bond-18 atom-8 atom-9\" d=\"M 190.6,97.2 L 186.1,111.3\" style=\"fill:none;fill-rule:evenodd;stroke:#0000FF;stroke-width:2.0px;stroke-linecap:butt;stroke-linejoin:miter;stroke-opacity:1\"/>\n",
       "<path class=\"bond-18 atom-8 atom-9\" d=\"M 186.1,111.3 L 181.6,125.3\" style=\"fill:none;fill-rule:evenodd;stroke:#000000;stroke-width:2.0px;stroke-linecap:butt;stroke-linejoin:miter;stroke-opacity:1\"/>\n",
       "<path class=\"bond-19 atom-8 atom-31\" d=\"M 198.1,87.4 L 203.7,84.2\" style=\"fill:none;fill-rule:evenodd;stroke:#0000FF;stroke-width:2.0px;stroke-linecap:butt;stroke-linejoin:miter;stroke-opacity:1\"/>\n",
       "<path class=\"bond-19 atom-8 atom-31\" d=\"M 203.7,84.2 L 209.2,81.0\" style=\"fill:none;fill-rule:evenodd;stroke:#000000;stroke-width:2.0px;stroke-linecap:butt;stroke-linejoin:miter;stroke-opacity:1\"/>\n",
       "<path class=\"bond-20 atom-9 atom-10\" d=\"M 181.6,125.3 L 204.6,135.8\" style=\"fill:none;fill-rule:evenodd;stroke:#000000;stroke-width:2.0px;stroke-linecap:butt;stroke-linejoin:miter;stroke-opacity:1\"/>\n",
       "<path class=\"bond-21 atom-9 atom-32\" d=\"M 181.6,125.3 L 175.0,134.8\" style=\"fill:none;fill-rule:evenodd;stroke:#000000;stroke-width:2.0px;stroke-linecap:butt;stroke-linejoin:miter;stroke-opacity:1\"/>\n",
       "<path class=\"bond-22 atom-9 atom-33\" d=\"M 181.6,125.3 L 156.0,109.6\" style=\"fill:none;fill-rule:evenodd;stroke:#000000;stroke-width:2.0px;stroke-linecap:butt;stroke-linejoin:miter;stroke-opacity:1\"/>\n",
       "<path class=\"bond-23 atom-10 atom-11\" d=\"M 204.6,135.8 L 207.3,159.1\" style=\"fill:none;fill-rule:evenodd;stroke:#000000;stroke-width:2.0px;stroke-linecap:butt;stroke-linejoin:miter;stroke-opacity:1\"/>\n",
       "<path class=\"bond-24 atom-10 atom-34\" d=\"M 204.6,135.8 L 226.6,132.2\" style=\"fill:none;fill-rule:evenodd;stroke:#000000;stroke-width:2.0px;stroke-linecap:butt;stroke-linejoin:miter;stroke-opacity:1\"/>\n",
       "<path class=\"bond-25 atom-10 atom-35\" d=\"M 204.6,135.8 L 213.0,115.7\" style=\"fill:none;fill-rule:evenodd;stroke:#000000;stroke-width:2.0px;stroke-linecap:butt;stroke-linejoin:miter;stroke-opacity:1\"/>\n",
       "<path class=\"bond-26 atom-11 atom-12\" d=\"M 207.3,159.1 L 216.5,163.3\" style=\"fill:none;fill-rule:evenodd;stroke:#000000;stroke-width:2.0px;stroke-linecap:butt;stroke-linejoin:miter;stroke-opacity:1\"/>\n",
       "<path class=\"bond-26 atom-11 atom-12\" d=\"M 216.5,163.3 L 225.7,167.6\" style=\"fill:none;fill-rule:evenodd;stroke:#0000FF;stroke-width:2.0px;stroke-linecap:butt;stroke-linejoin:miter;stroke-opacity:1\"/>\n",
       "<path class=\"bond-27 atom-11 atom-36\" d=\"M 207.3,159.1 L 186.0,160.5\" style=\"fill:none;fill-rule:evenodd;stroke:#000000;stroke-width:2.0px;stroke-linecap:butt;stroke-linejoin:miter;stroke-opacity:1\"/>\n",
       "<path class=\"bond-28 atom-11 atom-37\" d=\"M 207.3,159.1 L 198.9,176.3\" style=\"fill:none;fill-rule:evenodd;stroke:#000000;stroke-width:2.0px;stroke-linecap:butt;stroke-linejoin:miter;stroke-opacity:1\"/>\n",
       "<path class=\"bond-29 atom-12 atom-13\" d=\"M 231.2,176.9 L 231.4,186.6\" style=\"fill:none;fill-rule:evenodd;stroke:#0000FF;stroke-width:2.0px;stroke-linecap:butt;stroke-linejoin:miter;stroke-opacity:1\"/>\n",
       "<path class=\"bond-29 atom-12 atom-13\" d=\"M 231.4,186.6 L 231.6,196.2\" style=\"fill:none;fill-rule:evenodd;stroke:#000000;stroke-width:2.0px;stroke-linecap:butt;stroke-linejoin:miter;stroke-opacity:1\"/>\n",
       "<path class=\"bond-30 atom-12 atom-19\" d=\"M 236.4,166.7 L 245.3,161.1\" style=\"fill:none;fill-rule:evenodd;stroke:#0000FF;stroke-width:2.0px;stroke-linecap:butt;stroke-linejoin:miter;stroke-opacity:1\"/>\n",
       "<path class=\"bond-30 atom-12 atom-19\" d=\"M 245.3,161.1 L 254.3,155.4\" style=\"fill:none;fill-rule:evenodd;stroke:#000000;stroke-width:2.0px;stroke-linecap:butt;stroke-linejoin:miter;stroke-opacity:1\"/>\n",
       "<path class=\"bond-31 atom-13 atom-14\" d=\"M 231.6,196.2 L 222.4,201.5\" style=\"fill:none;fill-rule:evenodd;stroke:#000000;stroke-width:2.0px;stroke-linecap:butt;stroke-linejoin:miter;stroke-opacity:1\"/>\n",
       "<path class=\"bond-31 atom-13 atom-14\" d=\"M 222.4,201.5 L 213.2,206.8\" style=\"fill:none;fill-rule:evenodd;stroke:#0000FF;stroke-width:2.0px;stroke-linecap:butt;stroke-linejoin:miter;stroke-opacity:1\"/>\n",
       "<path class=\"bond-31 atom-13 atom-14\" d=\"M 231.6,201.1 L 223.4,205.8\" style=\"fill:none;fill-rule:evenodd;stroke:#000000;stroke-width:2.0px;stroke-linecap:butt;stroke-linejoin:miter;stroke-opacity:1\"/>\n",
       "<path class=\"bond-31 atom-13 atom-14\" d=\"M 223.4,205.8 L 215.3,210.4\" style=\"fill:none;fill-rule:evenodd;stroke:#0000FF;stroke-width:2.0px;stroke-linecap:butt;stroke-linejoin:miter;stroke-opacity:1\"/>\n",
       "<path class=\"bond-32 atom-13 atom-18\" d=\"M 231.6,196.2 L 255.3,210.1\" style=\"fill:none;fill-rule:evenodd;stroke:#000000;stroke-width:2.0px;stroke-linecap:butt;stroke-linejoin:miter;stroke-opacity:1\"/>\n",
       "<path class=\"bond-33 atom-14 atom-15\" d=\"M 207.8,216.6 L 207.8,226.9\" style=\"fill:none;fill-rule:evenodd;stroke:#0000FF;stroke-width:2.0px;stroke-linecap:butt;stroke-linejoin:miter;stroke-opacity:1\"/>\n",
       "<path class=\"bond-33 atom-14 atom-15\" d=\"M 207.8,226.9 L 207.7,237.2\" style=\"fill:none;fill-rule:evenodd;stroke:#000000;stroke-width:2.0px;stroke-linecap:butt;stroke-linejoin:miter;stroke-opacity:1\"/>\n",
       "<path class=\"bond-34 atom-15 atom-16\" d=\"M 207.7,237.2 L 231.5,250.9\" style=\"fill:none;fill-rule:evenodd;stroke:#000000;stroke-width:2.0px;stroke-linecap:butt;stroke-linejoin:miter;stroke-opacity:1\"/>\n",
       "<path class=\"bond-34 atom-15 atom-16\" d=\"M 211.9,234.8 L 231.5,246.1\" style=\"fill:none;fill-rule:evenodd;stroke:#000000;stroke-width:2.0px;stroke-linecap:butt;stroke-linejoin:miter;stroke-opacity:1\"/>\n",
       "<path class=\"bond-35 atom-15 atom-38\" d=\"M 207.7,237.2 L 189.5,247.7\" style=\"fill:none;fill-rule:evenodd;stroke:#000000;stroke-width:2.0px;stroke-linecap:butt;stroke-linejoin:miter;stroke-opacity:1\"/>\n",
       "<path class=\"bond-36 atom-16 atom-17\" d=\"M 231.5,250.9 L 255.3,237.4\" style=\"fill:none;fill-rule:evenodd;stroke:#000000;stroke-width:2.0px;stroke-linecap:butt;stroke-linejoin:miter;stroke-opacity:1\"/>\n",
       "<path class=\"bond-37 atom-16 atom-39\" d=\"M 231.5,250.9 L 231.4,271.5\" style=\"fill:none;fill-rule:evenodd;stroke:#000000;stroke-width:2.0px;stroke-linecap:butt;stroke-linejoin:miter;stroke-opacity:1\"/>\n",
       "<path class=\"bond-38 atom-17 atom-18\" d=\"M 255.3,237.4 L 255.3,210.1\" style=\"fill:none;fill-rule:evenodd;stroke:#000000;stroke-width:2.0px;stroke-linecap:butt;stroke-linejoin:miter;stroke-opacity:1\"/>\n",
       "<path class=\"bond-38 atom-17 atom-18\" d=\"M 251.1,234.9 L 251.1,212.5\" style=\"fill:none;fill-rule:evenodd;stroke:#000000;stroke-width:2.0px;stroke-linecap:butt;stroke-linejoin:miter;stroke-opacity:1\"/>\n",
       "<path class=\"bond-39 atom-17 atom-40\" d=\"M 255.3,237.4 L 273.4,247.9\" style=\"fill:none;fill-rule:evenodd;stroke:#000000;stroke-width:2.0px;stroke-linecap:butt;stroke-linejoin:miter;stroke-opacity:1\"/>\n",
       "<path class=\"bond-40 atom-18 atom-41\" d=\"M 255.3,210.1 L 274.1,199.6\" style=\"fill:none;fill-rule:evenodd;stroke:#000000;stroke-width:2.0px;stroke-linecap:butt;stroke-linejoin:miter;stroke-opacity:1\"/>\n",
       "<path class=\"bond-41 atom-19 atom-20\" d=\"M 254.3,155.4 L 263.9,171.2\" style=\"fill:none;fill-rule:evenodd;stroke:#000000;stroke-width:2.0px;stroke-linecap:butt;stroke-linejoin:miter;stroke-opacity:1\"/>\n",
       "<path class=\"bond-42 atom-19 atom-42\" d=\"M 254.3,155.4 L 276.3,155.1\" style=\"fill:none;fill-rule:evenodd;stroke:#000000;stroke-width:2.0px;stroke-linecap:butt;stroke-linejoin:miter;stroke-opacity:1\"/>\n",
       "<path class=\"bond-43 atom-19 atom-43\" d=\"M 254.3,155.4 L 254.0,134.8\" style=\"fill:none;fill-rule:evenodd;stroke:#000000;stroke-width:2.0px;stroke-linecap:butt;stroke-linejoin:miter;stroke-opacity:1\"/>\n",
       "<path class=\"bond-44 atom-21 atom-44\" d=\"M 158.3,45.4 L 180.1,45.3\" style=\"fill:none;fill-rule:evenodd;stroke:#000000;stroke-width:2.0px;stroke-linecap:butt;stroke-linejoin:miter;stroke-opacity:1\"/>\n",
       "<path class=\"bond-45 atom-21 atom-45\" d=\"M 158.3,45.4 L 167.9,28.5\" style=\"fill:none;fill-rule:evenodd;stroke:#000000;stroke-width:2.0px;stroke-linecap:butt;stroke-linejoin:miter;stroke-opacity:1\"/>\n",
       "<path class=\"bond-46 atom-21 atom-46\" d=\"M 158.3,45.4 L 139.9,35.1\" style=\"fill:none;fill-rule:evenodd;stroke:#000000;stroke-width:2.0px;stroke-linecap:butt;stroke-linejoin:miter;stroke-opacity:1\"/>\n",
       "<path class=\"bond-47 atom-22 atom-23\" d=\"M 63.6,159.6 L 57.2,166.9\" style=\"fill:none;fill-rule:evenodd;stroke:#000000;stroke-width:2.0px;stroke-linecap:butt;stroke-linejoin:miter;stroke-opacity:1\"/>\n",
       "<path class=\"bond-47 atom-22 atom-23\" d=\"M 57.2,166.9 L 50.8,174.1\" style=\"fill:none;fill-rule:evenodd;stroke:#0000FF;stroke-width:2.0px;stroke-linecap:butt;stroke-linejoin:miter;stroke-opacity:1\"/>\n",
       "<path class=\"bond-48 atom-22 atom-47\" d=\"M 63.6,159.6 L 59.2,139.6\" style=\"fill:none;fill-rule:evenodd;stroke:#000000;stroke-width:2.0px;stroke-linecap:butt;stroke-linejoin:miter;stroke-opacity:1\"/>\n",
       "<path class=\"bond-49 atom-23 atom-48\" d=\"M 40.1,179.6 L 31.9,178.9\" style=\"fill:none;fill-rule:evenodd;stroke:#0000FF;stroke-width:2.0px;stroke-linecap:butt;stroke-linejoin:miter;stroke-opacity:1\"/>\n",
       "<path class=\"bond-49 atom-23 atom-48\" d=\"M 31.9,178.9 L 23.7,178.1\" style=\"fill:none;fill-rule:evenodd;stroke:#000000;stroke-width:2.0px;stroke-linecap:butt;stroke-linejoin:miter;stroke-opacity:1\"/>\n",
       "<path class=\"atom-1\" d=\"M 83.4 192.0 L 87.2 198.2 Q 87.6 198.8, 88.2 199.9 Q 88.8 201.0, 88.8 201.0 L 88.8 192.0 L 90.4 192.0 L 90.4 203.6 L 88.8 203.6 L 84.7 196.9 Q 84.2 196.1, 83.7 195.2 Q 83.2 194.3, 83.1 194.0 L 83.1 203.6 L 81.6 203.6 L 81.6 192.0 L 83.4 192.0 \" fill=\"#0000FF\"/>\n",
       "<path class=\"atom-6\" d=\"M 122.1 85.4 L 125.9 91.6 Q 126.3 92.2, 126.9 93.3 Q 127.5 94.4, 127.5 94.4 L 127.5 85.4 L 129.1 85.4 L 129.1 97.0 L 127.5 97.0 L 123.4 90.3 Q 122.9 89.5, 122.4 88.6 Q 121.9 87.7, 121.8 87.4 L 121.8 97.0 L 120.3 97.0 L 120.3 85.4 L 122.1 85.4 \" fill=\"#0000FF\"/>\n",
       "<path class=\"atom-7\" d=\"M 155.3 76.1 Q 155.4 76.2, 156.0 76.4 Q 156.5 76.6, 157.1 76.8 Q 157.7 76.9, 158.3 76.9 Q 159.4 76.9, 160.0 76.4 Q 160.7 75.8, 160.7 74.9 Q 160.7 74.3, 160.3 73.9 Q 160.0 73.5, 159.5 73.2 Q 159.0 73.0, 158.2 72.8 Q 157.2 72.5, 156.6 72.2 Q 156.0 71.9, 155.5 71.3 Q 155.1 70.6, 155.1 69.6 Q 155.1 68.1, 156.1 67.2 Q 157.1 66.3, 159.0 66.3 Q 160.4 66.3, 161.9 67.0 L 161.5 68.2 Q 160.1 67.6, 159.1 67.6 Q 158.0 67.6, 157.3 68.1 Q 156.7 68.6, 156.7 69.4 Q 156.7 70.0, 157.0 70.4 Q 157.4 70.8, 157.8 71.0 Q 158.3 71.2, 159.1 71.4 Q 160.1 71.8, 160.8 72.1 Q 161.4 72.4, 161.8 73.1 Q 162.3 73.8, 162.3 74.9 Q 162.3 76.5, 161.2 77.4 Q 160.1 78.2, 158.4 78.2 Q 157.3 78.2, 156.5 78.0 Q 155.8 77.8, 154.8 77.4 L 155.3 76.1 \" fill=\"#CCCC00\"/>\n",
       "<path class=\"atom-8\" d=\"M 190.2 84.6 L 194.1 90.8 Q 194.4 91.4, 195.0 92.5 Q 195.6 93.6, 195.7 93.7 L 195.7 84.6 L 197.2 84.6 L 197.2 96.3 L 195.6 96.3 L 191.5 89.5 Q 191.1 88.7, 190.6 87.8 Q 190.1 86.9, 189.9 86.7 L 189.9 96.3 L 188.4 96.3 L 188.4 84.6 L 190.2 84.6 \" fill=\"#0000FF\"/>\n",
       "<path class=\"atom-12\" d=\"M 228.5 164.3 L 232.3 170.5 Q 232.7 171.1, 233.3 172.2 Q 233.9 173.3, 233.9 173.3 L 233.9 164.3 L 235.5 164.3 L 235.5 175.9 L 233.9 175.9 L 229.8 169.2 Q 229.3 168.4, 228.8 167.5 Q 228.3 166.6, 228.1 166.3 L 228.1 175.9 L 226.6 175.9 L 226.6 164.3 L 228.5 164.3 \" fill=\"#0000FF\"/>\n",
       "<path class=\"atom-14\" d=\"M 205.3 204.0 L 209.1 210.2 Q 209.5 210.8, 210.1 211.9 Q 210.7 213.0, 210.7 213.1 L 210.7 204.0 L 212.3 204.0 L 212.3 215.7 L 210.7 215.7 L 206.6 208.9 Q 206.1 208.2, 205.6 207.2 Q 205.1 206.3, 205.0 206.1 L 205.0 215.7 L 203.4 215.7 L 203.4 204.0 L 205.3 204.0 \" fill=\"#0000FF\"/>\n",
       "<path class=\"atom-20\" d=\"M 263.5 172.2 L 265.0 172.2 L 265.0 177.1 L 271.0 177.1 L 271.0 172.2 L 272.6 172.2 L 272.6 183.8 L 271.0 183.8 L 271.0 178.4 L 265.0 178.4 L 265.0 183.8 L 263.5 183.8 L 263.5 172.2 \" fill=\"#000000\"/>\n",
       "<path class=\"atom-23\" d=\"M 42.9 174.3 L 46.7 180.5 Q 47.0 181.1, 47.6 182.2 Q 48.3 183.3, 48.3 183.4 L 48.3 174.3 L 49.8 174.3 L 49.8 186.0 L 48.2 186.0 L 44.2 179.2 Q 43.7 178.4, 43.2 177.5 Q 42.7 176.6, 42.5 176.3 L 42.5 186.0 L 41.0 186.0 L 41.0 174.3 L 42.9 174.3 \" fill=\"#0000FF\"/>\n",
       "<path class=\"atom-24\" d=\"M 43.8 223.0 L 45.4 223.0 L 45.4 227.9 L 51.4 227.9 L 51.4 223.0 L 52.9 223.0 L 52.9 234.6 L 51.4 234.6 L 51.4 229.3 L 45.4 229.3 L 45.4 234.6 L 43.8 234.6 L 43.8 223.0 \" fill=\"#000000\"/>\n",
       "<path class=\"atom-25\" d=\"M 133.9 155.4 L 135.5 155.4 L 135.5 160.3 L 141.4 160.3 L 141.4 155.4 L 143.0 155.4 L 143.0 167.0 L 141.4 167.0 L 141.4 161.6 L 135.5 161.6 L 135.5 167.0 L 133.9 167.0 L 133.9 155.4 \" fill=\"#000000\"/>\n",
       "<path class=\"atom-26\" d=\"M 119.2 177.8 L 120.8 177.8 L 120.8 182.7 L 126.7 182.7 L 126.7 177.8 L 128.3 177.8 L 128.3 189.4 L 126.7 189.4 L 126.7 184.0 L 120.8 184.0 L 120.8 189.4 L 119.2 189.4 L 119.2 177.8 \" fill=\"#000000\"/>\n",
       "<path class=\"atom-27\" d=\"M 97.1 104.9 L 98.7 104.9 L 98.7 109.9 L 104.6 109.9 L 104.6 104.9 L 106.2 104.9 L 106.2 116.6 L 104.6 116.6 L 104.6 111.2 L 98.7 111.2 L 98.7 116.6 L 97.1 116.6 L 97.1 104.9 \" fill=\"#000000\"/>\n",
       "<path class=\"atom-28\" d=\"M 81.4 127.7 L 83.0 127.7 L 83.0 132.7 L 88.9 132.7 L 88.9 127.7 L 90.5 127.7 L 90.5 139.4 L 88.9 139.4 L 88.9 134.0 L 83.0 134.0 L 83.0 139.4 L 81.4 139.4 L 81.4 127.7 \" fill=\"#000000\"/>\n",
       "<path class=\"atom-29\" d=\"M 162.8 100.2 L 164.4 100.2 L 164.4 105.1 L 170.3 105.1 L 170.3 100.2 L 171.9 100.2 L 171.9 111.8 L 170.3 111.8 L 170.3 106.4 L 164.4 106.4 L 164.4 111.8 L 162.8 111.8 L 162.8 100.2 \" fill=\"#000000\"/>\n",
       "<path class=\"atom-30\" d=\"M 143.9 135.9 L 145.5 135.9 L 145.5 140.8 L 151.5 140.8 L 151.5 135.9 L 153.0 135.9 L 153.0 147.5 L 151.5 147.5 L 151.5 142.1 L 145.5 142.1 L 145.5 147.5 L 143.9 147.5 L 143.9 135.9 \" fill=\"#000000\"/>\n",
       "<path class=\"atom-31\" d=\"M 210.1 72.0 L 211.7 72.0 L 211.7 76.9 L 217.6 76.9 L 217.6 72.0 L 219.2 72.0 L 219.2 83.6 L 217.6 83.6 L 217.6 78.2 L 211.7 78.2 L 211.7 83.6 L 210.1 83.6 L 210.1 72.0 \" fill=\"#000000\"/>\n",
       "<path class=\"atom-32\" d=\"M 165.7 135.7 L 167.3 135.7 L 167.3 140.7 L 173.2 140.7 L 173.2 135.7 L 174.8 135.7 L 174.8 147.4 L 173.2 147.4 L 173.2 142.0 L 167.3 142.0 L 167.3 147.4 L 165.7 147.4 L 165.7 135.7 \" fill=\"#000000\"/>\n",
       "<path class=\"atom-33\" d=\"M 145.9 100.4 L 147.5 100.4 L 147.5 105.3 L 153.5 105.3 L 153.5 100.4 L 155.0 100.4 L 155.0 112.0 L 153.5 112.0 L 153.5 106.6 L 147.5 106.6 L 147.5 112.0 L 145.9 112.0 L 145.9 100.4 \" fill=\"#000000\"/>\n",
       "<path class=\"atom-34\" d=\"M 227.5 125.5 L 229.1 125.5 L 229.1 130.4 L 235.1 130.4 L 235.1 125.5 L 236.6 125.5 L 236.6 137.1 L 235.1 137.1 L 235.1 131.7 L 229.1 131.7 L 229.1 137.1 L 227.5 137.1 L 227.5 125.5 \" fill=\"#000000\"/>\n",
       "<path class=\"atom-35\" d=\"M 211.2 103.2 L 212.8 103.2 L 212.8 108.1 L 218.8 108.1 L 218.8 103.2 L 220.3 103.2 L 220.3 114.8 L 218.8 114.8 L 218.8 109.5 L 212.8 109.5 L 212.8 114.8 L 211.2 114.8 L 211.2 103.2 \" fill=\"#000000\"/>\n",
       "<path class=\"atom-36\" d=\"M 176.0 155.1 L 177.6 155.1 L 177.6 160.1 L 183.5 160.1 L 183.5 155.1 L 185.1 155.1 L 185.1 166.7 L 183.5 166.7 L 183.5 161.4 L 177.6 161.4 L 177.6 166.7 L 176.0 166.7 L 176.0 155.1 \" fill=\"#000000\"/>\n",
       "<path class=\"atom-37\" d=\"M 191.0 177.2 L 192.6 177.2 L 192.6 182.2 L 198.6 182.2 L 198.6 177.2 L 200.1 177.2 L 200.1 188.8 L 198.6 188.8 L 198.6 183.5 L 192.6 183.5 L 192.6 188.8 L 191.0 188.8 L 191.0 177.2 \" fill=\"#000000\"/>\n",
       "<path class=\"atom-38\" d=\"M 179.5 245.0 L 181.1 245.0 L 181.1 250.0 L 187.0 250.0 L 187.0 245.0 L 188.6 245.0 L 188.6 256.6 L 187.0 256.6 L 187.0 251.3 L 181.1 251.3 L 181.1 256.6 L 179.5 256.6 L 179.5 245.0 \" fill=\"#000000\"/>\n",
       "<path class=\"atom-39\" d=\"M 226.9 272.5 L 228.4 272.5 L 228.4 277.4 L 234.4 277.4 L 234.4 272.5 L 236.0 272.5 L 236.0 284.1 L 234.4 284.1 L 234.4 278.7 L 228.4 278.7 L 228.4 284.1 L 226.9 284.1 L 226.9 272.5 \" fill=\"#000000\"/>\n",
       "<path class=\"atom-40\" d=\"M 274.4 245.3 L 275.9 245.3 L 275.9 250.2 L 281.9 250.2 L 281.9 245.3 L 283.5 245.3 L 283.5 256.9 L 281.9 256.9 L 281.9 251.5 L 275.9 251.5 L 275.9 256.9 L 274.4 256.9 L 274.4 245.3 \" fill=\"#000000\"/>\n",
       "<path class=\"atom-41\" d=\"M 275.1 190.8 L 276.6 190.8 L 276.6 195.8 L 282.6 195.8 L 282.6 190.8 L 284.2 190.8 L 284.2 202.4 L 282.6 202.4 L 282.6 197.1 L 276.6 197.1 L 276.6 202.4 L 275.1 202.4 L 275.1 190.8 \" fill=\"#000000\"/>\n",
       "<path class=\"atom-42\" d=\"M 277.3 149.2 L 278.8 149.2 L 278.8 154.2 L 284.8 154.2 L 284.8 149.2 L 286.4 149.2 L 286.4 160.9 L 284.8 160.9 L 284.8 155.5 L 278.8 155.5 L 278.8 160.9 L 277.3 160.9 L 277.3 149.2 \" fill=\"#000000\"/>\n",
       "<path class=\"atom-43\" d=\"M 249.4 122.3 L 251.0 122.3 L 251.0 127.2 L 256.9 127.2 L 256.9 122.3 L 258.5 122.3 L 258.5 133.9 L 256.9 133.9 L 256.9 128.6 L 251.0 128.6 L 251.0 133.9 L 249.4 133.9 L 249.4 122.3 \" fill=\"#000000\"/>\n",
       "<path class=\"atom-44\" d=\"M 181.1 39.5 L 182.6 39.5 L 182.6 44.4 L 188.6 44.4 L 188.6 39.5 L 190.2 39.5 L 190.2 51.1 L 188.6 51.1 L 188.6 45.7 L 182.6 45.7 L 182.6 51.1 L 181.1 51.1 L 181.1 39.5 \" fill=\"#000000\"/>\n",
       "<path class=\"atom-45\" d=\"M 167.2 15.9 L 168.7 15.9 L 168.7 20.8 L 174.7 20.8 L 174.7 15.9 L 176.3 15.9 L 176.3 27.5 L 174.7 27.5 L 174.7 22.2 L 168.7 22.2 L 168.7 27.5 L 167.2 27.5 L 167.2 15.9 \" fill=\"#000000\"/>\n",
       "<path class=\"atom-46\" d=\"M 129.9 26.3 L 131.5 26.3 L 131.5 31.2 L 137.4 31.2 L 137.4 26.3 L 139.0 26.3 L 139.0 37.9 L 137.4 37.9 L 137.4 32.5 L 131.5 32.5 L 131.5 37.9 L 129.9 37.9 L 129.9 26.3 \" fill=\"#000000\"/>\n",
       "<path class=\"atom-47\" d=\"M 53.1 127.1 L 54.7 127.1 L 54.7 132.0 L 60.6 132.0 L 60.6 127.1 L 62.2 127.1 L 62.2 138.7 L 60.6 138.7 L 60.6 133.3 L 54.7 133.3 L 54.7 138.7 L 53.1 138.7 L 53.1 127.1 \" fill=\"#000000\"/>\n",
       "<path class=\"atom-48\" d=\"M 13.6 171.8 L 15.2 171.8 L 15.2 176.7 L 21.2 176.7 L 21.2 171.8 L 22.7 171.8 L 22.7 183.4 L 21.2 183.4 L 21.2 178.0 L 15.2 178.0 L 15.2 183.4 L 13.6 183.4 L 13.6 171.8 \" fill=\"#000000\"/>\n",
       "</svg>"
      ],
      "text/plain": [
       "<IPython.core.display.SVG object>"
      ]
     },
     "metadata": {},
     "output_type": "display_data"
    }
   ],
   "source": [
    "display(mol_to_svg(mol, [12, 13, 14, 15, 16, 17, 18]))"
   ]
  },
  {
   "cell_type": "code",
   "execution_count": 78,
   "id": "82a273db-ad8d-4324-bb07-97e99309d3a1",
   "metadata": {},
   "outputs": [],
   "source": [
    "def m(s): return Molecule.from_smiles(s, allow_undefined_stereo=True)\n",
    "def mm(s): return Molecule.from_mapped_smiles(s, allow_undefined_stereo=True)"
   ]
  },
  {
   "cell_type": "code",
   "execution_count": 79,
   "id": "a8ba346d-a929-4b59-86b3-59ac563290dd",
   "metadata": {},
   "outputs": [
    {
     "name": "stderr",
     "output_type": "stream",
     "text": [
      "/tmp/ipykernel_568151/4127025290.py:1: AtomMappingWarning: Warning! Fully mapped SMILES pattern passed to `from_smiles`. The atom map is stored as a property in `Molecule._properties`, but these indices are NOT used to determine atom ordering. To use these indices for atom ordering, use `Molecule.from_mapped_smiles`.\n",
      "  def m(s): return Molecule.from_smiles(s, allow_undefined_stereo=True)\n"
     ]
    },
    {
     "data": {
      "image/svg+xml": [
       "<svg xmlns=\"http://www.w3.org/2000/svg\" xmlns:rdkit=\"http://www.rdkit.org/xml\" xmlns:xlink=\"http://www.w3.org/1999/xlink\" version=\"1.1\" baseProfile=\"full\" xml:space=\"preserve\" width=\"500px\" height=\"300px\" viewBox=\"0 0 500 300\">\n",
       "<!-- END OF HEADER -->\n",
       "<rect style=\"opacity:1.0;fill:#FFFFFF;stroke:none\" width=\"500.0\" height=\"300.0\" x=\"0.0\" y=\"0.0\"> </rect>\n",
       "<path class=\"bond-0 atom-0 atom-33\" d=\"M 159.4,76.5 L 165.2,66.9\" style=\"fill:none;fill-rule:evenodd;stroke:#000000;stroke-width:2.0px;stroke-linecap:butt;stroke-linejoin:miter;stroke-opacity:1\"/>\n",
       "<path class=\"bond-0 atom-0 atom-33\" d=\"M 165.2,66.9 L 171.1,57.3\" style=\"fill:none;fill-rule:evenodd;stroke:#0000FF;stroke-width:2.0px;stroke-linecap:butt;stroke-linejoin:miter;stroke-opacity:1\"/>\n",
       "<path class=\"bond-1 atom-0 atom-1\" d=\"M 159.4,76.5 L 134.1,78.6\" style=\"fill:none;fill-rule:evenodd;stroke:#000000;stroke-width:2.0px;stroke-linecap:butt;stroke-linejoin:miter;stroke-opacity:1\"/>\n",
       "<path class=\"bond-2 atom-0 atom-2\" d=\"M 159.4,76.5 L 166.6,85.0\" style=\"fill:none;fill-rule:evenodd;stroke:#000000;stroke-width:2.0px;stroke-linecap:butt;stroke-linejoin:miter;stroke-opacity:1\"/>\n",
       "<path class=\"bond-2 atom-0 atom-2\" d=\"M 166.6,85.0 L 173.7,93.4\" style=\"fill:none;fill-rule:evenodd;stroke:#0000FF;stroke-width:2.0px;stroke-linecap:butt;stroke-linejoin:miter;stroke-opacity:1\"/>\n",
       "<path class=\"bond-2 atom-0 atom-2\" d=\"M 165.3,76.1 L 171.3,83.2\" style=\"fill:none;fill-rule:evenodd;stroke:#000000;stroke-width:2.0px;stroke-linecap:butt;stroke-linejoin:miter;stroke-opacity:1\"/>\n",
       "<path class=\"bond-2 atom-0 atom-2\" d=\"M 171.3,83.2 L 177.4,90.3\" style=\"fill:none;fill-rule:evenodd;stroke:#0000FF;stroke-width:2.0px;stroke-linecap:butt;stroke-linejoin:miter;stroke-opacity:1\"/>\n",
       "<path class=\"bond-3 atom-2 atom-3\" d=\"M 186.0,98.0 L 197.6,93.2\" style=\"fill:none;fill-rule:evenodd;stroke:#0000FF;stroke-width:2.0px;stroke-linecap:butt;stroke-linejoin:miter;stroke-opacity:1\"/>\n",
       "<path class=\"bond-3 atom-2 atom-3\" d=\"M 197.6,93.2 L 209.1,88.4\" style=\"fill:none;fill-rule:evenodd;stroke:#000000;stroke-width:2.0px;stroke-linecap:butt;stroke-linejoin:miter;stroke-opacity:1\"/>\n",
       "<path class=\"bond-4 atom-3 atom-4\" d=\"M 209.1,88.4 L 234.3,106.1\" style=\"fill:none;fill-rule:evenodd;stroke:#000000;stroke-width:2.0px;stroke-linecap:butt;stroke-linejoin:miter;stroke-opacity:1\"/>\n",
       "<path class=\"bond-5 atom-4 atom-5\" d=\"M 234.3,106.1 L 229.2,140.0\" style=\"fill:none;fill-rule:evenodd;stroke:#000000;stroke-width:2.0px;stroke-linecap:butt;stroke-linejoin:miter;stroke-opacity:1\"/>\n",
       "<path class=\"bond-6 atom-5 atom-6\" d=\"M 229.2,140.0 L 250.9,157.9\" style=\"fill:none;fill-rule:evenodd;stroke:#000000;stroke-width:2.0px;stroke-linecap:butt;stroke-linejoin:miter;stroke-opacity:1\"/>\n",
       "<path class=\"bond-7 atom-6 atom-7\" d=\"M 250.9,157.9 L 264.4,150.5\" style=\"fill:none;fill-rule:evenodd;stroke:#000000;stroke-width:2.0px;stroke-linecap:butt;stroke-linejoin:miter;stroke-opacity:1\"/>\n",
       "<path class=\"bond-7 atom-6 atom-7\" d=\"M 264.4,150.5 L 277.9,143.1\" style=\"fill:none;fill-rule:evenodd;stroke:#0000FF;stroke-width:2.0px;stroke-linecap:butt;stroke-linejoin:miter;stroke-opacity:1\"/>\n",
       "<path class=\"bond-8 atom-7 atom-8\" d=\"M 291.2,140.4 L 302.3,145.4\" style=\"fill:none;fill-rule:evenodd;stroke:#0000FF;stroke-width:2.0px;stroke-linecap:butt;stroke-linejoin:miter;stroke-opacity:1\"/>\n",
       "<path class=\"bond-8 atom-7 atom-8\" d=\"M 302.3,145.4 L 313.3,150.4\" style=\"fill:none;fill-rule:evenodd;stroke:#CCCC00;stroke-width:2.0px;stroke-linecap:butt;stroke-linejoin:miter;stroke-opacity:1\"/>\n",
       "<path class=\"bond-8 atom-7 atom-8\" d=\"M 289.2,144.7 L 300.3,149.8\" style=\"fill:none;fill-rule:evenodd;stroke:#0000FF;stroke-width:2.0px;stroke-linecap:butt;stroke-linejoin:miter;stroke-opacity:1\"/>\n",
       "<path class=\"bond-8 atom-7 atom-8\" d=\"M 300.3,149.8 L 311.3,154.8\" style=\"fill:none;fill-rule:evenodd;stroke:#CCCC00;stroke-width:2.0px;stroke-linecap:butt;stroke-linejoin:miter;stroke-opacity:1\"/>\n",
       "<path class=\"bond-9 atom-8 atom-9\" d=\"M 318.8,163.2 L 319.8,170.9\" style=\"fill:none;fill-rule:evenodd;stroke:#CCCC00;stroke-width:2.0px;stroke-linecap:butt;stroke-linejoin:miter;stroke-opacity:1\"/>\n",
       "<path class=\"bond-9 atom-8 atom-9\" d=\"M 319.8,170.9 L 320.8,178.7\" style=\"fill:none;fill-rule:evenodd;stroke:#0000FF;stroke-width:2.0px;stroke-linecap:butt;stroke-linejoin:miter;stroke-opacity:1\"/>\n",
       "<path class=\"bond-10 atom-9 atom-10\" d=\"M 315.7,190.5 L 308.4,195.3\" style=\"fill:none;fill-rule:evenodd;stroke:#0000FF;stroke-width:2.0px;stroke-linecap:butt;stroke-linejoin:miter;stroke-opacity:1\"/>\n",
       "<path class=\"bond-10 atom-9 atom-10\" d=\"M 308.4,195.3 L 301.2,200.0\" style=\"fill:none;fill-rule:evenodd;stroke:#000000;stroke-width:2.0px;stroke-linecap:butt;stroke-linejoin:miter;stroke-opacity:1\"/>\n",
       "<path class=\"bond-11 atom-10 atom-11\" d=\"M 301.2,200.0 L 297.6,235.7\" style=\"fill:none;fill-rule:evenodd;stroke:#000000;stroke-width:2.0px;stroke-linecap:butt;stroke-linejoin:miter;stroke-opacity:1\"/>\n",
       "<path class=\"bond-12 atom-11 atom-12\" d=\"M 297.6,235.7 L 319.4,251.6\" style=\"fill:none;fill-rule:evenodd;stroke:#000000;stroke-width:2.0px;stroke-linecap:butt;stroke-linejoin:miter;stroke-opacity:1\"/>\n",
       "<path class=\"bond-13 atom-12 atom-13\" d=\"M 319.4,251.6 L 306.0,269.4\" style=\"fill:none;fill-rule:evenodd;stroke:#000000;stroke-width:2.0px;stroke-linecap:butt;stroke-linejoin:miter;stroke-opacity:1\"/>\n",
       "<path class=\"bond-14 atom-12 atom-14\" d=\"M 319.4,251.6 L 328.5,271.9\" style=\"fill:none;fill-rule:evenodd;stroke:#000000;stroke-width:2.0px;stroke-linecap:butt;stroke-linejoin:miter;stroke-opacity:1\"/>\n",
       "<path class=\"bond-15 atom-12 atom-15\" d=\"M 319.4,251.6 L 340.6,241.0\" style=\"fill:none;fill-rule:evenodd;stroke:#000000;stroke-width:2.0px;stroke-linecap:butt;stroke-linejoin:miter;stroke-opacity:1\"/>\n",
       "<path class=\"bond-16 atom-11 atom-16\" d=\"M 297.6,235.7 L 268.4,236.3\" style=\"fill:none;fill-rule:evenodd;stroke:#000000;stroke-width:2.0px;stroke-linecap:butt;stroke-linejoin:miter;stroke-opacity:1\"/>\n",
       "<path class=\"bond-17 atom-11 atom-17\" d=\"M 297.6,235.7 L 284.3,254.5\" style=\"fill:none;fill-rule:evenodd;stroke:#000000;stroke-width:2.0px;stroke-linecap:butt;stroke-linejoin:miter;stroke-opacity:1\"/>\n",
       "<path class=\"bond-18 atom-10 atom-18\" d=\"M 301.2,200.0 L 289.0,175.8\" style=\"fill:none;fill-rule:evenodd;stroke:#000000;stroke-width:2.0px;stroke-linecap:butt;stroke-linejoin:miter;stroke-opacity:1\"/>\n",
       "<path class=\"bond-19 atom-10 atom-19\" d=\"M 301.2,200.0 L 267.7,209.3\" style=\"fill:none;fill-rule:evenodd;stroke:#000000;stroke-width:2.0px;stroke-linecap:butt;stroke-linejoin:miter;stroke-opacity:1\"/>\n",
       "<path class=\"bond-20 atom-9 atom-20\" d=\"M 328.0,189.6 L 335.5,193.3\" style=\"fill:none;fill-rule:evenodd;stroke:#0000FF;stroke-width:2.0px;stroke-linecap:butt;stroke-linejoin:miter;stroke-opacity:1\"/>\n",
       "<path class=\"bond-20 atom-9 atom-20\" d=\"M 335.5,193.3 L 343.0,197.1\" style=\"fill:none;fill-rule:evenodd;stroke:#000000;stroke-width:2.0px;stroke-linecap:butt;stroke-linejoin:miter;stroke-opacity:1\"/>\n",
       "<path class=\"bond-21 atom-8 atom-21\" d=\"M 323.1,151.7 L 333.9,144.9\" style=\"fill:none;fill-rule:evenodd;stroke:#CCCC00;stroke-width:2.0px;stroke-linecap:butt;stroke-linejoin:miter;stroke-opacity:1\"/>\n",
       "<path class=\"bond-21 atom-8 atom-21\" d=\"M 333.9,144.9 L 344.7,138.1\" style=\"fill:none;fill-rule:evenodd;stroke:#000000;stroke-width:2.0px;stroke-linecap:butt;stroke-linejoin:miter;stroke-opacity:1\"/>\n",
       "<path class=\"bond-22 atom-21 atom-22\" d=\"M 344.7,138.1 L 333.4,118.6\" style=\"fill:none;fill-rule:evenodd;stroke:#000000;stroke-width:2.0px;stroke-linecap:butt;stroke-linejoin:miter;stroke-opacity:1\"/>\n",
       "<path class=\"bond-23 atom-21 atom-23\" d=\"M 344.7,138.1 L 356.2,118.7\" style=\"fill:none;fill-rule:evenodd;stroke:#000000;stroke-width:2.0px;stroke-linecap:butt;stroke-linejoin:miter;stroke-opacity:1\"/>\n",
       "<path class=\"bond-24 atom-21 atom-24\" d=\"M 344.7,138.1 L 365.9,150.3\" style=\"fill:none;fill-rule:evenodd;stroke:#000000;stroke-width:2.0px;stroke-linecap:butt;stroke-linejoin:miter;stroke-opacity:1\"/>\n",
       "<path class=\"bond-25 atom-6 atom-25\" d=\"M 250.9,157.9 L 240.4,174.8\" style=\"fill:none;fill-rule:evenodd;stroke:#000000;stroke-width:2.0px;stroke-linecap:butt;stroke-linejoin:miter;stroke-opacity:1\"/>\n",
       "<path class=\"bond-26 atom-6 atom-26\" d=\"M 250.9,157.9 L 261.1,176.3\" style=\"fill:none;fill-rule:evenodd;stroke:#000000;stroke-width:2.0px;stroke-linecap:butt;stroke-linejoin:miter;stroke-opacity:1\"/>\n",
       "<path class=\"bond-27 atom-5 atom-27\" d=\"M 229.2,140.0 L 205.3,136.8\" style=\"fill:none;fill-rule:evenodd;stroke:#000000;stroke-width:2.0px;stroke-linecap:butt;stroke-linejoin:miter;stroke-opacity:1\"/>\n",
       "<path class=\"bond-28 atom-5 atom-28\" d=\"M 229.2,140.0 L 216.8,156.7\" style=\"fill:none;fill-rule:evenodd;stroke:#000000;stroke-width:2.0px;stroke-linecap:butt;stroke-linejoin:miter;stroke-opacity:1\"/>\n",
       "<path class=\"bond-29 atom-4 atom-29\" d=\"M 234.3,106.1 L 259.9,108.4\" style=\"fill:none;fill-rule:evenodd;stroke:#000000;stroke-width:2.0px;stroke-linecap:butt;stroke-linejoin:miter;stroke-opacity:1\"/>\n",
       "<path class=\"bond-30 atom-4 atom-30\" d=\"M 234.3,106.1 L 247.1,87.5\" style=\"fill:none;fill-rule:evenodd;stroke:#000000;stroke-width:2.0px;stroke-linecap:butt;stroke-linejoin:miter;stroke-opacity:1\"/>\n",
       "<path class=\"bond-31 atom-3 atom-31\" d=\"M 209.1,88.4 L 206.6,56.9\" style=\"fill:none;fill-rule:evenodd;stroke:#000000;stroke-width:2.0px;stroke-linecap:butt;stroke-linejoin:miter;stroke-opacity:1\"/>\n",
       "<path class=\"bond-31 atom-3 atom-31\" d=\"M 204.1,85.3 L 202.1,60.8\" style=\"fill:none;fill-rule:evenodd;stroke:#000000;stroke-width:2.0px;stroke-linecap:butt;stroke-linejoin:miter;stroke-opacity:1\"/>\n",
       "<path class=\"bond-32 atom-31 atom-32\" d=\"M 206.6,56.9 L 224.3,41.7\" style=\"fill:none;fill-rule:evenodd;stroke:#000000;stroke-width:2.0px;stroke-linecap:butt;stroke-linejoin:miter;stroke-opacity:1\"/>\n",
       "<path class=\"bond-33 atom-31 atom-33\" d=\"M 206.6,56.9 L 194.3,54.0\" style=\"fill:none;fill-rule:evenodd;stroke:#000000;stroke-width:2.0px;stroke-linecap:butt;stroke-linejoin:miter;stroke-opacity:1\"/>\n",
       "<path class=\"bond-33 atom-31 atom-33\" d=\"M 194.3,54.0 L 182.0,51.0\" style=\"fill:none;fill-rule:evenodd;stroke:#0000FF;stroke-width:2.0px;stroke-linecap:butt;stroke-linejoin:miter;stroke-opacity:1\"/>\n",
       "<path class=\"bond-34 atom-33 atom-34\" d=\"M 172.6,41.8 L 169.8,35.0\" style=\"fill:none;fill-rule:evenodd;stroke:#0000FF;stroke-width:2.0px;stroke-linecap:butt;stroke-linejoin:miter;stroke-opacity:1\"/>\n",
       "<path class=\"bond-34 atom-33 atom-34\" d=\"M 169.8,35.0 L 167.0,28.1\" style=\"fill:none;fill-rule:evenodd;stroke:#000000;stroke-width:2.0px;stroke-linecap:butt;stroke-linejoin:miter;stroke-opacity:1\"/>\n",
       "<path class=\"atom-1\" d=\"M 122.5 72.3 L 124.4 72.3 L 124.4 78.1 L 131.2 78.1 L 131.2 72.3 L 133.1 72.3 L 133.1 85.8 L 131.2 85.8 L 131.2 79.6 L 124.4 79.6 L 124.4 85.8 L 122.5 85.8 L 122.5 72.3 \" fill=\"#000000\"/>\n",
       "<path class=\"atom-2\" d=\"M 176.9 93.9 L 181.3 101.0 Q 181.8 101.7, 182.5 103.0 Q 183.2 104.2, 183.2 104.3 L 183.2 93.9 L 185.0 93.9 L 185.0 107.3 L 183.1 107.3 L 178.4 99.5 Q 177.9 98.6, 177.3 97.6 Q 176.7 96.5, 176.5 96.2 L 176.5 107.3 L 174.8 107.3 L 174.8 93.9 L 176.9 93.9 \" fill=\"#0000FF\"/>\n",
       "<path class=\"atom-7\" d=\"M 281.1 133.0 L 285.5 140.2 Q 285.9 140.9, 286.7 142.1 Q 287.4 143.4, 287.4 143.5 L 287.4 133.0 L 289.2 133.0 L 289.2 146.5 L 287.3 146.5 L 282.6 138.7 Q 282.1 137.8, 281.5 136.7 Q 280.9 135.7, 280.7 135.4 L 280.7 146.5 L 279.0 146.5 L 279.0 133.0 L 281.1 133.0 \" fill=\"#0000FF\"/>\n",
       "<path class=\"atom-8\" d=\"M 313.9 159.7 Q 314.0 159.7, 314.7 160.0 Q 315.3 160.3, 316.0 160.4 Q 316.7 160.6, 317.4 160.6 Q 318.6 160.6, 319.4 160.0 Q 320.1 159.4, 320.1 158.3 Q 320.1 157.5, 319.7 157.1 Q 319.4 156.6, 318.8 156.4 Q 318.2 156.1, 317.3 155.8 Q 316.1 155.5, 315.4 155.1 Q 314.7 154.8, 314.2 154.1 Q 313.7 153.4, 313.7 152.1 Q 313.7 150.5, 314.8 149.4 Q 316.0 148.4, 318.2 148.4 Q 319.8 148.4, 321.6 149.1 L 321.1 150.6 Q 319.5 149.9, 318.3 149.9 Q 317.0 149.9, 316.3 150.5 Q 315.5 151.0, 315.6 151.9 Q 315.6 152.6, 315.9 153.1 Q 316.3 153.5, 316.8 153.8 Q 317.4 154.0, 318.3 154.3 Q 319.5 154.7, 320.2 155.0 Q 321.0 155.4, 321.5 156.2 Q 322.0 157.0, 322.0 158.3 Q 322.0 160.1, 320.7 161.1 Q 319.5 162.1, 317.4 162.1 Q 316.2 162.1, 315.3 161.9 Q 314.4 161.6, 313.4 161.2 L 313.9 159.7 \" fill=\"#CCCC00\"/>\n",
       "<path class=\"atom-9\" d=\"M 318.9 179.8 L 323.3 186.9 Q 323.7 187.6, 324.4 188.8 Q 325.1 190.1, 325.2 190.2 L 325.2 179.8 L 327.0 179.8 L 327.0 193.2 L 325.1 193.2 L 320.4 185.4 Q 319.8 184.5, 319.3 183.5 Q 318.7 182.4, 318.5 182.1 L 318.5 193.2 L 316.8 193.2 L 316.8 179.8 L 318.9 179.8 \" fill=\"#0000FF\"/>\n",
       "<path class=\"atom-13\" d=\"M 294.9 270.5 L 296.7 270.5 L 296.7 276.2 L 303.6 276.2 L 303.6 270.5 L 305.4 270.5 L 305.4 283.9 L 303.6 283.9 L 303.6 277.7 L 296.7 277.7 L 296.7 283.9 L 294.9 283.9 L 294.9 270.5 \" fill=\"#000000\"/>\n",
       "<path class=\"atom-14\" d=\"M 326.7 272.9 L 328.5 272.9 L 328.5 278.6 L 335.4 278.6 L 335.4 272.9 L 337.2 272.9 L 337.2 286.4 L 335.4 286.4 L 335.4 280.2 L 328.5 280.2 L 328.5 286.4 L 326.7 286.4 L 326.7 272.9 \" fill=\"#000000\"/>\n",
       "<path class=\"atom-15\" d=\"M 341.6 231.1 L 343.5 231.1 L 343.5 236.8 L 350.3 236.8 L 350.3 231.1 L 352.2 231.1 L 352.2 244.6 L 350.3 244.6 L 350.3 238.4 L 343.5 238.4 L 343.5 244.6 L 341.6 244.6 L 341.6 231.1 \" fill=\"#000000\"/>\n",
       "<path class=\"atom-16\" d=\"M 256.9 229.6 L 258.7 229.6 L 258.7 235.4 L 265.6 235.4 L 265.6 229.6 L 267.4 229.6 L 267.4 243.1 L 265.6 243.1 L 265.6 236.9 L 258.7 236.9 L 258.7 243.1 L 256.9 243.1 L 256.9 229.6 \" fill=\"#000000\"/>\n",
       "<path class=\"atom-17\" d=\"M 273.6 255.6 L 275.4 255.6 L 275.4 261.3 L 282.2 261.3 L 282.2 255.6 L 284.1 255.6 L 284.1 269.0 L 282.2 269.0 L 282.2 262.8 L 275.4 262.8 L 275.4 269.0 L 273.6 269.0 L 273.6 255.6 \" fill=\"#000000\"/>\n",
       "<path class=\"atom-18\" d=\"M 279.8 161.3 L 281.6 161.3 L 281.6 167.0 L 288.5 167.0 L 288.5 161.3 L 290.3 161.3 L 290.3 174.7 L 288.5 174.7 L 288.5 168.5 L 281.6 168.5 L 281.6 174.7 L 279.8 174.7 L 279.8 161.3 \" fill=\"#000000\"/>\n",
       "<path class=\"atom-19\" d=\"M 256.2 204.4 L 258.0 204.4 L 258.0 210.1 L 264.9 210.1 L 264.9 204.4 L 266.7 204.4 L 266.7 217.8 L 264.9 217.8 L 264.9 211.6 L 258.0 211.6 L 258.0 217.8 L 256.2 217.8 L 256.2 204.4 \" fill=\"#000000\"/>\n",
       "<path class=\"atom-20\" d=\"M 344.1 193.5 L 345.9 193.5 L 345.9 199.2 L 352.8 199.2 L 352.8 193.5 L 354.6 193.5 L 354.6 207.0 L 352.8 207.0 L 352.8 200.8 L 345.9 200.8 L 345.9 207.0 L 344.1 207.0 L 344.1 193.5 \" fill=\"#000000\"/>\n",
       "<path class=\"atom-22\" d=\"M 323.6 104.1 L 325.5 104.1 L 325.5 109.8 L 332.3 109.8 L 332.3 104.1 L 334.2 104.1 L 334.2 117.6 L 332.3 117.6 L 332.3 111.4 L 325.5 111.4 L 325.5 117.6 L 323.6 117.6 L 323.6 104.1 \" fill=\"#000000\"/>\n",
       "<path class=\"atom-23\" d=\"M 355.6 104.2 L 357.4 104.2 L 357.4 110.0 L 364.3 110.0 L 364.3 104.2 L 366.1 104.2 L 366.1 117.7 L 364.3 117.7 L 364.3 111.5 L 357.4 111.5 L 357.4 117.7 L 355.6 117.7 L 355.6 104.2 \" fill=\"#000000\"/>\n",
       "<path class=\"atom-24\" d=\"M 366.9 147.3 L 368.8 147.3 L 368.8 153.0 L 375.6 153.0 L 375.6 147.3 L 377.5 147.3 L 377.5 160.7 L 375.6 160.7 L 375.6 154.5 L 368.8 154.5 L 368.8 160.7 L 366.9 160.7 L 366.9 147.3 \" fill=\"#000000\"/>\n",
       "<path class=\"atom-25\" d=\"M 230.3 175.9 L 232.1 175.9 L 232.1 181.6 L 239.0 181.6 L 239.0 175.9 L 240.8 175.9 L 240.8 189.3 L 239.0 189.3 L 239.0 183.1 L 232.1 183.1 L 232.1 189.3 L 230.3 189.3 L 230.3 175.9 \" fill=\"#000000\"/>\n",
       "<path class=\"atom-26\" d=\"M 260.1 177.3 L 261.9 177.3 L 261.9 183.0 L 268.8 183.0 L 268.8 177.3 L 270.6 177.3 L 270.6 190.8 L 268.8 190.8 L 268.8 184.6 L 261.9 184.6 L 261.9 190.8 L 260.1 190.8 L 260.1 177.3 \" fill=\"#000000\"/>\n",
       "<path class=\"atom-27\" d=\"M 193.7 129.3 L 195.5 129.3 L 195.5 135.0 L 202.4 135.0 L 202.4 129.3 L 204.2 129.3 L 204.2 142.7 L 202.4 142.7 L 202.4 136.5 L 195.5 136.5 L 195.5 142.7 L 193.7 142.7 L 193.7 129.3 \" fill=\"#000000\"/>\n",
       "<path class=\"atom-28\" d=\"M 205.8 157.8 L 207.6 157.8 L 207.6 163.5 L 214.5 163.5 L 214.5 157.8 L 216.3 157.8 L 216.3 171.2 L 214.5 171.2 L 214.5 165.0 L 207.6 165.0 L 207.6 171.2 L 205.8 171.2 L 205.8 157.8 \" fill=\"#000000\"/>\n",
       "<path class=\"atom-29\" d=\"M 260.9 102.3 L 262.8 102.3 L 262.8 108.0 L 269.6 108.0 L 269.6 102.3 L 271.5 102.3 L 271.5 115.7 L 269.6 115.7 L 269.6 109.5 L 262.8 109.5 L 262.8 115.7 L 260.9 115.7 L 260.9 102.3 \" fill=\"#000000\"/>\n",
       "<path class=\"atom-30\" d=\"M 247.3 73.0 L 249.1 73.0 L 249.1 78.7 L 256.0 78.7 L 256.0 73.0 L 257.8 73.0 L 257.8 86.4 L 256.0 86.4 L 256.0 80.2 L 249.1 80.2 L 249.1 86.4 L 247.3 86.4 L 247.3 73.0 \" fill=\"#000000\"/>\n",
       "<path class=\"atom-32\" d=\"M 225.4 29.6 L 227.2 29.6 L 227.2 35.3 L 234.1 35.3 L 234.1 29.6 L 235.9 29.6 L 235.9 43.0 L 234.1 43.0 L 234.1 36.8 L 227.2 36.8 L 227.2 43.0 L 225.4 43.0 L 225.4 29.6 \" fill=\"#000000\"/>\n",
       "<path class=\"atom-33\" d=\"M 172.9 42.8 L 177.3 49.9 Q 177.7 50.7, 178.4 51.9 Q 179.2 53.2, 179.2 53.3 L 179.2 42.8 L 181.0 42.8 L 181.0 56.3 L 179.1 56.3 L 174.4 48.5 Q 173.9 47.6, 173.3 46.5 Q 172.7 45.5, 172.5 45.2 L 172.5 56.3 L 170.8 56.3 L 170.8 42.8 L 172.9 42.8 \" fill=\"#0000FF\"/>\n",
       "<path class=\"atom-34\" d=\"M 158.5 13.6 L 160.3 13.6 L 160.3 19.4 L 167.2 19.4 L 167.2 13.6 L 169.0 13.6 L 169.0 27.1 L 167.2 27.1 L 167.2 20.9 L 160.3 20.9 L 160.3 27.1 L 158.5 27.1 L 158.5 13.6 \" fill=\"#000000\"/>\n",
       "</svg>"
      ],
      "text/plain": [
       "<IPython.core.display.SVG object>"
      ]
     },
     "metadata": {},
     "output_type": "display_data"
    }
   ],
   "source": [
    "m(\"[C:1]1([H:31])=[N:2][C:3]([C:4]([C:5]([C:6](/[N:7]=[S:8](\\[N:9]([C:10]([C:11]([C:12]([H:60])([H:43])[H:44])([H:41])[H:42])([H:39])[H:40])[H:38])[C:28]([H:55])([H:56])[H:57])([H:36])[H:37])([H:34])[H:35])([H:32])[H:33])=[C:29]([H:58])[N:30]1[H:59]\")"
   ]
  },
  {
   "cell_type": "code",
   "execution_count": 57,
   "id": "9822f285-20c9-4c30-b918-f039a12c1923",
   "metadata": {},
   "outputs": [
    {
     "data": {
      "image/svg+xml": [
       "<svg xmlns=\"http://www.w3.org/2000/svg\" xmlns:rdkit=\"http://www.rdkit.org/xml\" xmlns:xlink=\"http://www.w3.org/1999/xlink\" version=\"1.1\" baseProfile=\"full\" xml:space=\"preserve\" width=\"500px\" height=\"300px\" viewBox=\"0 0 500 300\">\n",
       "<!-- END OF HEADER -->\n",
       "<rect style=\"opacity:1.0;fill:#FFFFFF;stroke:none\" width=\"500.0\" height=\"300.0\" x=\"0.0\" y=\"0.0\"> </rect>\n",
       "<path class=\"bond-0 atom-0 atom-1\" d=\"M 240.5,38.4 L 243.3,46.9\" style=\"fill:none;fill-rule:evenodd;stroke:#000000;stroke-width:2.0px;stroke-linecap:butt;stroke-linejoin:miter;stroke-opacity:1\"/>\n",
       "<path class=\"bond-0 atom-0 atom-1\" d=\"M 243.3,46.9 L 246.1,55.4\" style=\"fill:none;fill-rule:evenodd;stroke:#0000FF;stroke-width:2.0px;stroke-linecap:butt;stroke-linejoin:miter;stroke-opacity:1\"/>\n",
       "<path class=\"bond-0 atom-0 atom-1\" d=\"M 237.9,42.1 L 240.3,49.3\" style=\"fill:none;fill-rule:evenodd;stroke:#000000;stroke-width:2.0px;stroke-linecap:butt;stroke-linejoin:miter;stroke-opacity:1\"/>\n",
       "<path class=\"bond-0 atom-0 atom-1\" d=\"M 240.3,49.3 L 242.6,56.5\" style=\"fill:none;fill-rule:evenodd;stroke:#0000FF;stroke-width:2.0px;stroke-linecap:butt;stroke-linejoin:miter;stroke-opacity:1\"/>\n",
       "<path class=\"bond-1 atom-0 atom-29\" d=\"M 240.5,38.4 L 230.8,38.5\" style=\"fill:none;fill-rule:evenodd;stroke:#000000;stroke-width:2.0px;stroke-linecap:butt;stroke-linejoin:miter;stroke-opacity:1\"/>\n",
       "<path class=\"bond-1 atom-0 atom-29\" d=\"M 230.8,38.5 L 221.0,38.5\" style=\"fill:none;fill-rule:evenodd;stroke:#0000FF;stroke-width:2.0px;stroke-linecap:butt;stroke-linejoin:miter;stroke-opacity:1\"/>\n",
       "<path class=\"bond-2 atom-0 atom-30\" d=\"M 240.5,38.4 L 250.3,24.7\" style=\"fill:none;fill-rule:evenodd;stroke:#000000;stroke-width:2.0px;stroke-linecap:butt;stroke-linejoin:miter;stroke-opacity:1\"/>\n",
       "<path class=\"bond-3 atom-1 atom-2\" d=\"M 243.4,64.8 L 236.0,70.2\" style=\"fill:none;fill-rule:evenodd;stroke:#0000FF;stroke-width:2.0px;stroke-linecap:butt;stroke-linejoin:miter;stroke-opacity:1\"/>\n",
       "<path class=\"bond-3 atom-1 atom-2\" d=\"M 236.0,70.2 L 228.6,75.7\" style=\"fill:none;fill-rule:evenodd;stroke:#000000;stroke-width:2.0px;stroke-linecap:butt;stroke-linejoin:miter;stroke-opacity:1\"/>\n",
       "<path class=\"bond-4 atom-2 atom-3\" d=\"M 228.6,75.7 L 230.4,99.1\" style=\"fill:none;fill-rule:evenodd;stroke:#000000;stroke-width:2.0px;stroke-linecap:butt;stroke-linejoin:miter;stroke-opacity:1\"/>\n",
       "<path class=\"bond-5 atom-2 atom-28\" d=\"M 228.6,75.7 L 209.0,61.6\" style=\"fill:none;fill-rule:evenodd;stroke:#000000;stroke-width:2.0px;stroke-linecap:butt;stroke-linejoin:miter;stroke-opacity:1\"/>\n",
       "<path class=\"bond-5 atom-2 atom-28\" d=\"M 228.6,71.2 L 213.3,60.2\" style=\"fill:none;fill-rule:evenodd;stroke:#000000;stroke-width:2.0px;stroke-linecap:butt;stroke-linejoin:miter;stroke-opacity:1\"/>\n",
       "<path class=\"bond-6 atom-3 atom-4\" d=\"M 230.4,99.1 L 214.6,110.3\" style=\"fill:none;fill-rule:evenodd;stroke:#000000;stroke-width:2.0px;stroke-linecap:butt;stroke-linejoin:miter;stroke-opacity:1\"/>\n",
       "<path class=\"bond-7 atom-3 atom-31\" d=\"M 230.4,99.1 L 239.3,112.8\" style=\"fill:none;fill-rule:evenodd;stroke:#000000;stroke-width:2.0px;stroke-linecap:butt;stroke-linejoin:miter;stroke-opacity:1\"/>\n",
       "<path class=\"bond-8 atom-3 atom-32\" d=\"M 230.4,99.1 L 248.6,99.0\" style=\"fill:none;fill-rule:evenodd;stroke:#000000;stroke-width:2.0px;stroke-linecap:butt;stroke-linejoin:miter;stroke-opacity:1\"/>\n",
       "<path class=\"bond-9 atom-4 atom-5\" d=\"M 214.6,110.3 L 216.5,132.5\" style=\"fill:none;fill-rule:evenodd;stroke:#000000;stroke-width:2.0px;stroke-linecap:butt;stroke-linejoin:miter;stroke-opacity:1\"/>\n",
       "<path class=\"bond-10 atom-4 atom-33\" d=\"M 214.6,110.3 L 194.0,112.4\" style=\"fill:none;fill-rule:evenodd;stroke:#000000;stroke-width:2.0px;stroke-linecap:butt;stroke-linejoin:miter;stroke-opacity:1\"/>\n",
       "<path class=\"bond-11 atom-4 atom-34\" d=\"M 214.6,110.3 L 204.1,96.6\" style=\"fill:none;fill-rule:evenodd;stroke:#000000;stroke-width:2.0px;stroke-linecap:butt;stroke-linejoin:miter;stroke-opacity:1\"/>\n",
       "<path class=\"bond-12 atom-5 atom-6\" d=\"M 216.5,132.5 L 202.9,135.2\" style=\"fill:none;fill-rule:evenodd;stroke:#000000;stroke-width:2.0px;stroke-linecap:butt;stroke-linejoin:miter;stroke-opacity:1\"/>\n",
       "<path class=\"bond-12 atom-5 atom-6\" d=\"M 202.9,135.2 L 189.4,137.9\" style=\"fill:none;fill-rule:evenodd;stroke:#0000FF;stroke-width:2.0px;stroke-linecap:butt;stroke-linejoin:miter;stroke-opacity:1\"/>\n",
       "<path class=\"bond-13 atom-5 atom-35\" d=\"M 216.5,132.5 L 215.3,158.5\" style=\"fill:none;fill-rule:evenodd;stroke:#000000;stroke-width:2.0px;stroke-linecap:butt;stroke-linejoin:miter;stroke-opacity:1\"/>\n",
       "<path class=\"bond-14 atom-5 atom-36\" d=\"M 216.5,132.5 L 227.8,134.2\" style=\"fill:none;fill-rule:evenodd;stroke:#000000;stroke-width:2.0px;stroke-linecap:butt;stroke-linejoin:miter;stroke-opacity:1\"/>\n",
       "<path class=\"bond-15 atom-6 atom-7\" d=\"M 186.7,144.8 L 187.0,156.0\" style=\"fill:none;fill-rule:evenodd;stroke:#0000FF;stroke-width:2.0px;stroke-linecap:butt;stroke-linejoin:miter;stroke-opacity:1\"/>\n",
       "<path class=\"bond-15 atom-6 atom-7\" d=\"M 187.0,156.0 L 187.3,167.2\" style=\"fill:none;fill-rule:evenodd;stroke:#CCCC00;stroke-width:2.0px;stroke-linecap:butt;stroke-linejoin:miter;stroke-opacity:1\"/>\n",
       "<path class=\"bond-15 atom-6 atom-7\" d=\"M 183.0,144.9 L 183.3,156.1\" style=\"fill:none;fill-rule:evenodd;stroke:#0000FF;stroke-width:2.0px;stroke-linecap:butt;stroke-linejoin:miter;stroke-opacity:1\"/>\n",
       "<path class=\"bond-15 atom-6 atom-7\" d=\"M 183.3,156.1 L 183.6,167.3\" style=\"fill:none;fill-rule:evenodd;stroke:#CCCC00;stroke-width:2.0px;stroke-linecap:butt;stroke-linejoin:miter;stroke-opacity:1\"/>\n",
       "<path class=\"bond-16 atom-7 atom-8\" d=\"M 189.7,175.6 L 200.0,181.8\" style=\"fill:none;fill-rule:evenodd;stroke:#CCCC00;stroke-width:2.0px;stroke-linecap:butt;stroke-linejoin:miter;stroke-opacity:1\"/>\n",
       "<path class=\"bond-16 atom-7 atom-8\" d=\"M 200.0,181.8 L 210.4,188.0\" style=\"fill:none;fill-rule:evenodd;stroke:#0000FF;stroke-width:2.0px;stroke-linecap:butt;stroke-linejoin:miter;stroke-opacity:1\"/>\n",
       "<path class=\"bond-17 atom-7 atom-27\" d=\"M 181.5,175.6 L 173.3,180.4\" style=\"fill:none;fill-rule:evenodd;stroke:#CCCC00;stroke-width:2.0px;stroke-linecap:butt;stroke-linejoin:miter;stroke-opacity:1\"/>\n",
       "<path class=\"bond-17 atom-7 atom-27\" d=\"M 173.3,180.4 L 165.2,185.1\" style=\"fill:none;fill-rule:evenodd;stroke:#000000;stroke-width:2.0px;stroke-linecap:butt;stroke-linejoin:miter;stroke-opacity:1\"/>\n",
       "<path class=\"bond-18 atom-8 atom-9\" d=\"M 219.8,185.3 L 228.0,175.8\" style=\"fill:none;fill-rule:evenodd;stroke:#0000FF;stroke-width:2.0px;stroke-linecap:butt;stroke-linejoin:miter;stroke-opacity:1\"/>\n",
       "<path class=\"bond-18 atom-8 atom-9\" d=\"M 228.0,175.8 L 236.1,166.4\" style=\"fill:none;fill-rule:evenodd;stroke:#000000;stroke-width:2.0px;stroke-linecap:butt;stroke-linejoin:miter;stroke-opacity:1\"/>\n",
       "<path class=\"bond-19 atom-8 atom-37\" d=\"M 215.2,196.7 L 215.2,201.9\" style=\"fill:none;fill-rule:evenodd;stroke:#0000FF;stroke-width:2.0px;stroke-linecap:butt;stroke-linejoin:miter;stroke-opacity:1\"/>\n",
       "<path class=\"bond-19 atom-8 atom-37\" d=\"M 215.2,201.9 L 215.3,207.1\" style=\"fill:none;fill-rule:evenodd;stroke:#000000;stroke-width:2.0px;stroke-linecap:butt;stroke-linejoin:miter;stroke-opacity:1\"/>\n",
       "<path class=\"bond-20 atom-9 atom-10\" d=\"M 236.1,166.4 L 253.9,180.8\" style=\"fill:none;fill-rule:evenodd;stroke:#000000;stroke-width:2.0px;stroke-linecap:butt;stroke-linejoin:miter;stroke-opacity:1\"/>\n",
       "<path class=\"bond-21 atom-9 atom-38\" d=\"M 236.1,166.4 L 237.0,159.4\" style=\"fill:none;fill-rule:evenodd;stroke:#000000;stroke-width:2.0px;stroke-linecap:butt;stroke-linejoin:miter;stroke-opacity:1\"/>\n",
       "<path class=\"bond-22 atom-9 atom-39\" d=\"M 236.1,166.4 L 212.6,154.2\" style=\"fill:none;fill-rule:evenodd;stroke:#000000;stroke-width:2.0px;stroke-linecap:butt;stroke-linejoin:miter;stroke-opacity:1\"/>\n",
       "<path class=\"bond-23 atom-10 atom-11\" d=\"M 253.9,180.8 L 270.2,174.2\" style=\"fill:none;fill-rule:evenodd;stroke:#000000;stroke-width:2.0px;stroke-linecap:butt;stroke-linejoin:miter;stroke-opacity:1\"/>\n",
       "<path class=\"bond-24 atom-10 atom-40\" d=\"M 253.9,180.8 L 259.4,198.6\" style=\"fill:none;fill-rule:evenodd;stroke:#000000;stroke-width:2.0px;stroke-linecap:butt;stroke-linejoin:miter;stroke-opacity:1\"/>\n",
       "<path class=\"bond-25 atom-10 atom-41\" d=\"M 253.9,180.8 L 242.0,194.7\" style=\"fill:none;fill-rule:evenodd;stroke:#000000;stroke-width:2.0px;stroke-linecap:butt;stroke-linejoin:miter;stroke-opacity:1\"/>\n",
       "<path class=\"bond-26 atom-11 atom-12\" d=\"M 270.2,174.2 L 278.3,178.8\" style=\"fill:none;fill-rule:evenodd;stroke:#000000;stroke-width:2.0px;stroke-linecap:butt;stroke-linejoin:miter;stroke-opacity:1\"/>\n",
       "<path class=\"bond-26 atom-11 atom-12\" d=\"M 278.3,178.8 L 286.4,183.5\" style=\"fill:none;fill-rule:evenodd;stroke:#0000FF;stroke-width:2.0px;stroke-linecap:butt;stroke-linejoin:miter;stroke-opacity:1\"/>\n",
       "<path class=\"bond-27 atom-11 atom-42\" d=\"M 270.2,174.2 L 279.3,162.6\" style=\"fill:none;fill-rule:evenodd;stroke:#000000;stroke-width:2.0px;stroke-linecap:butt;stroke-linejoin:miter;stroke-opacity:1\"/>\n",
       "<path class=\"bond-28 atom-11 atom-43\" d=\"M 270.2,174.2 L 259.8,155.2\" style=\"fill:none;fill-rule:evenodd;stroke:#000000;stroke-width:2.0px;stroke-linecap:butt;stroke-linejoin:miter;stroke-opacity:1\"/>\n",
       "<path class=\"bond-29 atom-12 atom-13\" d=\"M 291.4,192.1 L 291.9,200.6\" style=\"fill:none;fill-rule:evenodd;stroke:#0000FF;stroke-width:2.0px;stroke-linecap:butt;stroke-linejoin:miter;stroke-opacity:1\"/>\n",
       "<path class=\"bond-29 atom-12 atom-13\" d=\"M 291.9,200.6 L 292.4,209.0\" style=\"fill:none;fill-rule:evenodd;stroke:#000000;stroke-width:2.0px;stroke-linecap:butt;stroke-linejoin:miter;stroke-opacity:1\"/>\n",
       "<path class=\"bond-30 atom-12 atom-19\" d=\"M 295.8,183.0 L 303.4,177.9\" style=\"fill:none;fill-rule:evenodd;stroke:#0000FF;stroke-width:2.0px;stroke-linecap:butt;stroke-linejoin:miter;stroke-opacity:1\"/>\n",
       "<path class=\"bond-30 atom-12 atom-19\" d=\"M 303.4,177.9 L 311.1,172.7\" style=\"fill:none;fill-rule:evenodd;stroke:#000000;stroke-width:2.0px;stroke-linecap:butt;stroke-linejoin:miter;stroke-opacity:1\"/>\n",
       "<path class=\"bond-31 atom-13 atom-14\" d=\"M 292.4,209.0 L 284.3,213.6\" style=\"fill:none;fill-rule:evenodd;stroke:#000000;stroke-width:2.0px;stroke-linecap:butt;stroke-linejoin:miter;stroke-opacity:1\"/>\n",
       "<path class=\"bond-31 atom-13 atom-14\" d=\"M 284.3,213.6 L 276.2,218.2\" style=\"fill:none;fill-rule:evenodd;stroke:#0000FF;stroke-width:2.0px;stroke-linecap:butt;stroke-linejoin:miter;stroke-opacity:1\"/>\n",
       "<path class=\"bond-31 atom-13 atom-14\" d=\"M 292.4,213.2 L 285.2,217.3\" style=\"fill:none;fill-rule:evenodd;stroke:#000000;stroke-width:2.0px;stroke-linecap:butt;stroke-linejoin:miter;stroke-opacity:1\"/>\n",
       "<path class=\"bond-31 atom-13 atom-14\" d=\"M 285.2,217.3 L 278.1,221.4\" style=\"fill:none;fill-rule:evenodd;stroke:#0000FF;stroke-width:2.0px;stroke-linecap:butt;stroke-linejoin:miter;stroke-opacity:1\"/>\n",
       "<path class=\"bond-32 atom-13 atom-18\" d=\"M 292.4,209.0 L 313.1,221.1\" style=\"fill:none;fill-rule:evenodd;stroke:#000000;stroke-width:2.0px;stroke-linecap:butt;stroke-linejoin:miter;stroke-opacity:1\"/>\n",
       "<path class=\"bond-33 atom-14 atom-15\" d=\"M 271.5,226.9 L 271.5,235.9\" style=\"fill:none;fill-rule:evenodd;stroke:#0000FF;stroke-width:2.0px;stroke-linecap:butt;stroke-linejoin:miter;stroke-opacity:1\"/>\n",
       "<path class=\"bond-33 atom-14 atom-15\" d=\"M 271.5,235.9 L 271.5,244.9\" style=\"fill:none;fill-rule:evenodd;stroke:#000000;stroke-width:2.0px;stroke-linecap:butt;stroke-linejoin:miter;stroke-opacity:1\"/>\n",
       "<path class=\"bond-34 atom-15 atom-16\" d=\"M 271.5,244.9 L 292.2,257.1\" style=\"fill:none;fill-rule:evenodd;stroke:#000000;stroke-width:2.0px;stroke-linecap:butt;stroke-linejoin:miter;stroke-opacity:1\"/>\n",
       "<path class=\"bond-34 atom-15 atom-16\" d=\"M 275.2,242.9 L 292.2,252.8\" style=\"fill:none;fill-rule:evenodd;stroke:#000000;stroke-width:2.0px;stroke-linecap:butt;stroke-linejoin:miter;stroke-opacity:1\"/>\n",
       "<path class=\"bond-35 atom-15 atom-44\" d=\"M 271.5,244.9 L 255.3,254.1\" style=\"fill:none;fill-rule:evenodd;stroke:#000000;stroke-width:2.0px;stroke-linecap:butt;stroke-linejoin:miter;stroke-opacity:1\"/>\n",
       "<path class=\"bond-36 atom-16 atom-17\" d=\"M 292.2,257.1 L 313.0,245.1\" style=\"fill:none;fill-rule:evenodd;stroke:#000000;stroke-width:2.0px;stroke-linecap:butt;stroke-linejoin:miter;stroke-opacity:1\"/>\n",
       "<path class=\"bond-37 atom-16 atom-45\" d=\"M 292.2,257.1 L 292.0,275.3\" style=\"fill:none;fill-rule:evenodd;stroke:#000000;stroke-width:2.0px;stroke-linecap:butt;stroke-linejoin:miter;stroke-opacity:1\"/>\n",
       "<path class=\"bond-38 atom-17 atom-18\" d=\"M 313.0,245.1 L 313.1,221.1\" style=\"fill:none;fill-rule:evenodd;stroke:#000000;stroke-width:2.0px;stroke-linecap:butt;stroke-linejoin:miter;stroke-opacity:1\"/>\n",
       "<path class=\"bond-38 atom-17 atom-18\" d=\"M 309.4,243.0 L 309.5,223.2\" style=\"fill:none;fill-rule:evenodd;stroke:#000000;stroke-width:2.0px;stroke-linecap:butt;stroke-linejoin:miter;stroke-opacity:1\"/>\n",
       "<path class=\"bond-39 atom-17 atom-46\" d=\"M 313.0,245.1 L 329.0,254.5\" style=\"fill:none;fill-rule:evenodd;stroke:#000000;stroke-width:2.0px;stroke-linecap:butt;stroke-linejoin:miter;stroke-opacity:1\"/>\n",
       "<path class=\"bond-40 atom-18 atom-47\" d=\"M 313.1,221.1 L 329.1,212.2\" style=\"fill:none;fill-rule:evenodd;stroke:#000000;stroke-width:2.0px;stroke-linecap:butt;stroke-linejoin:miter;stroke-opacity:1\"/>\n",
       "<path class=\"bond-41 atom-19 atom-20\" d=\"M 311.1,172.7 L 310.6,147.3\" style=\"fill:none;fill-rule:evenodd;stroke:#000000;stroke-width:2.0px;stroke-linecap:butt;stroke-linejoin:miter;stroke-opacity:1\"/>\n",
       "<path class=\"bond-42 atom-19 atom-48\" d=\"M 311.1,172.7 L 320.5,186.6\" style=\"fill:none;fill-rule:evenodd;stroke:#000000;stroke-width:2.0px;stroke-linecap:butt;stroke-linejoin:miter;stroke-opacity:1\"/>\n",
       "<path class=\"bond-43 atom-19 atom-49\" d=\"M 311.1,172.7 L 330.5,171.8\" style=\"fill:none;fill-rule:evenodd;stroke:#000000;stroke-width:2.0px;stroke-linecap:butt;stroke-linejoin:miter;stroke-opacity:1\"/>\n",
       "<path class=\"bond-44 atom-20 atom-21\" d=\"M 310.6,147.3 L 290.6,133.7\" style=\"fill:none;fill-rule:evenodd;stroke:#000000;stroke-width:2.0px;stroke-linecap:butt;stroke-linejoin:miter;stroke-opacity:1\"/>\n",
       "<path class=\"bond-44 atom-20 atom-21\" d=\"M 310.9,143.1 L 294.4,131.8\" style=\"fill:none;fill-rule:evenodd;stroke:#000000;stroke-width:2.0px;stroke-linecap:butt;stroke-linejoin:miter;stroke-opacity:1\"/>\n",
       "<path class=\"bond-45 atom-20 atom-26\" d=\"M 310.6,147.3 L 332.4,136.8\" style=\"fill:none;fill-rule:evenodd;stroke:#000000;stroke-width:2.0px;stroke-linecap:butt;stroke-linejoin:miter;stroke-opacity:1\"/>\n",
       "<path class=\"bond-46 atom-21 atom-22\" d=\"M 290.6,133.7 L 292.3,109.6\" style=\"fill:none;fill-rule:evenodd;stroke:#000000;stroke-width:2.0px;stroke-linecap:butt;stroke-linejoin:miter;stroke-opacity:1\"/>\n",
       "<path class=\"bond-47 atom-21 atom-50\" d=\"M 290.6,133.7 L 278.2,138.1\" style=\"fill:none;fill-rule:evenodd;stroke:#000000;stroke-width:2.0px;stroke-linecap:butt;stroke-linejoin:miter;stroke-opacity:1\"/>\n",
       "<path class=\"bond-48 atom-22 atom-23\" d=\"M 292.3,109.6 L 314.0,99.1\" style=\"fill:none;fill-rule:evenodd;stroke:#000000;stroke-width:2.0px;stroke-linecap:butt;stroke-linejoin:miter;stroke-opacity:1\"/>\n",
       "<path class=\"bond-48 atom-22 atom-23\" d=\"M 295.8,112.0 L 313.7,103.4\" style=\"fill:none;fill-rule:evenodd;stroke:#000000;stroke-width:2.0px;stroke-linecap:butt;stroke-linejoin:miter;stroke-opacity:1\"/>\n",
       "<path class=\"bond-49 atom-22 atom-51\" d=\"M 292.3,109.6 L 277.2,98.5\" style=\"fill:none;fill-rule:evenodd;stroke:#000000;stroke-width:2.0px;stroke-linecap:butt;stroke-linejoin:miter;stroke-opacity:1\"/>\n",
       "<path class=\"bond-50 atom-23 atom-24\" d=\"M 314.0,99.1 L 314.6,90.0\" style=\"fill:none;fill-rule:evenodd;stroke:#000000;stroke-width:2.0px;stroke-linecap:butt;stroke-linejoin:miter;stroke-opacity:1\"/>\n",
       "<path class=\"bond-50 atom-23 atom-24\" d=\"M 314.6,90.0 L 315.2,80.9\" style=\"fill:none;fill-rule:evenodd;stroke:#7F4C19;stroke-width:2.0px;stroke-linecap:butt;stroke-linejoin:miter;stroke-opacity:1\"/>\n",
       "<path class=\"bond-51 atom-23 atom-25\" d=\"M 314.0,99.1 L 334.1,112.7\" style=\"fill:none;fill-rule:evenodd;stroke:#000000;stroke-width:2.0px;stroke-linecap:butt;stroke-linejoin:miter;stroke-opacity:1\"/>\n",
       "<path class=\"bond-52 atom-25 atom-26\" d=\"M 334.1,112.7 L 332.4,136.8\" style=\"fill:none;fill-rule:evenodd;stroke:#000000;stroke-width:2.0px;stroke-linecap:butt;stroke-linejoin:miter;stroke-opacity:1\"/>\n",
       "<path class=\"bond-52 atom-25 atom-26\" d=\"M 330.3,114.5 L 328.9,134.4\" style=\"fill:none;fill-rule:evenodd;stroke:#000000;stroke-width:2.0px;stroke-linecap:butt;stroke-linejoin:miter;stroke-opacity:1\"/>\n",
       "<path class=\"bond-53 atom-25 atom-52\" d=\"M 334.1,112.7 L 350.9,104.4\" style=\"fill:none;fill-rule:evenodd;stroke:#000000;stroke-width:2.0px;stroke-linecap:butt;stroke-linejoin:miter;stroke-opacity:1\"/>\n",
       "<path class=\"bond-54 atom-26 atom-53\" d=\"M 332.4,136.8 L 347.7,147.0\" style=\"fill:none;fill-rule:evenodd;stroke:#000000;stroke-width:2.0px;stroke-linecap:butt;stroke-linejoin:miter;stroke-opacity:1\"/>\n",
       "<path class=\"bond-55 atom-27 atom-54\" d=\"M 165.2,185.1 L 173.9,200.0\" style=\"fill:none;fill-rule:evenodd;stroke:#000000;stroke-width:2.0px;stroke-linecap:butt;stroke-linejoin:miter;stroke-opacity:1\"/>\n",
       "<path class=\"bond-56 atom-27 atom-55\" d=\"M 165.2,185.1 L 156.7,200.1\" style=\"fill:none;fill-rule:evenodd;stroke:#000000;stroke-width:2.0px;stroke-linecap:butt;stroke-linejoin:miter;stroke-opacity:1\"/>\n",
       "<path class=\"bond-57 atom-27 atom-56\" d=\"M 165.2,185.1 L 149.1,175.9\" style=\"fill:none;fill-rule:evenodd;stroke:#000000;stroke-width:2.0px;stroke-linecap:butt;stroke-linejoin:miter;stroke-opacity:1\"/>\n",
       "<path class=\"bond-58 atom-28 atom-29\" d=\"M 209.0,61.6 L 211.7,53.0\" style=\"fill:none;fill-rule:evenodd;stroke:#000000;stroke-width:2.0px;stroke-linecap:butt;stroke-linejoin:miter;stroke-opacity:1\"/>\n",
       "<path class=\"bond-58 atom-28 atom-29\" d=\"M 211.7,53.0 L 214.4,44.5\" style=\"fill:none;fill-rule:evenodd;stroke:#0000FF;stroke-width:2.0px;stroke-linecap:butt;stroke-linejoin:miter;stroke-opacity:1\"/>\n",
       "<path class=\"bond-59 atom-28 atom-57\" d=\"M 209.0,61.6 L 190.8,67.6\" style=\"fill:none;fill-rule:evenodd;stroke:#000000;stroke-width:2.0px;stroke-linecap:butt;stroke-linejoin:miter;stroke-opacity:1\"/>\n",
       "<path class=\"bond-60 atom-29 atom-58\" d=\"M 212.0,32.6 L 209.2,28.8\" style=\"fill:none;fill-rule:evenodd;stroke:#0000FF;stroke-width:2.0px;stroke-linecap:butt;stroke-linejoin:miter;stroke-opacity:1\"/>\n",
       "<path class=\"bond-60 atom-29 atom-58\" d=\"M 209.2,28.8 L 206.4,25.0\" style=\"fill:none;fill-rule:evenodd;stroke:#000000;stroke-width:2.0px;stroke-linecap:butt;stroke-linejoin:miter;stroke-opacity:1\"/>\n",
       "<path class=\"atom-1\" d=\"M 245.8 56.2 L 249.2 61.6 Q 249.5 62.1, 250.0 63.1 Q 250.6 64.1, 250.6 64.1 L 250.6 56.2 L 252.0 56.2 L 252.0 66.4 L 250.6 66.4 L 247.0 60.5 Q 246.5 59.8, 246.1 59.0 Q 245.6 58.2, 245.5 58.0 L 245.5 66.4 L 244.2 66.4 L 244.2 56.2 L 245.8 56.2 \" fill=\"#0000FF\"/>\n",
       "<path class=\"atom-6\" d=\"M 182.4 133.8 L 185.8 139.2 Q 186.1 139.7, 186.7 140.7 Q 187.2 141.7, 187.2 141.7 L 187.2 133.8 L 188.6 133.8 L 188.6 144.0 L 187.2 144.0 L 183.6 138.1 Q 183.1 137.4, 182.7 136.6 Q 182.3 135.8, 182.1 135.5 L 182.1 144.0 L 180.8 144.0 L 180.8 133.8 L 182.4 133.8 \" fill=\"#0000FF\"/>\n",
       "<path class=\"atom-7\" d=\"M 182.7 176.7 Q 182.8 176.8, 183.3 177.0 Q 183.8 177.2, 184.3 177.3 Q 184.8 177.4, 185.4 177.4 Q 186.3 177.4, 186.9 177.0 Q 187.5 176.5, 187.5 175.7 Q 187.5 175.1, 187.2 174.7 Q 186.9 174.4, 186.5 174.2 Q 186.0 174.0, 185.3 173.8 Q 184.4 173.5, 183.8 173.3 Q 183.3 173.0, 182.9 172.4 Q 182.5 171.9, 182.5 171.0 Q 182.5 169.7, 183.4 168.9 Q 184.3 168.1, 186.0 168.1 Q 187.2 168.1, 188.6 168.6 L 188.2 169.8 Q 187.0 169.3, 186.1 169.3 Q 185.1 169.3, 184.5 169.7 Q 184.0 170.1, 184.0 170.8 Q 184.0 171.3, 184.3 171.7 Q 184.5 172.0, 184.9 172.2 Q 185.4 172.4, 186.1 172.6 Q 187.0 172.9, 187.5 173.2 Q 188.1 173.5, 188.5 174.1 Q 188.9 174.7, 188.9 175.7 Q 188.9 177.1, 187.9 177.8 Q 187.0 178.6, 185.4 178.6 Q 184.5 178.6, 183.8 178.4 Q 183.1 178.2, 182.3 177.9 L 182.7 176.7 \" fill=\"#CCCC00\"/>\n",
       "<path class=\"atom-8\" d=\"M 212.8 185.6 L 216.2 191.1 Q 216.5 191.6, 217.1 192.6 Q 217.6 193.5, 217.6 193.6 L 217.6 185.6 L 219.0 185.6 L 219.0 195.9 L 217.6 195.9 L 214.0 189.9 Q 213.5 189.2, 213.1 188.4 Q 212.7 187.6, 212.5 187.4 L 212.5 195.9 L 211.2 195.9 L 211.2 185.6 L 212.8 185.6 \" fill=\"#0000FF\"/>\n",
       "<path class=\"atom-12\" d=\"M 288.8 181.1 L 292.1 186.5 Q 292.5 187.0, 293.0 188.0 Q 293.6 189.0, 293.6 189.0 L 293.6 181.1 L 294.9 181.1 L 294.9 191.3 L 293.5 191.3 L 289.9 185.4 Q 289.5 184.7, 289.1 183.9 Q 288.6 183.1, 288.5 182.8 L 288.5 191.3 L 287.2 191.3 L 287.2 181.1 L 288.8 181.1 \" fill=\"#0000FF\"/>\n",
       "<path class=\"atom-14\" d=\"M 269.3 215.8 L 272.6 221.2 Q 273.0 221.8, 273.5 222.7 Q 274.0 223.7, 274.1 223.8 L 274.1 215.8 L 275.4 215.8 L 275.4 226.1 L 274.0 226.1 L 270.4 220.1 Q 270.0 219.4, 269.5 218.6 Q 269.1 217.8, 269.0 217.6 L 269.0 226.1 L 267.6 226.1 L 267.6 215.8 L 269.3 215.8 \" fill=\"#0000FF\"/>\n",
       "<path class=\"atom-24\" d=\"M 317.1 74.7 Q 318.1 75.0, 318.6 75.6 Q 319.1 76.2, 319.1 77.1 Q 319.1 78.5, 318.2 79.3 Q 317.3 80.1, 315.6 80.1 L 312.1 80.1 L 312.1 69.9 L 315.2 69.9 Q 316.9 69.9, 317.8 70.6 Q 318.7 71.3, 318.7 72.6 Q 318.7 74.1, 317.1 74.7 M 313.5 71.0 L 313.5 74.3 L 315.2 74.3 Q 316.2 74.3, 316.7 73.8 Q 317.3 73.4, 317.3 72.6 Q 317.3 71.0, 315.2 71.0 L 313.5 71.0 M 315.6 79.0 Q 316.6 79.0, 317.1 78.5 Q 317.7 78.0, 317.7 77.1 Q 317.7 76.3, 317.1 75.8 Q 316.5 75.4, 315.4 75.4 L 313.5 75.4 L 313.5 79.0 L 315.6 79.0 \" fill=\"#7F4C19\"/>\n",
       "<path class=\"atom-24\" d=\"M 321.5 72.7 L 321.6 73.7 Q 322.4 72.6, 323.7 72.6 Q 324.1 72.6, 324.6 72.7 L 324.4 73.9 Q 323.8 73.8, 323.4 73.8 Q 322.8 73.8, 322.4 74.0 Q 322.0 74.3, 321.7 74.8 L 321.7 80.1 L 320.4 80.1 L 320.4 72.7 L 321.5 72.7 \" fill=\"#7F4C19\"/>\n",
       "<path class=\"atom-29\" d=\"M 214.1 33.4 L 217.4 38.8 Q 217.8 39.4, 218.3 40.3 Q 218.8 41.3, 218.9 41.4 L 218.9 33.4 L 220.2 33.4 L 220.2 43.7 L 218.8 43.7 L 215.2 37.7 Q 214.8 37.0, 214.3 36.2 Q 213.9 35.4, 213.8 35.2 L 213.8 43.7 L 212.4 43.7 L 212.4 33.4 L 214.1 33.4 \" fill=\"#0000FF\"/>\n",
       "<path class=\"atom-30\" d=\"M 250.6 13.6 L 252.0 13.6 L 252.0 18.0 L 257.2 18.0 L 257.2 13.6 L 258.6 13.6 L 258.6 23.9 L 257.2 23.9 L 257.2 19.2 L 252.0 19.2 L 252.0 23.9 L 250.6 23.9 L 250.6 13.6 \" fill=\"#000000\"/>\n",
       "<path class=\"atom-31\" d=\"M 239.1 113.6 L 240.5 113.6 L 240.5 117.9 L 245.8 117.9 L 245.8 113.6 L 247.2 113.6 L 247.2 123.8 L 245.8 123.8 L 245.8 119.1 L 240.5 119.1 L 240.5 123.8 L 239.1 123.8 L 239.1 113.6 \" fill=\"#000000\"/>\n",
       "<path class=\"atom-32\" d=\"M 249.4 93.8 L 250.8 93.8 L 250.8 98.2 L 256.1 98.2 L 256.1 93.8 L 257.5 93.8 L 257.5 104.1 L 256.1 104.1 L 256.1 99.4 L 250.8 99.4 L 250.8 104.1 L 249.4 104.1 L 249.4 93.8 \" fill=\"#000000\"/>\n",
       "<path class=\"atom-33\" d=\"M 185.2 107.8 L 186.6 107.8 L 186.6 112.2 L 191.8 112.2 L 191.8 107.8 L 193.2 107.8 L 193.2 118.1 L 191.8 118.1 L 191.8 113.3 L 186.6 113.3 L 186.6 118.1 L 185.2 118.1 L 185.2 107.8 \" fill=\"#000000\"/>\n",
       "<path class=\"atom-34\" d=\"M 195.5 85.5 L 196.9 85.5 L 196.9 89.9 L 202.1 89.9 L 202.1 85.5 L 203.5 85.5 L 203.5 95.8 L 202.1 95.8 L 202.1 91.1 L 196.9 91.1 L 196.9 95.8 L 195.5 95.8 L 195.5 85.5 \" fill=\"#000000\"/>\n",
       "<path class=\"atom-35\" d=\"M 211.0 159.3 L 212.4 159.3 L 212.4 163.6 L 217.6 163.6 L 217.6 159.3 L 219.0 159.3 L 219.0 169.5 L 217.6 169.5 L 217.6 164.8 L 212.4 164.8 L 212.4 169.5 L 211.0 169.5 L 211.0 159.3 \" fill=\"#000000\"/>\n",
       "<path class=\"atom-36\" d=\"M 228.6 129.8 L 230.0 129.8 L 230.0 134.1 L 235.2 134.1 L 235.2 129.8 L 236.6 129.8 L 236.6 140.0 L 235.2 140.0 L 235.2 135.3 L 230.0 135.3 L 230.0 140.0 L 228.6 140.0 L 228.6 129.8 \" fill=\"#000000\"/>\n",
       "<path class=\"atom-37\" d=\"M 211.3 207.9 L 212.7 207.9 L 212.7 212.3 L 218.0 212.3 L 218.0 207.9 L 219.4 207.9 L 219.4 218.2 L 218.0 218.2 L 218.0 213.5 L 212.7 213.5 L 212.7 218.2 L 211.3 218.2 L 211.3 207.9 \" fill=\"#000000\"/>\n",
       "<path class=\"atom-38\" d=\"M 233.7 148.3 L 235.1 148.3 L 235.1 152.6 L 240.4 152.6 L 240.4 148.3 L 241.8 148.3 L 241.8 158.6 L 240.4 158.6 L 240.4 153.8 L 235.1 153.8 L 235.1 158.6 L 233.7 158.6 L 233.7 148.3 \" fill=\"#000000\"/>\n",
       "<path class=\"atom-39\" d=\"M 203.7 146.6 L 205.1 146.6 L 205.1 151.0 L 210.4 151.0 L 210.4 146.6 L 211.8 146.6 L 211.8 156.9 L 210.4 156.9 L 210.4 152.1 L 205.1 152.1 L 205.1 156.9 L 203.7 156.9 L 203.7 146.6 \" fill=\"#000000\"/>\n",
       "<path class=\"atom-40\" d=\"M 257.2 199.4 L 258.6 199.4 L 258.6 203.8 L 263.8 203.8 L 263.8 199.4 L 265.2 199.4 L 265.2 209.7 L 263.8 209.7 L 263.8 204.9 L 258.6 204.9 L 258.6 209.7 L 257.2 209.7 L 257.2 199.4 \" fill=\"#000000\"/>\n",
       "<path class=\"atom-41\" d=\"M 233.2 195.2 L 234.6 195.2 L 234.6 199.6 L 239.8 199.6 L 239.8 195.2 L 241.2 195.2 L 241.2 205.5 L 239.8 205.5 L 239.8 200.8 L 234.6 200.8 L 234.6 205.5 L 233.2 205.5 L 233.2 195.2 \" fill=\"#000000\"/>\n",
       "<path class=\"atom-42\" d=\"M 279.9 151.5 L 281.3 151.5 L 281.3 155.9 L 286.5 155.9 L 286.5 151.5 L 287.9 151.5 L 287.9 161.8 L 286.5 161.8 L 286.5 157.0 L 281.3 157.0 L 281.3 161.8 L 279.9 161.8 L 279.9 151.5 \" fill=\"#000000\"/>\n",
       "<path class=\"atom-43\" d=\"M 252.6 144.1 L 254.0 144.1 L 254.0 148.5 L 259.2 148.5 L 259.2 144.1 L 260.6 144.1 L 260.6 154.4 L 259.2 154.4 L 259.2 149.6 L 254.0 149.6 L 254.0 154.4 L 252.6 154.4 L 252.6 144.1 \" fill=\"#000000\"/>\n",
       "<path class=\"atom-44\" d=\"M 246.4 251.7 L 247.8 251.7 L 247.8 256.1 L 253.1 256.1 L 253.1 251.7 L 254.4 251.7 L 254.4 262.0 L 253.1 262.0 L 253.1 257.3 L 247.8 257.3 L 247.8 262.0 L 246.4 262.0 L 246.4 251.7 \" fill=\"#000000\"/>\n",
       "<path class=\"atom-45\" d=\"M 288.0 276.1 L 289.4 276.1 L 289.4 280.5 L 294.6 280.5 L 294.6 276.1 L 296.0 276.1 L 296.0 286.4 L 294.6 286.4 L 294.6 281.6 L 289.4 281.6 L 289.4 286.4 L 288.0 286.4 L 288.0 276.1 \" fill=\"#000000\"/>\n",
       "<path class=\"atom-46\" d=\"M 329.8 252.2 L 331.2 252.2 L 331.2 256.6 L 336.5 256.6 L 336.5 252.2 L 337.9 252.2 L 337.9 262.5 L 336.5 262.5 L 336.5 257.8 L 331.2 257.8 L 331.2 262.5 L 329.8 262.5 L 329.8 252.2 \" fill=\"#000000\"/>\n",
       "<path class=\"atom-47\" d=\"M 329.9 204.3 L 331.3 204.3 L 331.3 208.7 L 336.6 208.7 L 336.6 204.3 L 338.0 204.3 L 338.0 214.6 L 336.6 214.6 L 336.6 209.9 L 331.3 209.9 L 331.3 214.6 L 329.9 214.6 L 329.9 204.3 \" fill=\"#000000\"/>\n",
       "<path class=\"atom-48\" d=\"M 320.6 187.4 L 321.9 187.4 L 321.9 191.8 L 327.2 191.8 L 327.2 187.4 L 328.6 187.4 L 328.6 197.7 L 327.2 197.7 L 327.2 193.0 L 321.9 193.0 L 321.9 197.7 L 320.6 197.7 L 320.6 187.4 \" fill=\"#000000\"/>\n",
       "<path class=\"atom-49\" d=\"M 331.3 166.5 L 332.7 166.5 L 332.7 170.9 L 338.0 170.9 L 338.0 166.5 L 339.4 166.5 L 339.4 176.8 L 338.0 176.8 L 338.0 172.0 L 332.7 172.0 L 332.7 176.8 L 331.3 176.8 L 331.3 166.5 \" fill=\"#000000\"/>\n",
       "<path class=\"atom-50\" d=\"M 269.4 134.8 L 270.8 134.8 L 270.8 139.1 L 276.0 139.1 L 276.0 134.8 L 277.4 134.8 L 277.4 145.0 L 276.0 145.0 L 276.0 140.3 L 270.8 140.3 L 270.8 145.0 L 269.4 145.0 L 269.4 134.8 \" fill=\"#000000\"/>\n",
       "<path class=\"atom-51\" d=\"M 268.4 89.8 L 269.7 89.8 L 269.7 94.2 L 275.0 94.2 L 275.0 89.8 L 276.4 89.8 L 276.4 100.1 L 275.0 100.1 L 275.0 95.3 L 269.7 95.3 L 269.7 100.1 L 268.4 100.1 L 268.4 89.8 \" fill=\"#000000\"/>\n",
       "<path class=\"atom-52\" d=\"M 351.7 96.8 L 353.1 96.8 L 353.1 101.2 L 358.4 101.2 L 358.4 96.8 L 359.8 96.8 L 359.8 107.1 L 358.4 107.1 L 358.4 102.4 L 353.1 102.4 L 353.1 107.1 L 351.7 107.1 L 351.7 96.8 \" fill=\"#000000\"/>\n",
       "<path class=\"atom-53\" d=\"M 348.5 145.1 L 349.9 145.1 L 349.9 149.4 L 355.1 149.4 L 355.1 145.1 L 356.5 145.1 L 356.5 155.3 L 355.1 155.3 L 355.1 150.6 L 349.9 150.6 L 349.9 155.3 L 348.5 155.3 L 348.5 145.1 \" fill=\"#000000\"/>\n",
       "<path class=\"atom-54\" d=\"M 173.4 200.8 L 174.8 200.8 L 174.8 205.1 L 180.1 205.1 L 180.1 200.8 L 181.5 200.8 L 181.5 211.1 L 180.1 211.1 L 180.1 206.3 L 174.8 206.3 L 174.8 211.1 L 173.4 211.1 L 173.4 200.8 \" fill=\"#000000\"/>\n",
       "<path class=\"atom-55\" d=\"M 149.3 200.9 L 150.7 200.9 L 150.7 205.3 L 155.9 205.3 L 155.9 200.9 L 157.3 200.9 L 157.3 211.2 L 155.9 211.2 L 155.9 206.4 L 150.7 206.4 L 150.7 211.2 L 149.3 211.2 L 149.3 200.9 \" fill=\"#000000\"/>\n",
       "<path class=\"atom-56\" d=\"M 140.2 167.9 L 141.6 167.9 L 141.6 172.3 L 146.9 172.3 L 146.9 167.9 L 148.3 167.9 L 148.3 178.2 L 146.9 178.2 L 146.9 173.5 L 141.6 173.5 L 141.6 178.2 L 140.2 178.2 L 140.2 167.9 \" fill=\"#000000\"/>\n",
       "<path class=\"atom-57\" d=\"M 182.0 64.1 L 183.4 64.1 L 183.4 68.4 L 188.6 68.4 L 188.6 64.1 L 190.0 64.1 L 190.0 74.3 L 188.6 74.3 L 188.6 69.6 L 183.4 69.6 L 183.4 74.3 L 182.0 74.3 L 182.0 64.1 \" fill=\"#000000\"/>\n",
       "<path class=\"atom-58\" d=\"M 198.0 13.9 L 199.4 13.9 L 199.4 18.3 L 204.7 18.3 L 204.7 13.9 L 206.1 13.9 L 206.1 24.2 L 204.7 24.2 L 204.7 19.4 L 199.4 19.4 L 199.4 24.2 L 198.0 24.2 L 198.0 13.9 \" fill=\"#000000\"/>\n",
       "</svg>"
      ],
      "text/plain": [
       "<IPython.core.display.SVG object>"
      ]
     },
     "metadata": {},
     "output_type": "display_data"
    }
   ],
   "source": [
    "m(\"[C:1]1([H:31])=[N:2][C:3]([C:4]([C:5]([C:6](/[N:7]=[S:8](\\\\[N:9]([C:10]([C:11]([C:12]([N:13]([c:14]2[n:15][c:16]([H:45])[c:17]([H:46])[c:18]([H:47])[c:19]2[H:48])[C:20]([c:21]2[c:22]([H:51])[c:23]([H:52])[c:24]([Br:25])[c:26]([H:53])[c:27]2[H:54])([H:49])[H:50])([H:43])[H:44])([H:41])[H:42])([H:39])[H:40])[H:38])[C:28]([H:55])([H:56])[H:57])([H:36])[H:37])([H:34])[H:35])([H:32])[H:33])=[C:29]([H:58])[N:30]1[H:59]\")"
   ]
  },
  {
   "cell_type": "code",
   "execution_count": 33,
   "id": "130e7863-f86c-4408-bf71-f97f7e39a8f0",
   "metadata": {},
   "outputs": [],
   "source": [
    "from copy import deepcopy\n",
    "\n",
    "m2 = deepcopy(mol)"
   ]
  },
  {
   "cell_type": "code",
   "execution_count": 36,
   "id": "3e301b43-8099-4b26-b5ca-40a105019130",
   "metadata": {},
   "outputs": [
    {
     "data": {
      "text/plain": [
       "Atom(name=, atomic number=6)"
      ]
     },
     "execution_count": 36,
     "metadata": {},
     "output_type": "execute_result"
    }
   ],
   "source": [
    "m2.atoms.pop(26)"
   ]
  },
  {
   "cell_type": "code",
   "execution_count": 38,
   "id": "492c23ec-9135-4b5c-8bcb-83cbe0de856a",
   "metadata": {},
   "outputs": [],
   "source": [
    "m2._invalidate_cached_properties()"
   ]
  },
  {
   "cell_type": "code",
   "execution_count": 43,
   "id": "4141d35a-7a7e-414b-979d-f0a2f47e42e2",
   "metadata": {
    "scrolled": true
   },
   "outputs": [
    {
     "ename": "ValueError",
     "evalue": "Atom(name=, atomic number=6) is not in list",
     "output_type": "error",
     "traceback": [
      "\u001b[0;31m---------------------------------------------------------------------------\u001b[0m",
      "\u001b[0;31mValueError\u001b[0m                                Traceback (most recent call last)",
      "Cell \u001b[0;32mIn[43], line 1\u001b[0m\n\u001b[0;32m----> 1\u001b[0m \u001b[43mmol_to_svg\u001b[49m\u001b[43m(\u001b[49m\u001b[43mm2\u001b[49m\u001b[43m,\u001b[49m\u001b[43m \u001b[49m\u001b[43m[\u001b[49m\u001b[43m]\u001b[49m\u001b[43m)\u001b[49m\n",
      "Cell \u001b[0;32mIn[22], line 5\u001b[0m, in \u001b[0;36mmol_to_svg\u001b[0;34m(mol, hl_atoms)\u001b[0m\n\u001b[1;32m      4\u001b[0m \u001b[38;5;28;01mdef\u001b[39;00m \u001b[38;5;21mmol_to_svg\u001b[39m(mol: Molecule, hl_atoms) \u001b[38;5;241m-\u001b[39m\u001b[38;5;241m>\u001b[39m \u001b[38;5;28mlist\u001b[39m[\u001b[38;5;28mstr\u001b[39m]:\n\u001b[0;32m----> 5\u001b[0m     mol \u001b[38;5;241m=\u001b[39m \u001b[43mmol\u001b[49m\u001b[38;5;241;43m.\u001b[39;49m\u001b[43mto_rdkit\u001b[49m\u001b[43m(\u001b[49m\u001b[43m)\u001b[49m\n\u001b[1;32m      6\u001b[0m     rdDepictor\u001b[38;5;241m.\u001b[39mSetPreferCoordGen(\u001b[38;5;28;01mTrue\u001b[39;00m)\n\u001b[1;32m      7\u001b[0m     rdDepictor\u001b[38;5;241m.\u001b[39mCompute2DCoords(mol)\n",
      "File \u001b[0;32m~/mambaforge/envs/fb-196-qcnew/lib/python3.10/site-packages/openff/toolkit/topology/molecule.py:4344\u001b[0m, in \u001b[0;36mFrozenMolecule.to_rdkit\u001b[0;34m(self, aromaticity_model, toolkit_registry)\u001b[0m\n\u001b[1;32m   4342\u001b[0m     \u001b[38;5;28;01mreturn\u001b[39;00m toolkit_registry\u001b[38;5;241m.\u001b[39mto_rdkit(\u001b[38;5;28mself\u001b[39m, aromaticity_model\u001b[38;5;241m=\u001b[39maromaticity_model)\n\u001b[1;32m   4343\u001b[0m \u001b[38;5;28;01melse\u001b[39;00m:\n\u001b[0;32m-> 4344\u001b[0m     \u001b[38;5;28;01mreturn\u001b[39;00m \u001b[43mtoolkit_registry\u001b[49m\u001b[38;5;241;43m.\u001b[39;49m\u001b[43mcall\u001b[49m\u001b[43m(\u001b[49m\n\u001b[1;32m   4345\u001b[0m \u001b[43m        \u001b[49m\u001b[38;5;124;43m\"\u001b[39;49m\u001b[38;5;124;43mto_rdkit\u001b[39;49m\u001b[38;5;124;43m\"\u001b[39;49m\u001b[43m,\u001b[49m\u001b[43m \u001b[49m\u001b[38;5;28;43mself\u001b[39;49m\u001b[43m,\u001b[49m\u001b[43m \u001b[49m\u001b[43maromaticity_model\u001b[49m\u001b[38;5;241;43m=\u001b[39;49m\u001b[43maromaticity_model\u001b[49m\n\u001b[1;32m   4346\u001b[0m \u001b[43m    \u001b[49m\u001b[43m)\u001b[49m\n",
      "File \u001b[0;32m~/mambaforge/envs/fb-196-qcnew/lib/python3.10/site-packages/openff/toolkit/utils/toolkit_registry.py:356\u001b[0m, in \u001b[0;36mToolkitRegistry.call\u001b[0;34m(self, method_name, raise_exception_types, *args, **kwargs)\u001b[0m\n\u001b[1;32m    354\u001b[0m             \u001b[38;5;28;01mfor\u001b[39;00m exception_type \u001b[38;5;129;01min\u001b[39;00m raise_exception_types:\n\u001b[1;32m    355\u001b[0m                 \u001b[38;5;28;01mif\u001b[39;00m \u001b[38;5;28misinstance\u001b[39m(e, exception_type):\n\u001b[0;32m--> 356\u001b[0m                     \u001b[38;5;28;01mraise\u001b[39;00m e\n\u001b[1;32m    357\u001b[0m             errors\u001b[38;5;241m.\u001b[39mappend((toolkit, e))\n\u001b[1;32m    359\u001b[0m \u001b[38;5;66;03m# No toolkit was found to provide the requested capability\u001b[39;00m\n\u001b[1;32m    360\u001b[0m \u001b[38;5;66;03m# TODO: Can we help developers by providing a check for typos in expected method names?\u001b[39;00m\n",
      "File \u001b[0;32m~/mambaforge/envs/fb-196-qcnew/lib/python3.10/site-packages/openff/toolkit/utils/toolkit_registry.py:352\u001b[0m, in \u001b[0;36mToolkitRegistry.call\u001b[0;34m(self, method_name, raise_exception_types, *args, **kwargs)\u001b[0m\n\u001b[1;32m    350\u001b[0m method \u001b[38;5;241m=\u001b[39m \u001b[38;5;28mgetattr\u001b[39m(toolkit, method_name)\n\u001b[1;32m    351\u001b[0m \u001b[38;5;28;01mtry\u001b[39;00m:\n\u001b[0;32m--> 352\u001b[0m     \u001b[38;5;28;01mreturn\u001b[39;00m \u001b[43mmethod\u001b[49m\u001b[43m(\u001b[49m\u001b[38;5;241;43m*\u001b[39;49m\u001b[43margs\u001b[49m\u001b[43m,\u001b[49m\u001b[43m \u001b[49m\u001b[38;5;241;43m*\u001b[39;49m\u001b[38;5;241;43m*\u001b[39;49m\u001b[43mkwargs\u001b[49m\u001b[43m)\u001b[49m\n\u001b[1;32m    353\u001b[0m \u001b[38;5;28;01mexcept\u001b[39;00m \u001b[38;5;167;01mException\u001b[39;00m \u001b[38;5;28;01mas\u001b[39;00m e:\n\u001b[1;32m    354\u001b[0m     \u001b[38;5;28;01mfor\u001b[39;00m exception_type \u001b[38;5;129;01min\u001b[39;00m raise_exception_types:\n",
      "File \u001b[0;32m~/mambaforge/envs/fb-196-qcnew/lib/python3.10/site-packages/openff/toolkit/utils/rdkit_wrapper.py:2641\u001b[0m, in \u001b[0;36mRDKitToolkitWrapper.to_rdkit\u001b[0;34m(self, molecule, aromaticity_model)\u001b[0m\n\u001b[1;32m   2635\u001b[0m     \u001b[38;5;28;01mraise\u001b[39;00m InvalidAromaticityModelError(\n\u001b[1;32m   2636\u001b[0m         \u001b[38;5;124mf\u001b[39m\u001b[38;5;124m\"\u001b[39m\u001b[38;5;124mGiven aromaticity model \u001b[39m\u001b[38;5;132;01m{\u001b[39;00maromaticity_model\u001b[38;5;132;01m}\u001b[39;00m\u001b[38;5;124m which is not in the set of allowed aromaticity models: \u001b[39m\u001b[38;5;124m\"\u001b[39m\n\u001b[1;32m   2637\u001b[0m         \u001b[38;5;124mf\u001b[39m\u001b[38;5;124m\"\u001b[39m\u001b[38;5;132;01m{\u001b[39;00mALLOWED_AROMATICITY_MODELS\u001b[38;5;132;01m}\u001b[39;00m\u001b[38;5;124m.\u001b[39m\u001b[38;5;124m\"\u001b[39m\n\u001b[1;32m   2638\u001b[0m     )\n\u001b[1;32m   2640\u001b[0m \u001b[38;5;66;03m# Convert the OFF molecule's connectivity table to RDKit, returning a cached rdmol if possible\u001b[39;00m\n\u001b[0;32m-> 2641\u001b[0m rdmol \u001b[38;5;241m=\u001b[39m \u001b[38;5;28;43mself\u001b[39;49m\u001b[38;5;241;43m.\u001b[39;49m\u001b[43m_connection_table_to_rdkit\u001b[49m\u001b[43m(\u001b[49m\n\u001b[1;32m   2642\u001b[0m \u001b[43m    \u001b[49m\u001b[43mmolecule\u001b[49m\u001b[43m,\u001b[49m\u001b[43m \u001b[49m\u001b[43maromaticity_model\u001b[49m\u001b[38;5;241;43m=\u001b[39;49m\u001b[43maromaticity_model\u001b[49m\n\u001b[1;32m   2643\u001b[0m \u001b[43m\u001b[49m\u001b[43m)\u001b[49m\n\u001b[1;32m   2644\u001b[0m \u001b[38;5;66;03m# In case a cached rdmol was returned, make a copy of it\u001b[39;00m\n\u001b[1;32m   2645\u001b[0m rdmol \u001b[38;5;241m=\u001b[39m Chem\u001b[38;5;241m.\u001b[39mRWMol(rdmol)\n",
      "File \u001b[0;32m~/mambaforge/envs/fb-196-qcnew/lib/python3.10/site-packages/cachetools/__init__.py:732\u001b[0m, in \u001b[0;36mcached.<locals>.decorator.<locals>.wrapper\u001b[0;34m(*args, **kwargs)\u001b[0m\n\u001b[1;32m    731\u001b[0m \u001b[38;5;28;01mdef\u001b[39;00m \u001b[38;5;21mwrapper\u001b[39m(\u001b[38;5;241m*\u001b[39margs, \u001b[38;5;241m*\u001b[39m\u001b[38;5;241m*\u001b[39mkwargs):\n\u001b[0;32m--> 732\u001b[0m     k \u001b[38;5;241m=\u001b[39m \u001b[43mkey\u001b[49m\u001b[43m(\u001b[49m\u001b[38;5;241;43m*\u001b[39;49m\u001b[43margs\u001b[49m\u001b[43m,\u001b[49m\u001b[43m \u001b[49m\u001b[38;5;241;43m*\u001b[39;49m\u001b[38;5;241;43m*\u001b[39;49m\u001b[43mkwargs\u001b[49m\u001b[43m)\u001b[49m\n\u001b[1;32m    733\u001b[0m     \u001b[38;5;28;01mtry\u001b[39;00m:\n\u001b[1;32m    734\u001b[0m         \u001b[38;5;28;01mreturn\u001b[39;00m cache[k]\n",
      "File \u001b[0;32m~/mambaforge/envs/fb-196-qcnew/lib/python3.10/site-packages/openff/toolkit/utils/base_wrapper.py:24\u001b[0m, in \u001b[0;36m_mol_to_ctab_and_aro_key\u001b[0;34m(self, molecule, aromaticity_model)\u001b[0m\n\u001b[1;32m     21\u001b[0m \u001b[38;5;28;01mdef\u001b[39;00m \u001b[38;5;21m_mol_to_ctab_and_aro_key\u001b[39m(\n\u001b[1;32m     22\u001b[0m     \u001b[38;5;28mself\u001b[39m, molecule: \u001b[38;5;124m\"\u001b[39m\u001b[38;5;124mMolecule\u001b[39m\u001b[38;5;124m\"\u001b[39m, aromaticity_model\u001b[38;5;241m=\u001b[39mDEFAULT_AROMATICITY_MODEL\n\u001b[1;32m     23\u001b[0m ) \u001b[38;5;241m-\u001b[39m\u001b[38;5;241m>\u001b[39m \u001b[38;5;28mstr\u001b[39m:\n\u001b[0;32m---> 24\u001b[0m     \u001b[38;5;28;01mreturn\u001b[39;00m \u001b[38;5;124mf\u001b[39m\u001b[38;5;124m\"\u001b[39m\u001b[38;5;132;01m{\u001b[39;00m\u001b[43mmolecule\u001b[49m\u001b[38;5;241;43m.\u001b[39;49m\u001b[43mordered_connection_table_hash\u001b[49m\u001b[43m(\u001b[49m\u001b[43m)\u001b[49m\u001b[38;5;132;01m}\u001b[39;00m\u001b[38;5;124m-\u001b[39m\u001b[38;5;132;01m{\u001b[39;00maromaticity_model\u001b[38;5;132;01m}\u001b[39;00m\u001b[38;5;124m\"\u001b[39m\n",
      "File \u001b[0;32m~/mambaforge/envs/fb-196-qcnew/lib/python3.10/site-packages/openff/toolkit/topology/molecule.py:1201\u001b[0m, in \u001b[0;36mFrozenMolecule.ordered_connection_table_hash\u001b[0;34m(self)\u001b[0m\n\u001b[1;32m   1199\u001b[0m     \u001b[38;5;28mid\u001b[39m \u001b[38;5;241m+\u001b[39m\u001b[38;5;241m=\u001b[39m \u001b[38;5;124mf\u001b[39m\u001b[38;5;124m\"\u001b[39m\u001b[38;5;132;01m{\u001b[39;00matom\u001b[38;5;241m.\u001b[39msymbol\u001b[38;5;132;01m}\u001b[39;00m\u001b[38;5;124m_\u001b[39m\u001b[38;5;132;01m{\u001b[39;00matom\u001b[38;5;241m.\u001b[39mformal_charge\u001b[38;5;132;01m}\u001b[39;00m\u001b[38;5;124m_\u001b[39m\u001b[38;5;132;01m{\u001b[39;00matom\u001b[38;5;241m.\u001b[39mstereochemistry\u001b[38;5;132;01m}\u001b[39;00m\u001b[38;5;124m__\u001b[39m\u001b[38;5;124m\"\u001b[39m\n\u001b[1;32m   1200\u001b[0m \u001b[38;5;28;01mfor\u001b[39;00m bond \u001b[38;5;129;01min\u001b[39;00m \u001b[38;5;28mself\u001b[39m\u001b[38;5;241m.\u001b[39mbonds:\n\u001b[0;32m-> 1201\u001b[0m     \u001b[38;5;28mid\u001b[39m \u001b[38;5;241m+\u001b[39m\u001b[38;5;241m=\u001b[39m \u001b[38;5;124mf\u001b[39m\u001b[38;5;124m\"\u001b[39m\u001b[38;5;132;01m{\u001b[39;00mbond\u001b[38;5;241m.\u001b[39mbond_order\u001b[38;5;132;01m}\u001b[39;00m\u001b[38;5;124m_\u001b[39m\u001b[38;5;132;01m{\u001b[39;00mbond\u001b[38;5;241m.\u001b[39mstereochemistry\u001b[38;5;132;01m}\u001b[39;00m\u001b[38;5;124m_\u001b[39m\u001b[38;5;132;01m{\u001b[39;00mbond\u001b[38;5;241m.\u001b[39matom1_index\u001b[38;5;132;01m}\u001b[39;00m\u001b[38;5;124m_\u001b[39m\u001b[38;5;132;01m{\u001b[39;00m\u001b[43mbond\u001b[49m\u001b[38;5;241;43m.\u001b[39;49m\u001b[43matom2_index\u001b[49m\u001b[38;5;132;01m}\u001b[39;00m\u001b[38;5;124m__\u001b[39m\u001b[38;5;124m\"\u001b[39m\n\u001b[1;32m   1202\u001b[0m \u001b[38;5;66;03m# return hash(id)\u001b[39;00m\n\u001b[1;32m   1203\u001b[0m \u001b[38;5;28mself\u001b[39m\u001b[38;5;241m.\u001b[39m_ordered_connection_table_hash \u001b[38;5;241m=\u001b[39m \u001b[38;5;28mhash\u001b[39m(\u001b[38;5;28mid\u001b[39m)\n",
      "File \u001b[0;32m~/mambaforge/envs/fb-196-qcnew/lib/python3.10/site-packages/openff/toolkit/topology/molecule.py:724\u001b[0m, in \u001b[0;36mBond.atom2_index\u001b[0;34m(self)\u001b[0m\n\u001b[1;32m    722\u001b[0m \u001b[38;5;129m@property\u001b[39m\n\u001b[1;32m    723\u001b[0m \u001b[38;5;28;01mdef\u001b[39;00m \u001b[38;5;21matom2_index\u001b[39m(\u001b[38;5;28mself\u001b[39m) \u001b[38;5;241m-\u001b[39m\u001b[38;5;241m>\u001b[39m \u001b[38;5;28mint\u001b[39m:\n\u001b[0;32m--> 724\u001b[0m     \u001b[38;5;28;01mreturn\u001b[39;00m \u001b[38;5;28;43mself\u001b[39;49m\u001b[38;5;241;43m.\u001b[39;49m\u001b[43mmolecule\u001b[49m\u001b[38;5;241;43m.\u001b[39;49m\u001b[43matoms\u001b[49m\u001b[38;5;241;43m.\u001b[39;49m\u001b[43mindex\u001b[49m\u001b[43m(\u001b[49m\u001b[38;5;28;43mself\u001b[39;49m\u001b[38;5;241;43m.\u001b[39;49m\u001b[43m_atom2\u001b[49m\u001b[43m)\u001b[49m\n",
      "\u001b[0;31mValueError\u001b[0m: Atom(name=, atomic number=6) is not in list"
     ]
    }
   ],
   "source": [
    "mol_to_svg(m2, [])"
   ]
  },
  {
   "cell_type": "code",
   "execution_count": null,
   "id": "99d878c4-ae65-4020-ae1f-7278e58e0406",
   "metadata": {},
   "outputs": [],
   "source": []
  }
 ],
 "metadata": {
  "kernelspec": {
   "display_name": "Python 3 (ipykernel)",
   "language": "python",
   "name": "python3"
  },
  "language_info": {
   "codemirror_mode": {
    "name": "ipython",
    "version": 3
   },
   "file_extension": ".py",
   "mimetype": "text/x-python",
   "name": "python",
   "nbconvert_exporter": "python",
   "pygments_lexer": "ipython3",
   "version": "3.10.13"
  }
 },
 "nbformat": 4,
 "nbformat_minor": 5
}
