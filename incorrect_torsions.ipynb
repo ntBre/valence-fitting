{
 "cells": [
  {
   "cell_type": "code",
   "execution_count": 3,
   "id": "3efc5f13-0e4b-4e66-9861-a1f83dadf8c7",
   "metadata": {},
   "outputs": [
    {
     "data": {
      "text/plain": [
       "27"
      ]
     },
     "execution_count": 3,
     "metadata": {},
     "output_type": "execute_result"
    }
   ],
   "source": [
    "# \"interesting\" parameter IDs identified by Pavan and Meghan\n",
    "targets = [ \"t73\", \"t58\", \"t121\", \"t122\", \"t116\", \"t118\", \"t115\",\n",
    " \"t83\", \"t82\", \"t74\", \"t119\", \"t72\", \"t71\", \"t120\", \"t166\", \"t132\",\n",
    " \"t133\", \"t130\", \"t143\", \"t59\", \"t60\", \"t62\", \"t61\", \"t127\", \"t157\",\n",
    " \"t167\", \"t142\",\n",
    "]\n",
    "len(targets)"
   ]
  },
  {
   "cell_type": "code",
   "execution_count": 4,
   "id": "1ca65609-87bd-427d-bd3b-ee77556aabdf",
   "metadata": {},
   "outputs": [],
   "source": [
    "from openff.toolkit import ForceField\n",
    "\n",
    "sage20 = ForceField(\"openff-2.0.0.offxml\")\n",
    "sage21 = ForceField(\"openff-2.1.0.offxml\")"
   ]
  },
  {
   "cell_type": "markdown",
   "id": "43b6b739-e3f8-4470-841b-442afe2cee3f",
   "metadata": {},
   "source": [
    "pavan and meghan identified these interesting parameters \n",
    "based on Sage 2.0.0, so my first step was porting their\n",
    "force field changes from 2.0 to 2.1. I did this automatically\n",
    "just by looking at parameter ID sets between pavan and 2.0 and\n",
    "pavan and 2.1, but I think this was too simplistic.\n",
    "\n",
    "It's not enough to compare IDs and hope they are the same. It's not\n",
    "even really enough to compare SMIRKS patterns as I tried in my first\n",
    "attempt. We need to make sure things like the phase and periodicity\n",
    "are also the same, but changes to the parameter values (k) have to\n",
    "be allowed."
   ]
  },
  {
   "cell_type": "code",
   "execution_count": 5,
   "id": "fe040874-ada2-442e-8889-961dba922c83",
   "metadata": {},
   "outputs": [],
   "source": [
    "tors20 = sage20.get_parameter_handler(\"ProperTorsions\")\n",
    "tors21 = sage21.get_parameter_handler(\"ProperTorsions\")"
   ]
  },
  {
   "cell_type": "code",
   "execution_count": 10,
   "id": "5dba4fe4-9fd1-4456-9fdf-1ecb5d3ce43c",
   "metadata": {},
   "outputs": [],
   "source": [
    "int_tors20 = {t.id: t for t in tors20 if t.id in targets}\n",
    "int_tors21 = {t.id: t for t in tors21 if t.id in targets}"
   ]
  },
  {
   "cell_type": "code",
   "execution_count": 7,
   "id": "3bc00348-7151-430b-ae48-1a1d334981e9",
   "metadata": {},
   "outputs": [
    {
     "data": {
      "text/plain": [
       "27"
      ]
     },
     "execution_count": 7,
     "metadata": {},
     "output_type": "execute_result"
    }
   ],
   "source": [
    "len(int_tors20)"
   ]
  },
  {
   "cell_type": "code",
   "execution_count": 8,
   "id": "b76b2fef-93f0-41cc-8952-f3e8633b14ef",
   "metadata": {},
   "outputs": [
    {
     "data": {
      "text/plain": [
       "27"
      ]
     },
     "execution_count": 8,
     "metadata": {},
     "output_type": "execute_result"
    }
   ],
   "source": [
    "len(int_tors21)"
   ]
  },
  {
   "cell_type": "markdown",
   "id": "f9db8667-7b6d-4a37-86e9-234c8f921b79",
   "metadata": {},
   "source": [
    "Despite what I wrote above, an initial search for different smirks\n",
    "does make sense."
   ]
  },
  {
   "cell_type": "code",
   "execution_count": 13,
   "id": "2e8301e1-7799-453e-bf61-9bf855286693",
   "metadata": {},
   "outputs": [
    {
     "name": "stdout",
     "output_type": "stream",
     "text": [
      "t130\n",
      "[*:1]-[#7X4,#7X3:2]-[#7X4,#7X3:3]-[*:4]\n",
      "[*:1]~[#7X4,#7X3:2]-[#7X4,#7X3:3]~[*:4]\n"
     ]
    }
   ],
   "source": [
    "for id, param in int_tors20.items():\n",
    "    smirks20 = param.smirks\n",
    "    smirks21 = int_tors21[id].smirks\n",
    "    if smirks20 != smirks21:\n",
    "        print(id)\n",
    "        print(smirks20)\n",
    "        print(smirks21)"
   ]
  },
  {
   "cell_type": "markdown",
   "id": "80766a07-c65e-4820-bb03-ee65ffaac6b8",
   "metadata": {},
   "source": [
    "now let's see if stripping out the k parameters is enough to get equality"
   ]
  },
  {
   "cell_type": "code",
   "execution_count": 23,
   "id": "6ae591a2-d211-4e98-a15b-260fc424167c",
   "metadata": {},
   "outputs": [
    {
     "name": "stdout",
     "output_type": "stream",
     "text": [
      "False\n"
     ]
    },
    {
     "data": {
      "text/plain": [
       "(<ProperTorsionType with smirks: [*:1]~[#7X3,#7X2-1:2]-[#6X3:3]~[*:4]  periodicity1: 2  phase1: 180.0 degree  id: t73  idivf1: 1.0  >,\n",
       " <ProperTorsionType with smirks: [*:1]~[#7X3,#7X2-1:2]-[#6X3:3]~[*:4]  periodicity1: 2  phase1: 180.0 degree  id: t73  idivf1: 1.0  >)"
      ]
     },
     "execution_count": 23,
     "metadata": {},
     "output_type": "execute_result"
    }
   ],
   "source": [
    "int_tors20[\"t73\"].k = []\n",
    "int_tors21[\"t73\"].k = []\n",
    "print(int_tors20[\"t73\"] == int_tors21[\"t73\"])\n",
    "int_tors20[\"t73\"], int_tors21[\"t73\"]"
   ]
  },
  {
   "cell_type": "markdown",
   "id": "7dbc9490-9c4e-48f2-8339-5cf62ec9efb2",
   "metadata": {},
   "source": [
    "not sure why this doesn't work, probably something that isn't printed...\n",
    "just manually check the fields that we care about: id, smirks, periodicity, phase, and idivf"
   ]
  },
  {
   "cell_type": "code",
   "execution_count": 27,
   "id": "d4baa3b6-7b11-4915-a699-8f7846d9e6f5",
   "metadata": {},
   "outputs": [],
   "source": [
    "def eq(p1, p2):\n",
    "    return p1.id == p2.id and p1.smirks == p2.smirks and p1.periodicity == p2.periodicity and p1.phase == p2.phase and p1.idivf == p2.idivf"
   ]
  },
  {
   "cell_type": "code",
   "execution_count": 28,
   "id": "7a7eb4de-5252-4191-bd03-399ef702a7a2",
   "metadata": {},
   "outputs": [
    {
     "data": {
      "text/plain": [
       "True"
      ]
     },
     "execution_count": 28,
     "metadata": {},
     "output_type": "execute_result"
    }
   ],
   "source": [
    "eq(int_tors20[\"t73\"], int_tors21[\"t73\"])"
   ]
  },
  {
   "cell_type": "code",
   "execution_count": 30,
   "id": "fec76264-f41c-4ce2-a419-a845dd0ed9d0",
   "metadata": {},
   "outputs": [
    {
     "name": "stdout",
     "output_type": "stream",
     "text": [
      "t130\n",
      "t143\n",
      "t157\n"
     ]
    }
   ],
   "source": [
    "for id, param in int_tors20.items():\n",
    "    smirks20 = param\n",
    "    smirks21 = int_tors21[id]\n",
    "    if not eq(smirks20, smirks21):\n",
    "        print(id)"
   ]
  },
  {
   "cell_type": "markdown",
   "id": "0e5932ea-5fa9-47fd-9a11-bdfa631657da",
   "metadata": {},
   "source": [
    "now we have some IDs to look more closely at"
   ]
  },
  {
   "cell_type": "code",
   "execution_count": 32,
   "id": "540865fd-3d8b-495d-9d64-4eaa006f164c",
   "metadata": {},
   "outputs": [],
   "source": [
    "def diff(p1, p2):\n",
    "    for attr in [\"id\", \"smirks\", \"periodicity\", \"phase\", \"idivf\"]:\n",
    "        if getattr(p1, attr) != getattr(p2, attr):\n",
    "            return attr\n",
    "    return None"
   ]
  },
  {
   "cell_type": "code",
   "execution_count": 33,
   "id": "6dd49dd8-93de-480c-9724-6c95d771b4f4",
   "metadata": {},
   "outputs": [
    {
     "data": {
      "text/plain": [
       "'smirks'"
      ]
     },
     "execution_count": 33,
     "metadata": {},
     "output_type": "execute_result"
    }
   ],
   "source": [
    "diff(int_tors20[\"t130\"], int_tors21[\"t130\"])"
   ]
  },
  {
   "cell_type": "code",
   "execution_count": 34,
   "id": "e53746b2-0529-4326-b20e-0c1db895e0d3",
   "metadata": {},
   "outputs": [],
   "source": [
    "def qdiff(pid): return diff(int_tors20[pid], int_tors21[pid])"
   ]
  },
  {
   "cell_type": "code",
   "execution_count": 35,
   "id": "2716b48a-fe46-439a-a9bf-03be4f50fb50",
   "metadata": {},
   "outputs": [
    {
     "data": {
      "text/plain": [
       "'smirks'"
      ]
     },
     "execution_count": 35,
     "metadata": {},
     "output_type": "execute_result"
    }
   ],
   "source": [
    "qdiff(\"t130\")"
   ]
  },
  {
   "cell_type": "code",
   "execution_count": 36,
   "id": "1aad6505-533d-4c6e-83f7-c5eb809422bf",
   "metadata": {},
   "outputs": [
    {
     "data": {
      "text/plain": [
       "'periodicity'"
      ]
     },
     "execution_count": 36,
     "metadata": {},
     "output_type": "execute_result"
    }
   ],
   "source": [
    "qdiff(\"t143\")"
   ]
  },
  {
   "cell_type": "code",
   "execution_count": 37,
   "id": "33c82574-c0eb-4413-a06f-30c929bcd443",
   "metadata": {},
   "outputs": [
    {
     "data": {
      "text/plain": [
       "'periodicity'"
      ]
     },
     "execution_count": 37,
     "metadata": {},
     "output_type": "execute_result"
    }
   ],
   "source": [
    "qdiff(\"t157\")"
   ]
  },
  {
   "cell_type": "code",
   "execution_count": 39,
   "id": "99fe019e-4cab-449d-87c3-97028ea1732e",
   "metadata": {},
   "outputs": [
    {
     "data": {
      "text/plain": [
       "<ProperTorsionType with smirks: [*:1]~[#16X4,#16X3+0:2]-[#7:3]~[*:4]  periodicity1: 1  phase1: 0.0 degree  id: t143  k1: 2.229703816414 kilocalorie / mole  idivf1: 1.0  >"
      ]
     },
     "execution_count": 39,
     "metadata": {},
     "output_type": "execute_result"
    }
   ],
   "source": [
    "int_tors20[\"t143\"]"
   ]
  },
  {
   "cell_type": "code",
   "execution_count": 40,
   "id": "50e132e8-8d91-4500-986a-87e130a7eabc",
   "metadata": {},
   "outputs": [
    {
     "data": {
      "text/plain": [
       "<ProperTorsionType with smirks: [*:1]~[#16X4,#16X3+0:2]-[#7:3]~[*:4]  periodicity1: 1  periodicity2: 2  periodicity3: 3  phase1: 180.0 degree  phase2: 0.0 degree  phase3: 0.0 degree  id: t143  k1: -1.6882659825 kilocalorie / mole  k2: 0.3191499888753 kilocalorie / mole  k3: 0.2193673170111 kilocalorie / mole  idivf1: 1.0  idivf2: 1.0  idivf3: 1.0  >"
      ]
     },
     "execution_count": 40,
     "metadata": {},
     "output_type": "execute_result"
    }
   ],
   "source": [
    "int_tors21[\"t143\"]"
   ]
  },
  {
   "cell_type": "markdown",
   "id": "9181674e-2bc4-409d-b1b4-2f6127b2b5a7",
   "metadata": {},
   "source": [
    "# Conclusion\n",
    "These changes are all fairly simple and described in the Sage 2.1.0 readme. t130 had a small smirks change\n",
    "that doesn't affect the multiplicity stuff, and t143 and t157 had additional periodicities added. In every case\n",
    "it should be safe to take the Sage 2.1.0 parameter as the base value and start splitting from there"
   ]
  },
  {
   "cell_type": "markdown",
   "id": "bb210486-64ac-4252-aaa1-9a3ea32f6f96",
   "metadata": {},
   "source": [
    "# Porting changes\n",
    "\n",
    "With that out of the way, let's see which changes Pavan and Meghan already included in their force field."
   ]
  },
  {
   "cell_type": "code",
   "execution_count": 42,
   "id": "9bfe1015-0cda-4f2b-b2a7-85dec7463383",
   "metadata": {},
   "outputs": [],
   "source": [
    "pavan = ForceField(\"01_generate-forcefield/force-field.offxml\", allow_cosmetic_attributes=True)"
   ]
  },
  {
   "cell_type": "code",
   "execution_count": 59,
   "id": "d886f009-a91f-4d05-90c0-d024b51ed208",
   "metadata": {},
   "outputs": [
    {
     "data": {
      "text/plain": [
       "{'t116a',\n",
       " 't116b',\n",
       " 't116c',\n",
       " 't118a',\n",
       " 't121a',\n",
       " 't122a',\n",
       " 't122b',\n",
       " 't122c',\n",
       " 't122d',\n",
       " 't122e',\n",
       " 't122f',\n",
       " 't130a',\n",
       " 't130b',\n",
       " 't130c',\n",
       " 't130d',\n",
       " 't132a',\n",
       " 't132b',\n",
       " 't132c',\n",
       " 't132d',\n",
       " 't133a',\n",
       " 't142a',\n",
       " 't142b',\n",
       " 't142c',\n",
       " 't142d',\n",
       " 't142e',\n",
       " 't142f',\n",
       " 't143a',\n",
       " 't143b',\n",
       " 't143c',\n",
       " 't143d',\n",
       " 't143e',\n",
       " 't143f',\n",
       " 't157a',\n",
       " 't73a',\n",
       " 't74a',\n",
       " 't82a',\n",
       " 't83a'}"
      ]
     },
     "execution_count": 59,
     "metadata": {},
     "output_type": "execute_result"
    }
   ],
   "source": [
    "torspv = {t.id for t in pavan.get_parameter_handler(\"ProperTorsions\")}\n",
    "tors20 = {t.id for t in sage20.get_parameter_handler(\"ProperTorsions\")}\n",
    "torspv - tors20"
   ]
  },
  {
   "cell_type": "code",
   "execution_count": 54,
   "id": "fb107d1c-facf-445d-92ca-8b35f8b2a00e",
   "metadata": {},
   "outputs": [
    {
     "data": {
      "text/plain": [
       "{'t122', 't130', 't132', 't142', 't143'}"
      ]
     },
     "execution_count": 54,
     "metadata": {},
     "output_type": "execute_result"
    }
   ],
   "source": [
    "tors20 - torspv"
   ]
  },
  {
   "cell_type": "markdown",
   "id": "96ad3c8b-e254-4151-bc1c-c13437e81cff",
   "metadata": {},
   "source": [
    "I was actually expecting this set to be empty. Apparently in some cases they deleted the parent parameter, while in other cases \n",
    "(most cases) they preserved the parent and added child parameters\n",
    "\n",
    "What I want to do here is go through each of the interesting parameters and split them by hand. Unfortunately, looking\n",
    "at the XML files directly is very noisy, so I will probably work on some shell scripts to pull out the interesting parts\n",
    "of the lines."
   ]
  },
  {
   "cell_type": "code",
   "execution_count": 58,
   "id": "c7542ebf-b737-47f3-a30e-a22a475144b2",
   "metadata": {},
   "outputs": [
    {
     "ename": "KeyError",
     "evalue": "'t58a'",
     "output_type": "error",
     "traceback": [
      "\u001b[0;31m---------------------------------------------------------------------------\u001b[0m",
      "\u001b[0;31mKeyError\u001b[0m                                  Traceback (most recent call last)",
      "Cell \u001b[0;32mIn[58], line 2\u001b[0m\n\u001b[1;32m      1\u001b[0m torspv \u001b[38;5;241m=\u001b[39m {t\u001b[38;5;241m.\u001b[39mid: t\u001b[38;5;241m.\u001b[39msmirks \u001b[38;5;28;01mfor\u001b[39;00m t \u001b[38;5;129;01min\u001b[39;00m pavan\u001b[38;5;241m.\u001b[39mget_parameter_handler(\u001b[38;5;124m\"\u001b[39m\u001b[38;5;124mProperTorsions\u001b[39m\u001b[38;5;124m\"\u001b[39m)}\n\u001b[0;32m----> 2\u001b[0m \u001b[43mtorspv\u001b[49m\u001b[43m[\u001b[49m\u001b[38;5;124;43m\"\u001b[39;49m\u001b[38;5;124;43mt58a\u001b[39;49m\u001b[38;5;124;43m\"\u001b[39;49m\u001b[43m]\u001b[49m\n",
      "\u001b[0;31mKeyError\u001b[0m: 't58a'"
     ]
    }
   ],
   "source": [
    "torspv = {t.id: t.smirks for t in pavan.get_parameter_handler(\"ProperTorsions\")}\n",
    "torspv[\"t58\"]"
   ]
  },
  {
   "cell_type": "code",
   "execution_count": null,
   "id": "7f63b895-0522-41d3-b400-0773fe8adace",
   "metadata": {},
   "outputs": [],
   "source": []
  }
 ],
 "metadata": {
  "kernelspec": {
   "display_name": "Python 3 (ipykernel)",
   "language": "python",
   "name": "python3"
  },
  "language_info": {
   "codemirror_mode": {
    "name": "ipython",
    "version": 3
   },
   "file_extension": ".py",
   "mimetype": "text/x-python",
   "name": "python",
   "nbconvert_exporter": "python",
   "pygments_lexer": "ipython3",
   "version": "3.11.4"
  }
 },
 "nbformat": 4,
 "nbformat_minor": 5
}
